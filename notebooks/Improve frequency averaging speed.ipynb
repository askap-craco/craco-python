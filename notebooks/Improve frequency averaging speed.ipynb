{
 "cells": [
  {
   "cell_type": "markdown",
   "id": "89bf5e01",
   "metadata": {},
   "source": [
    "# Improve craco.prepare.freqavg speed\n",
    "\n",
    "We get data from ASKAP correlator \"cards\". Each card contains 6 FPGAs. FPGAs send data with ROCE protocol, which means each FPGA sends data independently to 1 numpy buffer per FPGA. \n",
    "\n",
    "The numpy buffer is laid out in an unusual way\n",
    "\n",
    "Each FPGA sends all 36 beams  and 4 channels. The 4 channels are *not* contiguous.\n",
    "\n",
    "We want to average the correct channels from each for the 6 fpgas to produce 4 output channels per card.\n",
    "\n",
    "(In future we'd might like to do some dedispersion here too, but that's another story).\n",
    "\n",
    "FPGAs produces int16 numbers. Ideally we'd average in a larger number of bits (float32 or int32) and then rescale back to int16, as we have limited network bandwidth for hte next beam (an MPI allToall).\n",
    "\n",
    "The frequency averaging step must complete in much less than 110 milliseconds. You can use up to 4 cores.\n",
    "\n",
    "My finding is that numpy is OK at doing the frequency averaging, but the rescaling is hopelessly slow.\n",
    "\n",
    "Cache misses are probably the cause of poor performance.  Re-ordering the order of summation would likely help.\n",
    "\n",
    "Pavan: I'd like to make this optimised. It's currently too slow, especially the rescaling.\n",
    "\n",
    "I'd prefer not to use FORTRAN as no-one else knows how to maintain it.\n",
    "\n",
    "We have NUMBA running on the cluster, so don't be afraid to try that. I'm not concerned about packaging.\n",
    "\n",
    "You can try pythran or other packages.\n",
    "\n",
    "Something that let's you easily use multiple cores is fine. I strongly suspect a lot can be gained with careful use of the cache.\n",
    "\n"
   ]
  },
  {
   "cell_type": "code",
   "execution_count": 1,
   "id": "4c97cc75",
   "metadata": {
    "scrolled": true
   },
   "outputs": [],
   "source": [
    "from craco.prepare import *"
   ]
  },
  {
   "cell_type": "code",
   "execution_count": 2,
   "id": "603c2770",
   "metadata": {},
   "outputs": [],
   "source": [
    "import craco.prepare\n",
    "craco.prepare?"
   ]
  },
  {
   "cell_type": "code",
   "execution_count": 3,
   "id": "9b40b814",
   "metadata": {},
   "outputs": [
    {
     "name": "stdout",
     "output_type": "stream",
     "text": [
      "About to make 18 times (144, 64, 435, 2) data\n",
      "Mask 0xfffff has 20 beams\n",
      "Total Mbytes=288.64512 Requires GFlops=2.6240465454545454\n"
     ]
    }
   ],
   "source": [
    "# The input data always contains 36 beams (reasons)\n",
    "# The output data will only be a subset (usually 20)\n",
    "# We specifiy a beam mask which contains 1 where if we want that beam\n",
    "# 0xfffff is the first 20 beams\n",
    "\n",
    "beam_mask = 0xfffff\n",
    "nbeams_out = 0\n",
    "\n",
    "# count number of ones in the beam mask\n",
    "for b in range(36):\n",
    "    if (beam_mask >> b) & 1 == 1:\n",
    "        nbeams_out += 1\n",
    "\n",
    "nprocbeams = nbeams_out \n",
    "ncards_total = 6*12 #total numbe of cards we need to receive from 20 MPI processes\n",
    "ncards = ncards_total // nprocbeams # number of cards *this* process is receivng data from\n",
    "nfpga = 6*ncards\n",
    "data = [] # As we receive blocks of data over ROCE, we don't get a congiguous numpy array, but rather a list\n",
    "nt = 64 # nuber of samples per beamformer frame\n",
    "nbl = 435 # 30 antennas\n",
    "tframe = 0.110 # seconds = time it takes to transmit nt samples. WE NEED TO COMPLETE THE PROCESSING IN MUCH LESS THAN THIS!\n",
    "dshape = (nbeams*ncoarse_channels,  nt, nbl, 2)\n",
    "print(f'About to make {nfpga} times {dshape} data')\n",
    "for f in range(nfpga):\n",
    "    data.append(np.arange(np.prod(dshape), dtype=np.int16).reshape(dshape))\n",
    "\n",
    "nel = np.prod(dshape)\n",
    "nbytes = nel*2\n",
    "\n",
    "\n",
    "print(f'Mask 0x{beam_mask:x} has {nbeams_out} beams')\n",
    "\n",
    "print(f'Total Mbytes={nbytes*nfpga/1e6} Requires GFlops={nel*nfpga*(2)/1e9/tframe}') # complx multiply plus a couple of adds\n"
   ]
  },
  {
   "cell_type": "code",
   "execution_count": 4,
   "id": "f2e7ba49",
   "metadata": {},
   "outputs": [],
   "source": [
    "output_nchan = nfpga*ncoarse_channels\n",
    "input_nchan = nfpga*ncoarse_channels*nfine_channels\n",
    "\n",
    "# Example channel map. A real one will be more complicated\n",
    "channel_map = np.arange((nfpga*ncoarse_channels), dtype=np.int32).reshape(nfpga,ncoarse_channels)\n"
   ]
  },
  {
   "cell_type": "code",
   "execution_count": 5,
   "id": "ec89c5b0",
   "metadata": {},
   "outputs": [
    {
     "data": {
      "text/plain": [
       "[(0, 0, 0, 0),\n",
       " (0, 1, 1, 1),\n",
       " (0, 2, 2, 2),\n",
       " (0, 3, 3, 3),\n",
       " (0, 4, 4, 4),\n",
       " (0, 5, 5, 5),\n",
       " (0, 6, 6, 6),\n",
       " (0, 7, 7, 7),\n",
       " (0, 8, 8, 8),\n",
       " (0, 9, 9, 9),\n",
       " (0, 10, 10, 10),\n",
       " (0, 11, 11, 11),\n",
       " (0, 12, 12, 12),\n",
       " (0, 13, 13, 13),\n",
       " (0, 14, 14, 14),\n",
       " (0, 15, 15, 15),\n",
       " (0, 16, 16, 16),\n",
       " (0, 17, 17, 17),\n",
       " (0, 18, 18, 18),\n",
       " (0, 19, 19, 19),\n",
       " (1, 0, 0, 32),\n",
       " (1, 1, 1, 33),\n",
       " (1, 2, 2, 34),\n",
       " (1, 3, 3, 35),\n",
       " (1, 4, 4, 36),\n",
       " (1, 5, 5, 37),\n",
       " (1, 6, 6, 38),\n",
       " (1, 7, 7, 39),\n",
       " (1, 8, 8, 40),\n",
       " (1, 9, 9, 41),\n",
       " (1, 10, 10, 42),\n",
       " (1, 11, 11, 43),\n",
       " (1, 12, 12, 44),\n",
       " (1, 13, 13, 45),\n",
       " (1, 14, 14, 46),\n",
       " (1, 15, 15, 47),\n",
       " (1, 16, 16, 48),\n",
       " (1, 17, 17, 49),\n",
       " (1, 18, 18, 50),\n",
       " (1, 19, 19, 51),\n",
       " (2, 0, 0, 64),\n",
       " (2, 1, 1, 65),\n",
       " (2, 2, 2, 66),\n",
       " (2, 3, 3, 67),\n",
       " (2, 4, 4, 68),\n",
       " (2, 5, 5, 69),\n",
       " (2, 6, 6, 70),\n",
       " (2, 7, 7, 71),\n",
       " (2, 8, 8, 72),\n",
       " (2, 9, 9, 73),\n",
       " (2, 10, 10, 74),\n",
       " (2, 11, 11, 75),\n",
       " (2, 12, 12, 76),\n",
       " (2, 13, 13, 77),\n",
       " (2, 14, 14, 78),\n",
       " (2, 15, 15, 79),\n",
       " (2, 16, 16, 80),\n",
       " (2, 17, 17, 81),\n",
       " (2, 18, 18, 82),\n",
       " (2, 19, 19, 83),\n",
       " (3, 0, 0, 96),\n",
       " (3, 1, 1, 97),\n",
       " (3, 2, 2, 98),\n",
       " (3, 3, 3, 99),\n",
       " (3, 4, 4, 100),\n",
       " (3, 5, 5, 101),\n",
       " (3, 6, 6, 102),\n",
       " (3, 7, 7, 103),\n",
       " (3, 8, 8, 104),\n",
       " (3, 9, 9, 105),\n",
       " (3, 10, 10, 106),\n",
       " (3, 11, 11, 107),\n",
       " (3, 12, 12, 108),\n",
       " (3, 13, 13, 109),\n",
       " (3, 14, 14, 110),\n",
       " (3, 15, 15, 111),\n",
       " (3, 16, 16, 112),\n",
       " (3, 17, 17, 113),\n",
       " (3, 18, 18, 114),\n",
       " (3, 19, 19, 115)]"
      ]
     },
     "execution_count": 5,
     "metadata": {},
     "output_type": "execute_result"
    }
   ],
   "source": [
    "list(coarse_beam_gen(beam_mask))"
   ]
  },
  {
   "cell_type": "code",
   "execution_count": 6,
   "id": "8ca3b1f4",
   "metadata": {},
   "outputs": [],
   "source": [
    "freqavg?"
   ]
  },
  {
   "cell_type": "code",
   "execution_count": 7,
   "id": "72838360",
   "metadata": {
    "scrolled": true
   },
   "outputs": [
    {
     "name": "stdout",
     "output_type": "stream",
     "text": [
      "83.8 ms ± 4.62 ms per loop (mean ± std. dev. of 7 runs, 1 loop each)\n"
     ]
    }
   ],
   "source": [
    "accum = np.zeros((nbeams_out, output_nchan, nt, nbl, 2), dtype=np.int32)\n",
    "output_data = np.zeros((nbeams_out, output_nchan, nt, nbl, 2), dtype=np.int16)\n",
    "scale=6\n",
    "\n",
    "# freqavg seems fast enough, if we accmulate into np.int32.\n",
    "# on my setup it takes 79ms for 20 beams. It needs to be < 110 ms.\n",
    "%timeit _ = freqavg(data, channel_map, accum, beam_mask=beam_mask)"
   ]
  },
  {
   "cell_type": "code",
   "execution_count": 8,
   "id": "1defd998",
   "metadata": {},
   "outputs": [
    {
     "name": "stdout",
     "output_type": "stream",
     "text": [
      "499 ms ± 2.59 ms per loop (mean ± std. dev. of 7 runs, 1 loop each)\n"
     ]
    }
   ],
   "source": [
    "# Rescaling takes a *MUCH* longer!\n",
    "\n",
    "%timeit rescale(accum, output_data, scale)"
   ]
  },
  {
   "cell_type": "code",
   "execution_count": 9,
   "id": "723fe880",
   "metadata": {},
   "outputs": [
    {
     "name": "stdout",
     "output_type": "stream",
     "text": [
      "33.6 ms ± 1.45 ms per loop (mean ± std. dev. of 7 runs, 10 loops each)\n"
     ]
    }
   ],
   "source": [
    "# Even resetting to zero takesa  along time\n",
    "%timeit accum[:] = 0"
   ]
  },
  {
   "cell_type": "code",
   "execution_count": 10,
   "id": "8cf20d44",
   "metadata": {},
   "outputs": [
    {
     "name": "stdout",
     "output_type": "stream",
     "text": [
      "Output size is 320.7168 MByte Achieved data rate is roughtly 9.60 GByte/sec\n"
     ]
    }
   ],
   "source": [
    "nbytes = accum.size*accum.itemsize\n",
    "print(f'Output size is {nbytes/1e6} MByte Achieved data rate is roughtly {nbytes/0.0334/1e9:.2f} GByte/sec')"
   ]
  },
  {
   "cell_type": "code",
   "execution_count": 11,
   "id": "3cd97814",
   "metadata": {},
   "outputs": [
    {
     "name": "stdout",
     "output_type": "stream",
     "text": [
      "79.2 ms ± 303 µs per loop (mean ± std. dev. of 7 runs, 10 loops each)\n"
     ]
    }
   ],
   "source": [
    "# Must allocating and zering the array doesn't take much longer\n",
    "%timeit np.zeros_like(accum)"
   ]
  },
  {
   "cell_type": "code",
   "execution_count": 12,
   "id": "abe4cb69",
   "metadata": {},
   "outputs": [],
   "source": [
    "coarse_beam_gen?"
   ]
  },
  {
   "cell_type": "code",
   "execution_count": 13,
   "id": "2cd22293",
   "metadata": {},
   "outputs": [
    {
     "data": {
      "text/plain": [
       "[(0, 0, 0, 0), (1, 0, 0, 32), (2, 0, 0, 64), (3, 0, 0, 96)]"
      ]
     },
     "execution_count": 13,
     "metadata": {},
     "output_type": "execute_result"
    }
   ],
   "source": [
    "# play with coarse_beam_gen\n",
    "list(coarse_beam_gen(0x1))"
   ]
  },
  {
   "cell_type": "code",
   "execution_count": 14,
   "id": "4d673193",
   "metadata": {},
   "outputs": [
    {
     "data": {
      "text/plain": [
       "[(0, 0, 0, 0),\n",
       " (0, 1, 1, 1),\n",
       " (1, 0, 0, 32),\n",
       " (1, 1, 1, 33),\n",
       " (2, 0, 0, 64),\n",
       " (2, 1, 1, 65),\n",
       " (3, 0, 0, 96),\n",
       " (3, 1, 1, 97)]"
      ]
     },
     "execution_count": 14,
     "metadata": {},
     "output_type": "execute_result"
    }
   ],
   "source": [
    "list(coarse_beam_gen(0x3))"
   ]
  },
  {
   "cell_type": "code",
   "execution_count": 15,
   "id": "77e0712d",
   "metadata": {},
   "outputs": [
    {
     "data": {
      "text/plain": [
       "[(0, 0, 31, 31),\n",
       " (1, 0, 31, 63),\n",
       " (2, 0, 31, 95),\n",
       " (3, 0, 31, 127),\n",
       " (0, 1, 32, 128),\n",
       " (1, 1, 32, 132),\n",
       " (2, 1, 32, 136),\n",
       " (3, 1, 32, 140)]"
      ]
     },
     "execution_count": 15,
     "metadata": {},
     "output_type": "execute_result"
    }
   ],
   "source": [
    "list(coarse_beam_gen(0x180000000))"
   ]
  },
  {
   "cell_type": "code",
   "execution_count": 16,
   "id": "3dfe51d6",
   "metadata": {},
   "outputs": [
    {
     "ename": "NameError",
     "evalue": "name 'coarse_beam' is not defined",
     "output_type": "error",
     "traceback": [
      "\u001b[0;31m---------------------------------------------------------------------------\u001b[0m",
      "\u001b[0;31mNameError\u001b[0m                                 Traceback (most recent call last)",
      "\u001b[0;32m<ipython-input-16-2a93d4af9470>\u001b[0m in \u001b[0;36m<module>\u001b[0;34m\u001b[0m\n\u001b[0;32m----> 1\u001b[0;31m \u001b[0mcoarse_beam\u001b[0m\u001b[0;34m\u001b[0m\u001b[0;34m\u001b[0m\u001b[0m\n\u001b[0m",
      "\u001b[0;31mNameError\u001b[0m: name 'coarse_beam' is not defined"
     ]
    }
   ],
   "source": [
    "coarse_beam"
   ]
  }
 ],
 "metadata": {
  "kernelspec": {
   "display_name": "venv",
   "language": "python",
   "name": "venv"
  },
  "language_info": {
   "codemirror_mode": {
    "name": "ipython",
    "version": 3
   },
   "file_extension": ".py",
   "mimetype": "text/x-python",
   "name": "python",
   "nbconvert_exporter": "python",
   "pygments_lexer": "ipython3",
   "version": "3.6.9"
  }
 },
 "nbformat": 4,
 "nbformat_minor": 5
}
