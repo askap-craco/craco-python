{
 "cells": [
  {
   "cell_type": "markdown",
   "id": "e58d7363-8af0-49e0-872a-bf2062377094",
   "metadata": {},
   "source": [
    "\n",
    "Global sky temperature for cassata\n"
   ]
  },
  {
   "cell_type": "code",
   "execution_count": null,
   "id": "83ffbff2-6c67-4f61-8d5b-bd9e130fa3f6",
   "metadata": {},
   "outputs": [],
   "source": []
  }
 ],
 "metadata": {
  "kernelspec": {
   "display_name": "Python 3 (ipykernel)",
   "language": "python",
   "name": "python3"
  },
  "language_info": {
   "codemirror_mode": {
    "name": "ipython",
    "version": 3
   },
   "file_extension": ".py",
   "mimetype": "text/x-python",
   "name": "python",
   "nbconvert_exporter": "python",
   "pygments_lexer": "ipython3",
   "version": "3.10.13"
  }
 },
 "nbformat": 4,
 "nbformat_minor": 5
}
