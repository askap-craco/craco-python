{
 "cells": [
  {
   "cell_type": "code",
   "execution_count": null,
   "id": "2d83d0a0",
   "metadata": {},
   "outputs": [],
   "source": [
    "%matplotlib notebook\n",
    "from pylab import *\n",
    "import numpy as np\n",
    "from craco.search_pipeline import location2pix, get_grid_lut_from_plan, grid_candidates,wait_for_starts,waitall,print_candidates\n",
    "from craco.search_pipeline import NBINARY_POINT_FDMTIN \n",
    "import craco\n",
    "import craco.search_pipeline\n",
    "from craco.pyxrtutil import *\n",
    "import craft.craco_plan\n",
    "\n",
    "from craft import uvfits\n",
    "\n",
    "from craft.craco_plan import PipelinePlan\n",
    "from craft.craco import printstats\n",
    "import logging\n",
    "logger = logging.getLogger()\n",
    "logger.setLevel(logging.INFO)\n",
    "import time"
   ]
  },
  {
   "cell_type": "code",
   "execution_count": null,
   "id": "6be21f5d",
   "metadata": {},
   "outputs": [],
   "source": [
    "!ls -lrt /data/craco/ban115/builds/"
   ]
  },
  {
   "cell_type": "code",
   "execution_count": null,
   "id": "52b7df2e",
   "metadata": {},
   "outputs": [],
   "source": [
    "fits='/data/craco/ban115/test_data/frb_d0_t0_a1_sninf_lm00/frb_d0_t0_a1_sninf_lm00.fits'\n",
    "xclbin='/data/craco/ban115/builds/binary_container_28db073f.xclbin'\n",
    "#xclbin='/data/craco/ban115/builds/binary_container_01482863.xclbin'\n",
    "xclbin='/data/craco/ban115/builds/binary_container_fe3fef0d.xclbin'\n",
    "\n",
    "alloc_device_only=True\n",
    "values = craco.search_pipeline.get_parser().parse_args([])\n",
    "print(values)"
   ]
  },
  {
   "cell_type": "code",
   "execution_count": null,
   "id": "953ef7d8",
   "metadata": {},
   "outputs": [],
   "source": [
    "device = pyxrt.device(0)\n",
    "xbin = pyxrt.xclbin(xclbin)\n",
    "uuid = device.load_xclbin(xbin)"
   ]
  },
  {
   "cell_type": "code",
   "execution_count": null,
   "id": "a6f857e1",
   "metadata": {},
   "outputs": [],
   "source": [
    "f = uvfits.open(fits)\n",
    "# TOOU UNDERSTAN DFOR NEXT WEEK: Why does specifying this list of DMs give different results  than the arange?\n",
    "dms=[399,400,511] # need 511 so it's equivalent in allr espects to plan\n",
    "#dms = np.arange(512, dtype=np.int32)\n",
    "\n",
    "#dms = None\n",
    "plan_small = PipelinePlan(f, '', dms=dms)\n",
    "plan_large = PipelinePlan(f, '--ndm 512')\n"
   ]
  },
  {
   "cell_type": "code",
   "execution_count": null,
   "id": "69e47743",
   "metadata": {},
   "outputs": [],
   "source": [
    "plan = plan_small"
   ]
  },
  {
   "cell_type": "code",
   "execution_count": null,
   "id": "8d407e7b",
   "metadata": {},
   "outputs": [],
   "source": [
    "plan.nd"
   ]
  },
  {
   "cell_type": "code",
   "execution_count": null,
   "id": "04cfc8bd",
   "metadata": {},
   "outputs": [],
   "source": [
    "plan.dmax"
   ]
  },
  {
   "cell_type": "code",
   "execution_count": null,
   "id": "e063b67a",
   "metadata": {},
   "outputs": [],
   "source": [
    "plan_small.dmax"
   ]
  },
  {
   "cell_type": "code",
   "execution_count": null,
   "id": "beff6777",
   "metadata": {},
   "outputs": [],
   "source": [
    "plan.dms[:10]"
   ]
  },
  {
   "cell_type": "code",
   "execution_count": null,
   "id": "67c51e11",
   "metadata": {},
   "outputs": [],
   "source": [
    "figure()\n",
    "plot(plan.dms,'o')"
   ]
  },
  {
   "cell_type": "code",
   "execution_count": null,
   "id": "5c865a41",
   "metadata": {},
   "outputs": [],
   "source": [
    "p = craco.search_pipeline.Pipeline(device, xbin, plan, alloc_device_only)"
   ]
  },
  {
   "cell_type": "code",
   "execution_count": null,
   "id": "d09c7c8b",
   "metadata": {},
   "outputs": [],
   "source": [
    "from Visibility_injector.inject_in_fake_data import FakeVisibility\n",
    "fvfile = '/data/craco/gup037/test_runs_of_craco_pipeline/injections/repitetive_dm_401_injection.yml'\n",
    "fv = FakeVisibility(plan, fvfile)\n",
    "fvblk = fv.get_fake_data_block()\n",
    "nblk = 12"
   ]
  },
  {
   "cell_type": "code",
   "execution_count": null,
   "id": "912ccb05",
   "metadata": {},
   "outputs": [],
   "source": [
    "cat $fvfile"
   ]
  },
  {
   "cell_type": "code",
   "execution_count": null,
   "id": "a558646e",
   "metadata": {},
   "outputs": [],
   "source": [
    "inblocks = [next(fvblk) for i in range(nblk)]"
   ]
  },
  {
   "cell_type": "code",
   "execution_count": null,
   "id": "460f4725",
   "metadata": {},
   "outputs": [],
   "source": [
    "inblocks = np.array(inblocks)"
   ]
  },
  {
   "cell_type": "code",
   "execution_count": null,
   "id": "2dfc6599",
   "metadata": {},
   "outputs": [],
   "source": [
    "inblocks.shape"
   ]
  },
  {
   "cell_type": "code",
   "execution_count": null,
   "id": "82154322",
   "metadata": {},
   "outputs": [],
   "source": [
    "inblocksum = inblocks.sum(axis=(1,2,3))\n",
    "inblocksum.reshape(-1,2)"
   ]
  },
  {
   "cell_type": "code",
   "execution_count": null,
   "id": "39ded382",
   "metadata": {},
   "outputs": [],
   "source": [
    "assert np.all(inblocks[::2, ...] == inblocks[0,...])\n",
    "assert np.all(inblocks[1::2, ...] == inblocks[1,...])"
   ]
  },
  {
   "cell_type": "code",
   "execution_count": null,
   "id": "ae03f583",
   "metadata": {},
   "outputs": [],
   "source": [
    "p.clear_buffers(values)\n",
    "values.run_fdmt = True\n",
    "values.run_image = True\n",
    "values.threshold = 10\n",
    "values.input_scale = 64\n",
    "values.fft_scale1 = 2\n",
    "cands = []\n",
    "idm  = 400\n",
    "pix = 0\n",
    "\n",
    "bchist = []\n",
    "mbhist = []\n",
    "\n",
    "mb0 = p.all_mainbufs[6]\n",
    "\n",
    "for iblk in range(nblk):\n",
    "    p.copy_input(inblocks[iblk,...], values)\n",
    "    p.run(iblk, values).wait()\n",
    "    cands.append(p.get_candidates().copy())\n",
    "    print(f'Got {len(cands[-1])} candidates')\n",
    "    p.boxcar_history.copy_from_device()\n",
    "    bchist.append(p.boxcar_history.nparr[idm,:,128,128].copy())\n",
    "    #p.[83, 186, 11, 256, 8, 2]\n",
    "    mb0.copy_from_device()\n",
    "    mbhist.append(mb0.nparr[0,:,:,:,0,0].copy())\n",
    "    \n",
    "    \n",
    "        "
   ]
  },
  {
   "cell_type": "code",
   "execution_count": null,
   "id": "225922ba",
   "metadata": {},
   "outputs": [],
   "source": [
    "bchist = np.array(bchist)\n",
    "mbhist = np.array(mbhist)"
   ]
  },
  {
   "cell_type": "code",
   "execution_count": null,
   "id": "072585d9",
   "metadata": {},
   "outputs": [],
   "source": [
    "[len(c) for c in cands]"
   ]
  },
  {
   "cell_type": "code",
   "execution_count": null,
   "id": "16734b96",
   "metadata": {},
   "outputs": [],
   "source": [
    "maxcand = [max(c, key=lambda x: x['snr']) for c in cands if len(c) != 0]\n",
    "maxcand"
   ]
  },
  {
   "cell_type": "code",
   "execution_count": null,
   "id": "45d8f874",
   "metadata": {},
   "outputs": [],
   "source": [
    "maxcand[0].dtype"
   ]
  },
  {
   "cell_type": "code",
   "execution_count": null,
   "id": "a98fb342",
   "metadata": {},
   "outputs": [],
   "source": [
    "all_cands = []\n",
    "for c in cands:\n",
    "    all_cands.extend(c)\n",
    "    \n",
    "snrs = [c['snr'] for c in all_cands]\n",
    "figure()\n",
    "hist(snrs)"
   ]
  },
  {
   "cell_type": "code",
   "execution_count": null,
   "id": "cb55b8c1",
   "metadata": {},
   "outputs": [],
   "source": [
    "mbhist.shape"
   ]
  },
  {
   "cell_type": "code",
   "execution_count": null,
   "id": "6642620a",
   "metadata": {},
   "outputs": [],
   "source": [
    "figure()\n",
    "imshow(mbhist.reshape(12*186,-1), aspect='auto', origin='lower')\n",
    "xlabel('Ringbuffer slot x NT')\n",
    "ylabel('Block x DM')"
   ]
  },
  {
   "cell_type": "code",
   "execution_count": null,
   "id": "99a51ea8",
   "metadata": {},
   "outputs": [],
   "source": [
    "import craco_pybind11\n",
    "import craco_pybind11.ddgrid_reader\n",
    "import craco_pybind11.grid\n",
    "import craco_pybind11.fdmt_tunable\n",
    "\n",
    "nchunk_time = plan.nchunk_time\n",
    "nparallel_uvin, nparallel_uvout, h_nparallel_uvout, lut = get_grid_lut_from_plan(plan)\n",
    "nuvrest = nparallel_uvin*2//8\n",
    "NUVWIDE = 8\n",
    "OUTPUT_NT = 2\n",
    "OUTPUT_NUV = 2\n",
    "ncu = 4\n",
    "ndm = plan.nd\n",
    "tblk = 0\n",
    "do_load_lut = 1"
   ]
  },
  {
   "cell_type": "code",
   "execution_count": null,
   "id": "238f1daf",
   "metadata": {},
   "outputs": [],
   "source": [
    "craco_pybind11.fdmt_tunable.NTBLK_OUTBUF"
   ]
  },
  {
   "cell_type": "code",
   "execution_count": null,
   "id": "3d2514a7",
   "metadata": {},
   "outputs": [],
   "source": [
    "craco_pybind11.krnl.NT"
   ]
  },
  {
   "cell_type": "code",
   "execution_count": null,
   "id": "158d3477",
   "metadata": {},
   "outputs": [],
   "source": [
    "tblks = (9,10,0)\n",
    "\n",
    "outputs = np.zeros((len(tblks), ncu, ndm, nchunk_time, nuvrest, NUVWIDE//OUTPUT_NUV, OUTPUT_NT, OUTPUT_NUV, 2), dtype=np.int16)"
   ]
  },
  {
   "cell_type": "code",
   "execution_count": null,
   "id": "70261afe",
   "metadata": {},
   "outputs": [],
   "source": [
    "mainbuf = p.copy_mainbuf()"
   ]
  },
  {
   "cell_type": "code",
   "execution_count": null,
   "id": "dccf67b5",
   "metadata": {},
   "outputs": [],
   "source": [
    "\n",
    "for itblk, tblk in enumerate(tblks):\n",
    "    craco_pybind11.ddgrid_reader.krnl_ddgrid_reader_4cu(mainbuf, \n",
    "                                     ndm, \n",
    "                                     tblk,\n",
    "                                     nchunk_time, \n",
    "                                     nuvrest, \n",
    "                                     plan.ddreader_lut, \n",
    "                                     do_load_lut, \n",
    "                                     outputs[itblk, 0], \n",
    "                                     outputs[itblk, 1], \n",
    "                                     outputs[itblk, 2], \n",
    "                                     outputs[itblk, 3])"
   ]
  },
  {
   "cell_type": "code",
   "execution_count": null,
   "id": "0b6b533f",
   "metadata": {},
   "outputs": [],
   "source": [
    "plan.nd"
   ]
  },
  {
   "cell_type": "code",
   "execution_count": null,
   "id": "af3e0570",
   "metadata": {},
   "outputs": [],
   "source": [
    "outputs.shape"
   ]
  },
  {
   "cell_type": "code",
   "execution_count": null,
   "id": "36ec30dc",
   "metadata": {},
   "outputs": [],
   "source": [
    "transposeidxs = [0, 3,1,6,2,4,5,7,8]\n",
    "outputsrs = outputs.copy().transpose(transposeidxs)\n",
    "outputsrs.shape"
   ]
  },
  {
   "cell_type": "code",
   "execution_count": null,
   "id": "3d94440d",
   "metadata": {},
   "outputs": [],
   "source": [
    "s = np.array(outputsrs.shape)\n",
    "\n",
    "outputsrs = outputsrs.reshape(s[0], s[1:4].prod(),s[4],s[5:8].prod(),s[8])\n",
    "outputsrs.shape"
   ]
  },
  {
   "cell_type": "code",
   "execution_count": null,
   "id": "e8a44a3a",
   "metadata": {},
   "outputs": [],
   "source": [
    "np.all(outputs == 0)"
   ]
  },
  {
   "cell_type": "code",
   "execution_count": null,
   "id": "e99c76b9",
   "metadata": {},
   "outputs": [],
   "source": [
    "np.all(outputsrs == 0)"
   ]
  },
  {
   "cell_type": "code",
   "execution_count": null,
   "id": "2292564a",
   "metadata": {},
   "outputs": [],
   "source": [
    "craco_pybind11.krnl.NT"
   ]
  },
  {
   "cell_type": "code",
   "execution_count": null,
   "id": "fbf829ac",
   "metadata": {},
   "outputs": [],
   "source": [
    "craco_pybind11.krnl.NUVWIDE"
   ]
  },
  {
   "cell_type": "code",
   "execution_count": null,
   "id": "0c1debb0",
   "metadata": {},
   "outputs": [],
   "source": [
    "np.all(outputsrs[0,...] == outputsrs[2,...])"
   ]
  },
  {
   "cell_type": "code",
   "execution_count": null,
   "id": "332da70f",
   "metadata": {},
   "outputs": [],
   "source": [
    "fig, ax = subplots(1,len(tblks))\n",
    "for itblk, tblk in enumerate(tblks):\n",
    "    ax[itblk].imshow(outputsrs[itblk,:,:,0,0].T, aspect='auto', origin='lower')\n",
    "    ax[itblk].set_title(f'tblk={tblk}')"
   ]
  },
  {
   "cell_type": "code",
   "execution_count": null,
   "id": "230eb84b",
   "metadata": {},
   "outputs": [],
   "source": [
    "outputsrs.shape"
   ]
  },
  {
   "cell_type": "code",
   "execution_count": null,
   "id": "04a19a58",
   "metadata": {},
   "outputs": [],
   "source": [
    "fig, ax = subplots(1,len(tblks))\n",
    "fig.set_size_inches((10,5))\n",
    "for itblk, tblk in enumerate(tblks):\n",
    "    ax[itblk].imshow(outputsrs[itblk,:,1,:,0], aspect='auto', origin='lower')\n",
    "    ax[itblk].set_title(f'Tblk {tblk}')\n",
    "    ax[itblk].set_xlabel('UV')\n",
    "    ax[itblk].set_ylabel('time')\n",
    "    \n",
    "         "
   ]
  },
  {
   "cell_type": "code",
   "execution_count": null,
   "id": "108bb89e",
   "metadata": {},
   "outputs": [],
   "source": [
    "outputsrs.shape"
   ]
  },
  {
   "cell_type": "code",
   "execution_count": null,
   "id": "330f89e2",
   "metadata": {},
   "outputs": [],
   "source": [
    "outputsrs.shape[-2]/2"
   ]
  },
  {
   "cell_type": "code",
   "execution_count": null,
   "id": "2fe8f030",
   "metadata": {},
   "outputs": [],
   "source": [
    "figure()\n",
    "imshow(outputsrs[0,:,1,:,0]-outputsrs[2,:,1,:,0], aspect='auto', origin='lower')"
   ]
  },
  {
   "cell_type": "code",
   "execution_count": null,
   "id": "f3d963c2",
   "metadata": {},
   "outputs": [],
   "source": [
    "mainbuf.shape"
   ]
  },
  {
   "cell_type": "code",
   "execution_count": null,
   "id": "b8453adb",
   "metadata": {},
   "outputs": [],
   "source": [
    "figure()\n",
    "imshow(mainbuf[0,:,:,:,0,0].reshape(186,-1), aspect='auto', origin='lower')\n",
    "for b in range(11):\n",
    "    axvline(b*256,c='r', alpha=0.2)"
   ]
  },
  {
   "cell_type": "code",
   "execution_count": null,
   "id": "0f24c5c1",
   "metadata": {},
   "outputs": [],
   "source": [
    "mainbufrs = mainbuf[0:1,...].transpose([0,4,1,2,3,5]).reshape(-1,186,11*256,2)\n",
    "mainbufrs.shape"
   ]
  },
  {
   "cell_type": "code",
   "execution_count": null,
   "id": "fa594d2d",
   "metadata": {},
   "outputs": [],
   "source": [
    "figure()\n",
    "imshow(mainbufrs[0,:,:,0],aspect='auto',origin='lower')"
   ]
  },
  {
   "cell_type": "code",
   "execution_count": null,
   "id": "5f7763ac",
   "metadata": {},
   "outputs": [],
   "source": [
    "from craco_pybind11.ddgrid_reader import load_luts\n",
    "\n",
    "luts_large = load_luts(plan_large.ddreader_lut[:-1])\n",
    "luts_large"
   ]
  },
  {
   "cell_type": "code",
   "execution_count": null,
   "id": "56f94a61",
   "metadata": {},
   "outputs": [],
   "source": [
    "luts_small = load_luts(plan_small.ddreader_lut[:-1])\n",
    "luts_small"
   ]
  },
  {
   "cell_type": "code",
   "execution_count": null,
   "id": "2049a529",
   "metadata": {},
   "outputs": [],
   "source": [
    "from craco_pybind11.ddgrid_reader import calc_indexs\n",
    "dmidx = 400\n",
    "uvrest = 0\n",
    "r = calc_indexs(dmidx, uvrest, luts_large)\n",
    "print(f\"IDM={r.idm} tback={r.tback} for idm={plan_large.dms[dmidx]}\")"
   ]
  },
  {
   "cell_type": "code",
   "execution_count": null,
   "id": "ceeef4ab",
   "metadata": {},
   "outputs": [],
   "source": [
    "dmidx = 2\n",
    "r = calc_indexs(dmidx, uvrest,luts_small)\n",
    "print(f\"IDM={r.idm} tback={r.tback} for idm={plan_small.dms[dmidx]}\")"
   ]
  },
  {
   "cell_type": "code",
   "execution_count": null,
   "id": "c7be49f6",
   "metadata": {},
   "outputs": [],
   "source": [
    "\n",
    "plan_small.dms[1:2]"
   ]
  },
  {
   "cell_type": "code",
   "execution_count": null,
   "id": "913b0b13",
   "metadata": {},
   "outputs": [],
   "source": [
    "fig, ax = subplots(1,3)\n",
    "for _, small_dm in enumerate(plan_small.dms[1:2]):\n",
    "    small_dmidx = np.where(plan_small.dms == small_dm)[0][0]\n",
    "    large_dmidx = np.where(plan_large.dms == small_dm)[0][0]\n",
    "    print(small_dmidx, plan_small.dms[small_dmidx], large_dmidx, plan_large.dms[large_dmidx])\n",
    "    assert plan_small.dms[small_dmidx] == plan_large.dms[large_dmidx]\n",
    "    idx_small = [calc_indexs(small_dmidx, u, luts_small) for u in range(plan.nuvrest)]\n",
    "    idx_large = [calc_indexs(large_dmidx, u, luts_large) for u in range(plan.nuvrest)]\n",
    "    idx_all = np.array([(r1.idm, r2.idm, r1.tback, r2.tback) for (r1, r2) in zip(idx_small, idx_large)])\n",
    "    ax[0].plot(idx_all[:,0])\n",
    "    ax[0].plot(idx_all[:,1])\n",
    "    ax[1].plot(idx_all[:,2])\n",
    "    ax[1].plot(idx_all[:,3])\n",
    "    ax[2].scatter(idx_all[:,0], idx_all[:,2])\n",
    "    ax[0].set_title('IDM')\n",
    "    ax[1].set_title('TBACK')\n",
    "    ax[2].set_xlabel('IDM')\n",
    "    ax[2].set_ylabel('TBACK')\n",
    "    ax[0].set_xlabel('UVREST')\n",
    "    ax[1].set_xlabel('UVREST')\n",
    "    assert np.all(idx_all[:,0] == idx_all[:,1])\n",
    "    assert np.all(idx_all[:,2] == idx_all[:,3])"
   ]
  },
  {
   "cell_type": "code",
   "execution_count": null,
   "id": "6e5cc1dc",
   "metadata": {},
   "outputs": [],
   "source": [
    "figure()\n",
    "plot(plan.ddreader_lut, label='plan');\n",
    "plot(plan_small.ddreader_lut-plan_large.ddreader_lut*0, label='plan_small');\n",
    "legend()"
   ]
  },
  {
   "cell_type": "code",
   "execution_count": null,
   "id": "9e3dffac",
   "metadata": {},
   "outputs": [],
   "source": [
    "from craco_pybind11.ddgrid_reader import calc_burst_parameters\n",
    "calc_burst_parameters?"
   ]
  },
  {
   "cell_type": "code",
   "execution_count": null,
   "id": "32898a78",
   "metadata": {},
   "outputs": [],
   "source": [
    "tblk = 0\n",
    "tchunk = 0\n",
    "idx_small = [calc_indexs(small_dmidx, u, luts_small) for u in range(plan.nuvrest)]\n",
    "burst_params = [calc_burst_parameters(idx.idm, idx.tback, tblk, tchunk, u) for u, idx in enumerate(idx_small)]"
   ]
  },
  {
   "cell_type": "code",
   "execution_count": null,
   "id": "79f95633",
   "metadata": {},
   "outputs": [],
   "source": [
    "uvrest = 320\n",
    "idx_small[uvrest].tback"
   ]
  },
  {
   "cell_type": "code",
   "execution_count": null,
   "id": "e0a732d1",
   "metadata": {},
   "outputs": [],
   "source": [
    "idx_small[uvrest].idm"
   ]
  },
  {
   "cell_type": "code",
   "execution_count": null,
   "id": "8ddc3ecb",
   "metadata": {},
   "outputs": [],
   "source": [
    "b = burst_params[uvrest]"
   ]
  },
  {
   "cell_type": "code",
   "execution_count": null,
   "id": "124c7111",
   "metadata": {},
   "outputs": [],
   "source": [
    "for f in dir(b):\n",
    "    if not f.startswith('__'):\n",
    "        print(f, getattr( b,f))\n",
    "tmod = (b.idx1 - b.idx_bufstart)*2\n",
    "tmod"
   ]
  },
  {
   "cell_type": "code",
   "execution_count": null,
   "id": "3a801139",
   "metadata": {},
   "outputs": [],
   "source": [
    "mainbuf.shape"
   ]
  },
  {
   "cell_type": "code",
   "execution_count": null,
   "id": "3c21e7c8",
   "metadata": {},
   "outputs": [],
   "source": [
    "np.ravel_multi_index((320,45,0,0,0,0), mainbuf.shape)//16//2"
   ]
  },
  {
   "cell_type": "code",
   "execution_count": null,
   "id": "61d4d3db",
   "metadata": {},
   "outputs": [],
   "source": [
    "burst_idx1 = np.array([b.idx1 for b in burst_params])\n",
    "burst_aligned = np.array([b.aligned for b in burst_params])\n",
    "burst_idx_bufstart = np.array([b.idx_bufstart for b in burst_params])\n",
    "burst_nread1 = np.array([b.nread1 for b in burst_params])\n",
    "burst_nread2 = np.array([b.nread2 for b in burst_params])"
   ]
  },
  {
   "cell_type": "code",
   "execution_count": null,
   "id": "b913d1d5",
   "metadata": {},
   "outputs": [],
   "source": [
    "figure()\n",
    "plot(burst_idx1-burst_idx_bufstart)\n",
    "ylabel('index from first sample in block')\n",
    "xlabel('urest')\n",
    "\n",
    "# well that doesn't look right - it wraps to 1285 - shouldn't it wrap to twice that number?"
   ]
  },
  {
   "cell_type": "code",
   "execution_count": null,
   "id": "54fdfe53",
   "metadata": {},
   "outputs": [],
   "source": []
  },
  {
   "cell_type": "code",
   "execution_count": null,
   "id": "08d7d6ee",
   "metadata": {},
   "outputs": [],
   "source": [
    "u = 320\n",
    "tblk = 0\n",
    "idx = idx_small[u]\n",
    "burst_params = [calc_burst_parameters(idx.idm, idx.tback, tblk, tchunk, u) for tchunk in range(32)]\n",
    "burst_idx1 = np.array([b.idx1 for b in burst_params])\n",
    "burst_aligned = np.array([b.aligned for b in burst_params])\n",
    "burst_idx_bufstart = np.array([b.idx_bufstart for b in burst_params])\n",
    "burst_nread1 = np.array([b.nread1 for b in burst_params])\n",
    "burst_nread2 = np.array([b.nread2 for b in burst_params])"
   ]
  },
  {
   "cell_type": "code",
   "execution_count": null,
   "id": "d4177c11",
   "metadata": {},
   "outputs": [],
   "source": [
    "idx.tback"
   ]
  },
  {
   "cell_type": "code",
   "execution_count": null,
   "id": "271cbdc7",
   "metadata": {},
   "outputs": [],
   "source": [
    "figure()\n",
    "plot(burst_idx1 - burst_idx_bufstart)"
   ]
  },
  {
   "cell_type": "code",
   "execution_count": null,
   "id": "1fc25015",
   "metadata": {},
   "outputs": [],
   "source": [
    "assert np.all(burst_idx_bufstart == burst_idx_bufstart[0])"
   ]
  },
  {
   "cell_type": "code",
   "execution_count": null,
   "id": "87f81320",
   "metadata": {},
   "outputs": [],
   "source": []
  },
  {
   "cell_type": "code",
   "execution_count": null,
   "id": "a4185360",
   "metadata": {},
   "outputs": [],
   "source": []
  },
  {
   "cell_type": "code",
   "execution_count": null,
   "id": "ee12d5a5",
   "metadata": {},
   "outputs": [],
   "source": []
  },
  {
   "cell_type": "code",
   "execution_count": null,
   "id": "c18c5596",
   "metadata": {},
   "outputs": [],
   "source": [
    "plan_small.dms"
   ]
  },
  {
   "cell_type": "code",
   "execution_count": null,
   "id": "82655a06",
   "metadata": {},
   "outputs": [],
   "source": [
    "idm = [run.idm_cff for run  in plan.fdmt_plan.runs]\n",
    "idm_small = [run.idm_cff for run in  plan_small.fdmt_plan.runs]\n",
    "figure()\n",
    "plot(idm, label='plan')\n",
    "plot(idm_small, label='small')\n",
    "legend()"
   ]
  },
  {
   "cell_type": "code",
   "execution_count": null,
   "id": "9561f4f9",
   "metadata": {},
   "outputs": [],
   "source": [
    "off = [run.offset_cff for run  in plan.fdmt_plan.runs]\n",
    "off_small = [run.offset_cff for run in  plan_small.fdmt_plan.runs]\n",
    "figure()\n",
    "plot(off, label='plan')\n",
    "plot(off_small, label='small')\n",
    "legend()"
   ]
  },
  {
   "cell_type": "code",
   "execution_count": null,
   "id": "46250a95",
   "metadata": {},
   "outputs": [],
   "source": [
    "craco_pybind11.krnl.NUREST"
   ]
  },
  {
   "cell_type": "code",
   "execution_count": null,
   "id": "ae7e14ab",
   "metadata": {},
   "outputs": [],
   "source": [
    "craco_pybind11.krnl.MAX_NDM"
   ]
  },
  {
   "cell_type": "code",
   "execution_count": null,
   "id": "f2cd7b9e",
   "metadata": {},
   "outputs": [],
   "source": []
  },
  {
   "cell_type": "code",
   "execution_count": null,
   "id": "1baee5bd",
   "metadata": {},
   "outputs": [],
   "source": []
  },
  {
   "cell_type": "code",
   "execution_count": null,
   "id": "96cef2cc",
   "metadata": {},
   "outputs": [],
   "source": []
  },
  {
   "cell_type": "code",
   "execution_count": null,
   "id": "b6723cf1",
   "metadata": {},
   "outputs": [],
   "source": []
  },
  {
   "cell_type": "code",
   "execution_count": null,
   "id": "457a5d24",
   "metadata": {},
   "outputs": [],
   "source": []
  }
 ],
 "metadata": {
  "kernelspec": {
   "display_name": "venv",
   "language": "python",
   "name": "venv"
  },
  "language_info": {
   "codemirror_mode": {
    "name": "ipython",
    "version": 3
   },
   "file_extension": ".py",
   "mimetype": "text/x-python",
   "name": "python",
   "nbconvert_exporter": "python",
   "pygments_lexer": "ipython3",
   "version": "3.6.9"
  }
 },
 "nbformat": 4,
 "nbformat_minor": 5
}
