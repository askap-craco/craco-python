{
 "cells": [
  {
   "cell_type": "code",
   "execution_count": 1,
   "id": "4abeb4f1",
   "metadata": {},
   "outputs": [
    {
     "name": "stderr",
     "output_type": "stream",
     "text": [
      "INFO:root:test\n"
     ]
    }
   ],
   "source": [
    "%matplotlib inline\n",
    "from pylab import *\n",
    "import numpy as np\n",
    "from craco.search_pipeline import location2pix, get_grid_lut_from_plan, grid_candidates,wait_for_starts,waitall,print_candidates\n",
    "from craco.search_pipeline import NBINARY_POINT_FDMTIN \n",
    "import craco\n",
    "import craco.search_pipeline\n",
    "from craco.pyxrtutil import *\n",
    "import craft.craco_plan\n",
    "\n",
    "from craft import uvfits\n",
    "\n",
    "from craft.craco_plan import PipelinePlan\n",
    "from craft.craco import printstats\n",
    "import logging\n",
    "logger = logging.getLogger()\n",
    "logger.setLevel(logging.INFO)\n",
    "logging.info(\"test\")\n",
    "import time\n"
   ]
  },
  {
   "cell_type": "code",
   "execution_count": 2,
   "id": "3401edba",
   "metadata": {},
   "outputs": [],
   "source": [
    "fits='/data/craco/ban115/test_data/frb_d0_t0_a1_sninf_lm00/frb_d0_t0_a1_sninf_lm00.fits'\n",
    "xclbin='/data/craco/ban115/builds/binary_container_1_10688715.xclbin'\n",
    "#xclbin='/data/craco/ban115/builds/binary_container_01482863.xclbin'\n",
    "alloc_device_only=True"
   ]
  },
  {
   "cell_type": "code",
   "execution_count": 3,
   "id": "7470be87",
   "metadata": {},
   "outputs": [
    {
     "name": "stdout",
     "output_type": "stream",
     "text": [
      "Namespace(boxcar_weight='sum', cand_file='candidates.txt', cell=None, device=0, dump_boxcar_hist_buf=None, dump_candidates=None, dump_fdmt_hist_buf=None, dump_mainbufs=None, dump_uvdata=None, fdmt_scale=1.0, fft_scale=10.0, fft_shift1=0, fft_shift2=7, injection_file=None, input_scale=1.0, max_ndm=1024, nblocks=None, nbox=8, ncin=32, ndm=2, ndout=186, npix=256, nt=256, nuvmax=8192, nuvwide=8, os='2.1,2.1', run_fdmt=True, run_image=True, show=False, show_candidate_grid=None, threshold=10.0, uv='frb_d0_lm0_nt16_nant24.fits', verbose=False, wait=False, xclbin='binary_container_1.xclbin.golden')\n"
     ]
    }
   ],
   "source": [
    "values = craco.search_pipeline.get_parser().parse_args([])\n",
    "print(values)"
   ]
  },
  {
   "cell_type": "code",
   "execution_count": 4,
   "id": "1e0cd38a",
   "metadata": {},
   "outputs": [],
   "source": [
    "device = pyxrt.device(1)\n",
    "xbin = pyxrt.xclbin(xclbin)\n",
    "uuid = device.load_xclbin(xbin)\n"
   ]
  },
  {
   "cell_type": "code",
   "execution_count": 5,
   "id": "6256a81a",
   "metadata": {},
   "outputs": [
    {
     "name": "stderr",
     "output_type": "stream",
     "text": [
      "INFO:root:Opening file /data/craco/ban115/test_data/frb_d0_t0_a1_sninf_lm00/frb_d0_t0_a1_sninf_lm00.fits\n",
      "INFO:craft.craco_plan:making Plan values=Namespace(boxcar_weight='sum', cell=None, fdmt_scale=1.0, fft_scale=10.0, max_nbl=630.0, max_ndm=1024, nbox=8, ncin=32, ndm=512, ndout=186, npix=256, nt=256, nuvmax=8192, nuvwide=8, os='2.1,2.1', pickle_fname='pipeline.pickle', save=False, show=False, show_fdmt=False, show_image=False, threshold=3, uv='uv_data', verbose=False)\n",
      "INFO:craft.craco_plan:Nbl=190 Fch1=735499993.944000 foff=1000000.047500 nchan=256 lambdamin=0.302877 uvmax=(2914.412072271962, 3548.709136210335) max baseline=(0.882709355209954, 1.0748235581559127) resolution=[70.77407077 58.12389754]arcsec uvcell=[33.70193846 27.67804645] arcsec uvcell= (23.90728653035594, 29.110504632975406) lambda FoV=[2.39658229 1.96821664] deg oversampled=(2.1, 2.1)\n",
      "INFO:craft.craco_plan:Got Ncells=3838 uvcells\n"
     ]
    },
    {
     "name": "stdout",
     "output_type": "stream",
     "text": [
      "parsing values --ndm 512 --ndout 186\n"
     ]
    },
    {
     "name": "stderr",
     "output_type": "stream",
     "text": [
      "INFO:craft.craco_plan:FDMT plan has ntotal=5272 of 659 runs with packing efficiency 0.727997. Grid read requires efficiency of > 0.643555 of NUV=8192. History size square=753094656 minimal=163322152 =2 256MB HBM banks\n",
      "INFO:craft.craco_plan:FDMT zero cell is (658, 2)=5266\n",
      "INFO:craft.craco_plan:Saving uvgrid.split shape=(5245, 14) type=float64 to uv_data.uvgrid.split.txt header=ant1, ant2, u(pix), v(pix), chan1, chan2, irun, icell, total_overlap, max_idm, max_offset, offset_cff, idm_cff, fch1\n",
      "INFO:craft.craco_plan:Got 3398 unique UV coords. Upper=True\n",
      "INFO:craft.craco_plan:Need to write 213 groups of 16 register to pad function\n",
      "INFO:craft.craco_plan:Got 3377 unique UV coords. Upper=False\n",
      "INFO:craft.craco_plan:Need to write 212 groups of 16 register to pad function\n",
      "INFO:craft.craco_plan:Got 5354 upper grid instructions\n",
      "INFO:craft.craco_plan:Saving gridlut.upper shape=(5354, 5) type=int32 to uv_data.gridlut.upper.txt header=target_slot, uvidx, shift_flag, upix, vpix\n",
      "INFO:craft.craco_plan:Got 5328 lower grid instructions\n",
      "INFO:craft.craco_plan:Saving gridlut.lower shape=(5328, 5) type=int32 to uv_data.gridlut.lower.txt header=target_slot, uvidx, shift_flag, upix, vpix\n",
      "INFO:craft.craco_plan:Saving padlut.upper shape=(32896, 3) type=int32 to uv_data.padlut.upper.txt header=upix, vpix, regidx\n",
      "INFO:craft.craco_plan:Saving doshift.upper shape=(4096,) type=int32 to uv_data.doshift.upper.txt header=doshift\n",
      "INFO:craft.craco_plan:Saving padlut.lower shape=(32640, 3) type=int32 to uv_data.padlut.lower.txt header=upix, vpix, regidx\n"
     ]
    },
    {
     "name": "stdout",
     "output_type": "stream",
     "text": [
      "Upper registers [(37, 6), (37, 7), (38, 7), (38, 8), (39, 8), (39, 9), (40, 9), (40, 10), (40, 11), (41, 11), (102, 11), (41, 12), (42, 12), (102, 12), (42, 13), (43, 13), (102, 13), (43, 14), (102, 14), (103, 14), (18, 15), (43, 15), (44, 15), (103, 15), (18, 16), (19, 16), (44, 16), (45, 16), (103, 16), (19, 17), (20, 17), (45, 17)]\n",
      "Lower registers [(26, 47), (26, 48), (27, 48), (27, 49), (28, 49), (28, 50), (29, 50), (30, 51), (31, 51), (31, 52), (32, 52), (32, 53), (33, 53), (33, 54), (34, 54), (35, 54), (35, 55), (36, 55), (53, 55), (54, 55), (6, 56), (36, 56), (37, 56), (54, 56), (55, 56), (7, 57), (8, 57), (37, 57), (38, 57), (55, 57), (56, 57), (8, 58)]\n"
     ]
    },
    {
     "name": "stderr",
     "output_type": "stream",
     "text": [
      "INFO:craft.craco_plan:Saving doshift.lower shape=(4096,) type=int32 to uv_data.doshift.lower.txt header=doshift\n",
      "INFO:craft.craco_plan:Saving ddreader shape=(2048,) type=uint32 to uv_data.ddreader.txt header=value\n"
     ]
    }
   ],
   "source": [
    "f = uvfits.open(fits)\n",
    "plan = PipelinePlan(f, \"--ndm 512 --ndout 186\")"
   ]
  },
  {
   "cell_type": "code",
   "execution_count": 6,
   "id": "908eb17a",
   "metadata": {},
   "outputs": [
    {
     "name": "stdout",
     "output_type": "stream",
     "text": [
      "186\n"
     ]
    }
   ],
   "source": [
    "print(plan.ndout)"
   ]
  },
  {
   "cell_type": "code",
   "execution_count": 7,
   "id": "d5bd83c0",
   "metadata": {},
   "outputs": [
    {
     "name": "stderr",
     "output_type": "stream",
     "text": [
      "INFO:craco.search_pipeline:2636 2677 2664\n",
      "INFO:craco.search_pipeline:(180214,)\n"
     ]
    },
    {
     "name": "stdout",
     "output_type": "stream",
     "text": [
      "Kernel krnl_ddgrid_reader_4cu:krnl_ddgrid_reader_4cu_1 has groups\n",
      "GID=0=32\n",
      "GID=1=-1\n",
      "GID=2=-1\n",
      "GID=3=-1\n",
      "GID=4=-1\n",
      "GID=5=15\n",
      "Kernel krnl_grid_4cu:krnl_grid_4cu_1 has groups\n",
      "GID=0=-1\n",
      "GID=1=-1\n",
      "GID=2=-1\n",
      "GID=3=-1\n",
      "GID=4=-1\n",
      "GID=5=6\n",
      "Kernel krnl_grid_4cu:krnl_grid_4cu_2 has groups\n",
      "GID=0=-1\n",
      "GID=1=-1\n",
      "GID=2=-1\n",
      "GID=3=-1\n",
      "GID=4=-1\n",
      "GID=5=7\n",
      "Kernel krnl_grid_4cu:krnl_grid_4cu_3 has groups\n",
      "GID=0=-1\n",
      "GID=1=-1\n",
      "GID=2=-1\n",
      "GID=3=-1\n",
      "GID=4=-1\n",
      "GID=5=20\n",
      "Kernel krnl_grid_4cu:krnl_grid_4cu_4 has groups\n",
      "GID=0=-1\n",
      "GID=1=-1\n",
      "GID=2=-1\n",
      "GID=3=-1\n",
      "GID=4=-1\n",
      "GID=5=21\n",
      "Kernel fft2d:fft2d_1 has groups\n",
      "Kernel fft2d:fft2d_2 has groups\n",
      "Kernel fft2d:fft2d_3 has groups"
     ]
    },
    {
     "name": "stderr",
     "output_type": "stream",
     "text": [
      "INFO:craco.search_pipeline:lut.shape (180214,)\n",
      "INFO:craco.search_pipeline:nuv 5272\n",
      "INFO:craco.search_pipeline:Allocating grid LUTs\n",
      "INFO:craco.search_pipeline:Allocating FDMT Input\n",
      "INFO:craco.search_pipeline:5272\n",
      "INFO:craco.search_pipeline:256\n",
      "INFO:craco.search_pipeline:32\n",
      "INFO:craco.search_pipeline:8\n",
      "INFO:craco.search_pipeline:659\n",
      "INFO:craco.search_pipeline:186\n",
      "INFO:craco.search_pipeline:FDMT input buffer size 164.75 MB\n",
      "INFO:craco.search_pipeline:Allocating FDMT history\n"
     ]
    },
    {
     "name": "stdout",
     "output_type": "stream",
     "text": [
      "\n",
      "Kernel fft2d:fft2d_4 has groups\n",
      "Kernel krnl_boxc_4cu:krnl_boxc_4cu_1 has groups\n",
      "GID=0=-1\n",
      "GID=1=-1\n",
      "GID=2=-1\n",
      "GID=3=54\n",
      "GID=4=54\n",
      "GID=5=4\n",
      "Kernel fdmt_tunable_c32:fdmt_tunable_c32_1 has groups\n",
      "GID=0=52\n",
      "GID=1=32\n",
      "GID=2=53\n",
      "GID=3=53\n",
      "GID=4=14\n",
      "Allocated 360428 bytes flags=flags.normal groupid=6 address=0x60000000\n",
      "Allocated 360428 bytes flags=flags.normal groupid=7 address=0x70000000\n",
      "Allocated 360428 bytes flags=flags.normal groupid=20 address=0x140000000\n",
      "Allocated 360428 bytes flags=flags.normal groupid=21 address=0x150000000\n",
      "Allocated 172752896 bytes flags=flags.normal groupid=52 address=0x90000000\n",
      "Allocated 268435456 bytes flags=flags.normal groupid=53 address=0xa0000000\n"
     ]
    },
    {
     "name": "stderr",
     "output_type": "stream",
     "text": [
      "INFO:craco.search_pipeline:Allocating mainbuf\n",
      "INFO:craco.search_pipeline:FDMT output buffer size 10.286819458007812 GB\n",
      "INFO:craco.search_pipeline:Mainbuf shape is (659, 186, 11, 256, 8, 2) breaking into 8 buffers of [83, 186, 11, 256, 8, 2]\n"
     ]
    },
    {
     "name": "stdout",
     "output_type": "stream",
     "text": [
      "Allocated 653728 bytes flags=flags.normal groupid=14 address=0xe0000000\n",
      "Allocated 1391149056 bytes flags=flags.normal groupid=32 address=0x4000000000\n",
      "Allocated 1391149056 bytes flags=flags.normal groupid=32 address=0x4052eb4000\n",
      "Allocated 1391149056 bytes flags=flags.normal groupid=32 address=0x40a5d68000\n",
      "Allocated 1391149056 bytes flags=flags.normal groupid=32 address=0x40f8c1c000\n",
      "Allocated 1391149056 bytes flags=flags.normal groupid=32 address=0x414bad0000\n",
      "Allocated 1391149056 bytes flags=flags.normal groupid=32 address=0x419e984000\n",
      "Allocated 1391149056 bytes flags=flags.normal groupid=32 address=0x41f1838000\n",
      "Allocated 1391149056 bytes flags=flags.normal groupid=32 address=0x42446ec000\n"
     ]
    },
    {
     "name": "stderr",
     "output_type": "stream",
     "text": [
      "INFO:craco.search_pipeline:Allocating ddreader_lut\n",
      "INFO:craco.search_pipeline:Allocating boxcar_history\n"
     ]
    },
    {
     "name": "stdout",
     "output_type": "stream",
     "text": [
      "Allocated 8192 bytes flags=flags.normal groupid=15 address=0xf0000000\n",
      "Allocated 939524096 bytes flags=flags.normal groupid=54 address=0x0\n"
     ]
    },
    {
     "name": "stderr",
     "output_type": "stream",
     "text": [
      "INFO:craco.search_pipeline:Boxcar history (1024, 7, 256, 256) 939524096 2\n",
      "INFO:craco.search_pipeline:Allocating candidates\n"
     ]
    },
    {
     "name": "stdout",
     "output_type": "stream",
     "text": [
      "Allocated 1048576 bytes flags=flags.normal groupid=4 address=0x40000000\n"
     ]
    }
   ],
   "source": [
    "p = craco.search_pipeline.Pipeline(device, xbin, plan, alloc_device_only)"
   ]
  },
  {
   "cell_type": "markdown",
   "id": "c4c9aa00",
   "metadata": {},
   "source": [
    "# Let's put a 0 DM pulse in the last few samples so we can see what it looks like in the boxcar history"
   ]
  },
  {
   "cell_type": "code",
   "execution_count": 31,
   "id": "3717a756",
   "metadata": {},
   "outputs": [
    {
     "name": "stderr",
     "output_type": "stream",
     "text": [
      "INFO:craco.search_pipeline:Clearing mainbuf data NBLK=11\n"
     ]
    },
    {
     "name": "stdout",
     "output_type": "stream",
     "text": [
      "[83, 186, 11, 256, 8, 2]\n",
      "[83, 186, 11, 256, 8, 2]\n",
      "[83, 186, 11, 256, 8, 2]\n",
      "[83, 186, 11, 256, 8, 2]\n",
      "[83, 186, 11, 256, 8, 2]\n",
      "[83, 186, 11, 256, 8, 2]\n",
      "[83, 186, 11, 256, 8, 2]\n",
      "[83, 186, 11, 256, 8, 2]\n"
     ]
    }
   ],
   "source": [
    "p.clear_buffers(values)\n",
    "# dmamp = 32 gives SNR=14.2\n",
    "dmamp = 1\n",
    "t0 = 252 # If I make t0=between 255-NBOX (-1?) and 255 I should see it in the boxcar history\n",
    "dm = 0\n",
    "\n",
    "# put in a value for a single time and DM\n",
    "for b in p.all_mainbufs:\n",
    "    print(b.shape)\n",
    "    #b.nparr[:] = dmamp #np.random.randn(*b.nparr.shape)\n",
    "    #b.nparr[:] = dmamp\n",
    "    b.nparr[:,dm,0,t0,:,0] = dmamp\n",
    "    b.copy_to_device() "
   ]
  },
  {
   "cell_type": "code",
   "execution_count": 32,
   "id": "28ea456a",
   "metadata": {},
   "outputs": [],
   "source": [
    "mainbuf = p.copy_mainbuf()"
   ]
  },
  {
   "cell_type": "code",
   "execution_count": 33,
   "id": "b08a2c2f",
   "metadata": {},
   "outputs": [
    {
     "name": "stdout",
     "output_type": "stream",
     "text": [
      "(664, 186, 11, 256, 8, 2)\n",
      "5312\n"
     ]
    },
    {
     "data": {
      "image/png": "[encoded data removed]",
      "text/plain": [
       "<Figure size 432x288 with 1 Axes>"
      ]
     },
     "metadata": {
      "needs_background": "light"
     },
     "output_type": "display_data"
    }
   ],
   "source": [
    "print(mainbuf.shape)\n",
    "plot(mainbuf[:,0,0,t0,:,0].flat)\n",
    "assert np.all(mainbuf[:,0,0,t0,:,0] == dmamp)\n",
    "assert np.all(mainbuf[:,1:,1:,:t0,:,1] == 0)\n",
    "assert np.all(mainbuf[:,1:,1:,:t0+1,:,1] == 0)\n",
    "print(mainbuf.sum())"
   ]
  },
  {
   "cell_type": "code",
   "execution_count": 34,
   "id": "f916f6ba",
   "metadata": {},
   "outputs": [
    {
     "name": "stderr",
     "output_type": "stream",
     "text": [
      "INFO:craco.search_pipeline:nConfiguration just before pipeline running \n",
      "ndm=512 nchunk_time=32 tblk=0 nuv=5272 nparallel_uv=2636 nurest=659 load_luts=1 nplane=16384 threshold=640 shift1=0 shift2=7 fft_cfg=400001c0\n",
      "\n",
      "INFO:craco.search_pipeline:Last candidate is (0, 0, 0, 0, 0)\n",
      "INFO:craco.search_pipeline:Candidates cleared\n",
      "INFO:craco.search_pipeline:10 kernels running\n"
     ]
    },
    {
     "name": "stdout",
     "output_type": "stream",
     "text": [
      "Namespace(boxcar_weight='sum', cand_file='candidates.txt', cell=None, device=0, dump_boxcar_hist_buf=None, dump_candidates=None, dump_fdmt_hist_buf=None, dump_mainbufs=None, dump_uvdata=None, fdmt_scale=1.0, fft_scale=10.0, fft_shift1=0, fft_shift2=7, injection_file=None, input_scale=1.0, max_ndm=1024, nblocks=None, nbox=8, ncin=32, ndm=2, ndout=186, npix=256, nt=256, nuvmax=8192, nuvwide=8, os='2.1,2.1', run_fdmt=False, run_image=True, show=False, show_candidate_grid=None, threshold=10, uv='frb_d0_lm0_nt16_nant24.fits', verbose=False, wait=False, xclbin='binary_container_1.xclbin.golden')\n"
     ]
    },
    {
     "name": "stderr",
     "output_type": "stream",
     "text": [
      "INFO:craco.search_pipeline:Waiting for 10 starts\n"
     ]
    }
   ],
   "source": [
    "values.run_fdmt = False\n",
    "values.run_image = True\n",
    "values.threshold = 10\n",
    "print(values)\n",
    "p.run(0, values).wait()"
   ]
  },
  {
   "cell_type": "code",
   "execution_count": 35,
   "id": "2c8df6d7",
   "metadata": {},
   "outputs": [
    {
     "name": "stderr",
     "output_type": "stream",
     "text": [
      "INFO:craco.search_pipeline:Last candidate is (0, 0, 0, 0, 0)\n"
     ]
    },
    {
     "name": "stdout",
     "output_type": "stream",
     "text": [
      "Got 0 candidates\n",
      "[(0, 0, 0, 0, 0) (0, 0, 0, 0, 0) (0, 0, 0, 0, 0) ... (0, 0, 0, 0, 0)\n",
      " (0, 0, 0, 0, 0) (0, 0, 0, 0, 0)]\n",
      "# SNR\tupix\tvpix\tboxc_width\ttime\tdm\tiblk\trawsn\n",
      "\n",
      "The sume all the mainbufs was 5312\n"
     ]
    }
   ],
   "source": [
    "cands = p.get_candidates()\n",
    "print(f'Got {len(cands)} candidates')\n",
    "if len(cands) == 0: # are you sure?\n",
    "    p.candidates.copy_from_device()\n",
    "    print(p.candidates.nparr)\n",
    "    \n",
    "print_candidates(cands, 256, 0)\n",
    "print(\"The sume all the mainbufs was\", mainbuf.sum())"
   ]
  },
  {
   "cell_type": "code",
   "execution_count": 36,
   "id": "3ab9d867",
   "metadata": {},
   "outputs": [
    {
     "name": "stdout",
     "output_type": "stream",
     "text": [
      "Boxcar max boxcar=0 max=0\n",
      "Boxcar max boxcar=1 max=0\n",
      "Boxcar max boxcar=2 max=10\n",
      "Boxcar max boxcar=3 max=667\n",
      "Boxcar max boxcar=4 max=0\n",
      "Boxcar max boxcar=5 max=0\n",
      "Boxcar max boxcar=6 max=0\n"
     ]
    },
    {
     "data": {
      "image/png": "[encoded data removed]",
      "text/plain": [
       "<Figure size 1008x360 with 8 Axes>"
      ]
     },
     "metadata": {
      "needs_background": "light"
     },
     "output_type": "display_data"
    }
   ],
   "source": [
    "p.boxcar_history.copy_from_device()\n",
    "fig, ax = subplots(2,4)\n",
    "fig.set_size_inches(14,5)\n",
    "ax = ax.flatten()\n",
    "for b, myax in zip(range(p.boxcar_history.shape[1]), ax):\n",
    "    d = p.boxcar_history.nparr[dm, b, :, :]\n",
    "    print(f'Boxcar max boxcar={b} max={d.max()}')\n",
    "    myax.imshow(np.fft.fftshift(d))"
   ]
  },
  {
   "cell_type": "code",
   "execution_count": 37,
   "id": "8b59bf2a",
   "metadata": {},
   "outputs": [
    {
     "data": {
      "text/plain": [
       "(120.0, 136.0)"
      ]
     },
     "execution_count": 37,
     "metadata": {},
     "output_type": "execute_result"
    },
    {
     "data": {
      "image/png": "[encoded data removed]",
      "text/plain": [
       "<Figure size 432x288 with 1 Axes>"
      ]
     },
     "metadata": {
      "needs_background": "light"
     },
     "output_type": "display_data"
    }
   ],
   "source": [
    "imshow(np.fft.fftshift(p.boxcar_history.nparr[dm,3,:,:]))\n",
    "xlim(128-8,128+8)\n",
    "ylim(128-8,128+8)"
   ]
  },
  {
   "cell_type": "code",
   "execution_count": 38,
   "id": "52829952",
   "metadata": {},
   "outputs": [
    {
     "name": "stdout",
     "output_type": "stream",
     "text": [
      "scale=0.12556475903614459 7.964017991004497\n"
     ]
    }
   ],
   "source": [
    "scale = p.boxcar_history.nparr.max() / mainbuf.sum()\n",
    "print(f'scale={scale} {1/scale}')"
   ]
  },
  {
   "cell_type": "markdown",
   "id": "2b0bb0eb",
   "metadata": {},
   "source": [
    "# with FFT scale = 7, the scaling from sum(input) to output is 8. Roughly. Does this make sense?\n",
    "I.e. the output is 1/8 of the sum of the inputs.\n",
    "Well, You might think the scaling would be 8*8 for the FFT, reduced bye 128 for the intermediate scaling. The the\n",
    "remaining scaling must be 4096 = $2^{12}$. Does that make sense? Maybe, but it probably doesn't matter too much.It must be to do with how the top 16 bits are taken in the output. It's a 36 bit number. Only the top 16 bits are kept, so you could say it's dividing by $2^{20}$ - but that's much larger than $2^{12}$\n"
   ]
  },
  {
   "cell_type": "code",
   "execution_count": 30,
   "id": "8912c73f",
   "metadata": {},
   "outputs": [
    {
     "name": "stdout",
     "output_type": "stream",
     "text": [
      "0\n",
      "7\n"
     ]
    }
   ],
   "source": [
    "print(values.fft_shift1)\n",
    "print(values.fft_shift2)"
   ]
  },
  {
   "cell_type": "code",
   "execution_count": null,
   "id": "2acfd406",
   "metadata": {},
   "outputs": [],
   "source": [
    "print(cands)\n",
    "cands = cands[cands['dm'] == 0] # DM 0 adn 1 are repeated, I think."
   ]
  },
  {
   "cell_type": "code",
   "execution_count": null,
   "id": "5db8ddb0",
   "metadata": {},
   "outputs": [],
   "source": []
  },
  {
   "cell_type": "code",
   "execution_count": null,
   "id": "6bb8d676",
   "metadata": {},
   "outputs": [],
   "source": [
    "grid = grid_candidates(cands, 'snr')\n",
    "fig, ax = subplots(1,2)\n",
    "ax[0].imshow(grid)\n",
    "ax[1].imshow(grid)\n",
    "ax[1].set_xlim(128-8,128+8)\n",
    "ax[1].set_ylim(128-8,128+8)\n",
    "fig.set_size_inches([10,5])"
   ]
  },
  {
   "cell_type": "code",
   "execution_count": null,
   "id": "426506a6",
   "metadata": {},
   "outputs": [],
   "source": [
    "grid = grid_candidates(cands, 'count')\n",
    "fig, ax = subplots(1,2)\n",
    "ax[0].imshow(grid)\n",
    "ax[1].imshow(grid)\n",
    "ax[1].set_xlim(128-8,128+8)\n",
    "ax[1].set_ylim(128-8,128+8)\n",
    "fig.set_size_inches([10,5])"
   ]
  },
  {
   "cell_type": "code",
   "execution_count": null,
   "id": "ea843ff3",
   "metadata": {},
   "outputs": [],
   "source": []
  },
  {
   "cell_type": "markdown",
   "id": "31984c1a",
   "metadata": {},
   "source": [
    "# Check DM0 for trange makes sense"
   ]
  },
  {
   "cell_type": "code",
   "execution_count": null,
   "id": "49fe12cf",
   "metadata": {},
   "outputs": [],
   "source": [
    "location2pix(0)"
   ]
  },
  {
   "cell_type": "code",
   "execution_count": null,
   "id": "412b28b5",
   "metadata": {},
   "outputs": [],
   "source": [
    "all_cands = []\n",
    "dm = 0\n",
    "for t0 in range(16):\n",
    "    p.clear_buffers(values)\n",
    "    # dmamp = 32 gives SNR=14.2\n",
    "    dmamp = 32\n",
    "    print('t0', t0)\n",
    "\n",
    "    # put in a value for a single time and DM\n",
    "    for b in p.all_mainbufs:\n",
    "        b.nparr[:] = 0\n",
    "        b.nparr[:,dm,0,t0,:,0] = dmamp\n",
    "        b.copy_to_device()\n",
    "\n",
    "    values.run_fdmt = False\n",
    "    values.run_image = True\n",
    "    values.threshold = 5\n",
    "    p.run(0, values).wait()\n",
    "    cands = p.get_candidates().copy()\n",
    "    all_cands.append(cands)\n",
    "    c0 = cands[0]\n",
    "    print(c0)\n",
    "    #assert c0['upix'] == 128\n",
    "    #assert c0['vpix'] == 128\n",
    "    #assert c0['boxc_width'] == 0\n",
    "    #assert c0['time'] == t0\n",
    "    #assert c0['dm'] == 0\n",
    "    print_candidates(cands, 256, 0)\n",
    "    centrepix = cands[cands['loc_2dfft'] == 0] # 128, 128\n",
    "    print_candidates(centrepix, 256,0)\n",
    "    \n",
    "\n",
    "    "
   ]
  },
  {
   "cell_type": "code",
   "execution_count": null,
   "id": "5ed18649",
   "metadata": {},
   "outputs": [],
   "source": [
    "for c in all_cands:\n",
    "    print_candidates(c, 256, 0)"
   ]
  },
  {
   "cell_type": "markdown",
   "id": "18a408a0",
   "metadata": {},
   "source": [
    "# FDMT the input of DM=0"
   ]
  },
  {
   "cell_type": "code",
   "execution_count": null,
   "id": "f53188aa",
   "metadata": {},
   "outputs": [],
   "source": [
    "all_cands = []\n",
    "t0 = 0\n",
    "print(p.inbuf.shape)\n",
    "\n",
    "values.run_fdmt = True\n",
    "values.run_image = True\n",
    "values.threshold = 10\n",
    "p.clear_buffers(values)\n",
    "p.inbuf.nparr[:,t0,:,:,0] = 1\n",
    "p.inbuf.copy_to_device()\n",
    "\n"
   ]
  },
  {
   "cell_type": "code",
   "execution_count": null,
   "id": "45180901",
   "metadata": {},
   "outputs": [],
   "source": [
    "\n",
    "print('t0', t0)\n",
    "\n",
    "p.run(0, values).wait()\n",
    "cands = p.get_candidates().copy()\n"
   ]
  },
  {
   "cell_type": "code",
   "execution_count": null,
   "id": "52f152ce",
   "metadata": {},
   "outputs": [],
   "source": [
    "grid = grid_candidates(cands, 'count')\n",
    "fig, ax = subplots(1,2)\n",
    "ax[0].imshow(grid)\n",
    "ax[1].imshow(grid)\n",
    "ax[1].set_xlim(128-8,128+8)\n",
    "ax[1].set_ylim(128-8,128+8)\n",
    "fig.set_size_inches([10,5])"
   ]
  },
  {
   "cell_type": "code",
   "execution_count": null,
   "id": "0c4aeb62",
   "metadata": {},
   "outputs": [],
   "source": [
    "grid = grid_candidates(cands, 'snr')\n",
    "fig, ax = subplots(1,2)\n",
    "ax[0].imshow(grid)\n",
    "ax[1].imshow(grid)\n",
    "ax[1].set_xlim(128-8,128+8)\n",
    "ax[1].set_ylim(128-8,128+8)\n",
    "fig.set_size_inches([10,5])"
   ]
  },
  {
   "cell_type": "code",
   "execution_count": null,
   "id": "02d3a24d",
   "metadata": {},
   "outputs": [],
   "source": [
    "mainbuf = p.copy_mainbuf()"
   ]
  },
  {
   "cell_type": "code",
   "execution_count": null,
   "id": "b26a79ef",
   "metadata": {},
   "outputs": [],
   "source": [
    "print(mainbuf.shape)\n",
    "# look at the DM-time plan for UV 0\n",
    "d = mainbuf[0,:,0,:,0,0]\n",
    "imshow(d, aspect='auto', origin='lower')\n",
    "xlabel('time')\n",
    "ylabel('dm')\n",
    "printstats(d)"
   ]
  },
  {
   "cell_type": "code",
   "execution_count": null,
   "id": "143221ac",
   "metadata": {},
   "outputs": [],
   "source": [
    "# look at DM=0 for all UVs\n",
    "d = mainbuf[:,0,0,:,:,0].transpose([0,2,1])\n",
    "print(d.shape)\n",
    "d = d.reshape(d.shape[0]*d.shape[1], d.shape[2])\n",
    "print(d.shape)\n",
    "\n",
    "imshow(d.T, aspect='auto', origin='lower')\n",
    "xlabel('UV')\n",
    "ylabel('Time')"
   ]
  },
  {
   "cell_type": "code",
   "execution_count": null,
   "id": "0a9698a1",
   "metadata": {},
   "outputs": [],
   "source": [
    "print(dir(plan))\n",
    "plot(d[:plan.fdmt_plan.nuvtotal, 0])\n",
    " # Oh yeah, OK, this makes sense. It's 32 for all baselines because I made every UV = 1. IN practice, it won't be that neat."
   ]
  },
  {
   "cell_type": "markdown",
   "id": "afb32003",
   "metadata": {},
   "source": [
    "# And what if I grid everything properly - i.e. start with baslines,the convert to UV then run the pipeline"
   ]
  },
  {
   "cell_type": "code",
   "execution_count": null,
   "id": "512dc75e",
   "metadata": {},
   "outputs": [],
   "source": [
    "print(plan.baseline_shape) # nbl, nc, nt\n",
    "values.input_scale = 1./16. # need this otherwise somewhere candidates overflow."
   ]
  },
  {
   "cell_type": "code",
   "execution_count": null,
   "id": "d26b9a75",
   "metadata": {},
   "outputs": [],
   "source": [
    "din = np.zeros(plan.baseline_shape, dtype=np.complex64)\n",
    "din[:, :, 0] = 1 # making this 32 overflows the FDMT\n"
   ]
  },
  {
   "cell_type": "code",
   "execution_count": null,
   "id": "cb5afe0d",
   "metadata": {},
   "outputs": [],
   "source": [
    "import craft.craco\n",
    "fast_baseline2uv = craft.craco.FastBaseline2Uv(plan, conjugate_lower_uvs=True)\n",
    "uv_shape     = (plan.nuvrest, plan.nt, plan.ncin, plan.nuvwide)\n",
    "uv_out  = np.zeros(uv_shape, dtype=np.complex64)\n",
    "fast_baseline2uv(din, uv_out)\n",
    "p.clear_buffers(values)"
   ]
  },
  {
   "cell_type": "code",
   "execution_count": null,
   "id": "9a05ce9a",
   "metadata": {},
   "outputs": [],
   "source": [
    "print(uv_out.shape)"
   ]
  },
  {
   "cell_type": "code",
   "execution_count": null,
   "id": "a5693f6a",
   "metadata": {},
   "outputs": [],
   "source": [
    "p.inbuf.nparr[:,:,:,:,0] = np.round(uv_out[:,:,:,:].real*(values.input_scale*float(1<<NBINARY_POINT_FDMTIN)))\n",
    "p.inbuf.nparr[:,:,:,:,1] = np.round(uv_out[:,:,:,:].imag*(values.input_scale*float(1<<NBINARY_POINT_FDMTIN)))\n",
    "print(p.inbuf.nparr.mean())"
   ]
  },
  {
   "cell_type": "code",
   "execution_count": null,
   "id": "56ac1158",
   "metadata": {},
   "outputs": [],
   "source": [
    "p.inbuf.copy_to_device()"
   ]
  },
  {
   "cell_type": "code",
   "execution_count": null,
   "id": "a06fe8f0",
   "metadata": {},
   "outputs": [],
   "source": [
    "\n",
    "p.run(0, values).wait()"
   ]
  },
  {
   "cell_type": "code",
   "execution_count": null,
   "id": "b5de4958",
   "metadata": {},
   "outputs": [],
   "source": [
    "mainbuf = p.copy_mainbuf()"
   ]
  },
  {
   "cell_type": "code",
   "execution_count": null,
   "id": "db433708",
   "metadata": {
    "scrolled": true
   },
   "outputs": [],
   "source": [
    "print(mainbuf.shape)\n",
    "# look at the DM-time plan for UV 0\n",
    "d = mainbuf[0,:,0,:,0,0]\n",
    "imshow(d, aspect='auto', origin='lower')\n",
    "printstats(d)"
   ]
  },
  {
   "cell_type": "code",
   "execution_count": null,
   "id": "80db0814",
   "metadata": {},
   "outputs": [],
   "source": [
    "# look at DM=0 for all UVs\n",
    "d = mainbuf[:,0,0,:,:,0].transpose([0,2,1])\n",
    "print(d.shape)\n",
    "d = d.reshape(d.shape[0]*d.shape[1], d.shape[2])\n",
    "print(d.shape)\n",
    "\n",
    "imshow(d.T, aspect='auto', origin='lower')"
   ]
  },
  {
   "cell_type": "code",
   "execution_count": null,
   "id": "63448b90",
   "metadata": {},
   "outputs": [],
   "source": [
    "plot(d[:, 0])\n",
    "# OK so this crazy shape is because of how we're inefficiently packing channels into UV points"
   ]
  },
  {
   "cell_type": "code",
   "execution_count": null,
   "id": "2ac14ac5",
   "metadata": {},
   "outputs": [],
   "source": [
    "cands = p.get_candidates()\n",
    "print(len(cands))"
   ]
  },
  {
   "cell_type": "code",
   "execution_count": null,
   "id": "8e4c0e2f",
   "metadata": {},
   "outputs": [],
   "source": [
    "grid = grid_candidates(cands, 'snr')\n",
    "fig, ax = subplots(1,2)\n",
    "ax[0].imshow(grid)\n",
    "ax[1].imshow(grid)\n",
    "ax[1].set_xlim(128-8,128+8)\n",
    "ax[1].set_ylim(128-8,128+8)\n",
    "fig.set_size_inches([10,5])"
   ]
  },
  {
   "cell_type": "code",
   "execution_count": null,
   "id": "2a9c35c4",
   "metadata": {},
   "outputs": [],
   "source": [
    "print_candidates(cands, 256, 0)"
   ]
  },
  {
   "cell_type": "markdown",
   "id": "ffd31b8a",
   "metadata": {},
   "source": [
    "# How about pulse with Nonzero DM?"
   ]
  },
  {
   "cell_type": "code",
   "execution_count": null,
   "id": "e14edbfa",
   "metadata": {},
   "outputs": [],
   "source": [
    "from craft import simfrb"
   ]
  },
  {
   "cell_type": "code",
   "execution_count": null,
   "id": "cd3b5b25",
   "metadata": {},
   "outputs": [],
   "source": [
    "dm = 100\n",
    "toff = 10\n",
    "tsamp = 1.7\n",
    "frb = simfrb.mkfrb_fdmt(plan.fmin/1e9, plan.foff/1e9, plan.nf, tsamp, dm, toffset=toff, ntimes=plan.nt)"
   ]
  },
  {
   "cell_type": "code",
   "execution_count": null,
   "id": "1128f5c7",
   "metadata": {},
   "outputs": [],
   "source": [
    "imshow(frb.T, aspect='auto', origin='lower', interpolation='none')\n",
    "xlim(50,100)"
   ]
  },
  {
   "cell_type": "code",
   "execution_count": null,
   "id": "fc0f0f71",
   "metadata": {},
   "outputs": [],
   "source": [
    "din[:] = 0\n",
    "print(din.shape, frb.shape)\n",
    "din[:] = frb.T\n",
    "fast_baseline2uv(din, uv_out)\n",
    "assert din.sum() == uv_out.sum(), 'baseline2uv didnt conserve energy'"
   ]
  },
  {
   "cell_type": "code",
   "execution_count": null,
   "id": "2c897ec1",
   "metadata": {},
   "outputs": [],
   "source": [
    "imshow(din[0,:,:].real, origin='lower')"
   ]
  },
  {
   "cell_type": "code",
   "execution_count": null,
   "id": "3f84c43c",
   "metadata": {},
   "outputs": [],
   "source": [
    "plot(uv_out.sum(axis=1).sum(axis=1).real)"
   ]
  },
  {
   "cell_type": "code",
   "execution_count": null,
   "id": "394ce06e",
   "metadata": {},
   "outputs": [],
   "source": [
    "print(uv_out.shape, uv_out.sum(), din.sum())\n",
    "imshow(uv_out[1,:,:,0].real.T, aspect='auto', origin='lower')"
   ]
  },
  {
   "cell_type": "code",
   "execution_count": null,
   "id": "4096fc44",
   "metadata": {},
   "outputs": [],
   "source": [
    "# This one seems to hang when together with the 3 cells below. Let's space it out.\n",
    "p.clear_buffers(values)\n"
   ]
  },
  {
   "cell_type": "code",
   "execution_count": null,
   "id": "9a97de33",
   "metadata": {},
   "outputs": [],
   "source": [
    "\n",
    "p.inbuf.nparr[:,:,:,:,0] = np.round(uv_out[:,:,:,:].real*(values.input_scale*float(1<<NBINARY_POINT_FDMTIN)))\n",
    "p.inbuf.nparr[:,:,:,:,1] = np.round(uv_out[:,:,:,:].imag*(values.input_scale*float(1<<NBINARY_POINT_FDMTIN)))\n",
    "p.inbuf.copy_to_device()\n",
    "values.run_fdmt = True\n",
    "values.run_image = True\n",
    "values.threshold = 10\n"
   ]
  },
  {
   "cell_type": "code",
   "execution_count": null,
   "id": "3c677519",
   "metadata": {},
   "outputs": [],
   "source": [
    "p.run(0, values).wait()"
   ]
  },
  {
   "cell_type": "code",
   "execution_count": null,
   "id": "8efd2c58",
   "metadata": {},
   "outputs": [],
   "source": [
    "cands = p.get_candidates()\n",
    "print_candidates(cands, 256, 0)"
   ]
  },
  {
   "cell_type": "code",
   "execution_count": null,
   "id": "d292e143",
   "metadata": {},
   "outputs": [],
   "source": [
    "grid = grid_candidates(cands, 'snr')\n",
    "fig, ax = subplots(1,2)\n",
    "ax[0].imshow(grid)\n",
    "ax[1].imshow(grid)\n",
    "ax[1].set_xlim(128-8,128+8)\n",
    "ax[1].set_ylim(128-8,128+8)\n",
    "fig.set_size_inches([10,5])"
   ]
  },
  {
   "cell_type": "code",
   "execution_count": null,
   "id": "dc0814af",
   "metadata": {},
   "outputs": [],
   "source": [
    "grid = grid_candidates(cands, 'count')\n",
    "fig, ax = subplots(1,2)\n",
    "ax[0].imshow(grid)\n",
    "ax[1].imshow(grid)\n",
    "ax[1].set_xlim(128-8,128+8)\n",
    "ax[1].set_ylim(128-8,128+8)\n",
    "fig.set_size_inches([10,5])"
   ]
  },
  {
   "cell_type": "code",
   "execution_count": null,
   "id": "3e392a9e",
   "metadata": {},
   "outputs": [],
   "source": [
    "mainbuf = p.copy_mainbuf()"
   ]
  },
  {
   "cell_type": "code",
   "execution_count": null,
   "id": "ab61aaf0",
   "metadata": {},
   "outputs": [],
   "source": [
    "print(mainbuf.shape)\n",
    "d = mainbuf[0,:,0,:,0,0]\n",
    "imshow(d, aspect='auto', origin='lower')\n",
    "printstats(d)"
   ]
  },
  {
   "cell_type": "code",
   "execution_count": null,
   "id": "ef480336",
   "metadata": {},
   "outputs": [],
   "source": []
  }
 ],
 "metadata": {
  "kernelspec": {
   "display_name": "venv",
   "language": "python",
   "name": "venv"
  },
  "language_info": {
   "codemirror_mode": {
    "name": "ipython",
    "version": 3
   },
   "file_extension": ".py",
   "mimetype": "text/x-python",
   "name": "python",
   "nbconvert_exporter": "python",
   "pygments_lexer": "ipython3",
   "version": "3.6.9"
  }
 },
 "nbformat": 4,
 "nbformat_minor": 5
}
