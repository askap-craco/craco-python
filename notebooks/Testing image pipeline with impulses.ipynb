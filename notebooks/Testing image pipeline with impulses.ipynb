{
 "cells": [
  {
   "cell_type": "code",
   "execution_count": 55,
   "id": "06aae022",
   "metadata": {},
   "outputs": [],
   "source": [
    "%matplotlib inline\n",
    "from pylab import *\n",
    "import numpy as np\n",
    "from craco.search_pipeline import location2pix, get_grid_lut_from_plan, grid_candidates,wait_for_starts,waitall,print_candidates\n",
    "from craco.search_pipeline import NBINARY_POINT_FDMTIN \n",
    "import craco\n",
    "import craco.search_pipeline\n",
    "from craco.pyxrtutil import *\n",
    "import craft.craco_plan\n",
    "\n",
    "from craft import uvfits\n",
    "\n",
    "from craft.craco_plan import PipelinePlan\n",
    "from craft.craco import printstats\n"
   ]
  },
  {
   "cell_type": "code",
   "execution_count": 2,
   "id": "9073c291",
   "metadata": {},
   "outputs": [],
   "source": [
    "fits='/data/craco/ban115/test_data/frb_d0_t0_a1_sninf_lm00/frb_d0_t0_a1_sninf_lm00.fits'\n",
    "xclbin='/data/craco/ban115/builds/binary_container_1_10688715.xclbin'\n",
    "#xclbin='/data/craco/ban115/builds/binary_container_01482863.xclbin'\n",
    "alloc_device_only=True"
   ]
  },
  {
   "cell_type": "code",
   "execution_count": 3,
   "id": "6159519e",
   "metadata": {},
   "outputs": [
    {
     "name": "stdout",
     "output_type": "stream",
     "text": [
      "Namespace(boxcar_weight='sum', cand_file='candidates.txt', cell=None, device=0, dump_boxcar_hist_buf=None, dump_candidates=None, dump_fdmt_hist_buf=None, dump_mainbufs=None, dump_uvdata=None, fdmt_scale=1.0, fft_scale=10.0, input_scale=1.0, nblocks=1, nbox=8, ncin=32, ndm=2, ndout=186, npix=256, nt=256, nuvmax=8192, nuvwide=8, os='2.1,2.1', run_fdmt=True, run_image=True, show=False, show_candidate_grid=None, threshold=10.0, uv='frb_d0_lm0_nt16_nant24.fits', verbose=False, wait=False, xclbin='binary_container_1.xclbin.golden')\n"
     ]
    }
   ],
   "source": [
    "values = craco.search_pipeline.get_parser().parse_args([])\n",
    "print(values)"
   ]
  },
  {
   "cell_type": "code",
   "execution_count": 4,
   "id": "18db4824",
   "metadata": {},
   "outputs": [],
   "source": [
    "device = pyxrt.device(1)\n",
    "xbin = pyxrt.xclbin(xclbin)\n",
    "uuid = device.load_xclbin(xbin)\n"
   ]
  },
  {
   "cell_type": "code",
   "execution_count": 5,
   "id": "d0af6f9c",
   "metadata": {},
   "outputs": [
    {
     "name": "stdout",
     "output_type": "stream",
     "text": [
      "parsing values --ndm 2 --ndout 186\n"
     ]
    }
   ],
   "source": [
    "f = uvfits.open(fits)\n",
    "plan = PipelinePlan(f, \"--ndm 2 --ndout 186\")"
   ]
  },
  {
   "cell_type": "code",
   "execution_count": 6,
   "id": "59cbc494",
   "metadata": {},
   "outputs": [
    {
     "name": "stdout",
     "output_type": "stream",
     "text": [
      "186\n"
     ]
    }
   ],
   "source": [
    "print(plan.ndout)"
   ]
  },
  {
   "cell_type": "code",
   "execution_count": 7,
   "id": "7d55495b",
   "metadata": {},
   "outputs": [
    {
     "name": "stdout",
     "output_type": "stream",
     "text": [
      "Kernel krnl_ddgrid_reader_4cu:krnl_ddgrid_reader_4cu_1 has groups\n",
      "GID=0=32\n",
      "GID=1=-1\n",
      "GID=2=-1\n",
      "GID=3=-1\n",
      "GID=4=-1\n",
      "GID=5=15\n",
      "Kernel krnl_grid_4cu:krnl_grid_4cu_1 has groups\n",
      "GID=0=-1\n",
      "GID=1=-1\n",
      "GID=2=-1\n",
      "GID=3=-1\n",
      "GID=4=-1\n",
      "GID=5=6\n",
      "Kernel krnl_grid_4cu:krnl_grid_4cu_2 has groups\n",
      "GID=0=-1\n",
      "GID=1=-1\n",
      "GID=2=-1\n",
      "GID=3=-1\n",
      "GID=4=-1\n",
      "GID=5=7\n",
      "Kernel krnl_grid_4cu:krnl_grid_4cu_3 has groups\n",
      "GID=0=-1\n",
      "GID=1=-1\n",
      "GID=2=-1\n",
      "GID=3=-1\n",
      "GID=4=-1\n",
      "GID=5=20\n",
      "Kernel krnl_grid_4cu:krnl_grid_4cu_4 has groups\n",
      "GID=0=-1\n",
      "GID=1=-1\n",
      "GID=2=-1\n",
      "GID=3=-1\n",
      "GID=4=-1\n",
      "GID=5=21\n",
      "Kernel fft2d:fft2d_1 has groups\n",
      "Kernel fft2d:fft2d_2 has groups\n",
      "Kernel fft2d:fft2d_3 has groups\n",
      "Kernel fft2d:fft2d_4 has groups\n",
      "Kernel krnl_boxc_4cu:krnl_boxc_4cu_1 has groups\n",
      "GID=0=-1\n",
      "GID=1=-1\n",
      "GID=2=-1\n",
      "GID=3=54\n",
      "GID=4=54\n",
      "GID=5=4\n",
      "Kernel fdmt_tunable_c32:fdmt_tunable_c32_1 has groups\n",
      "GID=0=52\n",
      "GID=1=32\n",
      "GID=2=53\n",
      "GID=3=53\n",
      "GID=4=14\n",
      "Allocated 360428 bytes flags=flags.normal groupid=6 address=0x60000000\n",
      "Allocated 360428 bytes flags=flags.normal groupid=7 address=0x70000000\n",
      "Allocated 360428 bytes flags=flags.normal groupid=20 address=0x140000000\n",
      "Allocated 360428 bytes flags=flags.normal groupid=21 address=0x150000000\n",
      "Allocated 172752896 bytes flags=flags.normal groupid=52 address=0x90000000\n",
      "Allocated 268435456 bytes flags=flags.normal groupid=53 address=0xa0000000\n",
      "Allocated 653728 bytes flags=flags.normal groupid=14 address=0xe0000000\n",
      "Allocated 1391149056 bytes flags=flags.normal groupid=32 address=0x4000000000\n",
      "Allocated 1391149056 bytes flags=flags.normal groupid=32 address=0x4052eb4000\n",
      "Allocated 1391149056 bytes flags=flags.normal groupid=32 address=0x40a5d68000\n",
      "Allocated 1391149056 bytes flags=flags.normal groupid=32 address=0x40f8c1c000\n",
      "Allocated 1391149056 bytes flags=flags.normal groupid=32 address=0x414bad0000\n",
      "Allocated 1391149056 bytes flags=flags.normal groupid=32 address=0x419e984000\n",
      "Allocated 1391149056 bytes flags=flags.normal groupid=32 address=0x41f1838000\n",
      "Allocated 1391149056 bytes flags=flags.normal groupid=32 address=0x42446ec000\n",
      "Allocated 6732 bytes flags=flags.normal groupid=15 address=0xf0000000\n",
      "Allocated 1073741824 bytes flags=flags.normal groupid=54 address=0x0\n",
      "Boxcar history (1024, 8, 256, 256) 1073741824 2\n",
      "Allocated 1048576 bytes flags=flags.normal groupid=4 address=0x40000000\n"
     ]
    }
   ],
   "source": [
    "p = craco.search_pipeline.Pipeline(device, xbin, plan, alloc_device_only)"
   ]
  },
  {
   "cell_type": "code",
   "execution_count": 8,
   "id": "a0a509c5",
   "metadata": {},
   "outputs": [
    {
     "name": "stdout",
     "output_type": "stream",
     "text": [
      "[83, 186, 11, 256, 8, 2]\n",
      "[83, 186, 11, 256, 8, 2]\n",
      "[83, 186, 11, 256, 8, 2]\n",
      "[83, 186, 11, 256, 8, 2]\n",
      "[83, 186, 11, 256, 8, 2]\n",
      "[83, 186, 11, 256, 8, 2]\n",
      "[83, 186, 11, 256, 8, 2]\n",
      "[83, 186, 11, 256, 8, 2]\n"
     ]
    }
   ],
   "source": [
    "p.clear_buffers(values)\n",
    "# dmamp = 32 gives SNR=14.2\n",
    "dmamp = 32\n",
    "t0 = 0\n",
    "\n",
    "# put in a value for a single time and DM\n",
    "for b in p.all_mainbufs:\n",
    "    print(b.shape)\n",
    "    #b.nparr[:] = dmamp #np.random.randn(*b.nparr.shape)\n",
    "    #b.nparr[:] = dmamp\n",
    "    b.nparr[:,:,:,t0,:,0] = dmamp\n",
    "    b.copy_to_device() "
   ]
  },
  {
   "cell_type": "code",
   "execution_count": 9,
   "id": "5ee6ac04",
   "metadata": {},
   "outputs": [],
   "source": [
    "mainbuf = p.copy_mainbuf()"
   ]
  },
  {
   "cell_type": "code",
   "execution_count": 10,
   "id": "26f9c61e",
   "metadata": {},
   "outputs": [
    {
     "name": "stdout",
     "output_type": "stream",
     "text": [
      "(664, 186, 11, 256, 8, 2)\n",
      "347787264\n"
     ]
    },
    {
     "data": {
      "image/png": "[encoded data removed]",
      "text/plain": [
       "<Figure size 432x288 with 1 Axes>"
      ]
     },
     "metadata": {
      "needs_background": "light"
     },
     "output_type": "display_data"
    }
   ],
   "source": [
    "print(mainbuf.shape)\n",
    "plot(mainbuf[:,0,0,t0,:,0].flat)\n",
    "assert np.all(mainbuf[:,0,0,t0,:,0] == dmamp)\n",
    "assert np.all(mainbuf[:,1:,1:,:t0,:,1] == 0)\n",
    "assert np.all(mainbuf[:,1:,1:,:t0+1,:,1] == 0)\n",
    "print(mainbuf.sum())"
   ]
  },
  {
   "cell_type": "code",
   "execution_count": 11,
   "id": "24890704",
   "metadata": {},
   "outputs": [
    {
     "name": "stdout",
     "output_type": "stream",
     "text": [
      "Namespace(boxcar_weight='sum', cand_file='candidates.txt', cell=None, device=0, dump_boxcar_hist_buf=None, dump_candidates=None, dump_fdmt_hist_buf=None, dump_mainbufs=None, dump_uvdata=None, fdmt_scale=1.0, fft_scale=10.0, input_scale=1.0, nblocks=1, nbox=8, ncin=32, ndm=2, ndout=186, npix=256, nt=256, nuvmax=8192, nuvwide=8, os='2.1,2.1', run_fdmt=False, run_image=True, show=False, show_candidate_grid=None, threshold=3, uv='frb_d0_lm0_nt16_nant24.fits', verbose=False, wait=False, xclbin='binary_container_1.xclbin.golden')\n"
     ]
    }
   ],
   "source": [
    "values.run_fdmt = False\n",
    "values.run_image = True\n",
    "values.threshold = 3\n",
    "print(values)\n",
    "p.run(0, values).wait()"
   ]
  },
  {
   "cell_type": "code",
   "execution_count": 12,
   "id": "79e64738",
   "metadata": {},
   "outputs": [
    {
     "name": "stdout",
     "output_type": "stream",
     "text": [
      "Got 298 candidates\n",
      "# SNR\tupix\tvpix\tboxc_width\ttime\tdm\tiblk\n",
      "\n",
      "83.5\t128\t128\t0\t\t0\t0\t0\n",
      "16.4\t127\t128\t0\t\t1\t0\t0\n",
      "11.5\t129\t129\t1\t\t1\t0\t0\n",
      "3.0\t162\t129\t0\t\t1\t0\t0\n",
      "34.9\t127\t129\t0\t\t0\t0\t0\n",
      "5.6\t138\t130\t0\t\t0\t0\t0\n",
      "5.2\t122\t130\t0\t\t0\t0\t0\n",
      "8.0\t135\t131\t0\t\t1\t0\t0\n",
      "3.3\t105\t131\t0\t\t0\t0\t0\n",
      "5.0\t120\t131\t0\t\t1\t0\t0\n",
      "5.2\t134\t132\t1\t\t1\t0\t0\n",
      "7.9\t124\t132\t0\t\t0\t0\t0\n",
      "8.0\t133\t133\t0\t\t0\t0\t0\n",
      "3.5\t102\t133\t0\t\t1\t0\t0\n",
      "4.5\t123\t133\t0\t\t0\t0\t0\n",
      "6.8\t134\t134\t0\t\t0\t0\t0\n",
      "5.2\t117\t134\t0\t\t1\t0\t0\n",
      "8.0\t131\t135\t0\t\t1\t0\t0\n",
      "3.6\t147\t135\t0\t\t0\t0\t0\n",
      "5.6\t116\t135\t0\t\t1\t0\t0\n",
      "6.5\t136\t136\t1\t\t1\t0\t0\n",
      "3.9\t110\t136\t0\t\t0\t0\t0\n",
      "5.2\t126\t136\t1\t\t1\t0\t0\n",
      "5.0\t131\t137\t0\t\t0\t0\t0\n",
      "3.4\t179\t137\t0\t\t0\t0\t0\n",
      "3.3\t111\t137\t1\t\t1\t0\t0\n",
      "4.5\t118\t137\t0\t\t1\t0\t0\n",
      "5.6\t130\t138\t0\t\t0\t0\t0\n",
      "3.4\t178\t138\t1\t\t1\t0\t0\n",
      "3.9\t108\t138\t1\t\t1\t0\t0\n",
      "4.8\t117\t138\t0\t\t1\t0\t0\n",
      "4.5\t131\t139\t0\t\t0\t0\t0\n",
      "3.5\t181\t139\t0\t\t1\t0\t0\n",
      "3.8\t107\t139\t0\t\t1\t0\t0\n",
      "4.6\t121\t139\t0\t\t0\t0\t0\n",
      "4.4\t122\t140\t1\t\t1\t0\t0\n",
      "3.4\t101\t141\t0\t\t0\t0\t0\n",
      "6.1\t121\t141\t1\t\t1\t0\t0\n",
      "4.3\t100\t142\t0\t\t0\t0\t0\n",
      "6.6\t120\t142\t1\t\t1\t0\t0\n",
      "3.7\t99\t143\t1\t\t1\t0\t0\n",
      "3.9\t119\t143\t0\t\t0\t0\t0\n",
      "3.8\t96\t144\t0\t\t0\t0\t0\n",
      "3.1\t71\t145\t0\t\t0\t0\t0\n",
      "4.7\t95\t145\t1\t\t1\t0\t0\n",
      "3.5\t103\t145\t1\t\t1\t0\t0\n",
      "3.7\t94\t146\t1\t\t1\t0\t0\n",
      "4.0\t120\t146\t0\t\t0\t0\t0\n",
      "3.8\t135\t147\t0\t\t0\t0\t0\n",
      "3.2\t93\t147\t0\t\t1\t0\t0\n",
      "3.2\t119\t147\t0\t\t0\t0\t0\n",
      "3.6\t117\t148\t0\t\t1\t0\t0\n",
      "3.2\t96\t149\t0\t\t1\t0\t0\n",
      "3.4\t95\t150\t0\t\t1\t0\t0\n",
      "3.3\t94\t151\t0\t\t1\t0\t0\n",
      "3.3\t125\t151\t0\t\t0\t0\t0\n",
      "3.4\t97\t155\t0\t\t0\t0\t0\n",
      "3.4\t115\t155\t0\t\t0\t0\t0\n",
      "3.7\t96\t156\t0\t\t0\t0\t0\n",
      "4.5\t114\t156\t0\t\t0\t0\t0\n",
      "3.8\t95\t157\t0\t\t0\t0\t0\n",
      "3.6\t113\t157\t0\t\t0\t0\t0\n",
      "3.4\t94\t158\t0\t\t0\t0\t0\n",
      "3.4\t101\t159\t0\t\t0\t0\t0\n",
      "3.7\t100\t160\t0\t\t0\t0\t0\n",
      "3.7\t112\t160\t0\t\t0\t0\t0\n",
      "4.5\t111\t161\t0\t\t0\t0\t0\n",
      "3.3\t98\t162\t0\t\t0\t0\t0\n",
      "3.3\t108\t165\t0\t\t1\t0\t0\n",
      "3.4\t138\t178\t1\t\t1\t0\t0\n",
      "3.4\t137\t179\t0\t\t0\t0\t0\n",
      "3.1\t138\t180\t1\t\t1\t0\t0\n",
      "3.4\t139\t181\t0\t\t1\t0\t0\n",
      "3.0\t111\t185\t0\t\t0\t0\t0\n",
      "3.0\t145\t71\t0\t\t0\t0\t0\n",
      "3.5\t117\t74\t0\t\t1\t0\t0\n",
      "3.4\t119\t77\t0\t\t0\t0\t0\n",
      "3.2\t110\t89\t0\t\t1\t0\t0\n",
      "3.2\t147\t93\t0\t\t1\t0\t0\n",
      "3.7\t146\t94\t1\t\t1\t0\t0\n",
      "4.6\t145\t95\t1\t\t1\t0\t0\n",
      "3.7\t144\t96\t0\t\t0\t0\t0\n",
      "3.4\t155\t97\t0\t\t0\t0\t0\n",
      "3.1\t144\t98\t1\t\t1\t0\t0\n",
      "3.4\t162\t98\t0\t\t0\t0\t0\n",
      "4.0\t143\t99\t1\t\t1\t0\t0\n",
      "3.8\t161\t99\t0\t\t0\t0\t0\n",
      "4.5\t142\t100\t0\t\t0\t0\t0\n",
      "3.7\t160\t100\t0\t\t0\t0\t0\n",
      "3.4\t141\t101\t0\t\t0\t0\t0\n",
      "3.4\t159\t101\t0\t\t0\t0\t0\n",
      "3.3\t133\t102\t0\t\t1\t0\t0\n",
      "3.4\t145\t103\t1\t\t1\t0\t0\n",
      "3.3\t131\t105\t0\t\t0\t0\t0\n",
      "3.5\t139\t107\t0\t\t1\t0\t0\n",
      "3.9\t138\t108\t1\t\t1\t0\t0\n",
      "3.2\t165\t108\t0\t\t1\t0\t0\n",
      "3.0\t125\t108\t1\t\t1\t0\t0\n",
      "3.2\t137\t109\t0\t\t0\t0\t0\n",
      "3.8\t121\t109\t0\t\t0\t0\t0\n",
      "4.0\t136\t110\t0\t\t0\t0\t0\n",
      "3.2\t89\t110\t0\t\t1\t0\t0\n",
      "3.4\t137\t111\t1\t\t1\t0\t0\n",
      "4.6\t161\t111\t0\t\t0\t0\t0\n",
      "3.1\t185\t111\t0\t\t0\t0\t0\n",
      "3.8\t136\t112\t1\t\t1\t0\t0\n",
      "3.8\t160\t112\t0\t\t0\t0\t0\n",
      "3.9\t137\t113\t0\t\t0\t0\t0\n",
      "3.3\t157\t113\t0\t\t0\t0\t0\n",
      "4.4\t136\t114\t0\t\t0\t0\t0\n",
      "4.3\t156\t114\t0\t\t0\t0\t0\n",
      "3.6\t140\t115\t0\t\t1\t0\t0\n",
      "3.4\t155\t115\t0\t\t0\t0\t0\n",
      "5.6\t135\t116\t0\t\t1\t0\t0\n",
      "5.3\t134\t117\t0\t\t1\t0\t0\n",
      "3.7\t148\t117\t0\t\t1\t0\t0\n",
      "3.5\t74\t117\t0\t\t1\t0\t0\n",
      "4.5\t125\t117\t0\t\t0\t0\t0\n",
      "4.8\t134\t118\t0\t\t0\t0\t0\n",
      "3.2\t147\t118\t0\t\t1\t0\t0\n",
      "5.6\t126\t118\t0\t\t0\t0\t0\n",
      "3.8\t143\t119\t0\t\t0\t0\t0\n",
      "3.2\t147\t119\t0\t\t0\t0\t0\n",
      "3.4\t77\t119\t0\t\t0\t0\t0\n",
      "5.0\t125\t119\t0\t\t0\t0\t0\n",
      "6.7\t142\t120\t1\t\t1\t0\t0\n",
      "3.9\t146\t120\t0\t\t0\t0\t0\n",
      "6.0\t120\t120\t0\t\t0\t0\t0\n",
      "6.2\t141\t121\t1\t\t1\t0\t0\n",
      "3.5\t109\t121\t0\t\t0\t0\t0\n",
      "8.0\t124\t121\t0\t\t1\t0\t0\n",
      "5.1\t130\t122\t0\t\t0\t0\t0\n",
      "6.8\t122\t122\t0\t\t0\t0\t0\n",
      "4.5\t133\t123\t0\t\t0\t0\t0\n",
      "3.2\t145\t123\t0\t\t1\t0\t0\n",
      "8.0\t123\t123\t0\t\t0\t0\t0\n",
      "7.9\t132\t124\t0\t\t0\t0\t0\n",
      "8.2\t121\t124\t0\t\t1\t0\t0\n",
      "4.7\t131\t125\t0\t\t0\t0\t0\n",
      "3.3\t151\t125\t0\t\t0\t0\t0\n",
      "4.9\t119\t125\t0\t\t0\t0\t0\n",
      "5.2\t134\t126\t0\t\t0\t0\t0\n",
      "3.1\t148\t126\t1\t\t1\t0\t0\n",
      "5.6\t118\t126\t0\t\t0\t0\t0\n",
      "34.9\t129\t127\t0\t\t0\t0\t0\n",
      "7.2\t127\t127\t0\t\t0\t0\t0\n",
      "5.6\t127\t128\t7\t\t8\t0\t0\n",
      "3.1\t129\t129\t7\t\t8\t0\t0\n",
      "5.6\t128\t127\t7\t\t8\t0\t0\n",
      "83.5\t128\t128\t0\t\t0\t1\t0\n",
      "16.4\t127\t128\t0\t\t1\t1\t0\n",
      "11.5\t129\t129\t1\t\t1\t1\t0\n",
      "3.0\t162\t129\t0\t\t1\t1\t0\n",
      "34.9\t127\t129\t0\t\t0\t1\t0\n",
      "5.6\t138\t130\t0\t\t0\t1\t0\n",
      "5.2\t122\t130\t0\t\t0\t1\t0\n",
      "8.0\t135\t131\t0\t\t1\t1\t0\n",
      "3.3\t105\t131\t0\t\t0\t1\t0\n",
      "5.0\t120\t131\t0\t\t1\t1\t0\n",
      "5.2\t134\t132\t1\t\t1\t1\t0\n",
      "7.9\t124\t132\t0\t\t0\t1\t0\n",
      "8.0\t133\t133\t0\t\t0\t1\t0\n",
      "3.5\t102\t133\t0\t\t1\t1\t0\n",
      "4.5\t123\t133\t0\t\t0\t1\t0\n",
      "6.8\t134\t134\t0\t\t0\t1\t0\n",
      "5.2\t117\t134\t0\t\t1\t1\t0\n",
      "8.0\t131\t135\t0\t\t1\t1\t0\n",
      "3.6\t147\t135\t0\t\t0\t1\t0\n",
      "5.6\t116\t135\t0\t\t1\t1\t0\n",
      "6.5\t136\t136\t1\t\t1\t1\t0\n",
      "3.9\t110\t136\t0\t\t0\t1\t0\n",
      "5.2\t126\t136\t1\t\t1\t1\t0\n",
      "5.0\t131\t137\t0\t\t0\t1\t0\n",
      "3.4\t179\t137\t0\t\t0\t1\t0\n",
      "3.3\t111\t137\t1\t\t1\t1\t0\n",
      "4.5\t118\t137\t0\t\t1\t1\t0\n",
      "5.6\t130\t138\t0\t\t0\t1\t0\n",
      "3.4\t178\t138\t1\t\t1\t1\t0\n",
      "3.9\t108\t138\t1\t\t1\t1\t0\n",
      "4.8\t117\t138\t0\t\t1\t1\t0\n",
      "4.5\t131\t139\t0\t\t0\t1\t0\n",
      "3.5\t181\t139\t0\t\t1\t1\t0\n",
      "3.8\t107\t139\t0\t\t1\t1\t0\n",
      "4.6\t121\t139\t0\t\t0\t1\t0\n",
      "4.4\t122\t140\t1\t\t1\t1\t0\n",
      "3.4\t101\t141\t0\t\t0\t1\t0\n",
      "6.1\t121\t141\t1\t\t1\t1\t0\n",
      "4.3\t100\t142\t0\t\t0\t1\t0\n",
      "6.6\t120\t142\t1\t\t1\t1\t0\n",
      "3.7\t99\t143\t1\t\t1\t1\t0\n",
      "3.9\t119\t143\t0\t\t0\t1\t0\n",
      "3.8\t96\t144\t0\t\t0\t1\t0\n",
      "3.1\t71\t145\t0\t\t0\t1\t0\n",
      "4.7\t95\t145\t1\t\t1\t1\t0\n",
      "3.5\t103\t145\t1\t\t1\t1\t0\n",
      "3.7\t94\t146\t1\t\t1\t1\t0\n",
      "4.0\t120\t146\t0\t\t0\t1\t0\n",
      "3.8\t135\t147\t0\t\t0\t1\t0\n",
      "3.2\t93\t147\t0\t\t1\t1\t0\n",
      "3.2\t119\t147\t0\t\t0\t1\t0\n",
      "3.6\t117\t148\t0\t\t1\t1\t0\n",
      "3.2\t96\t149\t0\t\t1\t1\t0\n",
      "3.4\t95\t150\t0\t\t1\t1\t0\n",
      "3.3\t94\t151\t0\t\t1\t1\t0\n",
      "3.3\t125\t151\t0\t\t0\t1\t0\n",
      "3.4\t97\t155\t0\t\t0\t1\t0\n",
      "3.4\t115\t155\t0\t\t0\t1\t0\n",
      "3.7\t96\t156\t0\t\t0\t1\t0\n",
      "4.5\t114\t156\t0\t\t0\t1\t0\n",
      "3.8\t95\t157\t0\t\t0\t1\t0\n",
      "3.6\t113\t157\t0\t\t0\t1\t0\n",
      "3.4\t94\t158\t0\t\t0\t1\t0\n",
      "3.4\t101\t159\t0\t\t0\t1\t0\n",
      "3.7\t100\t160\t0\t\t0\t1\t0\n",
      "3.7\t112\t160\t0\t\t0\t1\t0\n",
      "4.5\t111\t161\t0\t\t0\t1\t0\n",
      "3.3\t98\t162\t0\t\t0\t1\t0\n",
      "3.3\t108\t165\t0\t\t1\t1\t0\n",
      "3.4\t138\t178\t1\t\t1\t1\t0\n",
      "3.4\t137\t179\t0\t\t0\t1\t0\n",
      "3.1\t138\t180\t1\t\t1\t1\t0\n",
      "3.4\t139\t181\t0\t\t1\t1\t0\n",
      "3.0\t111\t185\t0\t\t0\t1\t0\n",
      "3.0\t145\t71\t0\t\t0\t1\t0\n",
      "3.5\t117\t74\t0\t\t1\t1\t0\n",
      "3.4\t119\t77\t0\t\t0\t1\t0\n",
      "3.2\t110\t89\t0\t\t1\t1\t0\n",
      "3.2\t147\t93\t0\t\t1\t1\t0\n",
      "3.7\t146\t94\t1\t\t1\t1\t0\n",
      "4.6\t145\t95\t1\t\t1\t1\t0\n",
      "3.7\t144\t96\t0\t\t0\t1\t0\n",
      "3.4\t155\t97\t0\t\t0\t1\t0\n",
      "3.1\t144\t98\t1\t\t1\t1\t0\n",
      "3.4\t162\t98\t0\t\t0\t1\t0\n",
      "4.0\t143\t99\t1\t\t1\t1\t0\n",
      "3.8\t161\t99\t0\t\t0\t1\t0\n",
      "4.5\t142\t100\t0\t\t0\t1\t0\n",
      "3.7\t160\t100\t0\t\t0\t1\t0\n",
      "3.4\t141\t101\t0\t\t0\t1\t0\n",
      "3.4\t159\t101\t0\t\t0\t1\t0\n",
      "3.3\t133\t102\t0\t\t1\t1\t0\n",
      "3.4\t145\t103\t1\t\t1\t1\t0\n",
      "3.3\t131\t105\t0\t\t0\t1\t0\n",
      "3.5\t139\t107\t0\t\t1\t1\t0\n",
      "3.9\t138\t108\t1\t\t1\t1\t0\n",
      "3.2\t165\t108\t0\t\t1\t1\t0\n",
      "3.0\t125\t108\t1\t\t1\t1\t0\n",
      "3.2\t137\t109\t0\t\t0\t1\t0\n",
      "3.8\t121\t109\t0\t\t0\t1\t0\n",
      "4.0\t136\t110\t0\t\t0\t1\t0\n",
      "3.2\t89\t110\t0\t\t1\t1\t0\n",
      "3.4\t137\t111\t1\t\t1\t1\t0\n",
      "4.6\t161\t111\t0\t\t0\t1\t0\n",
      "3.1\t185\t111\t0\t\t0\t1\t0\n",
      "3.8\t136\t112\t1\t\t1\t1\t0\n",
      "3.8\t160\t112\t0\t\t0\t1\t0\n",
      "3.9\t137\t113\t0\t\t0\t1\t0\n",
      "3.3\t157\t113\t0\t\t0\t1\t0\n",
      "4.4\t136\t114\t0\t\t0\t1\t0\n",
      "4.3\t156\t114\t0\t\t0\t1\t0\n",
      "3.6\t140\t115\t0\t\t1\t1\t0\n",
      "3.4\t155\t115\t0\t\t0\t1\t0\n",
      "5.6\t135\t116\t0\t\t1\t1\t0\n",
      "5.3\t134\t117\t0\t\t1\t1\t0\n",
      "3.7\t148\t117\t0\t\t1\t1\t0\n",
      "3.5\t74\t117\t0\t\t1\t1\t0\n",
      "4.5\t125\t117\t0\t\t0\t1\t0\n",
      "4.8\t134\t118\t0\t\t0\t1\t0\n",
      "3.2\t147\t118\t0\t\t1\t1\t0\n",
      "5.6\t126\t118\t0\t\t0\t1\t0\n",
      "3.8\t143\t119\t0\t\t0\t1\t0\n",
      "3.2\t147\t119\t0\t\t0\t1\t0\n",
      "3.4\t77\t119\t0\t\t0\t1\t0\n",
      "5.0\t125\t119\t0\t\t0\t1\t0\n",
      "6.7\t142\t120\t1\t\t1\t1\t0\n",
      "3.9\t146\t120\t0\t\t0\t1\t0\n",
      "6.0\t120\t120\t0\t\t0\t1\t0\n",
      "6.2\t141\t121\t1\t\t1\t1\t0\n",
      "3.5\t109\t121\t0\t\t0\t1\t0\n",
      "8.0\t124\t121\t0\t\t1\t1\t0\n",
      "5.1\t130\t122\t0\t\t0\t1\t0\n",
      "6.8\t122\t122\t0\t\t0\t1\t0\n",
      "4.5\t133\t123\t0\t\t0\t1\t0\n",
      "3.2\t145\t123\t0\t\t1\t1\t0\n",
      "8.0\t123\t123\t0\t\t0\t1\t0\n",
      "7.9\t132\t124\t0\t\t0\t1\t0\n",
      "8.2\t121\t124\t0\t\t1\t1\t0\n",
      "4.7\t131\t125\t0\t\t0\t1\t0\n",
      "3.3\t151\t125\t0\t\t0\t1\t0\n",
      "4.9\t119\t125\t0\t\t0\t1\t0\n",
      "5.2\t134\t126\t0\t\t0\t1\t0\n",
      "3.1\t148\t126\t1\t\t1\t1\t0\n",
      "5.6\t118\t126\t0\t\t0\t1\t0\n",
      "34.9\t129\t127\t0\t\t0\t1\t0\n",
      "7.2\t127\t127\t0\t\t0\t1\t0\n",
      "5.6\t127\t128\t7\t\t8\t1\t0\n",
      "3.1\t129\t129\t7\t\t8\t1\t0\n",
      "5.6\t128\t127\t7\t\t8\t1\t0\n"
     ]
    }
   ],
   "source": [
    "cands = p.get_candidates()\n",
    "print(f'Got {len(cands)} candidates')\n",
    "if len(cands) == 0: # are you sure?\n",
    "    p.candidates.copy_from_device()\n",
    "    print(p.candidates.nparr)\n",
    "    \n",
    "print_candidates(cands, 256, 0)"
   ]
  },
  {
   "cell_type": "code",
   "execution_count": 13,
   "id": "a4d179bd",
   "metadata": {},
   "outputs": [
    {
     "name": "stdout",
     "output_type": "stream",
     "text": [
      "[(5342,     0, 0, 0, 0) (1052,   255, 0, 1, 0) ( 734,   257, 1, 1, 0)\n",
      " ( 193,   290, 0, 1, 0) (2236,   511, 0, 0, 0) ( 356,   522, 0, 0, 0)\n",
      " ( 331,   762, 0, 0, 0) ( 514,   775, 0, 1, 0) ( 213,  1001, 0, 0, 0)\n",
      " ( 320,  1016, 0, 1, 0) ( 332,  1030, 1, 1, 0) ( 507,  1276, 0, 0, 0)\n",
      " ( 512,  1285, 0, 0, 0) ( 223,  1510, 0, 1, 0) ( 290,  1531, 0, 0, 0)\n",
      " ( 437,  1542, 0, 0, 0) ( 336,  1781, 0, 1, 0) ( 509,  1795, 0, 1, 0)\n",
      " ( 228,  1811, 0, 0, 0) ( 360,  2036, 0, 1, 0) ( 416,  2056, 1, 1, 0)\n",
      " ( 251,  2286, 0, 0, 0) ( 331,  2302, 1, 1, 0) ( 319,  2307, 0, 0, 0)\n",
      " ( 218,  2355, 0, 0, 0) ( 213,  2543, 1, 1, 0) ( 288,  2550, 0, 1, 0)\n",
      " ( 359,  2562, 0, 0, 0) ( 217,  2610, 1, 1, 0) ( 251,  2796, 1, 1, 0)\n",
      " ( 305,  2805, 0, 1, 0) ( 291,  2819, 0, 0, 0) ( 221,  2869, 0, 1, 0)\n",
      " ( 241,  3051, 0, 1, 0) ( 293,  3065, 0, 0, 0) ( 279,  3322, 1, 1, 0)\n",
      " ( 220,  3557, 0, 0, 0) ( 392,  3577, 1, 1, 0) ( 278,  3812, 0, 0, 0)\n",
      " ( 422,  3832, 1, 1, 0) ( 238,  4067, 1, 1, 0) ( 251,  4087, 0, 0, 0)\n",
      " ( 243,  4320, 0, 0, 0) ( 201,  4551, 0, 0, 0) ( 300,  4575, 1, 1, 0)\n",
      " ( 222,  4583, 1, 1, 0) ( 239,  4830, 1, 1, 0) ( 256,  4856, 0, 0, 0)\n",
      " ( 243,  4871, 0, 0, 0) ( 203,  5085, 0, 1, 0) ( 206,  5111, 0, 0, 0)\n",
      " ( 228,  5365, 0, 1, 0) ( 202,  5600, 0, 1, 0) ( 219,  5855, 0, 1, 0)\n",
      " ( 209,  6110, 0, 1, 0) ( 214,  6141, 0, 0, 0) ( 219,  7137, 0, 0, 0)\n",
      " ( 220,  7155, 0, 0, 0) ( 235,  7392, 0, 0, 0) ( 288,  7410, 0, 0, 0)\n",
      " ( 242,  7647, 0, 0, 0) ( 230,  7665, 0, 0, 0) ( 219,  7902, 0, 0, 0)\n",
      " ( 215,  8165, 0, 0, 0) ( 235,  8420, 0, 0, 0) ( 239,  8432, 0, 0, 0)\n",
      " ( 286,  8687, 0, 0, 0) ( 209,  8930, 0, 0, 0) ( 214,  9708, 0, 1, 0)\n",
      " ( 215, 12810, 1, 1, 0) ( 218, 13065, 0, 0, 0) ( 198, 13322, 1, 1, 0)\n",
      " ( 216, 13579, 0, 1, 0) ( 194, 14831, 0, 0, 0) ( 194, 50961, 0, 0, 0)\n",
      " ( 224, 51957, 0, 1, 0) ( 218, 52727, 0, 0, 0) ( 206, 55790, 0, 1, 0)\n",
      " ( 207, 56595, 0, 1, 0) ( 239, 56850, 1, 1, 0) ( 296, 57105, 1, 1, 0)\n",
      " ( 239, 57360, 0, 0, 0) ( 215, 57627, 0, 0, 0) ( 198, 57872, 1, 1, 0)\n",
      " ( 218, 57890, 0, 0, 0) ( 256, 58127, 1, 1, 0) ( 242, 58145, 0, 0, 0)\n",
      " ( 287, 58382, 0, 0, 0) ( 235, 58400, 0, 0, 0) ( 220, 58637, 0, 0, 0)\n",
      " ( 219, 58655, 0, 0, 0) ( 211, 58885, 0, 1, 0) ( 217, 59153, 1, 1, 0)\n",
      " ( 213, 59651, 0, 0, 0) ( 225, 60171, 0, 1, 0) ( 250, 60426, 1, 1, 0)\n",
      " ( 206, 60453, 0, 1, 0) ( 194, 60669, 1, 1, 0) ( 205, 60681, 0, 0, 0)\n",
      " ( 242, 60921, 0, 0, 0) ( 256, 60936, 0, 0, 0) ( 206, 61145, 0, 1, 0)\n",
      " ( 220, 61193, 1, 1, 0) ( 293, 61217, 0, 0, 0) ( 200, 61241, 0, 0, 0)\n",
      " ( 246, 61448, 1, 1, 0) ( 243, 61472, 0, 0, 0) ( 251, 61705, 0, 0, 0)\n",
      " ( 213, 61725, 0, 0, 0) ( 280, 61960, 0, 0, 0) ( 277, 61980, 0, 0, 0)\n",
      " ( 232, 62220, 0, 1, 0) ( 220, 62235, 0, 0, 0) ( 359, 62471, 0, 1, 0)\n",
      " ( 342, 62726, 0, 1, 0) ( 238, 62740, 0, 1, 0) ( 221, 62922, 0, 1, 0)\n",
      " ( 291, 62973, 0, 0, 0) ( 304, 62982, 0, 0, 0) ( 204, 62995, 0, 1, 0)\n",
      " ( 359, 63230, 0, 0, 0) ( 240, 63247, 0, 0, 0) ( 207, 63251, 0, 0, 0)\n",
      " ( 219, 63437, 0, 0, 0) ( 319, 63485, 0, 0, 0) ( 427, 63502, 1, 1, 0)\n",
      " ( 250, 63506, 0, 0, 0) ( 386, 63736, 0, 0, 0) ( 397, 63757, 1, 1, 0)\n",
      " ( 227, 63981, 0, 0, 0) ( 510, 63996, 0, 1, 0) ( 327, 64002, 0, 0, 0)\n",
      " ( 437, 64250, 0, 0, 0) ( 290, 64261, 0, 0, 0) ( 205, 64273, 0, 1, 0)\n",
      " ( 512, 64507, 0, 0, 0) ( 507, 64516, 0, 0, 0) ( 522, 64761, 0, 1, 0)\n",
      " ( 298, 64771, 0, 0, 0) ( 212, 64791, 0, 0, 0) ( 315, 65015, 0, 0, 0)\n",
      " ( 331, 65030, 0, 0, 0) ( 198, 65044, 1, 1, 0) ( 356, 65270, 0, 0, 0)\n",
      " (2236, 65281, 0, 0, 0) ( 460, 65535, 0, 0, 0) ( 361,   255, 7, 8, 0)\n",
      " ( 201,   257, 7, 8, 0) ( 360, 65280, 7, 8, 0) (5342,     0, 0, 0, 1)\n",
      " (1052,   255, 0, 1, 1) ( 734,   257, 1, 1, 1) ( 193,   290, 0, 1, 1)\n",
      " (2236,   511, 0, 0, 1) ( 356,   522, 0, 0, 1) ( 331,   762, 0, 0, 1)\n",
      " ( 514,   775, 0, 1, 1) ( 213,  1001, 0, 0, 1) ( 320,  1016, 0, 1, 1)\n",
      " ( 332,  1030, 1, 1, 1) ( 507,  1276, 0, 0, 1) ( 512,  1285, 0, 0, 1)\n",
      " ( 223,  1510, 0, 1, 1) ( 290,  1531, 0, 0, 1) ( 437,  1542, 0, 0, 1)\n",
      " ( 336,  1781, 0, 1, 1) ( 509,  1795, 0, 1, 1) ( 228,  1811, 0, 0, 1)\n",
      " ( 360,  2036, 0, 1, 1) ( 416,  2056, 1, 1, 1) ( 251,  2286, 0, 0, 1)\n",
      " ( 331,  2302, 1, 1, 1) ( 319,  2307, 0, 0, 1) ( 218,  2355, 0, 0, 1)\n",
      " ( 213,  2543, 1, 1, 1) ( 288,  2550, 0, 1, 1) ( 359,  2562, 0, 0, 1)\n",
      " ( 217,  2610, 1, 1, 1) ( 251,  2796, 1, 1, 1) ( 305,  2805, 0, 1, 1)\n",
      " ( 291,  2819, 0, 0, 1) ( 221,  2869, 0, 1, 1) ( 241,  3051, 0, 1, 1)\n",
      " ( 293,  3065, 0, 0, 1) ( 279,  3322, 1, 1, 1) ( 220,  3557, 0, 0, 1)\n",
      " ( 392,  3577, 1, 1, 1) ( 278,  3812, 0, 0, 1) ( 422,  3832, 1, 1, 1)\n",
      " ( 238,  4067, 1, 1, 1) ( 251,  4087, 0, 0, 1) ( 243,  4320, 0, 0, 1)\n",
      " ( 201,  4551, 0, 0, 1) ( 300,  4575, 1, 1, 1) ( 222,  4583, 1, 1, 1)\n",
      " ( 239,  4830, 1, 1, 1) ( 256,  4856, 0, 0, 1) ( 243,  4871, 0, 0, 1)\n",
      " ( 203,  5085, 0, 1, 1) ( 206,  5111, 0, 0, 1) ( 228,  5365, 0, 1, 1)\n",
      " ( 202,  5600, 0, 1, 1) ( 219,  5855, 0, 1, 1) ( 209,  6110, 0, 1, 1)\n",
      " ( 214,  6141, 0, 0, 1) ( 219,  7137, 0, 0, 1) ( 220,  7155, 0, 0, 1)\n",
      " ( 235,  7392, 0, 0, 1) ( 288,  7410, 0, 0, 1) ( 242,  7647, 0, 0, 1)\n",
      " ( 230,  7665, 0, 0, 1) ( 219,  7902, 0, 0, 1) ( 215,  8165, 0, 0, 1)\n",
      " ( 235,  8420, 0, 0, 1) ( 239,  8432, 0, 0, 1) ( 286,  8687, 0, 0, 1)\n",
      " ( 209,  8930, 0, 0, 1) ( 214,  9708, 0, 1, 1) ( 215, 12810, 1, 1, 1)\n",
      " ( 218, 13065, 0, 0, 1) ( 198, 13322, 1, 1, 1) ( 216, 13579, 0, 1, 1)\n",
      " ( 194, 14831, 0, 0, 1) ( 194, 50961, 0, 0, 1) ( 224, 51957, 0, 1, 1)\n",
      " ( 218, 52727, 0, 0, 1) ( 206, 55790, 0, 1, 1) ( 207, 56595, 0, 1, 1)\n",
      " ( 239, 56850, 1, 1, 1) ( 296, 57105, 1, 1, 1) ( 239, 57360, 0, 0, 1)\n",
      " ( 215, 57627, 0, 0, 1) ( 198, 57872, 1, 1, 1) ( 218, 57890, 0, 0, 1)\n",
      " ( 256, 58127, 1, 1, 1) ( 242, 58145, 0, 0, 1) ( 287, 58382, 0, 0, 1)\n",
      " ( 235, 58400, 0, 0, 1) ( 220, 58637, 0, 0, 1) ( 219, 58655, 0, 0, 1)\n",
      " ( 211, 58885, 0, 1, 1) ( 217, 59153, 1, 1, 1) ( 213, 59651, 0, 0, 1)\n",
      " ( 225, 60171, 0, 1, 1) ( 250, 60426, 1, 1, 1) ( 206, 60453, 0, 1, 1)\n",
      " ( 194, 60669, 1, 1, 1) ( 205, 60681, 0, 0, 1) ( 242, 60921, 0, 0, 1)\n",
      " ( 256, 60936, 0, 0, 1) ( 206, 61145, 0, 1, 1) ( 220, 61193, 1, 1, 1)\n",
      " ( 293, 61217, 0, 0, 1) ( 200, 61241, 0, 0, 1) ( 246, 61448, 1, 1, 1)\n",
      " ( 243, 61472, 0, 0, 1) ( 251, 61705, 0, 0, 1) ( 213, 61725, 0, 0, 1)\n",
      " ( 280, 61960, 0, 0, 1) ( 277, 61980, 0, 0, 1) ( 232, 62220, 0, 1, 1)\n",
      " ( 220, 62235, 0, 0, 1) ( 359, 62471, 0, 1, 1) ( 342, 62726, 0, 1, 1)\n",
      " ( 238, 62740, 0, 1, 1) ( 221, 62922, 0, 1, 1) ( 291, 62973, 0, 0, 1)\n",
      " ( 304, 62982, 0, 0, 1) ( 204, 62995, 0, 1, 1) ( 359, 63230, 0, 0, 1)\n",
      " ( 240, 63247, 0, 0, 1) ( 207, 63251, 0, 0, 1) ( 219, 63437, 0, 0, 1)\n",
      " ( 319, 63485, 0, 0, 1) ( 427, 63502, 1, 1, 1) ( 250, 63506, 0, 0, 1)\n",
      " ( 386, 63736, 0, 0, 1) ( 397, 63757, 1, 1, 1) ( 227, 63981, 0, 0, 1)\n",
      " ( 510, 63996, 0, 1, 1) ( 327, 64002, 0, 0, 1) ( 437, 64250, 0, 0, 1)\n",
      " ( 290, 64261, 0, 0, 1) ( 205, 64273, 0, 1, 1) ( 512, 64507, 0, 0, 1)\n",
      " ( 507, 64516, 0, 0, 1) ( 522, 64761, 0, 1, 1) ( 298, 64771, 0, 0, 1)\n",
      " ( 212, 64791, 0, 0, 1) ( 315, 65015, 0, 0, 1) ( 331, 65030, 0, 0, 1)\n",
      " ( 198, 65044, 1, 1, 1) ( 356, 65270, 0, 0, 1) (2236, 65281, 0, 0, 1)\n",
      " ( 460, 65535, 0, 0, 1) ( 361,   255, 7, 8, 1) ( 201,   257, 7, 8, 1)\n",
      " ( 360, 65280, 7, 8, 1)]\n"
     ]
    }
   ],
   "source": [
    "print(cands)\n",
    "cands = cands[cands['dm'] == 0] # DM 0 adn 1 are repeated, I think."
   ]
  },
  {
   "cell_type": "code",
   "execution_count": 14,
   "id": "ca85ee11",
   "metadata": {},
   "outputs": [
    {
     "data": {
      "image/png": "[encoded data removed]",
      "text/plain": [
       "<Figure size 720x360 with 2 Axes>"
      ]
     },
     "metadata": {
      "needs_background": "light"
     },
     "output_type": "display_data"
    }
   ],
   "source": [
    "grid = grid_candidates(cands, 'snr')\n",
    "fig, ax = subplots(1,2)\n",
    "ax[0].imshow(grid)\n",
    "ax[1].imshow(grid)\n",
    "ax[1].set_xlim(128-8,128+8)\n",
    "ax[1].set_ylim(128-8,128+8)\n",
    "fig.set_size_inches([10,5])"
   ]
  },
  {
   "cell_type": "code",
   "execution_count": 15,
   "id": "c1cb9cd3",
   "metadata": {},
   "outputs": [
    {
     "data": {
      "image/png": "[encoded data removed]",
      "text/plain": [
       "<Figure size 720x360 with 2 Axes>"
      ]
     },
     "metadata": {
      "needs_background": "light"
     },
     "output_type": "display_data"
    }
   ],
   "source": [
    "grid = grid_candidates(cands, 'count')\n",
    "fig, ax = subplots(1,2)\n",
    "ax[0].imshow(grid)\n",
    "ax[1].imshow(grid)\n",
    "ax[1].set_xlim(128-8,128+8)\n",
    "ax[1].set_ylim(128-8,128+8)\n",
    "fig.set_size_inches([10,5])"
   ]
  },
  {
   "cell_type": "markdown",
   "id": "fa0b14c0",
   "metadata": {},
   "source": [
    "# Check DM0 for trange makes sense"
   ]
  },
  {
   "cell_type": "code",
   "execution_count": 16,
   "id": "a6b9e14d",
   "metadata": {},
   "outputs": [
    {
     "name": "stdout",
     "output_type": "stream",
     "text": [
      "t0 0\n",
      "(5342, 0, 0, 0, 0)\n",
      "# SNR\tupix\tvpix\tboxc_width\ttime\tdm\tiblk\n",
      "\n",
      "83.5\t128\t128\t0\t\t0\t0\t0\n",
      "16.4\t127\t128\t0\t\t1\t0\t0\n",
      "11.5\t129\t129\t1\t\t1\t0\t0\n",
      "34.9\t127\t129\t0\t\t0\t0\t0\n",
      "34.9\t129\t127\t0\t\t0\t0\t0\n",
      "83.5\t128\t128\t0\t\t0\t1\t0\n",
      "16.4\t127\t128\t0\t\t1\t1\t0\n",
      "11.5\t129\t129\t1\t\t1\t1\t0\n",
      "34.9\t127\t129\t0\t\t0\t1\t0\n",
      "34.9\t129\t127\t0\t\t0\t1\t0\n",
      "t0 1\n",
      "(5342, 0, 0, 1, 0)\n",
      "# SNR\tupix\tvpix\tboxc_width\ttime\tdm\tiblk\n",
      "\n",
      "83.5\t128\t128\t0\t\t1\t0\t0\n",
      "16.4\t128\t129\t0\t\t0\t0\t0\n",
      "34.9\t127\t129\t0\t\t1\t0\t0\n",
      "34.9\t129\t127\t0\t\t1\t0\t0\n",
      "11.5\t127\t127\t1\t\t1\t0\t0\n",
      "28.7\t128\t128\t7\t\t8\t0\t0\n",
      "12.0\t127\t129\t7\t\t8\t0\t0\n",
      "12.0\t129\t127\t7\t\t8\t0\t0\n",
      "83.5\t128\t128\t0\t\t1\t1\t0\n",
      "16.4\t128\t129\t0\t\t0\t1\t0\n",
      "34.9\t127\t129\t0\t\t1\t1\t0\n",
      "34.9\t129\t127\t0\t\t1\t1\t0\n",
      "11.5\t127\t127\t1\t\t1\t1\t0\n",
      "28.7\t128\t128\t7\t\t8\t1\t0\n",
      "12.0\t127\t129\t7\t\t8\t1\t0\n",
      "12.0\t129\t127\t7\t\t8\t1\t0\n",
      "t0 2\n",
      "(5342, 0, 0, 2, 0)\n",
      "# SNR\tupix\tvpix\tboxc_width\ttime\tdm\tiblk\n",
      "\n",
      "83.5\t128\t128\t0\t\t2\t0\t0\n",
      "16.4\t127\t128\t0\t\t3\t0\t0\n",
      "11.5\t129\t129\t1\t\t3\t0\t0\n",
      "34.9\t127\t129\t0\t\t2\t0\t0\n",
      "34.9\t129\t127\t0\t\t2\t0\t0\n",
      "31.3\t128\t128\t6\t\t8\t0\t0\n",
      "13.1\t127\t129\t6\t\t8\t0\t0\n",
      "13.1\t129\t127\t6\t\t8\t0\t0\n",
      "83.5\t128\t128\t0\t\t2\t1\t0\n",
      "16.4\t127\t128\t0\t\t3\t1\t0\n",
      "11.5\t129\t129\t1\t\t3\t1\t0\n",
      "34.9\t127\t129\t0\t\t2\t1\t0\n",
      "34.9\t129\t127\t0\t\t2\t1\t0\n",
      "31.3\t128\t128\t6\t\t8\t1\t0\n",
      "13.1\t127\t129\t6\t\t8\t1\t0\n",
      "13.1\t129\t127\t6\t\t8\t1\t0\n",
      "t0 3\n",
      "(5342, 0, 0, 3, 0)\n",
      "# SNR\tupix\tvpix\tboxc_width\ttime\tdm\tiblk\n",
      "\n",
      "83.5\t128\t128\t0\t\t3\t0\t0\n",
      "16.4\t128\t129\t0\t\t2\t0\t0\n",
      "34.9\t127\t129\t0\t\t3\t0\t0\n",
      "34.9\t129\t127\t0\t\t3\t0\t0\n",
      "11.5\t127\t127\t1\t\t3\t0\t0\n",
      "33.9\t128\t128\t5\t\t8\t0\t0\n",
      "14.2\t127\t129\t5\t\t8\t0\t0\n",
      "14.2\t129\t127\t5\t\t8\t0\t0\n",
      "83.5\t128\t128\t0\t\t3\t1\t0\n",
      "16.4\t128\t129\t0\t\t2\t1\t0\n",
      "34.9\t127\t129\t0\t\t3\t1\t0\n",
      "34.9\t129\t127\t0\t\t3\t1\t0\n",
      "11.5\t127\t127\t1\t\t3\t1\t0\n",
      "33.9\t128\t128\t5\t\t8\t1\t0\n",
      "14.2\t127\t129\t5\t\t8\t1\t0\n",
      "14.2\t129\t127\t5\t\t8\t1\t0\n",
      "t0 4\n",
      "(5342, 0, 0, 4, 0)\n",
      "# SNR\tupix\tvpix\tboxc_width\ttime\tdm\tiblk\n",
      "\n",
      "83.5\t128\t128\t0\t\t4\t0\t0\n",
      "16.4\t127\t128\t0\t\t5\t0\t0\n",
      "11.5\t129\t129\t1\t\t5\t0\t0\n",
      "34.9\t127\t129\t0\t\t4\t0\t0\n",
      "34.9\t129\t127\t0\t\t4\t0\t0\n",
      "36.5\t128\t128\t4\t\t8\t0\t0\n",
      "15.2\t127\t129\t4\t\t8\t0\t0\n",
      "15.3\t129\t127\t4\t\t8\t0\t0\n",
      "83.5\t128\t128\t0\t\t4\t1\t0\n",
      "16.4\t127\t128\t0\t\t5\t1\t0\n",
      "11.5\t129\t129\t1\t\t5\t1\t0\n",
      "34.9\t127\t129\t0\t\t4\t1\t0\n",
      "34.9\t129\t127\t0\t\t4\t1\t0\n",
      "36.5\t128\t128\t4\t\t8\t1\t0\n",
      "15.2\t127\t129\t4\t\t8\t1\t0\n",
      "15.3\t129\t127\t4\t\t8\t1\t0\n",
      "t0 5\n",
      "(5342, 0, 0, 5, 0)\n",
      "# SNR\tupix\tvpix\tboxc_width\ttime\tdm\tiblk\n",
      "\n",
      "83.5\t128\t128\t0\t\t5\t0\t0\n",
      "16.4\t128\t129\t0\t\t4\t0\t0\n",
      "34.9\t127\t129\t0\t\t5\t0\t0\n",
      "34.9\t129\t127\t0\t\t5\t0\t0\n",
      "11.5\t127\t127\t1\t\t5\t0\t0\n",
      "41.7\t128\t128\t3\t\t8\t0\t0\n",
      "17.5\t127\t129\t3\t\t8\t0\t0\n",
      "17.5\t129\t127\t3\t\t8\t0\t0\n",
      "83.5\t128\t128\t0\t\t5\t1\t0\n",
      "16.4\t128\t129\t0\t\t4\t1\t0\n",
      "34.9\t127\t129\t0\t\t5\t1\t0\n",
      "34.9\t129\t127\t0\t\t5\t1\t0\n",
      "11.5\t127\t127\t1\t\t5\t1\t0\n",
      "41.7\t128\t128\t3\t\t8\t1\t0\n",
      "17.5\t127\t129\t3\t\t8\t1\t0\n",
      "17.5\t129\t127\t3\t\t8\t1\t0\n",
      "t0 6\n",
      "(5342, 0, 0, 6, 0)\n",
      "# SNR\tupix\tvpix\tboxc_width\ttime\tdm\tiblk\n",
      "\n",
      "83.5\t128\t128\t0\t\t6\t0\t0\n",
      "16.4\t127\t128\t0\t\t7\t0\t0\n",
      "11.5\t129\t129\t1\t\t7\t0\t0\n",
      "34.9\t127\t129\t0\t\t6\t0\t0\n",
      "34.9\t129\t127\t0\t\t6\t0\t0\n",
      "46.9\t128\t128\t2\t\t8\t0\t0\n",
      "11.5\t127\t128\t1\t\t8\t0\t0\n",
      "19.6\t127\t129\t2\t\t8\t0\t0\n",
      "19.7\t129\t127\t2\t\t8\t0\t0\n",
      "83.5\t128\t128\t0\t\t6\t1\t0\n",
      "16.4\t127\t128\t0\t\t7\t1\t0\n",
      "11.5\t129\t129\t1\t\t7\t1\t0\n",
      "34.9\t127\t129\t0\t\t6\t1\t0\n",
      "34.9\t129\t127\t0\t\t6\t1\t0\n",
      "46.9\t128\t128\t2\t\t8\t1\t0\n",
      "11.5\t127\t128\t1\t\t8\t1\t0\n",
      "19.6\t127\t129\t2\t\t8\t1\t0\n",
      "19.7\t129\t127\t2\t\t8\t1\t0\n",
      "t0 7\n",
      "(5342, 0, 0, 7, 0)\n",
      "# SNR\tupix\tvpix\tboxc_width\ttime\tdm\tiblk\n",
      "\n",
      "83.5\t128\t128\t0\t\t7\t0\t0\n",
      "16.4\t128\t129\t0\t\t6\t0\t0\n",
      "34.9\t127\t129\t0\t\t7\t0\t0\n",
      "34.9\t129\t127\t0\t\t7\t0\t0\n",
      "11.5\t127\t127\t1\t\t7\t0\t0\n",
      "58.7\t128\t128\t1\t\t8\t0\t0\n",
      "24.6\t127\t129\t1\t\t8\t0\t0\n",
      "24.6\t129\t127\t1\t\t8\t0\t0\n",
      "83.5\t128\t128\t0\t\t7\t1\t0\n",
      "16.4\t128\t129\t0\t\t6\t1\t0\n",
      "34.9\t127\t129\t0\t\t7\t1\t0\n",
      "34.9\t129\t127\t0\t\t7\t1\t0\n",
      "11.5\t127\t127\t1\t\t7\t1\t0\n",
      "58.7\t128\t128\t1\t\t8\t1\t0\n",
      "24.6\t127\t129\t1\t\t8\t1\t0\n",
      "24.6\t129\t127\t1\t\t8\t1\t0\n",
      "t0 8\n",
      "(5342, 0, 0, 8, 0)\n",
      "# SNR\tupix\tvpix\tboxc_width\ttime\tdm\tiblk\n",
      "\n",
      "83.5\t128\t128\t0\t\t8\t0\t0\n",
      "16.4\t127\t128\t0\t\t9\t0\t0\n",
      "11.5\t129\t129\t1\t\t9\t0\t0\n",
      "34.9\t127\t129\t0\t\t8\t0\t0\n",
      "34.9\t129\t127\t0\t\t8\t0\t0\n",
      "83.5\t128\t128\t0\t\t8\t1\t0\n",
      "16.4\t127\t128\t0\t\t9\t1\t0\n",
      "11.5\t129\t129\t1\t\t9\t1\t0\n",
      "34.9\t127\t129\t0\t\t8\t1\t0\n",
      "34.9\t129\t127\t0\t\t8\t1\t0\n",
      "t0 9\n",
      "(5342, 0, 0, 9, 0)\n",
      "# SNR\tupix\tvpix\tboxc_width\ttime\tdm\tiblk\n",
      "\n",
      "83.5\t128\t128\t0\t\t9\t0\t0\n",
      "16.4\t128\t129\t0\t\t8\t0\t0\n",
      "34.9\t127\t129\t0\t\t9\t0\t0\n",
      "34.9\t129\t127\t0\t\t9\t0\t0\n",
      "11.5\t127\t127\t1\t\t9\t0\t0\n",
      "28.7\t128\t128\t7\t\t16\t0\t0\n",
      "12.0\t127\t129\t7\t\t16\t0\t0\n",
      "12.0\t129\t127\t7\t\t16\t0\t0\n",
      "83.5\t128\t128\t0\t\t9\t1\t0\n",
      "16.4\t128\t129\t0\t\t8\t1\t0\n",
      "34.9\t127\t129\t0\t\t9\t1\t0\n",
      "34.9\t129\t127\t0\t\t9\t1\t0\n",
      "11.5\t127\t127\t1\t\t9\t1\t0\n",
      "28.7\t128\t128\t7\t\t16\t1\t0\n",
      "12.0\t127\t129\t7\t\t16\t1\t0\n",
      "12.0\t129\t127\t7\t\t16\t1\t0\n",
      "t0 10\n",
      "(5342, 0, 0, 10, 0)\n",
      "# SNR\tupix\tvpix\tboxc_width\ttime\tdm\tiblk\n",
      "\n",
      "83.5\t128\t128\t0\t\t10\t0\t0\n",
      "16.4\t127\t128\t0\t\t11\t0\t0\n",
      "11.5\t129\t129\t1\t\t11\t0\t0\n",
      "34.9\t127\t129\t0\t\t10\t0\t0\n",
      "34.9\t129\t127\t0\t\t10\t0\t0\n",
      "31.3\t128\t128\t6\t\t16\t0\t0\n",
      "13.1\t127\t129\t6\t\t16\t0\t0\n",
      "13.1\t129\t127\t6\t\t16\t0\t0\n",
      "83.5\t128\t128\t0\t\t10\t1\t0\n",
      "16.4\t127\t128\t0\t\t11\t1\t0\n",
      "11.5\t129\t129\t1\t\t11\t1\t0\n",
      "34.9\t127\t129\t0\t\t10\t1\t0\n",
      "34.9\t129\t127\t0\t\t10\t1\t0\n",
      "31.3\t128\t128\t6\t\t16\t1\t0\n",
      "13.1\t127\t129\t6\t\t16\t1\t0\n",
      "13.1\t129\t127\t6\t\t16\t1\t0\n",
      "t0 11\n",
      "(5342, 0, 0, 11, 0)\n",
      "# SNR\tupix\tvpix\tboxc_width\ttime\tdm\tiblk\n",
      "\n",
      "83.5\t128\t128\t0\t\t11\t0\t0\n",
      "16.4\t128\t129\t0\t\t10\t0\t0\n",
      "34.9\t127\t129\t0\t\t11\t0\t0\n",
      "34.9\t129\t127\t0\t\t11\t0\t0\n",
      "11.5\t127\t127\t1\t\t11\t0\t0\n",
      "33.9\t128\t128\t5\t\t16\t0\t0\n",
      "14.2\t127\t129\t5\t\t16\t0\t0\n",
      "14.2\t129\t127\t5\t\t16\t0\t0\n",
      "83.5\t128\t128\t0\t\t11\t1\t0\n",
      "16.4\t128\t129\t0\t\t10\t1\t0\n",
      "34.9\t127\t129\t0\t\t11\t1\t0\n",
      "34.9\t129\t127\t0\t\t11\t1\t0\n",
      "11.5\t127\t127\t1\t\t11\t1\t0\n",
      "33.9\t128\t128\t5\t\t16\t1\t0\n",
      "14.2\t127\t129\t5\t\t16\t1\t0\n",
      "14.2\t129\t127\t5\t\t16\t1\t0\n",
      "t0 12\n",
      "(5342, 0, 0, 12, 0)\n",
      "# SNR\tupix\tvpix\tboxc_width\ttime\tdm\tiblk\n",
      "\n",
      "83.5\t128\t128\t0\t\t12\t0\t0\n",
      "16.4\t127\t128\t0\t\t13\t0\t0\n",
      "11.5\t129\t129\t1\t\t13\t0\t0\n",
      "34.9\t127\t129\t0\t\t12\t0\t0\n",
      "34.9\t129\t127\t0\t\t12\t0\t0\n",
      "36.5\t128\t128\t4\t\t16\t0\t0\n",
      "15.2\t127\t129\t4\t\t16\t0\t0\n",
      "15.3\t129\t127\t4\t\t16\t0\t0\n",
      "83.5\t128\t128\t0\t\t12\t1\t0\n",
      "16.4\t127\t128\t0\t\t13\t1\t0\n",
      "11.5\t129\t129\t1\t\t13\t1\t0\n",
      "34.9\t127\t129\t0\t\t12\t1\t0\n",
      "34.9\t129\t127\t0\t\t12\t1\t0\n",
      "36.5\t128\t128\t4\t\t16\t1\t0\n",
      "15.2\t127\t129\t4\t\t16\t1\t0\n",
      "15.3\t129\t127\t4\t\t16\t1\t0\n",
      "t0 13\n",
      "(5342, 0, 0, 13, 0)\n",
      "# SNR\tupix\tvpix\tboxc_width\ttime\tdm\tiblk\n",
      "\n",
      "83.5\t128\t128\t0\t\t13\t0\t0\n",
      "16.4\t128\t129\t0\t\t12\t0\t0\n",
      "34.9\t127\t129\t0\t\t13\t0\t0\n",
      "34.9\t129\t127\t0\t\t13\t0\t0\n",
      "11.5\t127\t127\t1\t\t13\t0\t0\n",
      "41.7\t128\t128\t3\t\t16\t0\t0\n",
      "17.5\t127\t129\t3\t\t16\t0\t0\n",
      "17.5\t129\t127\t3\t\t16\t0\t0\n",
      "83.5\t128\t128\t0\t\t13\t1\t0\n",
      "16.4\t128\t129\t0\t\t12\t1\t0\n",
      "34.9\t127\t129\t0\t\t13\t1\t0\n",
      "34.9\t129\t127\t0\t\t13\t1\t0\n",
      "11.5\t127\t127\t1\t\t13\t1\t0\n",
      "41.7\t128\t128\t3\t\t16\t1\t0\n",
      "17.5\t127\t129\t3\t\t16\t1\t0\n",
      "17.5\t129\t127\t3\t\t16\t1\t0\n",
      "t0 14\n",
      "(5342, 0, 0, 14, 0)\n",
      "# SNR\tupix\tvpix\tboxc_width\ttime\tdm\tiblk\n",
      "\n",
      "83.5\t128\t128\t0\t\t14\t0\t0\n",
      "16.4\t127\t128\t0\t\t15\t0\t0\n",
      "11.5\t129\t129\t1\t\t15\t0\t0\n",
      "34.9\t127\t129\t0\t\t14\t0\t0\n",
      "34.9\t129\t127\t0\t\t14\t0\t0\n",
      "46.9\t128\t128\t2\t\t16\t0\t0\n",
      "11.5\t127\t128\t1\t\t16\t0\t0\n",
      "19.6\t127\t129\t2\t\t16\t0\t0\n",
      "19.7\t129\t127\t2\t\t16\t0\t0\n",
      "83.5\t128\t128\t0\t\t14\t1\t0\n",
      "16.4\t127\t128\t0\t\t15\t1\t0\n",
      "11.5\t129\t129\t1\t\t15\t1\t0\n",
      "34.9\t127\t129\t0\t\t14\t1\t0\n",
      "34.9\t129\t127\t0\t\t14\t1\t0\n",
      "46.9\t128\t128\t2\t\t16\t1\t0\n",
      "11.5\t127\t128\t1\t\t16\t1\t0\n",
      "19.6\t127\t129\t2\t\t16\t1\t0\n",
      "19.7\t129\t127\t2\t\t16\t1\t0\n",
      "t0 15\n",
      "(5342, 0, 0, 15, 0)\n",
      "# SNR\tupix\tvpix\tboxc_width\ttime\tdm\tiblk\n",
      "\n",
      "83.5\t128\t128\t0\t\t15\t0\t0\n",
      "16.4\t128\t129\t0\t\t14\t0\t0\n",
      "34.9\t127\t129\t0\t\t15\t0\t0\n",
      "34.9\t129\t127\t0\t\t15\t0\t0\n",
      "11.5\t127\t127\t1\t\t15\t0\t0\n",
      "58.7\t128\t128\t1\t\t16\t0\t0\n",
      "24.6\t127\t129\t1\t\t16\t0\t0\n",
      "24.6\t129\t127\t1\t\t16\t0\t0\n",
      "83.5\t128\t128\t0\t\t15\t1\t0\n",
      "16.4\t128\t129\t0\t\t14\t1\t0\n",
      "34.9\t127\t129\t0\t\t15\t1\t0\n",
      "34.9\t129\t127\t0\t\t15\t1\t0\n",
      "11.5\t127\t127\t1\t\t15\t1\t0\n",
      "58.7\t128\t128\t1\t\t16\t1\t0\n",
      "24.6\t127\t129\t1\t\t16\t1\t0\n",
      "24.6\t129\t127\t1\t\t16\t1\t0\n"
     ]
    }
   ],
   "source": [
    "all_cands = []\n",
    "for t0 in range(16):\n",
    "    p.clear_buffers(values)\n",
    "    # dmamp = 32 gives SNR=14.2\n",
    "    dmamp = 32\n",
    "    print('t0', t0)\n",
    "\n",
    "    # put in a value for a single time and DM\n",
    "    for b in p.all_mainbufs:\n",
    "        b.nparr[:] = 0\n",
    "        b.nparr[:,:,:,t0,:,0] = dmamp\n",
    "        b.copy_to_device()\n",
    "\n",
    "    values.run_fdmt = False\n",
    "    values.run_image = True\n",
    "    values.threshold = 10\n",
    "    p.run(0, values).wait()\n",
    "    cands = p.get_candidates().copy()\n",
    "    all_cands.append(cands)\n",
    "    c0 = cands[0]\n",
    "    print(c0)\n",
    "    #assert c0['upix'] == 128\n",
    "    #assert c0['vpix'] == 128\n",
    "    #assert c0['boxc_width'] == 0\n",
    "    #assert c0['time'] == t0\n",
    "    #assert c0['dm'] == 0\n",
    "    print_candidates(cands, 256, 0)\n",
    "\n",
    "    "
   ]
  },
  {
   "cell_type": "code",
   "execution_count": 17,
   "id": "526b3ec5",
   "metadata": {},
   "outputs": [
    {
     "name": "stdout",
     "output_type": "stream",
     "text": [
      "# SNR\tupix\tvpix\tboxc_width\ttime\tdm\tiblk\n",
      "\n",
      "83.5\t128\t128\t0\t\t0\t0\t0\n",
      "16.4\t127\t128\t0\t\t1\t0\t0\n",
      "11.5\t129\t129\t1\t\t1\t0\t0\n",
      "34.9\t127\t129\t0\t\t0\t0\t0\n",
      "34.9\t129\t127\t0\t\t0\t0\t0\n",
      "83.5\t128\t128\t0\t\t0\t1\t0\n",
      "16.4\t127\t128\t0\t\t1\t1\t0\n",
      "11.5\t129\t129\t1\t\t1\t1\t0\n",
      "34.9\t127\t129\t0\t\t0\t1\t0\n",
      "34.9\t129\t127\t0\t\t0\t1\t0\n",
      "# SNR\tupix\tvpix\tboxc_width\ttime\tdm\tiblk\n",
      "\n",
      "83.5\t128\t128\t0\t\t1\t0\t0\n",
      "16.4\t128\t129\t0\t\t0\t0\t0\n",
      "34.9\t127\t129\t0\t\t1\t0\t0\n",
      "34.9\t129\t127\t0\t\t1\t0\t0\n",
      "11.5\t127\t127\t1\t\t1\t0\t0\n",
      "28.7\t128\t128\t7\t\t8\t0\t0\n",
      "12.0\t127\t129\t7\t\t8\t0\t0\n",
      "12.0\t129\t127\t7\t\t8\t0\t0\n",
      "83.5\t128\t128\t0\t\t1\t1\t0\n",
      "16.4\t128\t129\t0\t\t0\t1\t0\n",
      "34.9\t127\t129\t0\t\t1\t1\t0\n",
      "34.9\t129\t127\t0\t\t1\t1\t0\n",
      "11.5\t127\t127\t1\t\t1\t1\t0\n",
      "28.7\t128\t128\t7\t\t8\t1\t0\n",
      "12.0\t127\t129\t7\t\t8\t1\t0\n",
      "12.0\t129\t127\t7\t\t8\t1\t0\n",
      "# SNR\tupix\tvpix\tboxc_width\ttime\tdm\tiblk\n",
      "\n",
      "83.5\t128\t128\t0\t\t2\t0\t0\n",
      "16.4\t127\t128\t0\t\t3\t0\t0\n",
      "11.5\t129\t129\t1\t\t3\t0\t0\n",
      "34.9\t127\t129\t0\t\t2\t0\t0\n",
      "34.9\t129\t127\t0\t\t2\t0\t0\n",
      "31.3\t128\t128\t6\t\t8\t0\t0\n",
      "13.1\t127\t129\t6\t\t8\t0\t0\n",
      "13.1\t129\t127\t6\t\t8\t0\t0\n",
      "83.5\t128\t128\t0\t\t2\t1\t0\n",
      "16.4\t127\t128\t0\t\t3\t1\t0\n",
      "11.5\t129\t129\t1\t\t3\t1\t0\n",
      "34.9\t127\t129\t0\t\t2\t1\t0\n",
      "34.9\t129\t127\t0\t\t2\t1\t0\n",
      "31.3\t128\t128\t6\t\t8\t1\t0\n",
      "13.1\t127\t129\t6\t\t8\t1\t0\n",
      "13.1\t129\t127\t6\t\t8\t1\t0\n",
      "# SNR\tupix\tvpix\tboxc_width\ttime\tdm\tiblk\n",
      "\n",
      "83.5\t128\t128\t0\t\t3\t0\t0\n",
      "16.4\t128\t129\t0\t\t2\t0\t0\n",
      "34.9\t127\t129\t0\t\t3\t0\t0\n",
      "34.9\t129\t127\t0\t\t3\t0\t0\n",
      "11.5\t127\t127\t1\t\t3\t0\t0\n",
      "33.9\t128\t128\t5\t\t8\t0\t0\n",
      "14.2\t127\t129\t5\t\t8\t0\t0\n",
      "14.2\t129\t127\t5\t\t8\t0\t0\n",
      "83.5\t128\t128\t0\t\t3\t1\t0\n",
      "16.4\t128\t129\t0\t\t2\t1\t0\n",
      "34.9\t127\t129\t0\t\t3\t1\t0\n",
      "34.9\t129\t127\t0\t\t3\t1\t0\n",
      "11.5\t127\t127\t1\t\t3\t1\t0\n",
      "33.9\t128\t128\t5\t\t8\t1\t0\n",
      "14.2\t127\t129\t5\t\t8\t1\t0\n",
      "14.2\t129\t127\t5\t\t8\t1\t0\n",
      "# SNR\tupix\tvpix\tboxc_width\ttime\tdm\tiblk\n",
      "\n",
      "83.5\t128\t128\t0\t\t4\t0\t0\n",
      "16.4\t127\t128\t0\t\t5\t0\t0\n",
      "11.5\t129\t129\t1\t\t5\t0\t0\n",
      "34.9\t127\t129\t0\t\t4\t0\t0\n",
      "34.9\t129\t127\t0\t\t4\t0\t0\n",
      "36.5\t128\t128\t4\t\t8\t0\t0\n",
      "15.2\t127\t129\t4\t\t8\t0\t0\n",
      "15.3\t129\t127\t4\t\t8\t0\t0\n",
      "83.5\t128\t128\t0\t\t4\t1\t0\n",
      "16.4\t127\t128\t0\t\t5\t1\t0\n",
      "11.5\t129\t129\t1\t\t5\t1\t0\n",
      "34.9\t127\t129\t0\t\t4\t1\t0\n",
      "34.9\t129\t127\t0\t\t4\t1\t0\n",
      "36.5\t128\t128\t4\t\t8\t1\t0\n",
      "15.2\t127\t129\t4\t\t8\t1\t0\n",
      "15.3\t129\t127\t4\t\t8\t1\t0\n",
      "# SNR\tupix\tvpix\tboxc_width\ttime\tdm\tiblk\n",
      "\n",
      "83.5\t128\t128\t0\t\t5\t0\t0\n",
      "16.4\t128\t129\t0\t\t4\t0\t0\n",
      "34.9\t127\t129\t0\t\t5\t0\t0\n",
      "34.9\t129\t127\t0\t\t5\t0\t0\n",
      "11.5\t127\t127\t1\t\t5\t0\t0\n",
      "41.7\t128\t128\t3\t\t8\t0\t0\n",
      "17.5\t127\t129\t3\t\t8\t0\t0\n",
      "17.5\t129\t127\t3\t\t8\t0\t0\n",
      "83.5\t128\t128\t0\t\t5\t1\t0\n",
      "16.4\t128\t129\t0\t\t4\t1\t0\n",
      "34.9\t127\t129\t0\t\t5\t1\t0\n",
      "34.9\t129\t127\t0\t\t5\t1\t0\n",
      "11.5\t127\t127\t1\t\t5\t1\t0\n",
      "41.7\t128\t128\t3\t\t8\t1\t0\n",
      "17.5\t127\t129\t3\t\t8\t1\t0\n",
      "17.5\t129\t127\t3\t\t8\t1\t0\n",
      "# SNR\tupix\tvpix\tboxc_width\ttime\tdm\tiblk\n",
      "\n",
      "83.5\t128\t128\t0\t\t6\t0\t0\n",
      "16.4\t127\t128\t0\t\t7\t0\t0\n",
      "11.5\t129\t129\t1\t\t7\t0\t0\n",
      "34.9\t127\t129\t0\t\t6\t0\t0\n",
      "34.9\t129\t127\t0\t\t6\t0\t0\n",
      "46.9\t128\t128\t2\t\t8\t0\t0\n",
      "11.5\t127\t128\t1\t\t8\t0\t0\n",
      "19.6\t127\t129\t2\t\t8\t0\t0\n",
      "19.7\t129\t127\t2\t\t8\t0\t0\n",
      "83.5\t128\t128\t0\t\t6\t1\t0\n",
      "16.4\t127\t128\t0\t\t7\t1\t0\n",
      "11.5\t129\t129\t1\t\t7\t1\t0\n",
      "34.9\t127\t129\t0\t\t6\t1\t0\n",
      "34.9\t129\t127\t0\t\t6\t1\t0\n",
      "46.9\t128\t128\t2\t\t8\t1\t0\n",
      "11.5\t127\t128\t1\t\t8\t1\t0\n",
      "19.6\t127\t129\t2\t\t8\t1\t0\n",
      "19.7\t129\t127\t2\t\t8\t1\t0\n",
      "# SNR\tupix\tvpix\tboxc_width\ttime\tdm\tiblk\n",
      "\n",
      "83.5\t128\t128\t0\t\t7\t0\t0\n",
      "16.4\t128\t129\t0\t\t6\t0\t0\n",
      "34.9\t127\t129\t0\t\t7\t0\t0\n",
      "34.9\t129\t127\t0\t\t7\t0\t0\n",
      "11.5\t127\t127\t1\t\t7\t0\t0\n",
      "58.7\t128\t128\t1\t\t8\t0\t0\n",
      "24.6\t127\t129\t1\t\t8\t0\t0\n",
      "24.6\t129\t127\t1\t\t8\t0\t0\n",
      "83.5\t128\t128\t0\t\t7\t1\t0\n",
      "16.4\t128\t129\t0\t\t6\t1\t0\n",
      "34.9\t127\t129\t0\t\t7\t1\t0\n",
      "34.9\t129\t127\t0\t\t7\t1\t0\n",
      "11.5\t127\t127\t1\t\t7\t1\t0\n",
      "58.7\t128\t128\t1\t\t8\t1\t0\n",
      "24.6\t127\t129\t1\t\t8\t1\t0\n",
      "24.6\t129\t127\t1\t\t8\t1\t0\n",
      "# SNR\tupix\tvpix\tboxc_width\ttime\tdm\tiblk\n",
      "\n",
      "83.5\t128\t128\t0\t\t8\t0\t0\n",
      "16.4\t127\t128\t0\t\t9\t0\t0\n",
      "11.5\t129\t129\t1\t\t9\t0\t0\n",
      "34.9\t127\t129\t0\t\t8\t0\t0\n",
      "34.9\t129\t127\t0\t\t8\t0\t0\n",
      "83.5\t128\t128\t0\t\t8\t1\t0\n",
      "16.4\t127\t128\t0\t\t9\t1\t0\n",
      "11.5\t129\t129\t1\t\t9\t1\t0\n",
      "34.9\t127\t129\t0\t\t8\t1\t0\n",
      "34.9\t129\t127\t0\t\t8\t1\t0\n",
      "# SNR\tupix\tvpix\tboxc_width\ttime\tdm\tiblk\n",
      "\n",
      "83.5\t128\t128\t0\t\t9\t0\t0\n",
      "16.4\t128\t129\t0\t\t8\t0\t0\n",
      "34.9\t127\t129\t0\t\t9\t0\t0\n",
      "34.9\t129\t127\t0\t\t9\t0\t0\n",
      "11.5\t127\t127\t1\t\t9\t0\t0\n",
      "28.7\t128\t128\t7\t\t16\t0\t0\n",
      "12.0\t127\t129\t7\t\t16\t0\t0\n",
      "12.0\t129\t127\t7\t\t16\t0\t0\n",
      "83.5\t128\t128\t0\t\t9\t1\t0\n",
      "16.4\t128\t129\t0\t\t8\t1\t0\n",
      "34.9\t127\t129\t0\t\t9\t1\t0\n",
      "34.9\t129\t127\t0\t\t9\t1\t0\n",
      "11.5\t127\t127\t1\t\t9\t1\t0\n",
      "28.7\t128\t128\t7\t\t16\t1\t0\n",
      "12.0\t127\t129\t7\t\t16\t1\t0\n",
      "12.0\t129\t127\t7\t\t16\t1\t0\n",
      "# SNR\tupix\tvpix\tboxc_width\ttime\tdm\tiblk\n",
      "\n",
      "83.5\t128\t128\t0\t\t10\t0\t0\n",
      "16.4\t127\t128\t0\t\t11\t0\t0\n",
      "11.5\t129\t129\t1\t\t11\t0\t0\n",
      "34.9\t127\t129\t0\t\t10\t0\t0\n",
      "34.9\t129\t127\t0\t\t10\t0\t0\n",
      "31.3\t128\t128\t6\t\t16\t0\t0\n",
      "13.1\t127\t129\t6\t\t16\t0\t0\n",
      "13.1\t129\t127\t6\t\t16\t0\t0\n",
      "83.5\t128\t128\t0\t\t10\t1\t0\n",
      "16.4\t127\t128\t0\t\t11\t1\t0\n",
      "11.5\t129\t129\t1\t\t11\t1\t0\n",
      "34.9\t127\t129\t0\t\t10\t1\t0\n",
      "34.9\t129\t127\t0\t\t10\t1\t0\n",
      "31.3\t128\t128\t6\t\t16\t1\t0\n",
      "13.1\t127\t129\t6\t\t16\t1\t0\n",
      "13.1\t129\t127\t6\t\t16\t1\t0\n",
      "# SNR\tupix\tvpix\tboxc_width\ttime\tdm\tiblk\n",
      "\n",
      "83.5\t128\t128\t0\t\t11\t0\t0\n",
      "16.4\t128\t129\t0\t\t10\t0\t0\n",
      "34.9\t127\t129\t0\t\t11\t0\t0\n",
      "34.9\t129\t127\t0\t\t11\t0\t0\n",
      "11.5\t127\t127\t1\t\t11\t0\t0\n",
      "33.9\t128\t128\t5\t\t16\t0\t0\n",
      "14.2\t127\t129\t5\t\t16\t0\t0\n",
      "14.2\t129\t127\t5\t\t16\t0\t0\n",
      "83.5\t128\t128\t0\t\t11\t1\t0\n",
      "16.4\t128\t129\t0\t\t10\t1\t0\n",
      "34.9\t127\t129\t0\t\t11\t1\t0\n",
      "34.9\t129\t127\t0\t\t11\t1\t0\n",
      "11.5\t127\t127\t1\t\t11\t1\t0\n",
      "33.9\t128\t128\t5\t\t16\t1\t0\n",
      "14.2\t127\t129\t5\t\t16\t1\t0\n",
      "14.2\t129\t127\t5\t\t16\t1\t0\n",
      "# SNR\tupix\tvpix\tboxc_width\ttime\tdm\tiblk\n",
      "\n",
      "83.5\t128\t128\t0\t\t12\t0\t0\n",
      "16.4\t127\t128\t0\t\t13\t0\t0\n",
      "11.5\t129\t129\t1\t\t13\t0\t0\n",
      "34.9\t127\t129\t0\t\t12\t0\t0\n",
      "34.9\t129\t127\t0\t\t12\t0\t0\n",
      "36.5\t128\t128\t4\t\t16\t0\t0\n",
      "15.2\t127\t129\t4\t\t16\t0\t0\n",
      "15.3\t129\t127\t4\t\t16\t0\t0\n",
      "83.5\t128\t128\t0\t\t12\t1\t0\n",
      "16.4\t127\t128\t0\t\t13\t1\t0\n",
      "11.5\t129\t129\t1\t\t13\t1\t0\n",
      "34.9\t127\t129\t0\t\t12\t1\t0\n",
      "34.9\t129\t127\t0\t\t12\t1\t0\n",
      "36.5\t128\t128\t4\t\t16\t1\t0\n",
      "15.2\t127\t129\t4\t\t16\t1\t0\n",
      "15.3\t129\t127\t4\t\t16\t1\t0\n",
      "# SNR\tupix\tvpix\tboxc_width\ttime\tdm\tiblk\n",
      "\n",
      "83.5\t128\t128\t0\t\t13\t0\t0\n",
      "16.4\t128\t129\t0\t\t12\t0\t0\n",
      "34.9\t127\t129\t0\t\t13\t0\t0\n",
      "34.9\t129\t127\t0\t\t13\t0\t0\n",
      "11.5\t127\t127\t1\t\t13\t0\t0\n",
      "41.7\t128\t128\t3\t\t16\t0\t0\n",
      "17.5\t127\t129\t3\t\t16\t0\t0\n",
      "17.5\t129\t127\t3\t\t16\t0\t0\n",
      "83.5\t128\t128\t0\t\t13\t1\t0\n",
      "16.4\t128\t129\t0\t\t12\t1\t0\n",
      "34.9\t127\t129\t0\t\t13\t1\t0\n",
      "34.9\t129\t127\t0\t\t13\t1\t0\n",
      "11.5\t127\t127\t1\t\t13\t1\t0\n",
      "41.7\t128\t128\t3\t\t16\t1\t0\n",
      "17.5\t127\t129\t3\t\t16\t1\t0\n",
      "17.5\t129\t127\t3\t\t16\t1\t0\n",
      "# SNR\tupix\tvpix\tboxc_width\ttime\tdm\tiblk\n",
      "\n",
      "83.5\t128\t128\t0\t\t14\t0\t0\n",
      "16.4\t127\t128\t0\t\t15\t0\t0\n",
      "11.5\t129\t129\t1\t\t15\t0\t0\n",
      "34.9\t127\t129\t0\t\t14\t0\t0\n",
      "34.9\t129\t127\t0\t\t14\t0\t0\n",
      "46.9\t128\t128\t2\t\t16\t0\t0\n",
      "11.5\t127\t128\t1\t\t16\t0\t0\n",
      "19.6\t127\t129\t2\t\t16\t0\t0\n",
      "19.7\t129\t127\t2\t\t16\t0\t0\n",
      "83.5\t128\t128\t0\t\t14\t1\t0\n",
      "16.4\t127\t128\t0\t\t15\t1\t0\n",
      "11.5\t129\t129\t1\t\t15\t1\t0\n",
      "34.9\t127\t129\t0\t\t14\t1\t0\n",
      "34.9\t129\t127\t0\t\t14\t1\t0\n",
      "46.9\t128\t128\t2\t\t16\t1\t0\n",
      "11.5\t127\t128\t1\t\t16\t1\t0\n",
      "19.6\t127\t129\t2\t\t16\t1\t0\n",
      "19.7\t129\t127\t2\t\t16\t1\t0\n",
      "# SNR\tupix\tvpix\tboxc_width\ttime\tdm\tiblk\n",
      "\n",
      "83.5\t128\t128\t0\t\t15\t0\t0\n",
      "16.4\t128\t129\t0\t\t14\t0\t0\n",
      "34.9\t127\t129\t0\t\t15\t0\t0\n",
      "34.9\t129\t127\t0\t\t15\t0\t0\n",
      "11.5\t127\t127\t1\t\t15\t0\t0\n",
      "58.7\t128\t128\t1\t\t16\t0\t0\n",
      "24.6\t127\t129\t1\t\t16\t0\t0\n",
      "24.6\t129\t127\t1\t\t16\t0\t0\n",
      "83.5\t128\t128\t0\t\t15\t1\t0\n",
      "16.4\t128\t129\t0\t\t14\t1\t0\n",
      "34.9\t127\t129\t0\t\t15\t1\t0\n",
      "34.9\t129\t127\t0\t\t15\t1\t0\n",
      "11.5\t127\t127\t1\t\t15\t1\t0\n",
      "58.7\t128\t128\t1\t\t16\t1\t0\n",
      "24.6\t127\t129\t1\t\t16\t1\t0\n",
      "24.6\t129\t127\t1\t\t16\t1\t0\n"
     ]
    }
   ],
   "source": [
    "for c in all_cands:\n",
    "    print_candidates(c, 256, 0)"
   ]
  },
  {
   "cell_type": "markdown",
   "id": "a1879888",
   "metadata": {},
   "source": [
    "# FDMT the input of DM=0"
   ]
  },
  {
   "cell_type": "code",
   "execution_count": 18,
   "id": "85496547",
   "metadata": {},
   "outputs": [
    {
     "name": "stdout",
     "output_type": "stream",
     "text": [
      "(659, 256, 32, 8, 2)\n",
      "t0 0\n",
      "# SNR\tupix\tvpix\tboxc_width\ttime\tdm\tiblk\n",
      "\n",
      "83.5\t128\t128\t0\t\t0\t0\t0\n",
      "16.4\t127\t128\t0\t\t1\t0\t0\n",
      "11.5\t129\t129\t1\t\t1\t0\t0\n",
      "34.9\t127\t129\t0\t\t0\t0\t0\n",
      "34.9\t129\t127\t0\t\t0\t0\t0\n",
      "83.5\t128\t128\t0\t\t0\t1\t0\n",
      "16.4\t127\t128\t0\t\t1\t1\t0\n",
      "11.5\t129\t129\t1\t\t1\t1\t0\n",
      "34.9\t127\t129\t0\t\t0\t1\t0\n",
      "34.9\t129\t127\t0\t\t0\t1\t0\n"
     ]
    }
   ],
   "source": [
    "all_cands = []\n",
    "t0 = 0\n",
    "print(p.inbuf.shape)\n",
    "\n",
    "values.run_fdmt = True\n",
    "values.run_image = True\n",
    "values.threshold = 10\n",
    "p.clear_buffers(values)\n",
    "p.inbuf.nparr[:,t0,:,:,0] = 1\n",
    "p.inbuf.copy_to_device()\n",
    "\n",
    "print('t0', t0)\n",
    "\n",
    "p.run(0, values).wait()\n",
    "cands = p.get_candidates().copy()\n",
    "all_cands.append(cands)\n",
    "print_candidates(cands, 256, 0)\n"
   ]
  },
  {
   "cell_type": "code",
   "execution_count": 19,
   "id": "31ae4ab4",
   "metadata": {},
   "outputs": [
    {
     "data": {
      "image/png": "[encoded data removed]",
      "text/plain": [
       "<Figure size 720x360 with 2 Axes>"
      ]
     },
     "metadata": {
      "needs_background": "light"
     },
     "output_type": "display_data"
    }
   ],
   "source": [
    "grid = grid_candidates(cands, 'count')\n",
    "fig, ax = subplots(1,2)\n",
    "ax[0].imshow(grid)\n",
    "ax[1].imshow(grid)\n",
    "ax[1].set_xlim(128-8,128+8)\n",
    "ax[1].set_ylim(128-8,128+8)\n",
    "fig.set_size_inches([10,5])"
   ]
  },
  {
   "cell_type": "code",
   "execution_count": 20,
   "id": "033091af",
   "metadata": {},
   "outputs": [
    {
     "data": {
      "image/png": "[encoded data removed]",
      "text/plain": [
       "<Figure size 720x360 with 2 Axes>"
      ]
     },
     "metadata": {
      "needs_background": "light"
     },
     "output_type": "display_data"
    }
   ],
   "source": [
    "grid = grid_candidates(cands, 'snr')\n",
    "fig, ax = subplots(1,2)\n",
    "ax[0].imshow(grid)\n",
    "ax[1].imshow(grid)\n",
    "ax[1].set_xlim(128-8,128+8)\n",
    "ax[1].set_ylim(128-8,128+8)\n",
    "fig.set_size_inches([10,5])"
   ]
  },
  {
   "cell_type": "code",
   "execution_count": 21,
   "id": "10d11900",
   "metadata": {},
   "outputs": [],
   "source": [
    "mainbuf = p.copy_mainbuf()"
   ]
  },
  {
   "cell_type": "code",
   "execution_count": 32,
   "id": "ba1a2849",
   "metadata": {},
   "outputs": [
    {
     "name": "stdout",
     "output_type": "stream",
     "text": [
      "(664, 186, 11, 256, 8, 2)\n"
     ]
    },
    {
     "data": {
      "text/plain": [
       "' max/min/mean/rms/sum/S/N = 3.20e+01/0.00e+00/2.31e-01/4.98e-01/1.10e+04/64.3 peak at (0, 0)'"
      ]
     },
     "execution_count": 32,
     "metadata": {},
     "output_type": "execute_result"
    },
    {
     "data": {
      "image/png": "[encoded data removed]",
      "text/plain": [
       "<Figure size 432x288 with 1 Axes>"
      ]
     },
     "metadata": {
      "needs_background": "light"
     },
     "output_type": "display_data"
    }
   ],
   "source": [
    "print(mainbuf.shape)\n",
    "# look at the DM-time plan for UV 0\n",
    "d = mainbuf[0,:,0,:,0,0]\n",
    "imshow(d, aspect='auto', origin='lower')\n",
    "printstats(d)"
   ]
  },
  {
   "cell_type": "code",
   "execution_count": 41,
   "id": "62bcccb9",
   "metadata": {},
   "outputs": [
    {
     "name": "stdout",
     "output_type": "stream",
     "text": [
      "(664, 8, 256)\n",
      "(5312, 256)\n"
     ]
    },
    {
     "data": {
      "text/plain": [
       "<matplotlib.image.AxesImage at 0x7ff9f949f668>"
      ]
     },
     "execution_count": 41,
     "metadata": {},
     "output_type": "execute_result"
    },
    {
     "data": {
      "image/png": "[encoded data removed]",
      "text/plain": [
       "<Figure size 432x288 with 1 Axes>"
      ]
     },
     "metadata": {
      "needs_background": "light"
     },
     "output_type": "display_data"
    }
   ],
   "source": [
    "# look at DM=0 for all UVs\n",
    "d = mainbuf[:,0,0,:,:,0].transpose([0,2,1])\n",
    "print(d.shape)\n",
    "d = d.reshape(d.shape[0]*d.shape[1], d.shape[2])\n",
    "print(d.shape)\n",
    "\n",
    "imshow(d.T, aspect='auto', origin='lower')"
   ]
  },
  {
   "cell_type": "code",
   "execution_count": 45,
   "id": "d7cb16f1",
   "metadata": {},
   "outputs": [
    {
     "data": {
      "text/plain": [
       "[<matplotlib.lines.Line2D at 0x7ff9f6313748>]"
      ]
     },
     "execution_count": 45,
     "metadata": {},
     "output_type": "execute_result"
    },
    {
     "data": {
      "image/png": "[encoded data removed]",
      "text/plain": [
       "<Figure size 432x288 with 1 Axes>"
      ]
     },
     "metadata": {
      "needs_background": "light"
     },
     "output_type": "display_data"
    }
   ],
   "source": [
    "plot(d[:, 0])\n",
    " # Oh yeah, OK, this makes sense. It's 32 for all baselines because I made every UV = 1. IN practice, it won't be that neat."
   ]
  },
  {
   "cell_type": "markdown",
   "id": "1739f018",
   "metadata": {},
   "source": [
    "# And what if I grid everything properly?"
   ]
  },
  {
   "cell_type": "code",
   "execution_count": 115,
   "id": "a557c185",
   "metadata": {},
   "outputs": [
    {
     "name": "stdout",
     "output_type": "stream",
     "text": [
      "(190, 256, 256)\n"
     ]
    }
   ],
   "source": [
    "print(plan.baseline_shape) # nbl, nc, nt\n",
    "values.input_scale = 1./16. # need this otherwise "
   ]
  },
  {
   "cell_type": "code",
   "execution_count": 116,
   "id": "24cd9738",
   "metadata": {},
   "outputs": [],
   "source": [
    "din = np.zeros(plan.baseline_shape, dtype=np.complex64)\n",
    "din[:, :, 0] = 1 # making this 32 overflows the FDMT\n"
   ]
  },
  {
   "cell_type": "code",
   "execution_count": 117,
   "id": "25a690e3",
   "metadata": {},
   "outputs": [],
   "source": [
    "import craft.craco\n",
    "fast_baseline2uv = craft.craco.FastBaseline2Uv(plan, conjugate_lower_uvs=True)\n",
    "uv_shape     = (plan.nuvrest, plan.nt, plan.ncin, plan.nuvwide)\n",
    "uv_out  = np.zeros(uv_shape, dtype=np.complex64)\n",
    "fast_baseline2uv(din, uv_out)"
   ]
  },
  {
   "cell_type": "code",
   "execution_count": 118,
   "id": "93628c1b",
   "metadata": {},
   "outputs": [
    {
     "name": "stdout",
     "output_type": "stream",
     "text": [
      "(659, 256, 32, 8)\n"
     ]
    }
   ],
   "source": [
    "print(uv_out.shape)"
   ]
  },
  {
   "cell_type": "code",
   "execution_count": 119,
   "id": "e0025024",
   "metadata": {},
   "outputs": [
    {
     "name": "stdout",
     "output_type": "stream",
     "text": [
      "0.001126232928679818\n"
     ]
    }
   ],
   "source": [
    "p.inbuf.nparr[:,:,:,:,0] = np.round(uv_out[:,:,:,:].real*(values.input_scale*float(1<<NBINARY_POINT_FDMTIN)))\n",
    "p.inbuf.nparr[:,:,:,:,1] = np.round(uv_out[:,:,:,:].imag*(values.input_scale*float(1<<NBINARY_POINT_FDMTIN)))\n",
    "print(p.inbuf.nparr.mean())"
   ]
  },
  {
   "cell_type": "code",
   "execution_count": 120,
   "id": "3295121b",
   "metadata": {},
   "outputs": [],
   "source": [
    "p.inbuf.copy_to_device()"
   ]
  },
  {
   "cell_type": "code",
   "execution_count": 121,
   "id": "aac33402",
   "metadata": {},
   "outputs": [],
   "source": [
    "p.run(0, values).wait()"
   ]
  },
  {
   "cell_type": "code",
   "execution_count": 122,
   "id": "2bd639da",
   "metadata": {},
   "outputs": [],
   "source": [
    "mainbuf = p.copy_mainbuf()"
   ]
  },
  {
   "cell_type": "code",
   "execution_count": 123,
   "id": "b6530950",
   "metadata": {},
   "outputs": [
    {
     "name": "stdout",
     "output_type": "stream",
     "text": [
      "(664, 186, 11, 256, 8, 2)\n"
     ]
    },
    {
     "data": {
      "text/plain": [
       "' max/min/mean/rms/sum/S/N = 6.40e+01/0.00e+00/4.62e-01/9.96e-01/2.20e+04/64.3 peak at (0, 0)'"
      ]
     },
     "execution_count": 123,
     "metadata": {},
     "output_type": "execute_result"
    },
    {
     "data": {
      "image/png": "[encoded data removed]",
      "text/plain": [
       "<Figure size 432x288 with 1 Axes>"
      ]
     },
     "metadata": {
      "needs_background": "light"
     },
     "output_type": "display_data"
    }
   ],
   "source": [
    "print(mainbuf.shape)\n",
    "# look at the DM-time plan for UV 0\n",
    "d = mainbuf[0,:,0,:,0,0]\n",
    "imshow(d, aspect='auto', origin='lower')\n",
    "printstats(d)"
   ]
  },
  {
   "cell_type": "code",
   "execution_count": 124,
   "id": "2b3f68ab",
   "metadata": {},
   "outputs": [
    {
     "name": "stdout",
     "output_type": "stream",
     "text": [
      "(664, 8, 256)\n",
      "(5312, 256)\n"
     ]
    },
    {
     "data": {
      "text/plain": [
       "<matplotlib.image.AxesImage at 0x7ff9f96bc080>"
      ]
     },
     "execution_count": 124,
     "metadata": {},
     "output_type": "execute_result"
    },
    {
     "data": {
      "image/png": "[encoded data removed]",
      "text/plain": [
       "<Figure size 432x288 with 1 Axes>"
      ]
     },
     "metadata": {
      "needs_background": "light"
     },
     "output_type": "display_data"
    }
   ],
   "source": [
    "# look at DM=0 for all UVs\n",
    "d = mainbuf[:,0,0,:,:,0].transpose([0,2,1])\n",
    "print(d.shape)\n",
    "d = d.reshape(d.shape[0]*d.shape[1], d.shape[2])\n",
    "print(d.shape)\n",
    "\n",
    "imshow(d.T, aspect='auto', origin='lower')"
   ]
  },
  {
   "cell_type": "code",
   "execution_count": 125,
   "id": "46f20001",
   "metadata": {},
   "outputs": [
    {
     "data": {
      "text/plain": [
       "[<matplotlib.lines.Line2D at 0x7ff9f96caeb8>]"
      ]
     },
     "execution_count": 125,
     "metadata": {},
     "output_type": "execute_result"
    },
    {
     "data": {
      "image/png": "[encoded data removed]",
      "text/plain": [
       "<Figure size 432x288 with 1 Axes>"
      ]
     },
     "metadata": {
      "needs_background": "light"
     },
     "output_type": "display_data"
    }
   ],
   "source": [
    "plot(d[:, 0])\n",
    "# OK so this crazy shape is because of how we're inefficiently packing channels into UV points"
   ]
  },
  {
   "cell_type": "code",
   "execution_count": 126,
   "id": "bb77e670",
   "metadata": {},
   "outputs": [
    {
     "name": "stdout",
     "output_type": "stream",
     "text": [
      "10\n"
     ]
    }
   ],
   "source": [
    "cands = p.get_candidates()\n",
    "print(len(cands))"
   ]
  },
  {
   "cell_type": "code",
   "execution_count": 127,
   "id": "c45a1064",
   "metadata": {},
   "outputs": [
    {
     "data": {
      "image/png": "[encoded data removed]",
      "text/plain": [
       "<Figure size 720x360 with 2 Axes>"
      ]
     },
     "metadata": {
      "needs_background": "light"
     },
     "output_type": "display_data"
    }
   ],
   "source": [
    "grid = grid_candidates(cands, 'snr')\n",
    "fig, ax = subplots(1,2)\n",
    "ax[0].imshow(grid)\n",
    "ax[1].imshow(grid)\n",
    "ax[1].set_xlim(128-8,128+8)\n",
    "ax[1].set_ylim(128-8,128+8)\n",
    "fig.set_size_inches([10,5])"
   ]
  },
  {
   "cell_type": "code",
   "execution_count": null,
   "id": "79defad0",
   "metadata": {},
   "outputs": [],
   "source": []
  },
  {
   "cell_type": "code",
   "execution_count": null,
   "id": "d3c2083c",
   "metadata": {},
   "outputs": [],
   "source": []
  },
  {
   "cell_type": "code",
   "execution_count": null,
   "id": "c3a04543",
   "metadata": {},
   "outputs": [],
   "source": []
  }
 ],
 "metadata": {
  "kernelspec": {
   "display_name": "venv",
   "language": "python",
   "name": "venv"
  },
  "language_info": {
   "codemirror_mode": {
    "name": "ipython",
    "version": 3
   },
   "file_extension": ".py",
   "mimetype": "text/x-python",
   "name": "python",
   "nbconvert_exporter": "python",
   "pygments_lexer": "ipython3",
   "version": "3.6.9"
  }
 },
 "nbformat": 4,
 "nbformat_minor": 5
}
