{
 "cells": [
  {
   "cell_type": "code",
   "execution_count": 1,
   "id": "2cf6e4b4",
   "metadata": {},
   "outputs": [],
   "source": [
    "%matplotlib inline\n",
    "from pylab import *\n",
    "import numpy as np\n",
    "from craco.search_pipeline import location2pix, get_grid_lut_from_plan, grid_candidates,wait_for_starts,waitall,print_candidates\n",
    "import craco\n",
    "import craco.search_pipeline\n",
    "from craco.pyxrtutil import *\n",
    "import craft.craco_plan\n",
    "\n",
    "from craft import uvfits\n",
    "\n",
    "from craft.craco_plan import PipelinePlan\n",
    "\n"
   ]
  },
  {
   "cell_type": "code",
   "execution_count": 2,
   "id": "754d95fe",
   "metadata": {},
   "outputs": [],
   "source": [
    "fits='/data/craco/ban115/test_data/frb_d0_t0_a1_sninf_lm00/frb_d0_t0_a1_sninf_lm00.fits'\n",
    "xclbin='/data/craco/ban115/builds/binary_container_1_10688715.xclbin'\n",
    "alloc_device_only=True"
   ]
  },
  {
   "cell_type": "code",
   "execution_count": 3,
   "id": "a93f1740",
   "metadata": {},
   "outputs": [],
   "source": [
    "values = craco.search_pipeline.get_parser().parse_args([])"
   ]
  },
  {
   "cell_type": "code",
   "execution_count": 4,
   "id": "0964e0a0",
   "metadata": {},
   "outputs": [],
   "source": [
    "\n",
    "device = pyxrt.device(1)\n",
    "xbin = pyxrt.xclbin(xclbin)\n",
    "uuid = device.load_xclbin(xbin)\n"
   ]
  },
  {
   "cell_type": "code",
   "execution_count": 5,
   "id": "c5804107",
   "metadata": {},
   "outputs": [
    {
     "name": "stdout",
     "output_type": "stream",
     "text": [
      "parsing values --ndm 2\n"
     ]
    }
   ],
   "source": [
    "f = uvfits.open(fits)\n",
    "plan = PipelinePlan(f, \"--ndm 2\")"
   ]
  },
  {
   "cell_type": "code",
   "execution_count": 6,
   "id": "3eed4043",
   "metadata": {},
   "outputs": [
    {
     "name": "stdout",
     "output_type": "stream",
     "text": [
      "Kernel krnl_ddgrid_reader_4cu:krnl_ddgrid_reader_4cu_1 has groups\n",
      "GID=0=32\n",
      "GID=1=-1\n",
      "GID=2=-1\n",
      "GID=3=-1\n",
      "GID=4=-1\n",
      "GID=5=15\n",
      "Kernel krnl_grid_4cu:krnl_grid_4cu_1 has groups\n",
      "GID=0=-1\n",
      "GID=1=-1\n",
      "GID=2=-1\n",
      "GID=3=-1\n",
      "GID=4=-1\n",
      "GID=5=6\n",
      "Kernel krnl_grid_4cu:krnl_grid_4cu_2 has groups\n",
      "GID=0=-1\n",
      "GID=1=-1\n",
      "GID=2=-1\n",
      "GID=3=-1\n",
      "GID=4=-1\n",
      "GID=5=7\n",
      "Kernel krnl_grid_4cu:krnl_grid_4cu_3 has groups\n",
      "GID=0=-1\n",
      "GID=1=-1\n",
      "GID=2=-1\n",
      "GID=3=-1\n",
      "GID=4=-1\n",
      "GID=5=20\n",
      "Kernel krnl_grid_4cu:krnl_grid_4cu_4 has groups\n",
      "GID=0=-1\n",
      "GID=1=-1\n",
      "GID=2=-1\n",
      "GID=3=-1\n",
      "GID=4=-1\n",
      "GID=5=21\n",
      "Kernel fft2d:fft2d_1 has groups\n",
      "Kernel fft2d:fft2d_2 has groups\n",
      "Kernel fft2d:fft2d_3 has groups\n",
      "Kernel fft2d:fft2d_4 has groups\n",
      "Kernel krnl_boxc_4cu:krnl_boxc_4cu_1 has groups\n",
      "GID=0=-1\n",
      "GID=1=-1\n",
      "GID=2=-1\n",
      "GID=3=54\n",
      "GID=4=54\n",
      "GID=5=4\n",
      "Kernel fdmt_tunable_c32:fdmt_tunable_c32_1 has groups\n",
      "GID=0=52\n",
      "GID=1=32\n",
      "GID=2=53\n",
      "GID=3=53\n",
      "GID=4=14\n",
      "Allocated 360428 bytes flags=flags.normal groupid=6 address=0x60000000\n",
      "Allocated 360428 bytes flags=flags.normal groupid=7 address=0x70000000\n",
      "Allocated 360428 bytes flags=flags.normal groupid=20 address=0x140000000\n",
      "Allocated 360428 bytes flags=flags.normal groupid=21 address=0x150000000\n",
      "Allocated 172752896 bytes flags=flags.normal groupid=52 address=0x90000000\n",
      "Allocated 268435456 bytes flags=flags.normal groupid=53 address=0xa0000000\n",
      "Allocated 653728 bytes flags=flags.normal groupid=14 address=0xe0000000\n",
      "Allocated 239337472 bytes flags=flags.normal groupid=32 address=0x4000000000\n",
      "Allocated 239337472 bytes flags=flags.normal groupid=32 address=0x400e440000\n",
      "Allocated 239337472 bytes flags=flags.normal groupid=32 address=0x401c880000\n",
      "Allocated 239337472 bytes flags=flags.normal groupid=32 address=0x402acc0000\n",
      "Allocated 239337472 bytes flags=flags.normal groupid=32 address=0x4039100000\n",
      "Allocated 239337472 bytes flags=flags.normal groupid=32 address=0x4047540000\n",
      "Allocated 239337472 bytes flags=flags.normal groupid=32 address=0x4055980000\n",
      "Allocated 239337472 bytes flags=flags.normal groupid=32 address=0x4063dc0000\n",
      "Allocated 6732 bytes flags=flags.normal groupid=15 address=0xf0000000\n",
      "Allocated 1073741824 bytes flags=flags.normal groupid=54 address=0x0\n",
      "Boxcar history (1024, 8, 256, 256) 1073741824 2\n",
      "Allocated 65536 bytes flags=flags.normal groupid=4 address=0x40000000\n"
     ]
    }
   ],
   "source": [
    "p = craco.search_pipeline.Pipeline(device, xbin, plan, alloc_device_only)"
   ]
  },
  {
   "cell_type": "code",
   "execution_count": 7,
   "id": "b958e9a5",
   "metadata": {},
   "outputs": [],
   "source": [
    "def copy_mainbuf(p):\n",
    "    mainbuf_run = p.all_mainbufs[0]\n",
    "    main_nuv = mainbuf_run.shape[0]\n",
    "    mainbuf_shape =list(mainbuf_run.shape[:])\n",
    "    nbuf = 8\n",
    "    mainbuf_shape[0] *= nbuf\n",
    "    mainbuf = np.zeros(mainbuf_shape, dtype=np.int16)\n",
    "    print(mainbuf_shape)\n",
    "    for b in range(len(p.all_mainbufs)):\n",
    "        start = b*main_nuv\n",
    "        end = (b+1)*main_nuv\n",
    "        buf = p.all_mainbufs[b]\n",
    "        buf.copy_from_device()\n",
    "        d = buf.nparr\n",
    "        mainbuf[start:end, ...] = d\n",
    "    # (101, 186, 11, 256, 8, 2)\n",
    "    return mainbuf"
   ]
  },
  {
   "cell_type": "code",
   "execution_count": 8,
   "id": "6f179e76",
   "metadata": {},
   "outputs": [
    {
     "name": "stdout",
     "output_type": "stream",
     "text": [
      "[83, 32, 11, 256, 8, 2]\n",
      "[83, 32, 11, 256, 8, 2]\n",
      "[83, 32, 11, 256, 8, 2]\n",
      "[83, 32, 11, 256, 8, 2]\n",
      "[83, 32, 11, 256, 8, 2]\n",
      "[83, 32, 11, 256, 8, 2]\n",
      "[83, 32, 11, 256, 8, 2]\n",
      "[83, 32, 11, 256, 8, 2]\n"
     ]
    }
   ],
   "source": [
    "p.clear_buffers(values)\n",
    "dmamp = 192\n",
    "t0 = 1\n",
    "\n",
    "# put in a value for a single time and DM\n",
    "for b in p.all_mainbufs:\n",
    "    print(b.shape)\n",
    "    b.nparr[:] = 0\n",
    "    b.nparr[:,0,0,t0,:,0] = dmamp\n",
    "    b.copy_to_device()\n",
    "    "
   ]
  },
  {
   "cell_type": "code",
   "execution_count": 23,
   "id": "6cae7f7e",
   "metadata": {},
   "outputs": [
    {
     "name": "stdout",
     "output_type": "stream",
     "text": [
      "[664, 32, 11, 256, 8, 2]\n"
     ]
    }
   ],
   "source": [
    "mainbuf = copy_mainbuf(p)"
   ]
  },
  {
   "cell_type": "code",
   "execution_count": 10,
   "id": "f815f346",
   "metadata": {},
   "outputs": [
    {
     "name": "stdout",
     "output_type": "stream",
     "text": [
      "(664, 32, 11, 256, 8, 2)\n"
     ]
    },
    {
     "data": {
      "image/png": "[encoded data removed]",
      "text/plain": [
       "<Figure size 432x288 with 1 Axes>"
      ]
     },
     "metadata": {
      "needs_background": "light"
     },
     "output_type": "display_data"
    }
   ],
   "source": [
    "print(mainbuf.shape)\n",
    "plot(mainbuf[:,0,0,t0,:,0].flat)\n",
    "assert np.all(mainbuf[:,0,0,t0,:,0] == dmamp)\n",
    "assert np.all(mainbuf[:,1:,1:,:t0,:,1] == 0)\n",
    "assert np.all(mainbuf[:,1:,1:,:t0+1,:,1] == 0)"
   ]
  },
  {
   "cell_type": "code",
   "execution_count": 11,
   "id": "08089bfd",
   "metadata": {},
   "outputs": [],
   "source": [
    "values.run_fdmt = False"
   ]
  },
  {
   "cell_type": "code",
   "execution_count": 31,
   "id": "22b9f4cb",
   "metadata": {},
   "outputs": [],
   "source": [
    "for i in range(100):\n",
    "    waitall(p.run(i % 11, values))"
   ]
  },
  {
   "cell_type": "code",
   "execution_count": 13,
   "id": "4227744c",
   "metadata": {},
   "outputs": [],
   "source": [
    "cands = p.get_candidates()"
   ]
  },
  {
   "cell_type": "code",
   "execution_count": 14,
   "id": "027bd869",
   "metadata": {},
   "outputs": [
    {
     "name": "stdout",
     "output_type": "stream",
     "text": [
      "[(384,     0, 0, 1, 0) (225,   511, 0, 1, 0) (225, 65281, 0, 1, 0)\n",
      " (384,     0, 0, 1, 1) (225,   511, 0, 1, 1) (225, 65281, 0, 1, 1)]\n",
      "[(384,     0, 0, 1, 0) (225,   511, 0, 1, 0) (225, 65281, 0, 1, 0)]\n"
     ]
    }
   ],
   "source": [
    "print(cands)\n",
    "cands = cands[cands['dm'] == 0] # DM 0 adn 1 are repeated, I think.\n",
    "print(cands)"
   ]
  },
  {
   "cell_type": "code",
   "execution_count": 15,
   "id": "6bda3858",
   "metadata": {},
   "outputs": [
    {
     "data": {
      "text/plain": [
       "(120.0, 136.0)"
      ]
     },
     "execution_count": 15,
     "metadata": {},
     "output_type": "execute_result"
    },
    {
     "data": {
      "image/png": "[encoded data removed]",
      "text/plain": [
       "<Figure size 432x288 with 1 Axes>"
      ]
     },
     "metadata": {
      "needs_background": "light"
     },
     "output_type": "display_data"
    }
   ],
   "source": [
    "grid = grid_candidates(cands, 'snr')\n",
    "imshow(grid)\n",
    "xlim(128-8,128+8)\n",
    "ylim(128-8,128+8)"
   ]
  },
  {
   "cell_type": "code",
   "execution_count": 16,
   "id": "d4083c9f",
   "metadata": {},
   "outputs": [
    {
     "name": "stdout",
     "output_type": "stream",
     "text": [
      "# SNR\tupix\tvpix\tboxc_width\ttime\tdm\tiblk\n",
      "\n",
      "6.0\t128\t128\t0\t\t1\t0\t0\n",
      "3.5\t127\t129\t0\t\t1\t0\t0\n",
      "3.5\t129\t127\t0\t\t1\t0\t0\n"
     ]
    }
   ],
   "source": [
    "print_candidates(cands, 256, 0)"
   ]
  },
  {
   "cell_type": "code",
   "execution_count": 17,
   "id": "d4538c50",
   "metadata": {},
   "outputs": [
    {
     "name": "stdout",
     "output_type": "stream",
     "text": [
      "['/opt/xilinx/xrt/python', '/data/craco/ban115/craco-python/notebooks', '/usr/lib/python36.zip', '/usr/lib/python3.6', '/usr/lib/python3.6/lib-dynload', '', '/data/craco/ban115/craco-python/venv/lib/python3.6/site-packages', '/data/craco/ban115/realtime_pipeline_master/python/craco_testing/src', '/data/craco/ban115/craft-github/src', '/data/craco/ban115/craco-python/src', '/data/craco/ban115/realtime_pipeline_master/python/craco_pybind11', '/data/craco/ban115/craco-python/venv/lib/python3.6/site-packages/IPython/extensions', '/home/ban115/.ipython']\n",
      "2636 2681 2662\n",
      "[0 1 2 ... 0 0 0]\n"
     ]
    }
   ],
   "source": [
    "from craft.craco_plan import PipelinePlan\n",
    "import craco\n",
    "import craft.craco_plan\n",
    "from craft import uvfits\n",
    "from imp import reload\n",
    "import sys\n",
    "print(sys.path)\n",
    "import craco_pybind11\n",
    "import craco_pybind11.ddgrid_reader\n",
    "import craco_pybind11.grid\n",
    "reload(craco_pybind11)\n",
    "\n",
    "ndm = 1\n",
    "tblk = 0\n",
    "NUVWIDE = 8\n",
    "OUTPUT_NT = 2\n",
    "OUTPUT_NUV = 2\n",
    "#nuvrest = nuv // NUVWIDE\n",
    "#nuvrest = plan.nuvrest\n",
    "ncu = 4\n",
    "do_load_lut=1\n",
    "nchunk_time = plan.nchunk_time\n",
    "nparallel_uvin, nparallel_uvout, h_nparallel_uvout, lut = get_grid_lut_from_plan(plan)\n",
    "nuvrest = nparallel_uvin*2//8\n",
    "print(nparallel_uvin, nparallel_uvout, h_nparallel_uvout)\n",
    "print(lut)\n",
    "outputs = np.zeros((ncu, ndm, nchunk_time, nuvrest, NUVWIDE//OUTPUT_NUV, OUTPUT_NT, OUTPUT_NUV, 2), dtype=np.int16)\n",
    "ddreader_lut = np.zeros(1024+plan.nuvrest,dtype=np.uint32)"
   ]
  },
  {
   "cell_type": "code",
   "execution_count": null,
   "id": "ae102728",
   "metadata": {},
   "outputs": [],
   "source": [
    "print(mainbuf.shape)\n",
    "plot(mainbuf[:,0,0,0,:,0].flat)\n",
    "assert np.all(mainbuf[:,0,0,0,:,0] == 64)"
   ]
  },
  {
   "cell_type": "code",
   "execution_count": null,
   "id": "906bc2e7",
   "metadata": {},
   "outputs": [],
   "source": [
    "craco_pybind11.ddgrid_reader.krnl_ddgrid_reader_4cu(mainbuf, \n",
    "                                     ndm, \n",
    "                                     tblk,\n",
    "                                     nchunk_time, \n",
    "                                     nuvrest, \n",
    "                                     ddreader_lut, \n",
    "                                     do_load_lut, \n",
    "                                     outputs[0], \n",
    "                                     outputs[1], \n",
    "                                     outputs[2], \n",
    "                                     outputs[3])\n",
    "reordered = np.transpose(outputs, [1, 2,0,5, 3,4,6, 7])\n",
    "#assert reordered.shape == (ndm, nchunk_time, ncu, OUTPUT_NT, nuvrest, NUVWIDE, 2)\n",
    "reordered = reordered.reshape(ndm, ncu*nchunk_time*OUTPUT_NT, nuvrest*NUVWIDE, 2)"
   ]
  },
  {
   "cell_type": "code",
   "execution_count": null,
   "id": "965f7d51",
   "metadata": {},
   "outputs": [],
   "source": [
    "\n"
   ]
  },
  {
   "cell_type": "code",
   "execution_count": null,
   "id": "ceb0a801",
   "metadata": {},
   "outputs": [],
   "source": []
  }
 ],
 "metadata": {
  "kernelspec": {
   "display_name": "venv",
   "language": "python",
   "name": "venv"
  },
  "language_info": {
   "codemirror_mode": {
    "name": "ipython",
    "version": 3
   },
   "file_extension": ".py",
   "mimetype": "text/x-python",
   "name": "python",
   "nbconvert_exporter": "python",
   "pygments_lexer": "ipython3",
   "version": "3.6.9"
  }
 },
 "nbformat": 4,
 "nbformat_minor": 5
}
