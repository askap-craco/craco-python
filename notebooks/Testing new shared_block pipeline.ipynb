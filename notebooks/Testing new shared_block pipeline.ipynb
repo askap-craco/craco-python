{
 "cells": [
  {
   "cell_type": "code",
   "execution_count": 1,
   "id": "065ab28c-2d59-4dcf-b5cb-653b9eead6d2",
   "metadata": {},
   "outputs": [],
   "source": [
    "from craco.shared_block import SharedBlock\n",
    "from craco.shared_worker import SharedWorker"
   ]
  },
  {
   "cell_type": "code",
   "execution_count": 21,
   "id": "ce91ef79-6a38-42bc-81c1-ebfb0e4a64b5",
   "metadata": {},
   "outputs": [],
   "source": [
    "import multiprocessing"
   ]
  },
  {
   "cell_type": "code",
   "execution_count": 22,
   "id": "c2bead8f-0c19-415c-9d37-c3a4d5b81f84",
   "metadata": {},
   "outputs": [
    {
     "data": {
      "text/plain": [
       "40"
      ]
     },
     "execution_count": 22,
     "metadata": {},
     "output_type": "execute_result"
    }
   ],
   "source": [
    "multiprocessing.cpu_count()"
   ]
  },
  {
   "cell_type": "code",
   "execution_count": 23,
   "id": "9f8eb026-5eeb-4a1b-97f7-39643e75efc0",
   "metadata": {},
   "outputs": [
    {
     "data": {
      "text/plain": [
       "\u001b[0;31mInit signature:\u001b[0m\n",
       "\u001b[0mmultiprocessing\u001b[0m\u001b[0;34m.\u001b[0m\u001b[0mProcess\u001b[0m\u001b[0;34m(\u001b[0m\u001b[0;34m\u001b[0m\n",
       "\u001b[0;34m\u001b[0m    \u001b[0mgroup\u001b[0m\u001b[0;34m=\u001b[0m\u001b[0;32mNone\u001b[0m\u001b[0;34m,\u001b[0m\u001b[0;34m\u001b[0m\n",
       "\u001b[0;34m\u001b[0m    \u001b[0mtarget\u001b[0m\u001b[0;34m=\u001b[0m\u001b[0;32mNone\u001b[0m\u001b[0;34m,\u001b[0m\u001b[0;34m\u001b[0m\n",
       "\u001b[0;34m\u001b[0m    \u001b[0mname\u001b[0m\u001b[0;34m=\u001b[0m\u001b[0;32mNone\u001b[0m\u001b[0;34m,\u001b[0m\u001b[0;34m\u001b[0m\n",
       "\u001b[0;34m\u001b[0m    \u001b[0margs\u001b[0m\u001b[0;34m=\u001b[0m\u001b[0;34m(\u001b[0m\u001b[0;34m)\u001b[0m\u001b[0;34m,\u001b[0m\u001b[0;34m\u001b[0m\n",
       "\u001b[0;34m\u001b[0m    \u001b[0mkwargs\u001b[0m\u001b[0;34m=\u001b[0m\u001b[0;34m{\u001b[0m\u001b[0;34m}\u001b[0m\u001b[0;34m,\u001b[0m\u001b[0;34m\u001b[0m\n",
       "\u001b[0;34m\u001b[0m    \u001b[0;34m*\u001b[0m\u001b[0;34m,\u001b[0m\u001b[0;34m\u001b[0m\n",
       "\u001b[0;34m\u001b[0m    \u001b[0mdaemon\u001b[0m\u001b[0;34m=\u001b[0m\u001b[0;32mNone\u001b[0m\u001b[0;34m,\u001b[0m\u001b[0;34m\u001b[0m\n",
       "\u001b[0;34m\u001b[0m\u001b[0;34m)\u001b[0m\u001b[0;34m\u001b[0m\u001b[0;34m\u001b[0m\u001b[0m\n",
       "\u001b[0;31mDocstring:\u001b[0m     \n",
       "Process objects represent activity that is run in a separate process\n",
       "\n",
       "The class is analogous to `threading.Thread`\n",
       "\u001b[0;31mFile:\u001b[0m           ~/miniconda3/envs/mpi/lib/python3.8/multiprocessing/context.py\n",
       "\u001b[0;31mType:\u001b[0m           type\n",
       "\u001b[0;31mSubclasses:\u001b[0m     "
      ]
     },
     "metadata": {},
     "output_type": "display_data"
    }
   ],
   "source": [
    "multiprocessing.Process?"
   ]
  },
  {
   "cell_type": "code",
   "execution_count": 24,
   "id": "5feffc12-ba55-42b4-839f-3c7b9201370e",
   "metadata": {},
   "outputs": [
    {
     "data": {
      "text/plain": [
       "\u001b[0;31mSignature:\u001b[0m \u001b[0mmultiprocessing\u001b[0m\u001b[0;34m.\u001b[0m\u001b[0mQueue\u001b[0m\u001b[0;34m(\u001b[0m\u001b[0mmaxsize\u001b[0m\u001b[0;34m=\u001b[0m\u001b[0;36m0\u001b[0m\u001b[0;34m)\u001b[0m\u001b[0;34m\u001b[0m\u001b[0;34m\u001b[0m\u001b[0m\n",
       "\u001b[0;31mDocstring:\u001b[0m Returns a queue object\n",
       "\u001b[0;31mFile:\u001b[0m      ~/miniconda3/envs/mpi/lib/python3.8/multiprocessing/context.py\n",
       "\u001b[0;31mType:\u001b[0m      method"
      ]
     },
     "metadata": {},
     "output_type": "display_data"
    }
   ],
   "source": [
    "multiprocessing.Queue?"
   ]
  },
  {
   "cell_type": "code",
   "execution_count": 25,
   "id": "b11d9907-488a-4a44-9289-8fad0819ab9f",
   "metadata": {},
   "outputs": [],
   "source": [
    "q = multiprocessing.Queue(maxsize=10)\n"
   ]
  },
  {
   "cell_type": "code",
   "execution_count": 26,
   "id": "803c8875-60ae-4550-9167-1b9ea1020dd4",
   "metadata": {},
   "outputs": [
    {
     "data": {
      "text/plain": [
       "\u001b[0;31mSignature:\u001b[0m \u001b[0mq\u001b[0m\u001b[0;34m.\u001b[0m\u001b[0mget\u001b[0m\u001b[0;34m(\u001b[0m\u001b[0mblock\u001b[0m\u001b[0;34m=\u001b[0m\u001b[0;32mTrue\u001b[0m\u001b[0;34m,\u001b[0m \u001b[0mtimeout\u001b[0m\u001b[0;34m=\u001b[0m\u001b[0;32mNone\u001b[0m\u001b[0;34m)\u001b[0m\u001b[0;34m\u001b[0m\u001b[0;34m\u001b[0m\u001b[0m\n",
       "\u001b[0;31mDocstring:\u001b[0m <no docstring>\n",
       "\u001b[0;31mFile:\u001b[0m      ~/miniconda3/envs/mpi/lib/python3.8/multiprocessing/queues.py\n",
       "\u001b[0;31mType:\u001b[0m      method"
      ]
     },
     "metadata": {},
     "output_type": "display_data"
    }
   ],
   "source": [
    "q.get?\n"
   ]
  },
  {
   "cell_type": "code",
   "execution_count": null,
   "id": "d3deac3f-b75b-4dc4-b0c3-aff073587eb9",
   "metadata": {},
   "outputs": [],
   "source": []
  },
  {
   "cell_type": "code",
   "execution_count": null,
   "id": "225b7241-e382-4c69-82ad-09e35764f611",
   "metadata": {},
   "outputs": [],
   "source": []
  },
  {
   "cell_type": "code",
   "execution_count": null,
   "id": "74a84aaf-3f4b-4232-9f47-6679f7540a07",
   "metadata": {},
   "outputs": [],
   "source": []
  },
  {
   "cell_type": "code",
   "execution_count": 20,
   "id": "66c830b2-bb81-482e-ad77-6a3a9af3b0dd",
   "metadata": {},
   "outputs": [],
   "source": [
    "import numpy as np\n",
    "import matplotlib.pyplot as plt\n",
    "%matplotlib notebook\n",
    "import time"
   ]
  },
  {
   "cell_type": "code",
   "execution_count": 16,
   "id": "c75a5c94-2c35-4d36-8152-6615780efb8d",
   "metadata": {},
   "outputs": [],
   "source": [
    "Nsamps = 100000\n",
    "dtp=np.dtype(np.complex64)"
   ]
  },
  {
   "cell_type": "code",
   "execution_count": 17,
   "id": "af7df133-8b5e-457f-9ccd-e635af69f8a3",
   "metadata": {},
   "outputs": [],
   "source": [
    "first_sblock = SharedBlock(\"sb0\", True, Nsamps * dtp.itemsize)\n",
    "doubled_sblock = SharedBlock(\"sb1\", True, Nsamps * dtp.itemsize)\n",
    "tripled_block = SharedBlock(\"sb2\", True, Nsamps * dtp.itemsize)"
   ]
  },
  {
   "cell_type": "code",
   "execution_count": null,
   "id": "086d6b44-f71a-4712-8c76-96bd144ebbe5",
   "metadata": {},
   "outputs": [],
   "source": [
    "def write_to_first_sblock(Nsamps, dtp, count = 5):\n",
    "    first_block = SharedBlock(\"sb0\", False, Nsamps * dtp.itemsize)\n",
    "    first_block.acquire_for_writing(0)\n",
    "    N = 0\n",
    "    while N < count:\n",
    "        x = (np.random.normal(0, 1, Nsamps) + 1j * np.random.normal(0, 1, Nsamps)).astype(dtp)\n",
    "        first_block.engage_for_writing(0)\n",
    "        first_block.buf[:] = x\n",
    "    "
   ]
  },
  {
   "cell_type": "code",
   "execution_count": null,
   "id": "cd6d0685-c46b-48cc-8a6a-9944d702bd9e",
   "metadata": {},
   "outputs": [],
   "source": []
  }
 ],
 "metadata": {
  "kernelspec": {
   "display_name": "Python 3 (ipykernel)",
   "language": "python",
   "name": "python3"
  },
  "language_info": {
   "codemirror_mode": {
    "name": "ipython",
    "version": 3
   },
   "file_extension": ".py",
   "mimetype": "text/x-python",
   "name": "python",
   "nbconvert_exporter": "python",
   "pygments_lexer": "ipython3",
   "version": "3.8.18"
  }
 },
 "nbformat": 4,
 "nbformat_minor": 5
}
