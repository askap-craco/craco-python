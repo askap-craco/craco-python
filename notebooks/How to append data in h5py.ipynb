{
 "cells": [
  {
   "cell_type": "code",
   "execution_count": 1,
   "id": "0db2a5c5",
   "metadata": {},
   "outputs": [],
   "source": [
    "# How do you append ddata in H5py?"
   ]
  },
  {
   "cell_type": "code",
   "execution_count": 2,
   "id": "d9a8d3d1",
   "metadata": {},
   "outputs": [],
   "source": [
    "import h5py\n",
    "import numpy as np\n",
    "from craco import cardcap"
   ]
  },
  {
   "cell_type": "code",
   "execution_count": 3,
   "id": "6d5df7e7",
   "metadata": {},
   "outputs": [],
   "source": [
    "dtype = cardcap.get_single_packet_dtype(435, True)\n"
   ]
  },
  {
   "cell_type": "code",
   "execution_count": 4,
   "id": "729c8b53",
   "metadata": {},
   "outputs": [],
   "source": [
    "f = h5py.File('test.h5', 'w')\n",
    "f.attrs.create('test', 'hello')\n",
    "f.attrs.create('test2',1)"
   ]
  },
  {
   "cell_type": "code",
   "execution_count": 5,
   "id": "049db405",
   "metadata": {},
   "outputs": [
    {
     "data": {
      "text/plain": [
       "dtype([('frame_id', '<u8'), ('bat', '<u8'), ('beam_number', 'u1'), ('sample_number', 'u1'), ('channel_number', 'u1'), ('fpga_id', 'u1'), ('nprod', '<u2'), ('flags', 'u1'), ('zero1', 'u1'), ('zero2', '<u4'), ('zero3', '<u4'), ('data', '<i2', (435, 2))])"
      ]
     },
     "execution_count": 5,
     "metadata": {},
     "output_type": "execute_result"
    }
   ],
   "source": [
    "dtype"
   ]
  },
  {
   "cell_type": "code",
   "execution_count": 6,
   "id": "f3080702",
   "metadata": {},
   "outputs": [],
   "source": [
    "v = np.ones((10,), dtype=dtype)"
   ]
  },
  {
   "cell_type": "code",
   "execution_count": 7,
   "id": "d48cbe78",
   "metadata": {},
   "outputs": [
    {
     "data": {
      "text/plain": [
       "array([1, 1, 1, 1, 1, 1, 1, 1, 1, 1], dtype=uint64)"
      ]
     },
     "execution_count": 7,
     "metadata": {},
     "output_type": "execute_result"
    }
   ],
   "source": [
    "v['frame_id']"
   ]
  },
  {
   "cell_type": "code",
   "execution_count": 8,
   "id": "4abe7c0c",
   "metadata": {},
   "outputs": [
    {
     "data": {
      "text/plain": [
       "(435, 2)"
      ]
     },
     "execution_count": 8,
     "metadata": {},
     "output_type": "execute_result"
    }
   ],
   "source": [
    "v[0]['data'].shape\n"
   ]
  },
  {
   "cell_type": "code",
   "execution_count": 9,
   "id": "3608fb54",
   "metadata": {},
   "outputs": [
    {
     "data": {
      "text/plain": [
       "(10, 435, 2)"
      ]
     },
     "execution_count": 9,
     "metadata": {},
     "output_type": "execute_result"
    }
   ],
   "source": [
    "v['data'].shape"
   ]
  },
  {
   "cell_type": "code",
   "execution_count": 10,
   "id": "320da84f",
   "metadata": {},
   "outputs": [],
   "source": [
    "dset = f.create_dataset('packets', shape=(0,),dtype=dtype, maxshape=(None,))"
   ]
  },
  {
   "cell_type": "code",
   "execution_count": 11,
   "id": "52706353",
   "metadata": {},
   "outputs": [],
   "source": [
    "dset.resize(10, axis=0)"
   ]
  },
  {
   "cell_type": "code",
   "execution_count": 12,
   "id": "46a75d9a",
   "metadata": {},
   "outputs": [],
   "source": [
    "dset[:10] = v"
   ]
  },
  {
   "cell_type": "code",
   "execution_count": 13,
   "id": "9337ddc1",
   "metadata": {},
   "outputs": [],
   "source": [
    "f.close()"
   ]
  },
  {
   "cell_type": "code",
   "execution_count": 14,
   "id": "51408818",
   "metadata": {},
   "outputs": [],
   "source": [
    "f= h5py.File('test.h5','r+')"
   ]
  },
  {
   "cell_type": "code",
   "execution_count": 15,
   "id": "ae9d6568",
   "metadata": {},
   "outputs": [],
   "source": [
    "d = f['packets']"
   ]
  },
  {
   "cell_type": "code",
   "execution_count": 16,
   "id": "948c11d0",
   "metadata": {},
   "outputs": [
    {
     "data": {
      "text/plain": [
       "array([1, 1, 1, 1, 1, 1, 1, 1, 1, 1], dtype=uint64)"
      ]
     },
     "execution_count": 16,
     "metadata": {},
     "output_type": "execute_result"
    }
   ],
   "source": [
    "d['frame_id']"
   ]
  },
  {
   "cell_type": "code",
   "execution_count": 17,
   "id": "506e688c",
   "metadata": {},
   "outputs": [],
   "source": [
    "d[0] = 18"
   ]
  },
  {
   "cell_type": "code",
   "execution_count": 18,
   "id": "d32a232d",
   "metadata": {},
   "outputs": [],
   "source": [
    "f.close()"
   ]
  },
  {
   "cell_type": "code",
   "execution_count": 19,
   "id": "b330d629",
   "metadata": {},
   "outputs": [],
   "source": [
    "f= h5py.File('test.h5','r+')"
   ]
  },
  {
   "cell_type": "code",
   "execution_count": 20,
   "id": "ee44307c",
   "metadata": {},
   "outputs": [
    {
     "data": {
      "text/plain": [
       "array([18,  1,  1,  1,  1,  1,  1,  1,  1,  1], dtype=uint64)"
      ]
     },
     "execution_count": 20,
     "metadata": {},
     "output_type": "execute_result"
    }
   ],
   "source": [
    "d = f['packets']\n",
    "d['frame_id']"
   ]
  },
  {
   "cell_type": "code",
   "execution_count": 35,
   "id": "abca8633",
   "metadata": {},
   "outputs": [],
   "source": [
    "f.close()"
   ]
  },
  {
   "cell_type": "code",
   "execution_count": 22,
   "id": "d8c0966d",
   "metadata": {},
   "outputs": [],
   "source": [
    "f= h5py.File('test.h5','r+')"
   ]
  },
  {
   "cell_type": "code",
   "execution_count": 23,
   "id": "1d470b63",
   "metadata": {},
   "outputs": [
    {
     "data": {
      "text/plain": [
       "<KeysViewHDF5 ['packets']>"
      ]
     },
     "execution_count": 23,
     "metadata": {},
     "output_type": "execute_result"
    }
   ],
   "source": [
    "f.keys()"
   ]
  },
  {
   "cell_type": "code",
   "execution_count": 24,
   "id": "f0d1bf56",
   "metadata": {},
   "outputs": [
    {
     "data": {
      "text/plain": [
       "'test.h5'"
      ]
     },
     "execution_count": 24,
     "metadata": {},
     "output_type": "execute_result"
    }
   ],
   "source": [
    "f.filename"
   ]
  },
  {
   "cell_type": "code",
   "execution_count": 25,
   "id": "8671932a",
   "metadata": {},
   "outputs": [
    {
     "data": {
      "text/plain": [
       "[('test', 'hello'), ('test2', 1)]"
      ]
     },
     "execution_count": 25,
     "metadata": {},
     "output_type": "execute_result"
    }
   ],
   "source": [
    "list(f.attrs.items())"
   ]
  },
  {
   "cell_type": "code",
   "execution_count": 31,
   "id": "5b274d4b",
   "metadata": {},
   "outputs": [],
   "source": [
    "f.close()"
   ]
  },
  {
   "cell_type": "code",
   "execution_count": 133,
   "id": "aee2ccd7",
   "metadata": {},
   "outputs": [
    {
     "data": {
      "text/plain": [
       "dtype([('frame_id', '<u8'), ('bat', '<u8'), ('beam_number', 'u1'), ('sample_number', 'u1'), ('channel_number', 'u1'), ('fpga_id', 'u1'), ('nprod', '<u2'), ('flags', 'u1'), ('zero1', 'u1'), ('zero2', '<u4'), ('zero3', '<u4'), ('data', '<i2', (435, 2))])"
      ]
     },
     "execution_count": 133,
     "metadata": {},
     "output_type": "execute_result"
    }
   ],
   "source": [
    "# check write bandwidth\n",
    "nout = 10000\n",
    "import time\n",
    "size_bytes = len(v)*v.itemsize*nout\n",
    "v = np.ones((10,), dtype=dtype)\n",
    "dtype"
   ]
  },
  {
   "cell_type": "code",
   "execution_count": 145,
   "id": "697a6695",
   "metadata": {},
   "outputs": [
    {
     "name": "stdout",
     "output_type": "stream",
     "text": [
      "-rw-rw-r-- 1 ban115 ban115 1.6K Apr  5 09:36 test.h5\n",
      "HDF5 took 0.1889840611256659 for 177200000 bytes = 937.6452116888839 MB/sec\n"
     ]
    }
   ],
   "source": [
    "# Appendign HDF5\n",
    "with h5py.File('test.h5','w') as f:\n",
    "    sz = 0\n",
    "    dset = f.create_dataset('packets', shape=(0,),dtype=dtype, maxshape=(None,), chunks=(len(v),))\n",
    "    start = time.perf_counter()\n",
    "    for i in range(nout):    \n",
    "        dset.resize(sz+len(v), axis=0) # if you don't resize, the file size at the end is tiny\n",
    "        #dset[sz:sz+len(v)] = v\n",
    "        sz += len(v)\n",
    "stop = time.perf_counter()\n",
    "duration= stop - start\n",
    "rate = size_bytes / 1e6 / duration\n",
    "\n",
    "!ls -lh test.h5\n",
    "\n",
    "print(f'HDF5 took {duration} for {size_bytes} bytes = {rate} MB/sec')\n",
    "    "
   ]
  },
  {
   "cell_type": "code",
   "execution_count": 146,
   "id": "cfc1eac9",
   "metadata": {},
   "outputs": [
    {
     "name": "stdout",
     "output_type": "stream",
     "text": [
      "-rw-rw-r-- 1 ban115 ban115 1.6K Apr  5 09:36 test.h5\n",
      "HDF5 took 2.3802618361078203 for 177200000 bytes = 74.4455913681142 MB/sec\n"
     ]
    }
   ],
   "source": [
    "# Fixed HDF5 size\n",
    "with h5py.File('test_fixed_size.h5','w') as f:\n",
    "    sz = 0\n",
    "    dset = f.create_dataset('packets', shape=(nout*len(v),),dtype=dtype, chunks=(len(v),))\n",
    "    start = time.perf_counter()\n",
    "    for i in range(nout):    \n",
    "        #dset.resize(sz+len(v), axis=0)\n",
    "        dset[sz:sz+len(v)] = v\n",
    "        sz += len(v)\n",
    "stop = time.perf_counter()\n",
    "duration= stop - start\n",
    "rate = size_bytes / 1e6 / duration\n",
    "\n",
    "!ls -lh test.h5\n",
    "\n",
    "print(f'HDF5 took {duration} for {size_bytes} bytes = {rate} MB/sec')\n",
    "    "
   ]
  },
  {
   "cell_type": "code",
   "execution_count": 129,
   "id": "60d868c8",
   "metadata": {},
   "outputs": [
    {
     "name": "stdout",
     "output_type": "stream",
     "text": [
      "Raw file took 2.7307999851182103 for 1772000000 bytes = 648.89410050414 MB/sec\n",
      "-rw-rw-r-- 1 ban115 ban115 1.7G Apr  4 16:31 test.bin\r\n"
     ]
    }
   ],
   "source": [
    "# File append with tobytes\n",
    "with open('test.bin', 'wb') as f:\n",
    "    databytes = v.tobytes()\n",
    "    start = time.perf_counter()\n",
    "    for i in range(nout):\n",
    "        f.write(databytes)\n",
    "stop = time.perf_counter()\n",
    "    \n",
    "duration= stop - start\n",
    "rate = size_bytes / 1e6 / duration\n",
    "\n",
    "print(f'Raw file took {duration} for {size_bytes} bytes = {rate} MB/sec')\n",
    "!ls -lh test.bin\n",
    "   "
   ]
  },
  {
   "cell_type": "code",
   "execution_count": 130,
   "id": "dc2df8bb",
   "metadata": {},
   "outputs": [
    {
     "name": "stdout",
     "output_type": "stream",
     "text": [
      "-rw-rw-r-- 1 ban115 ban115 1.7G Apr  4 16:31 test.bin\r\n",
      "-rw-rw-r-- 1 ban115 ban115 1.7G Apr  4 16:30 test.h5\r\n",
      "-rw-rw-r-- 1 ban115 ban115 1.7G Apr  4 10:00 test.npr\r\n"
     ]
    }
   ],
   "source": [
    "!ls -lh test.*"
   ]
  },
  {
   "cell_type": "code",
   "execution_count": 131,
   "id": "58df4bc1",
   "metadata": {},
   "outputs": [
    {
     "name": "stdout",
     "output_type": "stream",
     "text": [
      "Raw file took 4.034558098996058 for 1772000000 bytes = 439.20547344229266 MB/sec\n",
      "-rw-rw-r-- 1 ban115 ban115 1.7G Apr  4 16:31 test.bin\r\n",
      "-rw-rw-r-- 1 ban115 ban115 1.7G Apr  4 16:30 test.h5\r\n",
      "-rw-rw-r-- 1 ban115 ban115 1.7G Apr  4 16:31 test.npr\r\n"
     ]
    }
   ],
   "source": [
    "# numpy .tofile\n",
    "with open('test.npr', 'wb') as f:    \n",
    "    start = time.perf_counter()\n",
    "    for i in range(nout):\n",
    "        v.tofile(f)\n",
    "stop = time.perf_counter()\n",
    "    \n",
    "duration= stop - start\n",
    "rate = size_bytes / 1e6 / duration\n",
    "\n",
    "print(f'Raw file took {duration} for {size_bytes} bytes = {rate} MB/sec')\n",
    "!ls -lh test.*\n",
    "   "
   ]
  },
  {
   "cell_type": "code",
   "execution_count": null,
   "id": "4c063e77",
   "metadata": {},
   "outputs": [],
   "source": []
  },
  {
   "cell_type": "code",
   "execution_count": null,
   "id": "0afc840a",
   "metadata": {},
   "outputs": [],
   "source": []
  },
  {
   "cell_type": "code",
   "execution_count": null,
   "id": "30f9efce",
   "metadata": {},
   "outputs": [],
   "source": []
  }
 ],
 "metadata": {
  "kernelspec": {
   "display_name": "venv",
   "language": "python",
   "name": "venv"
  },
  "language_info": {
   "codemirror_mode": {
    "name": "ipython",
    "version": 3
   },
   "file_extension": ".py",
   "mimetype": "text/x-python",
   "name": "python",
   "nbconvert_exporter": "python",
   "pygments_lexer": "ipython3",
   "version": "3.6.9"
  }
 },
 "nbformat": 4,
 "nbformat_minor": 5
}
