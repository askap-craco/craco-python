{
 "cells": [
  {
   "cell_type": "code",
   "execution_count": 2,
   "id": "32a4ad10-0e9e-4f34-8ca7-409cf960233e",
   "metadata": {},
   "outputs": [],
   "source": [
    "import pylab\n",
    "import matplotlib as mpl\n",
    "import matplotlib.pyplot as plt\n",
    "import numpy as np\n",
    "import os\n",
    "import sys\n",
    "import logging\n",
    "import pytest\n",
    "from craco.cutout_buffer import *\n",
    "import craco.card_averager\n",
    "from craco.candidate_writer import CandidateWriter"
   ]
  },
  {
   "cell_type": "code",
   "execution_count": 7,
   "id": "69c15df1-aff7-42de-84e2-f34ecf8b8e75",
   "metadata": {},
   "outputs": [],
   "source": [
    "class DummyValues:\n",
    "    def __init__(self):\n",
    "        self.fcm = '../testdata/fcm_20220714.txt'\n",
    "\n",
    "class DummyInfo:\n",
    "    def __init__(self):\n",
    "        self.beamid = 3\n",
    "        self.values = DummyValues()\n",
    "        "
   ]
  },
  {
   "cell_type": "code",
   "execution_count": 8,
   "id": "ad6e2028-f98f-4275-98f1-53ef99d5b5be",
   "metadata": {},
   "outputs": [],
   "source": [
    "def make_cb(nslots=128):\n",
    "    nbeam = 36\n",
    "    nant = 12\n",
    "    nc = 24\n",
    "    nt = 32\n",
    "    vis_fscrunch = 6\n",
    "    vis_tscrunch = 1\n",
    "    npol = 1\n",
    "    real_dtype=np.float32\n",
    "    cplx_dtype = np.float32\n",
    "    dt = craco.card_averager.get_averaged_dtype(nbeam, nant, nc, nt, npol, vis_fscrunch, vis_tscrunch, real_dtype, cplx_dtype)\n",
    "    nrx = 72\n",
    "    buf = np.zeros(nrx, dtype=dt)\n",
    "    dtall = buf.dtype\n",
    "    nslots = nslots\n",
    "    info = DummyInfo()\n",
    "\n",
    "    c = CutoutBuffer(dtall, nrx, nslots, info)\n",
    "    return c"
   ]
  },
  {
   "cell_type": "code",
   "execution_count": 9,
   "id": "08601f59-d18c-42f4-935d-f40226955556",
   "metadata": {},
   "outputs": [],
   "source": [
    "cb = make_cb(4)"
   ]
  },
  {
   "cell_type": "code",
   "execution_count": 10,
   "id": "ee050b1b-04d0-4d3a-8c3f-38f0b21dc319",
   "metadata": {},
   "outputs": [
    {
     "data": {
      "text/plain": [
       "dtype([('ics', '<f4', (32, 24)), ('cas', '<f4', (32, 24)), ('vis', '<f4', (66, 4, 32, 2))])"
      ]
     },
     "execution_count": 10,
     "metadata": {},
     "output_type": "execute_result"
    }
   ],
   "source": [
    "cb.buf[0].dtype"
   ]
  },
  {
   "cell_type": "code",
   "execution_count": 12,
   "id": "33c76a15-202c-4234-9815-959d590b7aab",
   "metadata": {},
   "outputs": [],
   "source": [
    "vis = cb.buf[0]['vis']"
   ]
  },
  {
   "cell_type": "code",
   "execution_count": 13,
   "id": "ed681973-3ee3-4a06-9ede-a3695e6b7b9c",
   "metadata": {},
   "outputs": [],
   "source": [
    "fout = open('test.bin', 'wb')"
   ]
  },
  {
   "cell_type": "code",
   "execution_count": 14,
   "id": "c02a1413-aad6-4b82-aeeb-2bf2ce6c9975",
   "metadata": {},
   "outputs": [
    {
     "ename": "BufferError",
     "evalue": "memoryview: underlying buffer is not C-contiguous",
     "output_type": "error",
     "traceback": [
      "\u001b[0;31m---------------------------------------------------------------------------\u001b[0m",
      "\u001b[0;31mBufferError\u001b[0m                               Traceback (most recent call last)",
      "Cell \u001b[0;32mIn[14], line 1\u001b[0m\n\u001b[0;32m----> 1\u001b[0m \u001b[43mfout\u001b[49m\u001b[38;5;241;43m.\u001b[39;49m\u001b[43mwrite\u001b[49m\u001b[43m(\u001b[49m\u001b[43mvis\u001b[49m\u001b[38;5;241;43m.\u001b[39;49m\u001b[43mdata\u001b[49m\u001b[43m)\u001b[49m\n",
      "\u001b[0;31mBufferError\u001b[0m: memoryview: underlying buffer is not C-contiguous"
     ]
    }
   ],
   "source": [
    "fout.write(vis.data)"
   ]
  },
  {
   "cell_type": "code",
   "execution_count": 15,
   "id": "3d9fe68d-8e20-4ed4-abb0-de4cde14149e",
   "metadata": {},
   "outputs": [
    {
     "data": {
      "text/plain": [
       "4"
      ]
     },
     "execution_count": 15,
     "metadata": {},
     "output_type": "execute_result"
    }
   ],
   "source": [
    "vis.itemsize"
   ]
  },
  {
   "cell_type": "code",
   "execution_count": 16,
   "id": "81c1132c-2a7e-4022-80c5-8bfb29455da3",
   "metadata": {},
   "outputs": [
    {
     "data": {
      "text/plain": [
       "  C_CONTIGUOUS : True\n",
       "  F_CONTIGUOUS : True\n",
       "  OWNDATA : True\n",
       "  WRITEABLE : True\n",
       "  ALIGNED : True\n",
       "  WRITEBACKIFCOPY : False"
      ]
     },
     "execution_count": 16,
     "metadata": {},
     "output_type": "execute_result"
    }
   ],
   "source": [
    "cb.buf[0].flags"
   ]
  },
  {
   "cell_type": "code",
   "execution_count": 17,
   "id": "56612a34-9deb-4077-b42d-2b367a787310",
   "metadata": {},
   "outputs": [
    {
     "data": {
      "text/plain": [
       "  C_CONTIGUOUS : False\n",
       "  F_CONTIGUOUS : False\n",
       "  OWNDATA : False\n",
       "  WRITEABLE : True\n",
       "  ALIGNED : True\n",
       "  WRITEBACKIFCOPY : False"
      ]
     },
     "execution_count": 17,
     "metadata": {},
     "output_type": "execute_result"
    }
   ],
   "source": [
    "vis.flags"
   ]
  },
  {
   "cell_type": "code",
   "execution_count": 19,
   "id": "8e5f0ad4-6b51-46f9-81ba-e94ca34145aa",
   "metadata": {},
   "outputs": [
    {
     "data": {
      "text/plain": [
       "  C_CONTIGUOUS : False\n",
       "  F_CONTIGUOUS : False\n",
       "  OWNDATA : False\n",
       "  WRITEABLE : True\n",
       "  ALIGNED : True\n",
       "  WRITEBACKIFCOPY : False"
      ]
     },
     "execution_count": 19,
     "metadata": {},
     "output_type": "execute_result"
    }
   ],
   "source": [
    "cb.buf[0]['ics'].flags"
   ]
  },
  {
   "cell_type": "code",
   "execution_count": 20,
   "id": "df7d85cf-d536-4a49-98b9-413a7b454a67",
   "metadata": {},
   "outputs": [
    {
     "data": {
      "text/plain": [
       "  C_CONTIGUOUS : False\n",
       "  F_CONTIGUOUS : False\n",
       "  OWNDATA : False\n",
       "  WRITEABLE : True\n",
       "  ALIGNED : True\n",
       "  WRITEBACKIFCOPY : False"
      ]
     },
     "execution_count": 20,
     "metadata": {},
     "output_type": "execute_result"
    }
   ],
   "source": [
    "cb.buf[0]['cas'].flags"
   ]
  },
  {
   "cell_type": "code",
   "execution_count": 21,
   "id": "50aafa27-b1f3-4b68-bb7d-42030a5bbb77",
   "metadata": {},
   "outputs": [
    {
     "data": {
      "text/plain": [
       "  C_CONTIGUOUS : False\n",
       "  F_CONTIGUOUS : False\n",
       "  OWNDATA : False\n",
       "  WRITEABLE : True\n",
       "  ALIGNED : True\n",
       "  WRITEBACKIFCOPY : False"
      ]
     },
     "execution_count": 21,
     "metadata": {},
     "output_type": "execute_result"
    }
   ],
   "source": [
    "cb.buf[0]['vis'].flags"
   ]
  },
  {
   "cell_type": "code",
   "execution_count": 25,
   "id": "6f5ed697-8e8d-4d1a-b565-9865e637308c",
   "metadata": {},
   "outputs": [],
   "source": [
    "# holy crap, everything I thought I knew isn't right\n",
    "x = np.zeros(1, dtype=[('a', np.int32,(2,3)), ('b', np.int32, (4,5))])"
   ]
  },
  {
   "cell_type": "code",
   "execution_count": 26,
   "id": "25b26bb6-cbcd-41ba-92a5-3198da2c6491",
   "metadata": {},
   "outputs": [
    {
     "data": {
      "text/plain": [
       "array([([[0, 0, 0], [0, 0, 0]], [[0, 0, 0, 0, 0], [0, 0, 0, 0, 0], [0, 0, 0, 0, 0], [0, 0, 0, 0, 0]])],\n",
       "      dtype=[('a', '<i4', (2, 3)), ('b', '<i4', (4, 5))])"
      ]
     },
     "execution_count": 26,
     "metadata": {},
     "output_type": "execute_result"
    }
   ],
   "source": [
    "x"
   ]
  },
  {
   "cell_type": "code",
   "execution_count": 27,
   "id": "c9209089-acef-4894-8383-10ec636dbd62",
   "metadata": {},
   "outputs": [],
   "source": [
    "x['a'] = 3"
   ]
  },
  {
   "cell_type": "code",
   "execution_count": 28,
   "id": "9c4cd50c-fc91-4174-9b0f-ffad986f009a",
   "metadata": {},
   "outputs": [],
   "source": [
    "x['b'] = 4"
   ]
  },
  {
   "cell_type": "code",
   "execution_count": 29,
   "id": "7ec6a507-463d-4115-b23b-a3bb3276e112",
   "metadata": {},
   "outputs": [
    {
     "data": {
      "text/plain": [
       "array([([[3, 3, 3], [3, 3, 3]], [[4, 4, 4, 4, 4], [4, 4, 4, 4, 4], [4, 4, 4, 4, 4], [4, 4, 4, 4, 4]])],\n",
       "      dtype=[('a', '<i4', (2, 3)), ('b', '<i4', (4, 5))])"
      ]
     },
     "execution_count": 29,
     "metadata": {},
     "output_type": "execute_result"
    }
   ],
   "source": [
    "x"
   ]
  },
  {
   "cell_type": "code",
   "execution_count": 31,
   "id": "f31b5ec1-2bf1-4744-b41d-b8d3419cac94",
   "metadata": {},
   "outputs": [
    {
     "data": {
      "text/plain": [
       "array([3, 3, 3, 3, 3, 3, 4, 4, 4, 4, 4, 4, 4, 4, 4, 4, 4, 4, 4, 4, 4, 4,\n",
       "       4, 4, 4, 4], dtype=int32)"
      ]
     },
     "execution_count": 31,
     "metadata": {},
     "output_type": "execute_result"
    }
   ],
   "source": [
    "x.view(np.int32)"
   ]
  },
  {
   "cell_type": "code",
   "execution_count": 32,
   "id": "6b9b8af3-7248-449e-adf7-5ac2bf10c10b",
   "metadata": {},
   "outputs": [
    {
     "data": {
      "text/plain": [
       "(72, 66, 4, 32, 2)"
      ]
     },
     "execution_count": 32,
     "metadata": {},
     "output_type": "execute_result"
    }
   ],
   "source": [
    "vis.shape"
   ]
  },
  {
   "cell_type": "code",
   "execution_count": 33,
   "id": "b61a4606-0b83-40ef-be77-c21cbfb8e59f",
   "metadata": {},
   "outputs": [
    {
     "data": {
      "text/plain": [
       "(66, 4, 32, 2)"
      ]
     },
     "execution_count": 33,
     "metadata": {},
     "output_type": "execute_result"
    }
   ],
   "source": [
    "cb.buf[0]['vis'][0].shape"
   ]
  },
  {
   "cell_type": "code",
   "execution_count": 34,
   "id": "675a013c-34d8-447a-83cf-0242bd05b737",
   "metadata": {},
   "outputs": [
    {
     "data": {
      "text/plain": [
       "  C_CONTIGUOUS : True\n",
       "  F_CONTIGUOUS : False\n",
       "  OWNDATA : False\n",
       "  WRITEABLE : True\n",
       "  ALIGNED : True\n",
       "  WRITEBACKIFCOPY : False"
      ]
     },
     "execution_count": 34,
     "metadata": {},
     "output_type": "execute_result"
    }
   ],
   "source": [
    "cb.buf[0]['vis'][0].flags"
   ]
  },
  {
   "cell_type": "code",
   "execution_count": 36,
   "id": "6bf48c6c-32e2-426b-99c4-a9e286b74444",
   "metadata": {},
   "outputs": [
    {
     "data": {
      "text/plain": [
       "72"
      ]
     },
     "execution_count": 36,
     "metadata": {},
     "output_type": "execute_result"
    }
   ],
   "source": [
    "cb.buf[0].size"
   ]
  },
  {
   "cell_type": "code",
   "execution_count": 37,
   "id": "4d759213-a4d9-4fb9-81bf-f8b3560dd2cf",
   "metadata": {},
   "outputs": [
    {
     "data": {
      "text/plain": [
       "True"
      ]
     },
     "execution_count": 37,
     "metadata": {},
     "output_type": "execute_result"
    }
   ],
   "source": [
    "cb.buf[0]['vis'][0].flags['C_CONTIGUOUS']\n"
   ]
  },
  {
   "cell_type": "code",
   "execution_count": 39,
   "id": "73aae20d-6bc0-43b6-8a5c-6b2cef438e49",
   "metadata": {},
   "outputs": [
    {
     "data": {
      "text/plain": [
       "(72, 66, 4, 32, 2)"
      ]
     },
     "execution_count": 39,
     "metadata": {},
     "output_type": "execute_result"
    }
   ],
   "source": [
    "cb.buf[0]['vis'].shape"
   ]
  },
  {
   "cell_type": "code",
   "execution_count": 40,
   "id": "f0e8912d-d15c-4bb9-86bc-551b9753f5f7",
   "metadata": {},
   "outputs": [
    {
     "data": {
      "text/plain": [
       "1216512"
      ]
     },
     "execution_count": 40,
     "metadata": {},
     "output_type": "execute_result"
    }
   ],
   "source": [
    "cb.buf[0]['vis'].size"
   ]
  },
  {
   "cell_type": "code",
   "execution_count": 41,
   "id": "94968e7f-8283-488c-96ec-459eb6fae128",
   "metadata": {},
   "outputs": [
    {
     "data": {
      "text/plain": [
       "  C_CONTIGUOUS : True\n",
       "  F_CONTIGUOUS : False\n",
       "  OWNDATA : False\n",
       "  WRITEABLE : True\n",
       "  ALIGNED : True\n",
       "  WRITEBACKIFCOPY : False"
      ]
     },
     "execution_count": 41,
     "metadata": {},
     "output_type": "execute_result"
    }
   ],
   "source": [
    "cb.buf[0]['vis'][0].flags"
   ]
  },
  {
   "cell_type": "code",
   "execution_count": 42,
   "id": "d70ccc70-bf19-4217-bd05-542dc700b161",
   "metadata": {},
   "outputs": [
    {
     "data": {
      "text/plain": [
       "  C_CONTIGUOUS : False\n",
       "  F_CONTIGUOUS : False\n",
       "  OWNDATA : False\n",
       "  WRITEABLE : True\n",
       "  ALIGNED : True\n",
       "  WRITEBACKIFCOPY : False"
      ]
     },
     "execution_count": 42,
     "metadata": {},
     "output_type": "execute_result"
    }
   ],
   "source": [
    "cb.buf[0]['vis'].flags"
   ]
  },
  {
   "cell_type": "code",
   "execution_count": null,
   "id": "ded7b688-0fe7-4483-a7f0-874d90e2a103",
   "metadata": {},
   "outputs": [],
   "source": []
  }
 ],
 "metadata": {
  "kernelspec": {
   "display_name": "Python 3 (ipykernel)",
   "language": "python",
   "name": "python3"
  },
  "language_info": {
   "codemirror_mode": {
    "name": "ipython",
    "version": 3
   },
   "file_extension": ".py",
   "mimetype": "text/x-python",
   "name": "python",
   "nbconvert_exporter": "python",
   "pygments_lexer": "ipython3",
   "version": "3.10.13"
  }
 },
 "nbformat": 4,
 "nbformat_minor": 5
}
