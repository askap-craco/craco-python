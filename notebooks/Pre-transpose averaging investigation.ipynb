{
 "cells": [
  {
   "cell_type": "code",
   "execution_count": 1,
   "id": "c7ca963c",
   "metadata": {
    "scrolled": true
   },
   "outputs": [],
   "source": [
    "import os\n",
    "\n",
    "os.environ['NUMBA_NUM_THREADS'] = '8'\n",
    "os.environ['NUMBA_THREADING_LAYER'] = 'omp' # my TBB version complains\n",
    "os.environ['NUMBA_ENABLE_AVX'] = '1'\n",
    "\n",
    "\n",
    "import numpy as np\n",
    "from pylab import *\n",
    "from craco.cardcap import CardcapFile\n",
    "from astropy.io import fits\n",
    "from craco.card_averager import Averager\n",
    "from craco.cardcapmerger import CcapMerger\n",
    "import glob\n",
    "import numba\n",
    "\n",
    "from numba import jit,njit,prange\n",
    "\n",
    "\n",
    "%matplotlib notebook\n",
    "%load_ext autoreload\n",
    "%autoreload 2"
   ]
  },
  {
   "cell_type": "code",
   "execution_count": 2,
   "id": "acab31db",
   "metadata": {},
   "outputs": [],
   "source": [
    "nt = 64\n",
    "nbeam = 36\n",
    "nbl = 465\n",
    "nant = 30\n",
    "nfpga = 6\n",
    "nc = 4*nfpga\n",
    "npol = 2\n"
   ]
  },
  {
   "cell_type": "code",
   "execution_count": 3,
   "id": "1051692a",
   "metadata": {},
   "outputs": [],
   "source": [
    "def find_instr(func, keyword, sig=0, limit=5):\n",
    "    count = 0\n",
    "    for l in func.inspect_asm(func.signatures[sig]).split('\\n'):\n",
    "        if keyword in l:\n",
    "            count += 1\n",
    "            print(l)\n",
    "            if count >= limit:\n",
    "                break\n",
    "    if count == 0:\n",
    "        print('No instructions found')"
   ]
  },
  {
   "cell_type": "code",
   "execution_count": null,
   "id": "4bd731d5",
   "metadata": {},
   "outputs": [],
   "source": []
  },
  {
   "cell_type": "code",
   "execution_count": 4,
   "id": "cdfa11b0",
   "metadata": {},
   "outputs": [
    {
     "ename": "AssertionError",
     "evalue": "",
     "output_type": "error",
     "traceback": [
      "\u001b[0;31m---------------------------------------------------------------------------\u001b[0m",
      "\u001b[0;31mAssertionError\u001b[0m                            Traceback (most recent call last)",
      "\u001b[0;32m<ipython-input-4-b0c9b0614228>\u001b[0m in \u001b[0;36m<module>\u001b[0;34m\u001b[0m\n\u001b[1;32m      4\u001b[0m \u001b[0mcfiles\u001b[0m \u001b[0;34m=\u001b[0m \u001b[0;34m[\u001b[0m\u001b[0mCardcapFile\u001b[0m\u001b[0;34m(\u001b[0m\u001b[0mf\u001b[0m\u001b[0;34m)\u001b[0m \u001b[0;32mfor\u001b[0m \u001b[0mf\u001b[0m \u001b[0;32min\u001b[0m \u001b[0mcardfiles\u001b[0m\u001b[0;34m]\u001b[0m\u001b[0;34m\u001b[0m\u001b[0;34m\u001b[0m\u001b[0m\n\u001b[1;32m      5\u001b[0m \u001b[0mmerger\u001b[0m \u001b[0;34m=\u001b[0m \u001b[0mCcapMerger\u001b[0m\u001b[0;34m(\u001b[0m\u001b[0mcardfiles\u001b[0m\u001b[0;34m)\u001b[0m\u001b[0;34m\u001b[0m\u001b[0;34m\u001b[0m\u001b[0m\n\u001b[0;32m----> 6\u001b[0;31m \u001b[0mfid\u001b[0m\u001b[0;34m,\u001b[0m \u001b[0mblk\u001b[0m \u001b[0;34m=\u001b[0m \u001b[0mnext\u001b[0m\u001b[0;34m(\u001b[0m\u001b[0mmerger\u001b[0m\u001b[0;34m.\u001b[0m\u001b[0mblock_iter\u001b[0m\u001b[0;34m(\u001b[0m\u001b[0;34m)\u001b[0m\u001b[0;34m)\u001b[0m\u001b[0;34m\u001b[0m\u001b[0;34m\u001b[0m\u001b[0m\n\u001b[0m\u001b[1;32m      7\u001b[0m \u001b[0;34m\u001b[0m\u001b[0m\n\u001b[1;32m      8\u001b[0m \u001b[0mfileblocks\u001b[0m \u001b[0;34m=\u001b[0m \u001b[0;34m[\u001b[0m\u001b[0mnext\u001b[0m\u001b[0;34m(\u001b[0m\u001b[0mf\u001b[0m\u001b[0;34m.\u001b[0m\u001b[0mpacket_iter\u001b[0m\u001b[0;34m(\u001b[0m\u001b[0mnt\u001b[0m\u001b[0;34m*\u001b[0m\u001b[0;36m4\u001b[0m\u001b[0;34m*\u001b[0m\u001b[0mnbeam\u001b[0m\u001b[0;34m)\u001b[0m\u001b[0;34m)\u001b[0m \u001b[0;32mfor\u001b[0m \u001b[0mf\u001b[0m \u001b[0;32min\u001b[0m \u001b[0mcfiles\u001b[0m\u001b[0;34m]\u001b[0m\u001b[0;34m\u001b[0m\u001b[0;34m\u001b[0m\u001b[0m\n",
      "\u001b[0;32m/data/craco/ban115/craco-python/src/craco/cardcapmerger.py\u001b[0m in \u001b[0;36mblock_iter\u001b[0;34m(self, frac_finished_threshold, beam)\u001b[0m\n\u001b[1;32m    241\u001b[0m         '''\n\u001b[1;32m    242\u001b[0m         \u001b[0;32mfor\u001b[0m \u001b[0mpackets\u001b[0m\u001b[0;34m,\u001b[0m \u001b[0mfids\u001b[0m \u001b[0;32min\u001b[0m \u001b[0mself\u001b[0m\u001b[0;34m.\u001b[0m\u001b[0mpacket_iter\u001b[0m\u001b[0;34m(\u001b[0m\u001b[0mfrac_finished_threshold\u001b[0m\u001b[0;34m,\u001b[0m \u001b[0mbeam\u001b[0m\u001b[0;34m)\u001b[0m\u001b[0;34m:\u001b[0m\u001b[0;34m\u001b[0m\u001b[0;34m\u001b[0m\u001b[0m\n\u001b[0;32m--> 243\u001b[0;31m             \u001b[0moutfid\u001b[0m\u001b[0;34m,\u001b[0m \u001b[0mdout\u001b[0m \u001b[0;34m=\u001b[0m \u001b[0mself\u001b[0m\u001b[0;34m.\u001b[0m\u001b[0mmerge_and_mask_packets\u001b[0m\u001b[0;34m(\u001b[0m\u001b[0mpackets\u001b[0m\u001b[0;34m,\u001b[0m \u001b[0mbeam\u001b[0m\u001b[0;34m)\u001b[0m\u001b[0;34m\u001b[0m\u001b[0;34m\u001b[0m\u001b[0m\n\u001b[0m\u001b[1;32m    244\u001b[0m             \u001b[0;32myield\u001b[0m \u001b[0moutfid\u001b[0m\u001b[0;34m,\u001b[0m \u001b[0mdout\u001b[0m\u001b[0;34m\u001b[0m\u001b[0;34m\u001b[0m\u001b[0m\n\u001b[1;32m    245\u001b[0m \u001b[0;34m\u001b[0m\u001b[0m\n",
      "\u001b[0;32m/data/craco/ban115/craco-python/src/craco/cardcapmerger.py\u001b[0m in \u001b[0;36mmerge_and_mask_packets\u001b[0;34m(self, packets, beam)\u001b[0m\n\u001b[1;32m    279\u001b[0m                 \u001b[0;32melse\u001b[0m\u001b[0;34m:\u001b[0m\u001b[0;34m\u001b[0m\u001b[0;34m\u001b[0m\u001b[0m\n\u001b[1;32m    280\u001b[0m                     \u001b[0;31m# This reshapes for teh beams 0-31 first, then beams 32-35 next\u001b[0m\u001b[0;34m\u001b[0m\u001b[0;34m\u001b[0m\u001b[0;34m\u001b[0m\u001b[0m\n\u001b[0;32m--> 281\u001b[0;31m                     \u001b[0;32massert\u001b[0m \u001b[0mself\u001b[0m\u001b[0;34m.\u001b[0m\u001b[0mnbeam\u001b[0m \u001b[0;34m==\u001b[0m \u001b[0;36m36\u001b[0m\u001b[0;34m\u001b[0m\u001b[0;34m\u001b[0m\u001b[0m\n\u001b[0m\u001b[1;32m    282\u001b[0m                     \u001b[0mblk1\u001b[0m \u001b[0;34m=\u001b[0m \u001b[0mp\u001b[0m\u001b[0;34m[\u001b[0m\u001b[0;34m:\u001b[0m\u001b[0;36m32\u001b[0m\u001b[0;34m*\u001b[0m\u001b[0;36m4\u001b[0m\u001b[0;34m]\u001b[0m\u001b[0;34m\u001b[0m\u001b[0;34m\u001b[0m\u001b[0m\n\u001b[1;32m    283\u001b[0m                     \u001b[0mblk1\u001b[0m\u001b[0;34m.\u001b[0m\u001b[0mshape\u001b[0m \u001b[0;34m=\u001b[0m \u001b[0;34m(\u001b[0m\u001b[0mNCHAN\u001b[0m\u001b[0;34m,\u001b[0m\u001b[0;36m32\u001b[0m\u001b[0;34m,\u001b[0m \u001b[0mself\u001b[0m\u001b[0;34m.\u001b[0m\u001b[0mntpkt_per_frame\u001b[0m\u001b[0;34m)\u001b[0m \u001b[0;31m# first 32 beams\u001b[0m\u001b[0;34m\u001b[0m\u001b[0;34m\u001b[0m\u001b[0m\n",
      "\u001b[0;31mAssertionError\u001b[0m: "
     ]
    }
   ],
   "source": [
    "cardfiles = glob.glob('/data/craco/ban115/craco-python/notebooks/data/SB43128/run3/1934_b07_c01+f?.fits')\n",
    "assert len(cardfiles) == 6\n",
    "\n",
    "cfiles = [CardcapFile(f) for f in cardfiles]\n",
    "merger = CcapMerger(cardfiles)\n",
    "fid, blk = next(merger.block_iter())\n",
    "\n",
    "fileblocks = [next(f.packet_iter(nt*4*nbeam)) for f in cfiles]\n"
   ]
  },
  {
   "cell_type": "code",
   "execution_count": null,
   "id": "b2e687d1",
   "metadata": {},
   "outputs": [],
   "source": [
    "len(fileblocks[0])"
   ]
  },
  {
   "cell_type": "code",
   "execution_count": null,
   "id": "cdd8a075",
   "metadata": {},
   "outputs": [],
   "source": [
    "fb0 = fileblocks[0]\n",
    "fb0_block = fb0[:nt]"
   ]
  },
  {
   "cell_type": "code",
   "execution_count": null,
   "id": "38880766",
   "metadata": {},
   "outputs": [],
   "source": [
    "#numba.set_num_threads(3)\n",
    "#numba.get_num_threads()"
   ]
  },
  {
   "cell_type": "code",
   "execution_count": null,
   "id": "00bcd34d",
   "metadata": {},
   "outputs": [],
   "source": [
    "avg = Averager(nbeam, nant,nc,nt,npol)\n"
   ]
  },
  {
   "cell_type": "code",
   "execution_count": null,
   "id": "598ea4f8",
   "metadata": {},
   "outputs": [],
   "source": [
    "from craco.card_averager import do_accumulate, accumulate_all\n",
    "\n",
    "for i in range(10):\n",
    "    do_accumulate(avg.output, avg.rescale_scales, avg.rescale_stats, avg.count, avg.nant, 0,0,fb0_block, 2, 6)\n",
    "%timeit do_accumulate(avg.output, avg.rescale_scales, avg.rescale_stats, avg.count, avg.nant, 0,0,fb0_block, 2, 6)\n"
   ]
  },
  {
   "cell_type": "code",
   "execution_count": null,
   "id": "507722a1",
   "metadata": {},
   "outputs": [],
   "source": [
    "gflops = nbl*npol*nt*(11)/300e-6/1e9\n",
    "gflops"
   ]
  },
  {
   "cell_type": "code",
   "execution_count": null,
   "id": "640cf6d1",
   "metadata": {},
   "outputs": [],
   "source": [
    "do_accumulate.signatures"
   ]
  },
  {
   "cell_type": "code",
   "execution_count": null,
   "id": "6dfdfdbe",
   "metadata": {},
   "outputs": [],
   "source": [
    "find_instr(do_accumulate, 'vadd') # holy crapsky - if there's a vadd instruction, it's SIMD vectorized"
   ]
  },
  {
   "cell_type": "code",
   "execution_count": null,
   "id": "d0a64b13",
   "metadata": {},
   "outputs": [],
   "source": [
    "fb0.dtype.isalignedstruct"
   ]
  },
  {
   "cell_type": "code",
   "execution_count": null,
   "id": "35999baa",
   "metadata": {
    "scrolled": false
   },
   "outputs": [],
   "source": [
    "#do_accumulate.parallel_diagnostics(level=4)"
   ]
  },
  {
   "cell_type": "code",
   "execution_count": null,
   "id": "dc426ba3",
   "metadata": {
    "scrolled": false
   },
   "outputs": [],
   "source": [
    "do_accumulate.inspect_types()"
   ]
  },
  {
   "cell_type": "code",
   "execution_count": null,
   "id": "bed624ee",
   "metadata": {
    "scrolled": true
   },
   "outputs": [],
   "source": [
    "print(do_accumulate.inspect_asm(do_accumulate.signatures[0]))"
   ]
  },
  {
   "cell_type": "code",
   "execution_count": null,
   "id": "ad114c1c",
   "metadata": {
    "scrolled": true
   },
   "outputs": [],
   "source": [
    "numba.set_num_threads(8)\n",
    "from craco.card_averager import accumulate_all\n",
    "avg.accumulate_all(fileblocks )"
   ]
  },
  {
   "cell_type": "code",
   "execution_count": null,
   "id": "dcfa6bfc",
   "metadata": {},
   "outputs": [],
   "source": [
    "%timeit avg.accumulate_all(fileblocks )"
   ]
  },
  {
   "cell_type": "code",
   "execution_count": null,
   "id": "2e35eb9a",
   "metadata": {
    "scrolled": true
   },
   "outputs": [],
   "source": [
    "nthreads = [1,2,4,8]\n",
    "time_ms = np.array([246, 134, 82, 45])\n",
    "figure()\n",
    "fig,ax = subplots(1,2)\n",
    "ax[0].plot(nthreads, 1/time_ms)\n",
    "ax[0].set_xlabel('nthreads')\n",
    "ax[0].set_ylabel('Throughput (per ms)')\n",
    "ax[1].plot(nthreads, time_ms)\n",
    "ax[1].set_xlabel('nthreads')\n",
    "ax[1].set_xlabel('Executution time( ms)')\n",
    "\n"
   ]
  },
  {
   "cell_type": "code",
   "execution_count": null,
   "id": "894ac9da",
   "metadata": {},
   "outputs": [],
   "source": [
    "#nt = 64\n",
    "#nbeam = 36\n",
    "#nbl = 465\n",
    "#nant = 30\n",
    "#nfpga = 6\n",
    "#nc = 4*nfpga\n",
    "#npol = 2\n",
    "# gflops per core\n",
    "gflops=nbeam*npol*nc*nbl*nt*10/74e-3/float(numba.get_num_threads())/1e9\n",
    "gflops\n"
   ]
  },
  {
   "cell_type": "code",
   "execution_count": null,
   "id": "218311c6",
   "metadata": {},
   "outputs": [],
   "source": [
    "n = 1024*32\n",
    "indtype=np.int16\n",
    "dtype=np.int32\n",
    "#dtype=np.int16\n",
    "a = np.arange(n, dtype=indtype)\n",
    "b = np.arange(n, dtype=indtype)\n",
    "c = np.zeros(n, dtype=dtype)\n"
   ]
  },
  {
   "cell_type": "code",
   "execution_count": null,
   "id": "3bedd732",
   "metadata": {},
   "outputs": [],
   "source": [
    "%timeit np.add(a,b,out=c)"
   ]
  },
  {
   "cell_type": "code",
   "execution_count": null,
   "id": "0ed47737",
   "metadata": {},
   "outputs": [],
   "source": [
    "gflops = n/4.27e-6/1e9\n",
    "gflops"
   ]
  },
  {
   "cell_type": "code",
   "execution_count": null,
   "id": "57af846c",
   "metadata": {},
   "outputs": [],
   "source": [
    "@njit(fastmath=True)\n",
    "def myadd(a,b,c):\n",
    "    for i in range(len(a)):\n",
    "        c[i] = a[i]+b[i]\n",
    "        \n",
    "myadd(a,b,c)\n",
    "%timeit myadd(a,b,c)"
   ]
  },
  {
   "cell_type": "code",
   "execution_count": null,
   "id": "273a8870",
   "metadata": {},
   "outputs": [],
   "source": [
    "find_instr(myadd, 'vadd')"
   ]
  },
  {
   "cell_type": "markdown",
   "id": "95ad07ec",
   "metadata": {},
   "source": [
    "1024 elements is about 2x lower gflops athan 1024x8 elements - I guess there's overheads or prefetching or something. int16 is about 3x faster than float32. Float32 usues 'vadd' with YMM register = AVX-256 (not 512??). But it looks like  5 Gflops/core is about the limit for float32, and maybe 10Gflops/core at int16 is about as good as you'll go.\n",
    "\n",
    "\n",
    "| func | N | intype | outtype | runtime | gflops | vadd? | \n",
    "| ------| --| ----| ---------| ------| ---| ---|\n",
    "| myadd | N=32*1024 | int32 | int32 | 5.16us |  6.35  | No |\n",
    "| myadd | N=32*1024 | int16  | int16 | 3.09us | 10.6  | No |\n",
    "| myadd | N = 32*1024 | float32 | float32 |  6.48 | 5.0  | Yes |\n",
    "| myadd | N = 32*1024 | int16 | float32 |  7.3 | 4.4 | No |\n",
    "| myadd | N = 32*1024 | int16 | int32 | 4.27 | 7.6  | No |"
   ]
  },
  {
   "cell_type": "code",
   "execution_count": null,
   "id": "a69f1fec",
   "metadata": {},
   "outputs": [],
   "source": [
    "v = np.arange(10, dtype=np.int16) + np.int16((1<<15) - 5)\n"
   ]
  },
  {
   "cell_type": "code",
   "execution_count": null,
   "id": "3483f265",
   "metadata": {},
   "outputs": [],
   "source": [
    "v = np.int32(32767)*np.int32(32767)\n",
    "np.iinfo(np.int32)"
   ]
  },
  {
   "cell_type": "code",
   "execution_count": null,
   "id": "22f98dc4",
   "metadata": {},
   "outputs": [],
   "source": []
  },
  {
   "cell_type": "code",
   "execution_count": null,
   "id": "9212e751",
   "metadata": {},
   "outputs": [],
   "source": [
    "def sim_casics(nant, sigamp):\n",
    "    cas = 0\n",
    "    ics = 0\n",
    "    nant = 30\n",
    "    N = 1024\n",
    "    noise = np.random.randn(nant) + 1j*np.random.randn(nant)\n",
    "    sig = np.ones(nant) + 1j*0\n",
    "    s = sigamp*sig + noise\n",
    "    x = np.outer(s, s.T)\n",
    "    x.shape\n",
    "    for a1 in range(nant):\n",
    "        for a2 in range(a1, nant):\n",
    "            a = np.abs(x[a1, a2])\n",
    "            if a1 == a2:\n",
    "                ics += a\n",
    "            else:\n",
    "                cas += a*2\n",
    "    \n",
    "    return cas,ics"
   ]
  },
  {
   "cell_type": "code",
   "execution_count": null,
   "id": "c1e207d1",
   "metadata": {},
   "outputs": [],
   "source": [
    "siglvls = (0, 0.1, 0.3, 1, 3)\n",
    "niter = 1024*8\n",
    "results= np.zeros((len(siglvls), niter,2))\n",
    "nant = 30\n",
    "for isig, siglvl in enumerate(siglvls):\n",
    "    results[isig,...] = np.array([sim_casics(nant, siglvl) for i in range(niter)])\n",
    "        "
   ]
  },
  {
   "cell_type": "code",
   "execution_count": null,
   "id": "a8788256",
   "metadata": {},
   "outputs": [],
   "source": [
    "cas_rms = results[0,0,:].std()\n",
    "ics_rms = results[0,1,:].std()\n",
    "cas_scale = results[:,0,:]/cas_rms\n",
    "ics_scale = results[:,0,:]/ics_rms\n",
    "cas_scale.mean(axis=1).shape\n"
   ]
  },
  {
   "cell_type": "code",
   "execution_count": null,
   "id": "2c60104e",
   "metadata": {},
   "outputs": [],
   "source": [
    "\n",
    "\n",
    "figure()\n",
    "errorbar(siglvls, cas_scale.mean(axis=1), yerr=cas_scale.std(axis=1), label='cas')\n",
    "errorbar(siglvls, ics_scale.mean(axis=1), yerr=ics_scale.std(axis=1), label='ics')\n",
    "\n",
    "legend()"
   ]
  },
  {
   "cell_type": "code",
   "execution_count": null,
   "id": "294394fc",
   "metadata": {},
   "outputs": [],
   "source": []
  },
  {
   "cell_type": "code",
   "execution_count": null,
   "id": "2b00f393",
   "metadata": {},
   "outputs": [],
   "source": []
  },
  {
   "cell_type": "code",
   "execution_count": null,
   "id": "178b71f7",
   "metadata": {},
   "outputs": [],
   "source": []
  },
  {
   "cell_type": "code",
   "execution_count": null,
   "id": "d0211333",
   "metadata": {},
   "outputs": [],
   "source": []
  }
 ],
 "metadata": {
  "kernelspec": {
   "display_name": "venv",
   "language": "python",
   "name": "venv"
  },
  "language_info": {
   "codemirror_mode": {
    "name": "ipython",
    "version": 3
   },
   "file_extension": ".py",
   "mimetype": "text/x-python",
   "name": "python",
   "nbconvert_exporter": "python",
   "pygments_lexer": "ipython3",
   "version": "3.6.9"
  }
 },
 "nbformat": 4,
 "nbformat_minor": 5
}
