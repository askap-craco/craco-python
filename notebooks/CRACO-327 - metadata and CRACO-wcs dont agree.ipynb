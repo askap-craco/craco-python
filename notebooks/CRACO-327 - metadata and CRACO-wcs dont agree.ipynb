{
 "cells": [
  {
   "cell_type": "markdown",
   "id": "80284bd3-0db2-41a6-a1e1-a3f3520db4b2",
   "metadata": {},
   "source": [
    "# CRACO-327 - metadata and CRACO-wcs dont agree.ipynb\n",
    "The error was\n",
    "\n",
    "2024-04-04 14:17:04,389 [skadi-17:1084570] r98 mpipipeline Exception running pipeline\n",
    "Traceback (most recent call last):\n",
    "  File \"/CRACO/SOFTWARE/ban115/craco-python/src/craco/mpipipeline.py\", line 1158, in _main\n",
    "    processor.run()\n",
    "  File \"/CRACO/SOFTWARE/ban115/craco-python/src/craco/mpipipeline.py\", line 1060, in run\n",
    "    plan = PipelinePlan(adapter, self.obs_info.values, prev_plan=plan)\n",
    "  File \"/CRACO/SOFTWARE/ban115/craft/src/craft/craco_plan.py\", line 561, in __init__\n",
    "    craco_wcs = CracoWCS.from_plan(self)\n",
    "  File \"/CRACO/SOFTWARE/ban115/craft/src/craft/craco_wcs.py\", line 131, in from_plan\n",
    "    return CracoWCS(plan.phase_center,\n",
    "  File \"/CRACO/SOFTWARE/ban115/craft/src/craft/craco_wcs.py\", line 84, in __init__\n",
    "    assert altaz.alt.deg > 10, f'target is below ASKAP horizon {altaz} {lst}'\n",
    "AssertionError: target is below ASKAP horizon <SkyCoord (AltAz: obstime=60404.29417975183, location=(-2556084.65961682, 5097398.3818179, -2848424.06141933) m, pressure=0.0 hPa, temperature=0.0 deg_C, relative_humidity=0.0, obswl=1.0 micron): (az, alt) in deg\n",
    "    (249.86985127, 9.97024392)> 3.698244555820127 hourangle\n",
    "\n",
    "\n",
    "2nd error was\n",
    "2024-04-04 14:59:35,598 [skadi-17:1115513] r98 mpipipeline Exception running pipeline\n",
    "Traceback (most recent call last):\n",
    "  File \"/CRACO/SOFTWARE/ban115/craco-python/src/craco/mpipipeline.py\", line 1158, in _main\n",
    "    processor.run()\n",
    "  File \"/CRACO/SOFTWARE/ban115/craco-python/src/craco/mpipipeline.py\", line 1060, in run\n",
    "    plan = PipelinePlan(adapter, self.obs_info.values, prev_plan=plan)\n",
    "  File \"/CRACO/SOFTWARE/ban115/craft/src/craft/craco_plan.py\", line 561, in __init__\n",
    "    craco_wcs = CracoWCS.from_plan(self)\n",
    "  File \"/CRACO/SOFTWARE/ban115/craft/src/craft/craco_wcs.py\", line 133, in from_plan\n",
    "    return CracoWCS(plan.phase_center,\n",
    "  File \"/CRACO/SOFTWARE/ban115/craft/src/craft/craco_wcs.py\", line 86, in __init__\n",
    "    assert altaz.alt.deg > 10, f'target is below ASKAP horizon {altaz} {lst}'\n",
    "AssertionError: target is below ASKAP horizon <SkyCoord (AltAz: obstime=60404.33350135183, location=(-2556084.65961682, 5097398.3818179, -2848424.06141933) m, pressure=0.0 hPa, temperature=0.0 deg_C, relative_humidity=0.0, obswl=1.0 micron): (az, alt) in deg\n",
    "    (223.12174179, 9.99225758)> 4.64454677131109 hourangle\n",
    "\n",
    "\n"
   ]
  },
  {
   "cell_type": "code",
   "execution_count": null,
   "id": "d149f0b1-b97d-44f3-abb2-fb7e9627a49d",
   "metadata": {},
   "outputs": [],
   "source": []
  },
  {
   "cell_type": "code",
   "execution_count": 63,
   "id": "dc9b1323-36a5-4e94-ab0c-7ff063197f68",
   "metadata": {},
   "outputs": [],
   "source": [
    "from craco.metadatafile import MetadataFile\n",
    "from pylab import *\n",
    "from craft import craco_wcs\n",
    "from astropy.coordinates import SkyCoord, EarthLocation, AltAz\n",
    "from astropy import units as u\n",
    "from astropy.time import Time"
   ]
  },
  {
   "cell_type": "code",
   "execution_count": 64,
   "id": "6b20d502-3ef4-419a-9212-f225afd044cd",
   "metadata": {},
   "outputs": [],
   "source": [
    "mfile='/data/SKADI_00_0/craco/SB060752/scans/00/20240404061614/metafile.json'\n",
    "mfile='/data/SKADI_00_0/craco/SB060755/scans/00/20240404065841/metafile.json'"
   ]
  },
  {
   "cell_type": "code",
   "execution_count": 65,
   "id": "2a550856-962e-46b7-822d-4d3b3e90c201",
   "metadata": {},
   "outputs": [],
   "source": [
    "m = MetadataFile(mfile)"
   ]
  },
  {
   "cell_type": "code",
   "execution_count": 78,
   "id": "4205ce4c-e89e-4785-b4e7-be7678447ffc",
   "metadata": {},
   "outputs": [],
   "source": [
    "log_obstime = 60404.29417975183\n",
    "log_obstime = 60404.33350135183\n",
    "obstime=Time(log_obstime, format='mjd', scale='tai')"
   ]
  },
  {
   "cell_type": "code",
   "execution_count": 79,
   "id": "c215b7a3-e044-4ada-a2f6-f385b982dbf1",
   "metadata": {},
   "outputs": [],
   "source": [
    "# this is the card coded site in craco_wcs.py from - who knows where?\n",
    "site = EarthLocation.from_geocentric(-2556084.65961682,\n",
    "                                                     5097398.3818179,\n",
    "                                                     -2848424.06141933,\n",
    "                                                     u.meter)\n"
   ]
  },
  {
   "cell_type": "code",
   "execution_count": 80,
   "id": "fcf7e249-d1b2-4125-80be-763f32446dce",
   "metadata": {},
   "outputs": [],
   "source": [
    "obstime.location = site # needed to remove warning"
   ]
  },
  {
   "cell_type": "code",
   "execution_count": 81,
   "id": "036dbaa4-5922-4f0a-a302-645bfce2c7c8",
   "metadata": {},
   "outputs": [
    {
     "data": {
      "text/latex": [
       "$4^{\\mathrm{h}}38^{\\mathrm{m}}40.36893588^{\\mathrm{s}}$"
      ],
      "text/plain": [
       "<Longitude 4.64454693 hourangle>"
      ]
     },
     "execution_count": 81,
     "metadata": {},
     "output_type": "execute_result"
    }
   ],
   "source": [
    "lst = obstime.sidereal_time('apparent', site.lon)\n",
    "lst"
   ]
  },
  {
   "cell_type": "code",
   "execution_count": 82,
   "id": "13301a67-e9c7-4b3c-b201-5f8866f6b039",
   "metadata": {},
   "outputs": [
    {
     "data": {
      "text/plain": [
       "{'name': 'G348-50',\n",
       " 'ra': 325.2747721270183,\n",
       " 'dec': -46.17800668269095,\n",
       " 'epoch': 'J2000',\n",
       " 'skycoord': <SkyCoord (ICRS): (ra, dec) in deg\n",
       "     (325.27477213, -46.17800668)>,\n",
       " 'scan_times': [[<Time object: scale='tai' format='mjd' value=60404.290933631826>,\n",
       "   <Time object: scale='tai' format='mjd' value=60404.29104883183>]]}"
      ]
     },
     "execution_count": 82,
     "metadata": {},
     "output_type": "execute_result"
    }
   ],
   "source": [
    "ncards=48\n",
    "beamrank=98\n",
    "#beam = beamrank - ncards\n",
    "beam = 16\n",
    "source = list(m.sources(beam).values())[0]\n",
    "source"
   ]
  },
  {
   "cell_type": "code",
   "execution_count": 83,
   "id": "8ff43735-7fd4-4fff-b60d-b155513cb776",
   "metadata": {},
   "outputs": [
    {
     "data": {
      "text/plain": [
       "<SkyCoord (ICRS): (ra, dec) in deg\n",
       "    (325.27477213, -46.17800668)>"
      ]
     },
     "execution_count": 83,
     "metadata": {},
     "output_type": "execute_result"
    }
   ],
   "source": [
    "target = source['skycoord']\n",
    "target"
   ]
  },
  {
   "cell_type": "code",
   "execution_count": 84,
   "id": "8edc5944-9387-4393-8bdf-739e58929772",
   "metadata": {},
   "outputs": [
    {
     "data": {
      "text/plain": [
       "<SkyCoord (AltAz: obstime=60404.33350135183, location=(-2556084.65961682, 5097398.3818179, -2848424.06141933) m, pressure=0.0 hPa, temperature=0.0 deg_C, relative_humidity=0.0, obswl=1.0 micron): (az, alt) in deg\n",
       "    (223.1217417, 9.99225525)>"
      ]
     },
     "execution_count": 84,
     "metadata": {},
     "output_type": "execute_result"
    }
   ],
   "source": [
    "altaz = target.transform_to(AltAz(obstime=obstime, location=site))\n",
    "altaz"
   ]
  },
  {
   "cell_type": "code",
   "execution_count": 87,
   "id": "894496a9-96b7-4882-97eb-c974f05c4b62",
   "metadata": {},
   "outputs": [
    {
     "name": "stdout",
     "output_type": "stream",
     "text": [
      "0 12.794703266503983\n",
      "1 13.742297610969246\n",
      "2 13.243959012532502\n",
      "3 14.193342500093273\n",
      "4 11.394616184639583\n",
      "5 12.341648801720368\n",
      "6 13.287504852522877\n",
      "7 14.232430356317817\n",
      "8 14.689099749499977\n",
      "9 15.142071194905085\n",
      "10 15.59134968779551\n",
      "11 14.640645503808193\n",
      "12 13.689423048150427\n",
      "13 12.737428130355\n",
      "14 12.293669418737176\n",
      "15 11.846068126736746\n",
      "16 9.992255246620847\n",
      "17 10.939299654962346\n",
      "18 11.88478274193546\n",
      "19 12.828952364264724\n",
      "20 13.772052126318444\n",
      "21 14.714321907383002\n",
      "22 15.176667965178984\n",
      "23 15.635355262432094\n",
      "24 16.090393760309592\n",
      "25 16.541787500440158\n",
      "26 16.989534570864123\n",
      "27 16.036934301158894\n",
      "28 15.08420670634343\n",
      "29 14.131096495950374\n",
      "30 13.177346450844475\n",
      "31 12.222696830632657\n",
      "32 11.784403692733777\n",
      "33 11.342219192270234\n",
      "34 10.896140043513093\n",
      "35 10.446157076897588\n"
     ]
    }
   ],
   "source": [
    "for beam in range(36):\n",
    "    source = list(m.sources(beam).values())[0]\n",
    "    target = source['skycoord']\n",
    "    altaz = target.transform_to(AltAz(obstime=obstime, location=site))\n",
    "    print(beam, altaz.alt.deg)\n"
   ]
  },
  {
   "cell_type": "code",
   "execution_count": 88,
   "id": "c5ac6725-de87-4e3f-b2dd-9edbd8c6aa4f",
   "metadata": {},
   "outputs": [
    {
     "data": {
      "text/latex": [
       "$-61.297517 \\; \\mathrm{min}$"
      ],
      "text/plain": [
       "<Quantity -61.29751681 min>"
      ]
     },
     "execution_count": 88,
     "metadata": {},
     "output_type": "execute_result"
    }
   ],
   "source": [
    "(m.times[0] - obstime).to(u.minute) # how on earth did this happen?????"
   ]
  },
  {
   "cell_type": "code",
   "execution_count": 89,
   "id": "675e092f-c223-4ccb-b4f3-99c3583b16aa",
   "metadata": {},
   "outputs": [
    {
     "data": {
      "text/plain": [
       "'2024-04-04 06:58:56.666'"
      ]
     },
     "execution_count": 89,
     "metadata": {},
     "output_type": "execute_result"
    }
   ],
   "source": [
    "m.times[0].iso"
   ]
  },
  {
   "cell_type": "code",
   "execution_count": 90,
   "id": "89a2dd59-fbfb-4f2e-89e7-9248f77206cb",
   "metadata": {},
   "outputs": [
    {
     "data": {
      "text/plain": [
       "'2024-04-04 08:00:14.517'"
      ]
     },
     "execution_count": 90,
     "metadata": {},
     "output_type": "execute_result"
    }
   ],
   "source": [
    "obstime.iso"
   ]
  },
  {
   "cell_type": "code",
   "execution_count": 91,
   "id": "34713e1d-2207-4192-b7b3-992770978d93",
   "metadata": {},
   "outputs": [
    {
     "data": {
      "text/plain": [
       "'/data/SKADI_00_0/craco/SB060755/scans/00/20240404065841/metafile.json'"
      ]
     },
     "execution_count": 91,
     "metadata": {},
     "output_type": "execute_result"
    }
   ],
   "source": [
    "mfile"
   ]
  },
  {
   "cell_type": "code",
   "execution_count": null,
   "id": "80754570-2710-4e7d-9f67-a3b7984e7d3e",
   "metadata": {},
   "outputs": [],
   "source": []
  }
 ],
 "metadata": {
  "kernelspec": {
   "display_name": "Python 3 (ipykernel)",
   "language": "python",
   "name": "python3"
  },
  "language_info": {
   "codemirror_mode": {
    "name": "ipython",
    "version": 3
   },
   "file_extension": ".py",
   "mimetype": "text/x-python",
   "name": "python",
   "nbconvert_exporter": "python",
   "pygments_lexer": "ipython3",
   "version": "3.10.13"
  }
 },
 "nbformat": 4,
 "nbformat_minor": 5
}
