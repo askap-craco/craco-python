{
 "cells": [
  {
   "cell_type": "code",
   "execution_count": 1,
   "id": "9f83332a",
   "metadata": {},
   "outputs": [],
   "source": [
    "import numpy as np\n",
    "import os\n",
    "os.environ['NUMBA_THREADING_LAYER'] = 'omp' # my TBB version complains\n",
    "os.environ['NUMBA_NUM_THREADS'] = '3'\n",
    "os.environ['NUMBA_ENABLE_AVX'] = '1'\n",
    "os.environ['NUMBA_CPU_NAME'] = 'generic'\n",
    "os.environ['NUMBA_CPU_FEATURES'] = '+sse,+sse2,+avx,+avx2,+avx512f,+avx512dq'\n",
    "#os.environ['NUMBA_CPU_FEATURES'] = '+sse,+sse2,+avx,+avx2'\n",
    "import sys\n",
    "sys.path.insert(0,'/Users/ban115/bolton/craco-python/src/')\n",
    "\n",
    "\n",
    "import numba\n",
    "from numba import njit, prange\n",
    "from pylab import *\n",
    "%matplotlib notebook\n",
    "\n",
    "%load_ext autoreload\n",
    "%autoreload 2\n"
   ]
  },
  {
   "cell_type": "code",
   "execution_count": 2,
   "id": "46ac6c03",
   "metadata": {},
   "outputs": [
    {
     "data": {
      "text/plain": [
       "714240"
      ]
     },
     "execution_count": 2,
     "metadata": {},
     "output_type": "execute_result"
    }
   ],
   "source": [
    "nant = 30\n",
    "nbl = nant*(nant+1)//2\n",
    "nt = 32\n",
    "nchan = 24\n",
    "nbeam = 36\n",
    "\n",
    "vin = np.arange(nbl*nt*nchan*2, dtype=np.int16).reshape((nchan, nbl, nt, 2))\n",
    "vavg = np.zeros((nchan, nbl, 2), dtype=np.float32)\n",
    "ics = np.zeros((nt, nchan), dtype=np.float32)\n",
    "cas = np.zeros((nt, nchan), dtype=np.float32)\n",
    "\n",
    "vin.size"
   ]
  },
  {
   "cell_type": "code",
   "execution_count": 3,
   "id": "033752bb",
   "metadata": {},
   "outputs": [],
   "source": [
    "# For type hint info see https://numba.pydata.org/numba-doc/0.12.2/tutorial_types.html\n",
    "@njit(fastmath=True, parallel=True, locals={'vabs':numba.float32})\n",
    "def make_averages(nant, vin, vavg, ics, cas):\n",
    "    nchan,nbl, nt, _ = vin.shape\n",
    "    \n",
    "    for ic in range(nchan):\n",
    "        ibl = 0\n",
    "        for ia1 in range(nant):\n",
    "            for ia2 in range(ia1, nant):\n",
    "                #print(ia1, ia2, ibl, nbl)\n",
    "                #assert ibl < nbl#, f'Invalid ibl {ia1} {ia2} {ibl} {nbl}'\n",
    "                \n",
    "                for it in range(nt):\n",
    "                    v = vin[ic, ibl, it, :]\n",
    "                    #v = np.array([0,1])\n",
    "                    vabs = v[0]*v[0] + v[1]*v[1]\n",
    "                    if ia1 == ia2:\n",
    "                        ics[it, ic] += vabs\n",
    "                    else:\n",
    "                        cas[it, ic] += vabs\n",
    "\n",
    "                    #print('out', ibl, ic, it)\n",
    "                    vavg[ic, ibl, 0] += v[0]\n",
    "                    vavg[ic, ibl, 1] += v[1]\n",
    "                    \n",
    "                    #print('done', ibl, ic, it)\n",
    "\n",
    "\n",
    "                ibl += 1\n",
    "\n",
    "    ics //= nant\n",
    "    cas //= nbl\n",
    "    vavg //= nt\n",
    "            \n"
   ]
  },
  {
   "cell_type": "code",
   "execution_count": 4,
   "id": "2ae89742",
   "metadata": {},
   "outputs": [
    {
     "name": "stderr",
     "output_type": "stream",
     "text": [
      "/data/seren-01/fast/ban115/build/venv3.6/lib/python3.6/site-packages/numba/core/typed_passes.py:327: NumbaPerformanceWarning: \n",
      "The keyword argument 'parallel=True' was specified but no transformation for parallel execution was possible.\n",
      "\n",
      "To find out why, try turning on parallel diagnostics, see https://numba.pydata.org/numba-doc/latest/user/parallel.html#diagnostics for help.\n",
      "\n",
      "File \"<ipython-input-3-34d199a97e29>\", line 3:\n",
      "@njit(fastmath=True, parallel=True, locals={'vabs':numba.float32})\n",
      "def make_averages(nant, vin, vavg, ics, cas):\n",
      "^\n",
      "\n",
      "  state.func_ir.loc))\n"
     ]
    }
   ],
   "source": [
    "for i in range(1):\n",
    "    make_averages(nant, vin, vavg, ics, cas)"
   ]
  },
  {
   "cell_type": "code",
   "execution_count": 5,
   "id": "23e3811d",
   "metadata": {},
   "outputs": [
    {
     "name": "stdout",
     "output_type": "stream",
     "text": [
      " \n",
      "================================================================================\n",
      " Parallel Accelerator Optimizing:  Function make_averages, <ipython-\n",
      "input-3-34d199a97e29> (2)  \n",
      "================================================================================\n",
      "No source available\n",
      "--------------------------------- Fusing loops ---------------------------------\n",
      "Attempting fusion of parallel loops (combines loops with similar properties)...\n",
      "----------------------------- Before Optimisation ------------------------------\n",
      "--------------------------------------------------------------------------------\n",
      "------------------------------ After Optimisation ------------------------------\n",
      "Parallel structure is already optimal.\n",
      "--------------------------------------------------------------------------------\n",
      "--------------------------------------------------------------------------------\n",
      " \n",
      "---------------------------Loop invariant code motion---------------------------\n",
      "Allocation hoisting:\n",
      "No allocation hoisting found\n",
      "\n",
      "Instruction hoisting:\n",
      "No instruction hoisting found\n",
      "--------------------------------------------------------------------------------\n"
     ]
    }
   ],
   "source": [
    "make_averages.parallel_diagnostics(level=4)\n"
   ]
  },
  {
   "cell_type": "code",
   "execution_count": 6,
   "id": "e40169fb",
   "metadata": {},
   "outputs": [
    {
     "name": "stdout",
     "output_type": "stream",
     "text": [
      "1.9 ms ± 99.9 µs per loop (mean ± std. dev. of 7 runs, 1 loop each)\n"
     ]
    }
   ],
   "source": [
    "%timeit -n1 make_averages(nant, vin, vavg, ics, cas)"
   ]
  },
  {
   "cell_type": "code",
   "execution_count": 7,
   "id": "d1cfd56d",
   "metadata": {},
   "outputs": [
    {
     "data": {
      "text/plain": [
       "(24, 465, 32, 2)"
      ]
     },
     "execution_count": 7,
     "metadata": {},
     "output_type": "execute_result"
    }
   ],
   "source": [
    "vin.shape"
   ]
  },
  {
   "cell_type": "code",
   "execution_count": 8,
   "id": "6c9677e0",
   "metadata": {
    "scrolled": false
   },
   "outputs": [
    {
     "name": "stdout",
     "output_type": "stream",
     "text": [
      "make_averages (int64, array(int16, 4d, C), array(float32, 3d, C), array(float32, 2d, C), array(float32, 2d, C))\n",
      "--------------------------------------------------------------------------------\n",
      "# File: <ipython-input-3-34d199a97e29>\n",
      "# --- LINE 2 --- \n",
      "\n",
      "@njit(fastmath=True, parallel=True, locals={'vabs':numba.float32})\n",
      "\n",
      "# --- LINE 3 --- \n",
      "\n",
      "def make_averages(nant, vin, vavg, ics, cas):\n",
      "\n",
      "    # --- LINE 4 --- \n",
      "    # label 0\n",
      "    #   nant = arg(0, name=nant)  :: int64\n",
      "    #   vin = arg(1, name=vin)  :: array(int16, 4d, C)\n",
      "    #   vavg = arg(2, name=vavg)  :: array(float32, 3d, C)\n",
      "    #   ics = arg(3, name=ics)  :: array(float32, 2d, C)\n",
      "    #   cas = arg(4, name=cas)  :: array(float32, 2d, C)\n",
      "    #   $0.2 = getattr(value=vin, attr=shape)  :: UniTuple(int64 x 4)\n",
      "    #   $0.7 = exhaust_iter(value=$0.2, count=4)  :: UniTuple(int64 x 4)\n",
      "    #   del $0.2\n",
      "    #   $nchan.28 = static_getitem(value=$0.7, index=0, index_var=None, fn=<built-in function getitem>)  :: int64\n",
      "    #   $nbl.29 = static_getitem(value=$0.7, index=1, index_var=None, fn=<built-in function getitem>)  :: int64\n",
      "    #   $nt.30 = static_getitem(value=$0.7, index=2, index_var=None, fn=<built-in function getitem>)  :: int64\n",
      "    #   $_.31 = static_getitem(value=$0.7, index=3, index_var=None, fn=<built-in function getitem>)  :: int64\n",
      "    #   del $0.7\n",
      "    #   nchan = $nchan.28  :: int64\n",
      "    #   del $0.3\n",
      "    #   nbl = $nbl.29  :: int64\n",
      "    #   del $0.4\n",
      "    #   nt = $nt.30  :: int64\n",
      "    #   del $0.5\n",
      "    #   _ = $_.31  :: int64\n",
      "    #   del _\n",
      "    #   del $0.6\n",
      "\n",
      "    nchan,nbl, nt, _ = vin.shape\n",
      "\n",
      "# --- LINE 5 --- \n",
      "\n",
      "\n",
      "\n",
      "    # --- LINE 6 --- \n",
      "    #   jump 16\n",
      "    # label 16\n",
      "    #   jump 18\n",
      "    # label 18\n",
      "    #   $18.1 = global(range: <class 'range'>)  :: Function(<class 'range'>)\n",
      "    #   $18.3 = call $18.1($nchan.28, func=$18.1, args=[Var($nchan.28, <ipython-input-3-34d199a97e29>:4)], kws=(), vararg=None)  :: (int64,) -> range_state_int64\n",
      "    #   del nchan\n",
      "    #   del $18.1\n",
      "    #   $18.4 = getiter(value=$18.3)  :: range_iter_int64\n",
      "    #   del $18.3\n",
      "    #   $phi26.1 = $18.4  :: range_iter_int64\n",
      "    #   del $18.4\n",
      "    #   jump 26\n",
      "    # label 26\n",
      "    #   $26.2 = iternext(value=$18.4)  :: pair<int64, bool>\n",
      "    #   $ic.32 = pair_first(value=$26.2)  :: int64\n",
      "    #   $26.4 = pair_second(value=$26.2)  :: bool\n",
      "    #   del $26.2\n",
      "    #   $ic.33 = $ic.32  :: int64\n",
      "    #   $phi254.1 = $ic.32  :: int64\n",
      "    #   del $phi254.1\n",
      "    #   del $26.3\n",
      "    #   $phi254.2 = $18.4  :: range_iter_int64\n",
      "    #   del $phi254.2\n",
      "    #   branch $26.4, 28, 254\n",
      "    # label 28\n",
      "    #   del $26.4\n",
      "    #   ic = $ic.32  :: int64\n",
      "    #   del $phi28.1\n",
      "\n",
      "    for ic in range(nchan):\n",
      "\n",
      "        # --- LINE 7 --- \n",
      "        #   ibl = const(int, 0)  :: Literal[int](0)\n",
      "\n",
      "        ibl = 0\n",
      "\n",
      "        # --- LINE 8 --- \n",
      "        #   jump 34\n",
      "        # label 34\n",
      "        #   jump 36\n",
      "        # label 36\n",
      "        #   $36.1 = global(range: <class 'range'>)  :: Function(<class 'range'>)\n",
      "        #   $36.3 = call $36.1(nant, func=$36.1, args=[Var(nant, <ipython-input-3-34d199a97e29>:4)], kws=(), vararg=None)  :: (int64,) -> range_state_int64\n",
      "        #   del $36.1\n",
      "        #   $36.4 = getiter(value=$36.3)  :: range_iter_int64\n",
      "        #   del $36.3\n",
      "        #   $phi44.1 = $36.4  :: range_iter_int64\n",
      "        #   del $36.4\n",
      "        #   jump 44\n",
      "        # label 44\n",
      "        #   $44.2 = iternext(value=$36.4)  :: pair<int64, bool>\n",
      "        #   $ia1.34 = pair_first(value=$44.2)  :: int64\n",
      "        #   $44.4 = pair_second(value=$44.2)  :: bool\n",
      "        #   del $44.2\n",
      "        #   $ia1.35 = $ia1.34  :: int64\n",
      "        #   $phi250.1 = $ia1.34  :: int64\n",
      "        #   del $phi250.1\n",
      "        #   del $44.3\n",
      "        #   $phi250.2 = $36.4  :: range_iter_int64\n",
      "        #   del $phi250.2\n",
      "        #   branch $44.4, 46, 250\n",
      "        # label 46\n",
      "        #   del ibl.2\n",
      "        #   del $44.4\n",
      "        #   ia1 = $ia1.34  :: int64\n",
      "        #   del $phi46.1\n",
      "\n",
      "        for ia1 in range(nant):\n",
      "\n",
      "            # --- LINE 9 --- \n",
      "            #   jump 48\n",
      "            # label 48\n",
      "            #   jump 50\n",
      "            # label 50\n",
      "            #   $50.1 = global(range: <class 'range'>)  :: Function(<class 'range'>)\n",
      "            #   $50.4 = call $50.1($ia1.34, nant, func=$50.1, args=[Var($ia1.34, <ipython-input-3-34d199a97e29>:8), Var(nant, <ipython-input-3-34d199a97e29>:4)], kws=(), vararg=None)  :: (int64, int64) -> range_state_int64\n",
      "            #   del $50.1\n",
      "            #   $50.5 = getiter(value=$50.4)  :: range_iter_int64\n",
      "            #   del $50.4\n",
      "            #   $phi60.1 = $50.5  :: range_iter_int64\n",
      "            #   del $50.5\n",
      "            #   jump 60\n",
      "            # label 60\n",
      "            #   $60.2 = iternext(value=$50.5)  :: pair<int64, bool>\n",
      "            #   $ia2.36 = pair_first(value=$60.2)  :: int64\n",
      "            #   $60.4 = pair_second(value=$60.2)  :: bool\n",
      "            #   del $60.2\n",
      "            #   $ia2.37 = $ia2.36  :: int64\n",
      "            #   $phi246.1 = $ia2.36  :: int64\n",
      "            #   del $phi246.1\n",
      "            #   del $60.3\n",
      "            #   $phi246.2 = $50.5  :: range_iter_int64\n",
      "            #   del $phi246.2\n",
      "            #   branch $60.4, 62, 246\n",
      "            # label 62\n",
      "            #   del ibl.1\n",
      "            #   del $60.4\n",
      "            #   ia2 = $ia2.36  :: int64\n",
      "            #   del $phi62.1\n",
      "\n",
      "            for ia2 in range(ia1, nant):\n",
      "\n",
      "                # --- LINE 10 --- \n",
      "\n",
      "                #print(ia1, ia2, ibl, nbl)\n",
      "\n",
      "                # --- LINE 11 --- \n",
      "\n",
      "                #assert ibl < nbl#, f'Invalid ibl {ia1} {ia2} {ibl} {nbl}'\n",
      "\n",
      "# --- LINE 12 --- \n",
      "\n",
      "\n",
      "\n",
      "                # --- LINE 13 --- \n",
      "                #   ibl.3 = phi(incoming_values=[Var(ibl.2, <ipython-input-3-34d199a97e29>:13), Var(ibl, <ipython-input-3-34d199a97e29>:7)], incoming_blocks=[248, 36])  :: int64\n",
      "                #   ibl.2 = phi(incoming_values=[Var(ibl.3, <ipython-input-3-34d199a97e29>:13), Var(ibl.1, <ipython-input-3-34d199a97e29>:29)], incoming_blocks=[50, 236])  :: int64\n",
      "                #   jump 64\n",
      "                # label 64\n",
      "                #   jump 66\n",
      "                # label 66\n",
      "                #   $66.1 = global(range: <class 'range'>)  :: Function(<class 'range'>)\n",
      "                #   $66.3 = call $66.1($nt.30, func=$66.1, args=[Var($nt.30, <ipython-input-3-34d199a97e29>:4)], kws=(), vararg=None)  :: (int64,) -> range_state_int64\n",
      "                #   del $66.1\n",
      "                #   $66.4 = getiter(value=$66.3)  :: range_iter_int64\n",
      "                #   del $66.3\n",
      "                #   $phi74.1 = $66.4  :: range_iter_int64\n",
      "                #   del $66.4\n",
      "                #   jump 74\n",
      "                # label 74\n",
      "                #   $74.2 = iternext(value=$66.4)  :: pair<int64, bool>\n",
      "                #   $it.38 = pair_first(value=$74.2)  :: int64\n",
      "                #   $74.4 = pair_second(value=$74.2)  :: bool\n",
      "                #   del $74.2\n",
      "                #   $it.39 = $it.38  :: int64\n",
      "                #   $phi234.1 = $it.38  :: int64\n",
      "                #   del $phi234.1\n",
      "                #   del $74.3\n",
      "                #   $phi234.2 = $66.4  :: range_iter_int64\n",
      "                #   del $phi234.2\n",
      "                #   branch $74.4, 76, 234\n",
      "                # label 76\n",
      "                #   del $74.4\n",
      "                #   it = $it.38  :: int64\n",
      "                #   del $phi76.1\n",
      "\n",
      "                for it in range(nt):\n",
      "\n",
      "                    # --- LINE 14 --- \n",
      "                    #   $const76.6 = const(NoneType, None)  :: none\n",
      "                    #   $const76.7 = const(NoneType, None)  :: none\n",
      "                    #   $76.8 = global(slice: <class 'slice'>)  :: Function(<class 'slice'>)\n",
      "                    #   $76.9 = call $76.8($const76.6, $const76.7, func=$76.8, args=(Var($const76.6, <ipython-input-3-34d199a97e29>:14), Var($const76.7, <ipython-input-3-34d199a97e29>:14)), kws=(), vararg=None)  :: (none, none) -> slice<a:b>\n",
      "                    #   del $const76.7\n",
      "                    #   del $const76.6\n",
      "                    #   del $76.8\n",
      "                    #   $76.10 = build_tuple(items=[Var($ic.32, <ipython-input-3-34d199a97e29>:6), Var(ibl.2, <ipython-input-3-34d199a97e29>:13), Var($it.38, <ipython-input-3-34d199a97e29>:13), Var($76.9, <ipython-input-3-34d199a97e29>:14)])  :: Tuple(int64, int64, int64, slice<a:b>)\n",
      "                    #   del $76.9\n",
      "                    #   v = getitem(value=vin, index=$76.10, fn=<built-in function getitem>)  :: array(int16, 1d, C)\n",
      "                    #   del $76.10\n",
      "\n",
      "                    v = vin[ic, ibl, it, :]\n",
      "\n",
      "                    # --- LINE 15 --- \n",
      "\n",
      "                    #v = np.array([0,1])\n",
      "\n",
      "                    # --- LINE 16 --- \n",
      "                    #   $const76.13 = const(int, 0)  :: Literal[int](0)\n",
      "                    #   $76.14 = static_getitem(value=v, index=0, index_var=$const76.13, fn=<built-in function getitem>)  :: int16\n",
      "                    #   del $const76.13\n",
      "                    #   $const76.16 = const(int, 0)  :: Literal[int](0)\n",
      "                    #   $76.17 = static_getitem(value=v, index=0, index_var=$const76.16, fn=<built-in function getitem>)  :: int16\n",
      "                    #   del $const76.16\n",
      "                    #   $76.18 = $76.14 * $76.17  :: int64\n",
      "                    #   del $76.17\n",
      "                    #   del $76.14\n",
      "                    #   $const76.20 = const(int, 1)  :: Literal[int](1)\n",
      "                    #   $76.21 = static_getitem(value=v, index=1, index_var=$const76.20, fn=<built-in function getitem>)  :: int16\n",
      "                    #   del $const76.20\n",
      "                    #   $const76.23 = const(int, 1)  :: Literal[int](1)\n",
      "                    #   $76.24 = static_getitem(value=v, index=1, index_var=$const76.23, fn=<built-in function getitem>)  :: int16\n",
      "                    #   del $const76.23\n",
      "                    #   $76.25 = $76.21 * $76.24  :: int64\n",
      "                    #   del $76.24\n",
      "                    #   del $76.21\n",
      "                    #   vabs = $76.18 + $76.25  :: float32\n",
      "                    #   del $76.25\n",
      "                    #   del $76.18\n",
      "\n",
      "                    vabs = v[0]*v[0] + v[1]*v[1]\n",
      "\n",
      "                    # --- LINE 17 --- \n",
      "                    #   $76.29 = $ia1.34 == $ia2.36  :: bool\n",
      "                    #   bool136 = global(bool: <class 'bool'>)  :: Function(<class 'bool'>)\n",
      "                    #   $136pred = call bool136($76.29, func=bool136, args=(Var($76.29, <ipython-input-3-34d199a97e29>:17),), kws=(), vararg=None)  :: (bool,) -> bool\n",
      "                    #   del bool136\n",
      "                    #   del $76.29\n",
      "                    #   branch $136pred, 138, 160\n",
      "\n",
      "                    if ia1 == ia2:\n",
      "\n",
      "                        # --- LINE 18 --- \n",
      "                        # label 138\n",
      "                        #   del $136pred\n",
      "                        #   $138.4 = build_tuple(items=[Var($it.38, <ipython-input-3-34d199a97e29>:13), Var($ic.32, <ipython-input-3-34d199a97e29>:6)])  :: UniTuple(int64 x 2)\n",
      "                        #   del it\n",
      "                        #   $138.7 = getitem(value=ics, index=$138.4, fn=<built-in function getitem>)  :: float32\n",
      "                        #   $138.9 = inplace_binop(fn=<built-in function iadd>, immutable_fn=<built-in function add>, lhs=$138.7, rhs=vabs, static_lhs=Undefined, static_rhs=Undefined)  :: float32\n",
      "                        #   del vabs\n",
      "                        #   del $138.7\n",
      "                        #   ics[$138.4] = $138.9  :: (array(float32, 2d, C), UniTuple(int64 x 2), float32) -> none\n",
      "                        #   del $138.9\n",
      "                        #   del $138.4\n",
      "                        #   jump 180\n",
      "\n",
      "                        ics[it, ic] += vabs\n",
      "\n",
      "                    # --- LINE 19 --- \n",
      "\n",
      "                    else:\n",
      "\n",
      "                        # --- LINE 20 --- \n",
      "                        # label 160\n",
      "                        #   del $136pred\n",
      "                        #   $160.4 = build_tuple(items=[Var($it.38, <ipython-input-3-34d199a97e29>:13), Var($ic.32, <ipython-input-3-34d199a97e29>:6)])  :: UniTuple(int64 x 2)\n",
      "                        #   del it\n",
      "                        #   $160.7 = getitem(value=cas, index=$160.4, fn=<built-in function getitem>)  :: float32\n",
      "                        #   $160.9 = inplace_binop(fn=<built-in function iadd>, immutable_fn=<built-in function add>, lhs=$160.7, rhs=vabs, static_lhs=Undefined, static_rhs=Undefined)  :: float32\n",
      "                        #   del vabs\n",
      "                        #   del $160.7\n",
      "                        #   cas[$160.4] = $160.9  :: (array(float32, 2d, C), UniTuple(int64 x 2), float32) -> none\n",
      "                        #   del $160.9\n",
      "                        #   del $160.4\n",
      "\n",
      "                        cas[it, ic] += vabs\n",
      "\n",
      "# --- LINE 21 --- \n",
      "\n",
      "\n",
      "\n",
      "                    # --- LINE 22 --- \n",
      "\n",
      "                    #print('out', ibl, ic, it)\n",
      "\n",
      "                    # --- LINE 23 --- \n",
      "                    #   jump 180\n",
      "                    # label 180\n",
      "                    #   $const180.4 = const(int, 0)  :: Literal[int](0)\n",
      "                    #   $180.5 = build_tuple(items=[Var($ic.32, <ipython-input-3-34d199a97e29>:6), Var(ibl.2, <ipython-input-3-34d199a97e29>:13), Var($const180.4, <ipython-input-3-34d199a97e29>:23)])  :: Tuple(int64, int64, Literal[int](0))\n",
      "                    #   del $const180.4\n",
      "                    #   $180.8 = getitem(value=vavg, index=$180.5, fn=<built-in function getitem>)  :: float32\n",
      "                    #   $const180.10 = const(int, 0)  :: Literal[int](0)\n",
      "                    #   $180.11 = static_getitem(value=v, index=0, index_var=$const180.10, fn=<built-in function getitem>)  :: int16\n",
      "                    #   del $const180.10\n",
      "                    #   $180.12 = inplace_binop(fn=<built-in function iadd>, immutable_fn=<built-in function add>, lhs=$180.8, rhs=$180.11, static_lhs=Undefined, static_rhs=Undefined)  :: float32\n",
      "                    #   del $180.8\n",
      "                    #   del $180.11\n",
      "                    #   vavg[$180.5] = $180.12  :: (array(float32, 3d, C), UniTuple(int64 x 3), float32) -> none\n",
      "                    #   del $180.5\n",
      "                    #   del $180.12\n",
      "\n",
      "                    vavg[ic, ibl, 0] += v[0]\n",
      "\n",
      "                    # --- LINE 24 --- \n",
      "                    #   $const180.16 = const(int, 1)  :: Literal[int](1)\n",
      "                    #   $180.17 = build_tuple(items=[Var($ic.32, <ipython-input-3-34d199a97e29>:6), Var(ibl.2, <ipython-input-3-34d199a97e29>:13), Var($const180.16, <ipython-input-3-34d199a97e29>:24)])  :: Tuple(int64, int64, Literal[int](1))\n",
      "                    #   del $const180.16\n",
      "                    #   $180.20 = getitem(value=vavg, index=$180.17, fn=<built-in function getitem>)  :: float32\n",
      "                    #   $const180.22 = const(int, 1)  :: Literal[int](1)\n",
      "                    #   $180.23 = static_getitem(value=v, index=1, index_var=$const180.22, fn=<built-in function getitem>)  :: int16\n",
      "                    #   del v\n",
      "                    #   del $const180.22\n",
      "                    #   $180.24 = inplace_binop(fn=<built-in function iadd>, immutable_fn=<built-in function add>, lhs=$180.20, rhs=$180.23, static_lhs=Undefined, static_rhs=Undefined)  :: float32\n",
      "                    #   del $180.23\n",
      "                    #   del $180.20\n",
      "                    #   vavg[$180.17] = $180.24  :: (array(float32, 3d, C), UniTuple(int64 x 3), float32) -> none\n",
      "                    #   del $180.24\n",
      "                    #   del $180.17\n",
      "                    #   jump 74\n",
      "                    # label 234\n",
      "\n",
      "                    vavg[ic, ibl, 1] += v[1]\n",
      "\n",
      "# --- LINE 25 --- \n",
      "\n",
      "\n",
      "\n",
      "                    # --- LINE 26 --- \n",
      "\n",
      "                    #print('done', ibl, ic, it)\n",
      "\n",
      "# --- LINE 27 --- \n",
      "\n",
      "\n",
      "\n",
      "# --- LINE 28 --- \n",
      "\n",
      "\n",
      "\n",
      "                # --- LINE 29 --- \n",
      "                #   del ia2\n",
      "                #   del $phi76.1\n",
      "                #   del $phi74.1\n",
      "                #   del $74.4\n",
      "                #   jump 236\n",
      "                # label 236\n",
      "                #   $const236.2 = const(int, 1)  :: Literal[int](1)\n",
      "                #   $ibl.2.42 = inplace_binop(fn=<built-in function iadd>, immutable_fn=<built-in function add>, lhs=ibl.2, rhs=$const236.2, static_lhs=Undefined, static_rhs=Undefined)  :: int64\n",
      "                #   del ibl.2\n",
      "                #   del $const236.2\n",
      "                #   ibl.1 = $ibl.1.40  :: int64\n",
      "                #   del $236.3\n",
      "                #   jump 60\n",
      "                # label 246\n",
      "                #   del ibl.3\n",
      "                #   del ia1\n",
      "                #   del $phi62.1\n",
      "                #   del $phi60.1\n",
      "                #   del $60.4\n",
      "                #   jump 248\n",
      "                # label 248\n",
      "                #   jump 44\n",
      "                # label 250\n",
      "                #   del ic\n",
      "                #   del ibl.3\n",
      "                #   del ibl\n",
      "                #   del $phi46.1\n",
      "                #   del $phi44.1\n",
      "                #   del $44.4\n",
      "                #   jump 252\n",
      "                # label 252\n",
      "                #   jump 26\n",
      "                # label 254\n",
      "\n",
      "                ibl += 1\n",
      "\n",
      "# --- LINE 30 --- \n",
      "\n",
      "\n",
      "\n",
      "    # --- LINE 31 --- \n",
      "    #   del vin\n",
      "    #   del ibl.2\n",
      "    #   del ibl.1\n",
      "    #   del $phi28.1\n",
      "    #   del $phi26.1\n",
      "    #   del $26.4\n",
      "    #   jump 256\n",
      "    # label 256\n",
      "    #   ics.1 = inplace_binop(fn=<built-in function ifloordiv>, immutable_fn=<built-in function floordiv>, lhs=ics, rhs=nant, static_lhs=Undefined, static_rhs=Undefined)  :: array(float32, 2d, C)\n",
      "    #   del nant\n",
      "    #   del ics.1\n",
      "    #   del ics\n",
      "\n",
      "    ics //= nant\n",
      "\n",
      "    # --- LINE 32 --- \n",
      "    #   cas.1 = inplace_binop(fn=<built-in function ifloordiv>, immutable_fn=<built-in function floordiv>, lhs=cas, rhs=$nbl.29, static_lhs=Undefined, static_rhs=Undefined)  :: array(float32, 2d, C)\n",
      "    #   del nbl\n",
      "    #   del cas.1\n",
      "    #   del cas\n",
      "\n",
      "    cas //= nbl\n",
      "\n",
      "    # --- LINE 33 --- \n",
      "    #   vavg.1 = inplace_binop(fn=<built-in function ifloordiv>, immutable_fn=<built-in function floordiv>, lhs=vavg, rhs=$nt.30, static_lhs=Undefined, static_rhs=Undefined)  :: array(float32, 3d, C)\n",
      "    #   del vavg.1\n",
      "    #   del vavg\n",
      "    #   del nt\n",
      "    #   $const256.10 = const(NoneType, None)  :: none\n",
      "    #   $256.11 = cast(value=$const256.10)  :: none\n",
      "    #   del $const256.10\n",
      "    #   return $256.11\n",
      "\n",
      "    vavg //= nt\n",
      "\n",
      "\n",
      "================================================================================\n"
     ]
    }
   ],
   "source": [
    "make_averages.inspect_types()"
   ]
  },
  {
   "cell_type": "code",
   "execution_count": 35,
   "id": "e1ddb7f2",
   "metadata": {},
   "outputs": [],
   "source": [
    "from craco.cardcapfile import  get_single_packet_dtype, NCHAN,get_indexes\n",
    "%aimport craco.card_averager\n",
    "from craco.card_averager import *\n",
    "import craco.card_averager as avg"
   ]
  },
  {
   "cell_type": "code",
   "execution_count": 10,
   "id": "3054c4aa",
   "metadata": {},
   "outputs": [
    {
     "name": "stdout",
     "output_type": "stream",
     "text": [
      "(6, 144, 16)\n",
      "(6, 144, 16, 2, 465, 1, 2)\n"
     ]
    }
   ],
   "source": [
    "nfpga = 6\n",
    "nbeam = 36\n",
    "nc_per_fpga = 4\n",
    "nt = 16\n",
    "npkt = nbeam*nc_per_fpga\n",
    "pktshape = (npkt, nt)\n",
    "polsum = True\n",
    "debughdr = True\n",
    "dtype = get_single_packet_dtype(nbl, debughdr, polsum)\n",
    "din_list = [np.zeros(pktshape, dtype=dtype) for i in range(nfpga)]\n",
    "packets = [(0, pkt) for pkt in din_list]\n",
    "din = np.array(din_list)\n",
    "tscrunch = 4\n",
    "print(din.shape)\n",
    "print(din['data'].shape)"
   ]
  },
  {
   "cell_type": "code",
   "execution_count": 11,
   "id": "21887e53",
   "metadata": {},
   "outputs": [
    {
     "name": "stdout",
     "output_type": "stream",
     "text": [
      "(144, 465, 1, 2) float32\n"
     ]
    }
   ],
   "source": [
    "\n",
    "dout = average1(din)\n",
    "print(dout.shape, dout.dtype)"
   ]
  },
  {
   "cell_type": "code",
   "execution_count": 12,
   "id": "ee6ba9a4",
   "metadata": {},
   "outputs": [
    {
     "name": "stdout",
     "output_type": "stream",
     "text": [
      "12.7 ms ± 995 µs per loop (mean ± std. dev. of 7 runs, 100 loops each)\n"
     ]
    }
   ],
   "source": [
    "%timeit average1(din)"
   ]
  },
  {
   "cell_type": "code",
   "execution_count": 13,
   "id": "6ccf354a",
   "metadata": {},
   "outputs": [
    {
     "name": "stdout",
     "output_type": "stream",
     "text": [
      "31.3 µs ± 1.43 µs per loop (mean ± std. dev. of 7 runs, 10000 loops each)\n"
     ]
    }
   ],
   "source": [
    "%timeit dout.astype(np.int16)"
   ]
  },
  {
   "cell_type": "code",
   "execution_count": 14,
   "id": "c62e9549",
   "metadata": {},
   "outputs": [
    {
     "name": "stdout",
     "output_type": "stream",
     "text": [
      "30.8 ms ± 362 µs per loop (mean ± std. dev. of 7 runs, 10 loops each)\n"
     ]
    }
   ],
   "source": [
    "%timeit average2(din, tscrunch=4)"
   ]
  },
  {
   "cell_type": "code",
   "execution_count": 15,
   "id": "548792b2",
   "metadata": {},
   "outputs": [
    {
     "name": "stdout",
     "output_type": "stream",
     "text": [
      "31.6 ms ± 1.05 ms per loop (mean ± std. dev. of 7 runs, 10 loops each)\n"
     ]
    }
   ],
   "source": [
    "%timeit average3(din, tscrunch=4)"
   ]
  },
  {
   "cell_type": "code",
   "execution_count": 16,
   "id": "f83838d1",
   "metadata": {},
   "outputs": [
    {
     "name": "stdout",
     "output_type": "stream",
     "text": [
      "31.2 ms ± 609 µs per loop (mean ± std. dev. of 7 runs, 10 loops each)\n"
     ]
    }
   ],
   "source": [
    "%timeit average3(din, tscrunch=2)"
   ]
  },
  {
   "cell_type": "code",
   "execution_count": 17,
   "id": "467931cf",
   "metadata": {},
   "outputs": [
    {
     "name": "stdout",
     "output_type": "stream",
     "text": [
      "28.2 ms ± 773 µs per loop (mean ± std. dev. of 7 runs, 10 loops each)\n"
     ]
    }
   ],
   "source": [
    "%timeit average4(din, tscrunch=2)"
   ]
  },
  {
   "cell_type": "code",
   "execution_count": 18,
   "id": "4b2b8895",
   "metadata": {},
   "outputs": [
    {
     "name": "stdout",
     "output_type": "stream",
     "text": [
      "26.5 ms ± 419 µs per loop (mean ± std. dev. of 7 runs, 10 loops each)\n"
     ]
    }
   ],
   "source": [
    "data = din['data']\n",
    "(nfpga, npkt, nt1, nt2, nbl, _, _) = data.shape\n",
    "dshape = (npkt, nt1*nt2 // tscrunch, nbl, 2)\n",
    "dout = np.zeros(dshape, dtype=np.float32)\n",
    "%timeit average4(din, tscrunch=tscrunch, dout=dout)"
   ]
  },
  {
   "cell_type": "code",
   "execution_count": 20,
   "id": "8e72b7ab",
   "metadata": {},
   "outputs": [
    {
     "name": "stdout",
     "output_type": "stream",
     "text": [
      "26.5 ms ± 374 µs per loop (mean ± std. dev. of 7 runs, 10 loops each)\n"
     ]
    }
   ],
   "source": [
    "%timeit average4(din, tscrunch=tscrunch, dout=None)"
   ]
  },
  {
   "cell_type": "code",
   "execution_count": 29,
   "id": "e6c09b3e",
   "metadata": {},
   "outputs": [
    {
     "name": "stdout",
     "output_type": "stream",
     "text": [
      "74.1 ms ± 1.97 ms per loop (mean ± std. dev. of 7 runs, 10 loops each)\n"
     ]
    }
   ],
   "source": [
    "%autoreload average5\n",
    "average5(data, tscrunch=tscrunch, dout=dout)\n",
    "%timeit average5(data, tscrunch=tscrunch, dout=dout)"
   ]
  },
  {
   "cell_type": "code",
   "execution_count": 31,
   "id": "a4843bd0",
   "metadata": {},
   "outputs": [
    {
     "name": "stdout",
     "output_type": "stream",
     "text": [
      "214 ms ± 2.92 ms per loop (mean ± std. dev. of 7 runs, 1 loop each)\n"
     ]
    }
   ],
   "source": [
    "%autoreload average6\n",
    "\n",
    "average6(din['data'], tscrunch=tscrunch, dout=dout)\n",
    "%timeit average6(din['data'], tscrunch=tscrunch, dout=dout)"
   ]
  },
  {
   "cell_type": "code",
   "execution_count": 23,
   "id": "3dd0446b",
   "metadata": {},
   "outputs": [
    {
     "data": {
      "text/plain": [
       "(144, 8, 465, 2)"
      ]
     },
     "execution_count": 23,
     "metadata": {},
     "output_type": "execute_result"
    }
   ],
   "source": [
    "dout.shape"
   ]
  },
  {
   "cell_type": "code",
   "execution_count": 24,
   "id": "6d8413e4",
   "metadata": {},
   "outputs": [
    {
     "name": "stdout",
     "output_type": "stream",
     "text": [
      "average6 (array(int16, 7d, A), int64, array(float32, 4d, C))\n",
      "--------------------------------------------------------------------------------\n",
      "# File: /data/seren-01/fast/ban115/build/craco-python/src/craco/card_averager.py\n",
      "# --- LINE 300 --- \n",
      "\n",
      "@njit(fastmath=True,debug=True,parallel=True)\n",
      "\n",
      "# --- LINE 301 --- \n",
      "\n",
      "def average6(data, tscrunch, dout):\n",
      "\n",
      "    # --- LINE 302 --- \n",
      "\n",
      "    #data = din['data']\n",
      "\n",
      "    # --- LINE 303 --- \n",
      "    # label 0\n",
      "    #   data = arg(0, name=data)  :: array(int16, 7d, A)\n",
      "    #   tscrunch = arg(1, name=tscrunch)  :: int64\n",
      "    #   dout = arg(2, name=dout)  :: array(float32, 4d, C)\n",
      "    #   $0.2 = getattr(value=data, attr=shape)  :: UniTuple(int64 x 7)\n",
      "    #   $0.10 = exhaust_iter(value=$0.2, count=7)  :: UniTuple(int64 x 7)\n",
      "    #   del $0.2\n",
      "    #   $nfpga.303 = static_getitem(value=$0.10, index=0, index_var=None, fn=<built-in function getitem>)  :: int64\n",
      "    #   $npkt.304 = static_getitem(value=$0.10, index=1, index_var=None, fn=<built-in function getitem>)  :: int64\n",
      "    #   $nt1.305 = static_getitem(value=$0.10, index=2, index_var=None, fn=<built-in function getitem>)  :: int64\n",
      "    #   $nt2.306 = static_getitem(value=$0.10, index=3, index_var=None, fn=<built-in function getitem>)  :: int64\n",
      "    #   $nbl.307 = static_getitem(value=$0.10, index=4, index_var=None, fn=<built-in function getitem>)  :: int64\n",
      "    #   $_.308 = static_getitem(value=$0.10, index=5, index_var=None, fn=<built-in function getitem>)  :: int64\n",
      "    #   $_.1.309 = static_getitem(value=$0.10, index=6, index_var=None, fn=<built-in function getitem>)  :: int64\n",
      "    #   del $0.10\n",
      "    #   nfpga = $nfpga.303  :: int64\n",
      "    #   del $0.3\n",
      "    #   npkt = $npkt.304  :: int64\n",
      "    #   del $0.4\n",
      "    #   nt1 = $nt1.305  :: int64\n",
      "    #   del $0.5\n",
      "    #   nt2 = $nt2.306  :: int64\n",
      "    #   del $0.6\n",
      "    #   nbl = $nbl.307  :: int64\n",
      "    #   del $0.7\n",
      "    #   _ = $_.308  :: int64\n",
      "    #   del _\n",
      "    #   del $0.8\n",
      "    #   _.1 = $_.1.309  :: int64\n",
      "    #   del _.1\n",
      "    #   del $0.9\n",
      "\n",
      "    (nfpga, npkt, nt1, nt2, nbl, _, _) = data.shape\n",
      "\n",
      "    # --- LINE 304 --- \n",
      "    #   $const0.11 = const(int, 0)  :: Literal[int](0)\n",
      "    #   $const0.13 = const(NoneType, None)  :: none\n",
      "    #   $const0.14 = const(NoneType, None)  :: none\n",
      "    #   $0.15 = global(slice: <class 'slice'>)  :: Function(<class 'slice'>)\n",
      "    #   $0.16 = call $0.15($const0.13, $const0.14, func=$0.15, args=(Var($const0.13, card_averager.py:304), Var($const0.14, card_averager.py:304)), kws=(), vararg=None)  :: (none, none) -> slice<a:b>\n",
      "    #   del $const0.14\n",
      "    #   del $const0.13\n",
      "    #   del $0.15\n",
      "    #   dout[slice(None, None, None)] = $const0.11\n",
      "    #   del $const0.11\n",
      "    #   del $0.16\n",
      "\n",
      "    dout[:] = 0\n",
      "\n",
      "# --- LINE 305 --- \n",
      "\n",
      "\n",
      "\n",
      "    # --- LINE 306 --- \n",
      "    #   jump 34\n",
      "    # label 34\n",
      "    #   jump 36\n",
      "    # label 36\n",
      "    #   $36.1 = global(range: <class 'range'>)  :: Function(<class 'range'>)\n",
      "    #   $36.3 = call $36.1($nfpga.303, func=$36.1, args=[Var($nfpga.303, card_averager.py:303)], kws=(), vararg=None)  :: (int64,) -> range_state_int64\n",
      "    #   del $36.1\n",
      "    #   $36.4 = getiter(value=$36.3)  :: range_iter_int64\n",
      "    #   del $36.3\n",
      "    #   $phi44.1 = $36.4  :: range_iter_int64\n",
      "    #   del $36.4\n",
      "    #   jump 44\n",
      "    # label 44\n",
      "    #   $44.2 = iternext(value=$36.4)  :: pair<int64, bool>\n",
      "    #   $ifpga.310 = pair_first(value=$44.2)  :: int64\n",
      "    #   $44.4 = pair_second(value=$44.2)  :: bool\n",
      "    #   del $44.2\n",
      "    #   $ifpga.311 = $ifpga.310  :: int64\n",
      "    #   $phi202.1 = $ifpga.310  :: int64\n",
      "    #   del $phi202.1\n",
      "    #   del $44.3\n",
      "    #   $phi202.2 = $36.4  :: range_iter_int64\n",
      "    #   del $phi202.2\n",
      "    #   branch $44.4, 46, 202\n",
      "    # label 46\n",
      "    #   del $44.4\n",
      "    #   ifpga = $ifpga.310  :: int64\n",
      "    #   del $phi46.1\n",
      "\n",
      "    for ifpga in range(nfpga):\n",
      "\n",
      "        # --- LINE 307 --- \n",
      "        #   jump 48\n",
      "        # label 48\n",
      "        #   jump 50\n",
      "        # label 50\n",
      "        #   $50.1 = global(range: <class 'range'>)  :: Function(<class 'range'>)\n",
      "        #   $50.3 = call $50.1($npkt.304, func=$50.1, args=[Var($npkt.304, card_averager.py:303)], kws=(), vararg=None)  :: (int64,) -> range_state_int64\n",
      "        #   del $50.1\n",
      "        #   $50.4 = getiter(value=$50.3)  :: range_iter_int64\n",
      "        #   del $50.3\n",
      "        #   $phi58.1 = $50.4  :: range_iter_int64\n",
      "        #   del $50.4\n",
      "        #   jump 58\n",
      "        # label 58\n",
      "        #   $58.2 = iternext(value=$50.4)  :: pair<int64, bool>\n",
      "        #   $ipkt.312 = pair_first(value=$58.2)  :: int64\n",
      "        #   $58.4 = pair_second(value=$58.2)  :: bool\n",
      "        #   del $58.2\n",
      "        #   $ipkt.313 = $ipkt.312  :: int64\n",
      "        #   $phi198.1 = $ipkt.312  :: int64\n",
      "        #   del $phi198.1\n",
      "        #   del $58.3\n",
      "        #   $phi198.2 = $50.4  :: range_iter_int64\n",
      "        #   del $phi198.2\n",
      "        #   branch $58.4, 60, 198\n",
      "        # label 60\n",
      "        #   del $58.4\n",
      "        #   ipkt = $ipkt.312  :: int64\n",
      "        #   del $phi60.1\n",
      "\n",
      "        for ipkt in range(npkt):\n",
      "\n",
      "            # --- LINE 308 --- \n",
      "            #   jump 62\n",
      "            # label 62\n",
      "            #   jump 64\n",
      "            # label 64\n",
      "            #   $64.1 = global(range: <class 'range'>)  :: Function(<class 'range'>)\n",
      "            #   $64.3 = call $64.1($nt1.305, func=$64.1, args=[Var($nt1.305, card_averager.py:303)], kws=(), vararg=None)  :: (int64,) -> range_state_int64\n",
      "            #   del $64.1\n",
      "            #   $64.4 = getiter(value=$64.3)  :: range_iter_int64\n",
      "            #   del $64.3\n",
      "            #   $phi72.1 = $64.4  :: range_iter_int64\n",
      "            #   del $64.4\n",
      "            #   jump 72\n",
      "            # label 72\n",
      "            #   $72.2 = iternext(value=$64.4)  :: pair<int64, bool>\n",
      "            #   $t1.314 = pair_first(value=$72.2)  :: int64\n",
      "            #   $72.4 = pair_second(value=$72.2)  :: bool\n",
      "            #   del $72.2\n",
      "            #   $t1.315 = $t1.314  :: int64\n",
      "            #   $phi194.1 = $t1.314  :: int64\n",
      "            #   del $phi194.1\n",
      "            #   del $72.3\n",
      "            #   $phi194.2 = $64.4  :: range_iter_int64\n",
      "            #   del $phi194.2\n",
      "            #   branch $72.4, 74, 194\n",
      "            # label 74\n",
      "            #   del $72.4\n",
      "            #   t1 = $t1.314  :: int64\n",
      "            #   del $phi74.1\n",
      "\n",
      "            for t1 in range(nt1):\n",
      "\n",
      "                # --- LINE 309 --- \n",
      "                #   jump 76\n",
      "                # label 76\n",
      "                #   jump 78\n",
      "                # label 78\n",
      "                #   $78.1 = global(range: <class 'range'>)  :: Function(<class 'range'>)\n",
      "                #   $78.3 = call $78.1($nt2.306, func=$78.1, args=[Var($nt2.306, card_averager.py:303)], kws=(), vararg=None)  :: (int64,) -> range_state_int64\n",
      "                #   del $78.1\n",
      "                #   $78.4 = getiter(value=$78.3)  :: range_iter_int64\n",
      "                #   del $78.3\n",
      "                #   $phi86.1 = $78.4  :: range_iter_int64\n",
      "                #   del $78.4\n",
      "                #   jump 86\n",
      "                # label 86\n",
      "                #   $86.2 = iternext(value=$78.4)  :: pair<int64, bool>\n",
      "                #   $t2.316 = pair_first(value=$86.2)  :: int64\n",
      "                #   $86.4 = pair_second(value=$86.2)  :: bool\n",
      "                #   del $86.2\n",
      "                #   $t2.317 = $t2.316  :: int64\n",
      "                #   $phi190.1 = $t2.316  :: int64\n",
      "                #   del $phi190.1\n",
      "                #   del $86.3\n",
      "                #   $phi190.2 = $78.4  :: range_iter_int64\n",
      "                #   del $phi190.2\n",
      "                #   branch $86.4, 88, 190\n",
      "                # label 88\n",
      "                #   del $86.4\n",
      "                #   t2 = $t2.316  :: int64\n",
      "                #   del $phi88.1\n",
      "\n",
      "                for t2 in range(nt2):\n",
      "\n",
      "                    # --- LINE 310 --- \n",
      "                    #   $88.4 = $t2.316 * $nt1.305  :: int64\n",
      "                    #   ttotal = $88.4 + $t1.314  :: int64\n",
      "                    #   del $88.4\n",
      "\n",
      "                    ttotal = t2*nt1 + t1\n",
      "\n",
      "                    # --- LINE 311 --- \n",
      "                    #   tout = ttotal // tscrunch  :: int64\n",
      "                    #   del ttotal\n",
      "\n",
      "                    tout = ttotal // tscrunch\n",
      "\n",
      "                    # --- LINE 312 --- \n",
      "                    #   jump 110\n",
      "                    # label 110\n",
      "                    #   jump 112\n",
      "                    # label 112\n",
      "                    #   $112.1 = global(prange: <class 'numba.misc.special.prange'>)  :: Function(<class 'numba.misc.special.prange'>)\n",
      "                    #   $112.3 = call $112.1($nbl.307, func=$112.1, args=[Var($nbl.307, card_averager.py:303)], kws=(), vararg=None)  :: (int64,) -> range_state_int64\n",
      "                    #   del $112.1\n",
      "                    #   $112.4 = getiter(value=$112.3)  :: range_iter_int64\n",
      "                    #   del $112.3\n",
      "                    #   $phi120.1 = $112.4  :: range_iter_int64\n",
      "                    #   del $112.4\n",
      "                    #   jump 186\n",
      "                    # label 120\n",
      "                    #   $120.2 = iternext(value=$112.4)  :: pair<int64, bool>\n",
      "                    #   $120.3 = pair_first(value=$120.2)  :: int64\n",
      "                    #   $120.4 = pair_second(value=$120.2)  :: bool\n",
      "                    #   del $120.2\n",
      "                    #   parfor_index.300 = parfor_index.300  :: uint64\n",
      "                    #   parfor_index.300 = parfor_index.300  :: uint64\n",
      "                    #   del $phi186.1\n",
      "                    #   del $120.3\n",
      "                    #   $phi186.2 = $112.4  :: range_iter_int64\n",
      "                    #   del $phi186.2\n",
      "                    #   branch $120.4, 122, 186\n",
      "                    # label 122\n",
      "                    #   del $120.4\n",
      "                    #   ibl = parfor_index.300  :: int64\n",
      "                    #   del $phi122.1\n",
      "\n",
      "                    for ibl in prange(nbl):\n",
      "\n",
      "                        # --- LINE 313 --- \n",
      "                        #   jump 124\n",
      "                        # label 124\n",
      "                        #   jump 126\n",
      "                        # label 126\n",
      "                        #   $126.1 = global(range: <class 'range'>)  :: Function(<class 'range'>)\n",
      "                        #   $126.3 = call $push_global_to_block.370(_nt2_306, func=$push_global_to_block.370, args=[Var(_nt2_306, card_averager.py:303)], kws=(), vararg=None)  :: (int64,) -> range_state_int64\n",
      "                        #   del $126.1\n",
      "                        #   $126.4 = getiter(value=$126.3)  :: range_iter_int64\n",
      "                        #   del $126.3\n",
      "                        #   $phi134.1 = $126.4  :: range_iter_int64\n",
      "                        #   del $126.4\n",
      "                        #   jump 134\n",
      "                        # label 134\n",
      "                        #   $134.2 = iternext(value=$126.4)  :: pair<int64, bool>\n",
      "                        #   $c.318 = pair_first(value=$134.2)  :: int64\n",
      "                        #   $134.4 = pair_second(value=$134.2)  :: bool\n",
      "                        #   del $134.2\n",
      "                        #   $phi136.1 = $c.318  :: int64\n",
      "                        #   $phi182.1 = $c.318  :: int64\n",
      "                        #   del $phi182.1\n",
      "                        #   del $134.3\n",
      "                        #   $phi182.2 = $126.4  :: range_iter_int64\n",
      "                        #   del $phi182.2\n",
      "                        #   branch $134.4, 136, 182\n",
      "                        # label 136\n",
      "                        #   del $134.4\n",
      "                        #   c = $c.318  :: int64\n",
      "                        #   del $phi136.1\n",
      "\n",
      "                        for c in range(nt2):\n",
      "\n",
      "                            # --- LINE 314 --- \n",
      "                            #   $136.7 = build_tuple(items=[Var(_ipkt_312, card_averager.py:307), Var(tout, card_averager.py:311), Var($parfor__index_300.368, <string>:2), Var($c.318, card_averager.py:313)])  :: UniTuple(int64 x 4)\n",
      "                            #   $136.10 = getitem(value=dout, index=$136.7, fn=<built-in function getitem>)  :: float32\n",
      "                            #   $const136.17 = const(int, 0)  :: Literal[int](0)\n",
      "                            #   $136.19 = build_tuple(items=[Var(_ifpga_310, card_averager.py:306), Var(_ipkt_312, card_averager.py:307), Var(_t1_314, card_averager.py:308), Var(_t2_316, card_averager.py:309), Var($parfor__index_300.368, <string>:2), Var($const136.17, card_averager.py:314), Var($c.318, card_averager.py:313)])  :: Tuple(int64, int64, int64, int64, int64, Literal[int](0), int64)\n",
      "                            #   del c\n",
      "                            #   del $const136.17\n",
      "                            #   $136.20 = getitem(value=data, index=$136.19, fn=<built-in function getitem>)  :: int16\n",
      "                            #   del $136.19\n",
      "                            #   $136.21 = inplace_binop(fn=<built-in function iadd>, immutable_fn=<built-in function add>, lhs=$136.10, rhs=$136.20, static_lhs=Undefined, static_rhs=Undefined)  :: float32\n",
      "                            #   del $136.20\n",
      "                            #   del $136.10\n",
      "                            #   dout[$136.7] = $136.21  :: (array(float32, 4d, C), UniTuple(int64 x 4), float32) -> none\n",
      "                            #   del $136.7\n",
      "                            #   del $136.21\n",
      "                            #   jump 134\n",
      "                            # label 182\n",
      "                            #   del ibl\n",
      "                            #   del $phi136.1\n",
      "                            #   del $phi134.1\n",
      "                            #   del $134.4\n",
      "                            #   jump 184\n",
      "                            # label 184\n",
      "                            #   jump 203\n",
      "                            # label 186\n",
      "                            #   del tout\n",
      "                            #   del t2\n",
      "                            #   del $phi122.1\n",
      "                            #   del $phi120.1\n",
      "                            #   del $120.4\n",
      "                            #   jump 188\n",
      "                            # label 188\n",
      "                            #   jump 86\n",
      "                            # label 190\n",
      "                            #   del t1\n",
      "                            #   del $phi88.1\n",
      "                            #   del $phi86.1\n",
      "                            #   del $86.4\n",
      "                            #   jump 192\n",
      "                            # label 192\n",
      "                            #   jump 72\n",
      "                            # label 194\n",
      "                            #   del ipkt\n",
      "                            #   del $phi74.1\n",
      "                            #   del $phi72.1\n",
      "                            #   del $72.4\n",
      "                            #   jump 196\n",
      "                            # label 196\n",
      "                            #   jump 58\n",
      "                            # label 198\n",
      "                            #   del ifpga\n",
      "                            #   del $phi60.1\n",
      "                            #   del $phi58.1\n",
      "                            #   del $58.4\n",
      "                            #   jump 200\n",
      "                            # label 200\n",
      "                            #   jump 44\n",
      "                            # label 202\n",
      "\n",
      "                            dout[ipkt, tout, ibl, c] += data[ifpga,ipkt,t1,t2,ibl,0,c]\n",
      "\n",
      "# --- LINE 315 --- \n",
      "\n",
      "\n",
      "\n",
      "    # --- LINE 316 --- \n",
      "    #   del nt2\n",
      "    #   del nt1\n",
      "    #   del npkt\n",
      "    #   del nbl\n",
      "    #   del data\n",
      "    #   del $phi46.1\n",
      "    #   del $phi44.1\n",
      "    #   del $44.4\n",
      "    #   jump 204\n",
      "    # label 204\n",
      "    #   n = tscrunch * $nfpga.303  :: int64\n",
      "    #   del tscrunch\n",
      "    #   del nfpga\n",
      "\n",
      "    n = tscrunch*nfpga\n",
      "\n",
      "    # --- LINE 317 --- \n",
      "    #   $204.5 = global(float: <class 'float'>)  :: Function(<class 'float'>)\n",
      "    #   $const204.6 = const(int, 1)  :: Literal[int](1)\n",
      "    #   $204.8 = $const204.6 / n  :: float64\n",
      "    #   del n\n",
      "    #   del $const204.6\n",
      "    #   $204.9 = call $204.5($204.8, func=$204.5, args=[Var($204.8, card_averager.py:317)], kws=(), vararg=None)  :: (float64,) -> float64\n",
      "    #   del $204.8\n",
      "    #   del $204.5\n",
      "    #   dout.1 = inplace_binop(fn=<built-in function imul>, immutable_fn=<built-in function mul>, lhs=dout, rhs=$204.9, static_lhs=Undefined, static_rhs=Undefined)  :: array(float32, 4d, C)\n",
      "    #   del dout\n",
      "    #   del $204.9\n",
      "\n",
      "    dout *= float(1/n)\n",
      "\n",
      "# --- LINE 318 --- \n",
      "\n",
      "\n",
      "\n",
      "# --- LINE 319 --- \n",
      "\n",
      "\n",
      "\n",
      "    # --- LINE 320 --- \n",
      "    #   $204.12 = cast(value=dout.1)  :: array(float32, 4d, C)\n",
      "    #   del dout.1\n",
      "    #   return $204.12\n",
      "\n",
      "    return dout\n",
      "\n",
      "\n",
      "================================================================================\n"
     ]
    }
   ],
   "source": [
    "average6.inspect_types()"
   ]
  },
  {
   "cell_type": "code",
   "execution_count": 40,
   "id": "db2b7486",
   "metadata": {},
   "outputs": [
    {
     "name": "stdout",
     "output_type": "stream",
     "text": [
      "110 ms ± 1.92 ms per loop (mean ± std. dev. of 7 runs, 10 loops each)\n"
     ]
    }
   ],
   "source": [
    "intermediate_dout = np.zeros(din['data'].shape, dtype=np.float32)\n",
    "%timeit avg.average9(din, tscrunch=tscrunch, dout=intermediate_dout)"
   ]
  },
  {
   "cell_type": "code",
   "execution_count": 25,
   "id": "00ed922e",
   "metadata": {},
   "outputs": [],
   "source": [
    "from craco import card_averager"
   ]
  },
  {
   "cell_type": "code",
   "execution_count": 26,
   "id": "f20392f1",
   "metadata": {},
   "outputs": [
    {
     "name": "stdout",
     "output_type": "stream",
     "text": [
      "<class 'numpy.ndarray'>\n"
     ]
    },
    {
     "name": "stderr",
     "output_type": "stream",
     "text": [
      "/data/seren-01/fast/ban115/build/craco-python/src/craco/card_averager.py:580: RuntimeWarning: invalid value encountered in true_divide\n",
      "  variance = m2 / count #ill produce NAN where count=0\n",
      "/data/seren-01/fast/ban115/build/craco-python/src/craco/card_averager.py:589: RuntimeWarning: divide by zero encountered in true_divide\n",
      "  scale = 1/stdev\n"
     ]
    }
   ],
   "source": [
    "\n",
    "dummy_packet = packets[0][1].copy()\n",
    "print(type(dummy_packet))\n",
    "\n",
    "avger = card_averager.Averager(nbeam,nant,nc=24,nt=32,npol=1,vis_fscrunch=6, vis_tscrunch=4, dummy_packet=dummy_packet, cdtype=np.float32)\n"
   ]
  },
  {
   "cell_type": "code",
   "execution_count": 27,
   "id": "901cf32f",
   "metadata": {},
   "outputs": [
    {
     "ename": "AttributeError",
     "evalue": "'tuple' object has no attribute 'shape'",
     "output_type": "error",
     "traceback": [
      "\u001b[0;31m---------------------------------------------------------------------------\u001b[0m",
      "\u001b[0;31mAttributeError\u001b[0m                            Traceback (most recent call last)",
      "\u001b[0;32m<ipython-input-27-251a491d3c00>\u001b[0m in \u001b[0;36m<module>\u001b[0;34m\u001b[0m\n\u001b[1;32m      1\u001b[0m \u001b[0;31m# current averager takes 270 milliseconds - which is just a bloody outrage - I mean seriously\u001b[0m\u001b[0;34m\u001b[0m\u001b[0;34m\u001b[0m\u001b[0;34m\u001b[0m\u001b[0m\n\u001b[0;32m----> 2\u001b[0;31m \u001b[0mget_ipython\u001b[0m\u001b[0;34m(\u001b[0m\u001b[0;34m)\u001b[0m\u001b[0;34m.\u001b[0m\u001b[0mrun_line_magic\u001b[0m\u001b[0;34m(\u001b[0m\u001b[0;34m'timeit'\u001b[0m\u001b[0;34m,\u001b[0m \u001b[0;34m'avger.accumulate_packets(packets)'\u001b[0m\u001b[0;34m)\u001b[0m\u001b[0;34m\u001b[0m\u001b[0;34m\u001b[0m\u001b[0m\n\u001b[0m",
      "\u001b[0;32m/data/seren-01/fast/ban115/build/venv3.6/lib/python3.6/site-packages/IPython/core/interactiveshell.py\u001b[0m in \u001b[0;36mrun_line_magic\u001b[0;34m(self, magic_name, line, _stack_depth)\u001b[0m\n\u001b[1;32m   2324\u001b[0m                 \u001b[0mkwargs\u001b[0m\u001b[0;34m[\u001b[0m\u001b[0;34m'local_ns'\u001b[0m\u001b[0;34m]\u001b[0m \u001b[0;34m=\u001b[0m \u001b[0msys\u001b[0m\u001b[0;34m.\u001b[0m\u001b[0m_getframe\u001b[0m\u001b[0;34m(\u001b[0m\u001b[0mstack_depth\u001b[0m\u001b[0;34m)\u001b[0m\u001b[0;34m.\u001b[0m\u001b[0mf_locals\u001b[0m\u001b[0;34m\u001b[0m\u001b[0;34m\u001b[0m\u001b[0m\n\u001b[1;32m   2325\u001b[0m             \u001b[0;32mwith\u001b[0m \u001b[0mself\u001b[0m\u001b[0;34m.\u001b[0m\u001b[0mbuiltin_trap\u001b[0m\u001b[0;34m:\u001b[0m\u001b[0;34m\u001b[0m\u001b[0;34m\u001b[0m\u001b[0m\n\u001b[0;32m-> 2326\u001b[0;31m                 \u001b[0mresult\u001b[0m \u001b[0;34m=\u001b[0m \u001b[0mfn\u001b[0m\u001b[0;34m(\u001b[0m\u001b[0;34m*\u001b[0m\u001b[0margs\u001b[0m\u001b[0;34m,\u001b[0m \u001b[0;34m**\u001b[0m\u001b[0mkwargs\u001b[0m\u001b[0;34m)\u001b[0m\u001b[0;34m\u001b[0m\u001b[0;34m\u001b[0m\u001b[0m\n\u001b[0m\u001b[1;32m   2327\u001b[0m             \u001b[0;32mreturn\u001b[0m \u001b[0mresult\u001b[0m\u001b[0;34m\u001b[0m\u001b[0;34m\u001b[0m\u001b[0m\n\u001b[1;32m   2328\u001b[0m \u001b[0;34m\u001b[0m\u001b[0m\n",
      "\u001b[0;32m/data/seren-01/fast/ban115/build/venv3.6/lib/python3.6/site-packages/decorator.py\u001b[0m in \u001b[0;36mfun\u001b[0;34m(*args, **kw)\u001b[0m\n\u001b[1;32m    230\u001b[0m             \u001b[0;32mif\u001b[0m \u001b[0;32mnot\u001b[0m \u001b[0mkwsyntax\u001b[0m\u001b[0;34m:\u001b[0m\u001b[0;34m\u001b[0m\u001b[0;34m\u001b[0m\u001b[0m\n\u001b[1;32m    231\u001b[0m                 \u001b[0margs\u001b[0m\u001b[0;34m,\u001b[0m \u001b[0mkw\u001b[0m \u001b[0;34m=\u001b[0m \u001b[0mfix\u001b[0m\u001b[0;34m(\u001b[0m\u001b[0margs\u001b[0m\u001b[0;34m,\u001b[0m \u001b[0mkw\u001b[0m\u001b[0;34m,\u001b[0m \u001b[0msig\u001b[0m\u001b[0;34m)\u001b[0m\u001b[0;34m\u001b[0m\u001b[0;34m\u001b[0m\u001b[0m\n\u001b[0;32m--> 232\u001b[0;31m             \u001b[0;32mreturn\u001b[0m \u001b[0mcaller\u001b[0m\u001b[0;34m(\u001b[0m\u001b[0mfunc\u001b[0m\u001b[0;34m,\u001b[0m \u001b[0;34m*\u001b[0m\u001b[0;34m(\u001b[0m\u001b[0mextras\u001b[0m \u001b[0;34m+\u001b[0m \u001b[0margs\u001b[0m\u001b[0;34m)\u001b[0m\u001b[0;34m,\u001b[0m \u001b[0;34m**\u001b[0m\u001b[0mkw\u001b[0m\u001b[0;34m)\u001b[0m\u001b[0;34m\u001b[0m\u001b[0;34m\u001b[0m\u001b[0m\n\u001b[0m\u001b[1;32m    233\u001b[0m     \u001b[0mfun\u001b[0m\u001b[0;34m.\u001b[0m\u001b[0m__name__\u001b[0m \u001b[0;34m=\u001b[0m \u001b[0mfunc\u001b[0m\u001b[0;34m.\u001b[0m\u001b[0m__name__\u001b[0m\u001b[0;34m\u001b[0m\u001b[0;34m\u001b[0m\u001b[0m\n\u001b[1;32m    234\u001b[0m     \u001b[0mfun\u001b[0m\u001b[0;34m.\u001b[0m\u001b[0m__doc__\u001b[0m \u001b[0;34m=\u001b[0m \u001b[0mfunc\u001b[0m\u001b[0;34m.\u001b[0m\u001b[0m__doc__\u001b[0m\u001b[0;34m\u001b[0m\u001b[0;34m\u001b[0m\u001b[0m\n",
      "\u001b[0;32m/data/seren-01/fast/ban115/build/venv3.6/lib/python3.6/site-packages/IPython/core/magic.py\u001b[0m in \u001b[0;36m<lambda>\u001b[0;34m(f, *a, **k)\u001b[0m\n\u001b[1;32m    185\u001b[0m     \u001b[0;31m# but it's overkill for just that one bit of state.\u001b[0m\u001b[0;34m\u001b[0m\u001b[0;34m\u001b[0m\u001b[0;34m\u001b[0m\u001b[0m\n\u001b[1;32m    186\u001b[0m     \u001b[0;32mdef\u001b[0m \u001b[0mmagic_deco\u001b[0m\u001b[0;34m(\u001b[0m\u001b[0marg\u001b[0m\u001b[0;34m)\u001b[0m\u001b[0;34m:\u001b[0m\u001b[0;34m\u001b[0m\u001b[0;34m\u001b[0m\u001b[0m\n\u001b[0;32m--> 187\u001b[0;31m         \u001b[0mcall\u001b[0m \u001b[0;34m=\u001b[0m \u001b[0;32mlambda\u001b[0m \u001b[0mf\u001b[0m\u001b[0;34m,\u001b[0m \u001b[0;34m*\u001b[0m\u001b[0ma\u001b[0m\u001b[0;34m,\u001b[0m \u001b[0;34m**\u001b[0m\u001b[0mk\u001b[0m\u001b[0;34m:\u001b[0m \u001b[0mf\u001b[0m\u001b[0;34m(\u001b[0m\u001b[0;34m*\u001b[0m\u001b[0ma\u001b[0m\u001b[0;34m,\u001b[0m \u001b[0;34m**\u001b[0m\u001b[0mk\u001b[0m\u001b[0;34m)\u001b[0m\u001b[0;34m\u001b[0m\u001b[0;34m\u001b[0m\u001b[0m\n\u001b[0m\u001b[1;32m    188\u001b[0m \u001b[0;34m\u001b[0m\u001b[0m\n\u001b[1;32m    189\u001b[0m         \u001b[0;32mif\u001b[0m \u001b[0mcallable\u001b[0m\u001b[0;34m(\u001b[0m\u001b[0marg\u001b[0m\u001b[0;34m)\u001b[0m\u001b[0;34m:\u001b[0m\u001b[0;34m\u001b[0m\u001b[0;34m\u001b[0m\u001b[0m\n",
      "\u001b[0;32m/data/seren-01/fast/ban115/build/venv3.6/lib/python3.6/site-packages/IPython/core/magics/execution.py\u001b[0m in \u001b[0;36mtimeit\u001b[0;34m(self, line, cell, local_ns)\u001b[0m\n\u001b[1;32m   1161\u001b[0m             \u001b[0;32mfor\u001b[0m \u001b[0mindex\u001b[0m \u001b[0;32min\u001b[0m \u001b[0mrange\u001b[0m\u001b[0;34m(\u001b[0m\u001b[0;36m0\u001b[0m\u001b[0;34m,\u001b[0m \u001b[0;36m10\u001b[0m\u001b[0;34m)\u001b[0m\u001b[0;34m:\u001b[0m\u001b[0;34m\u001b[0m\u001b[0;34m\u001b[0m\u001b[0m\n\u001b[1;32m   1162\u001b[0m                 \u001b[0mnumber\u001b[0m \u001b[0;34m=\u001b[0m \u001b[0;36m10\u001b[0m \u001b[0;34m**\u001b[0m \u001b[0mindex\u001b[0m\u001b[0;34m\u001b[0m\u001b[0;34m\u001b[0m\u001b[0m\n\u001b[0;32m-> 1163\u001b[0;31m                 \u001b[0mtime_number\u001b[0m \u001b[0;34m=\u001b[0m \u001b[0mtimer\u001b[0m\u001b[0;34m.\u001b[0m\u001b[0mtimeit\u001b[0m\u001b[0;34m(\u001b[0m\u001b[0mnumber\u001b[0m\u001b[0;34m)\u001b[0m\u001b[0;34m\u001b[0m\u001b[0;34m\u001b[0m\u001b[0m\n\u001b[0m\u001b[1;32m   1164\u001b[0m                 \u001b[0;32mif\u001b[0m \u001b[0mtime_number\u001b[0m \u001b[0;34m>=\u001b[0m \u001b[0;36m0.2\u001b[0m\u001b[0;34m:\u001b[0m\u001b[0;34m\u001b[0m\u001b[0;34m\u001b[0m\u001b[0m\n\u001b[1;32m   1165\u001b[0m                     \u001b[0;32mbreak\u001b[0m\u001b[0;34m\u001b[0m\u001b[0;34m\u001b[0m\u001b[0m\n",
      "\u001b[0;32m/data/seren-01/fast/ban115/build/venv3.6/lib/python3.6/site-packages/IPython/core/magics/execution.py\u001b[0m in \u001b[0;36mtimeit\u001b[0;34m(self, number)\u001b[0m\n\u001b[1;32m    167\u001b[0m         \u001b[0mgc\u001b[0m\u001b[0;34m.\u001b[0m\u001b[0mdisable\u001b[0m\u001b[0;34m(\u001b[0m\u001b[0;34m)\u001b[0m\u001b[0;34m\u001b[0m\u001b[0;34m\u001b[0m\u001b[0m\n\u001b[1;32m    168\u001b[0m         \u001b[0;32mtry\u001b[0m\u001b[0;34m:\u001b[0m\u001b[0;34m\u001b[0m\u001b[0;34m\u001b[0m\u001b[0m\n\u001b[0;32m--> 169\u001b[0;31m             \u001b[0mtiming\u001b[0m \u001b[0;34m=\u001b[0m \u001b[0mself\u001b[0m\u001b[0;34m.\u001b[0m\u001b[0minner\u001b[0m\u001b[0;34m(\u001b[0m\u001b[0mit\u001b[0m\u001b[0;34m,\u001b[0m \u001b[0mself\u001b[0m\u001b[0;34m.\u001b[0m\u001b[0mtimer\u001b[0m\u001b[0;34m)\u001b[0m\u001b[0;34m\u001b[0m\u001b[0;34m\u001b[0m\u001b[0m\n\u001b[0m\u001b[1;32m    170\u001b[0m         \u001b[0;32mfinally\u001b[0m\u001b[0;34m:\u001b[0m\u001b[0;34m\u001b[0m\u001b[0;34m\u001b[0m\u001b[0m\n\u001b[1;32m    171\u001b[0m             \u001b[0;32mif\u001b[0m \u001b[0mgcold\u001b[0m\u001b[0;34m:\u001b[0m\u001b[0;34m\u001b[0m\u001b[0;34m\u001b[0m\u001b[0m\n",
      "\u001b[0;32m<magic-timeit>\u001b[0m in \u001b[0;36minner\u001b[0;34m(_it, _timer)\u001b[0m\n",
      "\u001b[0;32m/data/seren-01/fast/ban115/build/craco-python/src/craco/card_averager.py\u001b[0m in \u001b[0;36maccumulate_packets\u001b[0;34m(self, packets)\u001b[0m\n\u001b[1;32m    616\u001b[0m         \u001b[0mdata\u001b[0m \u001b[0;34m=\u001b[0m \u001b[0mList\u001b[0m\u001b[0;34m(\u001b[0m\u001b[0;34m)\u001b[0m\u001b[0;34m\u001b[0m\u001b[0;34m\u001b[0m\u001b[0m\n\u001b[1;32m    617\u001b[0m         \u001b[0;34m[\u001b[0m\u001b[0mdata\u001b[0m\u001b[0;34m.\u001b[0m\u001b[0mappend\u001b[0m\u001b[0;34m(\u001b[0m\u001b[0mself\u001b[0m\u001b[0;34m.\u001b[0m\u001b[0mdummy_packet\u001b[0m \u001b[0;32mif\u001b[0m \u001b[0mpkt\u001b[0m \u001b[0;32mis\u001b[0m \u001b[0;32mNone\u001b[0m \u001b[0;32melse\u001b[0m \u001b[0mpkt\u001b[0m\u001b[0;34m)\u001b[0m \u001b[0;32mfor\u001b[0m \u001b[0mpkt\u001b[0m \u001b[0;32min\u001b[0m \u001b[0mpackets\u001b[0m\u001b[0;34m]\u001b[0m\u001b[0;34m\u001b[0m\u001b[0;34m\u001b[0m\u001b[0m\n\u001b[0;32m--> 618\u001b[0;31m         \u001b[0mlog\u001b[0m\u001b[0;34m.\u001b[0m\u001b[0mdebug\u001b[0m\u001b[0;34m(\u001b[0m\u001b[0;34m'Accumulating %s'\u001b[0m\u001b[0;34m,\u001b[0m \u001b[0;34m' '\u001b[0m\u001b[0;34m.\u001b[0m\u001b[0mjoin\u001b[0m\u001b[0;34m(\u001b[0m\u001b[0mmap\u001b[0m\u001b[0;34m(\u001b[0m\u001b[0mstr\u001b[0m\u001b[0;34m,\u001b[0m \u001b[0;34m[\u001b[0m\u001b[0md\u001b[0m\u001b[0;34m.\u001b[0m\u001b[0mshape\u001b[0m \u001b[0;32mfor\u001b[0m \u001b[0md\u001b[0m \u001b[0;32min\u001b[0m \u001b[0mdata\u001b[0m\u001b[0;34m]\u001b[0m\u001b[0;34m)\u001b[0m\u001b[0;34m)\u001b[0m\u001b[0;34m)\u001b[0m\u001b[0;34m\u001b[0m\u001b[0;34m\u001b[0m\u001b[0m\n\u001b[0m\u001b[1;32m    619\u001b[0m         \u001b[0;32mfor\u001b[0m \u001b[0midata\u001b[0m\u001b[0;34m,\u001b[0m \u001b[0md\u001b[0m \u001b[0;32min\u001b[0m \u001b[0menumerate\u001b[0m\u001b[0;34m(\u001b[0m\u001b[0mdata\u001b[0m\u001b[0;34m)\u001b[0m\u001b[0;34m:\u001b[0m\u001b[0;34m\u001b[0m\u001b[0;34m\u001b[0m\u001b[0m\n\u001b[1;32m    620\u001b[0m             \u001b[0;32mif\u001b[0m \u001b[0md\u001b[0m\u001b[0;34m.\u001b[0m\u001b[0mndim\u001b[0m \u001b[0;34m==\u001b[0m \u001b[0;36m1\u001b[0m\u001b[0;34m:\u001b[0m\u001b[0;34m\u001b[0m\u001b[0;34m\u001b[0m\u001b[0m\n",
      "\u001b[0;32m/data/seren-01/fast/ban115/build/craco-python/src/craco/card_averager.py\u001b[0m in \u001b[0;36m<listcomp>\u001b[0;34m(.0)\u001b[0m\n\u001b[1;32m    616\u001b[0m         \u001b[0mdata\u001b[0m \u001b[0;34m=\u001b[0m \u001b[0mList\u001b[0m\u001b[0;34m(\u001b[0m\u001b[0;34m)\u001b[0m\u001b[0;34m\u001b[0m\u001b[0;34m\u001b[0m\u001b[0m\n\u001b[1;32m    617\u001b[0m         \u001b[0;34m[\u001b[0m\u001b[0mdata\u001b[0m\u001b[0;34m.\u001b[0m\u001b[0mappend\u001b[0m\u001b[0;34m(\u001b[0m\u001b[0mself\u001b[0m\u001b[0;34m.\u001b[0m\u001b[0mdummy_packet\u001b[0m \u001b[0;32mif\u001b[0m \u001b[0mpkt\u001b[0m \u001b[0;32mis\u001b[0m \u001b[0;32mNone\u001b[0m \u001b[0;32melse\u001b[0m \u001b[0mpkt\u001b[0m\u001b[0;34m)\u001b[0m \u001b[0;32mfor\u001b[0m \u001b[0mpkt\u001b[0m \u001b[0;32min\u001b[0m \u001b[0mpackets\u001b[0m\u001b[0;34m]\u001b[0m\u001b[0;34m\u001b[0m\u001b[0;34m\u001b[0m\u001b[0m\n\u001b[0;32m--> 618\u001b[0;31m         \u001b[0mlog\u001b[0m\u001b[0;34m.\u001b[0m\u001b[0mdebug\u001b[0m\u001b[0;34m(\u001b[0m\u001b[0;34m'Accumulating %s'\u001b[0m\u001b[0;34m,\u001b[0m \u001b[0;34m' '\u001b[0m\u001b[0;34m.\u001b[0m\u001b[0mjoin\u001b[0m\u001b[0;34m(\u001b[0m\u001b[0mmap\u001b[0m\u001b[0;34m(\u001b[0m\u001b[0mstr\u001b[0m\u001b[0;34m,\u001b[0m \u001b[0;34m[\u001b[0m\u001b[0md\u001b[0m\u001b[0;34m.\u001b[0m\u001b[0mshape\u001b[0m \u001b[0;32mfor\u001b[0m \u001b[0md\u001b[0m \u001b[0;32min\u001b[0m \u001b[0mdata\u001b[0m\u001b[0;34m]\u001b[0m\u001b[0;34m)\u001b[0m\u001b[0;34m)\u001b[0m\u001b[0;34m)\u001b[0m\u001b[0;34m\u001b[0m\u001b[0;34m\u001b[0m\u001b[0m\n\u001b[0m\u001b[1;32m    619\u001b[0m         \u001b[0;32mfor\u001b[0m \u001b[0midata\u001b[0m\u001b[0;34m,\u001b[0m \u001b[0md\u001b[0m \u001b[0;32min\u001b[0m \u001b[0menumerate\u001b[0m\u001b[0;34m(\u001b[0m\u001b[0mdata\u001b[0m\u001b[0;34m)\u001b[0m\u001b[0;34m:\u001b[0m\u001b[0;34m\u001b[0m\u001b[0;34m\u001b[0m\u001b[0m\n\u001b[1;32m    620\u001b[0m             \u001b[0;32mif\u001b[0m \u001b[0md\u001b[0m\u001b[0;34m.\u001b[0m\u001b[0mndim\u001b[0m \u001b[0;34m==\u001b[0m \u001b[0;36m1\u001b[0m\u001b[0;34m:\u001b[0m\u001b[0;34m\u001b[0m\u001b[0;34m\u001b[0m\u001b[0m\n",
      "\u001b[0;31mAttributeError\u001b[0m: 'tuple' object has no attribute 'shape'"
     ]
    }
   ],
   "source": [
    "# current averager takes 270 milliseconds - which is just a bloody outrage - I mean seriously\n",
    "%timeit avger.accumulate_packets(packets)"
   ]
  },
  {
   "cell_type": "code",
   "execution_count": null,
   "id": "c6568b39",
   "metadata": {},
   "outputs": [],
   "source": [
    "avger = card_averager.Averager(nbeam,nant,24,32,1,6,4, dummy_packet=dummy_packet, cdtype=np.float32)"
   ]
  },
  {
   "cell_type": "code",
   "execution_count": null,
   "id": "a3deb992",
   "metadata": {},
   "outputs": [],
   "source": [
    "avger.output.dtype"
   ]
  },
  {
   "cell_type": "code",
   "execution_count": null,
   "id": "c08c38eb",
   "metadata": {},
   "outputs": [],
   "source": [
    "avger.output.shape"
   ]
  },
  {
   "cell_type": "code",
   "execution_count": null,
   "id": "75ec5380",
   "metadata": {},
   "outputs": [],
   "source": [
    "avger.output['vis'].shape"
   ]
  },
  {
   "cell_type": "code",
   "execution_count": null,
   "id": "361544a3",
   "metadata": {},
   "outputs": [],
   "source": [
    "from craco.card_averager import ibc2beamchan\n",
    "\n",
    "\n",
    "_= average7(din, tscrunch=8, dout=avger.output['vis'])\n",
    "%timeit average7(din, tscrunch=8, dout=avger.output['vis'])"
   ]
  },
  {
   "cell_type": "code",
   "execution_count": null,
   "id": "3b39b5f3",
   "metadata": {},
   "outputs": [],
   "source": [
    "\n",
    "\n",
    "_= average8(din, tscrunch=8, dout=avger.output['vis'],nant=nant)\n",
    "%timeit average8(din, tscrunch=8, dout=avger.output['vis'],nant=nant)"
   ]
  },
  {
   "cell_type": "code",
   "execution_count": null,
   "id": "ddec85b1",
   "metadata": {},
   "outputs": [],
   "source": [
    "avger.output['vis'].shape"
   ]
  },
  {
   "cell_type": "code",
   "execution_count": null,
   "id": "bab424fa",
   "metadata": {},
   "outputs": [],
   "source": [
    "_,_,auto_idxs,cross_idxs = get_indexes(nant)"
   ]
  },
  {
   "cell_type": "code",
   "execution_count": null,
   "id": "dcb68e31",
   "metadata": {},
   "outputs": [],
   "source": [
    "average2(din,tscrunch=8).shape"
   ]
  },
  {
   "cell_type": "code",
   "execution_count": null,
   "id": "7708028f",
   "metadata": {},
   "outputs": [],
   "source": [
    "def average_vis_and_reshape2(din, tscrunch, dout, auto_idxs, cross_idxs):\n",
    "    '''\n",
    "    Writes (beam,chan) order and removes autocorrelations\n",
    "    Fxed fscrunch at 6\n",
    "    This is horriffically slow in NUMPY - really, really bad\n",
    "    '''\n",
    "    data = din['data']\n",
    "    (nfpga, npkt, nt1, nt2, nblall, _, _) = data.shape\n",
    "    dout[:] = 0\n",
    "    # HACK - set nbl to output NBL, which doesn't include autos, for now\n",
    "    #nbl = dout.shape[1]\n",
    "    ntout = nt1*nt2//tscrunch\n",
    "    \n",
    "    nbl = len(cross_idxs)\n",
    "    nant = len(auto_idxs)\n",
    "    dcross = data[:,:,:,:,cross_idxs,:,:]\n",
    "    d = dcross.reshape(nfpga, npkt, ntout, tscrunch, nbl, 2).mean(axis=(0,3), dtype=np.float32)\n",
    "    dcopy1 = d[:32*4,...].reshape(32,4,ntout,nbl,2).transpose(0,3,1,2,4)\n",
    "    dcopy2 = d[32*4:,...].reshape(4,4,ntout,nbl,2).transpose(0,3,1,2,4)\n",
    "\n",
    "\n",
    "    dout[0:32, :,:,:,:] = dcopy1\n",
    "    dout[32:, :,:,:,:] = dcopy2\n",
    "\n",
    "            \n",
    "    return dout\n",
    "\n",
    "print(average_vis_and_reshape2(din, tscrunch=4, dout=avger.output['vis'],auto_idxs=auto_idxs,cross_idxs=cross_idxs).shape)\n",
    "%timeit average_vis_and_reshape2(din, tscrunch=4, dout=avger.output['vis'],auto_idxs=auto_idxs,cross_idxs=cross_idxs)"
   ]
  },
  {
   "cell_type": "code",
   "execution_count": null,
   "id": "92ac6823",
   "metadata": {},
   "outputs": [],
   "source": [
    "avger.output['vis'].shape"
   ]
  },
  {
   "cell_type": "code",
   "execution_count": null,
   "id": "3598b7d1",
   "metadata": {},
   "outputs": [],
   "source": [
    "avger.output['cas'].shape"
   ]
  },
  {
   "cell_type": "code",
   "execution_count": null,
   "id": "b5151754",
   "metadata": {},
   "outputs": [],
   "source": [
    "din['data'].shape"
   ]
  },
  {
   "cell_type": "code",
   "execution_count": null,
   "id": "498688f6",
   "metadata": {},
   "outputs": [],
   "source": [
    "data = din['data'].astype(np.float32)\n",
    "data.shape"
   ]
  },
  {
   "cell_type": "code",
   "execution_count": null,
   "id": "ed51011e",
   "metadata": {},
   "outputs": [],
   "source": [
    "def amp1(data):\n",
    "    return np.sqrt(data[...,0]**2 + data[...,1]**2)\n",
    "\n",
    "%timeit amp1(data)"
   ]
  },
  {
   "cell_type": "code",
   "execution_count": null,
   "id": "54238eaa",
   "metadata": {},
   "outputs": [],
   "source": [
    "from math import sqrt\n",
    "\n",
    "@njit\n",
    "def amp2(data, dout):\n",
    "    (nfpga, npkt, nt1, nt2, nbl, _, _) = data.shape\n",
    "    dout[:] = 0\n",
    "    # HACK - set nbl to output NBL, which doesn't include autos, for now\n",
    "    nbl = dout.shape[1]\n",
    "    \n",
    "    # dout shape\n",
    "    # avger.output['vis'].shape\n",
    "    # (36, 435, 4, 8, 2)\n",
    "    \n",
    "    for ifpga in range(nfpga):\n",
    "        for ipkt in range(npkt):\n",
    "            beam,chan = ibc2beamchan(ipkt)\n",
    "            #print(beam,chan)\n",
    "            for t1 in range(nt1):\n",
    "                for t2 in range(nt2):\n",
    "                    ttotal = t2 + t1*nt2\n",
    "                    tout = ttotal // tscrunch\n",
    "                    for ibl in range(nbl):\n",
    "                        d0 = data[ifpga,ipkt,t1,t2,ibl,0,0]\n",
    "                        d1 = data[ifpga,ipkt,t1,t2,ibl,0,1]\n",
    "\n",
    "                        da = sqrt(d0**2 + d1**2)    \n",
    "                        dout[ifpga,ipkt,t1,t2,ibl,0] = da\n",
    "                        \n",
    "    return dout\n",
    "                            \n",
    "    "
   ]
  },
  {
   "cell_type": "code",
   "execution_count": null,
   "id": "1db013ef",
   "metadata": {},
   "outputs": [],
   "source": [
    "dout = np.zeros(data.shape[:-1], dtype=np.float32)\n",
    "amp2(data, dout).shape\n",
    "%timeit amp2(data, dout)"
   ]
  },
  {
   "cell_type": "code",
   "execution_count": null,
   "id": "96568b5b",
   "metadata": {},
   "outputs": [],
   "source": [
    "data.shape"
   ]
  },
  {
   "cell_type": "code",
   "execution_count": null,
   "id": "89169298",
   "metadata": {},
   "outputs": [],
   "source": [
    "avger.output['ics'].shape"
   ]
  },
  {
   "cell_type": "code",
   "execution_count": null,
   "id": "c64537ce",
   "metadata": {},
   "outputs": [],
   "source": [
    "%timeit calc_ics(data, auto_idxs)"
   ]
  },
  {
   "cell_type": "code",
   "execution_count": null,
   "id": "921f8ecb",
   "metadata": {},
   "outputs": [],
   "source": [
    "dmean = calc_ics(data, auto_idxs)\n",
    "dmean.shape"
   ]
  },
  {
   "cell_type": "code",
   "execution_count": null,
   "id": "ca3a0cc1",
   "metadata": {},
   "outputs": [],
   "source": [
    "icsout = avger.output['ics']"
   ]
  },
  {
   "cell_type": "code",
   "execution_count": null,
   "id": "5bc892ce",
   "metadata": {},
   "outputs": [],
   "source": [
    "icsout.shape"
   ]
  },
  {
   "cell_type": "code",
   "execution_count": null,
   "id": "7cd547f7",
   "metadata": {},
   "outputs": [],
   "source": [
    "(nfpga, npkt, nt1, nt2, nbl, npol, _) = data.shape\n",
    "data.shape"
   ]
  },
  {
   "cell_type": "code",
   "execution_count": null,
   "id": "b78f598a",
   "metadata": {},
   "outputs": [],
   "source": [
    "dmean[:,:32*4,:,:].reshape(nfpga,4,32,32).transpose(2,3,1,0).reshape(32,32,24).shape"
   ]
  },
  {
   "cell_type": "code",
   "execution_count": null,
   "id": "af9e5fb9",
   "metadata": {},
   "outputs": [],
   "source": [
    "dmean[:,32*4:,:,:].reshape(nfpga,4,4,32).transpose(2,3,1,0).reshape(4,32,24).shape"
   ]
  },
  {
   "cell_type": "code",
   "execution_count": null,
   "id": "afa2e80d",
   "metadata": {},
   "outputs": [],
   "source": [
    "valid = np.zeros(6, dtype=bool)\n",
    "%timeit calc_and_reshape_ics(data, auto_idxs, valid, avger.output['ics'])"
   ]
  },
  {
   "cell_type": "code",
   "execution_count": null,
   "id": "99598eea",
   "metadata": {},
   "outputs": [],
   "source": []
  },
  {
   "cell_type": "code",
   "execution_count": null,
   "id": "2cae2e86",
   "metadata": {},
   "outputs": [],
   "source": []
  },
  {
   "cell_type": "code",
   "execution_count": null,
   "id": "4312cb93",
   "metadata": {},
   "outputs": [],
   "source": []
  },
  {
   "cell_type": "code",
   "execution_count": null,
   "id": "32b2a9e5",
   "metadata": {},
   "outputs": [],
   "source": []
  },
  {
   "cell_type": "code",
   "execution_count": null,
   "id": "9f149702",
   "metadata": {},
   "outputs": [],
   "source": []
  }
 ],
 "metadata": {
  "kernelspec": {
   "display_name": "Python 3",
   "language": "python",
   "name": "python3"
  },
  "language_info": {
   "codemirror_mode": {
    "name": "ipython",
    "version": 3
   },
   "file_extension": ".py",
   "mimetype": "text/x-python",
   "name": "python",
   "nbconvert_exporter": "python",
   "pygments_lexer": "ipython3",
   "version": "3.6.15"
  }
 },
 "nbformat": 4,
 "nbformat_minor": 5
}
