{
 "cells": [
  {
   "cell_type": "code",
   "execution_count": null,
   "id": "89f42403",
   "metadata": {},
   "outputs": [],
   "source": []
  },
  {
   "cell_type": "code",
   "execution_count": 1,
   "id": "9f83332a",
   "metadata": {},
   "outputs": [],
   "source": [
    "import numpy as np\n",
    "import os\n",
    "os.environ['NUMBA_THREADING_LAYER'] = 'omp' # my TBB version complains\n",
    "os.environ['NUMBA_NUM_THREADS'] = '3'\n",
    "os.environ['NUMBA_ENABLE_AVX'] = '1'\n",
    "os.environ['NUMBA_CPU_NAME'] = 'generic'\n",
    "os.environ['NUMBA_CPU_FEATURES'] = '+sse,+sse2,+avx,+avx2,+avx512f,+avx512dq'\n",
    "#os.environ['NUMBA_CPU_FEATURES'] = '+sse,+sse2,+avx,+avx2'\n",
    "import sys\n",
    "sys.path.insert(0,'/Users/ban115/bolton/craco-python/src/')\n",
    "\n",
    "\n",
    "import numba\n",
    "from numba import njit, prange\n",
    "from pylab import *\n",
    "%matplotlib notebook\n",
    "\n",
    "%load_ext autoreload\n",
    "%autoreload 2\n"
   ]
  },
  {
   "cell_type": "code",
   "execution_count": 2,
   "id": "46ac6c03",
   "metadata": {},
   "outputs": [
    {
     "data": {
      "text/plain": [
       "714240"
      ]
     },
     "execution_count": 2,
     "metadata": {},
     "output_type": "execute_result"
    }
   ],
   "source": [
    "nant = 30\n",
    "nbl = nant*(nant+1)//2\n",
    "nt = 32\n",
    "nchan = 24\n",
    "nbeam = 36\n",
    "\n",
    "vin = np.arange(nbl*nt*nchan*2, dtype=np.int16).reshape((nchan, nbl, nt, 2))\n",
    "vavg = np.zeros((nchan, nbl, 2), dtype=np.float32)\n",
    "ics = np.zeros((nt, nchan), dtype=np.float32)\n",
    "cas = np.zeros((nt, nchan), dtype=np.float32)\n",
    "\n",
    "vin.size"
   ]
  },
  {
   "cell_type": "code",
   "execution_count": 3,
   "id": "033752bb",
   "metadata": {},
   "outputs": [],
   "source": [
    "# For type hint info see https://numba.pydata.org/numba-doc/0.12.2/tutorial_types.html\n",
    "@njit(fastmath=True, parallel=True, locals={'vabs':numba.float32})\n",
    "def make_averages(nant, vin, vavg, ics, cas):\n",
    "    nchan,nbl, nt, _ = vin.shape\n",
    "    \n",
    "    for ic in range(nchan):\n",
    "        ibl = 0\n",
    "        for ia1 in range(nant):\n",
    "            for ia2 in range(ia1, nant):\n",
    "                #print(ia1, ia2, ibl, nbl)\n",
    "                #assert ibl < nbl#, f'Invalid ibl {ia1} {ia2} {ibl} {nbl}'\n",
    "                \n",
    "                for it in range(nt):\n",
    "                    v = vin[ic, ibl, it, :]\n",
    "                    #v = np.array([0,1])\n",
    "                    vabs = v[0]*v[0] + v[1]*v[1]\n",
    "                    if ia1 == ia2:\n",
    "                        ics[it, ic] += vabs\n",
    "                    else:\n",
    "                        cas[it, ic] += vabs\n",
    "\n",
    "                    #print('out', ibl, ic, it)\n",
    "                    vavg[ic, ibl, 0] += v[0]\n",
    "                    vavg[ic, ibl, 1] += v[1]\n",
    "                    \n",
    "                    #print('done', ibl, ic, it)\n",
    "\n",
    "\n",
    "                ibl += 1\n",
    "\n",
    "    ics //= nant\n",
    "    cas //= nbl\n",
    "    vavg //= nt\n",
    "            \n"
   ]
  },
  {
   "cell_type": "code",
   "execution_count": 4,
   "id": "2ae89742",
   "metadata": {},
   "outputs": [
    {
     "name": "stderr",
     "output_type": "stream",
     "text": [
      "/data/seren-01/fast/ban115/build/venv3.6/lib/python3.6/site-packages/numba/core/typed_passes.py:327: NumbaPerformanceWarning: \n",
      "The keyword argument 'parallel=True' was specified but no transformation for parallel execution was possible.\n",
      "\n",
      "To find out why, try turning on parallel diagnostics, see https://numba.pydata.org/numba-doc/latest/user/parallel.html#diagnostics for help.\n",
      "\n",
      "File \"<ipython-input-3-34d199a97e29>\", line 3:\n",
      "@njit(fastmath=True, parallel=True, locals={'vabs':numba.float32})\n",
      "def make_averages(nant, vin, vavg, ics, cas):\n",
      "^\n",
      "\n",
      "  state.func_ir.loc))\n"
     ]
    }
   ],
   "source": [
    "for i in range(1):\n",
    "    make_averages(nant, vin, vavg, ics, cas)"
   ]
  },
  {
   "cell_type": "code",
   "execution_count": 5,
   "id": "23e3811d",
   "metadata": {},
   "outputs": [
    {
     "name": "stdout",
     "output_type": "stream",
     "text": [
      " \n",
      "================================================================================\n",
      " Parallel Accelerator Optimizing:  Function make_averages, <ipython-\n",
      "input-3-34d199a97e29> (2)  \n",
      "================================================================================\n",
      "No source available\n",
      "--------------------------------- Fusing loops ---------------------------------\n",
      "Attempting fusion of parallel loops (combines loops with similar properties)...\n",
      "----------------------------- Before Optimisation ------------------------------\n",
      "--------------------------------------------------------------------------------\n",
      "------------------------------ After Optimisation ------------------------------\n",
      "Parallel structure is already optimal.\n",
      "--------------------------------------------------------------------------------\n",
      "--------------------------------------------------------------------------------\n",
      " \n",
      "---------------------------Loop invariant code motion---------------------------\n",
      "Allocation hoisting:\n",
      "No allocation hoisting found\n",
      "\n",
      "Instruction hoisting:\n",
      "No instruction hoisting found\n",
      "--------------------------------------------------------------------------------\n"
     ]
    }
   ],
   "source": [
    "make_averages.parallel_diagnostics(level=4)\n"
   ]
  },
  {
   "cell_type": "code",
   "execution_count": 6,
   "id": "e40169fb",
   "metadata": {},
   "outputs": [
    {
     "name": "stdout",
     "output_type": "stream",
     "text": [
      "2.19 ms ± 74.2 µs per loop (mean ± std. dev. of 7 runs, 1 loop each)\n"
     ]
    }
   ],
   "source": [
    "%timeit -n1 make_averages(nant, vin, vavg, ics, cas)"
   ]
  },
  {
   "cell_type": "code",
   "execution_count": 7,
   "id": "d1cfd56d",
   "metadata": {},
   "outputs": [
    {
     "data": {
      "text/plain": [
       "(24, 465, 32, 2)"
      ]
     },
     "execution_count": 7,
     "metadata": {},
     "output_type": "execute_result"
    }
   ],
   "source": [
    "vin.shape"
   ]
  },
  {
   "cell_type": "code",
   "execution_count": 8,
   "id": "6c9677e0",
   "metadata": {
    "scrolled": true
   },
   "outputs": [
    {
     "name": "stdout",
     "output_type": "stream",
     "text": [
      "make_averages (int64, array(int16, 4d, C), array(float32, 3d, C), array(float32, 2d, C), array(float32, 2d, C))\n",
      "--------------------------------------------------------------------------------\n",
      "# File: <ipython-input-3-34d199a97e29>\n",
      "# --- LINE 2 --- \n",
      "\n",
      "@njit(fastmath=True, parallel=True, locals={'vabs':numba.float32})\n",
      "\n",
      "# --- LINE 3 --- \n",
      "\n",
      "def make_averages(nant, vin, vavg, ics, cas):\n",
      "\n",
      "    # --- LINE 4 --- \n",
      "    # label 0\n",
      "    #   nant = arg(0, name=nant)  :: int64\n",
      "    #   vin = arg(1, name=vin)  :: array(int16, 4d, C)\n",
      "    #   vavg = arg(2, name=vavg)  :: array(float32, 3d, C)\n",
      "    #   ics = arg(3, name=ics)  :: array(float32, 2d, C)\n",
      "    #   cas = arg(4, name=cas)  :: array(float32, 2d, C)\n",
      "    #   $0.2 = getattr(value=vin, attr=shape)  :: UniTuple(int64 x 4)\n",
      "    #   $0.7 = exhaust_iter(value=$0.2, count=4)  :: UniTuple(int64 x 4)\n",
      "    #   del $0.2\n",
      "    #   $nchan.28 = static_getitem(value=$0.7, index=0, index_var=None, fn=<built-in function getitem>)  :: int64\n",
      "    #   $nbl.29 = static_getitem(value=$0.7, index=1, index_var=None, fn=<built-in function getitem>)  :: int64\n",
      "    #   $nt.30 = static_getitem(value=$0.7, index=2, index_var=None, fn=<built-in function getitem>)  :: int64\n",
      "    #   $_.31 = static_getitem(value=$0.7, index=3, index_var=None, fn=<built-in function getitem>)  :: int64\n",
      "    #   del $0.7\n",
      "    #   nchan = $nchan.28  :: int64\n",
      "    #   del $0.3\n",
      "    #   nbl = $nbl.29  :: int64\n",
      "    #   del $0.4\n",
      "    #   nt = $nt.30  :: int64\n",
      "    #   del $0.5\n",
      "    #   _ = $_.31  :: int64\n",
      "    #   del _\n",
      "    #   del $0.6\n",
      "\n",
      "    nchan,nbl, nt, _ = vin.shape\n",
      "\n",
      "# --- LINE 5 --- \n",
      "\n",
      "\n",
      "\n",
      "    # --- LINE 6 --- \n",
      "    #   jump 16\n",
      "    # label 16\n",
      "    #   jump 18\n",
      "    # label 18\n",
      "    #   $18.1 = global(range: <class 'range'>)  :: Function(<class 'range'>)\n",
      "    #   $18.3 = call $18.1($nchan.28, func=$18.1, args=[Var($nchan.28, <ipython-input-3-34d199a97e29>:4)], kws=(), vararg=None)  :: (int64,) -> range_state_int64\n",
      "    #   del nchan\n",
      "    #   del $18.1\n",
      "    #   $18.4 = getiter(value=$18.3)  :: range_iter_int64\n",
      "    #   del $18.3\n",
      "    #   $phi26.1 = $18.4  :: range_iter_int64\n",
      "    #   del $18.4\n",
      "    #   jump 26\n",
      "    # label 26\n",
      "    #   $26.2 = iternext(value=$18.4)  :: pair<int64, bool>\n",
      "    #   $ic.32 = pair_first(value=$26.2)  :: int64\n",
      "    #   $26.4 = pair_second(value=$26.2)  :: bool\n",
      "    #   del $26.2\n",
      "    #   $ic.33 = $ic.32  :: int64\n",
      "    #   $phi254.1 = $ic.32  :: int64\n",
      "    #   del $phi254.1\n",
      "    #   del $26.3\n",
      "    #   $phi254.2 = $18.4  :: range_iter_int64\n",
      "    #   del $phi254.2\n",
      "    #   branch $26.4, 28, 254\n",
      "    # label 28\n",
      "    #   del $26.4\n",
      "    #   ic = $ic.32  :: int64\n",
      "    #   del $phi28.1\n",
      "\n",
      "    for ic in range(nchan):\n",
      "\n",
      "        # --- LINE 7 --- \n",
      "        #   ibl = const(int, 0)  :: Literal[int](0)\n",
      "\n",
      "        ibl = 0\n",
      "\n",
      "        # --- LINE 8 --- \n",
      "        #   jump 34\n",
      "        # label 34\n",
      "        #   jump 36\n",
      "        # label 36\n",
      "        #   $36.1 = global(range: <class 'range'>)  :: Function(<class 'range'>)\n",
      "        #   $36.3 = call $36.1(nant, func=$36.1, args=[Var(nant, <ipython-input-3-34d199a97e29>:4)], kws=(), vararg=None)  :: (int64,) -> range_state_int64\n",
      "        #   del $36.1\n",
      "        #   $36.4 = getiter(value=$36.3)  :: range_iter_int64\n",
      "        #   del $36.3\n",
      "        #   $phi44.1 = $36.4  :: range_iter_int64\n",
      "        #   del $36.4\n",
      "        #   jump 44\n",
      "        # label 44\n",
      "        #   $44.2 = iternext(value=$36.4)  :: pair<int64, bool>\n",
      "        #   $ia1.34 = pair_first(value=$44.2)  :: int64\n",
      "        #   $44.4 = pair_second(value=$44.2)  :: bool\n",
      "        #   del $44.2\n",
      "        #   $ia1.35 = $ia1.34  :: int64\n",
      "        #   $phi250.1 = $ia1.34  :: int64\n",
      "        #   del $phi250.1\n",
      "        #   del $44.3\n",
      "        #   $phi250.2 = $36.4  :: range_iter_int64\n",
      "        #   del $phi250.2\n",
      "        #   branch $44.4, 46, 250\n",
      "        # label 46\n",
      "        #   del ibl.2\n",
      "        #   del $44.4\n",
      "        #   ia1 = $ia1.34  :: int64\n",
      "        #   del $phi46.1\n",
      "\n",
      "        for ia1 in range(nant):\n",
      "\n",
      "            # --- LINE 9 --- \n",
      "            #   jump 48\n",
      "            # label 48\n",
      "            #   jump 50\n",
      "            # label 50\n",
      "            #   $50.1 = global(range: <class 'range'>)  :: Function(<class 'range'>)\n",
      "            #   $50.4 = call $50.1($ia1.34, nant, func=$50.1, args=[Var($ia1.34, <ipython-input-3-34d199a97e29>:8), Var(nant, <ipython-input-3-34d199a97e29>:4)], kws=(), vararg=None)  :: (int64, int64) -> range_state_int64\n",
      "            #   del $50.1\n",
      "            #   $50.5 = getiter(value=$50.4)  :: range_iter_int64\n",
      "            #   del $50.4\n",
      "            #   $phi60.1 = $50.5  :: range_iter_int64\n",
      "            #   del $50.5\n",
      "            #   jump 60\n",
      "            # label 60\n",
      "            #   $60.2 = iternext(value=$50.5)  :: pair<int64, bool>\n",
      "            #   $ia2.36 = pair_first(value=$60.2)  :: int64\n",
      "            #   $60.4 = pair_second(value=$60.2)  :: bool\n",
      "            #   del $60.2\n",
      "            #   $ia2.37 = $ia2.36  :: int64\n",
      "            #   $phi246.1 = $ia2.36  :: int64\n",
      "            #   del $phi246.1\n",
      "            #   del $60.3\n",
      "            #   $phi246.2 = $50.5  :: range_iter_int64\n",
      "            #   del $phi246.2\n",
      "            #   branch $60.4, 62, 246\n",
      "            # label 62\n",
      "            #   del ibl.1\n",
      "            #   del $60.4\n",
      "            #   ia2 = $ia2.36  :: int64\n",
      "            #   del $phi62.1\n",
      "\n",
      "            for ia2 in range(ia1, nant):\n",
      "\n",
      "                # --- LINE 10 --- \n",
      "\n",
      "                #print(ia1, ia2, ibl, nbl)\n",
      "\n",
      "                # --- LINE 11 --- \n",
      "\n",
      "                #assert ibl < nbl#, f'Invalid ibl {ia1} {ia2} {ibl} {nbl}'\n",
      "\n",
      "# --- LINE 12 --- \n",
      "\n",
      "\n",
      "\n",
      "                # --- LINE 13 --- \n",
      "                #   ibl.3 = phi(incoming_values=[Var(ibl.2, <ipython-input-3-34d199a97e29>:13), Var(ibl, <ipython-input-3-34d199a97e29>:7)], incoming_blocks=[248, 36])  :: int64\n",
      "                #   ibl.2 = phi(incoming_values=[Var(ibl.3, <ipython-input-3-34d199a97e29>:13), Var(ibl.1, <ipython-input-3-34d199a97e29>:29)], incoming_blocks=[50, 236])  :: int64\n",
      "                #   jump 64\n",
      "                # label 64\n",
      "                #   jump 66\n",
      "                # label 66\n",
      "                #   $66.1 = global(range: <class 'range'>)  :: Function(<class 'range'>)\n",
      "                #   $66.3 = call $66.1($nt.30, func=$66.1, args=[Var($nt.30, <ipython-input-3-34d199a97e29>:4)], kws=(), vararg=None)  :: (int64,) -> range_state_int64\n",
      "                #   del $66.1\n",
      "                #   $66.4 = getiter(value=$66.3)  :: range_iter_int64\n",
      "                #   del $66.3\n",
      "                #   $phi74.1 = $66.4  :: range_iter_int64\n",
      "                #   del $66.4\n",
      "                #   jump 74\n",
      "                # label 74\n",
      "                #   $74.2 = iternext(value=$66.4)  :: pair<int64, bool>\n",
      "                #   $it.38 = pair_first(value=$74.2)  :: int64\n",
      "                #   $74.4 = pair_second(value=$74.2)  :: bool\n",
      "                #   del $74.2\n",
      "                #   $it.39 = $it.38  :: int64\n",
      "                #   $phi234.1 = $it.38  :: int64\n",
      "                #   del $phi234.1\n",
      "                #   del $74.3\n",
      "                #   $phi234.2 = $66.4  :: range_iter_int64\n",
      "                #   del $phi234.2\n",
      "                #   branch $74.4, 76, 234\n",
      "                # label 76\n",
      "                #   del $74.4\n",
      "                #   it = $it.38  :: int64\n",
      "                #   del $phi76.1\n",
      "\n",
      "                for it in range(nt):\n",
      "\n",
      "                    # --- LINE 14 --- \n",
      "                    #   $const76.6 = const(NoneType, None)  :: none\n",
      "                    #   $const76.7 = const(NoneType, None)  :: none\n",
      "                    #   $76.8 = global(slice: <class 'slice'>)  :: Function(<class 'slice'>)\n",
      "                    #   $76.9 = call $76.8($const76.6, $const76.7, func=$76.8, args=(Var($const76.6, <ipython-input-3-34d199a97e29>:14), Var($const76.7, <ipython-input-3-34d199a97e29>:14)), kws=(), vararg=None)  :: (none, none) -> slice<a:b>\n",
      "                    #   del $const76.7\n",
      "                    #   del $const76.6\n",
      "                    #   del $76.8\n",
      "                    #   $76.10 = build_tuple(items=[Var($ic.32, <ipython-input-3-34d199a97e29>:6), Var(ibl.2, <ipython-input-3-34d199a97e29>:13), Var($it.38, <ipython-input-3-34d199a97e29>:13), Var($76.9, <ipython-input-3-34d199a97e29>:14)])  :: Tuple(int64, int64, int64, slice<a:b>)\n",
      "                    #   del $76.9\n",
      "                    #   v = getitem(value=vin, index=$76.10, fn=<built-in function getitem>)  :: array(int16, 1d, C)\n",
      "                    #   del $76.10\n",
      "\n",
      "                    v = vin[ic, ibl, it, :]\n",
      "\n",
      "                    # --- LINE 15 --- \n",
      "\n",
      "                    #v = np.array([0,1])\n",
      "\n",
      "                    # --- LINE 16 --- \n",
      "                    #   $const76.13 = const(int, 0)  :: Literal[int](0)\n",
      "                    #   $76.14 = static_getitem(value=v, index=0, index_var=$const76.13, fn=<built-in function getitem>)  :: int16\n",
      "                    #   del $const76.13\n",
      "                    #   $const76.16 = const(int, 0)  :: Literal[int](0)\n",
      "                    #   $76.17 = static_getitem(value=v, index=0, index_var=$const76.16, fn=<built-in function getitem>)  :: int16\n",
      "                    #   del $const76.16\n",
      "                    #   $76.18 = $76.14 * $76.17  :: int64\n",
      "                    #   del $76.17\n",
      "                    #   del $76.14\n",
      "                    #   $const76.20 = const(int, 1)  :: Literal[int](1)\n",
      "                    #   $76.21 = static_getitem(value=v, index=1, index_var=$const76.20, fn=<built-in function getitem>)  :: int16\n",
      "                    #   del $const76.20\n",
      "                    #   $const76.23 = const(int, 1)  :: Literal[int](1)\n",
      "                    #   $76.24 = static_getitem(value=v, index=1, index_var=$const76.23, fn=<built-in function getitem>)  :: int16\n",
      "                    #   del $const76.23\n",
      "                    #   $76.25 = $76.21 * $76.24  :: int64\n",
      "                    #   del $76.24\n",
      "                    #   del $76.21\n",
      "                    #   vabs = $76.18 + $76.25  :: float32\n",
      "                    #   del $76.25\n",
      "                    #   del $76.18\n",
      "\n",
      "                    vabs = v[0]*v[0] + v[1]*v[1]\n",
      "\n",
      "                    # --- LINE 17 --- \n",
      "                    #   $76.29 = $ia1.34 == $ia2.36  :: bool\n",
      "                    #   bool136 = global(bool: <class 'bool'>)  :: Function(<class 'bool'>)\n",
      "                    #   $136pred = call bool136($76.29, func=bool136, args=(Var($76.29, <ipython-input-3-34d199a97e29>:17),), kws=(), vararg=None)  :: (bool,) -> bool\n",
      "                    #   del bool136\n",
      "                    #   del $76.29\n",
      "                    #   branch $136pred, 138, 160\n",
      "\n",
      "                    if ia1 == ia2:\n",
      "\n",
      "                        # --- LINE 18 --- \n",
      "                        # label 138\n",
      "                        #   del $136pred\n",
      "                        #   $138.4 = build_tuple(items=[Var($it.38, <ipython-input-3-34d199a97e29>:13), Var($ic.32, <ipython-input-3-34d199a97e29>:6)])  :: UniTuple(int64 x 2)\n",
      "                        #   del it\n",
      "                        #   $138.7 = getitem(value=ics, index=$138.4, fn=<built-in function getitem>)  :: float32\n",
      "                        #   $138.9 = inplace_binop(fn=<built-in function iadd>, immutable_fn=<built-in function add>, lhs=$138.7, rhs=vabs, static_lhs=Undefined, static_rhs=Undefined)  :: float32\n",
      "                        #   del vabs\n",
      "                        #   del $138.7\n",
      "                        #   ics[$138.4] = $138.9  :: (array(float32, 2d, C), UniTuple(int64 x 2), float32) -> none\n",
      "                        #   del $138.9\n",
      "                        #   del $138.4\n",
      "                        #   jump 180\n",
      "\n",
      "                        ics[it, ic] += vabs\n",
      "\n",
      "                    # --- LINE 19 --- \n",
      "\n",
      "                    else:\n",
      "\n",
      "                        # --- LINE 20 --- \n",
      "                        # label 160\n",
      "                        #   del $136pred\n",
      "                        #   $160.4 = build_tuple(items=[Var($it.38, <ipython-input-3-34d199a97e29>:13), Var($ic.32, <ipython-input-3-34d199a97e29>:6)])  :: UniTuple(int64 x 2)\n",
      "                        #   del it\n",
      "                        #   $160.7 = getitem(value=cas, index=$160.4, fn=<built-in function getitem>)  :: float32\n",
      "                        #   $160.9 = inplace_binop(fn=<built-in function iadd>, immutable_fn=<built-in function add>, lhs=$160.7, rhs=vabs, static_lhs=Undefined, static_rhs=Undefined)  :: float32\n",
      "                        #   del vabs\n",
      "                        #   del $160.7\n",
      "                        #   cas[$160.4] = $160.9  :: (array(float32, 2d, C), UniTuple(int64 x 2), float32) -> none\n",
      "                        #   del $160.9\n",
      "                        #   del $160.4\n",
      "\n",
      "                        cas[it, ic] += vabs\n",
      "\n",
      "# --- LINE 21 --- \n",
      "\n",
      "\n",
      "\n",
      "                    # --- LINE 22 --- \n",
      "\n",
      "                    #print('out', ibl, ic, it)\n",
      "\n",
      "                    # --- LINE 23 --- \n",
      "                    #   jump 180\n",
      "                    # label 180\n",
      "                    #   $const180.4 = const(int, 0)  :: Literal[int](0)\n",
      "                    #   $180.5 = build_tuple(items=[Var($ic.32, <ipython-input-3-34d199a97e29>:6), Var(ibl.2, <ipython-input-3-34d199a97e29>:13), Var($const180.4, <ipython-input-3-34d199a97e29>:23)])  :: Tuple(int64, int64, Literal[int](0))\n",
      "                    #   del $const180.4\n",
      "                    #   $180.8 = getitem(value=vavg, index=$180.5, fn=<built-in function getitem>)  :: float32\n",
      "                    #   $const180.10 = const(int, 0)  :: Literal[int](0)\n",
      "                    #   $180.11 = static_getitem(value=v, index=0, index_var=$const180.10, fn=<built-in function getitem>)  :: int16\n",
      "                    #   del $const180.10\n",
      "                    #   $180.12 = inplace_binop(fn=<built-in function iadd>, immutable_fn=<built-in function add>, lhs=$180.8, rhs=$180.11, static_lhs=Undefined, static_rhs=Undefined)  :: float32\n",
      "                    #   del $180.8\n",
      "                    #   del $180.11\n",
      "                    #   vavg[$180.5] = $180.12  :: (array(float32, 3d, C), UniTuple(int64 x 3), float32) -> none\n",
      "                    #   del $180.5\n",
      "                    #   del $180.12\n",
      "\n",
      "                    vavg[ic, ibl, 0] += v[0]\n",
      "\n",
      "                    # --- LINE 24 --- \n",
      "                    #   $const180.16 = const(int, 1)  :: Literal[int](1)\n",
      "                    #   $180.17 = build_tuple(items=[Var($ic.32, <ipython-input-3-34d199a97e29>:6), Var(ibl.2, <ipython-input-3-34d199a97e29>:13), Var($const180.16, <ipython-input-3-34d199a97e29>:24)])  :: Tuple(int64, int64, Literal[int](1))\n",
      "                    #   del $const180.16\n",
      "                    #   $180.20 = getitem(value=vavg, index=$180.17, fn=<built-in function getitem>)  :: float32\n",
      "                    #   $const180.22 = const(int, 1)  :: Literal[int](1)\n",
      "                    #   $180.23 = static_getitem(value=v, index=1, index_var=$const180.22, fn=<built-in function getitem>)  :: int16\n",
      "                    #   del v\n",
      "                    #   del $const180.22\n",
      "                    #   $180.24 = inplace_binop(fn=<built-in function iadd>, immutable_fn=<built-in function add>, lhs=$180.20, rhs=$180.23, static_lhs=Undefined, static_rhs=Undefined)  :: float32\n",
      "                    #   del $180.23\n",
      "                    #   del $180.20\n",
      "                    #   vavg[$180.17] = $180.24  :: (array(float32, 3d, C), UniTuple(int64 x 3), float32) -> none\n",
      "                    #   del $180.24\n",
      "                    #   del $180.17\n",
      "                    #   jump 74\n",
      "                    # label 234\n",
      "\n",
      "                    vavg[ic, ibl, 1] += v[1]\n",
      "\n",
      "# --- LINE 25 --- \n",
      "\n",
      "\n",
      "\n",
      "                    # --- LINE 26 --- \n",
      "\n",
      "                    #print('done', ibl, ic, it)\n",
      "\n",
      "# --- LINE 27 --- \n",
      "\n",
      "\n",
      "\n",
      "# --- LINE 28 --- \n",
      "\n",
      "\n",
      "\n",
      "                # --- LINE 29 --- \n",
      "                #   del ia2\n",
      "                #   del $phi76.1\n",
      "                #   del $phi74.1\n",
      "                #   del $74.4\n",
      "                #   jump 236\n",
      "                # label 236\n",
      "                #   $const236.2 = const(int, 1)  :: Literal[int](1)\n",
      "                #   $ibl.2.42 = inplace_binop(fn=<built-in function iadd>, immutable_fn=<built-in function add>, lhs=ibl.2, rhs=$const236.2, static_lhs=Undefined, static_rhs=Undefined)  :: int64\n",
      "                #   del ibl.2\n",
      "                #   del $const236.2\n",
      "                #   ibl.1 = $ibl.1.40  :: int64\n",
      "                #   del $236.3\n",
      "                #   jump 60\n",
      "                # label 246\n",
      "                #   del ibl.3\n",
      "                #   del ia1\n",
      "                #   del $phi62.1\n",
      "                #   del $phi60.1\n",
      "                #   del $60.4\n",
      "                #   jump 248\n",
      "                # label 248\n",
      "                #   jump 44\n",
      "                # label 250\n",
      "                #   del ic\n",
      "                #   del ibl.3\n",
      "                #   del ibl\n",
      "                #   del $phi46.1\n",
      "                #   del $phi44.1\n",
      "                #   del $44.4\n",
      "                #   jump 252\n",
      "                # label 252\n",
      "                #   jump 26\n",
      "                # label 254\n",
      "\n",
      "                ibl += 1\n",
      "\n",
      "# --- LINE 30 --- \n",
      "\n",
      "\n",
      "\n",
      "    # --- LINE 31 --- \n",
      "    #   del vin\n",
      "    #   del ibl.2\n",
      "    #   del ibl.1\n",
      "    #   del $phi28.1\n",
      "    #   del $phi26.1\n",
      "    #   del $26.4\n",
      "    #   jump 256\n",
      "    # label 256\n",
      "    #   ics.1 = inplace_binop(fn=<built-in function ifloordiv>, immutable_fn=<built-in function floordiv>, lhs=ics, rhs=nant, static_lhs=Undefined, static_rhs=Undefined)  :: array(float32, 2d, C)\n",
      "    #   del nant\n",
      "    #   del ics.1\n",
      "    #   del ics\n",
      "\n",
      "    ics //= nant\n",
      "\n",
      "    # --- LINE 32 --- \n",
      "    #   cas.1 = inplace_binop(fn=<built-in function ifloordiv>, immutable_fn=<built-in function floordiv>, lhs=cas, rhs=$nbl.29, static_lhs=Undefined, static_rhs=Undefined)  :: array(float32, 2d, C)\n",
      "    #   del nbl\n",
      "    #   del cas.1\n",
      "    #   del cas\n",
      "\n",
      "    cas //= nbl\n",
      "\n",
      "    # --- LINE 33 --- \n",
      "    #   vavg.1 = inplace_binop(fn=<built-in function ifloordiv>, immutable_fn=<built-in function floordiv>, lhs=vavg, rhs=$nt.30, static_lhs=Undefined, static_rhs=Undefined)  :: array(float32, 3d, C)\n",
      "    #   del vavg.1\n",
      "    #   del vavg\n",
      "    #   del nt\n",
      "    #   $const256.10 = const(NoneType, None)  :: none\n",
      "    #   $256.11 = cast(value=$const256.10)  :: none\n",
      "    #   del $const256.10\n",
      "    #   return $256.11\n",
      "\n",
      "    vavg //= nt\n",
      "\n",
      "\n",
      "================================================================================\n"
     ]
    }
   ],
   "source": [
    "make_averages.inspect_types()"
   ]
  },
  {
   "cell_type": "code",
   "execution_count": 9,
   "id": "e1ddb7f2",
   "metadata": {},
   "outputs": [],
   "source": [
    "from craco.cardcapfile import  get_single_packet_dtype, NCHAN,get_indexes\n",
    "%aimport craco.card_averager\n",
    "from craco.card_averager import *\n",
    "import craco.card_averager as avg"
   ]
  },
  {
   "cell_type": "code",
   "execution_count": 10,
   "id": "3054c4aa",
   "metadata": {},
   "outputs": [
    {
     "name": "stdout",
     "output_type": "stream",
     "text": [
      "(6, 144, 16)\n",
      "(6, 144, 16, 2, 465, 1, 2)\n"
     ]
    }
   ],
   "source": [
    "nfpga = 6\n",
    "nbeam = 36\n",
    "nc_per_fpga = 4\n",
    "nt = 16\n",
    "npkt = nbeam*nc_per_fpga\n",
    "pktshape = (npkt, nt)\n",
    "polsum = True\n",
    "debughdr = True\n",
    "dtype = get_single_packet_dtype(nbl, debughdr, polsum)\n",
    "din_list = [np.zeros(pktshape, dtype=dtype) for i in range(nfpga)]\n",
    "packets = [pkt for pkt in din_list]\n",
    "packet_list = List()\n",
    "[packet_list.append(self.dummy_packet if pkt is None else pkt) for pkt in packets]\n",
    "_,_,auto_idxs,cross_idxs = get_indexes(nant)\n",
    "din = np.array(din_list)\n",
    "tscrunch = 4\n",
    "data = din['data']\n",
    "print(din.shape)\n",
    "print(data.shape)\n"
   ]
  },
  {
   "cell_type": "code",
   "execution_count": 11,
   "id": "2c7b075f",
   "metadata": {},
   "outputs": [
    {
     "data": {
      "text/plain": [
       "(6, 144, 16, 2, 465, 1, 2)"
      ]
     },
     "execution_count": 11,
     "metadata": {},
     "output_type": "execute_result"
    }
   ],
   "source": [
    "din['data'].shape"
   ]
  },
  {
   "cell_type": "code",
   "execution_count": 12,
   "id": "7646248b",
   "metadata": {},
   "outputs": [],
   "source": [
    "np.array?"
   ]
  },
  {
   "cell_type": "code",
   "execution_count": 13,
   "id": "32b3eba8",
   "metadata": {},
   "outputs": [
    {
     "name": "stdout",
     "output_type": "stream",
     "text": [
      "12.5 ms ± 501 µs per loop (mean ± std. dev. of 7 runs, 100 loops each)\n"
     ]
    }
   ],
   "source": [
    "%timeit np.array(din_list)"
   ]
  },
  {
   "cell_type": "code",
   "execution_count": 14,
   "id": "7be1d83e",
   "metadata": {},
   "outputs": [
    {
     "name": "stdout",
     "output_type": "stream",
     "text": [
      "The slowest run took 6.70 times longer than the fastest. This could mean that an intermediate result is being cached.\n",
      "24.8 ms ± 23.8 ms per loop (mean ± std. dev. of 7 runs, 100 loops each)\n"
     ]
    }
   ],
   "source": [
    "%timeit np.array(packets)"
   ]
  },
  {
   "cell_type": "code",
   "execution_count": 15,
   "id": "db8ee9ef",
   "metadata": {},
   "outputs": [
    {
     "name": "stdout",
     "output_type": "stream",
     "text": [
      "13.5 ms ± 242 µs per loop (mean ± std. dev. of 7 runs, 1 loop each)\n"
     ]
    }
   ],
   "source": [
    "%timeit np.array(packet_list)"
   ]
  },
  {
   "cell_type": "code",
   "execution_count": 19,
   "id": "67815cad",
   "metadata": {},
   "outputs": [],
   "source": [
    "dout = avg.average0(din)"
   ]
  },
  {
   "cell_type": "code",
   "execution_count": 20,
   "id": "c2c4b7cb",
   "metadata": {},
   "outputs": [
    {
     "name": "stdout",
     "output_type": "stream",
     "text": [
      "(144, 16, 2, 465, 2)\n",
      "39.9 ms ± 720 µs per loop (mean ± std. dev. of 7 runs, 10 loops each)\n"
     ]
    }
   ],
   "source": [
    "print(avg.average0(din).shape)\n",
    "%timeit avg.average0(din)"
   ]
  },
  {
   "cell_type": "code",
   "execution_count": 21,
   "id": "ee6ba9a4",
   "metadata": {},
   "outputs": [
    {
     "name": "stdout",
     "output_type": "stream",
     "text": [
      "(144, 465, 2)\n",
      "13.6 ms ± 703 µs per loop (mean ± std. dev. of 7 runs, 100 loops each)\n"
     ]
    }
   ],
   "source": [
    "print(avg.average1(din).shape)\n",
    "%timeit avg.average1(din)"
   ]
  },
  {
   "cell_type": "code",
   "execution_count": 22,
   "id": "6ccf354a",
   "metadata": {},
   "outputs": [
    {
     "name": "stdout",
     "output_type": "stream",
     "text": [
      "1.97 ms ± 31.2 µs per loop (mean ± std. dev. of 7 runs, 100 loops each)\n"
     ]
    }
   ],
   "source": [
    "%timeit dout.astype(np.int16)"
   ]
  },
  {
   "cell_type": "code",
   "execution_count": 23,
   "id": "0c260d8d",
   "metadata": {},
   "outputs": [
    {
     "name": "stdout",
     "output_type": "stream",
     "text": [
      "18.2 ms ± 1.55 ms per loop (mean ± std. dev. of 7 runs, 100 loops each)\n"
     ]
    }
   ],
   "source": [
    "(nfpga, npkt, nt1, nt2, nbl, npol, _) = data.shape\n",
    "# This reshape takes 19 milliseconds!\n",
    "%timeit dreshape =  din['data'].reshape(nfpga, npkt, 1, nt1*nt2, nbl, npol, 2)\n"
   ]
  },
  {
   "cell_type": "code",
   "execution_count": 24,
   "id": "c62e9549",
   "metadata": {},
   "outputs": [
    {
     "name": "stdout",
     "output_type": "stream",
     "text": [
      "(144, 1, 465, 2)\n",
      "33.1 ms ± 1.31 ms per loop (mean ± std. dev. of 7 runs, 10 loops each)\n"
     ]
    }
   ],
   "source": [
    "print(avg.average2(din, tscrunch=32).shape)\n",
    "\n",
    "%timeit avg.average2(din, tscrunch=4)"
   ]
  },
  {
   "cell_type": "code",
   "execution_count": 25,
   "id": "f83838d1",
   "metadata": {},
   "outputs": [
    {
     "name": "stdout",
     "output_type": "stream",
     "text": [
      "34.3 ms ± 778 µs per loop (mean ± std. dev. of 7 runs, 10 loops each)\n"
     ]
    }
   ],
   "source": [
    "%timeit average3(din, tscrunch=2)"
   ]
  },
  {
   "cell_type": "code",
   "execution_count": 26,
   "id": "467931cf",
   "metadata": {},
   "outputs": [
    {
     "name": "stdout",
     "output_type": "stream",
     "text": [
      "32.2 ms ± 905 µs per loop (mean ± std. dev. of 7 runs, 10 loops each)\n"
     ]
    }
   ],
   "source": [
    "%timeit average4(din, tscrunch=2)"
   ]
  },
  {
   "cell_type": "code",
   "execution_count": 27,
   "id": "4b2b8895",
   "metadata": {},
   "outputs": [
    {
     "name": "stdout",
     "output_type": "stream",
     "text": [
      "31.4 ms ± 2.7 ms per loop (mean ± std. dev. of 7 runs, 10 loops each)\n"
     ]
    }
   ],
   "source": [
    "data = din['data']\n",
    "(nfpga, npkt, nt1, nt2, nbl, _, _) = data.shape\n",
    "dshape = (npkt, nt1*nt2 // tscrunch, nbl, 2)\n",
    "dout = np.zeros(dshape, dtype=np.float32)\n",
    "%timeit avg.average4(din, tscrunch=tscrunch, dout=dout)"
   ]
  },
  {
   "cell_type": "code",
   "execution_count": 28,
   "id": "8e72b7ab",
   "metadata": {},
   "outputs": [
    {
     "name": "stdout",
     "output_type": "stream",
     "text": [
      "32.4 ms ± 979 µs per loop (mean ± std. dev. of 7 runs, 10 loops each)\n"
     ]
    }
   ],
   "source": [
    "%timeit avg.average4(din, tscrunch=tscrunch, dout=None)"
   ]
  },
  {
   "cell_type": "code",
   "execution_count": 29,
   "id": "496a0838",
   "metadata": {},
   "outputs": [],
   "source": [
    "import llvmlite.binding as llvm\n",
    "llvm.set_option('', '--debug-only=loop-vectorize')"
   ]
  },
  {
   "cell_type": "code",
   "execution_count": 30,
   "id": "0c041bfb",
   "metadata": {},
   "outputs": [
    {
     "data": {
      "text/plain": [
       "dtype('int16')"
      ]
     },
     "execution_count": 30,
     "metadata": {},
     "output_type": "execute_result"
    }
   ],
   "source": [
    "data.dtype"
   ]
  },
  {
   "cell_type": "code",
   "execution_count": 31,
   "id": "aa915912",
   "metadata": {},
   "outputs": [
    {
     "data": {
      "text/plain": [
       "dtype('float32')"
      ]
     },
     "execution_count": 31,
     "metadata": {},
     "output_type": "execute_result"
    }
   ],
   "source": [
    "dout.dtype"
   ]
  },
  {
   "cell_type": "code",
   "execution_count": 32,
   "id": "47e6630a",
   "metadata": {},
   "outputs": [
    {
     "data": {
      "text/plain": [
       "(6, 144, 16, 2, 465, 1, 2)"
      ]
     },
     "execution_count": 32,
     "metadata": {},
     "output_type": "execute_result"
    }
   ],
   "source": [
    "data.shape"
   ]
  },
  {
   "cell_type": "code",
   "execution_count": 33,
   "id": "e6c09b3e",
   "metadata": {},
   "outputs": [
    {
     "name": "stdout",
     "output_type": "stream",
     "text": [
      "81.5 ms ± 2.58 ms per loop (mean ± std. dev. of 7 runs, 10 loops each)\n"
     ]
    }
   ],
   "source": [
    "avg.average5(data, tscrunch=tscrunch, dout=dout)\n",
    "%timeit avg.average5(data, tscrunch=tscrunch, dout=dout)"
   ]
  },
  {
   "cell_type": "code",
   "execution_count": 34,
   "id": "a4843bd0",
   "metadata": {},
   "outputs": [
    {
     "ename": "TypingError",
     "evalue": "Failed in nopython mode pipeline (step: nopython frontend)\nNo implementation of function Function(<built-in function getitem>) found for signature:\n \n >>> getitem(array(int16, 7d, A), Literal[str](data))\n \nThere are 22 candidate implementations:\n  - Of which 20 did not match due to:\n  Overload of function 'getitem': File: <numerous>: Line N/A.\n    With argument(s): '(array(int16, 7d, A), unicode_type)':\n   No match.\n  - Of which 1 did not match due to:\n  Overload in function 'GetItemBuffer.generic': File: numba/core/typing/arraydecl.py: Line 162.\n    With argument(s): '(array(int16, 7d, A), unicode_type)':\n   Rejected as the implementation raised a specific error:\n     TypeError: unsupported array index type unicode_type in [unicode_type]\n  raised from /data/seren-01/fast/ban115/build/venv3.6/lib/python3.6/site-packages/numba/core/typing/arraydecl.py:69\n  - Of which 1 did not match due to:\n  Overload in function 'GetItemBuffer.generic': File: numba/core/typing/arraydecl.py: Line 162.\n    With argument(s): '(array(int16, 7d, A), Literal[str](data))':\n   Rejected as the implementation raised a specific error:\n     TypeError: unsupported array index type Literal[str](data) in [Literal[str](data)]\n  raised from /data/seren-01/fast/ban115/build/venv3.6/lib/python3.6/site-packages/numba/core/typing/arraydecl.py:69\n\nDuring: typing of intrinsic-call at /data/seren-01/fast/ban115/build/craco-python/src/craco/card_averager.py (297)\nDuring: typing of static-get-item at /data/seren-01/fast/ban115/build/craco-python/src/craco/card_averager.py (297)\n\nFile \"../src/craco/card_averager.py\", line 297:\ndef average6(din, tscrunch, dout):\n    data = din['data']\n    ^\n",
     "output_type": "error",
     "traceback": [
      "\u001b[0;31m---------------------------------------------------------------------------\u001b[0m",
      "\u001b[0;31mTypingError\u001b[0m                               Traceback (most recent call last)",
      "\u001b[0;32m<ipython-input-34-4f3257e9a8f0>\u001b[0m in \u001b[0;36m<module>\u001b[0;34m\u001b[0m\n\u001b[1;32m      1\u001b[0m \u001b[0mget_ipython\u001b[0m\u001b[0;34m(\u001b[0m\u001b[0;34m)\u001b[0m\u001b[0;34m.\u001b[0m\u001b[0mrun_line_magic\u001b[0m\u001b[0;34m(\u001b[0m\u001b[0;34m'autoreload'\u001b[0m\u001b[0;34m,\u001b[0m \u001b[0;34m'average6'\u001b[0m\u001b[0;34m)\u001b[0m\u001b[0;34m\u001b[0m\u001b[0;34m\u001b[0m\u001b[0m\n\u001b[1;32m      2\u001b[0m \u001b[0;34m\u001b[0m\u001b[0m\n\u001b[0;32m----> 3\u001b[0;31m \u001b[0maverage6\u001b[0m\u001b[0;34m(\u001b[0m\u001b[0mdin\u001b[0m\u001b[0;34m[\u001b[0m\u001b[0;34m'data'\u001b[0m\u001b[0;34m]\u001b[0m\u001b[0;34m,\u001b[0m \u001b[0mtscrunch\u001b[0m\u001b[0;34m=\u001b[0m\u001b[0mtscrunch\u001b[0m\u001b[0;34m,\u001b[0m \u001b[0mdout\u001b[0m\u001b[0;34m=\u001b[0m\u001b[0mdout\u001b[0m\u001b[0;34m)\u001b[0m\u001b[0;34m\u001b[0m\u001b[0;34m\u001b[0m\u001b[0m\n\u001b[0m\u001b[1;32m      4\u001b[0m \u001b[0mget_ipython\u001b[0m\u001b[0;34m(\u001b[0m\u001b[0;34m)\u001b[0m\u001b[0;34m.\u001b[0m\u001b[0mrun_line_magic\u001b[0m\u001b[0;34m(\u001b[0m\u001b[0;34m'timeit'\u001b[0m\u001b[0;34m,\u001b[0m \u001b[0;34m\"average6(din['data'], tscrunch=tscrunch, dout=dout)\"\u001b[0m\u001b[0;34m)\u001b[0m\u001b[0;34m\u001b[0m\u001b[0;34m\u001b[0m\u001b[0m\n",
      "\u001b[0;32m/data/seren-01/fast/ban115/build/venv3.6/lib/python3.6/site-packages/numba/core/dispatcher.py\u001b[0m in \u001b[0;36m_compile_for_args\u001b[0;34m(self, *args, **kws)\u001b[0m\n\u001b[1;32m    418\u001b[0m                 \u001b[0me\u001b[0m\u001b[0;34m.\u001b[0m\u001b[0mpatch_message\u001b[0m\u001b[0;34m(\u001b[0m\u001b[0mmsg\u001b[0m\u001b[0;34m)\u001b[0m\u001b[0;34m\u001b[0m\u001b[0;34m\u001b[0m\u001b[0m\n\u001b[1;32m    419\u001b[0m \u001b[0;34m\u001b[0m\u001b[0m\n\u001b[0;32m--> 420\u001b[0;31m             \u001b[0merror_rewrite\u001b[0m\u001b[0;34m(\u001b[0m\u001b[0me\u001b[0m\u001b[0;34m,\u001b[0m \u001b[0;34m'typing'\u001b[0m\u001b[0;34m)\u001b[0m\u001b[0;34m\u001b[0m\u001b[0;34m\u001b[0m\u001b[0m\n\u001b[0m\u001b[1;32m    421\u001b[0m         \u001b[0;32mexcept\u001b[0m \u001b[0merrors\u001b[0m\u001b[0;34m.\u001b[0m\u001b[0mUnsupportedError\u001b[0m \u001b[0;32mas\u001b[0m \u001b[0me\u001b[0m\u001b[0;34m:\u001b[0m\u001b[0;34m\u001b[0m\u001b[0;34m\u001b[0m\u001b[0m\n\u001b[1;32m    422\u001b[0m             \u001b[0;31m# Something unsupported is present in the user code, add help info\u001b[0m\u001b[0;34m\u001b[0m\u001b[0;34m\u001b[0m\u001b[0;34m\u001b[0m\u001b[0m\n",
      "\u001b[0;32m/data/seren-01/fast/ban115/build/venv3.6/lib/python3.6/site-packages/numba/core/dispatcher.py\u001b[0m in \u001b[0;36merror_rewrite\u001b[0;34m(e, issue_type)\u001b[0m\n\u001b[1;32m    359\u001b[0m                 \u001b[0;32mraise\u001b[0m \u001b[0me\u001b[0m\u001b[0;34m\u001b[0m\u001b[0;34m\u001b[0m\u001b[0m\n\u001b[1;32m    360\u001b[0m             \u001b[0;32melse\u001b[0m\u001b[0;34m:\u001b[0m\u001b[0;34m\u001b[0m\u001b[0;34m\u001b[0m\u001b[0m\n\u001b[0;32m--> 361\u001b[0;31m                 \u001b[0;32mraise\u001b[0m \u001b[0me\u001b[0m\u001b[0;34m.\u001b[0m\u001b[0mwith_traceback\u001b[0m\u001b[0;34m(\u001b[0m\u001b[0;32mNone\u001b[0m\u001b[0;34m)\u001b[0m\u001b[0;34m\u001b[0m\u001b[0;34m\u001b[0m\u001b[0m\n\u001b[0m\u001b[1;32m    362\u001b[0m \u001b[0;34m\u001b[0m\u001b[0m\n\u001b[1;32m    363\u001b[0m         \u001b[0margtypes\u001b[0m \u001b[0;34m=\u001b[0m \u001b[0;34m[\u001b[0m\u001b[0;34m]\u001b[0m\u001b[0;34m\u001b[0m\u001b[0;34m\u001b[0m\u001b[0m\n",
      "\u001b[0;31mTypingError\u001b[0m: Failed in nopython mode pipeline (step: nopython frontend)\nNo implementation of function Function(<built-in function getitem>) found for signature:\n \n >>> getitem(array(int16, 7d, A), Literal[str](data))\n \nThere are 22 candidate implementations:\n  - Of which 20 did not match due to:\n  Overload of function 'getitem': File: <numerous>: Line N/A.\n    With argument(s): '(array(int16, 7d, A), unicode_type)':\n   No match.\n  - Of which 1 did not match due to:\n  Overload in function 'GetItemBuffer.generic': File: numba/core/typing/arraydecl.py: Line 162.\n    With argument(s): '(array(int16, 7d, A), unicode_type)':\n   Rejected as the implementation raised a specific error:\n     TypeError: unsupported array index type unicode_type in [unicode_type]\n  raised from /data/seren-01/fast/ban115/build/venv3.6/lib/python3.6/site-packages/numba/core/typing/arraydecl.py:69\n  - Of which 1 did not match due to:\n  Overload in function 'GetItemBuffer.generic': File: numba/core/typing/arraydecl.py: Line 162.\n    With argument(s): '(array(int16, 7d, A), Literal[str](data))':\n   Rejected as the implementation raised a specific error:\n     TypeError: unsupported array index type Literal[str](data) in [Literal[str](data)]\n  raised from /data/seren-01/fast/ban115/build/venv3.6/lib/python3.6/site-packages/numba/core/typing/arraydecl.py:69\n\nDuring: typing of intrinsic-call at /data/seren-01/fast/ban115/build/craco-python/src/craco/card_averager.py (297)\nDuring: typing of static-get-item at /data/seren-01/fast/ban115/build/craco-python/src/craco/card_averager.py (297)\n\nFile \"../src/craco/card_averager.py\", line 297:\ndef average6(din, tscrunch, dout):\n    data = din['data']\n    ^\n"
     ]
    }
   ],
   "source": [
    "%autoreload average6\n",
    "\n",
    "average6(din['data'], tscrunch=tscrunch, dout=dout)\n",
    "%timeit average6(din['data'], tscrunch=tscrunch, dout=dout)"
   ]
  },
  {
   "cell_type": "code",
   "execution_count": null,
   "id": "3dd0446b",
   "metadata": {},
   "outputs": [],
   "source": [
    "dout.shape"
   ]
  },
  {
   "cell_type": "code",
   "execution_count": null,
   "id": "6d8413e4",
   "metadata": {},
   "outputs": [],
   "source": [
    "average6.inspect_types()"
   ]
  },
  {
   "cell_type": "code",
   "execution_count": null,
   "id": "7a3f2986",
   "metadata": {},
   "outputs": [],
   "source": [
    "intermediate_dout = np.zeros(din['data'].shape, dtype=np.float32)\n",
    "%timeit avg.average9(din, tscrunch=tscrunch, dout=intermediate_dout)"
   ]
  },
  {
   "cell_type": "code",
   "execution_count": null,
   "id": "627d0acd",
   "metadata": {},
   "outputs": [],
   "source": [
    "dout.shape"
   ]
  },
  {
   "cell_type": "code",
   "execution_count": null,
   "id": "f368ba37",
   "metadata": {},
   "outputs": [],
   "source": [
    "np.array(packets).shape"
   ]
  },
  {
   "cell_type": "code",
   "execution_count": null,
   "id": "5b3229e8",
   "metadata": {},
   "outputs": [],
   "source": [
    "packets[0].dtype"
   ]
  },
  {
   "cell_type": "code",
   "execution_count": null,
   "id": "7db763b0",
   "metadata": {},
   "outputs": [],
   "source": [
    "packets[0].shape"
   ]
  },
  {
   "cell_type": "code",
   "execution_count": null,
   "id": "cca4442e",
   "metadata": {},
   "outputs": [],
   "source": [
    "packets[0]['data'].shape"
   ]
  },
  {
   "cell_type": "code",
   "execution_count": null,
   "id": "243591b4",
   "metadata": {},
   "outputs": [],
   "source": [
    "(nibc, nt1, nt2, nbl, npol, _) = packets[0]['data'].shape\n",
    "ntout = nt1 * nt2 // tscrunch\n",
    "dout = np.zeros(packets[0]['data'].shape, dtype=np.float32)\n",
    "dout1 = np.zeros((NBEAM*NCHAN,nt1*nt2//tscrunch,nbl,2), dtype=np.float32)\n",
    "\n",
    "print(avg.average10(packets, dout=dout).shape)\n",
    "%timeit avg.average10(packets, dout=dout)"
   ]
  },
  {
   "cell_type": "code",
   "execution_count": null,
   "id": "e2a1f6f5",
   "metadata": {},
   "outputs": [],
   "source": [
    "%timeit dout.reshape(144,32//tscrunch,tscrunch,465,2).mean(axis=2)"
   ]
  },
  {
   "cell_type": "code",
   "execution_count": null,
   "id": "a09d8657",
   "metadata": {},
   "outputs": [],
   "source": [
    "%timeit dout.reshape(144,32//tscrunch,tscrunch,465,1,2).mean(axis=(2,4))"
   ]
  },
  {
   "cell_type": "code",
   "execution_count": null,
   "id": "9d86a7ec",
   "metadata": {},
   "outputs": [],
   "source": [
    "%timeit dout1[:] = dout.reshape(144,32//tscrunch,tscrunch,465,1,2).mean(axis=(2,4))"
   ]
  },
  {
   "cell_type": "code",
   "execution_count": null,
   "id": "c4bc5c7c",
   "metadata": {},
   "outputs": [],
   "source": [
    "dout = np.zeros(packets[0]['data'].shape, dtype=np.float32)\n",
    "print(avg.average11(packet_list,  dout=dout).shape)\n",
    "%timeit avg.average11(packet_list,  dout=dout)"
   ]
  },
  {
   "cell_type": "code",
   "execution_count": null,
   "id": "82f684b1",
   "metadata": {},
   "outputs": [],
   "source": [
    "ntout"
   ]
  },
  {
   "cell_type": "code",
   "execution_count": null,
   "id": "bf148c29",
   "metadata": {},
   "outputs": [],
   "source": [
    "dout2 = avg.average10(packets, None)\n",
    "print(avg.average13(packets, tscrunch, dout1, dout2).shape)\n",
    "%timeit avg.average13(packets, tscrunch, dout1, dout2).shape"
   ]
  },
  {
   "cell_type": "code",
   "execution_count": null,
   "id": "c10ac6a1",
   "metadata": {},
   "outputs": [],
   "source": [
    "vis_dout = np.zeros((NBEAM,len(cross_idxs),NCHAN,ntout,2), dtype=np.float32)\n",
    "avg.vis_reshape(dout1, cross_idxs, vis_dout).shape\n",
    "%timeit avg.vis_reshape(dout1, cross_idxs, vis_dout)"
   ]
  },
  {
   "cell_type": "code",
   "execution_count": null,
   "id": "a0e9d4fc",
   "metadata": {},
   "outputs": [],
   "source": [
    "avg.average_pkts_and_reshape(packets, tscrunch, vis_dout, cross_idxs, dout1, dout2).shape\n",
    "%timeit avg.average_pkts_and_reshape(packets, tscrunch, vis_dout, cross_idxs, d1=None, d2=None).shape"
   ]
  },
  {
   "cell_type": "markdown",
   "id": "92c4ce16",
   "metadata": {},
   "source": [
    "# number is super slow even with normal numpy arrays"
   ]
  },
  {
   "cell_type": "code",
   "execution_count": null,
   "id": "3b9bcdba",
   "metadata": {},
   "outputs": [],
   "source": [
    "%timeit dout[:] = 0"
   ]
  },
  {
   "cell_type": "code",
   "execution_count": null,
   "id": "18fa7a6c",
   "metadata": {},
   "outputs": [],
   "source": [
    "%timeit dout * 3"
   ]
  },
  {
   "cell_type": "code",
   "execution_count": null,
   "id": "cf47ecfc",
   "metadata": {},
   "outputs": [],
   "source": [
    "dout = np.zeros((144, 16, 2, 465, 1, 2), dtype=np.float32)"
   ]
  },
  {
   "cell_type": "code",
   "execution_count": null,
   "id": "7c5e3d5c",
   "metadata": {},
   "outputs": [],
   "source": [
    "print(numba.__version__)"
   ]
  },
  {
   "cell_type": "code",
   "execution_count": null,
   "id": "464833a0",
   "metadata": {},
   "outputs": [],
   "source": [
    "@njit\n",
    "def numba_clear(d):\n",
    "    d[:] = 0\n",
    "    "
   ]
  },
  {
   "cell_type": "code",
   "execution_count": null,
   "id": "2a792098",
   "metadata": {},
   "outputs": [],
   "source": [
    "%timeit dout[:]  = 0"
   ]
  },
  {
   "cell_type": "code",
   "execution_count": null,
   "id": "9ee537d0",
   "metadata": {},
   "outputs": [],
   "source": [
    "numba_clear(dout)\n",
    "%timeit numba_clear(dout)"
   ]
  },
  {
   "cell_type": "code",
   "execution_count": null,
   "id": "5f6916ed",
   "metadata": {},
   "outputs": [],
   "source": [
    "dout_flat = dout.flatten()\n",
    "numba_clear(dout_flat)\n",
    "%timeit numba_clear(dout_flat)"
   ]
  },
  {
   "cell_type": "code",
   "execution_count": null,
   "id": "44b767f2",
   "metadata": {},
   "outputs": [],
   "source": [
    "packets[0]['data'].reshape(144,32,465,2)."
   ]
  },
  {
   "cell_type": "code",
   "execution_count": null,
   "id": "5dd1e154",
   "metadata": {},
   "outputs": [],
   "source": []
  },
  {
   "cell_type": "markdown",
   "id": "b0f1976b",
   "metadata": {},
   "source": [
    "# How about the card averager"
   ]
  },
  {
   "cell_type": "code",
   "execution_count": null,
   "id": "00ed922e",
   "metadata": {},
   "outputs": [],
   "source": [
    "from craco import card_averager"
   ]
  },
  {
   "cell_type": "code",
   "execution_count": null,
   "id": "6533928e",
   "metadata": {},
   "outputs": [],
   "source": [
    "from numba.typed import List\n",
    "data = List()\n",
    "%timeit [data.append(self.dummy_packet if pkt is None else pkt) for pkt in packets]\n"
   ]
  },
  {
   "cell_type": "code",
   "execution_count": 45,
   "id": "10f67f37",
   "metadata": {},
   "outputs": [
    {
     "data": {
      "text/plain": [
       "(144, 16, 2, 465, 1, 2)"
      ]
     },
     "execution_count": 45,
     "metadata": {},
     "output_type": "execute_result"
    }
   ],
   "source": [
    "d = packets[0]\n",
    "d['data'].shape"
   ]
  },
  {
   "cell_type": "code",
   "execution_count": 46,
   "id": "239ce530",
   "metadata": {},
   "outputs": [
    {
     "data": {
      "text/plain": [
       "(30, 144, 16, 2, 1)"
      ]
     },
     "execution_count": 46,
     "metadata": {},
     "output_type": "execute_result"
    }
   ],
   "source": [
    "d['data'][:,:,:,auto_idxs,:,0].shape"
   ]
  },
  {
   "cell_type": "code",
   "execution_count": 48,
   "id": "60194d03",
   "metadata": {},
   "outputs": [
    {
     "data": {
      "text/plain": [
       "(6, 144, 16, 2, 30)"
      ]
     },
     "execution_count": 48,
     "metadata": {},
     "output_type": "execute_result"
    }
   ],
   "source": [
    "np.array(packets)['data'][:,:,:,:,auto_idxs,0,0].shape"
   ]
  },
  {
   "cell_type": "code",
   "execution_count": 49,
   "id": "c147f0e3",
   "metadata": {},
   "outputs": [
    {
     "data": {
      "text/plain": [
       "(6, 144, 16, 2)"
      ]
     },
     "execution_count": 49,
     "metadata": {},
     "output_type": "execute_result"
    }
   ],
   "source": [
    "avg.calc_ics(packets, auto_idxs).shape"
   ]
  },
  {
   "cell_type": "code",
   "execution_count": 50,
   "id": "e3039cbb",
   "metadata": {},
   "outputs": [
    {
     "name": "stdout",
     "output_type": "stream",
     "text": [
      "4.71 ms ± 325 µs per loop (mean ± std. dev. of 7 runs, 100 loops each)\n"
     ]
    }
   ],
   "source": [
    "%timeit avg.calc_ics(packets, auto_idxs).shape"
   ]
  },
  {
   "cell_type": "code",
   "execution_count": null,
   "id": "f31e8c1f",
   "metadata": {},
   "outputs": [],
   "source": []
  },
  {
   "cell_type": "code",
   "execution_count": 52,
   "id": "b1606ef6",
   "metadata": {},
   "outputs": [],
   "source": [
    "from craco import card_averager"
   ]
  },
  {
   "cell_type": "code",
   "execution_count": 53,
   "id": "f20392f1",
   "metadata": {},
   "outputs": [
    {
     "name": "stdout",
     "output_type": "stream",
     "text": [
      "<class 'numpy.ndarray'>\n"
     ]
    },
    {
     "name": "stderr",
     "output_type": "stream",
     "text": [
      "/data/seren-01/fast/ban115/build/craco-python/src/craco/card_averager.py:685: RuntimeWarning: invalid value encountered in true_divide\n",
      "  variance = m2 / count #ill produce NAN where count=0\n",
      "/data/seren-01/fast/ban115/build/craco-python/src/craco/card_averager.py:694: RuntimeWarning: divide by zero encountered in true_divide\n",
      "  scale = 1/stdev\n"
     ]
    }
   ],
   "source": [
    "\n",
    "dummy_packet = packets[0].copy()\n",
    "print(type(dummy_packet))\n",
    "\n",
    "avger = card_averager.Averager(nbeam,nant,nc=24,nt=32,npol=1,vis_fscrunch=6, vis_tscrunch=4, dummy_packet=dummy_packet, cdtype=np.float32)\n"
   ]
  },
  {
   "cell_type": "code",
   "execution_count": 55,
   "id": "5df92813",
   "metadata": {},
   "outputs": [],
   "source": [
    "valid = np.ones(6, dtype=bool)"
   ]
  },
  {
   "cell_type": "code",
   "execution_count": 58,
   "id": "ba0d9edb",
   "metadata": {},
   "outputs": [
    {
     "name": "stdout",
     "output_type": "stream",
     "text": [
      "4.96 ms ± 59.1 µs per loop (mean ± std. dev. of 7 runs, 100 loops each)\n"
     ]
    }
   ],
   "source": [
    "%timeit avg.calc_and_reshape_ics(packets, auto_idxs, valid, avger.output['ics'])"
   ]
  },
  {
   "cell_type": "code",
   "execution_count": 59,
   "id": "901cf32f",
   "metadata": {},
   "outputs": [
    {
     "name": "stderr",
     "output_type": "stream",
     "text": [
      "/data/seren-01/fast/ban115/build/craco-python/src/craco/card_averager.py:690: RuntimeWarning: invalid value encountered in true_divide\n",
      "  # not sure if I should use variance, or sample variance, let's use variance\n",
      "/data/seren-01/fast/ban115/build/craco-python/src/craco/card_averager.py:699: RuntimeWarning: divide by zero encountered in true_divide\n",
      "  np.savez(fout, mean=mean,count=count,scount=self.count,variance=variance,stdev=stdev,offset=offset,scale=scale)\n"
     ]
    },
    {
     "name": "stdout",
     "output_type": "stream",
     "text": [
      "33.2 ms ± 794 µs per loop (mean ± std. dev. of 7 runs, 10 loops each)\n"
     ]
    }
   ],
   "source": [
    "# current averager takes 270 milliseconds - which is just a bloody outrage - I mean seriously\n",
    "%timeit avger.accumulate_packets(packets)"
   ]
  },
  {
   "cell_type": "code",
   "execution_count": 61,
   "id": "c6568b39",
   "metadata": {},
   "outputs": [
    {
     "name": "stderr",
     "output_type": "stream",
     "text": [
      "/data/seren-01/fast/ban115/build/craco-python/src/craco/card_averager.py:690: RuntimeWarning: invalid value encountered in true_divide\n",
      "  variance = m2 / count #ill produce NAN where count=0\n",
      "/data/seren-01/fast/ban115/build/craco-python/src/craco/card_averager.py:699: RuntimeWarning: divide by zero encountered in true_divide\n",
      "  scale = 1/stdev\n"
     ]
    }
   ],
   "source": [
    "avger = card_averager.Averager(nbeam,nant,24,32,1,6,4, dummy_packet=dummy_packet, cdtype=np.float32)"
   ]
  },
  {
   "cell_type": "code",
   "execution_count": null,
   "id": "a3deb992",
   "metadata": {},
   "outputs": [],
   "source": [
    "avger.output.dtype"
   ]
  },
  {
   "cell_type": "code",
   "execution_count": null,
   "id": "c08c38eb",
   "metadata": {},
   "outputs": [],
   "source": [
    "avger.output.shape"
   ]
  },
  {
   "cell_type": "code",
   "execution_count": null,
   "id": "75ec5380",
   "metadata": {},
   "outputs": [],
   "source": [
    "avger.output['vis'].shape"
   ]
  },
  {
   "cell_type": "code",
   "execution_count": null,
   "id": "361544a3",
   "metadata": {},
   "outputs": [],
   "source": [
    "from craco.card_averager import ibc2beamchan\n",
    "\n",
    "\n",
    "_= average7(din, tscrunch=8, dout=avger.output['vis'])\n",
    "%timeit average7(din, tscrunch=8, dout=avger.output['vis'])"
   ]
  },
  {
   "cell_type": "code",
   "execution_count": null,
   "id": "3b39b5f3",
   "metadata": {},
   "outputs": [],
   "source": [
    "\n",
    "\n",
    "_= average8(din, tscrunch=8, dout=avger.output['vis'],nant=nant)\n",
    "%timeit average8(din, tscrunch=8, dout=avger.output['vis'],nant=nant)"
   ]
  },
  {
   "cell_type": "code",
   "execution_count": null,
   "id": "ddec85b1",
   "metadata": {},
   "outputs": [],
   "source": [
    "avger.output['vis'].shape"
   ]
  },
  {
   "cell_type": "code",
   "execution_count": null,
   "id": "bab424fa",
   "metadata": {},
   "outputs": [],
   "source": []
  },
  {
   "cell_type": "code",
   "execution_count": null,
   "id": "dcb68e31",
   "metadata": {},
   "outputs": [],
   "source": [
    "average2(din,tscrunch=8).shape"
   ]
  },
  {
   "cell_type": "code",
   "execution_count": null,
   "id": "7708028f",
   "metadata": {},
   "outputs": [],
   "source": [
    "def average_vis_and_reshape2(din, tscrunch, dout, auto_idxs, cross_idxs):\n",
    "    '''\n",
    "    Writes (beam,chan) order and removes autocorrelations\n",
    "    Fxed fscrunch at 6\n",
    "    This is horriffically slow in NUMPY - really, really bad\n",
    "    '''\n",
    "    data = din['data']\n",
    "    (nfpga, npkt, nt1, nt2, nblall, _, _) = data.shape\n",
    "    dout[:] = 0\n",
    "    # HACK - set nbl to output NBL, which doesn't include autos, for now\n",
    "    #nbl = dout.shape[1]\n",
    "    ntout = nt1*nt2//tscrunch\n",
    "    \n",
    "    nbl = len(cross_idxs)\n",
    "    nant = len(auto_idxs)\n",
    "    dcross = data[:,:,:,:,cross_idxs,:,:]\n",
    "    d = dcross.reshape(nfpga, npkt, ntout, tscrunch, nbl, 2).mean(axis=(0,3), dtype=np.float32)\n",
    "    dcopy1 = d[:32*4,...].reshape(32,4,ntout,nbl,2).transpose(0,3,1,2,4)\n",
    "    dcopy2 = d[32*4:,...].reshape(4,4,ntout,nbl,2).transpose(0,3,1,2,4)\n",
    "\n",
    "\n",
    "    dout[0:32, :,:,:,:] = dcopy1\n",
    "    dout[32:, :,:,:,:] = dcopy2\n",
    "\n",
    "            \n",
    "    return dout\n",
    "\n",
    "print(average_vis_and_reshape2(din, tscrunch=4, dout=avger.output['vis'],auto_idxs=auto_idxs,cross_idxs=cross_idxs).shape)\n",
    "%timeit average_vis_and_reshape2(din, tscrunch=4, dout=avger.output['vis'],auto_idxs=auto_idxs,cross_idxs=cross_idxs)"
   ]
  },
  {
   "cell_type": "code",
   "execution_count": null,
   "id": "92ac6823",
   "metadata": {},
   "outputs": [],
   "source": [
    "avger.output['vis'].shape"
   ]
  },
  {
   "cell_type": "code",
   "execution_count": null,
   "id": "3598b7d1",
   "metadata": {},
   "outputs": [],
   "source": [
    "avger.output['cas'].shape"
   ]
  },
  {
   "cell_type": "code",
   "execution_count": null,
   "id": "b5151754",
   "metadata": {},
   "outputs": [],
   "source": [
    "din['data'].shape"
   ]
  },
  {
   "cell_type": "code",
   "execution_count": null,
   "id": "498688f6",
   "metadata": {},
   "outputs": [],
   "source": [
    "data = din['data'].astype(np.float32)\n",
    "data.shape"
   ]
  },
  {
   "cell_type": "code",
   "execution_count": null,
   "id": "ed51011e",
   "metadata": {},
   "outputs": [],
   "source": [
    "def amp1(data):\n",
    "    return np.sqrt(data[...,0]**2 + data[...,1]**2)\n",
    "\n",
    "%timeit amp1(data)"
   ]
  },
  {
   "cell_type": "code",
   "execution_count": null,
   "id": "54238eaa",
   "metadata": {},
   "outputs": [],
   "source": [
    "from math import sqrt\n",
    "\n",
    "@njit\n",
    "def amp2(data, dout):\n",
    "    (nfpga, npkt, nt1, nt2, nbl, _, _) = data.shape\n",
    "    dout[:] = 0\n",
    "    # HACK - set nbl to output NBL, which doesn't include autos, for now\n",
    "    nbl = dout.shape[1]\n",
    "    \n",
    "    # dout shape\n",
    "    # avger.output['vis'].shape\n",
    "    # (36, 435, 4, 8, 2)\n",
    "    \n",
    "    for ifpga in range(nfpga):\n",
    "        for ipkt in range(npkt):\n",
    "            beam,chan = ibc2beamchan(ipkt)\n",
    "            #print(beam,chan)\n",
    "            for t1 in range(nt1):\n",
    "                for t2 in range(nt2):\n",
    "                    ttotal = t2 + t1*nt2\n",
    "                    tout = ttotal // tscrunch\n",
    "                    for ibl in range(nbl):\n",
    "                        d0 = data[ifpga,ipkt,t1,t2,ibl,0,0]\n",
    "                        d1 = data[ifpga,ipkt,t1,t2,ibl,0,1]\n",
    "\n",
    "                        da = sqrt(d0**2 + d1**2)    \n",
    "                        dout[ifpga,ipkt,t1,t2,ibl,0] = da\n",
    "                        \n",
    "    return dout\n",
    "                            \n",
    "    "
   ]
  },
  {
   "cell_type": "code",
   "execution_count": null,
   "id": "1db013ef",
   "metadata": {},
   "outputs": [],
   "source": [
    "dout = np.zeros(data.shape[:-1], dtype=np.float32)\n",
    "amp2(data, dout).shape\n",
    "%timeit amp2(data, dout)"
   ]
  },
  {
   "cell_type": "code",
   "execution_count": null,
   "id": "96568b5b",
   "metadata": {},
   "outputs": [],
   "source": [
    "data.shape"
   ]
  },
  {
   "cell_type": "code",
   "execution_count": null,
   "id": "89169298",
   "metadata": {},
   "outputs": [],
   "source": [
    "avger.output['ics'].shape"
   ]
  },
  {
   "cell_type": "code",
   "execution_count": null,
   "id": "c64537ce",
   "metadata": {},
   "outputs": [],
   "source": [
    "%timeit calc_ics(data, auto_idxs)"
   ]
  },
  {
   "cell_type": "code",
   "execution_count": null,
   "id": "921f8ecb",
   "metadata": {},
   "outputs": [],
   "source": [
    "dmean = calc_ics(data, auto_idxs)\n",
    "dmean.shape"
   ]
  },
  {
   "cell_type": "code",
   "execution_count": null,
   "id": "ca3a0cc1",
   "metadata": {},
   "outputs": [],
   "source": [
    "icsout = avger.output['ics']"
   ]
  },
  {
   "cell_type": "code",
   "execution_count": null,
   "id": "5bc892ce",
   "metadata": {},
   "outputs": [],
   "source": [
    "icsout.shape"
   ]
  },
  {
   "cell_type": "code",
   "execution_count": null,
   "id": "7cd547f7",
   "metadata": {},
   "outputs": [],
   "source": [
    "(nfpga, npkt, nt1, nt2, nbl, npol, _) = data.shape\n",
    "data.shape"
   ]
  },
  {
   "cell_type": "code",
   "execution_count": null,
   "id": "b78f598a",
   "metadata": {},
   "outputs": [],
   "source": [
    "dmean[:,:32*4,:,:].reshape(nfpga,4,32,32).transpose(2,3,1,0).reshape(32,32,24).shape"
   ]
  },
  {
   "cell_type": "code",
   "execution_count": null,
   "id": "af9e5fb9",
   "metadata": {},
   "outputs": [],
   "source": [
    "dmean[:,32*4:,:,:].reshape(nfpga,4,4,32).transpose(2,3,1,0).reshape(4,32,24).shape"
   ]
  },
  {
   "cell_type": "code",
   "execution_count": null,
   "id": "afa2e80d",
   "metadata": {},
   "outputs": [],
   "source": [
    "valid = np.zeros(6, dtype=bool)\n",
    "%timeit calc_and_reshape_ics(data, auto_idxs, valid, avger.output['ics'])"
   ]
  },
  {
   "cell_type": "code",
   "execution_count": null,
   "id": "99598eea",
   "metadata": {},
   "outputs": [],
   "source": [
    "average"
   ]
  },
  {
   "cell_type": "code",
   "execution_count": null,
   "id": "da60fd53",
   "metadata": {},
   "outputs": [],
   "source": []
  },
  {
   "cell_type": "code",
   "execution_count": null,
   "id": "742257ad",
   "metadata": {},
   "outputs": [],
   "source": []
  },
  {
   "cell_type": "code",
   "execution_count": null,
   "id": "a79bec2a",
   "metadata": {},
   "outputs": [],
   "source": []
  },
  {
   "cell_type": "code",
   "execution_count": null,
   "id": "dcfe4990",
   "metadata": {},
   "outputs": [],
   "source": []
  },
  {
   "cell_type": "code",
   "execution_count": null,
   "id": "08e8e376",
   "metadata": {},
   "outputs": [],
   "source": []
  },
  {
   "cell_type": "code",
   "execution_count": null,
   "id": "df7167a7",
   "metadata": {},
   "outputs": [],
   "source": []
  },
  {
   "cell_type": "code",
   "execution_count": null,
   "id": "44b1a2b1",
   "metadata": {},
   "outputs": [],
   "source": []
  },
  {
   "cell_type": "code",
   "execution_count": null,
   "id": "13efb304",
   "metadata": {},
   "outputs": [],
   "source": []
  }
 ],
 "metadata": {
  "kernelspec": {
   "display_name": "Python 3",
   "language": "python",
   "name": "python3"
  },
  "language_info": {
   "codemirror_mode": {
    "name": "ipython",
    "version": 3
   },
   "file_extension": ".py",
   "mimetype": "text/x-python",
   "name": "python",
   "nbconvert_exporter": "python",
   "pygments_lexer": "ipython3",
   "version": "3.6.15"
  }
 },
 "nbformat": 4,
 "nbformat_minor": 5
}
