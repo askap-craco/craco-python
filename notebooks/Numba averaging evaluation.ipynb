{
 "cells": [
  {
   "cell_type": "code",
   "execution_count": 76,
   "id": "9f83332a",
   "metadata": {},
   "outputs": [
    {
     "name": "stdout",
     "output_type": "stream",
     "text": [
      "The autoreload extension is already loaded. To reload it, use:\n",
      "  %reload_ext autoreload\n"
     ]
    }
   ],
   "source": [
    "import numpy as np\n",
    "import os\n",
    "os.environ['NUMBA_THREADING_LAYER'] = 'omp' # my TBB version complains\n",
    "os.environ['NUMBA_NUM_THREADS'] = '3'\n",
    "os.environ['NUMBA_ENABLE_AVX'] = '1'\n",
    "os.environ['NUMBA_CPU_NAME'] = 'generic'\n",
    "#os.environ['NUMBA_CPU_FEATURES'] = '+sse,+sse2,+avx,+avx2,+avx512f,+avx512dq'\n",
    "os.environ['NUMBA_CPU_FEATURES'] = '+sse,+sse2,+avx,+avx2'\n",
    "import sys\n",
    "sys.path.insert(0,'/Users/ban115/bolton/craco-python/src/')\n",
    "\n",
    "\n",
    "import numba\n",
    "from numba import njit, prange\n",
    "from pylab import *\n",
    "%matplotlib notebook\n",
    "\n",
    "%load_ext autoreload\n",
    "%autoreload 2\n"
   ]
  },
  {
   "cell_type": "code",
   "execution_count": 2,
   "id": "46ac6c03",
   "metadata": {},
   "outputs": [
    {
     "data": {
      "text/plain": [
       "714240"
      ]
     },
     "execution_count": 2,
     "metadata": {},
     "output_type": "execute_result"
    }
   ],
   "source": [
    "nant = 30\n",
    "nbl = nant*(nant+1)//2\n",
    "nt = 32\n",
    "nchan = 24\n",
    "nbeam = 36\n",
    "\n",
    "vin = np.arange(nbl*nt*nchan*2, dtype=np.int16).reshape((nchan, nbl, nt, 2))\n",
    "vavg = np.zeros((nchan, nbl, 2), dtype=np.float32)\n",
    "ics = np.zeros((nt, nchan), dtype=np.float32)\n",
    "cas = np.zeros((nt, nchan), dtype=np.float32)\n",
    "\n",
    "vin.size"
   ]
  },
  {
   "cell_type": "code",
   "execution_count": 3,
   "id": "033752bb",
   "metadata": {},
   "outputs": [],
   "source": [
    "# For type hint info see https://numba.pydata.org/numba-doc/0.12.2/tutorial_types.html\n",
    "@njit(fastmath=True, parallel=True, locals={'vabs':numba.float32})\n",
    "def make_averages(nant, vin, vavg, ics, cas):\n",
    "    nchan,nbl, nt, _ = vin.shape\n",
    "    \n",
    "    for ic in range(nchan):\n",
    "        ibl = 0\n",
    "        for ia1 in range(nant):\n",
    "            for ia2 in range(ia1, nant):\n",
    "                #print(ia1, ia2, ibl, nbl)\n",
    "                #assert ibl < nbl#, f'Invalid ibl {ia1} {ia2} {ibl} {nbl}'\n",
    "                \n",
    "                for it in range(nt):\n",
    "                    v = vin[ic, ibl, it, :]\n",
    "                    #v = np.array([0,1])\n",
    "                    vabs = v[0]*v[0] + v[1]*v[1]\n",
    "                    if ia1 == ia2:\n",
    "                        ics[it, ic] += vabs\n",
    "                    else:\n",
    "                        cas[it, ic] += vabs\n",
    "\n",
    "                    #print('out', ibl, ic, it)\n",
    "                    vavg[ic, ibl, 0] += v[0]\n",
    "                    vavg[ic, ibl, 1] += v[1]\n",
    "                    \n",
    "                    #print('done', ibl, ic, it)\n",
    "\n",
    "\n",
    "                ibl += 1\n",
    "\n",
    "    ics //= nant\n",
    "    cas //= nbl\n",
    "    vavg //= nt\n",
    "            \n"
   ]
  },
  {
   "cell_type": "code",
   "execution_count": 4,
   "id": "2ae89742",
   "metadata": {},
   "outputs": [
    {
     "name": "stderr",
     "output_type": "stream",
     "text": [
      "/Users/ban115/bolton/craft/venv3.9/lib/python3.9/site-packages/numba/core/typed_passes.py:329: NumbaPerformanceWarning: \n",
      "The keyword argument 'parallel=True' was specified but no transformation for parallel execution was possible.\n",
      "\n",
      "To find out why, try turning on parallel diagnostics, see https://numba.readthedocs.io/en/stable/user/parallel.html#diagnostics for help.\n",
      "\n",
      "File \"../../../../../var/folders/46/9g9nrj1x70d5nyxrqm1z6yb4009_fc/T/ipykernel_29829/3996752812.py\", line 2:\n",
      "<source missing, REPL/exec in use?>\n",
      "\n",
      "  warnings.warn(errors.NumbaPerformanceWarning(msg,\n"
     ]
    }
   ],
   "source": [
    "for i in range(1):\n",
    "    make_averages(nant, vin, vavg, ics, cas)"
   ]
  },
  {
   "cell_type": "code",
   "execution_count": 5,
   "id": "23e3811d",
   "metadata": {},
   "outputs": [
    {
     "name": "stdout",
     "output_type": "stream",
     "text": [
      " \n",
      "================================================================================\n",
      " Parallel Accelerator Optimizing:  Function make_averages, \n",
      "/var/folders/46/9g9nrj1x70d5nyxrqm1z6yb4009_fc/T/ipykernel_29829/3996752812.py \n",
      "(2)  \n",
      "================================================================================\n",
      "No source available\n",
      "--------------------------------- Fusing loops ---------------------------------\n",
      "Attempting fusion of parallel loops (combines loops with similar properties)...\n",
      "----------------------------- Before Optimisation ------------------------------\n",
      "--------------------------------------------------------------------------------\n",
      "------------------------------ After Optimisation ------------------------------\n",
      "Parallel structure is already optimal.\n",
      "--------------------------------------------------------------------------------\n",
      "--------------------------------------------------------------------------------\n",
      " \n",
      "---------------------------Loop invariant code motion---------------------------\n",
      "Allocation hoisting:\n",
      "No allocation hoisting found\n",
      "\n",
      "Instruction hoisting:\n",
      "No instruction hoisting found\n",
      "--------------------------------------------------------------------------------\n"
     ]
    }
   ],
   "source": [
    "make_averages.parallel_diagnostics(level=4)\n"
   ]
  },
  {
   "cell_type": "code",
   "execution_count": 6,
   "id": "e40169fb",
   "metadata": {},
   "outputs": [
    {
     "name": "stdout",
     "output_type": "stream",
     "text": [
      "1.43 ms ± 74.1 µs per loop (mean ± std. dev. of 7 runs, 1 loop each)\n"
     ]
    }
   ],
   "source": [
    "%timeit -n1 make_averages(nant, vin, vavg, ics, cas)"
   ]
  },
  {
   "cell_type": "code",
   "execution_count": 7,
   "id": "d1cfd56d",
   "metadata": {},
   "outputs": [
    {
     "data": {
      "text/plain": [
       "(24, 465, 32, 2)"
      ]
     },
     "execution_count": 7,
     "metadata": {},
     "output_type": "execute_result"
    }
   ],
   "source": [
    "vin.shape"
   ]
  },
  {
   "cell_type": "code",
   "execution_count": 8,
   "id": "6c9677e0",
   "metadata": {
    "scrolled": false
   },
   "outputs": [
    {
     "name": "stdout",
     "output_type": "stream",
     "text": [
      "make_averages (int64, array(int16, 4d, C), array(float32, 3d, C), array(float32, 2d, C), array(float32, 2d, C))\n",
      "--------------------------------------------------------------------------------\n",
      "# File: /var/folders/46/9g9nrj1x70d5nyxrqm1z6yb4009_fc/T/ipykernel_29829/3996752812.py\n",
      "# --- LINE 2 --- \n",
      "\n",
      "@njit(fastmath=True, parallel=True, locals={'vabs':numba.float32})\n",
      "\n",
      "# --- LINE 3 --- \n",
      "\n",
      "def make_averages(nant, vin, vavg, ics, cas):\n",
      "\n",
      "    # --- LINE 4 --- \n",
      "    # label 0\n",
      "    #   nant = arg(0, name=nant)  :: int64\n",
      "    #   vin = arg(1, name=vin)  :: array(int16, 4d, C)\n",
      "    #   vavg = arg(2, name=vavg)  :: array(float32, 3d, C)\n",
      "    #   ics = arg(3, name=ics)  :: array(float32, 2d, C)\n",
      "    #   cas = arg(4, name=cas)  :: array(float32, 2d, C)\n",
      "    #   $4load_attr.1 = getattr(value=vin, attr=shape)  :: UniTuple(int64 x 4)\n",
      "    #   $6unpack_sequence.6 = exhaust_iter(value=$4load_attr.1, count=4)  :: UniTuple(int64 x 4)\n",
      "    #   del $4load_attr.1\n",
      "    #   $nchan.30 = static_getitem(value=$6unpack_sequence.6, index=0, index_var=None, fn=<built-in function getitem>)  :: int64\n",
      "    #   $nbl.31 = static_getitem(value=$6unpack_sequence.6, index=1, index_var=None, fn=<built-in function getitem>)  :: int64\n",
      "    #   $nt.32 = static_getitem(value=$6unpack_sequence.6, index=2, index_var=None, fn=<built-in function getitem>)  :: int64\n",
      "    #   del $6unpack_sequence.6\n",
      "\n",
      "    nchan,nbl, nt, _ = vin.shape\n",
      "\n",
      "# --- LINE 5 --- \n",
      "\n",
      "\n",
      "\n",
      "    # --- LINE 6 --- \n",
      "    #   $16load_global.7 = global(range: <class 'range'>)  :: Function(<class 'range'>)\n",
      "    #   $20call_function.9 = call $16load_global.7($nchan.30, func=$16load_global.7, args=[Var($nchan.30, 3996752812.py:4)], kws=(), vararg=None, varkwarg=None, target=None)  :: (int64,) -> range_state_int64\n",
      "    #   del $nchan.30\n",
      "    #   del $16load_global.7\n",
      "    #   $22get_iter.10 = getiter(value=$20call_function.9)  :: range_iter_int64\n",
      "    #   del $20call_function.9\n",
      "    #   jump 24\n",
      "    # label 24\n",
      "    #   $24for_iter.1 = iternext(value=$22get_iter.10)  :: pair<int64, bool>\n",
      "    #   $ic.34 = pair_first(value=$24for_iter.1)  :: int64\n",
      "    #   $24for_iter.3 = pair_second(value=$24for_iter.1)  :: bool\n",
      "    #   del $24for_iter.1\n",
      "    #   branch $24for_iter.3, 26, 240\n",
      "    # label 26\n",
      "\n",
      "    for ic in range(nchan):\n",
      "\n",
      "        # --- LINE 7 --- \n",
      "        #   del $24for_iter.3\n",
      "        #   ibl = const(int, 0)  :: Literal[int](0)\n",
      "        #   ibl.3 = ibl  :: int64\n",
      "        #   del ibl\n",
      "\n",
      "        ibl = 0\n",
      "\n",
      "        # --- LINE 8 --- \n",
      "        #   $32load_global.3 = global(range: <class 'range'>)  :: Function(<class 'range'>)\n",
      "        #   $36call_function.5 = call $32load_global.3(nant, func=$32load_global.3, args=[Var(nant, 3996752812.py:4)], kws=(), vararg=None, varkwarg=None, target=None)  :: (int64,) -> range_state_int64\n",
      "        #   del $32load_global.3\n",
      "        #   $38get_iter.6 = getiter(value=$36call_function.5)  :: range_iter_int64\n",
      "        #   del $36call_function.5\n",
      "        #   jump 40\n",
      "        # label 40\n",
      "        #   $40for_iter.2 = iternext(value=$38get_iter.6)  :: pair<int64, bool>\n",
      "        #   $ia1.36 = pair_first(value=$40for_iter.2)  :: int64\n",
      "        #   $40for_iter.4 = pair_second(value=$40for_iter.2)  :: bool\n",
      "        #   del $40for_iter.2\n",
      "        #   branch $40for_iter.4, 42, 238\n",
      "        # label 42\n",
      "\n",
      "        for ia1 in range(nant):\n",
      "\n",
      "            # --- LINE 9 --- \n",
      "            #   $44load_global.3 = global(range: <class 'range'>)  :: Function(<class 'range'>)\n",
      "            #   $50call_function.6 = call $44load_global.3($ia1.36, nant, func=$44load_global.3, args=[Var($ia1.36, 3996752812.py:8), Var(nant, 3996752812.py:4)], kws=(), vararg=None, varkwarg=None, target=None)  :: (int64, int64) -> range_state_int64\n",
      "            #   del $44load_global.3\n",
      "            #   $52get_iter.7 = getiter(value=$50call_function.6)  :: range_iter_int64\n",
      "            #   del $50call_function.6\n",
      "            #   jump 54\n",
      "            # label 54\n",
      "            #   $54for_iter.3 = iternext(value=$52get_iter.7)  :: pair<int64, bool>\n",
      "            #   $ia2.38 = pair_first(value=$54for_iter.3)  :: int64\n",
      "            #   $54for_iter.5 = pair_second(value=$54for_iter.3)  :: bool\n",
      "            #   del $54for_iter.3\n",
      "            #   branch $54for_iter.5, 56, 236\n",
      "            # label 56\n",
      "\n",
      "            for ia2 in range(ia1, nant):\n",
      "\n",
      "                # --- LINE 10 --- \n",
      "\n",
      "                #print(ia1, ia2, ibl, nbl)\n",
      "\n",
      "                # --- LINE 11 --- \n",
      "\n",
      "                #assert ibl < nbl#, f'Invalid ibl {ia1} {ia2} {ibl} {nbl}'\n",
      "\n",
      "# --- LINE 12 --- \n",
      "\n",
      "\n",
      "\n",
      "                # --- LINE 13 --- \n",
      "                #   del $40for_iter.4\n",
      "                #   ibl.2 = ibl.3  :: int64\n",
      "                #   del ibl.3\n",
      "                #   del $54for_iter.5\n",
      "                #   $58load_global.4 = global(range: <class 'range'>)  :: Function(<class 'range'>)\n",
      "                #   $62call_function.6 = call $58load_global.4($nt.32, func=$58load_global.4, args=[Var($nt.32, 3996752812.py:4)], kws=(), vararg=None, varkwarg=None, target=None)  :: (int64,) -> range_state_int64\n",
      "                #   del $58load_global.4\n",
      "                #   $64get_iter.7 = getiter(value=$62call_function.6)  :: range_iter_int64\n",
      "                #   del $62call_function.6\n",
      "                #   jump 66\n",
      "                # label 66\n",
      "                #   $66for_iter.4 = iternext(value=$64get_iter.7)  :: pair<int64, bool>\n",
      "                #   $it.40 = pair_first(value=$66for_iter.4)  :: int64\n",
      "                #   $66for_iter.6 = pair_second(value=$66for_iter.4)  :: bool\n",
      "                #   del $66for_iter.4\n",
      "                #   branch $66for_iter.6, 68, 226\n",
      "                # label 68\n",
      "                #   del $ia2.38\n",
      "                #   del $ia1.36\n",
      "                #   del $54for_iter.5\n",
      "                #   del $52get_iter.7\n",
      "                #   ibl.3 = ibl.2  :: int64\n",
      "                #   del ibl.2\n",
      "\n",
      "                for it in range(nt):\n",
      "\n",
      "                    # --- LINE 14 --- \n",
      "                    #   del $66for_iter.6\n",
      "                    #   $const78.9 = const(NoneType, None)  :: none\n",
      "                    #   $const80.10 = const(NoneType, None)  :: none\n",
      "                    #   $82build_slice.11 = global(slice: <class 'slice'>)  :: Function(<class 'slice'>)\n",
      "                    #   $82build_slice.12 = call $82build_slice.11($const78.9, $const80.10, func=$82build_slice.11, args=(Var($const78.9, 3996752812.py:14), Var($const80.10, 3996752812.py:14)), kws=(), vararg=None, varkwarg=None, target=None)  :: (none, none) -> slice<a:b>\n",
      "                    #   del $const80.10\n",
      "                    #   del $const78.9\n",
      "                    #   del $82build_slice.11\n",
      "                    #   $84build_tuple.13 = build_tuple(items=[Var($ic.34, 3996752812.py:6), Var(ibl.2, 3996752812.py:13), Var($it.40, 3996752812.py:13), Var($82build_slice.12, 3996752812.py:14)])  :: Tuple(int64, int64, int64, slice<a:b>)\n",
      "                    #   del $82build_slice.12\n",
      "                    #   v = getitem(value=vin, index=$84build_tuple.13, fn=<built-in function getitem>)  :: array(int16, 1d, C)\n",
      "                    #   del $84build_tuple.13\n",
      "\n",
      "                    v = vin[ic, ibl, it, :]\n",
      "\n",
      "                    # --- LINE 15 --- \n",
      "\n",
      "                    #v = np.array([0,1])\n",
      "\n",
      "                    # --- LINE 16 --- \n",
      "                    #   $const92.16 = const(int, 0)  :: Literal[int](0)\n",
      "                    #   $94binary_subscr.17 = static_getitem(value=v, index=0, index_var=$const92.16, fn=<built-in function getitem>)  :: int16\n",
      "                    #   del $const92.16\n",
      "                    #   $const98.19 = const(int, 0)  :: Literal[int](0)\n",
      "                    #   $100binary_subscr.20 = static_getitem(value=v, index=0, index_var=$const98.19, fn=<built-in function getitem>)  :: int16\n",
      "                    #   del $const98.19\n",
      "                    #   $102binary_multiply.21 = $94binary_subscr.17 * $100binary_subscr.20  :: int64\n",
      "                    #   del $94binary_subscr.17\n",
      "                    #   del $100binary_subscr.20\n",
      "                    #   $const106.23 = const(int, 1)  :: Literal[int](1)\n",
      "                    #   $108binary_subscr.24 = static_getitem(value=v, index=1, index_var=$const106.23, fn=<built-in function getitem>)  :: int16\n",
      "                    #   del $const106.23\n",
      "                    #   $const112.26 = const(int, 1)  :: Literal[int](1)\n",
      "                    #   $114binary_subscr.27 = static_getitem(value=v, index=1, index_var=$const112.26, fn=<built-in function getitem>)  :: int16\n",
      "                    #   del $const112.26\n",
      "                    #   $116binary_multiply.28 = $108binary_subscr.24 * $114binary_subscr.27  :: int64\n",
      "                    #   del $114binary_subscr.27\n",
      "                    #   del $108binary_subscr.24\n",
      "                    #   vabs = $102binary_multiply.21 + $116binary_multiply.28  :: float32\n",
      "                    #   del $116binary_multiply.28\n",
      "                    #   del $102binary_multiply.21\n",
      "\n",
      "                    vabs = v[0]*v[0] + v[1]*v[1]\n",
      "\n",
      "                    # --- LINE 17 --- \n",
      "                    #   $126compare_op.32 = $ia1.36 == $ia2.38  :: bool\n",
      "                    #   bool128 = global(bool: <class 'bool'>)  :: Function(<class 'bool'>)\n",
      "                    #   $128pred = call bool128($126compare_op.32, func=bool128, args=(Var($126compare_op.32, 3996752812.py:17),), kws=(), vararg=None, varkwarg=None, target=None)  :: (bool,) -> bool\n",
      "                    #   del bool128\n",
      "                    #   del $126compare_op.32\n",
      "                    #   branch $128pred, 130, 152\n",
      "\n",
      "                    if ia1 == ia2:\n",
      "\n",
      "                        # --- LINE 18 --- \n",
      "                        # label 130\n",
      "                        #   del $128pred\n",
      "                        #   $136build_tuple.7 = build_tuple(items=[Var($it.40, 3996752812.py:13), Var($ic.34, 3996752812.py:6)])  :: UniTuple(int64 x 2)\n",
      "                        #   del $it.40\n",
      "                        #   $140binary_subscr.10 = getitem(value=ics, index=$136build_tuple.7, fn=<built-in function getitem>)  :: float32\n",
      "                        #   $144inplace_add.12 = inplace_binop(fn=<built-in function iadd>, immutable_fn=<built-in function add>, lhs=$140binary_subscr.10, rhs=vabs, static_lhs=Undefined, static_rhs=Undefined)  :: float32\n",
      "                        #   del vabs\n",
      "                        #   del $140binary_subscr.10\n",
      "                        #   ics[$136build_tuple.7] = $144inplace_add.12  :: (array(float32, 2d, C), UniTuple(int64 x 2), float32) -> none\n",
      "                        #   del $144inplace_add.12\n",
      "                        #   del $136build_tuple.7\n",
      "                        #   jump 172\n",
      "\n",
      "                        ics[it, ic] += vabs\n",
      "\n",
      "                    # --- LINE 19 --- \n",
      "\n",
      "                    else:\n",
      "\n",
      "                        # --- LINE 20 --- \n",
      "                        # label 152\n",
      "                        #   del $128pred\n",
      "                        #   $158build_tuple.7 = build_tuple(items=[Var($it.40, 3996752812.py:13), Var($ic.34, 3996752812.py:6)])  :: UniTuple(int64 x 2)\n",
      "                        #   del $it.40\n",
      "                        #   $162binary_subscr.10 = getitem(value=cas, index=$158build_tuple.7, fn=<built-in function getitem>)  :: float32\n",
      "                        #   $166inplace_add.12 = inplace_binop(fn=<built-in function iadd>, immutable_fn=<built-in function add>, lhs=$162binary_subscr.10, rhs=vabs, static_lhs=Undefined, static_rhs=Undefined)  :: float32\n",
      "                        #   del vabs\n",
      "                        #   del $162binary_subscr.10\n",
      "                        #   cas[$158build_tuple.7] = $166inplace_add.12  :: (array(float32, 2d, C), UniTuple(int64 x 2), float32) -> none\n",
      "                        #   del $166inplace_add.12\n",
      "                        #   del $158build_tuple.7\n",
      "\n",
      "                        cas[it, ic] += vabs\n",
      "\n",
      "# --- LINE 21 --- \n",
      "\n",
      "\n",
      "\n",
      "                    # --- LINE 22 --- \n",
      "\n",
      "                    #print('out', ibl, ic, it)\n",
      "\n",
      "                    # --- LINE 23 --- \n",
      "                    #   jump 172\n",
      "                    # label 172\n",
      "                    #   $const178.7 = const(int, 0)  :: Literal[int](0)\n",
      "                    #   $180build_tuple.8 = build_tuple(items=[Var($ic.34, 3996752812.py:6), Var(ibl.2, 3996752812.py:13), Var($const178.7, 3996752812.py:23)])  :: Tuple(int64, int64, Literal[int](0))\n",
      "                    #   del $const178.7\n",
      "                    #   $184binary_subscr.11 = getitem(value=vavg, index=$180build_tuple.8, fn=<built-in function getitem>)  :: float32\n",
      "                    #   $const188.13 = const(int, 0)  :: Literal[int](0)\n",
      "                    #   $190binary_subscr.14 = static_getitem(value=v, index=0, index_var=$const188.13, fn=<built-in function getitem>)  :: int16\n",
      "                    #   del $const188.13\n",
      "                    #   $192inplace_add.15 = inplace_binop(fn=<built-in function iadd>, immutable_fn=<built-in function add>, lhs=$184binary_subscr.11, rhs=$190binary_subscr.14, static_lhs=Undefined, static_rhs=Undefined)  :: float32\n",
      "                    #   del $190binary_subscr.14\n",
      "                    #   del $184binary_subscr.11\n",
      "                    #   vavg[$180build_tuple.8] = $192inplace_add.15  :: (array(float32, 3d, C), UniTuple(int64 x 3), float32) -> none\n",
      "                    #   del $192inplace_add.15\n",
      "                    #   del $180build_tuple.8\n",
      "\n",
      "                    vavg[ic, ibl, 0] += v[0]\n",
      "\n",
      "                    # --- LINE 24 --- \n",
      "                    #   $const204.19 = const(int, 1)  :: Literal[int](1)\n",
      "                    #   $206build_tuple.20 = build_tuple(items=[Var($ic.34, 3996752812.py:6), Var(ibl.2, 3996752812.py:13), Var($const204.19, 3996752812.py:24)])  :: Tuple(int64, int64, Literal[int](1))\n",
      "                    #   del $const204.19\n",
      "                    #   $210binary_subscr.23 = getitem(value=vavg, index=$206build_tuple.20, fn=<built-in function getitem>)  :: float32\n",
      "                    #   $const214.25 = const(int, 1)  :: Literal[int](1)\n",
      "                    #   $216binary_subscr.26 = static_getitem(value=v, index=1, index_var=$const214.25, fn=<built-in function getitem>)  :: int16\n",
      "                    #   del v\n",
      "                    #   del $const214.25\n",
      "                    #   $218inplace_add.27 = inplace_binop(fn=<built-in function iadd>, immutable_fn=<built-in function add>, lhs=$210binary_subscr.23, rhs=$216binary_subscr.26, static_lhs=Undefined, static_rhs=Undefined)  :: float32\n",
      "                    #   del $216binary_subscr.26\n",
      "                    #   del $210binary_subscr.23\n",
      "                    #   vavg[$206build_tuple.20] = $218inplace_add.27  :: (array(float32, 3d, C), UniTuple(int64 x 3), float32) -> none\n",
      "                    #   del $218inplace_add.27\n",
      "                    #   del $206build_tuple.20\n",
      "                    #   jump 66\n",
      "\n",
      "                    vavg[ic, ibl, 1] += v[1]\n",
      "\n",
      "# --- LINE 25 --- \n",
      "\n",
      "\n",
      "\n",
      "                    # --- LINE 26 --- \n",
      "\n",
      "                    #print('done', ibl, ic, it)\n",
      "\n",
      "# --- LINE 27 --- \n",
      "\n",
      "\n",
      "\n",
      "# --- LINE 28 --- \n",
      "\n",
      "\n",
      "\n",
      "                # --- LINE 29 --- \n",
      "                # label 226\n",
      "                #   del $it.40\n",
      "                #   del $ia2.38\n",
      "                #   del $66for_iter.6\n",
      "                #   del $64get_iter.7\n",
      "                #   $const228.4 = const(int, 1)  :: Literal[int](1)\n",
      "                #   $ibl.2.44 = inplace_binop(fn=<built-in function iadd>, immutable_fn=<built-in function add>, lhs=ibl.2, rhs=$const228.4, static_lhs=Undefined, static_rhs=Undefined)  :: int64\n",
      "                #   del $const228.4\n",
      "                #   ibl.2 = $ibl.2.44  :: int64\n",
      "                #   del $ibl.2.44\n",
      "                #   jump 54\n",
      "                # label 236\n",
      "                #   jump 40\n",
      "                # label 238\n",
      "                #   del ibl.3\n",
      "                #   del $ic.34\n",
      "                #   del $ia1.36\n",
      "                #   del $40for_iter.4\n",
      "                #   del $38get_iter.6\n",
      "                #   jump 24\n",
      "\n",
      "                ibl += 1\n",
      "\n",
      "# --- LINE 30 --- \n",
      "\n",
      "\n",
      "\n",
      "    # --- LINE 31 --- \n",
      "    # label 240\n",
      "    #   del vin\n",
      "    #   del $ic.34\n",
      "    #   del $24for_iter.3\n",
      "    #   del $22get_iter.10\n",
      "    #   ics.1 = inplace_binop(fn=<built-in function ifloordiv>, immutable_fn=<built-in function floordiv>, lhs=ics, rhs=nant, static_lhs=Undefined, static_rhs=Undefined)  :: array(float32, 2d, C)\n",
      "    #   del nant\n",
      "    #   del ics.1\n",
      "    #   del ics\n",
      "\n",
      "    ics //= nant\n",
      "\n",
      "    # --- LINE 32 --- \n",
      "    #   cas.1 = inplace_binop(fn=<built-in function ifloordiv>, immutable_fn=<built-in function floordiv>, lhs=cas, rhs=$nbl.31, static_lhs=Undefined, static_rhs=Undefined)  :: array(float32, 2d, C)\n",
      "    #   del cas.1\n",
      "    #   del cas\n",
      "    #   del $nbl.31\n",
      "\n",
      "    cas //= nbl\n",
      "\n",
      "    # --- LINE 33 --- \n",
      "    #   vavg.1 = inplace_binop(fn=<built-in function ifloordiv>, immutable_fn=<built-in function floordiv>, lhs=vavg, rhs=$nt.32, static_lhs=Undefined, static_rhs=Undefined)  :: array(float32, 3d, C)\n",
      "    #   del vavg.1\n",
      "    #   del vavg\n",
      "    #   del $nt.32\n",
      "    #   $const264.9 = const(NoneType, None)  :: none\n",
      "    #   $266return_value.10 = cast(value=$const264.9)  :: none\n",
      "    #   del $const264.9\n",
      "    #   return $266return_value.10\n",
      "\n",
      "    vavg //= nt\n",
      "\n",
      "\n",
      "================================================================================\n"
     ]
    }
   ],
   "source": [
    "make_averages.inspect_types()"
   ]
  },
  {
   "cell_type": "code",
   "execution_count": 80,
   "id": "e1ddb7f2",
   "metadata": {},
   "outputs": [],
   "source": [
    "from craco.cardcapfile import  get_single_packet_dtype, NCHAN,get_indexes\n",
    "from craco.card_averager import *\n"
   ]
  },
  {
   "cell_type": "code",
   "execution_count": 10,
   "id": "3054c4aa",
   "metadata": {},
   "outputs": [
    {
     "name": "stdout",
     "output_type": "stream",
     "text": [
      "(6, 144, 16)\n",
      "(6, 144, 16, 2, 465, 1, 2)\n"
     ]
    }
   ],
   "source": [
    "nfpga = 6\n",
    "nbeam = 36\n",
    "nc_per_fpga = 4\n",
    "nt = 16\n",
    "npkt = nbeam*nc_per_fpga\n",
    "pktshape = (npkt, nt)\n",
    "polsum = True\n",
    "debughdr = True\n",
    "dtype = get_single_packet_dtype(nbl, debughdr, polsum)\n",
    "din_list = [np.zeros(pktshape, dtype=dtype) for i in range(nfpga)]\n",
    "packets = [(0, pkt) for pkt in din_list]\n",
    "din = np.array(din_list)\n",
    "tscrunch = 4\n",
    "print(din.shape)\n",
    "print(din['data'].shape)"
   ]
  },
  {
   "cell_type": "code",
   "execution_count": 11,
   "id": "21887e53",
   "metadata": {},
   "outputs": [
    {
     "name": "stdout",
     "output_type": "stream",
     "text": [
      "(144, 465, 1, 2) float32\n"
     ]
    }
   ],
   "source": [
    "\n",
    "dout = average1(din)\n",
    "print(dout.shape, dout.dtype)"
   ]
  },
  {
   "cell_type": "code",
   "execution_count": 12,
   "id": "ee6ba9a4",
   "metadata": {},
   "outputs": [
    {
     "name": "stdout",
     "output_type": "stream",
     "text": [
      "8.61 ms ± 84.7 µs per loop (mean ± std. dev. of 7 runs, 100 loops each)\n"
     ]
    }
   ],
   "source": [
    "%timeit average1(din)"
   ]
  },
  {
   "cell_type": "code",
   "execution_count": 13,
   "id": "6ccf354a",
   "metadata": {},
   "outputs": [
    {
     "name": "stdout",
     "output_type": "stream",
     "text": [
      "19.2 µs ± 137 ns per loop (mean ± std. dev. of 7 runs, 100,000 loops each)\n"
     ]
    }
   ],
   "source": [
    "%timeit dout.astype(np.int16)"
   ]
  },
  {
   "cell_type": "code",
   "execution_count": 14,
   "id": "c62e9549",
   "metadata": {},
   "outputs": [
    {
     "name": "stdout",
     "output_type": "stream",
     "text": [
      "22.2 ms ± 181 µs per loop (mean ± std. dev. of 7 runs, 10 loops each)\n"
     ]
    }
   ],
   "source": [
    "%timeit average2(din, tscrunch=4)"
   ]
  },
  {
   "cell_type": "code",
   "execution_count": 15,
   "id": "548792b2",
   "metadata": {},
   "outputs": [
    {
     "name": "stdout",
     "output_type": "stream",
     "text": [
      "27.9 ms ± 716 µs per loop (mean ± std. dev. of 7 runs, 10 loops each)\n"
     ]
    }
   ],
   "source": [
    "%timeit average3(din, tscrunch=4)"
   ]
  },
  {
   "cell_type": "code",
   "execution_count": 16,
   "id": "f83838d1",
   "metadata": {},
   "outputs": [
    {
     "name": "stdout",
     "output_type": "stream",
     "text": [
      "27.7 ms ± 476 µs per loop (mean ± std. dev. of 7 runs, 10 loops each)\n"
     ]
    }
   ],
   "source": [
    "%timeit average3(din, tscrunch=2)"
   ]
  },
  {
   "cell_type": "code",
   "execution_count": 17,
   "id": "467931cf",
   "metadata": {},
   "outputs": [
    {
     "name": "stdout",
     "output_type": "stream",
     "text": [
      "22.6 ms ± 401 µs per loop (mean ± std. dev. of 7 runs, 10 loops each)\n"
     ]
    }
   ],
   "source": [
    "%timeit average4(din, tscrunch=2)"
   ]
  },
  {
   "cell_type": "code",
   "execution_count": 18,
   "id": "4b2b8895",
   "metadata": {},
   "outputs": [
    {
     "name": "stdout",
     "output_type": "stream",
     "text": [
      "19 ms ± 63.1 µs per loop (mean ± std. dev. of 7 runs, 100 loops each)\n"
     ]
    }
   ],
   "source": [
    "data = din['data']\n",
    "(nfpga, npkt, nt1, nt2, nbl, _, _) = data.shape\n",
    "dshape = (npkt, nt1*nt2 // tscrunch, nbl, 2)\n",
    "dout = np.zeros(dshape, dtype=np.float32)\n",
    "%timeit average4(din, tscrunch=tscrunch, dout=dout)"
   ]
  },
  {
   "cell_type": "code",
   "execution_count": 19,
   "id": "8e72b7ab",
   "metadata": {},
   "outputs": [
    {
     "name": "stdout",
     "output_type": "stream",
     "text": [
      "19 ms ± 164 µs per loop (mean ± std. dev. of 7 runs, 100 loops each)\n"
     ]
    }
   ],
   "source": [
    "%timeit average4(din, tscrunch=tscrunch, dout=None)"
   ]
  },
  {
   "cell_type": "code",
   "execution_count": 20,
   "id": "e6c09b3e",
   "metadata": {},
   "outputs": [
    {
     "name": "stdout",
     "output_type": "stream",
     "text": [
      "112 ms ± 1.22 ms per loop (mean ± std. dev. of 7 runs, 10 loops each)\n"
     ]
    }
   ],
   "source": [
    "average5(din, tscrunch=tscrunch, dout=dout)\n",
    "%timeit average5(din, tscrunch=tscrunch, dout=dout)"
   ]
  },
  {
   "cell_type": "code",
   "execution_count": 21,
   "id": "4b8fcb78",
   "metadata": {
    "scrolled": false
   },
   "outputs": [],
   "source": [
    "# average5.inspect_types()"
   ]
  },
  {
   "cell_type": "code",
   "execution_count": 22,
   "id": "a4843bd0",
   "metadata": {},
   "outputs": [
    {
     "name": "stderr",
     "output_type": "stream",
     "text": [
      "/Users/ban115/bolton/craft/venv3.9/lib/python3.9/site-packages/numba/core/typed_passes.py:329: NumbaPerformanceWarning: \n",
      "The keyword argument 'parallel=True' was specified but no transformation for parallel execution was possible.\n",
      "\n",
      "To find out why, try turning on parallel diagnostics, see https://numba.readthedocs.io/en/stable/user/parallel.html#diagnostics for help.\n",
      "\n",
      "File \"../src/craco/card_averager.py\", line 301:\n",
      "@njit(fastmath=True,debug=True,parallel=True)\n",
      "def average6(din, tscrunch, dout):\n",
      "^\n",
      "\n",
      "  warnings.warn(errors.NumbaPerformanceWarning(msg,\n"
     ]
    },
    {
     "name": "stdout",
     "output_type": "stream",
     "text": [
      "25.6 ms ± 840 µs per loop (mean ± std. dev. of 7 runs, 10 loops each)\n"
     ]
    }
   ],
   "source": [
    "average6(din, tscrunch=tscrunch, dout=dout)\n",
    "%timeit average6(din, tscrunch=tscrunch, dout=dout)"
   ]
  },
  {
   "cell_type": "code",
   "execution_count": 23,
   "id": "3dd0446b",
   "metadata": {},
   "outputs": [
    {
     "data": {
      "text/plain": [
       "(144, 8, 465, 2)"
      ]
     },
     "execution_count": 23,
     "metadata": {},
     "output_type": "execute_result"
    }
   ],
   "source": [
    "dout.shape"
   ]
  },
  {
   "cell_type": "code",
   "execution_count": 24,
   "id": "6d8413e4",
   "metadata": {},
   "outputs": [
    {
     "name": "stdout",
     "output_type": "stream",
     "text": [
      "average6 (unaligned array(Record(frame_id[type=uint64;offset=0],bat[type=uint64;offset=8],beam_number[type=uint8;offset=16],sample_number[type=uint8;offset=17],channel_number[type=uint8;offset=18],fpga_id[type=uint8;offset=19],nprod[type=uint16;offset=20],flags[type=uint8;offset=22],zero1[type=uint8;offset=23],version[type=uint32;offset=24],zero3[type=uint32;offset=28],data[type=nestedarray(int16, (2, 465, 1, 2));offset=32];3752;False), 3d, C), int64, array(float32, 4d, C))\n",
      "--------------------------------------------------------------------------------\n",
      "# File: /Users/ban115/bolton/craco-python/src/craco/card_averager.py\n",
      "# --- LINE 300 --- \n",
      "\n",
      "@njit(fastmath=True,debug=True,parallel=True)\n",
      "\n",
      "# --- LINE 301 --- \n",
      "\n",
      "def average6(din, tscrunch, dout):\n",
      "\n",
      "    # --- LINE 302 --- \n",
      "    # label 0\n",
      "    #   din = arg(0, name=din)  :: unaligned array(Record(frame_id[type=uint64;offset=0],bat[type=uint64;offset=8],beam_number[type=uint8;offset=16],sample_number[type=uint8;offset=17],channel_number[type=uint8;offset=18],fpga_id[type=uint8;offset=19],nprod[type=uint16;offset=20],flags[type=uint8;offset=22],zero1[type=uint8;offset=23],version[type=uint32;offset=24],zero3[type=uint32;offset=28],data[type=nestedarray(int16, (2, 465, 1, 2));offset=32];3752;False), 3d, C)\n",
      "    #   tscrunch = arg(1, name=tscrunch)  :: int64\n",
      "    #   dout = arg(2, name=dout)  :: array(float32, 4d, C)\n",
      "    #   $const4.1 = const(str, data)  :: Literal[str](data)\n",
      "    #   data = static_getitem(value=din, index=data, index_var=$const4.1, fn=<built-in function getitem>)  :: unaligned array(int16, 7d, A)\n",
      "\n",
      "    data = din['data']\n",
      "\n",
      "    # --- LINE 303 --- \n",
      "    #   $12load_attr.4 = getattr(value=data, attr=shape)  :: UniTuple(int64 x 7)\n",
      "    #   $14unpack_sequence.12 = exhaust_iter(value=$12load_attr.4, count=7)  :: UniTuple(int64 x 7)\n",
      "    #   $nfpga.67 = static_getitem(value=$14unpack_sequence.12, index=0, index_var=None, fn=<built-in function getitem>)  :: int64\n",
      "    #   $npkt.68 = static_getitem(value=$14unpack_sequence.12, index=1, index_var=None, fn=<built-in function getitem>)  :: int64\n",
      "    #   $nt1.69 = static_getitem(value=$14unpack_sequence.12, index=2, index_var=None, fn=<built-in function getitem>)  :: int64\n",
      "    #   $nt2.70 = static_getitem(value=$14unpack_sequence.12, index=3, index_var=None, fn=<built-in function getitem>)  :: int64\n",
      "    #   $nbl.71 = static_getitem(value=$14unpack_sequence.12, index=4, index_var=None, fn=<built-in function getitem>)  :: int64\n",
      "\n",
      "    (nfpga, npkt, nt1, nt2, nbl, _, _) = data.shape\n",
      "\n",
      "    # --- LINE 304 --- \n",
      "    #   $const30.13 = const(int, 0)  :: Literal[int](0)\n",
      "    #   $const34.15 = const(NoneType, None)  :: none\n",
      "    #   $const36.16 = const(NoneType, None)  :: none\n",
      "    #   $38build_slice.17 = global(slice: <class 'slice'>)  :: Function(<class 'slice'>)\n",
      "    #   $38build_slice.18 = call $38build_slice.17($const34.15, $const36.16, func=$38build_slice.17, args=(Var($const34.15, card_averager.py:304), Var($const36.16, card_averager.py:304)), kws=(), vararg=None, varkwarg=None, target=None)  :: (none, none) -> slice<a:b>\n",
      "    #   dout[slice(None, None, None)] = $const30.13\n",
      "\n",
      "    dout[:] = 0\n",
      "\n",
      "# --- LINE 305 --- \n",
      "\n",
      "\n",
      "\n",
      "    # --- LINE 306 --- \n",
      "    #   $42load_global.19 = global(range: <class 'range'>)  :: Function(<class 'range'>)\n",
      "    #   $46call_function.21 = call $42load_global.19($nfpga.67, func=$42load_global.19, args=[Var($nfpga.67, card_averager.py:303)], kws=(), vararg=None, varkwarg=None, target=None)  :: (int64,) -> range_state_int64\n",
      "    #   $48get_iter.22 = getiter(value=$46call_function.21)  :: range_iter_int64\n",
      "    #   del din\n",
      "    #   del $const4.1\n",
      "    #   del $12load_attr.4\n",
      "    #   del $14unpack_sequence.12\n",
      "    #   del $const36.16\n",
      "    #   del $const34.15\n",
      "    #   del $38build_slice.17\n",
      "    #   del $const30.13\n",
      "    #   del $38build_slice.18\n",
      "    #   del $42load_global.19\n",
      "    #   del $46call_function.21\n",
      "    #   jump 50\n",
      "    # label 50\n",
      "    #   $50for_iter.1 = iternext(value=$48get_iter.22)  :: pair<int64, bool>\n",
      "    #   $ifpga.74 = pair_first(value=$50for_iter.1)  :: int64\n",
      "    #   $50for_iter.3 = pair_second(value=$50for_iter.1)  :: bool\n",
      "    #   del $50for_iter.1\n",
      "    #   branch $50for_iter.3, 52, 188\n",
      "    # label 52\n",
      "\n",
      "    for ifpga in range(nfpga):\n",
      "\n",
      "        # --- LINE 307 --- \n",
      "        #   del $50for_iter.3\n",
      "        #   $54load_global.2 = global(range: <class 'range'>)  :: Function(<class 'range'>)\n",
      "        #   $58call_function.4 = call $54load_global.2($npkt.68, func=$54load_global.2, args=[Var($npkt.68, card_averager.py:303)], kws=(), vararg=None, varkwarg=None, target=None)  :: (int64,) -> range_state_int64\n",
      "        #   $60get_iter.5 = getiter(value=$58call_function.4)  :: range_iter_int64\n",
      "        #   del $54load_global.2\n",
      "        #   del $58call_function.4\n",
      "        #   jump 62\n",
      "        # label 62\n",
      "        #   $62for_iter.2 = iternext(value=$60get_iter.5)  :: pair<int64, bool>\n",
      "        #   $ipkt.76 = pair_first(value=$62for_iter.2)  :: int64\n",
      "        #   $62for_iter.4 = pair_second(value=$62for_iter.2)  :: bool\n",
      "        #   del $62for_iter.2\n",
      "        #   branch $62for_iter.4, 64, 186\n",
      "        # label 64\n",
      "\n",
      "        for ipkt in range(npkt):\n",
      "\n",
      "            # --- LINE 308 --- \n",
      "            #   del $62for_iter.4\n",
      "            #   $66load_global.3 = global(range: <class 'range'>)  :: Function(<class 'range'>)\n",
      "            #   $70call_function.5 = call $66load_global.3($nt1.69, func=$66load_global.3, args=[Var($nt1.69, card_averager.py:303)], kws=(), vararg=None, varkwarg=None, target=None)  :: (int64,) -> range_state_int64\n",
      "            #   $72get_iter.6 = getiter(value=$70call_function.5)  :: range_iter_int64\n",
      "            #   del $66load_global.3\n",
      "            #   del $70call_function.5\n",
      "            #   jump 74\n",
      "            # label 74\n",
      "            #   $74for_iter.3 = iternext(value=$72get_iter.6)  :: pair<int64, bool>\n",
      "            #   $t1.78 = pair_first(value=$74for_iter.3)  :: int64\n",
      "            #   $74for_iter.5 = pair_second(value=$74for_iter.3)  :: bool\n",
      "            #   del $74for_iter.3\n",
      "            #   branch $74for_iter.5, 76, 184\n",
      "            # label 76\n",
      "\n",
      "            for t1 in range(nt1):\n",
      "\n",
      "                # --- LINE 309 --- \n",
      "                #   del $74for_iter.5\n",
      "                #   $78load_global.4 = global(range: <class 'range'>)  :: Function(<class 'range'>)\n",
      "                #   $82call_function.6 = call $78load_global.4($nt2.70, func=$78load_global.4, args=[Var($nt2.70, card_averager.py:303)], kws=(), vararg=None, varkwarg=None, target=None)  :: (int64,) -> range_state_int64\n",
      "                #   $84get_iter.7 = getiter(value=$82call_function.6)  :: range_iter_int64\n",
      "                #   del $78load_global.4\n",
      "                #   del $82call_function.6\n",
      "                #   jump 86\n",
      "                # label 86\n",
      "                #   $86for_iter.4 = iternext(value=$84get_iter.7)  :: pair<int64, bool>\n",
      "                #   $t2.80 = pair_first(value=$86for_iter.4)  :: int64\n",
      "                #   $86for_iter.6 = pair_second(value=$86for_iter.4)  :: bool\n",
      "                #   del $86for_iter.4\n",
      "                #   branch $86for_iter.6, 88, 182\n",
      "                # label 88\n",
      "\n",
      "                for t2 in range(nt2):\n",
      "\n",
      "                    # --- LINE 310 --- \n",
      "                    #   del $86for_iter.6\n",
      "                    #   $94binary_multiply.7 = $t2.80 * $nt1.69  :: int64\n",
      "                    #   ttotal = $94binary_multiply.7 + $t1.78  :: int64\n",
      "\n",
      "                    ttotal = t2*nt1 + t1\n",
      "\n",
      "                    # --- LINE 311 --- \n",
      "                    #   tout = ttotal // tscrunch  :: int64\n",
      "\n",
      "                    tout = ttotal // tscrunch\n",
      "\n",
      "                    # --- LINE 312 --- \n",
      "                    #   $110load_global.13 = global(range: <class 'range'>)  :: Function(<class 'range'>)\n",
      "                    #   $114call_function.15 = call $110load_global.13($nbl.71, func=$110load_global.13, args=[Var($nbl.71, card_averager.py:303)], kws=(), vararg=None, varkwarg=None, target=None)  :: (int64,) -> range_state_int64\n",
      "                    #   $116get_iter.16 = getiter(value=$114call_function.15)  :: range_iter_int64\n",
      "                    #   del $94binary_multiply.7\n",
      "                    #   del ttotal\n",
      "                    #   del $110load_global.13\n",
      "                    #   del $114call_function.15\n",
      "                    #   jump 118\n",
      "                    # label 118\n",
      "                    #   $118for_iter.5 = iternext(value=$116get_iter.16)  :: pair<int64, bool>\n",
      "                    #   $ibl.82 = pair_first(value=$118for_iter.5)  :: int64\n",
      "                    #   $118for_iter.7 = pair_second(value=$118for_iter.5)  :: bool\n",
      "                    #   del $118for_iter.5\n",
      "                    #   branch $118for_iter.7, 120, 180\n",
      "                    # label 120\n",
      "\n",
      "                    for ibl in range(nbl):\n",
      "\n",
      "                        # --- LINE 313 --- \n",
      "                        #   del $118for_iter.7\n",
      "                        #   $122load_global.6 = global(range: <class 'range'>)  :: Function(<class 'range'>)\n",
      "                        #   $126call_function.8 = call $122load_global.6($nt2.70, func=$122load_global.6, args=[Var($nt2.70, card_averager.py:303)], kws=(), vararg=None, varkwarg=None, target=None)  :: (int64,) -> range_state_int64\n",
      "                        #   $128get_iter.9 = getiter(value=$126call_function.8)  :: range_iter_int64\n",
      "                        #   del $122load_global.6\n",
      "                        #   del $126call_function.8\n",
      "                        #   jump 130\n",
      "                        # label 130\n",
      "                        #   $130for_iter.6 = iternext(value=$128get_iter.9)  :: pair<int64, bool>\n",
      "                        #   $c.84 = pair_first(value=$130for_iter.6)  :: int64\n",
      "                        #   $130for_iter.8 = pair_second(value=$130for_iter.6)  :: bool\n",
      "                        #   del $130for_iter.6\n",
      "                        #   branch $130for_iter.8, 132, 178\n",
      "                        # label 132\n",
      "\n",
      "                        for c in range(nt2):\n",
      "\n",
      "                            # --- LINE 314 --- \n",
      "                            #   del $130for_iter.8\n",
      "                            #   $144build_tuple.12 = build_tuple(items=[Var($ipkt.76, card_averager.py:307), Var(tout, card_averager.py:311), Var($ibl.82, card_averager.py:312), Var($c.84, card_averager.py:313)])  :: UniTuple(int64 x 4)\n",
      "                            #   $148binary_subscr.15 = getitem(value=dout, index=$144build_tuple.12, fn=<built-in function getitem>)  :: float32\n",
      "                            #   $const162.22 = const(int, 0)  :: Literal[int](0)\n",
      "                            #   $166build_tuple.24 = build_tuple(items=[Var($ifpga.74, card_averager.py:306), Var($ipkt.76, card_averager.py:307), Var($t1.78, card_averager.py:308), Var($t2.80, card_averager.py:309), Var($ibl.82, card_averager.py:312), Var($const162.22, card_averager.py:314), Var($c.84, card_averager.py:313)])  :: Tuple(int64, int64, int64, int64, int64, Literal[int](0), int64)\n",
      "                            #   $168binary_subscr.25 = getitem(value=data, index=$166build_tuple.24, fn=<built-in function getitem>)  :: int16\n",
      "                            #   $170inplace_add.26 = inplace_binop(fn=<built-in function iadd>, immutable_fn=<built-in function add>, lhs=$148binary_subscr.15, rhs=$168binary_subscr.25, static_lhs=Undefined, static_rhs=Undefined)  :: float32\n",
      "                            #   dout[$144build_tuple.12] = $170inplace_add.26  :: (array(float32, 4d, C), UniTuple(int64 x 4), float32) -> none\n",
      "                            #   del $const162.22\n",
      "                            #   del $c.84\n",
      "                            #   del $166build_tuple.24\n",
      "                            #   del $168binary_subscr.25\n",
      "                            #   del $148binary_subscr.15\n",
      "                            #   del $170inplace_add.26\n",
      "                            #   del $144build_tuple.12\n",
      "                            #   jump 130\n",
      "                            # label 178\n",
      "                            #   del $ibl.82\n",
      "                            #   del $c.84\n",
      "                            #   del $130for_iter.8\n",
      "                            #   del $128get_iter.9\n",
      "                            #   jump 118\n",
      "                            # label 180\n",
      "                            #   del tout\n",
      "                            #   del $t2.80\n",
      "                            #   del $ibl.82\n",
      "                            #   del $118for_iter.7\n",
      "                            #   del $116get_iter.16\n",
      "                            #   jump 86\n",
      "                            # label 182\n",
      "                            #   del $t2.80\n",
      "                            #   del $t1.78\n",
      "                            #   del $86for_iter.6\n",
      "                            #   del $84get_iter.7\n",
      "                            #   jump 74\n",
      "                            # label 184\n",
      "                            #   del $t1.78\n",
      "                            #   del $ipkt.76\n",
      "                            #   del $74for_iter.5\n",
      "                            #   del $72get_iter.6\n",
      "                            #   jump 62\n",
      "                            # label 186\n",
      "                            #   del $ipkt.76\n",
      "                            #   del $ifpga.74\n",
      "                            #   del $62for_iter.4\n",
      "                            #   del $60get_iter.5\n",
      "                            #   jump 50\n",
      "\n",
      "                            dout[ipkt, tout, ibl, c] += data[ifpga,ipkt,t1,t2,ibl,0,c]\n",
      "\n",
      "# --- LINE 315 --- \n",
      "\n",
      "\n",
      "\n",
      "    # --- LINE 316 --- \n",
      "    # label 188\n",
      "    #   del data\n",
      "    #   del $nt2.70\n",
      "    #   del $nt1.69\n",
      "    #   del $npkt.68\n",
      "    #   del $nbl.71\n",
      "    #   del $ifpga.74\n",
      "    #   del $50for_iter.3\n",
      "    #   del $48get_iter.22\n",
      "    #   n = tscrunch * $nfpga.67  :: int64\n",
      "\n",
      "    n = tscrunch*nfpga\n",
      "\n",
      "    # --- LINE 317 --- \n",
      "    #   $198load_global.4 = global(float: <class 'float'>)  :: Function(<class 'float'>)\n",
      "    #   $const200.5 = const(int, 1)  :: Literal[int](1)\n",
      "    #   $204binary_true_divide.7 = $const200.5 / n  :: float64\n",
      "    #   $206call_function.8 = call $198load_global.4($204binary_true_divide.7, func=$198load_global.4, args=[Var($204binary_true_divide.7, card_averager.py:317)], kws=(), vararg=None, varkwarg=None, target=None)  :: (float64,) -> float64\n",
      "    #   dout.1 = inplace_binop(fn=<built-in function imul>, immutable_fn=<built-in function mul>, lhs=dout, rhs=$206call_function.8, static_lhs=Undefined, static_rhs=Undefined)  :: array(float32, 4d, C)\n",
      "\n",
      "    dout *= float(1/n)\n",
      "\n",
      "# --- LINE 318 --- \n",
      "\n",
      "\n",
      "\n",
      "# --- LINE 319 --- \n",
      "\n",
      "\n",
      "\n",
      "    # --- LINE 320 --- \n",
      "    #   $214return_value.11 = cast(value=dout.1)  :: array(float32, 4d, C)\n",
      "    #   del tscrunch\n",
      "    #   del $nfpga.67\n",
      "    #   del n\n",
      "    #   del $const200.5\n",
      "    #   del $204binary_true_divide.7\n",
      "    #   del $198load_global.4\n",
      "    #   del dout\n",
      "    #   del $206call_function.8\n",
      "    #   del dout.1\n",
      "    #   return $214return_value.11\n",
      "\n",
      "    return dout\n",
      "\n",
      "\n",
      "================================================================================\n"
     ]
    }
   ],
   "source": [
    "average6.inspect_types()"
   ]
  },
  {
   "cell_type": "code",
   "execution_count": 51,
   "id": "00ed922e",
   "metadata": {},
   "outputs": [],
   "source": [
    "from craco import card_averager"
   ]
  },
  {
   "cell_type": "code",
   "execution_count": 103,
   "id": "f20392f1",
   "metadata": {},
   "outputs": [
    {
     "name": "stdout",
     "output_type": "stream",
     "text": [
      "<class 'numpy.ndarray'>\n"
     ]
    }
   ],
   "source": [
    "\n",
    "dummy_packet = packets[0][1].copy()\n",
    "print(type(dummy_packet))\n",
    "\n",
    "avger = card_averager.Averager(nbeam,nant,nc=24,nt=32,npol=1,vis_fscrunch=6, vis_tscrunch=4, dummy_packet=dummy_packet, cdtype=np.float32)\n"
   ]
  },
  {
   "cell_type": "code",
   "execution_count": 104,
   "id": "901cf32f",
   "metadata": {},
   "outputs": [
    {
     "name": "stdout",
     "output_type": "stream",
     "text": [
      "57.8 ms ± 983 µs per loop (mean ± std. dev. of 7 runs, 10 loops each)\n"
     ]
    }
   ],
   "source": [
    "# current averager takes 270 milliseconds - which is just a bloody outrage - I mean seriously\n",
    "%timeit avger.accumulate_packets(packets)"
   ]
  },
  {
   "cell_type": "code",
   "execution_count": 89,
   "id": "c6568b39",
   "metadata": {},
   "outputs": [],
   "source": [
    "avger = card_averager.Averager(nbeam,nant,24,32,1,6,4, dummy_packet=dummy_packet, cdtype=np.float32)"
   ]
  },
  {
   "cell_type": "code",
   "execution_count": 29,
   "id": "a3deb992",
   "metadata": {},
   "outputs": [
    {
     "data": {
      "text/plain": [
       "dtype([('ics', '<f4', (32, 24)), ('cas', '<f4', (32, 24)), ('vis', '<f4', (435, 4, 8, 2))])"
      ]
     },
     "execution_count": 29,
     "metadata": {},
     "output_type": "execute_result"
    }
   ],
   "source": [
    "avger.output.dtype"
   ]
  },
  {
   "cell_type": "code",
   "execution_count": 30,
   "id": "c08c38eb",
   "metadata": {},
   "outputs": [
    {
     "data": {
      "text/plain": [
       "(36,)"
      ]
     },
     "execution_count": 30,
     "metadata": {},
     "output_type": "execute_result"
    }
   ],
   "source": [
    "avger.output.shape"
   ]
  },
  {
   "cell_type": "code",
   "execution_count": 31,
   "id": "75ec5380",
   "metadata": {},
   "outputs": [
    {
     "data": {
      "text/plain": [
       "(36, 435, 4, 8, 2)"
      ]
     },
     "execution_count": 31,
     "metadata": {},
     "output_type": "execute_result"
    }
   ],
   "source": [
    "avger.output['vis'].shape"
   ]
  },
  {
   "cell_type": "code",
   "execution_count": 32,
   "id": "361544a3",
   "metadata": {},
   "outputs": [
    {
     "name": "stdout",
     "output_type": "stream",
     "text": [
      "26.8 ms ± 937 µs per loop (mean ± std. dev. of 7 runs, 10 loops each)\n"
     ]
    }
   ],
   "source": [
    "from craco.card_averager import ibc2beamchan\n",
    "\n",
    "\n",
    "_= average7(din, tscrunch=8, dout=avger.output['vis'])\n",
    "%timeit average7(din, tscrunch=8, dout=avger.output['vis'])"
   ]
  },
  {
   "cell_type": "code",
   "execution_count": 33,
   "id": "3b39b5f3",
   "metadata": {},
   "outputs": [
    {
     "name": "stdout",
     "output_type": "stream",
     "text": [
      "35.8 ms ± 1.56 ms per loop (mean ± std. dev. of 7 runs, 10 loops each)\n"
     ]
    }
   ],
   "source": [
    "\n",
    "\n",
    "_= average8(din, tscrunch=8, dout=avger.output['vis'],nant=nant)\n",
    "%timeit average8(din, tscrunch=8, dout=avger.output['vis'],nant=nant)"
   ]
  },
  {
   "cell_type": "code",
   "execution_count": 34,
   "id": "ddec85b1",
   "metadata": {},
   "outputs": [
    {
     "data": {
      "text/plain": [
       "(36, 435, 4, 8, 2)"
      ]
     },
     "execution_count": 34,
     "metadata": {},
     "output_type": "execute_result"
    }
   ],
   "source": [
    "avger.output['vis'].shape"
   ]
  },
  {
   "cell_type": "code",
   "execution_count": 35,
   "id": "bab424fa",
   "metadata": {},
   "outputs": [],
   "source": [
    "_,_,auto_idxs,cross_idxs = get_indexes(nant)"
   ]
  },
  {
   "cell_type": "code",
   "execution_count": 36,
   "id": "dcb68e31",
   "metadata": {},
   "outputs": [
    {
     "data": {
      "text/plain": [
       "(144, 4, 465, 2)"
      ]
     },
     "execution_count": 36,
     "metadata": {},
     "output_type": "execute_result"
    }
   ],
   "source": [
    "average2(din,tscrunch=8).shape"
   ]
  },
  {
   "cell_type": "code",
   "execution_count": 37,
   "id": "7708028f",
   "metadata": {},
   "outputs": [
    {
     "name": "stdout",
     "output_type": "stream",
     "text": [
      "(36, 435, 4, 8, 2)\n",
      "710 ms ± 8.64 ms per loop (mean ± std. dev. of 7 runs, 1 loop each)\n"
     ]
    }
   ],
   "source": [
    "def average_vis_and_reshape2(din, tscrunch, dout, auto_idxs, cross_idxs):\n",
    "    '''\n",
    "    Writes (beam,chan) order and removes autocorrelations\n",
    "    Fxed fscrunch at 6\n",
    "    This is horriffically slow in NUMPY - really, really bad\n",
    "    '''\n",
    "    data = din['data']\n",
    "    (nfpga, npkt, nt1, nt2, nblall, _, _) = data.shape\n",
    "    dout[:] = 0\n",
    "    # HACK - set nbl to output NBL, which doesn't include autos, for now\n",
    "    #nbl = dout.shape[1]\n",
    "    ntout = nt1*nt2//tscrunch\n",
    "    \n",
    "    nbl = len(cross_idxs)\n",
    "    nant = len(auto_idxs)\n",
    "    dcross = data[:,:,:,:,cross_idxs,:,:]\n",
    "    d = dcross.reshape(nfpga, npkt, ntout, tscrunch, nbl, 2).mean(axis=(0,3), dtype=np.float32)\n",
    "    dcopy1 = d[:32*4,...].reshape(32,4,ntout,nbl,2).transpose(0,3,1,2,4)\n",
    "    dcopy2 = d[32*4:,...].reshape(4,4,ntout,nbl,2).transpose(0,3,1,2,4)\n",
    "\n",
    "\n",
    "    dout[0:32, :,:,:,:] = dcopy1\n",
    "    dout[32:, :,:,:,:] = dcopy2\n",
    "\n",
    "            \n",
    "    return dout\n",
    "\n",
    "print(average_vis_and_reshape2(din, tscrunch=4, dout=avger.output['vis'],auto_idxs=auto_idxs,cross_idxs=cross_idxs).shape)\n",
    "%timeit average_vis_and_reshape2(din, tscrunch=4, dout=avger.output['vis'],auto_idxs=auto_idxs,cross_idxs=cross_idxs)"
   ]
  },
  {
   "cell_type": "code",
   "execution_count": 38,
   "id": "92ac6823",
   "metadata": {},
   "outputs": [
    {
     "data": {
      "text/plain": [
       "(36, 435, 4, 8, 2)"
      ]
     },
     "execution_count": 38,
     "metadata": {},
     "output_type": "execute_result"
    }
   ],
   "source": [
    "avger.output['vis'].shape"
   ]
  },
  {
   "cell_type": "code",
   "execution_count": 39,
   "id": "3598b7d1",
   "metadata": {},
   "outputs": [
    {
     "data": {
      "text/plain": [
       "(36, 32, 24)"
      ]
     },
     "execution_count": 39,
     "metadata": {},
     "output_type": "execute_result"
    }
   ],
   "source": [
    "avger.output['cas'].shape"
   ]
  },
  {
   "cell_type": "code",
   "execution_count": 40,
   "id": "b5151754",
   "metadata": {},
   "outputs": [
    {
     "data": {
      "text/plain": [
       "(6, 144, 16, 2, 465, 1, 2)"
      ]
     },
     "execution_count": 40,
     "metadata": {},
     "output_type": "execute_result"
    }
   ],
   "source": [
    "din['data'].shape"
   ]
  },
  {
   "cell_type": "code",
   "execution_count": 41,
   "id": "498688f6",
   "metadata": {},
   "outputs": [
    {
     "data": {
      "text/plain": [
       "(6, 144, 16, 2, 465, 1, 2)"
      ]
     },
     "execution_count": 41,
     "metadata": {},
     "output_type": "execute_result"
    }
   ],
   "source": [
    "data = din['data'].astype(np.float32)\n",
    "data.shape"
   ]
  },
  {
   "cell_type": "code",
   "execution_count": 42,
   "id": "ed51011e",
   "metadata": {},
   "outputs": [
    {
     "name": "stdout",
     "output_type": "stream",
     "text": [
      "49.7 ms ± 422 µs per loop (mean ± std. dev. of 7 runs, 10 loops each)\n"
     ]
    }
   ],
   "source": [
    "def amp1(data):\n",
    "    return np.sqrt(data[...,0]**2 + data[...,1]**2)\n",
    "\n",
    "%timeit amp1(data)"
   ]
  },
  {
   "cell_type": "code",
   "execution_count": 43,
   "id": "54238eaa",
   "metadata": {},
   "outputs": [],
   "source": [
    "from math import sqrt\n",
    "\n",
    "@njit\n",
    "def amp2(data, dout):\n",
    "    (nfpga, npkt, nt1, nt2, nbl, _, _) = data.shape\n",
    "    dout[:] = 0\n",
    "    # HACK - set nbl to output NBL, which doesn't include autos, for now\n",
    "    nbl = dout.shape[1]\n",
    "    \n",
    "    # dout shape\n",
    "    # avger.output['vis'].shape\n",
    "    # (36, 435, 4, 8, 2)\n",
    "    \n",
    "    for ifpga in range(nfpga):\n",
    "        for ipkt in range(npkt):\n",
    "            beam,chan = ibc2beamchan(ipkt)\n",
    "            #print(beam,chan)\n",
    "            for t1 in range(nt1):\n",
    "                for t2 in range(nt2):\n",
    "                    ttotal = t2 + t1*nt2\n",
    "                    tout = ttotal // tscrunch\n",
    "                    for ibl in range(nbl):\n",
    "                        d0 = data[ifpga,ipkt,t1,t2,ibl,0,0]\n",
    "                        d1 = data[ifpga,ipkt,t1,t2,ibl,0,1]\n",
    "\n",
    "                        da = sqrt(d0**2 + d1**2)    \n",
    "                        dout[ifpga,ipkt,t1,t2,ibl,0] = da\n",
    "                        \n",
    "    return dout\n",
    "                            \n",
    "    "
   ]
  },
  {
   "cell_type": "code",
   "execution_count": 44,
   "id": "1db013ef",
   "metadata": {},
   "outputs": [
    {
     "name": "stdout",
     "output_type": "stream",
     "text": [
      "62 ms ± 789 µs per loop (mean ± std. dev. of 7 runs, 10 loops each)\n"
     ]
    }
   ],
   "source": [
    "dout = np.zeros(data.shape[:-1], dtype=np.float32)\n",
    "amp2(data, dout).shape\n",
    "%timeit amp2(data, dout)"
   ]
  },
  {
   "cell_type": "code",
   "execution_count": 45,
   "id": "96568b5b",
   "metadata": {},
   "outputs": [
    {
     "data": {
      "text/plain": [
       "(6, 144, 16, 2, 465, 1, 2)"
      ]
     },
     "execution_count": 45,
     "metadata": {},
     "output_type": "execute_result"
    }
   ],
   "source": [
    "data.shape"
   ]
  },
  {
   "cell_type": "code",
   "execution_count": 63,
   "id": "89169298",
   "metadata": {},
   "outputs": [
    {
     "data": {
      "text/plain": [
       "(36, 32, 24)"
      ]
     },
     "execution_count": 63,
     "metadata": {},
     "output_type": "execute_result"
    }
   ],
   "source": [
    "avger.output['ics'].shape"
   ]
  },
  {
   "cell_type": "code",
   "execution_count": 55,
   "id": "c64537ce",
   "metadata": {},
   "outputs": [
    {
     "name": "stdout",
     "output_type": "stream",
     "text": [
      "9.62 ms ± 174 µs per loop (mean ± std. dev. of 7 runs, 100 loops each)\n"
     ]
    }
   ],
   "source": [
    "%timeit calc_ics(data, auto_idxs)"
   ]
  },
  {
   "cell_type": "code",
   "execution_count": 48,
   "id": "921f8ecb",
   "metadata": {},
   "outputs": [
    {
     "data": {
      "text/plain": [
       "(6, 144, 16, 2)"
      ]
     },
     "execution_count": 48,
     "metadata": {},
     "output_type": "execute_result"
    }
   ],
   "source": [
    "dmean = calc_ics(data, auto_idxs)\n",
    "dmean.shape"
   ]
  },
  {
   "cell_type": "code",
   "execution_count": 49,
   "id": "ca3a0cc1",
   "metadata": {},
   "outputs": [],
   "source": [
    "icsout = avger.output['ics']"
   ]
  },
  {
   "cell_type": "code",
   "execution_count": 50,
   "id": "5bc892ce",
   "metadata": {},
   "outputs": [
    {
     "data": {
      "text/plain": [
       "(36, 32, 24)"
      ]
     },
     "execution_count": 50,
     "metadata": {},
     "output_type": "execute_result"
    }
   ],
   "source": [
    "icsout.shape"
   ]
  },
  {
   "cell_type": "code",
   "execution_count": 68,
   "id": "7cd547f7",
   "metadata": {},
   "outputs": [
    {
     "data": {
      "text/plain": [
       "(6, 144, 16, 2, 465, 1, 2)"
      ]
     },
     "execution_count": 68,
     "metadata": {},
     "output_type": "execute_result"
    }
   ],
   "source": [
    "(nfpga, npkt, nt1, nt2, nbl, npol, _) = data.shape\n",
    "data.shape"
   ]
  },
  {
   "cell_type": "code",
   "execution_count": 70,
   "id": "b78f598a",
   "metadata": {},
   "outputs": [
    {
     "data": {
      "text/plain": [
       "(32, 32, 24)"
      ]
     },
     "execution_count": 70,
     "metadata": {},
     "output_type": "execute_result"
    }
   ],
   "source": [
    "dmean[:,:32*4,:,:].reshape(nfpga,4,32,32).transpose(2,3,1,0).reshape(32,32,24).shape"
   ]
  },
  {
   "cell_type": "code",
   "execution_count": 78,
   "id": "af9e5fb9",
   "metadata": {},
   "outputs": [
    {
     "data": {
      "text/plain": [
       "(4, 32, 24)"
      ]
     },
     "execution_count": 78,
     "metadata": {},
     "output_type": "execute_result"
    }
   ],
   "source": [
    "dmean[:,32*4:,:,:].reshape(nfpga,4,4,32).transpose(2,3,1,0).reshape(4,32,24).shape"
   ]
  },
  {
   "cell_type": "code",
   "execution_count": 100,
   "id": "afa2e80d",
   "metadata": {},
   "outputs": [
    {
     "name": "stdout",
     "output_type": "stream",
     "text": [
      "11.9 ms ± 471 µs per loop (mean ± std. dev. of 7 runs, 100 loops each)\n"
     ]
    }
   ],
   "source": [
    "valid = np.zeros(6, dtype=bool)\n",
    "%timeit calc_and_reshape_ics(data, auto_idxs, valid, avger.output['ics'])"
   ]
  },
  {
   "cell_type": "code",
   "execution_count": null,
   "id": "99598eea",
   "metadata": {},
   "outputs": [],
   "source": []
  }
 ],
 "metadata": {
  "kernelspec": {
   "display_name": "Python 3 (ipykernel)",
   "language": "python",
   "name": "python3"
  },
  "language_info": {
   "codemirror_mode": {
    "name": "ipython",
    "version": 3
   },
   "file_extension": ".py",
   "mimetype": "text/x-python",
   "name": "python",
   "nbconvert_exporter": "python",
   "pygments_lexer": "ipython3",
   "version": "3.9.15"
  }
 },
 "nbformat": 4,
 "nbformat_minor": 5
}
