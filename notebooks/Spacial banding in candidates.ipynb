{
 "cells": [
  {
   "cell_type": "markdown",
   "id": "5ea3baf5",
   "metadata": {},
   "source": [
    "# Why is there some spatial banding in candidates?"
   ]
  },
  {
   "cell_type": "code",
   "execution_count": 1,
   "id": "4d2b52ad",
   "metadata": {},
   "outputs": [],
   "source": [
    "%matplotlib inline\n",
    "from pylab import *\n",
    "import numpy as np\n",
    "from craco.search_pipeline import location2pix, get_grid_lut_from_plan, grid_candidates\n",
    "import craco\n",
    "\n"
   ]
  },
  {
   "cell_type": "code",
   "execution_count": 2,
   "id": "1145e26f",
   "metadata": {},
   "outputs": [],
   "source": [
    "fits='/data/craco/ban115/test_data/frb_d0_t0_a1_sninf_lm00/frb_d0_t0_a1_sninf_lm00.fits'\n",
    "xclbin='/data/craco/ban115/builds/binary_container_1_10688715.xclbin'"
   ]
  },
  {
   "cell_type": "code",
   "execution_count": 3,
   "id": "69d05fd4",
   "metadata": {},
   "outputs": [
    {
     "name": "stdout",
     "output_type": "stream",
     "text": [
      "INFO:craco.search_pipeline:Values=Namespace(boxcar_weight='sum', cand_file='cand4.txt', cell=None, device=0, dump_boxcar_hist_buf=None, dump_candidates=1, dump_fdmt_hist_buf=1, dump_mainbufs=1, dump_uvdata=1, fdmt_scale=1.0, fft_scale=10.0, input_scale=4.0, nblocks=1, nbox=8, ncin=32, ndm=2, ndout=186, npix=256, nt=256, nuvmax=8192, nuvwide=8, os='2.1,2.1', run_fdmt=True, run_image=True, show=False, show_candidate_grid=None, threshold=3.0, uv='/data/craco/ban115/test_data/frb_d0_t0_a1_sninf_lm00/frb_d0_t0_a1_sninf_lm00.fits', verbose=False, wait=False, xclbin='/data/craco/ban115/builds/binary_container_1_10688715.xclbin')\n",
      "INFO:craco.search_pipeline:fdmt_tunable_c32:fdmt_tunable_c32_1\n",
      "INFO:craco.search_pipeline:krnl_ddgrid_reader_4cu:krnl_ddgrid_reader_4cu_1\n",
      "INFO:craco.search_pipeline:krnl_grid_4cu:krnl_grid_4cu_1\n",
      "INFO:craco.search_pipeline:krnl_grid_4cu:krnl_grid_4cu_2\n",
      "INFO:craco.search_pipeline:krnl_grid_4cu:krnl_grid_4cu_3\n",
      "INFO:craco.search_pipeline:krnl_grid_4cu:krnl_grid_4cu_4\n",
      "INFO:craco.search_pipeline:fft2d:fft2d_1\n",
      "INFO:craco.search_pipeline:fft2d:fft2d_2\n",
      "INFO:craco.search_pipeline:fft2d:fft2d_3\n",
      "INFO:craco.search_pipeline:fft2d:fft2d_4\n",
      "INFO:craco.search_pipeline:krnl_boxc_4cu:krnl_boxc_4cu_1\n",
      "INFO:craco.search_pipeline:AXI-LITE-DDR0\n",
      "INFO:craco.search_pipeline:AXI-LITE-DDR1\n",
      "INFO:craco.search_pipeline:AXI-LITE-HBM0\n",
      "INFO:craco.search_pipeline:AXI-LITE-HBM1\n",
      "INFO:craco.search_pipeline:AXI-LITE-HBM2\n",
      "INFO:craco.search_pipeline:AXI-LITE-HBM3\n",
      "INFO:craco.search_pipeline:AXI-LITE-HBM4\n",
      "INFO:craco.search_pipeline:AXI-LITE-HBM5\n",
      "INFO:craco.search_pipeline:AXI-LITE-HBM6\n",
      "INFO:craco.search_pipeline:AXI-LITE-HBM7\n",
      "INFO:craco.search_pipeline:AXI-LITE-HBM8\n",
      "INFO:craco.search_pipeline:AXI-LITE-HBM9\n",
      "INFO:craco.search_pipeline:AXI-LITE-HBM10\n",
      "INFO:craco.search_pipeline:AXI-LITE-HBM11\n",
      "INFO:craco.search_pipeline:AXI-LITE-HBM12\n",
      "INFO:craco.search_pipeline:AXI-LITE-HBM13\n",
      "INFO:craco.search_pipeline:AXI-LITE-HBM14\n",
      "INFO:craco.search_pipeline:AXI-LITE-HBM15\n",
      "INFO:craco.search_pipeline:AXI-LITE-HBM16\n",
      "INFO:craco.search_pipeline:AXI-LITE-HBM17\n",
      "INFO:craco.search_pipeline:AXI-LITE-HBM18\n",
      "INFO:craco.search_pipeline:AXI-LITE-HBM19\n",
      "INFO:craco.search_pipeline:AXI-LITE-HBM20\n",
      "INFO:craco.search_pipeline:AXI-LITE-HBM21\n",
      "INFO:craco.search_pipeline:AXI-LITE-HBM22\n",
      "INFO:craco.search_pipeline:AXI-LITE-HBM23\n",
      "INFO:craco.search_pipeline:AXI-LITE-HBM24\n",
      "INFO:craco.search_pipeline:AXI-LITE-HBM25\n",
      "INFO:craco.search_pipeline:AXI-LITE-HBM26\n",
      "INFO:craco.search_pipeline:AXI-LITE-HBM27\n",
      "INFO:craco.search_pipeline:AXI-LITE-HBM28\n",
      "INFO:craco.search_pipeline:AXI-LITE-HBM29\n",
      "INFO:craco.search_pipeline:AXI-LITE-HBM30\n",
      "INFO:craco.search_pipeline:AXI-LITE-HBM31\n",
      "INFO:root:Opening file /data/craco/ban115/test_data/frb_d0_t0_a1_sninf_lm00/frb_d0_t0_a1_sninf_lm00.fits\n",
      "INFO:root:making Plan values=Namespace(boxcar_weight='sum', cand_file='cand4.txt', cell=None, device=0, dump_boxcar_hist_buf=None, dump_candidates=1, dump_fdmt_hist_buf=1, dump_mainbufs=1, dump_uvdata=1, fdmt_scale=1.0, fft_scale=10.0, input_scale=4.0, nblocks=1, nbox=8, ncin=32, ndm=2, ndout=186, npix=256, nt=256, nuvmax=8192, nuvwide=8, os='2.1,2.1', run_fdmt=True, run_image=True, show=False, show_candidate_grid=None, threshold=3.0, uv='/data/craco/ban115/test_data/frb_d0_t0_a1_sninf_lm00/frb_d0_t0_a1_sninf_lm00.fits', verbose=False, wait=False, xclbin='/data/craco/ban115/builds/binary_container_1_10688715.xclbin')\n",
      "INFO:root:Nbl=190 Fch1=735499993.944000 foff=1000000.047500 nchan=256 lambdamin=0.302877 uvmax=(2914.412072271962, 3548.709136210335) max baseline=(0.882709355209954, 1.0748235581559127) resolution=[70.77407077 58.12389754]arcsec uvcell=[33.70193846 27.67804645] arcsec uvcell= (23.90728653035594, 29.110504632975406) lambda FoV=[2.39658229 1.96821664] deg oversampled=(2.1, 2.1)\n",
      "INFO:root:Got Ncells=3838 uvcells\n",
      "INFO:root:FDMT plan has ntotal=5272 of 659 runs with packing efficiency 0.727997. Grid read requires efficiency of > 0.643555 of NUV=8192. History size square=252992736 minimal=1360352 =0 256MB HBM banks\n",
      "INFO:root:FDMT zero cell is (658, 2)=5266\n",
      "INFO:root:Saving uvgrid.split shape=(5245, 14) type=float64 to /data/craco/ban115/test_data/frb_d0_t0_a1_sninf_lm00/frb_d0_t0_a1_sninf_lm00.fits.uvgrid.split.txt header=ant1, ant2, u(pix), v(pix), chan1, chan2, irun, icell, total_overlap, max_idm, max_offset, offset_cff, idm_cff, fch1\n",
      "INFO:root:Got 3388 unique UV coords. Upper=True\n",
      "INFO:root:Need to write 212 groups of 16 register to pad function\n",
      "INFO:root:Got 3367 unique UV coords. Upper=False\n",
      "INFO:root:Need to write 211 groups of 16 register to pad function\n",
      "INFO:root:Got 5362 upper grid instructions\n",
      "INFO:root:Saving gridlut.upper shape=(5362, 5) type=int32 to /data/craco/ban115/test_data/frb_d0_t0_a1_sninf_lm00/frb_d0_t0_a1_sninf_lm00.fits.gridlut.upper.txt header=target_slot, uvidx, shift_flag, upix, vpix\n",
      "INFO:root:Got 5324 lower grid instructions\n",
      "INFO:root:Saving gridlut.lower shape=(5324, 5) type=int32 to /data/craco/ban115/test_data/frb_d0_t0_a1_sninf_lm00/frb_d0_t0_a1_sninf_lm00.fits.gridlut.lower.txt header=target_slot, uvidx, shift_flag, upix, vpix\n",
      "INFO:root:Saving padlut.upper shape=(32896, 3) type=int32 to /data/craco/ban115/test_data/frb_d0_t0_a1_sninf_lm00/frb_d0_t0_a1_sninf_lm00.fits.padlut.upper.txt header=upix, vpix, regidx\n",
      "INFO:root:Saving doshift.upper shape=(4096,) type=int32 to /data/craco/ban115/test_data/frb_d0_t0_a1_sninf_lm00/frb_d0_t0_a1_sninf_lm00.fits.doshift.upper.txt header=doshift\n",
      "INFO:root:Saving padlut.lower shape=(32640, 3) type=int32 to /data/craco/ban115/test_data/frb_d0_t0_a1_sninf_lm00/frb_d0_t0_a1_sninf_lm00.fits.padlut.lower.txt header=upix, vpix, regidx\n",
      "INFO:root:Saving doshift.lower shape=(4096,) type=int32 to /data/craco/ban115/test_data/frb_d0_t0_a1_sninf_lm00/frb_d0_t0_a1_sninf_lm00.fits.doshift.lower.txt header=doshift\n",
      "INFO:craco.search_pipeline:2636 2681 2662\n",
      "INFO:craco.search_pipeline:(180214,)\n",
      "Traceback (most recent call last):\n",
      "  File \"/data/craco/ban115/craco-python/venv/bin/search_pipeline\", line 11, in <module>\n",
      "    load_entry_point('craco', 'console_scripts', 'search_pipeline')()\n",
      "  File \"/data/craco/ban115/craco-python/src/craco/search_pipeline.py\", line 558, in _main\n",
      "    p = Pipeline(device, xbin, plan, alloc_device_only)\n",
      "  File \"/data/craco/ban115/craco-python/src/craco/search_pipeline.py\", line 204, in __init__\n",
      "    self.grid_reader = DdgridCu(device, xbin)\n",
      "  File \"/data/craco/ban115/craco-python/src/craco/search_pipeline.py\", line 100, in __init__\n",
      "    super().__init__(device, xbin, 'krnl_ddgrid_reader_4cu:krnl_ddgrid_reader_4cu_1')\n",
      "  File \"/data/craco/ban115/craco-python/src/craco/pyxrtutil.py\", line 61, in __init__\n",
      "    self.krnl = pyxrt.kernel(device, xbin.get_uuid(), name, flags)\n",
      "RuntimeError: failed to open ip context: Invalid argument\n"
     ]
    }
   ],
   "source": [
    "!search_pipeline --uv $fits  -x $xclbin -T 3  --input-scale 4 -C  cand4.txt --dump-mainbufs 1 --dump-fdmt-hist-buf 1 --dump-candidates 1 --dump-uvdata 1"
   ]
  },
  {
   "cell_type": "code",
   "execution_count": 4,
   "id": "0c68cf1f",
   "metadata": {},
   "outputs": [
    {
     "name": "stdout",
     "output_type": "stream",
     "text": [
      "total 11G\r\n",
      "-rw-rw-r-- 1 ban115 ban115  57K Dec 13 13:32 'Check FDMT.ipynb'\r\n",
      "-rw-rw-r-- 1 ban115 ban115  11K Feb 21 18:37  candidates.txt\r\n",
      "-rw-rw-r-- 1 ban115 ban115  11K Feb 21 19:14  cand2.txt\r\n",
      "-rw-rw-r-- 1 ban115 ban115   40 Feb 21 19:15  cand3.txt\r\n",
      "-rw-rw-r-- 1 ban115 ban115  73K Feb 21 21:07  uv_data.uvgrid.txt\r\n",
      "-rw-rw-r-- 1 ban115 ban115 382K Feb 21 21:07  uv_data.uvgrid.split.txt\r\n",
      "-rw-rw-r-- 1 ban115 ban115  86K Feb 21 21:07  uv_data.gridlut.upper.txt\r\n",
      "-rw-rw-r-- 1 ban115 ban115  86K Feb 21 21:07  uv_data.gridlut.lower.txt\r\n",
      "-rw-rw-r-- 1 ban115 ban115 325K Feb 21 21:07  uv_data.padlut.upper.txt\r\n",
      "-rw-rw-r-- 1 ban115 ban115 8.1K Feb 21 21:07  uv_data.doshift.upper.txt\r\n",
      "-rw-rw-r-- 1 ban115 ban115 322K Feb 21 21:07  uv_data.padlut.lower.txt\r\n",
      "-rw-rw-r-- 1 ban115 ban115 8.1K Feb 21 21:07  uv_data.doshift.lower.txt\r\n",
      "-rw-rw-r-- 1 ban115 ban115 165M Feb 22 09:18  uv_data_iblk0.npy\r\n",
      "-rw-rw-r-- 1 ban115 ban115  192 Feb 22 09:18  candidates_iblk0.npy\r\n",
      "-rw-rw-r-- 1 ban115 ban115 1.3G Feb 22 09:18  mainbuf_after_run_iblk0_ib0.npy\r\n",
      "-rw-rw-r-- 1 ban115 ban115 1.3G Feb 22 09:18  mainbuf_after_run_iblk0_ib1.npy\r\n",
      "-rw-rw-r-- 1 ban115 ban115 1.3G Feb 22 09:18  mainbuf_after_run_iblk0_ib2.npy\r\n",
      "-rw-rw-r-- 1 ban115 ban115 1.3G Feb 22 09:18  mainbuf_after_run_iblk0_ib3.npy\r\n",
      "-rw-rw-r-- 1 ban115 ban115 1.3G Feb 22 09:18  mainbuf_after_run_iblk0_ib4.npy\r\n",
      "-rw-rw-r-- 1 ban115 ban115 1.3G Feb 22 09:18  mainbuf_after_run_iblk0_ib5.npy\r\n",
      "-rw-rw-r-- 1 ban115 ban115 1.3G Feb 22 09:18  mainbuf_after_run_iblk0_ib6.npy\r\n",
      "-rw-rw-r-- 1 ban115 ban115 1.3G Feb 22 09:18  mainbuf_after_run_iblk0_ib7.npy\r\n",
      "-rw-rw-r-- 1 ban115 ban115 257M Feb 22 09:18  fdmt_hist_buf_iblk0.npy\r\n",
      "-rw-rw-r-- 1 ban115 ban115   40 Feb 22 09:18  cand4.txt\r\n",
      "-rw-rw-r-- 1 ban115 ban115  43K Feb 22 09:25 'Spacial banding in candidates.ipynb'\r\n",
      "-rw-rw-r-- 1 ban115 ban115  73K Feb 22 09:26  frb_d0_lm0_nt16_nant24.fits.uvgrid.txt\r\n",
      "-rw-rw-r-- 1 ban115 ban115 382K Feb 22 09:26  frb_d0_lm0_nt16_nant24.fits.uvgrid.split.txt\r\n",
      "-rw-rw-r-- 1 ban115 ban115  86K Feb 22 09:26  frb_d0_lm0_nt16_nant24.fits.gridlut.upper.txt\r\n",
      "-rw-rw-r-- 1 ban115 ban115  86K Feb 22 09:26  frb_d0_lm0_nt16_nant24.fits.gridlut.lower.txt\r\n",
      "-rw-rw-r-- 1 ban115 ban115 325K Feb 22 09:26  frb_d0_lm0_nt16_nant24.fits.padlut.upper.txt\r\n",
      "-rw-rw-r-- 1 ban115 ban115 8.1K Feb 22 09:26  frb_d0_lm0_nt16_nant24.fits.doshift.upper.txt\r\n",
      "-rw-rw-r-- 1 ban115 ban115 322K Feb 22 09:26  frb_d0_lm0_nt16_nant24.fits.padlut.lower.txt\r\n",
      "-rw-rw-r-- 1 ban115 ban115 8.1K Feb 22 09:26  frb_d0_lm0_nt16_nant24.fits.doshift.lower.txt\r\n",
      "-rw-rw-r-- 1 ban115 ban115  19K Feb 22 09:36 'Testing image pipeline with impulses.ipynb'\r\n",
      "-rw-rw-r-- 1 ban115 ban115 389K Feb 22 09:38  lut.txt\r\n"
     ]
    }
   ],
   "source": [
    "!ls -lrth"
   ]
  },
  {
   "cell_type": "code",
   "execution_count": 5,
   "id": "e04d8a9e",
   "metadata": {},
   "outputs": [
    {
     "name": "stdout",
     "output_type": "stream",
     "text": [
      "got 0 candidates\n"
     ]
    }
   ],
   "source": [
    "d = np.load('candidates_iblk0.npy')\n",
    "print(\"got\", len(d), 'candidates')\n",
    "\n",
    "#mainbuf_clear = np.load('../src/craco/mainbuf_after_clearing.npy')\n",
    "mainbuf_run = np.load('mainbuf_after_run_iblk0_ib0.npy')\n",
    "uv_data = np.load('uv_data_iblk0.npy')\n",
    "\n",
    "npix=256"
   ]
  },
  {
   "cell_type": "code",
   "execution_count": 6,
   "id": "5515bd3b",
   "metadata": {},
   "outputs": [],
   "source": [
    "#d = d[d['dm'] == 0]"
   ]
  },
  {
   "cell_type": "code",
   "execution_count": 7,
   "id": "69537d57",
   "metadata": {},
   "outputs": [],
   "source": [
    "location2pixv = np.vectorize(location2pix)"
   ]
  },
  {
   "cell_type": "code",
   "execution_count": 8,
   "id": "88eec6e6",
   "metadata": {},
   "outputs": [
    {
     "ename": "ValueError",
     "evalue": "cannot call `vectorize` on size 0 inputs unless `otypes` is set",
     "output_type": "error",
     "traceback": [
      "\u001b[0;31m---------------------------------------------------------------------------\u001b[0m",
      "\u001b[0;31mValueError\u001b[0m                                Traceback (most recent call last)",
      "\u001b[0;32m<ipython-input-8-073eb90ee812>\u001b[0m in \u001b[0;36m<module>\u001b[0;34m\u001b[0m\n\u001b[0;32m----> 1\u001b[0;31m \u001b[0mxpix\u001b[0m\u001b[0;34m,\u001b[0m \u001b[0mypix\u001b[0m \u001b[0;34m=\u001b[0m \u001b[0mlocation2pixv\u001b[0m\u001b[0;34m(\u001b[0m\u001b[0md\u001b[0m\u001b[0;34m[\u001b[0m\u001b[0;34m'loc_2dfft'\u001b[0m\u001b[0;34m]\u001b[0m\u001b[0;34m,\u001b[0m \u001b[0mnpix\u001b[0m\u001b[0;34m)\u001b[0m\u001b[0;34m\u001b[0m\u001b[0;34m\u001b[0m\u001b[0m\n\u001b[0m",
      "\u001b[0;32m/data/craco/ban115/craco-python/venv/lib/python3.6/site-packages/numpy/lib/function_base.py\u001b[0m in \u001b[0;36m__call__\u001b[0;34m(self, *args, **kwargs)\u001b[0m\n\u001b[1;32m   2106\u001b[0m             \u001b[0mvargs\u001b[0m\u001b[0;34m.\u001b[0m\u001b[0mextend\u001b[0m\u001b[0;34m(\u001b[0m\u001b[0;34m[\u001b[0m\u001b[0mkwargs\u001b[0m\u001b[0;34m[\u001b[0m\u001b[0m_n\u001b[0m\u001b[0;34m]\u001b[0m \u001b[0;32mfor\u001b[0m \u001b[0m_n\u001b[0m \u001b[0;32min\u001b[0m \u001b[0mnames\u001b[0m\u001b[0;34m]\u001b[0m\u001b[0;34m)\u001b[0m\u001b[0;34m\u001b[0m\u001b[0;34m\u001b[0m\u001b[0m\n\u001b[1;32m   2107\u001b[0m \u001b[0;34m\u001b[0m\u001b[0m\n\u001b[0;32m-> 2108\u001b[0;31m         \u001b[0;32mreturn\u001b[0m \u001b[0mself\u001b[0m\u001b[0;34m.\u001b[0m\u001b[0m_vectorize_call\u001b[0m\u001b[0;34m(\u001b[0m\u001b[0mfunc\u001b[0m\u001b[0;34m=\u001b[0m\u001b[0mfunc\u001b[0m\u001b[0;34m,\u001b[0m \u001b[0margs\u001b[0m\u001b[0;34m=\u001b[0m\u001b[0mvargs\u001b[0m\u001b[0;34m)\u001b[0m\u001b[0;34m\u001b[0m\u001b[0;34m\u001b[0m\u001b[0m\n\u001b[0m\u001b[1;32m   2109\u001b[0m \u001b[0;34m\u001b[0m\u001b[0m\n\u001b[1;32m   2110\u001b[0m     \u001b[0;32mdef\u001b[0m \u001b[0m_get_ufunc_and_otypes\u001b[0m\u001b[0;34m(\u001b[0m\u001b[0mself\u001b[0m\u001b[0;34m,\u001b[0m \u001b[0mfunc\u001b[0m\u001b[0;34m,\u001b[0m \u001b[0margs\u001b[0m\u001b[0;34m)\u001b[0m\u001b[0;34m:\u001b[0m\u001b[0;34m\u001b[0m\u001b[0;34m\u001b[0m\u001b[0m\n",
      "\u001b[0;32m/data/craco/ban115/craco-python/venv/lib/python3.6/site-packages/numpy/lib/function_base.py\u001b[0m in \u001b[0;36m_vectorize_call\u001b[0;34m(self, func, args)\u001b[0m\n\u001b[1;32m   2184\u001b[0m             \u001b[0mres\u001b[0m \u001b[0;34m=\u001b[0m \u001b[0mfunc\u001b[0m\u001b[0;34m(\u001b[0m\u001b[0;34m)\u001b[0m\u001b[0;34m\u001b[0m\u001b[0;34m\u001b[0m\u001b[0m\n\u001b[1;32m   2185\u001b[0m         \u001b[0;32melse\u001b[0m\u001b[0;34m:\u001b[0m\u001b[0;34m\u001b[0m\u001b[0;34m\u001b[0m\u001b[0m\n\u001b[0;32m-> 2186\u001b[0;31m             \u001b[0mufunc\u001b[0m\u001b[0;34m,\u001b[0m \u001b[0motypes\u001b[0m \u001b[0;34m=\u001b[0m \u001b[0mself\u001b[0m\u001b[0;34m.\u001b[0m\u001b[0m_get_ufunc_and_otypes\u001b[0m\u001b[0;34m(\u001b[0m\u001b[0mfunc\u001b[0m\u001b[0;34m=\u001b[0m\u001b[0mfunc\u001b[0m\u001b[0;34m,\u001b[0m \u001b[0margs\u001b[0m\u001b[0;34m=\u001b[0m\u001b[0margs\u001b[0m\u001b[0;34m)\u001b[0m\u001b[0;34m\u001b[0m\u001b[0;34m\u001b[0m\u001b[0m\n\u001b[0m\u001b[1;32m   2187\u001b[0m \u001b[0;34m\u001b[0m\u001b[0m\n\u001b[1;32m   2188\u001b[0m             \u001b[0;31m# Convert args to object arrays first\u001b[0m\u001b[0;34m\u001b[0m\u001b[0;34m\u001b[0m\u001b[0;34m\u001b[0m\u001b[0m\n",
      "\u001b[0;32m/data/craco/ban115/craco-python/venv/lib/python3.6/site-packages/numpy/lib/function_base.py\u001b[0m in \u001b[0;36m_get_ufunc_and_otypes\u001b[0;34m(self, func, args)\u001b[0m\n\u001b[1;32m   2140\u001b[0m             \u001b[0margs\u001b[0m \u001b[0;34m=\u001b[0m \u001b[0;34m[\u001b[0m\u001b[0masarray\u001b[0m\u001b[0;34m(\u001b[0m\u001b[0marg\u001b[0m\u001b[0;34m)\u001b[0m \u001b[0;32mfor\u001b[0m \u001b[0marg\u001b[0m \u001b[0;32min\u001b[0m \u001b[0margs\u001b[0m\u001b[0;34m]\u001b[0m\u001b[0;34m\u001b[0m\u001b[0;34m\u001b[0m\u001b[0m\n\u001b[1;32m   2141\u001b[0m             \u001b[0;32mif\u001b[0m \u001b[0mbuiltins\u001b[0m\u001b[0;34m.\u001b[0m\u001b[0many\u001b[0m\u001b[0;34m(\u001b[0m\u001b[0marg\u001b[0m\u001b[0;34m.\u001b[0m\u001b[0msize\u001b[0m \u001b[0;34m==\u001b[0m \u001b[0;36m0\u001b[0m \u001b[0;32mfor\u001b[0m \u001b[0marg\u001b[0m \u001b[0;32min\u001b[0m \u001b[0margs\u001b[0m\u001b[0;34m)\u001b[0m\u001b[0;34m:\u001b[0m\u001b[0;34m\u001b[0m\u001b[0;34m\u001b[0m\u001b[0m\n\u001b[0;32m-> 2142\u001b[0;31m                 raise ValueError('cannot call `vectorize` on size 0 inputs '\n\u001b[0m\u001b[1;32m   2143\u001b[0m                                  'unless `otypes` is set')\n\u001b[1;32m   2144\u001b[0m \u001b[0;34m\u001b[0m\u001b[0m\n",
      "\u001b[0;31mValueError\u001b[0m: cannot call `vectorize` on size 0 inputs unless `otypes` is set"
     ]
    }
   ],
   "source": [
    "xpix, ypix = location2pixv(d['loc_2dfft'], npix)"
   ]
  },
  {
   "cell_type": "code",
   "execution_count": null,
   "id": "add47933",
   "metadata": {},
   "outputs": [],
   "source": [
    "img = grid_candidates(d, 'snr')    \n",
    "imshow(img[:,:], aspect='auto', vmin=0, vmax=5)\n",
    "gcf().set_size_inches(8,8)"
   ]
  },
  {
   "cell_type": "code",
   "execution_count": null,
   "id": "744b908f",
   "metadata": {},
   "outputs": [],
   "source": [
    "img = grid_candidates(d, 'count')    \n",
    "imshow(np.sqrt(img[:,:]), aspect='auto', vmin=0, vmax=5)\n",
    "gcf().set_size_inches(8,8)"
   ]
  },
  {
   "cell_type": "code",
   "execution_count": null,
   "id": "3491bd79",
   "metadata": {},
   "outputs": [],
   "source": [
    "plot(d['time'])\n",
    "xlabel('Detection')\n",
    "ylabel('time')"
   ]
  },
  {
   "cell_type": "code",
   "execution_count": null,
   "id": "a9de6e48",
   "metadata": {},
   "outputs": [],
   "source": [
    "plot(d['dm'])\n",
    "xlabel('Detection')\n",
    "ylabel('idm')"
   ]
  },
  {
   "cell_type": "code",
   "execution_count": null,
   "id": "1d6b36aa",
   "metadata": {},
   "outputs": [],
   "source": [
    "plot(d['snr'])\n",
    "xlabel('Detection')\n",
    "ylabel('snr')"
   ]
  },
  {
   "cell_type": "code",
   "execution_count": null,
   "id": "3205dafd",
   "metadata": {},
   "outputs": [],
   "source": [
    "scatter(d['time'],d['dm'])\n",
    "ylabel('dm')\n",
    "xlabel('time')"
   ]
  },
  {
   "cell_type": "code",
   "execution_count": null,
   "id": "ccf57492",
   "metadata": {},
   "outputs": [],
   "source": [
    "print(mainbuf_run.shape)"
   ]
  },
  {
   "cell_type": "code",
   "execution_count": null,
   "id": "0728f19a",
   "metadata": {},
   "outputs": [],
   "source": [
    "pltd = mainbuf_run[0,:,0,:,0,0]\n",
    "imshow(pltd, aspect='auto', origin='lower')\n",
    "xlabel('Time')\n",
    "ylabel('dm')\n",
    "print(np.max(pltd))"
   ]
  },
  {
   "cell_type": "code",
   "execution_count": null,
   "id": "4d415f26",
   "metadata": {},
   "outputs": [],
   "source": [
    "plot(mainbuf_run[0,0,0,:,0,0])"
   ]
  },
  {
   "cell_type": "code",
   "execution_count": null,
   "id": "c00faf53",
   "metadata": {},
   "outputs": [],
   "source": [
    "print(uv_data.shape)"
   ]
  },
  {
   "cell_type": "code",
   "execution_count": null,
   "id": "70f1992e",
   "metadata": {},
   "outputs": [],
   "source": [
    "sum(uv_data)"
   ]
  },
  {
   "cell_type": "code",
   "execution_count": null,
   "id": "5465fd46",
   "metadata": {},
   "outputs": [],
   "source": [
    "print('real', sum(uv_data[:,0,:,:,0]), 'imag', sum(uv_data[:,0,:,:,1]))"
   ]
  },
  {
   "cell_type": "code",
   "execution_count": null,
   "id": "6616ef71",
   "metadata": {},
   "outputs": [],
   "source": [
    "#Load the whole buffer as one go into memory. Painful but possible.\n",
    "main_nuv = mainbuf_run.shape[0]\n",
    "mainbuf_shape =list(mainbuf_run.shape[:])\n",
    "nbuf = 8\n",
    "mainbuf_shape[0] *= nbuf\n",
    "mainbuf = np.zeros(mainbuf_shape, dtype=np.int16)\n",
    "print(mainbuf_shape)\n",
    "for b in range(8):\n",
    "    start = b*main_nuv\n",
    "    end = (b+1)*main_nuv\n",
    "    d =  np.load(f'mainbuf_after_run_iblk0_ib{b}.npy')\n",
    "    print(start, end, b, main_nuv, d.shape)\n",
    "\n",
    "    mainbuf[start:end, ...] = d\n",
    "    # (101, 186, 11, 256, 8, 2)\n",
    "\n"
   ]
  },
  {
   "cell_type": "code",
   "execution_count": null,
   "id": "410cbb22",
   "metadata": {},
   "outputs": [],
   "source": [
    "mainbuf.shape"
   ]
  },
  {
   "cell_type": "code",
   "execution_count": null,
   "id": "339e624e",
   "metadata": {},
   "outputs": [],
   "source": [
    "# Check times > 0 for DM = 0 is all zero\n",
    "assert np.all(mainbuf[:,0,0,1:,:,:] == 0), 'FDMT of DM0 for t>1 should be 0'\n"
   ]
  },
  {
   "cell_type": "code",
   "execution_count": null,
   "id": "494134e0",
   "metadata": {},
   "outputs": [],
   "source": [
    "imshow(mainbuf[:,0,0,1:,0,0])"
   ]
  },
  {
   "cell_type": "code",
   "execution_count": null,
   "id": "3e18baf3",
   "metadata": {},
   "outputs": [],
   "source": [
    "# check sum of UV data at DM = 0 is the sum of DM 0 values after FDMT\n",
    "print(uv_data.shape)\n",
    "\n",
    "print('Sum of uv data at t=0, real', sum(uv_data[:,0,:,:,0]))\n",
    "# check UV data is DM =\n",
    "assert sum(uv_data) == sum(uv_data[:,0,:,:,0]), 'UV data contians some power not at t=0'\n",
    "\n",
    "# find DM 0 values for all UVs\n",
    "print('sum of FDMT values for D=0, T=0', sum(mainbuf[:,0,:,0,:,0]))\n",
    "# check sum of DM0 values for all UVs equals sum of T=0 for all input channels\n",
    "assert sum(uv_data[:,0,:,:,0]) == sum(mainbuf[:,0,:,0,:,0]), 'Sum of DM0 for all UVs doesnt equal sum of all channels at t=0'\n"
   ]
  },
  {
   "cell_type": "code",
   "execution_count": null,
   "id": "ef0c0440",
   "metadata": {},
   "outputs": [],
   "source": [
    "print(mainbuf.shape)\n",
    "for tblk in range(11):\n",
    "    print(tblk, mainbuf[:,0,tblk,:,:, 0].sum())"
   ]
  },
  {
   "cell_type": "code",
   "execution_count": null,
   "id": "0e751298",
   "metadata": {},
   "outputs": [],
   "source": [
    "!python -V\n",
    "!pip install -e /data/craco/ban115/realtime_pipeline_master/python/craco_pybind11/"
   ]
  },
  {
   "cell_type": "code",
   "execution_count": null,
   "id": "9db10507",
   "metadata": {},
   "outputs": [],
   "source": [
    "from imp import reload\n",
    "import sys\n",
    "print(sys.path)\n",
    "import craco_pybind11\n",
    "import craco_pybind11.ddgrid_reader\n",
    "import craco_pybind11.grid\n",
    "reload(craco_pybind11)\n",
    "\n",
    "#reload(craco_pybind11.ddgrid_reader)\n",
    "\n"
   ]
  },
  {
   "cell_type": "code",
   "execution_count": null,
   "id": "d3eb407f",
   "metadata": {},
   "outputs": [],
   "source": [
    "from craft.craco_plan import PipelinePlan\n",
    "import craco\n",
    "import craft.craco_plan\n",
    "from craft import uvfits\n",
    "ndm = 1\n",
    "tblk = 0\n",
    "NUVWIDE = 8\n",
    "OUTPUT_NT = 2\n",
    "OUTPUT_NUV = 2\n",
    "#nuvrest = nuv // NUVWIDE\n",
    "#nuvrest = plan.nuvrest\n",
    "ncu = 4\n",
    "do_load_lut=1\n",
    "f = uvfits.open(fits)\n",
    "plan = PipelinePlan(f, craft.craco_plan.get_parser().parse_args(['--ndm',str(ndm)]))\n",
    "nchunk_time = plan.nchunk_time\n",
    "\n",
    "nparallel_uvin, nparallel_uvout, h_nparallel_uvout, lut = get_grid_lut_from_plan(plan)\n",
    "nuvrest = nparallel_uvin*2//8\n",
    "print(nparallel_uvin, nparallel_uvout, h_nparallel_uvout)\n",
    "print(lut)"
   ]
  },
  {
   "cell_type": "code",
   "execution_count": null,
   "id": "9e6c9d5d",
   "metadata": {},
   "outputs": [],
   "source": [
    "#outputs = np.zeros((ncu, ndm, nchunk_time, nuvrest, 4, 2, dtype=np.int16) for n in range(ncu)]\n",
    "outputs = np.zeros((ncu, ndm, nchunk_time, nuvrest, NUVWIDE//OUTPUT_NUV, OUTPUT_NT, OUTPUT_NUV, 2), dtype=np.int16)\n",
    "ddreader_lut = np.zeros(1024+plan.nuvrest,dtype=np.uint32)"
   ]
  },
  {
   "cell_type": "code",
   "execution_count": null,
   "id": "9c4cba86",
   "metadata": {},
   "outputs": [],
   "source": [
    "#     # (101, 186, 11, 256, 8, 2)\n",
    "mainbuf[:] = 0\n",
    "t = 4\n",
    "mainbuf[:,0,0,t,:,0] = 1\n",
    "\n",
    "craco_pybind11.ddgrid_reader.krnl_ddgrid_reader_4cu(mainbuf, \n",
    "                                     ndm, \n",
    "                                     tblk,\n",
    "                                     nchunk_time, \n",
    "                                     nuvrest, \n",
    "                                     ddreader_lut, \n",
    "                                     do_load_lut, \n",
    "                                     outputs[0], \n",
    "                                     outputs[1], \n",
    "                                     outputs[2], \n",
    "                                     outputs[3])"
   ]
  },
  {
   "cell_type": "code",
   "execution_count": null,
   "id": "9b7d3e60",
   "metadata": {},
   "outputs": [],
   "source": [
    "reordered = np.transpose(outputs, [1, 2,0,5, 3,4,6, 7])\n",
    "#assert reordered.shape == (ndm, nchunk_time, ncu, OUTPUT_NT, nuvrest, NUVWIDE, 2)\n",
    "reordered = reordered.reshape(ndm, ncu*nchunk_time*OUTPUT_NT, nuvrest*NUVWIDE, 2)\n"
   ]
  },
  {
   "cell_type": "code",
   "execution_count": null,
   "id": "98795ba1",
   "metadata": {},
   "outputs": [],
   "source": [
    "reordered.shape\n",
    "imshow(reordered[0,:,:,0], aspect='auto', origin='lower', interpolation='none')\n",
    "print(abs(reordered).sum(), mainbuf.sum())"
   ]
  },
  {
   "cell_type": "code",
   "execution_count": null,
   "id": "6de3f4a3",
   "metadata": {},
   "outputs": [],
   "source": [
    "#outputs = np.zeros((ncu, ndm, nchunk_time, nuvrest, NUVWIDE, OUTPUT_NT, 2), dtype=np.int16)\n",
    "\n",
    "print(outputs.sum())\n",
    "print(outputs[1,0,0,:,:,1,0].sum())\n",
    "for icu in range(outputs.shape[0]):\n",
    "    print('cu=', icu, outputs[icu, ...].sum())"
   ]
  },
  {
   "cell_type": "code",
   "execution_count": null,
   "id": "6f51f08c",
   "metadata": {},
   "outputs": [],
   "source": [
    "plot(reordered[0,:,:,0].T);"
   ]
  },
  {
   "cell_type": "code",
   "execution_count": null,
   "id": "571e2942",
   "metadata": {},
   "outputs": [],
   "source": []
  },
  {
   "cell_type": "code",
   "execution_count": null,
   "id": "1e14f556",
   "metadata": {},
   "outputs": [],
   "source": [
    "outputs[0].sum()"
   ]
  },
  {
   "cell_type": "code",
   "execution_count": null,
   "id": "fa2bae7d",
   "metadata": {},
   "outputs": [],
   "source": [
    "load_luts=True\n",
    "d_grid = np.zeros((ncu, ndm, nchunk_time, plan.npix, plan.npix, 2), dtype=np.int16)\n",
    "print(d_grid.sum(), d_grid.shape)\n",
    "print(nparallel_uvin, ndm, nchunk_time)\n",
    "print(outputs[icu].shape, outputs[icu].size)\n",
    "\n",
    "icu=2\n",
    "print(outputs[icu].sum())\n",
    "craco_pybind11.grid.krnl_grid_4cu(ndm,\n",
    "                     nchunk_time,\n",
    "                     nparallel_uvin,\n",
    "                     nparallel_uvout,\n",
    "                     h_nparallel_uvout,\n",
    "                     load_luts,\n",
    "                     lut,\n",
    "                     outputs[icu],\n",
    "                     d_grid[icu])\n",
    "print(d_grid[icu].sum())\n",
    "print(d_grid.shape)\n"
   ]
  },
  {
   "cell_type": "code",
   "execution_count": null,
   "id": "85aba31b",
   "metadata": {},
   "outputs": [],
   "source": [
    "for icu in range(ncu):\n",
    "    print(outputs[icu].sum(),d_grid[icu].sum())\n"
   ]
  },
  {
   "cell_type": "code",
   "execution_count": null,
   "id": "4b01ad63",
   "metadata": {},
   "outputs": [],
   "source": [
    "fig, ax = subplots(1,2)\n",
    "ax[0].imshow(d_grid[2,0,0,:,:,0])\n",
    "ax[1].imshow(d_grid[2,0,0,:,:,1])"
   ]
  },
  {
   "cell_type": "code",
   "execution_count": null,
   "id": "3096616a",
   "metadata": {},
   "outputs": [],
   "source": [
    "np.all(d_grid[:,0:,:,:,:] == 0)"
   ]
  },
  {
   "cell_type": "code",
   "execution_count": null,
   "id": "7baf1c3b",
   "metadata": {},
   "outputs": [],
   "source": [
    "np.all(d_grid[:,1:,:,:,:] == 0)"
   ]
  },
  {
   "cell_type": "code",
   "execution_count": null,
   "id": "10f65c82",
   "metadata": {},
   "outputs": [],
   "source": [
    "def image_fft(g, scale='none'):\n",
    "    '''\n",
    "    Do the complex-to-complex imaging FFT with the correct shifts and correct inverse thingy\n",
    "    If g.shape = (Npix, Npix) then we assume the center of the UV plane is at\n",
    "    Npix/2, Npix/2 = DC\n",
    "    Noramlised by np.prod(img.shape) - which I think is the same as the Xilinx FFT\n",
    "    \n",
    "    :scale: 'none' or None for raw FFT output. 'prod' for np.prod(g.shape)\n",
    "\n",
    "    '''\n",
    "    # The old version was incorrect!\n",
    "    #cimg = np.fft.fftshift(np.fft.ifft2(g)).astype(np.complex64)\n",
    "\n",
    "    if scale == 'none':\n",
    "        s = 1.0\n",
    "    elif scale == 'prod':\n",
    "        s = np.prod(g.shape)\n",
    "    \n",
    "    cimg = np.fft.fftshift(np.fft.fft2(np.fft.fftshift(g)))/s\n",
    "    return cimg\n",
    "\n",
    "\n",
    "def dofft(grid):\n",
    "    ndm, nchunk, npix, _, _ = grid.shape\n",
    "    images = np.zeros((ndm, nchunk, npix, npix, 2), dtype=np.float32)\n",
    "    for dm in range(ndm):\n",
    "        for chunk in range(nchunk):\n",
    "            g = np.zeros((npix, npix), dtype=np.complex64)\n",
    "            g.real = grid[dm, chunk, :, :, 0]\n",
    "            g.imag = grid[dm, chunk, :, :, 1]\n",
    "            img = image_fft(g, scale='prod')\n",
    "            images[dm, chunk, :, :, 0] = img.real\n",
    "            images[dm, chunk, :, :, 1] = img.imag         \n",
    "    \n",
    "    return images"
   ]
  },
  {
   "cell_type": "code",
   "execution_count": null,
   "id": "65c3440e",
   "metadata": {},
   "outputs": [],
   "source": [
    "images = dofft(d_grid[2,...])"
   ]
  },
  {
   "cell_type": "code",
   "execution_count": null,
   "id": "1f005b77",
   "metadata": {},
   "outputs": [],
   "source": [
    "images.shape"
   ]
  },
  {
   "cell_type": "code",
   "execution_count": null,
   "id": "4cadd26f",
   "metadata": {},
   "outputs": [],
   "source": [
    "fig,ax = subplots(1,2)\n",
    "islice = slice(120, 140)\n",
    "ax[0].imshow(images[0,0,islice,islice,0])\n",
    "ax[1].imshow(images[0,0,islice,islice,1])\n",
    "\n",
    "print(images.max())\n",
    "print(images[0,0,islice,islice,:].max(axis=0).max(axis=0))"
   ]
  },
  {
   "cell_type": "code",
   "execution_count": null,
   "id": "e0a77d77",
   "metadata": {},
   "outputs": [],
   "source": [
    "np.all(images[:,:,:,:,1:] == 0)"
   ]
  },
  {
   "cell_type": "code",
   "execution_count": null,
   "id": "1f452635",
   "metadata": {},
   "outputs": [],
   "source": [
    "# KB - TODO check ddgrid_reader and grid aggree on ordering within a FIFO word - I think it should be UTC (UV, Time, Complex) but \n",
    "# perhaps not. Can I check with just hte code?"
   ]
  },
  {
   "cell_type": "code",
   "execution_count": null,
   "id": "71ce2c80",
   "metadata": {},
   "outputs": [],
   "source": [
    "# the problem is with the gridding - it isn't hermetian enough\n",
    "greal = d_grid[2,0,0,:,:,0]\n",
    "gimag = d_grid[2,0,0,:,:,1]\n"
   ]
  },
  {
   "cell_type": "code",
   "execution_count": null,
   "id": "4d7f97ba",
   "metadata": {},
   "outputs": [],
   "source": []
  },
  {
   "cell_type": "code",
   "execution_count": null,
   "id": "421eafdb",
   "metadata": {},
   "outputs": [],
   "source": []
  },
  {
   "cell_type": "code",
   "execution_count": null,
   "id": "e5dd6804",
   "metadata": {},
   "outputs": [],
   "source": []
  },
  {
   "cell_type": "code",
   "execution_count": null,
   "id": "d069e36a",
   "metadata": {},
   "outputs": [],
   "source": []
  },
  {
   "cell_type": "code",
   "execution_count": null,
   "id": "9d8bf19b",
   "metadata": {},
   "outputs": [],
   "source": []
  },
  {
   "cell_type": "code",
   "execution_count": null,
   "id": "a52800c3",
   "metadata": {},
   "outputs": [],
   "source": []
  },
  {
   "cell_type": "code",
   "execution_count": null,
   "id": "1e90affe",
   "metadata": {},
   "outputs": [],
   "source": []
  }
 ],
 "metadata": {
  "kernelspec": {
   "display_name": "venv",
   "language": "python",
   "name": "venv"
  },
  "language_info": {
   "codemirror_mode": {
    "name": "ipython",
    "version": 3
   },
   "file_extension": ".py",
   "mimetype": "text/x-python",
   "name": "python",
   "nbconvert_exporter": "python",
   "pygments_lexer": "ipython3",
   "version": "3.6.9"
  }
 },
 "nbformat": 4,
 "nbformat_minor": 5
}
