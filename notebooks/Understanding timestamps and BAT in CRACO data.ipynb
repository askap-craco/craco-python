{
 "cells": [
  {
   "cell_type": "markdown",
   "id": "273b3f67",
   "metadata": {},
   "source": [
    "#  Understanding timestamps and BAT in CRACO data\n",
    "\n",
    "Just want to understand what happens when we start CRACO and what the various times mean\n",
    "\n",
    "With the `savescan` script we initiated a CRACO download. Using `ccaphdr --type timestamp` and looking at the log we get the following info\n",
    "```\n",
    "(venv) ban115@seren-01:20230322204016$ pwd\n",
    "/data/big/craco/SB049014/scans/00/20230322204016\n",
    "(venv) ban115@seren-01:20230322204016$ ccaphdr  --type timestamp *b02*c01*.fits 2>/dev/null\n",
    "filename len syncbat npkt frame_id bat\n",
    "ccap_b02_c01+f1.fits 1280000 0x126cd11ed694be 49014/0 VAST_1724-31 60025.86209525183 30 1 1 (2, 465, 1, 2) 1280000 731164704 0 937648558128 0xda50359030 0 32\n",
    "ccap_b02_c01+f2.fits 1280000 0x126cd11ed694be 49014/0 VAST_1724-31 60025.86209525183 30 1 1 (2, 465, 1, 2) 1280000 731164704 0 937648558128 0xda50359030 0 32\n",
    "ccap_b02_c01+f3.fits 1280000 0x126cd11ed694be 49014/0 VAST_1724-31 60025.86209525183 30 1 1 (2, 465, 1, 2) 1280000 731164704 0 937648558128 0xda50359030 0 32\n",
    "ccap_b02_c01+f4.fits 1280000 0x126cd11ed694be 49014/0 VAST_1724-31 60025.86209525183 30 1 1 (2, 465, 1, 2) 1280000 731164704 0 937648558128 0xda50359030 0 32\n",
    "ccap_b02_c01+f5.fits 1280000 0x126cd11ed694be 49014/0 VAST_1724-31 60025.86209525183 30 1 1 (2, 465, 1, 2) 1280000 731164704 0 937648558128 0xda50359030 0 32\n",
    "ccap_b02_c01+f6.fits 1280000 0x126cd11ed694be 49014/0 VAST_1724-31 60025.86209525183 30 1 1 (2, 465, 1, 2) 1280000 731164704 0 937648558128 0xda50359030 0 32\n",
    "(venv) ban115@seren-01:20230322204016$ grep 'Start bat' run.log \n",
    "INFO:craco.cardcap:Start bat is 0x126cda5034b800\n",
    "(venv) ban115@seren-01:20230322204016$ ccaphdr ccap_b02_c02+f1.fits --type fits | grep SYNCBAT\n",
    "ccap_b02_c02+f1.fits SYNCBAT = '0x126cd11ed694be'   / Hexadecimal BAT when frame ID was set to 0\n",
    "```"
   ]
  },
  {
   "cell_type": "code",
   "execution_count": 22,
   "id": "5ab730dd",
   "metadata": {},
   "outputs": [],
   "source": [
    "import numpy as np\n",
    "\n",
    "sync_bat = 0x126cd11ed694be  # BAT of \"sync reset\" event. Retrieved from PV\n",
    "craco_go_bat = 0x126cda5034b800   # Bat of CRACO Go event. Retrieved from PV\n",
    "fid0 = 731164704 # Frame ID from debug header of first data in CRACO download\n",
    "bat0 = 0xda50359030 # bat from debug header of first data in CRACO download"
   ]
  },
  {
   "cell_type": "markdown",
   "id": "3821d11e",
   "metadata": {},
   "source": [
    "OK so first thing to know is that BAT is in microseconds, but FRAMIDs (FIDS) are in ... frames .. which in this case is fine frequency samples, i.e. with the coarse sample rate 32/27 x 1 MHz, and an FFT of 64 for the fine frequuency channel, i.e. there are 54 microseconds sample, i.e. 54 microseconds per FID"
   ]
  },
  {
   "cell_type": "code",
   "execution_count": 15,
   "id": "8b344cd7",
   "metadata": {},
   "outputs": [
    {
     "data": {
      "text/plain": [
       "54"
      ]
     },
     "execution_count": 15,
     "metadata": {},
     "output_type": "execute_result"
    }
   ],
   "source": [
    "fid_usec = int(27/32 * 64)\n",
    "fid_usec"
   ]
  },
  {
   "cell_type": "code",
   "execution_count": 16,
   "id": "59f9f83f",
   "metadata": {},
   "outputs": [],
   "source": [
    "bfframe_samp = 2048 # number of fine samples per beamformer frame"
   ]
  },
  {
   "cell_type": "markdown",
   "id": "036deb7c",
   "metadata": {},
   "source": [
    "All good so far. So there are a few things we'd like to check:\n",
    "- CRACO Go event is set for middle of a beamformer frame\n",
    "- fid0 and bat0 in the same debug header agree\n",
    "- First debug header after craco go  event has expected FID and BAT\n"
   ]
  },
  {
   "cell_type": "markdown",
   "id": "99fb643c",
   "metadata": {},
   "source": [
    "## Was the CRACO GO  event set for the middle of a beamformer frame?"
   ]
  },
  {
   "cell_type": "code",
   "execution_count": 17,
   "id": "b2bb2462",
   "metadata": {},
   "outputs": [
    {
     "data": {
      "text/plain": [
       "731165901.074074"
      ]
     },
     "execution_count": 17,
     "metadata": {},
     "output_type": "execute_result"
    }
   ],
   "source": [
    "# FRAMEID of CRACO go event\n",
    "craco_go_fid = (craco_go_bat - sync_bat) / fid_usec\n",
    "craco_go_fid"
   ]
  },
  {
   "cell_type": "code",
   "execution_count": 19,
   "id": "4b92ee39",
   "metadata": {},
   "outputs": [
    {
     "data": {
      "text/plain": [
       "357014.6001338252"
      ]
     },
     "execution_count": 19,
     "metadata": {},
     "output_type": "execute_result"
    }
   ],
   "source": [
    "# beamformer frame of CRACO GO aevent\n",
    "craco_go_bfframe = craco_go_fid / bfframe_samp\n",
    "craco_go_bfframe"
   ]
  },
  {
   "cell_type": "code",
   "execution_count": 21,
   "id": "c6dfb966",
   "metadata": {},
   "outputs": [
    {
     "data": {
      "text/plain": [
       "1229.0740740299225"
      ]
     },
     "execution_count": 21,
     "metadata": {},
     "output_type": "execute_result"
    }
   ],
   "source": [
    "craco_go_fid % bfframe_samp"
   ]
  },
  {
   "cell_type": "markdown",
   "id": "dc4479ce",
   "metadata": {},
   "source": [
    "OK - so we can see that the CRACO go event was set for a BAT what was 1229 samples, or 0.6 beamformer frames, - roughtly the middle, of beamformer frame 357014. Fair enough.\n",
    "On those grounds we'd expect CRACO to start on the next beamformer frame boundary."
   ]
  },
  {
   "cell_type": "code",
   "execution_count": 26,
   "id": "d3458139",
   "metadata": {},
   "outputs": [
    {
     "data": {
      "text/plain": [
       "731168768"
      ]
     },
     "execution_count": 26,
     "metadata": {},
     "output_type": "execute_result"
    }
   ],
   "source": [
    "expected_fid0 = int(np.ceil(craco_go_bfframe + 1)*bfframe_samp)\n",
    "expected_fid0"
   ]
  },
  {
   "cell_type": "markdown",
   "id": "164b8ff6",
   "metadata": {},
   "source": [
    "## Does FID0 and BAT0 in the first debug header agree on the same time?\n",
    "\n",
    "In principle the frame ID = 0 when BAT = syncbat, and everything increases linearly therafter. So we should be able to count frames since SYNCBAT and get the same BAT as the debug header. So let's see if that works."
   ]
  },
  {
   "cell_type": "code",
   "execution_count": 28,
   "id": "c6af2307",
   "metadata": {},
   "outputs": [
    {
     "data": {
      "text/plain": [
       "5186234485029758"
      ]
     },
     "execution_count": 28,
     "metadata": {},
     "output_type": "execute_result"
    }
   ],
   "source": [
    "expected_bat0 = sync_bat + fid_usec*fid0\n",
    "expected_bat0"
   ]
  },
  {
   "cell_type": "code",
   "execution_count": 29,
   "id": "93e7b969",
   "metadata": {},
   "outputs": [
    {
     "data": {
      "text/plain": [
       "'0x126cda5033bb7e'"
      ]
     },
     "execution_count": 29,
     "metadata": {},
     "output_type": "execute_result"
    }
   ],
   "source": [
    "hex(expected_bat0)"
   ]
  },
  {
   "cell_type": "code",
   "execution_count": 30,
   "id": "28ef463b",
   "metadata": {},
   "outputs": [
    {
     "data": {
      "text/plain": [
       "'0xda50359030'"
      ]
     },
     "execution_count": 30,
     "metadata": {},
     "output_type": "execute_result"
    }
   ],
   "source": [
    "hex(bat0)"
   ]
  },
  {
   "cell_type": "markdown",
   "id": "4d33ec17",
   "metadata": {},
   "source": [
    "OOPS! bat0 is only the first 40 bits of bat - let's mask in the rest from, say, syncbat"
   ]
  },
  {
   "cell_type": "code",
   "execution_count": 32,
   "id": "d1b82a5a",
   "metadata": {},
   "outputs": [
    {
     "data": {
      "text/plain": [
       "'0x126cda50359030'"
      ]
     },
     "execution_count": 32,
     "metadata": {},
     "output_type": "execute_result"
    }
   ],
   "source": [
    "bat0full = bat0 | (sync_bat & (0xffffffff << 40))\n",
    "hex(bat0full)"
   ]
  },
  {
   "cell_type": "markdown",
   "id": "b893d2e7",
   "metadata": {},
   "source": [
    "OK that loks right, so now we'd expect expect bat0full and expected_bat0 to agree"
   ]
  },
  {
   "cell_type": "code",
   "execution_count": 33,
   "id": "9e2809e4",
   "metadata": {},
   "outputs": [
    {
     "data": {
      "text/plain": [
       "-119986"
      ]
     },
     "execution_count": 33,
     "metadata": {},
     "output_type": "execute_result"
    }
   ],
   "source": [
    "expected_bat0 - bat0full"
   ]
  },
  {
   "cell_type": "markdown",
   "id": "2f99fab8",
   "metadata": {},
   "source": [
    "Oops, but they don't?!! Somehow we've lost 119986 microseconds. bat0 is slow by that amount. But is it bat0? or fid0 that's to blame?"
   ]
  },
  {
   "cell_type": "markdown",
   "id": "22308661",
   "metadata": {},
   "source": [
    "## - Does the first debug header after craco go  event has expected FID and BAT?\n",
    "\n",
    "Hmm, we know either FID0 or BAT0 is somehow incorrect. But which is wrong? And why?\n",
    "Recall from earlier know when the CRACO go BAT was sent, and the first CRACO data should be the first beamformer frame after that bat. So let's look at that."
   ]
  },
  {
   "cell_type": "code",
   "execution_count": 36,
   "id": "0d8ee9bf",
   "metadata": {},
   "outputs": [
    {
     "data": {
      "text/plain": [
       "357014.6001338252"
      ]
     },
     "execution_count": 36,
     "metadata": {},
     "output_type": "execute_result"
    }
   ],
   "source": [
    "craco_go_bfframe # beamformer frame number when CRACO GO event was set"
   ]
  },
  {
   "cell_type": "code",
   "execution_count": 37,
   "id": "970f6300",
   "metadata": {},
   "outputs": [
    {
     "data": {
      "text/plain": [
       "731168768"
      ]
     },
     "execution_count": 37,
     "metadata": {},
     "output_type": "execute_result"
    }
   ],
   "source": [
    "expected_fid0 # First FID in first whole beamformer frame after CRACO go event"
   ]
  },
  {
   "cell_type": "code",
   "execution_count": 41,
   "id": "69ae4205",
   "metadata": {},
   "outputs": [
    {
     "data": {
      "text/plain": [
       "-4064"
      ]
     },
     "execution_count": 41,
     "metadata": {},
     "output_type": "execute_result"
    }
   ],
   "source": [
    "fid0 - expected_fid0"
   ]
  },
  {
   "cell_type": "markdown",
   "id": "292bcab2",
   "metadata": {},
   "source": [
    "WHOOOPS! Somehow the first data we got had an FID that 4068 frames *before* the CRACO Go event! That's 4096 - 32 frames early?! How about the BATS?"
   ]
  },
  {
   "cell_type": "code",
   "execution_count": 50,
   "id": "cbfcc0da",
   "metadata": {},
   "outputs": [
    {
     "data": {
      "text/plain": [
       "55344"
      ]
     },
     "execution_count": 50,
     "metadata": {},
     "output_type": "execute_result"
    }
   ],
   "source": [
    "bat0full - craco_go_bat"
   ]
  },
  {
   "cell_type": "markdown",
   "id": "00a6b803",
   "metadata": {},
   "source": [
    "OK - so the first BAT we got from the CRACO data was 55344 usec after the CRACO Go event. This makse sense.\n",
    "\n",
    "# Conclustion\n",
    "It looks like frameID and BATs don't agree in the CRACO data. It looks like the frame IDs are about 4096 samples earlier than the BATS."
   ]
  },
  {
   "cell_type": "code",
   "execution_count": null,
   "id": "221491d4",
   "metadata": {},
   "outputs": [],
   "source": []
  }
 ],
 "metadata": {
  "kernelspec": {
   "display_name": "Python 3 (ipykernel)",
   "language": "python",
   "name": "python3"
  },
  "language_info": {
   "codemirror_mode": {
    "name": "ipython",
    "version": 3
   },
   "file_extension": ".py",
   "mimetype": "text/x-python",
   "name": "python",
   "nbconvert_exporter": "python",
   "pygments_lexer": "ipython3",
   "version": "3.7.3"
  }
 },
 "nbformat": 4,
 "nbformat_minor": 5
}
