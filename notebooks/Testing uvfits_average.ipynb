{
 "cells": [
  {
   "cell_type": "code",
   "execution_count": 3,
   "id": "7c0e58aa-8122-4107-bcbc-5a97190f0281",
   "metadata": {},
   "outputs": [],
   "source": [
    "import numpy as np\n",
    "from craco import uvfits_meta\n",
    "import os"
   ]
  },
  {
   "cell_type": "code",
   "execution_count": 9,
   "id": "0ac6b226-1ca5-4063-94b7-34135b6c974e",
   "metadata": {},
   "outputs": [],
   "source": [
    "infile = \"/CRACO/DATA_08/craco/SB056747/scans/35/20240105083536/b07.uvfits\"\n",
    "metafile = \"/CRACO/DATA_00/craco/SB056747/SB56747.json.gz\"\n",
    "calfile = \"/CRACO/DATA_00/craco/SB056747/cal/07/b07.aver.4pol.smooth.npy\"\n",
    "output_dir = \"/CRACO/DATA_00/craco/gup037/test_uvfits_average/\""
   ]
  },
  {
   "cell_type": "markdown",
   "id": "1f78b0d7-7608-4e08-a90a-7b174c5ca679",
   "metadata": {},
   "source": [
    "## Run the averaging script"
   ]
  },
  {
   "cell_type": "code",
   "execution_count": 21,
   "id": "0ab3a7ca-02ee-429b-ac1a-094b71ca9f7a",
   "metadata": {},
   "outputs": [],
   "source": [
    "tx1 = 10\n",
    "outname1 = f\"test.tx{tx1}.0_10.uvfits\"\n",
    "cmd1 = f\"python ~/Codes/craco-python/src/craco/uvfits_average.py {infile} -metadata {metafile} -tstart 0 -tend 10 -tx {tx1} -outname {output_dir}/{outname1}\"\n",
    "\n",
    "tx2 = 3\n",
    "outname2 = f\"test.tx{tx2}.10_20.uvfits\"\n",
    "cmd2 = f\"python ~/Codes/craco-python/src/craco/uvfits_average.py {infile} -metadata {metafile} -tstart 10 -tend 20 -tx {tx2} -outname {output_dir}/{outname2}\""
   ]
  },
  {
   "cell_type": "code",
   "execution_count": 22,
   "id": "7845e2b0-7b8d-4742-aadc-187922576dc3",
   "metadata": {},
   "outputs": [
    {
     "name": "stdout",
     "output_type": "stream",
     "text": [
      "Current position 1525920 writing 480\n",
      "Wrote 480 to /CRACO/DATA_00/craco/gup037/test_uvfits_average//test.tx10.0_10.uvfits to make it from 1525920 1526400\n",
      "Replaced UNKNOWN source with %s %s B1934-638_beam35 20h09m17.52909502s -66d30m24.19762081s\n",
      "Current position 4560480 writing 1440\n",
      "Wrote 1440 to /CRACO/DATA_00/craco/gup037/test_uvfits_average//test.tx3.10_20.uvfits to make it from 4560480 4561920\n",
      "Replaced UNKNOWN source with %s %s B1934-638_beam35 20h09m17.52909502s -66d30m24.19762081s\n"
     ]
    },
    {
     "data": {
      "text/plain": [
       "0"
      ]
     },
     "execution_count": 22,
     "metadata": {},
     "output_type": "execute_result"
    }
   ],
   "source": [
    "os.system(cmd1)\n",
    "os.system(cmd2)"
   ]
  },
  {
   "cell_type": "code",
   "execution_count": 23,
   "id": "ec5de171-731f-4ba0-b00d-fb45654a8baa",
   "metadata": {},
   "outputs": [
    {
     "name": "stdout",
     "output_type": "stream",
     "text": [
      "total 29168\n",
      "lrwxrwxrwx 1 gup037 nisuser       64 Feb 14 10:48 b07.uvfits -> /CRACO/DATA_08/craco/SB056747/scans/35/20240105083536/b07.uvfits\n",
      "-rw-r--r-- 1 gup037 nisuser 15206400 Feb 14 10:57 b07.0_100.tx10.uvfits\n",
      "-rw-r--r-- 1 gup037 nisuser  1549440 Feb 15 10:51 test.tx10.0_10.uvfits\n",
      "-rw-r--r-- 1 gup037 nisuser  4584960 Feb 15 10:51 test.tx3.10_20.uvfits\n"
     ]
    },
    {
     "data": {
      "text/plain": [
       "0"
      ]
     },
     "execution_count": 23,
     "metadata": {},
     "output_type": "execute_result"
    }
   ],
   "source": [
    "os.system(f\"ls -lrt {output_dir}\")"
   ]
  },
  {
   "cell_type": "markdown",
   "id": "6d357d42-cab4-4d70-8f8d-1f3047c3a4df",
   "metadata": {},
   "source": [
    "## Now read the two files"
   ]
  },
  {
   "cell_type": "code",
   "execution_count": 28,
   "id": "7dd64936-67d0-47d0-9429-112bfa2809cc",
   "metadata": {},
   "outputs": [],
   "source": [
    "fo = uvfits_meta.open(infile, metadata_file = metafile)\n",
    "fa1 = uvfits_meta.open(output_dir + \"/\" + outname1)\n",
    "fa2 = uvfits_meta.open(output_dir + \"/\" + outname2)"
   ]
  },
  {
   "cell_type": "code",
   "execution_count": 29,
   "id": "0f402e07-3478-49be-b7bd-c943ed0af091",
   "metadata": {},
   "outputs": [],
   "source": [
    "d_o1, uvws_o1 = next(fo.fast_time_blocks(nt = 10, fetch_uvws=True, keep_all_baselines=True))\n",
    "d_o2, uvws_o2 = next(fo.fast_time_blocks(nt = 3, istart=10, fetch_uvws=True, keep_all_baselines=True))"
   ]
  },
  {
   "cell_type": "code",
   "execution_count": 40,
   "id": "e96d0c7f-b509-4d86-9c9d-eb639d13f5c7",
   "metadata": {},
   "outputs": [
    {
     "data": {
      "text/plain": [
       "((435, 1, 1, 1, 288, 1, 10), (435, 1, 1, 1, 288, 1, 3), 10, 435, 3)"
      ]
     },
     "execution_count": 40,
     "metadata": {},
     "output_type": "execute_result"
    }
   ],
   "source": [
    "d_o1.shape, d_o2.shape, len(uvws_o1), len(uvws_o1[0]), len(uvws_o1[0][list(uvws_o1[0].keys())[0]])"
   ]
  },
  {
   "cell_type": "code",
   "execution_count": 32,
   "id": "362bcfd7-3fbf-4c11-82cf-9e576fa1ff04",
   "metadata": {},
   "outputs": [],
   "source": [
    "d_a1, uvws_a1 = next(fa1.fast_time_blocks(nt = 1, fetch_uvws=True, keep_all_baselines=True))\n",
    "d_a2, uvws_a2 = next(fa2.fast_time_blocks(nt = 1, fetch_uvws=True, keep_all_baselines=True))"
   ]
  },
  {
   "cell_type": "code",
   "execution_count": 33,
   "id": "96ca8352-e5c1-4c58-81c6-8ad0be4ddc76",
   "metadata": {},
   "outputs": [
    {
     "data": {
      "text/plain": [
       "((435, 1, 1, 1, 288, 1, 1), (435, 1, 1, 1, 288, 1, 1))"
      ]
     },
     "execution_count": 33,
     "metadata": {},
     "output_type": "execute_result"
    }
   ],
   "source": [
    "d_a1.shape, d_a2.shape"
   ]
  },
  {
   "cell_type": "markdown",
   "id": "da763141-214d-47e7-870c-83bdc6929fba",
   "metadata": {},
   "source": [
    "## Now average the data and uvw values yourselves as you think they should have been"
   ]
  },
  {
   "cell_type": "code",
   "execution_count": 65,
   "id": "4546e009-4701-434d-ae05-2500d1356c3b",
   "metadata": {},
   "outputs": [],
   "source": [
    "def average_data_and_uvws(data, uvws, tx):\n",
    "    elements_to_check = ['UU', 'VV', 'WW']\n",
    "    avg_block = data[..., 0].filled(fill_value = 0)\n",
    "    nsum = np.zeros(avg_block.shape, dtype='uint32') + ~data[..., 0].mask\n",
    "    avg_uvws = {}\n",
    "    for blid in uvws[0].keys():\n",
    "        avg_uvws[blid] = []\n",
    "        avg_uvws[blid].append(uvws[0][blid]['UU'])\n",
    "        avg_uvws[blid].append(uvws[0][blid]['VV'])\n",
    "        avg_uvws[blid].append(uvws[0][blid]['WW'])\n",
    "        avg_uvws[blid] = np.array(avg_uvws[blid])\n",
    "    navg = 1\n",
    "    for it in range(1, tx):\n",
    "        avg_block += data[..., it].filled(fill_value = 0)\n",
    "        nsum += ~data[..., it].mask\n",
    "\n",
    "        for blid in uvws[it].keys():\n",
    "            avg_uvws[blid][0] += uvws[it][blid]['UU']\n",
    "            avg_uvws[blid][1] += uvws[it][blid]['VV']\n",
    "            avg_uvws[blid][2] += uvws[it][blid]['WW']\n",
    "        navg += 1 \n",
    "    \n",
    "    valid = nsum > 0\n",
    "    avg_block[~valid] = 0\n",
    "    avg_block[valid] /= nsum[valid]\n",
    "\n",
    "    for blid in avg_uvws.keys():\n",
    "        avg_uvws[blid] /= navg\n",
    "\n",
    "    return avg_block, avg_uvws\n"
   ]
  },
  {
   "cell_type": "code",
   "execution_count": 115,
   "id": "24a2f2c5-947d-451e-9bdb-d2943dfa0014",
   "metadata": {},
   "outputs": [],
   "source": [
    "avg_block1, avg_uvws1 = average_data_and_uvws(d_o1, uvws_o1, 10)\n",
    "avg_block2, avg_uvws2 = average_data_and_uvws(d_o2, uvws_o2, 3)"
   ]
  },
  {
   "cell_type": "markdown",
   "id": "30f557c7-f953-4645-93a5-da01a5534d18",
   "metadata": {},
   "source": [
    "## Check if the averged data are the same as in the averaged file"
   ]
  },
  {
   "cell_type": "code",
   "execution_count": 72,
   "id": "55196e1f-1031-4cc2-b3b4-8dccec3536f2",
   "metadata": {},
   "outputs": [
    {
     "data": {
      "text/plain": [
       "True"
      ]
     },
     "execution_count": 72,
     "metadata": {},
     "output_type": "execute_result"
    }
   ],
   "source": [
    "np.all(avg_block1 == d_a1[..., 0])"
   ]
  },
  {
   "cell_type": "code",
   "execution_count": 116,
   "id": "00940266-4a38-42b0-9175-92df6976c12b",
   "metadata": {},
   "outputs": [
    {
     "data": {
      "text/plain": [
       "True"
      ]
     },
     "execution_count": 116,
     "metadata": {},
     "output_type": "execute_result"
    }
   ],
   "source": [
    "np.all(avg_block2 == d_a2[..., 0])"
   ]
  },
  {
   "cell_type": "markdown",
   "id": "692a0c73-bb81-4e30-bbfe-bba2cbff9046",
   "metadata": {},
   "source": [
    "## Check if the averaged uvws are the same as in the averaged file"
   ]
  },
  {
   "cell_type": "code",
   "execution_count": 117,
   "id": "2e75525c-0f97-4c22-92aa-0897d5cc3c9e",
   "metadata": {},
   "outputs": [],
   "source": [
    "def compare_uvws(uvws_a1, avg_uvws1):\n",
    "    all_true = True\n",
    "    for ii, blid in enumerate(list(avg_uvws1.keys())):\n",
    "        file_blid = list(uvws_a1[0].keys())[ii]\n",
    "        assert file_blid == blid\n",
    "        a = avg_uvws1[blid][0] == uvws_a1[0][blid]['UU']\n",
    "        b = avg_uvws1[blid][1] == uvws_a1[0][blid]['VV']\n",
    "        c = avg_uvws1[blid][2] == uvws_a1[0][blid]['WW']\n",
    "        all_true = all_true and (a==b) and (b==c)\n",
    "    return all_true\n"
   ]
  },
  {
   "cell_type": "code",
   "execution_count": 118,
   "id": "0d9ec144-0d98-4c41-9360-f7ee0ad805a1",
   "metadata": {},
   "outputs": [
    {
     "data": {
      "text/plain": [
       "True"
      ]
     },
     "execution_count": 118,
     "metadata": {},
     "output_type": "execute_result"
    }
   ],
   "source": [
    "compare_uvws(uvws_a1, avg_uvws1)"
   ]
  },
  {
   "cell_type": "code",
   "execution_count": 119,
   "id": "39306f40-e4c7-495f-8807-de49babe9d51",
   "metadata": {},
   "outputs": [
    {
     "data": {
      "text/plain": [
       "True"
      ]
     },
     "execution_count": 119,
     "metadata": {},
     "output_type": "execute_result"
    }
   ],
   "source": [
    "compare_uvws(uvws_a2, avg_uvws2)"
   ]
  },
  {
   "cell_type": "markdown",
   "id": "f9155542-f1ab-4e59-b63b-4b10b915a63b",
   "metadata": {},
   "source": [
    "## Check if the INTTIM is sensible"
   ]
  },
  {
   "cell_type": "code",
   "execution_count": 100,
   "id": "8ce1d139-7556-43fd-b07f-9fb243b3b5be",
   "metadata": {},
   "outputs": [],
   "source": [
    "vis_o1 = next(fo.fast_raw_blocks(nt=1))\n",
    "vis_o2 = next(fo.fast_raw_blocks(nt=1,istart = 10))\n",
    "vis_a1 = next(fa1.fast_raw_blocks(nt=1))\n",
    "vis_a2 = next(fa2.fast_raw_blocks(nt=1))"
   ]
  },
  {
   "cell_type": "code",
   "execution_count": 113,
   "id": "8bd28242-31a8-4a20-9c95-b5361c97f23b",
   "metadata": {},
   "outputs": [
    {
     "data": {
      "text/plain": [
       "True"
      ]
     },
     "execution_count": 113,
     "metadata": {},
     "output_type": "execute_result"
    }
   ],
   "source": [
    "np.isclose(vis_o1['INTTIM'][0][0] * tx1, vis_a1['INTTIM'][0][0])"
   ]
  },
  {
   "cell_type": "code",
   "execution_count": 114,
   "id": "f8842271-02e8-4856-b6f9-3bf59398e965",
   "metadata": {},
   "outputs": [
    {
     "data": {
      "text/plain": [
       "True"
      ]
     },
     "execution_count": 114,
     "metadata": {},
     "output_type": "execute_result"
    }
   ],
   "source": [
    "np.isclose(vis_o2['INTTIM'][0][0] * tx2, vis_a2['INTTIM'][0][0])"
   ]
  },
  {
   "cell_type": "markdown",
   "id": "7a9f4a75-1eca-4be8-8030-945798a7a946",
   "metadata": {},
   "source": [
    "## Check if the DATE is sensible"
   ]
  },
  {
   "cell_type": "code",
   "execution_count": 158,
   "id": "9824dd8b-1f6b-4150-90c4-bd672cdf7978",
   "metadata": {},
   "outputs": [],
   "source": [
    "vis_o1 = next(fo.fast_raw_blocks(nt=tx1, raw_date=False))\n",
    "vis_o2 = next(fo.fast_raw_blocks(nt=tx2,istart = 10))\n",
    "vis_a1 = next(fa1.fast_raw_blocks(nt=1, raw_date = False))\n",
    "vis_a2 = next(fa2.fast_raw_blocks(nt=1))"
   ]
  },
  {
   "cell_type": "code",
   "execution_count": 159,
   "id": "73ab519c-2562-478a-a39b-e321aceb6247",
   "metadata": {},
   "outputs": [
    {
     "data": {
      "text/plain": [
       "True"
      ]
     },
     "execution_count": 159,
     "metadata": {},
     "output_type": "execute_result"
    }
   ],
   "source": [
    "np.allclose(vis_o1['DATE'].mean(axis=0)[0] * 1, vis_a1['DATE'][0][0] * 1)"
   ]
  },
  {
   "cell_type": "code",
   "execution_count": 160,
   "id": "a13eba66-5442-4051-a0c9-4cb883e8381a",
   "metadata": {},
   "outputs": [
    {
     "data": {
      "text/plain": [
       "True"
      ]
     },
     "execution_count": 160,
     "metadata": {},
     "output_type": "execute_result"
    }
   ],
   "source": [
    "np.allclose(vis_o2['DATE'].mean(axis=0)[0] * 1, vis_a2['DATE'][0][0] * 1)"
   ]
  },
  {
   "cell_type": "code",
   "execution_count": 150,
   "id": "b21100cf-7ada-46d5-a9d1-053b7b6cba7d",
   "metadata": {},
   "outputs": [
    {
     "data": {
      "text/plain": [
       "True"
      ]
     },
     "execution_count": 150,
     "metadata": {},
     "output_type": "execute_result"
    }
   ],
   "source": [
    "fo.header['PZERO4'] == fa1.header['PZERO4'] and fa1.header['PZERO4'] ==  fa2.header['PZERO4']"
   ]
  },
  {
   "cell_type": "markdown",
   "id": "213a3a41-c8ee-4ffc-8c50-983b57c0e87d",
   "metadata": {},
   "source": [
    "## Check if other unchanged parameters are the same"
   ]
  },
  {
   "cell_type": "code",
   "execution_count": 166,
   "id": "ff4ef1ce-b6d8-4213-8d84-1537661f9d04",
   "metadata": {},
   "outputs": [
    {
     "name": "stdout",
     "output_type": "stream",
     "text": [
      "BASELINE True True\n",
      "FREQSEL True True\n",
      "SOURCE True True\n"
     ]
    }
   ],
   "source": [
    "params = ['BASELINE', 'FREQSEL', 'SOURCE']\n",
    "for param in params:\n",
    "    print(param, vis_o1[param][0][0] == vis_a1[param][0][0], vis_o2[param][0][0] == vis_a2[param][0][0])"
   ]
  },
  {
   "cell_type": "code",
   "execution_count": null,
   "id": "8f2df6f4-877c-46fc-a555-564d6b68fc51",
   "metadata": {},
   "outputs": [],
   "source": []
  },
  {
   "cell_type": "code",
   "execution_count": null,
   "id": "d334a206-08d2-4efe-83dd-068dda354690",
   "metadata": {},
   "outputs": [],
   "source": []
  }
 ],
 "metadata": {
  "kernelspec": {
   "display_name": "Python 3 (ipykernel)",
   "language": "python",
   "name": "python3"
  },
  "language_info": {
   "codemirror_mode": {
    "name": "ipython",
    "version": 3
   },
   "file_extension": ".py",
   "mimetype": "text/x-python",
   "name": "python",
   "nbconvert_exporter": "python",
   "pygments_lexer": "ipython3",
   "version": "3.10.13"
  }
 },
 "nbformat": 4,
 "nbformat_minor": 5
}
