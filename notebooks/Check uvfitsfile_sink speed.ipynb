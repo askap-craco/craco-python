{
 "cells": [
  {
   "cell_type": "code",
   "execution_count": 1,
   "id": "a3ef9d3b-15db-4bcb-b416-8f4b306f020c",
   "metadata": {},
   "outputs": [],
   "source": [
    "import pylab\n",
    "import matplotlib as mpl\n",
    "import matplotlib.pyplot as plt\n",
    "import numpy as np\n",
    "import os\n",
    "import sys\n",
    "import logging\n",
    "import pytest\n",
    "from astropy.time import Time\n",
    "from astropy import units as u\n",
    "\n",
    "%load_ext autoreload\n",
    "%autoreload 2\n",
    "from craft.corruvfits import CorrUvFitsFile\n",
    "from craco.uvfitsfile_sink import *\n",
    "from craft.craco import ant2bl, baseline_iter\n",
    "from craco import uvfitsfile_sink\n",
    "import craco.card_averager\n",
    "from craft import uvfits\n",
    "\n",
    "\n",
    "import craco\n"
   ]
  },
  {
   "cell_type": "code",
   "execution_count": 2,
   "id": "10319395-a1a7-4e87-814f-2db72f4cdd20",
   "metadata": {},
   "outputs": [],
   "source": [
    "\n",
    "class TestVisblock:\n",
    "     def __init__(self, d, mjdmid, uvw, valid_ants_0based):\n",
    "        self.data = d\n",
    "        self.fid_start = 1234\n",
    "        self.fid_mid = self.fid_start + np.uint64(NSAMP_PER_FRAME//2)\n",
    "        self.mjd_mid = mjdmid\n",
    "        self.uvw = uvw\n",
    "        self.source_index = 0\n",
    "        nant = len(valid_ants_0based)\n",
    "        self.antflags = np.zeros(nant, dtype=bool)\n",
    "        af = self.antflags\n",
    "        self.baseline_flags = np.array([af[blinfo.ia1] | af[blinfo.ia2] for blinfo in baseline_iter(valid_ants_0based)])\n",
    "\n",
    "fcent = 850e6\n",
    "foff = 1e6\n",
    "npol = 1\n",
    "tstart = Time.now().mjd\n",
    "source_list = [{'name':'test', 'ra':123, 'dec':-33}]\n",
    "antennas = []\n",
    "extra_header= {}\n",
    "nbeam = 36\n",
    "nant = 24\n",
    "valid_ants_0based = np.arange(nant)\n",
    "nc_per_card = 24\n",
    "nt = 32\n",
    "npol = 1\n",
    "vis_fscrunch = 6\n",
    "vis_tscrunch = 1\n",
    "real_dtype = np.float32\n",
    "cplx_dtype = np.float32\n",
    "nrx = 72\n",
    "nchan = nc_per_card*nrx // vis_fscrunch\n",
    "vis_nt = nt // vis_tscrunch\n",
    "nbl = nant*(nant-1)//2\n",
    "dt = craco.card_averager.get_averaged_dtype(nbeam, nant, nc_per_card, nt, npol, vis_fscrunch, vis_tscrunch, real_dtype, cplx_dtype)\n",
    "valid_ants_0based = np.arange(nant)\n",
    "uvw = np.random.randn(nbl*3).reshape(nbl,3)\n",
    "tstart = Time(60467.28828320785, format='mjd', scale='utc')\n",
    "fits_sourceidx = 1\n",
    "inttime = 13.4e-3\n",
    "mjds = np.array([(tstart + inttime*u.second*i).utc.value for i in range(vis_nt)])\n",
    "sampleidxs = np.arange(vis_nt)\n",
    "mjdiffs = sampleidxs*inttime/86400\n",
    "baseline_info = list(baseline_iter(valid_ants_0based))\n",
    "blids = [bl.blid for bl in baseline_iter(valid_ants_0based)]"
   ]
  },
  {
   "cell_type": "code",
   "execution_count": 3,
   "id": "47a29772-6a74-40ea-838d-a180d0a5ec9c",
   "metadata": {},
   "outputs": [
    {
     "name": "stderr",
     "output_type": "stream",
     "text": [
      "WARNING: VerifyWarning: Card is too long, comment will be truncated. [astropy.io.fits.card]\n"
     ]
    }
   ],
   "source": [
    "fast_uvout = CorrUvFitsFile('fast.uvfits',\n",
    "                            fcent,\n",
    "                            foff,\n",
    "                            nchan,\n",
    "                            npol,\n",
    "                            tstart.value,\n",
    "                            source_list,\n",
    "                            antennas,\n",
    "                            extra_header=extra_header,\n",
    "                            instrume='CRACO')"
   ]
  },
  {
   "cell_type": "code",
   "execution_count": 4,
   "id": "aadad6ea-2127-443c-93a7-7802d782822e",
   "metadata": {},
   "outputs": [],
   "source": [
    "prepper = DataPrepper(fast_uvout, baseline_info, vis_nt, fits_sourceidx, inttime)"
   ]
  },
  {
   "cell_type": "code",
   "execution_count": 5,
   "id": "fa3ad643-a017-4ecd-ba33-56a1085a1bd3",
   "metadata": {},
   "outputs": [],
   "source": [
    "input = np.zeros(nrx, dtype=dt)\n",
    "input['vis'][:] = np.random.randn(*input['vis'].shape)\n",
    "vis_block = TestVisblock(input['vis'], tstart, uvw, valid_ants_0based)"
   ]
  },
  {
   "cell_type": "code",
   "execution_count": 6,
   "id": "697f7c20-1e61-4868-a926-99ebca1946a3",
   "metadata": {},
   "outputs": [],
   "source": [
    "_= prepper.write(vis_block)\n",
    " "
   ]
  },
  {
   "cell_type": "code",
   "execution_count": 7,
   "id": "fa58f2fd-e771-4203-b5d7-bd894b2468e9",
   "metadata": {},
   "outputs": [
    {
     "name": "stdout",
     "output_type": "stream",
     "text": [
      "177 ms ± 1.79 ms per loop (mean ± std. dev. of 7 runs, 10 loops each)\n"
     ]
    }
   ],
   "source": [
    "%timeit prepper.write(vis_block)"
   ]
  },
  {
   "cell_type": "code",
   "execution_count": 8,
   "id": "1060a3a7-4403-4303-b67e-0bb99d135dbb",
   "metadata": {},
   "outputs": [
    {
     "name": "stdout",
     "output_type": "stream",
     "text": [
      "375 µs ± 1.19 µs per loop (mean ± std. dev. of 7 runs, 1,000 loops each)\n"
     ]
    }
   ],
   "source": [
    "%timeit prepper._set_uvw_baselines(vis_block)"
   ]
  },
  {
   "cell_type": "code",
   "execution_count": 9,
   "id": "ce9c330f-5202-44d8-9686-5580dbf7fa2b",
   "metadata": {},
   "outputs": [
    {
     "data": {
      "text/plain": [
       "(32, 276)"
      ]
     },
     "execution_count": 9,
     "metadata": {},
     "output_type": "execute_result"
    }
   ],
   "source": [
    "prepper.dout.shape"
   ]
  },
  {
   "cell_type": "code",
   "execution_count": 10,
   "id": "2e40d555-8c4c-4db9-8e2d-556671f775d6",
   "metadata": {},
   "outputs": [],
   "source": [
    "from astropy.time import Time\n",
    "t = Time.now()"
   ]
  },
  {
   "cell_type": "code",
   "execution_count": 11,
   "id": "550a6beb-8277-4383-a7eb-0c4303262879",
   "metadata": {},
   "outputs": [
    {
     "data": {
      "text/plain": [
       "'2024-12-10 05:09:59.104'"
      ]
     },
     "execution_count": 11,
     "metadata": {},
     "output_type": "execute_result"
    }
   ],
   "source": [
    "t.utc.iso"
   ]
  },
  {
   "cell_type": "code",
   "execution_count": 12,
   "id": "670e2996-428a-45c4-a30c-98a96b4e3d0b",
   "metadata": {},
   "outputs": [
    {
     "data": {
      "text/plain": [
       "(32, 276)"
      ]
     },
     "execution_count": 12,
     "metadata": {},
     "output_type": "execute_result"
    }
   ],
   "source": [
    "prepper.dout.shape"
   ]
  },
  {
   "cell_type": "code",
   "execution_count": 14,
   "id": "53d2c2fa-af49-4d43-a4e2-f62d3757fb3d",
   "metadata": {},
   "outputs": [],
   "source": [
    "uvfitsfile_sink.prep_data_fast_numba(prepper.dout, vis_block.data, prepper.uvw_baselines, prepper.iblk, prepper.inttime_days)"
   ]
  },
  {
   "cell_type": "code",
   "execution_count": 15,
   "id": "0bbdb2ff-0870-4c8e-a0a5-5ccae17dc4f8",
   "metadata": {},
   "outputs": [
    {
     "name": "stdout",
     "output_type": "stream",
     "text": [
      "161 ms ± 240 µs per loop (mean ± std. dev. of 7 runs, 10 loops each)\n"
     ]
    }
   ],
   "source": [
    "%timeit uvfitsfile_sink.prep_data_fast_numba(prepper.dout, vis_block.data, prepper.uvw_baselines, prepper.iblk, prepper.inttime_days)"
   ]
  },
  {
   "cell_type": "code",
   "execution_count": 84,
   "id": "c01bc84d-79a2-4bac-8015-57fb8febed2e",
   "metadata": {},
   "outputs": [],
   "source": [
    "@njit # damn - njit doesn't support big endian on intel.\n",
    "def prep_data_fast_numba2(dout, vis_data, uvw_baselines, iblk, inttim):\n",
    "    '''\n",
    "    dout is the dtype = np.dtype([('UU', dt), ('VV', dt), ('WW', dt), \\\n",
    "            ('DATE', dt), ('BASELINE', dt), \\\n",
    "            ('FREQSEL', dt), ('SOURCE', dt), ('INTTIM', dt), \\\n",
    "            ('DATA', dt, (1, 1, 1, nchan, npol, self.ncomplex))])\n",
    "\n",
    "    it has shape (vis_nt_out, nbl)\n",
    "\n",
    "    ncomplex = 2 if no flags, and 3 if there are flags\n",
    "\n",
    "    vis_data is the input and is [nrx, nbl, vis_nc, vis_nt ]\n",
    "    '''\n",
    "    nrx, nbl, vis_nc, vis_nt = vis_data.shape[:4]\n",
    "    for ibl in range(nbl):\n",
    "        for it in range(vis_nt):\n",
    "            for irx in range(nrx):\n",
    "                for ic in range(vis_nc):\n",
    "                    cout = ic + vis_nc*irx            \n",
    "                    isamp = it + iblk\n",
    "                    mjddiff = isamp*inttim                \n",
    "                    d = dout[it, ibl]\n",
    "                    d['UU'] = uvw_baselines[ibl,0]\n",
    "                    d['VV'] = uvw_baselines[ibl,1]\n",
    "                    d['WW'] = uvw_baselines[ibl,2]\n",
    "                    d['DATE'] = mjddiff\n",
    "                    data = d['DATA']\n",
    "                    vis0 = vis_data[irx,ibl,ic,it,0]\n",
    "                    vis1 = vis_data[irx,ibl,ic,it,1]\n",
    "\n",
    "                    if vis0 == 0 and vis1 == 0:\n",
    "                        weight = 0\n",
    "                    else:\n",
    "                        weight = 1\n",
    "\n",
    "                    \n",
    "                    #data[0,0,0,cout,0,0] = vis0\n",
    "                    #data[0,0,0,cout,0,1] = vis1\n",
    "                    #data[0,0,0,cout,0,2] = weight\n",
    "                    this_dout = data[0,0,0,cout,0,:]\n",
    "                    this_dout[0] = vis0\n",
    "                    this_dout[1] = vis1\n",
    "                    this_dout[2] = weight\n",
    "                    "
   ]
  },
  {
   "cell_type": "code",
   "execution_count": 85,
   "id": "fc232211-2684-4922-aac0-98438e4ae292",
   "metadata": {},
   "outputs": [
    {
     "name": "stdout",
     "output_type": "stream",
     "text": [
      "9.44 ms ± 37.1 µs per loop (mean ± std. dev. of 7 runs, 1 loop each)\n"
     ]
    }
   ],
   "source": [
    "%timeit prep_data_fast_numba2(prepper.dout, vis_block.data, prepper.uvw_baselines, prepper.iblk, prepper.inttime_days)"
   ]
  },
  {
   "cell_type": "code",
   "execution_count": 79,
   "id": "8f617379-73d3-46c0-8f74-0a120f6b6bbe",
   "metadata": {},
   "outputs": [
    {
     "data": {
      "text/plain": [
       "0.18299395683453237"
      ]
     },
     "execution_count": 79,
     "metadata": {},
     "output_type": "execute_result"
    }
   ],
   "source": [
    "vis_block.data.size/0.0278/1e9"
   ]
  },
  {
   "cell_type": "code",
   "execution_count": 76,
   "id": "f42fc89a-ebc6-4aef-b4a7-2220be99e8a9",
   "metadata": {},
   "outputs": [],
   "source": [
    "# damn - njit doesn't support big endian on intel."
   ]
  },
  {
   "cell_type": "code",
   "execution_count": 69,
   "id": "bcc24f89-9d7e-46a5-8f14-41d3fe8b2735",
   "metadata": {},
   "outputs": [
    {
     "name": "stdout",
     "output_type": "stream",
     "text": [
      "545 ns ± 1.33 ns per loop (mean ± std. dev. of 7 runs, 1,000,000 loops each)\n"
     ]
    }
   ],
   "source": [
    "v = prepper.dout.view(np.float32)\n",
    "%timeit v = prepper.dout.view(np.float32)\n"
   ]
  },
  {
   "cell_type": "code",
   "execution_count": 70,
   "id": "83349b2b-3ee4-4e4a-b7ef-fa03d15ba040",
   "metadata": {},
   "outputs": [
    {
     "name": "stdout",
     "output_type": "stream",
     "text": [
      "3.82 ms ± 9.36 µs per loop (mean ± std. dev. of 7 runs, 100 loops each)\n"
     ]
    }
   ],
   "source": [
    "%timeit v.byteswap(inplace=True) # FITS is big endian. Damn.\n"
   ]
  },
  {
   "cell_type": "code",
   "execution_count": 72,
   "id": "9d07f22a-2804-4cb2-95d6-fc05d0769df0",
   "metadata": {},
   "outputs": [
    {
     "data": {
      "text/plain": [
       "  C_CONTIGUOUS : True\n",
       "  F_CONTIGUOUS : False\n",
       "  OWNDATA : True\n",
       "  WRITEABLE : True\n",
       "  ALIGNED : True\n",
       "  WRITEBACKIFCOPY : False"
      ]
     },
     "execution_count": 72,
     "metadata": {},
     "output_type": "execute_result"
    }
   ],
   "source": [
    "prepper.dout.flags"
   ]
  },
  {
   "cell_type": "code",
   "execution_count": 136,
   "id": "20a8b18a-ea36-45a2-9b7b-9db54eb3c051",
   "metadata": {},
   "outputs": [],
   "source": [
    "@njit(cache=True) # damn - njit doesn't support big endian on intel.\n",
    "def prep_data_fast_numba_tscrunch2(dout, vis_data, uvw_baselines, iblk, inttim):\n",
    "    '''\n",
    "    dout is the dtype = np.dtype([('UU', dt), ('VV', dt), ('WW', dt), \\\n",
    "            ('DATE', dt), ('BASELINE', dt), \\\n",
    "            ('FREQSEL', dt), ('SOURCE', dt), ('INTTIM', dt), \\\n",
    "            ('DATA', dt, (1, 1, 1, nchan, npol, self.ncomplex))])\n",
    "\n",
    "    it has shape (vis_nt_out, nbl)\n",
    "\n",
    "    ncomplex = 2 if no flags, and 3 if there are flags\n",
    "\n",
    "    vis_data is the input and is [nrx, nbl, vis_nc, vis_nt ]\n",
    "\n",
    "    inttim is the integration time in days per input sample\n",
    "    output data can be an integer fraction less than the input, in which case it does tscrunching\n",
    "    '''\n",
    "    nrx, nbl, vis_nc, vis_nt = vis_data.shape[:4]\n",
    "\n",
    "    vis_nt_out, nbl_out = dout.shape\n",
    "    assert vis_nt % vis_nt_out == 0\n",
    "    assert nbl_out == nbl\n",
    "\n",
    "    tscrunch = vis_nt // vis_nt_out\n",
    "    scale = np.float32(1./tscrunch)\n",
    "\n",
    "\n",
    "    for ibl in range(nbl):\n",
    "        for it in range(vis_nt_out):\n",
    "            for irx in range(nrx):\n",
    "                for ic in range(vis_nc):\n",
    "                    cout = ic + vis_nc*irx\n",
    "                    isamp = (it + iblk)                    \n",
    "                    mjddiff = isamp*inttim\n",
    "                    d = dout[it, ibl]\n",
    "                    d['UU']= uvw_baselines[ibl,0]\n",
    "                    d['VV']= uvw_baselines[ibl,1]\n",
    "                    d['WW'] = uvw_baselines[ibl,2]\n",
    "                    d['DATE'] = mjddiff\n",
    "                    data = d['DATA']\n",
    "                    vs0 =  np.float32(0)\n",
    "                    vs1 = np.float32(0)\n",
    "                    vstart = vis_data[irx, ibl, ic, it*tscrunch:(it+1)*tscrunch, :]\n",
    "                    for ix in range(tscrunch):\n",
    "                        vs0 += vstart[ix, 0]\n",
    "                        vs1 += vstart[ix, 1]\n",
    "\n",
    "                    vs0 *= scale\n",
    "                    vs1 *= scale\n",
    "                    \n",
    "                    if vs0 == 0 and vs1 == 1:\n",
    "                        weight = 0\n",
    "                    else:\n",
    "                        weight = 1\n",
    "\n",
    "                    this_dout = data[0,0,0,cout,0,:]\n",
    "                    this_dout[0] = vs0\n",
    "                    this_dout[1] = vs1\n",
    "                    this_dout[2] = weight"
   ]
  },
  {
   "cell_type": "code",
   "execution_count": 135,
   "id": "5eb1a1e9-2f96-4ed8-bf2a-e8003d80504d",
   "metadata": {},
   "outputs": [
    {
     "name": "stdout",
     "output_type": "stream",
     "text": [
      "17 ms ± 58.8 µs per loop (mean ± std. dev. of 7 runs, 1 loop each)\n"
     ]
    }
   ],
   "source": [
    "%timeit prep_data_fast_numba_tscrunch2(prepper.dout, vis_block.data, prepper.uvw_baselines, prepper.iblk, prepper.inttime_days)"
   ]
  },
  {
   "cell_type": "code",
   "execution_count": null,
   "id": "d9414e51-a80c-4b99-85f4-320c6c812084",
   "metadata": {},
   "outputs": [],
   "source": []
  },
  {
   "cell_type": "code",
   "execution_count": null,
   "id": "5d4a1042-7e57-45a8-9057-7f44dd0d8e72",
   "metadata": {},
   "outputs": [],
   "source": []
  },
  {
   "cell_type": "code",
   "execution_count": null,
   "id": "b8e550fe-d776-47b8-9e6b-e4c4a8d88308",
   "metadata": {},
   "outputs": [],
   "source": []
  },
  {
   "cell_type": "code",
   "execution_count": null,
   "id": "2269070c-bdb2-4526-af1b-a88883159081",
   "metadata": {},
   "outputs": [],
   "source": []
  }
 ],
 "metadata": {
  "kernelspec": {
   "display_name": "Python 3 (ipykernel)",
   "language": "python",
   "name": "python3"
  },
  "language_info": {
   "codemirror_mode": {
    "name": "ipython",
    "version": 3
   },
   "file_extension": ".py",
   "mimetype": "text/x-python",
   "name": "python",
   "nbconvert_exporter": "python",
   "pygments_lexer": "ipython3",
   "version": "3.10.13"
  }
 },
 "nbformat": 4,
 "nbformat_minor": 5
}
