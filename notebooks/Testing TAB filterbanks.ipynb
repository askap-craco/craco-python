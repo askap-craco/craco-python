{
 "cells": [
  {
   "cell_type": "code",
   "execution_count": 1,
   "id": "74554bfc",
   "metadata": {},
   "outputs": [],
   "source": [
    "%load_ext autoreload\n",
    "%autoreload 2"
   ]
  },
  {
   "cell_type": "code",
   "execution_count": 2,
   "id": "6bb7b60b",
   "metadata": {},
   "outputs": [],
   "source": [
    "%matplotlib notebook\n",
    "\n",
    "import numpy as np\n",
    "import matplotlib.pyplot as plt\n",
    "from astropy.coordinates import SkyCoord"
   ]
  },
  {
   "cell_type": "code",
   "execution_count": 3,
   "id": "f73afd87",
   "metadata": {},
   "outputs": [],
   "source": [
    "from craft import uvfits, craco_plan, craco\n",
    "from craco import uvfits_meta, calibration, preprocess"
   ]
  },
  {
   "cell_type": "code",
   "execution_count": 4,
   "id": "35b531da",
   "metadata": {},
   "outputs": [
    {
     "name": "stderr",
     "output_type": "stream",
     "text": [
      "/home/gup037/Codes/craft/src/craft/craco_plan.py:237: UserWarning: Cannot grid things on U=0 or V=0 blid=258.0 1-2 uvpix=(1, 0)\n",
      "  warnings.warn(f'Cannot grid things on U=0 or V=0 blid={blid} {a1}-{a2} uvpix={uvpix}')\n",
      "/home/gup037/Codes/craft/src/craft/craco_plan.py:237: UserWarning: Cannot grid things on U=0 or V=0 blid=258.0 1-2 uvpix=(2, 0)\n",
      "  warnings.warn(f'Cannot grid things on U=0 or V=0 blid={blid} {a1}-{a2} uvpix={uvpix}')\n",
      "/home/gup037/Codes/craft/src/craft/craco_plan.py:237: UserWarning: Cannot grid things on U=0 or V=0 blid=515.0 2-3 uvpix=(0, 255)\n",
      "  warnings.warn(f'Cannot grid things on U=0 or V=0 blid={blid} {a1}-{a2} uvpix={uvpix}')\n",
      "/home/gup037/Codes/craft/src/craft/craco_plan.py:237: UserWarning: Cannot grid things on U=0 or V=0 blid=526.0 2-14 uvpix=(0, 19)\n",
      "  warnings.warn(f'Cannot grid things on U=0 or V=0 blid={blid} {a1}-{a2} uvpix={uvpix}')\n",
      "/home/gup037/Codes/craft/src/craft/craco_plan.py:237: UserWarning: Cannot grid things on U=0 or V=0 blid=526.0 2-14 uvpix=(0, 20)\n",
      "  warnings.warn(f'Cannot grid things on U=0 or V=0 blid={blid} {a1}-{a2} uvpix={uvpix}')\n",
      "/home/gup037/Codes/craft/src/craft/craco_plan.py:237: UserWarning: Cannot grid things on U=0 or V=0 blid=526.0 2-14 uvpix=(0, 21)\n",
      "  warnings.warn(f'Cannot grid things on U=0 or V=0 blid={blid} {a1}-{a2} uvpix={uvpix}')\n",
      "/home/gup037/Codes/craft/src/craft/craco_plan.py:237: UserWarning: Cannot grid things on U=0 or V=0 blid=526.0 2-14 uvpix=(0, 22)\n",
      "  warnings.warn(f'Cannot grid things on U=0 or V=0 blid={blid} {a1}-{a2} uvpix={uvpix}')\n",
      "/home/gup037/Codes/craft/src/craft/craco_plan.py:237: UserWarning: Cannot grid things on U=0 or V=0 blid=526.0 2-14 uvpix=(0, 23)\n",
      "  warnings.warn(f'Cannot grid things on U=0 or V=0 blid={blid} {a1}-{a2} uvpix={uvpix}')\n",
      "/home/gup037/Codes/craft/src/craft/craco_plan.py:237: UserWarning: Cannot grid things on U=0 or V=0 blid=526.0 2-14 uvpix=(0, 24)\n",
      "  warnings.warn(f'Cannot grid things on U=0 or V=0 blid={blid} {a1}-{a2} uvpix={uvpix}')\n",
      "/home/gup037/Codes/craft/src/craft/craco_plan.py:237: UserWarning: Cannot grid things on U=0 or V=0 blid=526.0 2-14 uvpix=(0, 25)\n",
      "  warnings.warn(f'Cannot grid things on U=0 or V=0 blid={blid} {a1}-{a2} uvpix={uvpix}')\n",
      "/home/gup037/Codes/craft/src/craft/craco_plan.py:237: UserWarning: Cannot grid things on U=0 or V=0 blid=773.0 3-5 uvpix=(251, 0)\n",
      "  warnings.warn(f'Cannot grid things on U=0 or V=0 blid={blid} {a1}-{a2} uvpix={uvpix}')\n",
      "/home/gup037/Codes/craft/src/craft/craco_plan.py:237: UserWarning: Cannot grid things on U=0 or V=0 blid=773.0 3-5 uvpix=(250, 0)\n",
      "  warnings.warn(f'Cannot grid things on U=0 or V=0 blid={blid} {a1}-{a2} uvpix={uvpix}')\n",
      "/home/gup037/Codes/craft/src/craft/craco_plan.py:237: UserWarning: Cannot grid things on U=0 or V=0 blid=773.0 3-5 uvpix=(249, 0)\n",
      "  warnings.warn(f'Cannot grid things on U=0 or V=0 blid={blid} {a1}-{a2} uvpix={uvpix}')\n",
      "/home/gup037/Codes/craft/src/craft/craco_plan.py:237: UserWarning: Cannot grid things on U=0 or V=0 blid=782.0 3-14 uvpix=(0, 19)\n",
      "  warnings.warn(f'Cannot grid things on U=0 or V=0 blid={blid} {a1}-{a2} uvpix={uvpix}')\n",
      "/home/gup037/Codes/craft/src/craft/craco_plan.py:237: UserWarning: Cannot grid things on U=0 or V=0 blid=782.0 3-14 uvpix=(0, 20)\n",
      "  warnings.warn(f'Cannot grid things on U=0 or V=0 blid={blid} {a1}-{a2} uvpix={uvpix}')\n",
      "/home/gup037/Codes/craft/src/craft/craco_plan.py:237: UserWarning: Cannot grid things on U=0 or V=0 blid=1032.0 4-8 uvpix=(0, 11)\n",
      "  warnings.warn(f'Cannot grid things on U=0 or V=0 blid={blid} {a1}-{a2} uvpix={uvpix}')\n",
      "/home/gup037/Codes/craft/src/craft/craco_plan.py:237: UserWarning: Cannot grid things on U=0 or V=0 blid=1032.0 4-8 uvpix=(0, 12)\n",
      "  warnings.warn(f'Cannot grid things on U=0 or V=0 blid={blid} {a1}-{a2} uvpix={uvpix}')\n",
      "/home/gup037/Codes/craft/src/craft/craco_plan.py:237: UserWarning: Cannot grid things on U=0 or V=0 blid=1032.0 4-8 uvpix=(0, 13)\n",
      "  warnings.warn(f'Cannot grid things on U=0 or V=0 blid={blid} {a1}-{a2} uvpix={uvpix}')\n",
      "/home/gup037/Codes/craft/src/craft/craco_plan.py:237: UserWarning: Cannot grid things on U=0 or V=0 blid=1032.0 4-8 uvpix=(0, 14)\n",
      "  warnings.warn(f'Cannot grid things on U=0 or V=0 blid={blid} {a1}-{a2} uvpix={uvpix}')\n",
      "/home/gup037/Codes/craft/src/craft/craco_plan.py:237: UserWarning: Cannot grid things on U=0 or V=0 blid=1032.0 4-8 uvpix=(0, 15)\n",
      "  warnings.warn(f'Cannot grid things on U=0 or V=0 blid={blid} {a1}-{a2} uvpix={uvpix}')\n",
      "/home/gup037/Codes/craft/src/craft/craco_plan.py:237: UserWarning: Cannot grid things on U=0 or V=0 blid=1564.0 6-28 uvpix=(0, 211)\n",
      "  warnings.warn(f'Cannot grid things on U=0 or V=0 blid={blid} {a1}-{a2} uvpix={uvpix}')\n",
      "/home/gup037/Codes/craft/src/craft/craco_plan.py:237: UserWarning: Cannot grid things on U=0 or V=0 blid=1564.0 6-28 uvpix=(0, 210)\n",
      "  warnings.warn(f'Cannot grid things on U=0 or V=0 blid={blid} {a1}-{a2} uvpix={uvpix}')\n",
      "/home/gup037/Codes/craft/src/craft/craco_plan.py:237: UserWarning: Cannot grid things on U=0 or V=0 blid=1564.0 6-28 uvpix=(0, 209)\n",
      "  warnings.warn(f'Cannot grid things on U=0 or V=0 blid={blid} {a1}-{a2} uvpix={uvpix}')\n",
      "/home/gup037/Codes/craft/src/craft/craco_plan.py:237: UserWarning: Cannot grid things on U=0 or V=0 blid=1564.0 6-28 uvpix=(0, 208)\n",
      "  warnings.warn(f'Cannot grid things on U=0 or V=0 blid={blid} {a1}-{a2} uvpix={uvpix}')\n",
      "/home/gup037/Codes/craft/src/craft/craco_plan.py:237: UserWarning: Cannot grid things on U=0 or V=0 blid=1564.0 6-28 uvpix=(0, 207)\n",
      "  warnings.warn(f'Cannot grid things on U=0 or V=0 blid={blid} {a1}-{a2} uvpix={uvpix}')\n",
      "/home/gup037/Codes/craft/src/craft/craco_plan.py:237: UserWarning: Cannot grid things on U=0 or V=0 blid=1564.0 6-28 uvpix=(0, 206)\n",
      "  warnings.warn(f'Cannot grid things on U=0 or V=0 blid={blid} {a1}-{a2} uvpix={uvpix}')\n",
      "/home/gup037/Codes/craft/src/craft/craco_plan.py:237: UserWarning: Cannot grid things on U=0 or V=0 blid=1564.0 6-28 uvpix=(0, 205)\n",
      "  warnings.warn(f'Cannot grid things on U=0 or V=0 blid={blid} {a1}-{a2} uvpix={uvpix}')\n",
      "/home/gup037/Codes/craft/src/craft/craco_plan.py:237: UserWarning: Cannot grid things on U=0 or V=0 blid=1564.0 6-28 uvpix=(0, 204)\n",
      "  warnings.warn(f'Cannot grid things on U=0 or V=0 blid={blid} {a1}-{a2} uvpix={uvpix}')\n",
      "/home/gup037/Codes/craft/src/craft/craco_plan.py:237: UserWarning: Cannot grid things on U=0 or V=0 blid=1564.0 6-28 uvpix=(0, 203)\n",
      "  warnings.warn(f'Cannot grid things on U=0 or V=0 blid={blid} {a1}-{a2} uvpix={uvpix}')\n",
      "/home/gup037/Codes/craft/src/craft/craco_plan.py:237: UserWarning: Cannot grid things on U=0 or V=0 blid=1564.0 6-28 uvpix=(0, 202)\n",
      "  warnings.warn(f'Cannot grid things on U=0 or V=0 blid={blid} {a1}-{a2} uvpix={uvpix}')\n",
      "/home/gup037/Codes/craft/src/craft/craco_plan.py:237: UserWarning: Cannot grid things on U=0 or V=0 blid=1564.0 6-28 uvpix=(0, 201)\n",
      "  warnings.warn(f'Cannot grid things on U=0 or V=0 blid={blid} {a1}-{a2} uvpix={uvpix}')\n",
      "/home/gup037/Codes/craft/src/craft/craco_plan.py:237: UserWarning: Cannot grid things on U=0 or V=0 blid=1564.0 6-28 uvpix=(0, 200)\n",
      "  warnings.warn(f'Cannot grid things on U=0 or V=0 blid={blid} {a1}-{a2} uvpix={uvpix}')\n",
      "/home/gup037/Codes/craft/src/craft/craco_plan.py:237: UserWarning: Cannot grid things on U=0 or V=0 blid=1564.0 6-28 uvpix=(0, 199)\n",
      "  warnings.warn(f'Cannot grid things on U=0 or V=0 blid={blid} {a1}-{a2} uvpix={uvpix}')\n",
      "/home/gup037/Codes/craft/src/craft/craco_plan.py:237: UserWarning: Cannot grid things on U=0 or V=0 blid=1564.0 6-28 uvpix=(0, 198)\n",
      "  warnings.warn(f'Cannot grid things on U=0 or V=0 blid={blid} {a1}-{a2} uvpix={uvpix}')\n",
      "/home/gup037/Codes/craft/src/craft/craco_plan.py:237: UserWarning: Cannot grid things on U=0 or V=0 blid=1564.0 6-28 uvpix=(0, 197)\n",
      "  warnings.warn(f'Cannot grid things on U=0 or V=0 blid={blid} {a1}-{a2} uvpix={uvpix}')\n",
      "/home/gup037/Codes/craft/src/craft/craco_plan.py:237: UserWarning: Cannot grid things on U=0 or V=0 blid=1564.0 6-28 uvpix=(0, 196)\n",
      "  warnings.warn(f'Cannot grid things on U=0 or V=0 blid={blid} {a1}-{a2} uvpix={uvpix}')\n",
      "/home/gup037/Codes/craft/src/craft/craco_plan.py:237: UserWarning: Cannot grid things on U=0 or V=0 blid=1564.0 6-28 uvpix=(0, 195)\n",
      "  warnings.warn(f'Cannot grid things on U=0 or V=0 blid={blid} {a1}-{a2} uvpix={uvpix}')\n",
      "/home/gup037/Codes/craft/src/craft/craco_plan.py:237: UserWarning: Cannot grid things on U=0 or V=0 blid=3357.0 13-29 uvpix=(0, 210)\n",
      "  warnings.warn(f'Cannot grid things on U=0 or V=0 blid={blid} {a1}-{a2} uvpix={uvpix}')\n",
      "/home/gup037/Codes/craft/src/craft/craco_plan.py:237: UserWarning: Cannot grid things on U=0 or V=0 blid=3357.0 13-29 uvpix=(0, 209)\n",
      "  warnings.warn(f'Cannot grid things on U=0 or V=0 blid={blid} {a1}-{a2} uvpix={uvpix}')\n",
      "/home/gup037/Codes/craft/src/craft/craco_plan.py:237: UserWarning: Cannot grid things on U=0 or V=0 blid=3357.0 13-29 uvpix=(0, 208)\n",
      "  warnings.warn(f'Cannot grid things on U=0 or V=0 blid={blid} {a1}-{a2} uvpix={uvpix}')\n",
      "/home/gup037/Codes/craft/src/craft/craco_plan.py:237: UserWarning: Cannot grid things on U=0 or V=0 blid=3357.0 13-29 uvpix=(0, 207)\n",
      "  warnings.warn(f'Cannot grid things on U=0 or V=0 blid={blid} {a1}-{a2} uvpix={uvpix}')\n",
      "/home/gup037/Codes/craft/src/craft/craco_plan.py:237: UserWarning: Cannot grid things on U=0 or V=0 blid=3357.0 13-29 uvpix=(0, 206)\n",
      "  warnings.warn(f'Cannot grid things on U=0 or V=0 blid={blid} {a1}-{a2} uvpix={uvpix}')\n",
      "/home/gup037/Codes/craft/src/craft/craco_plan.py:237: UserWarning: Cannot grid things on U=0 or V=0 blid=3357.0 13-29 uvpix=(0, 205)\n",
      "  warnings.warn(f'Cannot grid things on U=0 or V=0 blid={blid} {a1}-{a2} uvpix={uvpix}')\n",
      "/home/gup037/Codes/craft/src/craft/craco_plan.py:237: UserWarning: Cannot grid things on U=0 or V=0 blid=3357.0 13-29 uvpix=(0, 204)\n",
      "  warnings.warn(f'Cannot grid things on U=0 or V=0 blid={blid} {a1}-{a2} uvpix={uvpix}')\n",
      "/home/gup037/Codes/craft/src/craft/craco_plan.py:237: UserWarning: Cannot grid things on U=0 or V=0 blid=3357.0 13-29 uvpix=(0, 203)\n",
      "  warnings.warn(f'Cannot grid things on U=0 or V=0 blid={blid} {a1}-{a2} uvpix={uvpix}')\n",
      "/home/gup037/Codes/craft/src/craft/craco_plan.py:237: UserWarning: Cannot grid things on U=0 or V=0 blid=3357.0 13-29 uvpix=(0, 202)\n",
      "  warnings.warn(f'Cannot grid things on U=0 or V=0 blid={blid} {a1}-{a2} uvpix={uvpix}')\n",
      "/home/gup037/Codes/craft/src/craft/craco_plan.py:237: UserWarning: Cannot grid things on U=0 or V=0 blid=3357.0 13-29 uvpix=(0, 201)\n",
      "  warnings.warn(f'Cannot grid things on U=0 or V=0 blid={blid} {a1}-{a2} uvpix={uvpix}')\n",
      "/home/gup037/Codes/craft/src/craft/craco_plan.py:237: UserWarning: Cannot grid things on U=0 or V=0 blid=3357.0 13-29 uvpix=(0, 200)\n",
      "  warnings.warn(f'Cannot grid things on U=0 or V=0 blid={blid} {a1}-{a2} uvpix={uvpix}')\n",
      "/home/gup037/Codes/craft/src/craft/craco_plan.py:237: UserWarning: Cannot grid things on U=0 or V=0 blid=3357.0 13-29 uvpix=(0, 199)\n",
      "  warnings.warn(f'Cannot grid things on U=0 or V=0 blid={blid} {a1}-{a2} uvpix={uvpix}')\n",
      "/home/gup037/Codes/craft/src/craft/craco_plan.py:237: UserWarning: Cannot grid things on U=0 or V=0 blid=3357.0 13-29 uvpix=(0, 198)\n",
      "  warnings.warn(f'Cannot grid things on U=0 or V=0 blid={blid} {a1}-{a2} uvpix={uvpix}')\n",
      "/home/gup037/Codes/craft/src/craft/craco_plan.py:237: UserWarning: Cannot grid things on U=0 or V=0 blid=3357.0 13-29 uvpix=(0, 197)\n",
      "  warnings.warn(f'Cannot grid things on U=0 or V=0 blid={blid} {a1}-{a2} uvpix={uvpix}')\n",
      "/home/gup037/Codes/craft/src/craft/craco_plan.py:237: UserWarning: Cannot grid things on U=0 or V=0 blid=4121.0 16-25 uvpix=(0, 244)\n",
      "  warnings.warn(f'Cannot grid things on U=0 or V=0 blid={blid} {a1}-{a2} uvpix={uvpix}')\n",
      "/home/gup037/Codes/craft/src/craft/craco_plan.py:237: UserWarning: Cannot grid things on U=0 or V=0 blid=4121.0 16-25 uvpix=(0, 243)\n",
      "  warnings.warn(f'Cannot grid things on U=0 or V=0 blid={blid} {a1}-{a2} uvpix={uvpix}')\n",
      "/home/gup037/Codes/craft/src/craft/craco_plan.py:237: UserWarning: Cannot grid things on U=0 or V=0 blid=4121.0 16-25 uvpix=(0, 242)\n",
      "  warnings.warn(f'Cannot grid things on U=0 or V=0 blid={blid} {a1}-{a2} uvpix={uvpix}')\n",
      "/home/gup037/Codes/craft/src/craft/craco_plan.py:237: UserWarning: Cannot grid things on U=0 or V=0 blid=4121.0 16-25 uvpix=(0, 241)\n",
      "  warnings.warn(f'Cannot grid things on U=0 or V=0 blid={blid} {a1}-{a2} uvpix={uvpix}')\n"
     ]
    },
    {
     "name": "stderr",
     "output_type": "stream",
     "text": [
      "/home/gup037/Codes/craft/src/craft/craco_plan.py:237: UserWarning: Cannot grid things on U=0 or V=0 blid=4886.0 19-22 uvpix=(29, 0)\n",
      "  warnings.warn(f'Cannot grid things on U=0 or V=0 blid={blid} {a1}-{a2} uvpix={uvpix}')\n",
      "/home/gup037/Codes/craft/src/craft/craco_plan.py:237: UserWarning: Cannot grid things on U=0 or V=0 blid=4886.0 19-22 uvpix=(30, 0)\n",
      "  warnings.warn(f'Cannot grid things on U=0 or V=0 blid={blid} {a1}-{a2} uvpix={uvpix}')\n",
      "/home/gup037/Codes/craft/src/craft/craco_plan.py:237: UserWarning: Cannot grid things on U=0 or V=0 blid=4886.0 19-22 uvpix=(31, 0)\n",
      "  warnings.warn(f'Cannot grid things on U=0 or V=0 blid={blid} {a1}-{a2} uvpix={uvpix}')\n",
      "/home/gup037/Codes/craft/src/craft/craco_plan.py:237: UserWarning: Cannot grid things on U=0 or V=0 blid=4886.0 19-22 uvpix=(32, 0)\n",
      "  warnings.warn(f'Cannot grid things on U=0 or V=0 blid={blid} {a1}-{a2} uvpix={uvpix}')\n",
      "/home/gup037/Codes/craft/src/craft/craco_plan.py:237: UserWarning: Cannot grid things on U=0 or V=0 blid=4889.0 19-25 uvpix=(218, 0)\n",
      "  warnings.warn(f'Cannot grid things on U=0 or V=0 blid={blid} {a1}-{a2} uvpix={uvpix}')\n",
      "/home/gup037/Codes/craft/src/craft/craco_plan.py:237: UserWarning: Cannot grid things on U=0 or V=0 blid=4889.0 19-25 uvpix=(217, 0)\n",
      "  warnings.warn(f'Cannot grid things on U=0 or V=0 blid={blid} {a1}-{a2} uvpix={uvpix}')\n",
      "/home/gup037/Codes/craft/src/craft/craco_plan.py:237: UserWarning: Cannot grid things on U=0 or V=0 blid=4889.0 19-25 uvpix=(216, 0)\n",
      "  warnings.warn(f'Cannot grid things on U=0 or V=0 blid={blid} {a1}-{a2} uvpix={uvpix}')\n",
      "/home/gup037/Codes/craft/src/craft/craco_plan.py:237: UserWarning: Cannot grid things on U=0 or V=0 blid=4889.0 19-25 uvpix=(215, 0)\n",
      "  warnings.warn(f'Cannot grid things on U=0 or V=0 blid={blid} {a1}-{a2} uvpix={uvpix}')\n",
      "/home/gup037/Codes/craft/src/craft/craco_plan.py:237: UserWarning: Cannot grid things on U=0 or V=0 blid=4889.0 19-25 uvpix=(214, 0)\n",
      "  warnings.warn(f'Cannot grid things on U=0 or V=0 blid={blid} {a1}-{a2} uvpix={uvpix}')\n",
      "/home/gup037/Codes/craft/src/craft/craco_plan.py:237: UserWarning: Cannot grid things on U=0 or V=0 blid=4889.0 19-25 uvpix=(213, 0)\n",
      "  warnings.warn(f'Cannot grid things on U=0 or V=0 blid={blid} {a1}-{a2} uvpix={uvpix}')\n",
      "/home/gup037/Codes/craft/src/craft/craco_plan.py:237: UserWarning: Cannot grid things on U=0 or V=0 blid=4889.0 19-25 uvpix=(212, 0)\n",
      "  warnings.warn(f'Cannot grid things on U=0 or V=0 blid={blid} {a1}-{a2} uvpix={uvpix}')\n",
      "/home/gup037/Codes/craft/src/craft/craco_plan.py:237: UserWarning: Cannot grid things on U=0 or V=0 blid=4889.0 19-25 uvpix=(211, 0)\n",
      "  warnings.warn(f'Cannot grid things on U=0 or V=0 blid={blid} {a1}-{a2} uvpix={uvpix}')\n",
      "/home/gup037/Codes/craft/src/craft/craco_plan.py:237: UserWarning: Cannot grid things on U=0 or V=0 blid=4889.0 19-25 uvpix=(210, 0)\n",
      "  warnings.warn(f'Cannot grid things on U=0 or V=0 blid={blid} {a1}-{a2} uvpix={uvpix}')\n",
      "/home/gup037/Codes/craft/src/craft/craco_plan.py:237: UserWarning: Cannot grid things on U=0 or V=0 blid=4889.0 19-25 uvpix=(209, 0)\n",
      "  warnings.warn(f'Cannot grid things on U=0 or V=0 blid={blid} {a1}-{a2} uvpix={uvpix}')\n",
      "/home/gup037/Codes/craft/src/craft/craco_plan.py:237: UserWarning: Cannot grid things on U=0 or V=0 blid=4889.0 19-25 uvpix=(208, 0)\n",
      "  warnings.warn(f'Cannot grid things on U=0 or V=0 blid={blid} {a1}-{a2} uvpix={uvpix}')\n",
      "/home/gup037/Codes/craft/src/craft/craco_plan.py:237: UserWarning: Cannot grid things on U=0 or V=0 blid=4889.0 19-25 uvpix=(207, 0)\n",
      "  warnings.warn(f'Cannot grid things on U=0 or V=0 blid={blid} {a1}-{a2} uvpix={uvpix}')\n",
      "/home/gup037/Codes/craft/src/craft/craco_plan.py:237: UserWarning: Cannot grid things on U=0 or V=0 blid=4889.0 19-25 uvpix=(206, 0)\n",
      "  warnings.warn(f'Cannot grid things on U=0 or V=0 blid={blid} {a1}-{a2} uvpix={uvpix}')\n",
      "/home/gup037/Codes/craft/src/craft/craco_plan.py:237: UserWarning: Cannot grid things on U=0 or V=0 blid=4889.0 19-25 uvpix=(205, 0)\n",
      "  warnings.warn(f'Cannot grid things on U=0 or V=0 blid={blid} {a1}-{a2} uvpix={uvpix}')\n",
      "/home/gup037/Codes/craft/src/craft/craco_plan.py:237: UserWarning: Cannot grid things on U=0 or V=0 blid=4889.0 19-25 uvpix=(204, 0)\n",
      "  warnings.warn(f'Cannot grid things on U=0 or V=0 blid={blid} {a1}-{a2} uvpix={uvpix}')\n",
      "/home/gup037/Codes/craft/src/craft/craco_plan.py:237: UserWarning: Cannot grid things on U=0 or V=0 blid=5657.0 22-25 uvpix=(188, 0)\n",
      "  warnings.warn(f'Cannot grid things on U=0 or V=0 blid={blid} {a1}-{a2} uvpix={uvpix}')\n",
      "/home/gup037/Codes/craft/src/craft/craco_plan.py:237: UserWarning: Cannot grid things on U=0 or V=0 blid=5657.0 22-25 uvpix=(187, 0)\n",
      "  warnings.warn(f'Cannot grid things on U=0 or V=0 blid={blid} {a1}-{a2} uvpix={uvpix}')\n",
      "/home/gup037/Codes/craft/src/craft/craco_plan.py:237: UserWarning: Cannot grid things on U=0 or V=0 blid=5657.0 22-25 uvpix=(186, 0)\n",
      "  warnings.warn(f'Cannot grid things on U=0 or V=0 blid={blid} {a1}-{a2} uvpix={uvpix}')\n",
      "/home/gup037/Codes/craft/src/craft/craco_plan.py:237: UserWarning: Cannot grid things on U=0 or V=0 blid=5657.0 22-25 uvpix=(185, 0)\n",
      "  warnings.warn(f'Cannot grid things on U=0 or V=0 blid={blid} {a1}-{a2} uvpix={uvpix}')\n",
      "/home/gup037/Codes/craft/src/craft/craco_plan.py:237: UserWarning: Cannot grid things on U=0 or V=0 blid=5657.0 22-25 uvpix=(184, 0)\n",
      "  warnings.warn(f'Cannot grid things on U=0 or V=0 blid={blid} {a1}-{a2} uvpix={uvpix}')\n",
      "/home/gup037/Codes/craft/src/craft/craco_plan.py:237: UserWarning: Cannot grid things on U=0 or V=0 blid=5657.0 22-25 uvpix=(183, 0)\n",
      "  warnings.warn(f'Cannot grid things on U=0 or V=0 blid={blid} {a1}-{a2} uvpix={uvpix}')\n",
      "/home/gup037/Codes/craft/src/craft/craco_plan.py:237: UserWarning: Cannot grid things on U=0 or V=0 blid=5657.0 22-25 uvpix=(182, 0)\n",
      "  warnings.warn(f'Cannot grid things on U=0 or V=0 blid={blid} {a1}-{a2} uvpix={uvpix}')\n",
      "/home/gup037/Codes/craft/src/craft/craco_plan.py:237: UserWarning: Cannot grid things on U=0 or V=0 blid=5657.0 22-25 uvpix=(181, 0)\n",
      "  warnings.warn(f'Cannot grid things on U=0 or V=0 blid={blid} {a1}-{a2} uvpix={uvpix}')\n",
      "/home/gup037/Codes/craft/src/craft/craco_plan.py:237: UserWarning: Cannot grid things on U=0 or V=0 blid=5657.0 22-25 uvpix=(180, 0)\n",
      "  warnings.warn(f'Cannot grid things on U=0 or V=0 blid={blid} {a1}-{a2} uvpix={uvpix}')\n",
      "/home/gup037/Codes/craft/src/craft/craco_plan.py:237: UserWarning: Cannot grid things on U=0 or V=0 blid=5657.0 22-25 uvpix=(179, 0)\n",
      "  warnings.warn(f'Cannot grid things on U=0 or V=0 blid={blid} {a1}-{a2} uvpix={uvpix}')\n",
      "/home/gup037/Codes/craft/src/craft/craco_plan.py:237: UserWarning: Cannot grid things on U=0 or V=0 blid=5657.0 22-25 uvpix=(178, 0)\n",
      "  warnings.warn(f'Cannot grid things on U=0 or V=0 blid={blid} {a1}-{a2} uvpix={uvpix}')\n",
      "/home/gup037/Codes/craft/src/craft/craco_plan.py:237: UserWarning: Cannot grid things on U=0 or V=0 blid=5657.0 22-25 uvpix=(177, 0)\n",
      "  warnings.warn(f'Cannot grid things on U=0 or V=0 blid={blid} {a1}-{a2} uvpix={uvpix}')\n",
      "/home/gup037/Codes/craft/src/craft/craco_plan.py:237: UserWarning: Cannot grid things on U=0 or V=0 blid=5657.0 22-25 uvpix=(176, 0)\n",
      "  warnings.warn(f'Cannot grid things on U=0 or V=0 blid={blid} {a1}-{a2} uvpix={uvpix}')\n",
      "/home/gup037/Codes/craft/src/craft/craco_plan.py:237: UserWarning: Cannot grid things on U=0 or V=0 blid=5657.0 22-25 uvpix=(175, 0)\n",
      "  warnings.warn(f'Cannot grid things on U=0 or V=0 blid={blid} {a1}-{a2} uvpix={uvpix}')\n",
      "/home/gup037/Codes/craft/src/craft/craco_plan.py:237: UserWarning: Cannot grid things on U=0 or V=0 blid=5657.0 22-25 uvpix=(174, 0)\n",
      "  warnings.warn(f'Cannot grid things on U=0 or V=0 blid={blid} {a1}-{a2} uvpix={uvpix}')\n",
      "/home/gup037/Codes/craft/src/craft/craco_plan.py:237: UserWarning: Cannot grid things on U=0 or V=0 blid=5657.0 22-25 uvpix=(173, 0)\n",
      "  warnings.warn(f'Cannot grid things on U=0 or V=0 blid={blid} {a1}-{a2} uvpix={uvpix}')\n",
      "/home/gup037/Codes/craft/src/craft/craco_plan.py:237: UserWarning: Cannot grid things on U=0 or V=0 blid=5657.0 22-25 uvpix=(172, 0)\n",
      "  warnings.warn(f'Cannot grid things on U=0 or V=0 blid={blid} {a1}-{a2} uvpix={uvpix}')\n",
      "/home/gup037/Codes/craft/src/craft/craco_plan.py:237: UserWarning: Cannot grid things on U=0 or V=0 blid=5657.0 22-25 uvpix=(171, 0)\n",
      "  warnings.warn(f'Cannot grid things on U=0 or V=0 blid={blid} {a1}-{a2} uvpix={uvpix}')\n",
      "/home/gup037/Codes/craft/src/craft/craco_plan.py:237: UserWarning: Cannot grid things on U=0 or V=0 blid=5657.0 22-25 uvpix=(170, 0)\n",
      "  warnings.warn(f'Cannot grid things on U=0 or V=0 blid={blid} {a1}-{a2} uvpix={uvpix}')\n",
      "/home/gup037/Codes/craft/src/craft/craco_plan.py:237: UserWarning: Cannot grid things on U=0 or V=0 blid=5657.0 22-25 uvpix=(169, 0)\n",
      "  warnings.warn(f'Cannot grid things on U=0 or V=0 blid={blid} {a1}-{a2} uvpix={uvpix}')\n",
      "/home/gup037/Codes/craft/src/craft/craco_plan.py:237: UserWarning: Cannot grid things on U=0 or V=0 blid=5657.0 22-25 uvpix=(168, 0)\n",
      "  warnings.warn(f'Cannot grid things on U=0 or V=0 blid={blid} {a1}-{a2} uvpix={uvpix}')\n",
      "/home/gup037/Codes/craft/src/craft/craco_plan.py:237: UserWarning: Cannot grid things on U=0 or V=0 blid=5657.0 22-25 uvpix=(167, 0)\n",
      "  warnings.warn(f'Cannot grid things on U=0 or V=0 blid={blid} {a1}-{a2} uvpix={uvpix}')\n",
      "/home/gup037/Codes/craft/src/craft/craco_plan.py:237: UserWarning: Cannot grid things on U=0 or V=0 blid=5657.0 22-25 uvpix=(166, 0)\n",
      "  warnings.warn(f'Cannot grid things on U=0 or V=0 blid={blid} {a1}-{a2} uvpix={uvpix}')\n",
      "/home/gup037/Codes/craft/src/craft/craco_plan.py:237: UserWarning: Cannot grid things on U=0 or V=0 blid=5657.0 22-25 uvpix=(165, 0)\n",
      "  warnings.warn(f'Cannot grid things on U=0 or V=0 blid={blid} {a1}-{a2} uvpix={uvpix}')\n",
      "/home/gup037/Codes/craft/src/craft/craco_plan.py:237: UserWarning: Cannot grid things on U=0 or V=0 blid=5657.0 22-25 uvpix=(164, 0)\n",
      "  warnings.warn(f'Cannot grid things on U=0 or V=0 blid={blid} {a1}-{a2} uvpix={uvpix}')\n"
     ]
    }
   ],
   "source": [
    "fname = \"/data/craco/gup037/DATA/SB057841/DATA/DATA_01/craco/SB057841/scans/00/20240121205332/b00.uvfits\"\n",
    "meta_name = \"/data/craco/gup037/DATA/SB057841/SB057841/SB57841.json.gz\"\n",
    "calname = \"/data/craco/gup037/DATA/SB057841/SB057841/cal/00/b00.aver.4pol.smooth.npy\"\n",
    "\n",
    "\n",
    "values = craco_plan.get_parser().parse_args([\"--flag-ants\", \"12,15,20,30\", \"--calibration\", calname])\n",
    "values.dflag_tblk = 256\n",
    "values.dflag_fradius = 128\n",
    "values.dflag_fthreshold = 5\n",
    "values.target_input_rms = 512\n",
    "values.dflag_cas_threshold=5\n",
    "f = uvfits_meta.open(fname, metadata_file = meta_name)\n",
    "f.set_flagants(values.flag_ants)\n",
    "\n",
    "plan = craco_plan.PipelinePlan(f, values)\n",
    "calsoln = calibration.CalibrationSolution(plan)\n",
    "\n",
    "block0, uvws0 = next(f.fast_time_blocks(nt = 256))\n",
    "block0 = block0.squeeze()\n"
   ]
  },
  {
   "cell_type": "code",
   "execution_count": 5,
   "id": "97641e13",
   "metadata": {},
   "outputs": [],
   "source": [
    "blk_shape = (plan.nbl, plan.nf, plan.nt)\n",
    "fixed_freq_weights = np.ones(plan.nf, dtype=np.bool)\n",
    "bl_weights = np.ones(plan.nbl, dtype=np.bool)\n",
    "input_tf_weights = np.ones((plan.nf, plan.nt), dtype=np.bool)"
   ]
  },
  {
   "cell_type": "code",
   "execution_count": 40,
   "id": "ff885126",
   "metadata": {},
   "outputs": [],
   "source": [
    "FP = preprocess.FastPreprocess(blk_shape, calsoln.solarray, values, fixed_freq_weights, True, True)"
   ]
  },
  {
   "cell_type": "code",
   "execution_count": 41,
   "id": "f300a847",
   "metadata": {},
   "outputs": [],
   "source": [
    "FP(block0)"
   ]
  },
  {
   "cell_type": "code",
   "execution_count": 45,
   "id": "4be84c5f",
   "metadata": {},
   "outputs": [
    {
     "data": {
      "text/plain": [
       "True"
      ]
     },
     "execution_count": 45,
     "metadata": {},
     "output_type": "execute_result"
    }
   ],
   "source": [
    "np.allclose(FP.cas_block, (block0.data.real**2 + block0.data.imag**2).sum(axis=0))"
   ]
  },
  {
   "cell_type": "code",
   "execution_count": 43,
   "id": "296922d4",
   "metadata": {},
   "outputs": [
    {
     "data": {
      "text/plain": [
       "68342280.0"
      ]
     },
     "execution_count": 43,
     "metadata": {},
     "output_type": "execute_result"
    }
   ],
   "source": [
    "FP.cas_block[0][0]"
   ]
  },
  {
   "cell_type": "code",
   "execution_count": 44,
   "id": "ceffa769",
   "metadata": {},
   "outputs": [
    {
     "data": {
      "text/plain": [
       "68342280.0"
      ]
     },
     "execution_count": 44,
     "metadata": {},
     "output_type": "execute_result"
    }
   ],
   "source": [
    "(block0.data.real**2 + block0.data.imag**2).sum(axis=0)[0][0]"
   ]
  },
  {
   "cell_type": "code",
   "execution_count": 48,
   "id": "a7b14672",
   "metadata": {},
   "outputs": [
    {
     "name": "stdout",
     "output_type": "stream",
     "text": [
      "8.41 s ± 224 ms per loop (mean ± std. dev. of 7 runs, 1 loop each)\n"
     ]
    }
   ],
   "source": [
    "preprocess.fast_cas_crs(block0.data, bl_weights, FP.fixed_freq_weights, input_tf_weights, FP.cas_block, FP.crs_block)\n",
    "%timeit preprocess.fast_cas_crs(block0.data, bl_weights, FP.fixed_freq_weights, input_tf_weights, FP.cas_block, FP.crs_block)"
   ]
  },
  {
   "cell_type": "code",
   "execution_count": null,
   "id": "cac6efb7",
   "metadata": {},
   "outputs": [],
   "source": []
  },
  {
   "cell_type": "code",
   "execution_count": 8,
   "id": "7000750e",
   "metadata": {},
   "outputs": [
    {
     "name": "stdout",
     "output_type": "stream",
     "text": [
      "85.8 ms ± 42.9 ms per loop (mean ± std. dev. of 7 runs, 1 loop each)\n"
     ]
    }
   ],
   "source": [
    "%timeit FP(block0.data, bl_weights, input_tf_weights)"
   ]
  },
  {
   "cell_type": "code",
   "execution_count": 17,
   "id": "19a052d9",
   "metadata": {},
   "outputs": [],
   "source": [
    "coords = [SkyCoord(\"00h00m00s -45d33m22s\"), SkyCoord(\"00h00m00s -45d33m22s\"), SkyCoord(\"00h00m00s -45d33m22s\"), SkyCoord(\"00h00m00s -45d33m22s\")]#, SkyCoord(\"01h01m01s -41d31m21s\")]"
   ]
  },
  {
   "cell_type": "code",
   "execution_count": 18,
   "id": "4e02ab67",
   "metadata": {},
   "outputs": [
    {
     "name": "stdout",
     "output_type": "stream",
     "text": [
      "Cannot write header src_raj_deg\n",
      "Cannot write header src_dej_deg\n",
      "Cannot write header src_raj_deg\n",
      "Cannot write header src_dej_deg\n",
      "Cannot write header src_raj_deg\n",
      "Cannot write header src_dej_deg\n",
      "Cannot write header src_raj_deg\n",
      "Cannot write header src_dej_deg\n"
     ]
    }
   ],
   "source": [
    "TAB = preprocess.TAB_handler(coords, plan, outdir = \"/data/craco/gup037/tmp\")"
   ]
  },
  {
   "cell_type": "code",
   "execution_count": 24,
   "id": "9b196c76",
   "metadata": {},
   "outputs": [
    {
     "data": {
      "text/plain": [
       "4"
      ]
     },
     "execution_count": 24,
     "metadata": {},
     "output_type": "execute_result"
    }
   ],
   "source": [
    "TAB.nsrc"
   ]
  },
  {
   "cell_type": "code",
   "execution_count": 20,
   "id": "c7fbe820",
   "metadata": {},
   "outputs": [],
   "source": [
    "_ = TAB.create_phasors(plan.phase_center, craco.uvwbl2array(plan.baselines), plan.freqs)"
   ]
  },
  {
   "cell_type": "code",
   "execution_count": 30,
   "id": "6811a4d2",
   "metadata": {},
   "outputs": [],
   "source": [
    "preprocess.create_tabs_numba(FP.output_buf, TAB.phasor_array, TAB.tab_array)"
   ]
  },
  {
   "cell_type": "code",
   "execution_count": 31,
   "id": "3b7f801c",
   "metadata": {},
   "outputs": [
    {
     "name": "stdout",
     "output_type": "stream",
     "text": [
      "93.1 ms ± 2.17 ms per loop (mean ± std. dev. of 7 runs, 10 loops each)\n"
     ]
    }
   ],
   "source": [
    "%timeit preprocess.create_tabs_numba(FP.output_buf, TAB.phasor_array, TAB.tab_array)"
   ]
  },
  {
   "cell_type": "code",
   "execution_count": 29,
   "id": "2a198d82",
   "metadata": {},
   "outputs": [
    {
     "name": "stdout",
     "output_type": "stream",
     "text": [
      "480 ms ± 19.9 ms per loop (mean ± std. dev. of 7 runs, 1 loop each)\n"
     ]
    }
   ],
   "source": [
    "%timeit preprocess.create_tabs(FP.output_buf, TAB.phasor_array, TAB.tab_array)"
   ]
  },
  {
   "cell_type": "code",
   "execution_count": 25,
   "id": "10882d64",
   "metadata": {},
   "outputs": [],
   "source": [
    "TAB.dump_to_fil()"
   ]
  },
  {
   "cell_type": "code",
   "execution_count": 26,
   "id": "1e1bf00b",
   "metadata": {},
   "outputs": [
    {
     "name": "stdout",
     "output_type": "stream",
     "text": [
      "8.63 ms ± 175 µs per loop (mean ± std. dev. of 7 runs, 100 loops each)\n"
     ]
    }
   ],
   "source": [
    "%timeit TAB.dump_to_fil()"
   ]
  },
  {
   "cell_type": "code",
   "execution_count": null,
   "id": "3d322e06",
   "metadata": {},
   "outputs": [],
   "source": []
  }
 ],
 "metadata": {
  "kernelspec": {
   "display_name": "Python 3",
   "language": "python",
   "name": "python3"
  },
  "language_info": {
   "codemirror_mode": {
    "name": "ipython",
    "version": 3
   },
   "file_extension": ".py",
   "mimetype": "text/x-python",
   "name": "python",
   "nbconvert_exporter": "python",
   "pygments_lexer": "ipython3",
   "version": "3.6.13"
  }
 },
 "nbformat": 4,
 "nbformat_minor": 5
}
