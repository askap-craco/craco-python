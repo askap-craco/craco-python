{
 "cells": [
  {
   "cell_type": "code",
   "execution_count": 2,
   "id": "21439b72",
   "metadata": {},
   "outputs": [
    {
     "name": "stdout",
     "output_type": "stream",
     "text": [
      "The autoreload extension is already loaded. To reload it, use:\n",
      "  %reload_ext autoreload\n"
     ]
    }
   ],
   "source": [
    "%load_ext autoreload\n",
    "%autoreload 2"
   ]
  },
  {
   "cell_type": "code",
   "execution_count": 3,
   "id": "974eaf7e",
   "metadata": {},
   "outputs": [],
   "source": [
    "%matplotlib notebook\n",
    "\n",
    "import numpy as np\n",
    "import matplotlib.pyplot as plt"
   ]
  },
  {
   "cell_type": "code",
   "execution_count": 4,
   "id": "82868111",
   "metadata": {},
   "outputs": [],
   "source": [
    "from craco.preprocess import fast_preprpocess"
   ]
  },
  {
   "cell_type": "code",
   "execution_count": 5,
   "id": "a5ea3c7c",
   "metadata": {},
   "outputs": [],
   "source": [
    "from craft import uvfits, craco_plan\n",
    "from craco import uvfits_meta, calibration"
   ]
  },
  {
   "cell_type": "code",
   "execution_count": 5,
   "id": "987853cd",
   "metadata": {},
   "outputs": [],
   "source": [
    "fname = \"/data/craco/gup037/DATA/SB057841/DATA/DATA_01/craco/SB057841/scans/00/20240121205332/b00.uvfits\"\n",
    "meta_name = \"/data/craco/gup037/DATA/SB057841/SB057841/SB57841.json.gz\"\n",
    "calname = \"/data/craco/gup037/DATA/SB057841/SB057841/cal/00/b00.aver.4pol.smooth.npy\""
   ]
  },
  {
   "cell_type": "code",
   "execution_count": 123,
   "id": "888f2306",
   "metadata": {},
   "outputs": [],
   "source": [
    "values = craco_plan.get_parser().parse_args([\"--flag-ants\", \"12,15,20,30\", \"--calibration\", calname])"
   ]
  },
  {
   "cell_type": "code",
   "execution_count": 124,
   "id": "53465333",
   "metadata": {},
   "outputs": [
    {
     "data": {
      "text/plain": [
       "(325, 1, 1, 1, 288, 1, 256)"
      ]
     },
     "execution_count": 124,
     "metadata": {},
     "output_type": "execute_result"
    }
   ],
   "source": [
    "f = uvfits_meta.open(fname, metadata_file = meta_name)\n",
    "f.set_flagants(values.flag_ants)\n",
    "block0, uvws0 = next(f.fast_time_blocks(nt = 256))\n",
    "block0.shape"
   ]
  },
  {
   "cell_type": "code",
   "execution_count": 125,
   "id": "cfda2b18",
   "metadata": {},
   "outputs": [
    {
     "name": "stderr",
     "output_type": "stream",
     "text": [
      "/home/gup037/Codes/craft/src/craft/craco_plan.py:237: UserWarning: Cannot grid things on U=0 or V=0 blid=258.0 1-2 uvpix=(1, 0)\n",
      "  warnings.warn(f'Cannot grid things on U=0 or V=0 blid={blid} {a1}-{a2} uvpix={uvpix}')\n",
      "/home/gup037/Codes/craft/src/craft/craco_plan.py:237: UserWarning: Cannot grid things on U=0 or V=0 blid=258.0 1-2 uvpix=(2, 0)\n",
      "  warnings.warn(f'Cannot grid things on U=0 or V=0 blid={blid} {a1}-{a2} uvpix={uvpix}')\n",
      "/home/gup037/Codes/craft/src/craft/craco_plan.py:237: UserWarning: Cannot grid things on U=0 or V=0 blid=515.0 2-3 uvpix=(0, 255)\n",
      "  warnings.warn(f'Cannot grid things on U=0 or V=0 blid={blid} {a1}-{a2} uvpix={uvpix}')\n",
      "/home/gup037/Codes/craft/src/craft/craco_plan.py:237: UserWarning: Cannot grid things on U=0 or V=0 blid=526.0 2-14 uvpix=(0, 19)\n",
      "  warnings.warn(f'Cannot grid things on U=0 or V=0 blid={blid} {a1}-{a2} uvpix={uvpix}')\n",
      "/home/gup037/Codes/craft/src/craft/craco_plan.py:237: UserWarning: Cannot grid things on U=0 or V=0 blid=526.0 2-14 uvpix=(0, 20)\n",
      "  warnings.warn(f'Cannot grid things on U=0 or V=0 blid={blid} {a1}-{a2} uvpix={uvpix}')\n",
      "/home/gup037/Codes/craft/src/craft/craco_plan.py:237: UserWarning: Cannot grid things on U=0 or V=0 blid=526.0 2-14 uvpix=(0, 21)\n",
      "  warnings.warn(f'Cannot grid things on U=0 or V=0 blid={blid} {a1}-{a2} uvpix={uvpix}')\n",
      "/home/gup037/Codes/craft/src/craft/craco_plan.py:237: UserWarning: Cannot grid things on U=0 or V=0 blid=526.0 2-14 uvpix=(0, 22)\n",
      "  warnings.warn(f'Cannot grid things on U=0 or V=0 blid={blid} {a1}-{a2} uvpix={uvpix}')\n",
      "/home/gup037/Codes/craft/src/craft/craco_plan.py:237: UserWarning: Cannot grid things on U=0 or V=0 blid=526.0 2-14 uvpix=(0, 23)\n",
      "  warnings.warn(f'Cannot grid things on U=0 or V=0 blid={blid} {a1}-{a2} uvpix={uvpix}')\n",
      "/home/gup037/Codes/craft/src/craft/craco_plan.py:237: UserWarning: Cannot grid things on U=0 or V=0 blid=526.0 2-14 uvpix=(0, 24)\n",
      "  warnings.warn(f'Cannot grid things on U=0 or V=0 blid={blid} {a1}-{a2} uvpix={uvpix}')\n",
      "/home/gup037/Codes/craft/src/craft/craco_plan.py:237: UserWarning: Cannot grid things on U=0 or V=0 blid=526.0 2-14 uvpix=(0, 25)\n",
      "  warnings.warn(f'Cannot grid things on U=0 or V=0 blid={blid} {a1}-{a2} uvpix={uvpix}')\n",
      "/home/gup037/Codes/craft/src/craft/craco_plan.py:237: UserWarning: Cannot grid things on U=0 or V=0 blid=773.0 3-5 uvpix=(251, 0)\n",
      "  warnings.warn(f'Cannot grid things on U=0 or V=0 blid={blid} {a1}-{a2} uvpix={uvpix}')\n",
      "/home/gup037/Codes/craft/src/craft/craco_plan.py:237: UserWarning: Cannot grid things on U=0 or V=0 blid=773.0 3-5 uvpix=(250, 0)\n",
      "  warnings.warn(f'Cannot grid things on U=0 or V=0 blid={blid} {a1}-{a2} uvpix={uvpix}')\n",
      "/home/gup037/Codes/craft/src/craft/craco_plan.py:237: UserWarning: Cannot grid things on U=0 or V=0 blid=773.0 3-5 uvpix=(249, 0)\n",
      "  warnings.warn(f'Cannot grid things on U=0 or V=0 blid={blid} {a1}-{a2} uvpix={uvpix}')\n",
      "/home/gup037/Codes/craft/src/craft/craco_plan.py:237: UserWarning: Cannot grid things on U=0 or V=0 blid=782.0 3-14 uvpix=(0, 19)\n",
      "  warnings.warn(f'Cannot grid things on U=0 or V=0 blid={blid} {a1}-{a2} uvpix={uvpix}')\n",
      "/home/gup037/Codes/craft/src/craft/craco_plan.py:237: UserWarning: Cannot grid things on U=0 or V=0 blid=782.0 3-14 uvpix=(0, 20)\n",
      "  warnings.warn(f'Cannot grid things on U=0 or V=0 blid={blid} {a1}-{a2} uvpix={uvpix}')\n",
      "/home/gup037/Codes/craft/src/craft/craco_plan.py:237: UserWarning: Cannot grid things on U=0 or V=0 blid=1032.0 4-8 uvpix=(0, 11)\n",
      "  warnings.warn(f'Cannot grid things on U=0 or V=0 blid={blid} {a1}-{a2} uvpix={uvpix}')\n",
      "/home/gup037/Codes/craft/src/craft/craco_plan.py:237: UserWarning: Cannot grid things on U=0 or V=0 blid=1032.0 4-8 uvpix=(0, 12)\n",
      "  warnings.warn(f'Cannot grid things on U=0 or V=0 blid={blid} {a1}-{a2} uvpix={uvpix}')\n",
      "/home/gup037/Codes/craft/src/craft/craco_plan.py:237: UserWarning: Cannot grid things on U=0 or V=0 blid=1032.0 4-8 uvpix=(0, 13)\n",
      "  warnings.warn(f'Cannot grid things on U=0 or V=0 blid={blid} {a1}-{a2} uvpix={uvpix}')\n",
      "/home/gup037/Codes/craft/src/craft/craco_plan.py:237: UserWarning: Cannot grid things on U=0 or V=0 blid=1032.0 4-8 uvpix=(0, 14)\n",
      "  warnings.warn(f'Cannot grid things on U=0 or V=0 blid={blid} {a1}-{a2} uvpix={uvpix}')\n",
      "/home/gup037/Codes/craft/src/craft/craco_plan.py:237: UserWarning: Cannot grid things on U=0 or V=0 blid=1032.0 4-8 uvpix=(0, 15)\n",
      "  warnings.warn(f'Cannot grid things on U=0 or V=0 blid={blid} {a1}-{a2} uvpix={uvpix}')\n",
      "/home/gup037/Codes/craft/src/craft/craco_plan.py:237: UserWarning: Cannot grid things on U=0 or V=0 blid=1564.0 6-28 uvpix=(0, 211)\n",
      "  warnings.warn(f'Cannot grid things on U=0 or V=0 blid={blid} {a1}-{a2} uvpix={uvpix}')\n",
      "/home/gup037/Codes/craft/src/craft/craco_plan.py:237: UserWarning: Cannot grid things on U=0 or V=0 blid=1564.0 6-28 uvpix=(0, 210)\n",
      "  warnings.warn(f'Cannot grid things on U=0 or V=0 blid={blid} {a1}-{a2} uvpix={uvpix}')\n",
      "/home/gup037/Codes/craft/src/craft/craco_plan.py:237: UserWarning: Cannot grid things on U=0 or V=0 blid=1564.0 6-28 uvpix=(0, 209)\n",
      "  warnings.warn(f'Cannot grid things on U=0 or V=0 blid={blid} {a1}-{a2} uvpix={uvpix}')\n",
      "/home/gup037/Codes/craft/src/craft/craco_plan.py:237: UserWarning: Cannot grid things on U=0 or V=0 blid=1564.0 6-28 uvpix=(0, 208)\n",
      "  warnings.warn(f'Cannot grid things on U=0 or V=0 blid={blid} {a1}-{a2} uvpix={uvpix}')\n",
      "/home/gup037/Codes/craft/src/craft/craco_plan.py:237: UserWarning: Cannot grid things on U=0 or V=0 blid=1564.0 6-28 uvpix=(0, 207)\n",
      "  warnings.warn(f'Cannot grid things on U=0 or V=0 blid={blid} {a1}-{a2} uvpix={uvpix}')\n",
      "/home/gup037/Codes/craft/src/craft/craco_plan.py:237: UserWarning: Cannot grid things on U=0 or V=0 blid=1564.0 6-28 uvpix=(0, 206)\n",
      "  warnings.warn(f'Cannot grid things on U=0 or V=0 blid={blid} {a1}-{a2} uvpix={uvpix}')\n",
      "/home/gup037/Codes/craft/src/craft/craco_plan.py:237: UserWarning: Cannot grid things on U=0 or V=0 blid=1564.0 6-28 uvpix=(0, 205)\n",
      "  warnings.warn(f'Cannot grid things on U=0 or V=0 blid={blid} {a1}-{a2} uvpix={uvpix}')\n",
      "/home/gup037/Codes/craft/src/craft/craco_plan.py:237: UserWarning: Cannot grid things on U=0 or V=0 blid=1564.0 6-28 uvpix=(0, 204)\n",
      "  warnings.warn(f'Cannot grid things on U=0 or V=0 blid={blid} {a1}-{a2} uvpix={uvpix}')\n",
      "/home/gup037/Codes/craft/src/craft/craco_plan.py:237: UserWarning: Cannot grid things on U=0 or V=0 blid=1564.0 6-28 uvpix=(0, 203)\n",
      "  warnings.warn(f'Cannot grid things on U=0 or V=0 blid={blid} {a1}-{a2} uvpix={uvpix}')\n",
      "/home/gup037/Codes/craft/src/craft/craco_plan.py:237: UserWarning: Cannot grid things on U=0 or V=0 blid=1564.0 6-28 uvpix=(0, 202)\n",
      "  warnings.warn(f'Cannot grid things on U=0 or V=0 blid={blid} {a1}-{a2} uvpix={uvpix}')\n",
      "/home/gup037/Codes/craft/src/craft/craco_plan.py:237: UserWarning: Cannot grid things on U=0 or V=0 blid=1564.0 6-28 uvpix=(0, 201)\n",
      "  warnings.warn(f'Cannot grid things on U=0 or V=0 blid={blid} {a1}-{a2} uvpix={uvpix}')\n",
      "/home/gup037/Codes/craft/src/craft/craco_plan.py:237: UserWarning: Cannot grid things on U=0 or V=0 blid=1564.0 6-28 uvpix=(0, 200)\n",
      "  warnings.warn(f'Cannot grid things on U=0 or V=0 blid={blid} {a1}-{a2} uvpix={uvpix}')\n",
      "/home/gup037/Codes/craft/src/craft/craco_plan.py:237: UserWarning: Cannot grid things on U=0 or V=0 blid=1564.0 6-28 uvpix=(0, 199)\n",
      "  warnings.warn(f'Cannot grid things on U=0 or V=0 blid={blid} {a1}-{a2} uvpix={uvpix}')\n",
      "/home/gup037/Codes/craft/src/craft/craco_plan.py:237: UserWarning: Cannot grid things on U=0 or V=0 blid=1564.0 6-28 uvpix=(0, 198)\n",
      "  warnings.warn(f'Cannot grid things on U=0 or V=0 blid={blid} {a1}-{a2} uvpix={uvpix}')\n",
      "/home/gup037/Codes/craft/src/craft/craco_plan.py:237: UserWarning: Cannot grid things on U=0 or V=0 blid=1564.0 6-28 uvpix=(0, 197)\n",
      "  warnings.warn(f'Cannot grid things on U=0 or V=0 blid={blid} {a1}-{a2} uvpix={uvpix}')\n",
      "/home/gup037/Codes/craft/src/craft/craco_plan.py:237: UserWarning: Cannot grid things on U=0 or V=0 blid=1564.0 6-28 uvpix=(0, 196)\n",
      "  warnings.warn(f'Cannot grid things on U=0 or V=0 blid={blid} {a1}-{a2} uvpix={uvpix}')\n",
      "/home/gup037/Codes/craft/src/craft/craco_plan.py:237: UserWarning: Cannot grid things on U=0 or V=0 blid=1564.0 6-28 uvpix=(0, 195)\n",
      "  warnings.warn(f'Cannot grid things on U=0 or V=0 blid={blid} {a1}-{a2} uvpix={uvpix}')\n",
      "/home/gup037/Codes/craft/src/craft/craco_plan.py:237: UserWarning: Cannot grid things on U=0 or V=0 blid=3357.0 13-29 uvpix=(0, 210)\n",
      "  warnings.warn(f'Cannot grid things on U=0 or V=0 blid={blid} {a1}-{a2} uvpix={uvpix}')\n",
      "/home/gup037/Codes/craft/src/craft/craco_plan.py:237: UserWarning: Cannot grid things on U=0 or V=0 blid=3357.0 13-29 uvpix=(0, 209)\n",
      "  warnings.warn(f'Cannot grid things on U=0 or V=0 blid={blid} {a1}-{a2} uvpix={uvpix}')\n",
      "/home/gup037/Codes/craft/src/craft/craco_plan.py:237: UserWarning: Cannot grid things on U=0 or V=0 blid=3357.0 13-29 uvpix=(0, 208)\n",
      "  warnings.warn(f'Cannot grid things on U=0 or V=0 blid={blid} {a1}-{a2} uvpix={uvpix}')\n",
      "/home/gup037/Codes/craft/src/craft/craco_plan.py:237: UserWarning: Cannot grid things on U=0 or V=0 blid=3357.0 13-29 uvpix=(0, 207)\n",
      "  warnings.warn(f'Cannot grid things on U=0 or V=0 blid={blid} {a1}-{a2} uvpix={uvpix}')\n",
      "/home/gup037/Codes/craft/src/craft/craco_plan.py:237: UserWarning: Cannot grid things on U=0 or V=0 blid=3357.0 13-29 uvpix=(0, 206)\n",
      "  warnings.warn(f'Cannot grid things on U=0 or V=0 blid={blid} {a1}-{a2} uvpix={uvpix}')\n",
      "/home/gup037/Codes/craft/src/craft/craco_plan.py:237: UserWarning: Cannot grid things on U=0 or V=0 blid=3357.0 13-29 uvpix=(0, 205)\n",
      "  warnings.warn(f'Cannot grid things on U=0 or V=0 blid={blid} {a1}-{a2} uvpix={uvpix}')\n",
      "/home/gup037/Codes/craft/src/craft/craco_plan.py:237: UserWarning: Cannot grid things on U=0 or V=0 blid=3357.0 13-29 uvpix=(0, 204)\n",
      "  warnings.warn(f'Cannot grid things on U=0 or V=0 blid={blid} {a1}-{a2} uvpix={uvpix}')\n",
      "/home/gup037/Codes/craft/src/craft/craco_plan.py:237: UserWarning: Cannot grid things on U=0 or V=0 blid=3357.0 13-29 uvpix=(0, 203)\n",
      "  warnings.warn(f'Cannot grid things on U=0 or V=0 blid={blid} {a1}-{a2} uvpix={uvpix}')\n",
      "/home/gup037/Codes/craft/src/craft/craco_plan.py:237: UserWarning: Cannot grid things on U=0 or V=0 blid=3357.0 13-29 uvpix=(0, 202)\n",
      "  warnings.warn(f'Cannot grid things on U=0 or V=0 blid={blid} {a1}-{a2} uvpix={uvpix}')\n",
      "/home/gup037/Codes/craft/src/craft/craco_plan.py:237: UserWarning: Cannot grid things on U=0 or V=0 blid=3357.0 13-29 uvpix=(0, 201)\n",
      "  warnings.warn(f'Cannot grid things on U=0 or V=0 blid={blid} {a1}-{a2} uvpix={uvpix}')\n",
      "/home/gup037/Codes/craft/src/craft/craco_plan.py:237: UserWarning: Cannot grid things on U=0 or V=0 blid=3357.0 13-29 uvpix=(0, 200)\n",
      "  warnings.warn(f'Cannot grid things on U=0 or V=0 blid={blid} {a1}-{a2} uvpix={uvpix}')\n",
      "/home/gup037/Codes/craft/src/craft/craco_plan.py:237: UserWarning: Cannot grid things on U=0 or V=0 blid=3357.0 13-29 uvpix=(0, 199)\n",
      "  warnings.warn(f'Cannot grid things on U=0 or V=0 blid={blid} {a1}-{a2} uvpix={uvpix}')\n",
      "/home/gup037/Codes/craft/src/craft/craco_plan.py:237: UserWarning: Cannot grid things on U=0 or V=0 blid=3357.0 13-29 uvpix=(0, 198)\n",
      "  warnings.warn(f'Cannot grid things on U=0 or V=0 blid={blid} {a1}-{a2} uvpix={uvpix}')\n",
      "/home/gup037/Codes/craft/src/craft/craco_plan.py:237: UserWarning: Cannot grid things on U=0 or V=0 blid=3357.0 13-29 uvpix=(0, 197)\n",
      "  warnings.warn(f'Cannot grid things on U=0 or V=0 blid={blid} {a1}-{a2} uvpix={uvpix}')\n",
      "/home/gup037/Codes/craft/src/craft/craco_plan.py:237: UserWarning: Cannot grid things on U=0 or V=0 blid=4121.0 16-25 uvpix=(0, 244)\n",
      "  warnings.warn(f'Cannot grid things on U=0 or V=0 blid={blid} {a1}-{a2} uvpix={uvpix}')\n",
      "/home/gup037/Codes/craft/src/craft/craco_plan.py:237: UserWarning: Cannot grid things on U=0 or V=0 blid=4121.0 16-25 uvpix=(0, 243)\n",
      "  warnings.warn(f'Cannot grid things on U=0 or V=0 blid={blid} {a1}-{a2} uvpix={uvpix}')\n",
      "/home/gup037/Codes/craft/src/craft/craco_plan.py:237: UserWarning: Cannot grid things on U=0 or V=0 blid=4121.0 16-25 uvpix=(0, 242)\n",
      "  warnings.warn(f'Cannot grid things on U=0 or V=0 blid={blid} {a1}-{a2} uvpix={uvpix}')\n",
      "/home/gup037/Codes/craft/src/craft/craco_plan.py:237: UserWarning: Cannot grid things on U=0 or V=0 blid=4121.0 16-25 uvpix=(0, 241)\n",
      "  warnings.warn(f'Cannot grid things on U=0 or V=0 blid={blid} {a1}-{a2} uvpix={uvpix}')\n",
      "/home/gup037/Codes/craft/src/craft/craco_plan.py:237: UserWarning: Cannot grid things on U=0 or V=0 blid=4886.0 19-22 uvpix=(29, 0)\n",
      "  warnings.warn(f'Cannot grid things on U=0 or V=0 blid={blid} {a1}-{a2} uvpix={uvpix}')\n",
      "/home/gup037/Codes/craft/src/craft/craco_plan.py:237: UserWarning: Cannot grid things on U=0 or V=0 blid=4886.0 19-22 uvpix=(30, 0)\n",
      "  warnings.warn(f'Cannot grid things on U=0 or V=0 blid={blid} {a1}-{a2} uvpix={uvpix}')\n",
      "/home/gup037/Codes/craft/src/craft/craco_plan.py:237: UserWarning: Cannot grid things on U=0 or V=0 blid=4886.0 19-22 uvpix=(31, 0)\n",
      "  warnings.warn(f'Cannot grid things on U=0 or V=0 blid={blid} {a1}-{a2} uvpix={uvpix}')\n",
      "/home/gup037/Codes/craft/src/craft/craco_plan.py:237: UserWarning: Cannot grid things on U=0 or V=0 blid=4886.0 19-22 uvpix=(32, 0)\n",
      "  warnings.warn(f'Cannot grid things on U=0 or V=0 blid={blid} {a1}-{a2} uvpix={uvpix}')\n",
      "/home/gup037/Codes/craft/src/craft/craco_plan.py:237: UserWarning: Cannot grid things on U=0 or V=0 blid=4889.0 19-25 uvpix=(218, 0)\n",
      "  warnings.warn(f'Cannot grid things on U=0 or V=0 blid={blid} {a1}-{a2} uvpix={uvpix}')\n",
      "/home/gup037/Codes/craft/src/craft/craco_plan.py:237: UserWarning: Cannot grid things on U=0 or V=0 blid=4889.0 19-25 uvpix=(217, 0)\n",
      "  warnings.warn(f'Cannot grid things on U=0 or V=0 blid={blid} {a1}-{a2} uvpix={uvpix}')\n",
      "/home/gup037/Codes/craft/src/craft/craco_plan.py:237: UserWarning: Cannot grid things on U=0 or V=0 blid=4889.0 19-25 uvpix=(216, 0)\n",
      "  warnings.warn(f'Cannot grid things on U=0 or V=0 blid={blid} {a1}-{a2} uvpix={uvpix}')\n",
      "/home/gup037/Codes/craft/src/craft/craco_plan.py:237: UserWarning: Cannot grid things on U=0 or V=0 blid=4889.0 19-25 uvpix=(215, 0)\n",
      "  warnings.warn(f'Cannot grid things on U=0 or V=0 blid={blid} {a1}-{a2} uvpix={uvpix}')\n",
      "/home/gup037/Codes/craft/src/craft/craco_plan.py:237: UserWarning: Cannot grid things on U=0 or V=0 blid=4889.0 19-25 uvpix=(214, 0)\n",
      "  warnings.warn(f'Cannot grid things on U=0 or V=0 blid={blid} {a1}-{a2} uvpix={uvpix}')\n",
      "/home/gup037/Codes/craft/src/craft/craco_plan.py:237: UserWarning: Cannot grid things on U=0 or V=0 blid=4889.0 19-25 uvpix=(213, 0)\n",
      "  warnings.warn(f'Cannot grid things on U=0 or V=0 blid={blid} {a1}-{a2} uvpix={uvpix}')\n",
      "/home/gup037/Codes/craft/src/craft/craco_plan.py:237: UserWarning: Cannot grid things on U=0 or V=0 blid=4889.0 19-25 uvpix=(212, 0)\n",
      "  warnings.warn(f'Cannot grid things on U=0 or V=0 blid={blid} {a1}-{a2} uvpix={uvpix}')\n",
      "/home/gup037/Codes/craft/src/craft/craco_plan.py:237: UserWarning: Cannot grid things on U=0 or V=0 blid=4889.0 19-25 uvpix=(211, 0)\n",
      "  warnings.warn(f'Cannot grid things on U=0 or V=0 blid={blid} {a1}-{a2} uvpix={uvpix}')\n",
      "/home/gup037/Codes/craft/src/craft/craco_plan.py:237: UserWarning: Cannot grid things on U=0 or V=0 blid=4889.0 19-25 uvpix=(210, 0)\n",
      "  warnings.warn(f'Cannot grid things on U=0 or V=0 blid={blid} {a1}-{a2} uvpix={uvpix}')\n",
      "/home/gup037/Codes/craft/src/craft/craco_plan.py:237: UserWarning: Cannot grid things on U=0 or V=0 blid=4889.0 19-25 uvpix=(209, 0)\n",
      "  warnings.warn(f'Cannot grid things on U=0 or V=0 blid={blid} {a1}-{a2} uvpix={uvpix}')\n",
      "/home/gup037/Codes/craft/src/craft/craco_plan.py:237: UserWarning: Cannot grid things on U=0 or V=0 blid=4889.0 19-25 uvpix=(208, 0)\n",
      "  warnings.warn(f'Cannot grid things on U=0 or V=0 blid={blid} {a1}-{a2} uvpix={uvpix}')\n",
      "/home/gup037/Codes/craft/src/craft/craco_plan.py:237: UserWarning: Cannot grid things on U=0 or V=0 blid=4889.0 19-25 uvpix=(207, 0)\n",
      "  warnings.warn(f'Cannot grid things on U=0 or V=0 blid={blid} {a1}-{a2} uvpix={uvpix}')\n",
      "/home/gup037/Codes/craft/src/craft/craco_plan.py:237: UserWarning: Cannot grid things on U=0 or V=0 blid=4889.0 19-25 uvpix=(206, 0)\n",
      "  warnings.warn(f'Cannot grid things on U=0 or V=0 blid={blid} {a1}-{a2} uvpix={uvpix}')\n",
      "/home/gup037/Codes/craft/src/craft/craco_plan.py:237: UserWarning: Cannot grid things on U=0 or V=0 blid=4889.0 19-25 uvpix=(205, 0)\n",
      "  warnings.warn(f'Cannot grid things on U=0 or V=0 blid={blid} {a1}-{a2} uvpix={uvpix}')\n",
      "/home/gup037/Codes/craft/src/craft/craco_plan.py:237: UserWarning: Cannot grid things on U=0 or V=0 blid=4889.0 19-25 uvpix=(204, 0)\n",
      "  warnings.warn(f'Cannot grid things on U=0 or V=0 blid={blid} {a1}-{a2} uvpix={uvpix}')\n",
      "/home/gup037/Codes/craft/src/craft/craco_plan.py:237: UserWarning: Cannot grid things on U=0 or V=0 blid=5657.0 22-25 uvpix=(188, 0)\n",
      "  warnings.warn(f'Cannot grid things on U=0 or V=0 blid={blid} {a1}-{a2} uvpix={uvpix}')\n",
      "/home/gup037/Codes/craft/src/craft/craco_plan.py:237: UserWarning: Cannot grid things on U=0 or V=0 blid=5657.0 22-25 uvpix=(187, 0)\n",
      "  warnings.warn(f'Cannot grid things on U=0 or V=0 blid={blid} {a1}-{a2} uvpix={uvpix}')\n",
      "/home/gup037/Codes/craft/src/craft/craco_plan.py:237: UserWarning: Cannot grid things on U=0 or V=0 blid=5657.0 22-25 uvpix=(186, 0)\n",
      "  warnings.warn(f'Cannot grid things on U=0 or V=0 blid={blid} {a1}-{a2} uvpix={uvpix}')\n",
      "/home/gup037/Codes/craft/src/craft/craco_plan.py:237: UserWarning: Cannot grid things on U=0 or V=0 blid=5657.0 22-25 uvpix=(185, 0)\n",
      "  warnings.warn(f'Cannot grid things on U=0 or V=0 blid={blid} {a1}-{a2} uvpix={uvpix}')\n",
      "/home/gup037/Codes/craft/src/craft/craco_plan.py:237: UserWarning: Cannot grid things on U=0 or V=0 blid=5657.0 22-25 uvpix=(184, 0)\n",
      "  warnings.warn(f'Cannot grid things on U=0 or V=0 blid={blid} {a1}-{a2} uvpix={uvpix}')\n",
      "/home/gup037/Codes/craft/src/craft/craco_plan.py:237: UserWarning: Cannot grid things on U=0 or V=0 blid=5657.0 22-25 uvpix=(183, 0)\n",
      "  warnings.warn(f'Cannot grid things on U=0 or V=0 blid={blid} {a1}-{a2} uvpix={uvpix}')\n",
      "/home/gup037/Codes/craft/src/craft/craco_plan.py:237: UserWarning: Cannot grid things on U=0 or V=0 blid=5657.0 22-25 uvpix=(182, 0)\n",
      "  warnings.warn(f'Cannot grid things on U=0 or V=0 blid={blid} {a1}-{a2} uvpix={uvpix}')\n",
      "/home/gup037/Codes/craft/src/craft/craco_plan.py:237: UserWarning: Cannot grid things on U=0 or V=0 blid=5657.0 22-25 uvpix=(181, 0)\n",
      "  warnings.warn(f'Cannot grid things on U=0 or V=0 blid={blid} {a1}-{a2} uvpix={uvpix}')\n",
      "/home/gup037/Codes/craft/src/craft/craco_plan.py:237: UserWarning: Cannot grid things on U=0 or V=0 blid=5657.0 22-25 uvpix=(180, 0)\n",
      "  warnings.warn(f'Cannot grid things on U=0 or V=0 blid={blid} {a1}-{a2} uvpix={uvpix}')\n",
      "/home/gup037/Codes/craft/src/craft/craco_plan.py:237: UserWarning: Cannot grid things on U=0 or V=0 blid=5657.0 22-25 uvpix=(179, 0)\n",
      "  warnings.warn(f'Cannot grid things on U=0 or V=0 blid={blid} {a1}-{a2} uvpix={uvpix}')\n",
      "/home/gup037/Codes/craft/src/craft/craco_plan.py:237: UserWarning: Cannot grid things on U=0 or V=0 blid=5657.0 22-25 uvpix=(178, 0)\n",
      "  warnings.warn(f'Cannot grid things on U=0 or V=0 blid={blid} {a1}-{a2} uvpix={uvpix}')\n",
      "/home/gup037/Codes/craft/src/craft/craco_plan.py:237: UserWarning: Cannot grid things on U=0 or V=0 blid=5657.0 22-25 uvpix=(177, 0)\n",
      "  warnings.warn(f'Cannot grid things on U=0 or V=0 blid={blid} {a1}-{a2} uvpix={uvpix}')\n",
      "/home/gup037/Codes/craft/src/craft/craco_plan.py:237: UserWarning: Cannot grid things on U=0 or V=0 blid=5657.0 22-25 uvpix=(176, 0)\n",
      "  warnings.warn(f'Cannot grid things on U=0 or V=0 blid={blid} {a1}-{a2} uvpix={uvpix}')\n",
      "/home/gup037/Codes/craft/src/craft/craco_plan.py:237: UserWarning: Cannot grid things on U=0 or V=0 blid=5657.0 22-25 uvpix=(175, 0)\n",
      "  warnings.warn(f'Cannot grid things on U=0 or V=0 blid={blid} {a1}-{a2} uvpix={uvpix}')\n",
      "/home/gup037/Codes/craft/src/craft/craco_plan.py:237: UserWarning: Cannot grid things on U=0 or V=0 blid=5657.0 22-25 uvpix=(174, 0)\n",
      "  warnings.warn(f'Cannot grid things on U=0 or V=0 blid={blid} {a1}-{a2} uvpix={uvpix}')\n",
      "/home/gup037/Codes/craft/src/craft/craco_plan.py:237: UserWarning: Cannot grid things on U=0 or V=0 blid=5657.0 22-25 uvpix=(173, 0)\n",
      "  warnings.warn(f'Cannot grid things on U=0 or V=0 blid={blid} {a1}-{a2} uvpix={uvpix}')\n",
      "/home/gup037/Codes/craft/src/craft/craco_plan.py:237: UserWarning: Cannot grid things on U=0 or V=0 blid=5657.0 22-25 uvpix=(172, 0)\n",
      "  warnings.warn(f'Cannot grid things on U=0 or V=0 blid={blid} {a1}-{a2} uvpix={uvpix}')\n",
      "/home/gup037/Codes/craft/src/craft/craco_plan.py:237: UserWarning: Cannot grid things on U=0 or V=0 blid=5657.0 22-25 uvpix=(171, 0)\n",
      "  warnings.warn(f'Cannot grid things on U=0 or V=0 blid={blid} {a1}-{a2} uvpix={uvpix}')\n",
      "/home/gup037/Codes/craft/src/craft/craco_plan.py:237: UserWarning: Cannot grid things on U=0 or V=0 blid=5657.0 22-25 uvpix=(170, 0)\n",
      "  warnings.warn(f'Cannot grid things on U=0 or V=0 blid={blid} {a1}-{a2} uvpix={uvpix}')\n",
      "/home/gup037/Codes/craft/src/craft/craco_plan.py:237: UserWarning: Cannot grid things on U=0 or V=0 blid=5657.0 22-25 uvpix=(169, 0)\n",
      "  warnings.warn(f'Cannot grid things on U=0 or V=0 blid={blid} {a1}-{a2} uvpix={uvpix}')\n",
      "/home/gup037/Codes/craft/src/craft/craco_plan.py:237: UserWarning: Cannot grid things on U=0 or V=0 blid=5657.0 22-25 uvpix=(168, 0)\n",
      "  warnings.warn(f'Cannot grid things on U=0 or V=0 blid={blid} {a1}-{a2} uvpix={uvpix}')\n",
      "/home/gup037/Codes/craft/src/craft/craco_plan.py:237: UserWarning: Cannot grid things on U=0 or V=0 blid=5657.0 22-25 uvpix=(167, 0)\n",
      "  warnings.warn(f'Cannot grid things on U=0 or V=0 blid={blid} {a1}-{a2} uvpix={uvpix}')\n",
      "/home/gup037/Codes/craft/src/craft/craco_plan.py:237: UserWarning: Cannot grid things on U=0 or V=0 blid=5657.0 22-25 uvpix=(166, 0)\n",
      "  warnings.warn(f'Cannot grid things on U=0 or V=0 blid={blid} {a1}-{a2} uvpix={uvpix}')\n",
      "/home/gup037/Codes/craft/src/craft/craco_plan.py:237: UserWarning: Cannot grid things on U=0 or V=0 blid=5657.0 22-25 uvpix=(165, 0)\n",
      "  warnings.warn(f'Cannot grid things on U=0 or V=0 blid={blid} {a1}-{a2} uvpix={uvpix}')\n",
      "/home/gup037/Codes/craft/src/craft/craco_plan.py:237: UserWarning: Cannot grid things on U=0 or V=0 blid=5657.0 22-25 uvpix=(164, 0)\n",
      "  warnings.warn(f'Cannot grid things on U=0 or V=0 blid={blid} {a1}-{a2} uvpix={uvpix}')\n"
     ]
    }
   ],
   "source": [
    "plan = craco_plan.PipelinePlan(f, values)\n",
    "calsoln = calibration.CalibrationSolution(plan)"
   ]
  },
  {
   "cell_type": "code",
   "execution_count": 126,
   "id": "1213f5a6",
   "metadata": {},
   "outputs": [],
   "source": [
    "input_block = block0.squeeze()[:, :, :block0.shape[-1]//1]\n",
    "input_data = input_block.data\n",
    "input_mask = input_block.mask\n",
    "\n",
    "nbl, nf, nt = input_block.shape\n",
    "isubblock = 0\n",
    "output_buf = np.zeros_like(input_data)\n",
    "#output_mask = np.zeros_like(input_mask)\n",
    "\n",
    "Ai = np.zeros((nbl, nf), dtype=np.complex64)\n",
    "Qi = np.zeros((nbl, nf), dtype=np.complex64)\n",
    "N = np.ones((nbl, nf), dtype=np.int16)\n",
    "\n",
    "cas = np.zeros((nf, nt), dtype=np.float64)\n",
    "crs = np.zeros((nf, nt), dtype=np.float64)\n",
    "cas_N = np.zeros((nf, nt), dtype=np.int16)\n",
    "\n",
    "cal= calsoln.solarray.mean(axis=2).squeeze()\n",
    "calsoln_data = cal.data\n",
    "calsoln_mask = cal.mask\n",
    "\n",
    "target_input_rms = None\n"
   ]
  },
  {
   "cell_type": "code",
   "execution_count": 127,
   "id": "4c6822dc",
   "metadata": {},
   "outputs": [],
   "source": [
    "#Computing cas and crs add 150ms of processing time per block (256 samples).\n",
    "#Computing just the crs(aka pcb) adds 50ms\n",
    "#Computing crs and cas adds 70ms (so 20ms extra from just crs/pcb)"
   ]
  },
  {
   "cell_type": "code",
   "execution_count": 128,
   "id": "67dab78d",
   "metadata": {},
   "outputs": [
    {
     "data": {
      "text/plain": [
       "(325, 288)"
      ]
     },
     "execution_count": 128,
     "metadata": {},
     "output_type": "execute_result"
    }
   ],
   "source": [
    "cal.shape"
   ]
  },
  {
   "cell_type": "code",
   "execution_count": 129,
   "id": "39906b15",
   "metadata": {},
   "outputs": [],
   "source": [
    "fast_preprpocess(input_block, input_mask, output_buf, isubblock, Ai, Qi, N, calsoln_data, calsoln_mask, cas, crs, cas_N, target_input_rms, reset_scales=True)"
   ]
  },
  {
   "cell_type": "code",
   "execution_count": 132,
   "id": "6a59518e",
   "metadata": {},
   "outputs": [
    {
     "name": "stdout",
     "output_type": "stream",
     "text": [
      "448 ms ± 2.77 ms per loop (mean ± std. dev. of 7 runs, 1 loop each)\n"
     ]
    }
   ],
   "source": [
    "%timeit fast_preprpocess(input_block, input_mask, output_buf, isubblock, Ai, Qi, N, calsoln_data, calsoln_mask, cas, crs, cas_N, target_input_rms, reset_scales=True)"
   ]
  },
  {
   "cell_type": "code",
   "execution_count": 92,
   "id": "f26ff208",
   "metadata": {},
   "outputs": [],
   "source": [
    "Qi_old = Qi.copy()"
   ]
  },
  {
   "cell_type": "code",
   "execution_count": 93,
   "id": "2d6cf4f7",
   "metadata": {},
   "outputs": [
    {
     "data": {
      "text/plain": [
       "array([[258, 258, 258, ..., 258, 258, 258],\n",
       "       [258, 258, 258, ..., 258, 258, 258],\n",
       "       [258, 258, 258, ..., 258, 258, 258],\n",
       "       ...,\n",
       "       [258, 258, 258, ..., 258, 258, 258],\n",
       "       [258, 258, 258, ..., 258, 258, 258],\n",
       "       [258, 258, 258, ..., 258, 258, 258]], dtype=int16)"
      ]
     },
     "execution_count": 93,
     "metadata": {},
     "output_type": "execute_result"
    }
   ],
   "source": [
    "N"
   ]
  },
  {
   "cell_type": "code",
   "execution_count": 32,
   "id": "0d6c6fb2",
   "metadata": {},
   "outputs": [
    {
     "data": {
      "text/plain": [
       "numpy.ma.core.MaskedArray"
      ]
     },
     "execution_count": 32,
     "metadata": {},
     "output_type": "execute_result"
    }
   ],
   "source": [
    "type(input_block)"
   ]
  },
  {
   "cell_type": "code",
   "execution_count": 33,
   "id": "ce4907ec",
   "metadata": {},
   "outputs": [
    {
     "data": {
      "text/plain": [
       "array([[[ 368.0417    -10.458313j ,  153.04167  -157.08333j  ,\n",
       "          -30.125    +161.41669j  , ..., -119.166664  -19.833336j ,\n",
       "         -163.875    -352.45834j  ,  353.6667    +29.916687j ],\n",
       "        [-132.375    +196.95834j  , -359.83334  -156.79167j  ,\n",
       "          182.66667  +226.625j    , ...,  606.5      +128.41667j  ,\n",
       "          262.5      -247.62502j  ,   98.79167  +180.04167j  ],\n",
       "        [  32.66667  +200.91667j  , -601.625    +303.5j      ,\n",
       "         -386.62503  -228.75003j  , ..., -183.58333  -718.3334j   ,\n",
       "         -383.        +68.04167j  ,  696.5      -393.83334j  ],\n",
       "        ...,\n",
       "        [-309.83334  -122.25j     , -326.83334  +355.83334j  ,\n",
       "           60.791668 +174.95834j  , ..., -140.41669  -131.41667j  ,\n",
       "         -231.58334   +35.875j    ,  215.25     -174.74998j  ],\n",
       "        [-393.58334  +507.66666j  ,  607.0833   -110.33333j  ,\n",
       "          -93.33334  -168.375j    , ...,    4.833336 +311.5417j   ,\n",
       "           99.04167  +392.7917j   , -247.33336   -43.583332j ],\n",
       "        [  79.04166  +317.08334j  , -224.37497  -159.79166j  ,\n",
       "          381.25     +204.625j    , ..., -493.70834  +234.00002j  ,\n",
       "          342.08334  +100.41667j  ,  105.54167  +120.375j    ]],\n",
       "\n",
       "       [[ -70.708374  +79.375j    ,  -41.958332 -280.125j    ,\n",
       "          348.6667   -227.79169j  , ...,  424.9167   +181.45834j  ,\n",
       "          133.75     -222.41666j  ,   45.04167  -127.708336j ],\n",
       "        [ 556.125    +337.5j      , -308.58334  -128.j       ,\n",
       "           22.166668  +90.04168j  , ...,   12.916672 -117.37503j  ,\n",
       "         -162.45833  -587.25j     ,  248.375    -287.58334j  ],\n",
       "        [ -83.00001   +73.499985j ,  460.0417   +420.1667j   ,\n",
       "         -311.20834  +470.j       , ..., -239.70834  -300.4583j   ,\n",
       "          362.125    -271.75j     ,   61.25     +179.5j      ],\n",
       "        ...,\n",
       "        [  63.791656 +245.37502j  ,  155.33334  -140.41666j  ,\n",
       "          389.25      +84.125j    , ..., -316.83334  +269.20834j  ,\n",
       "           -5.9166718+349.12503j  ,  -71.75001  +645.6667j   ],\n",
       "        [ 267.9167   -216.45834j  ,  108.041664  -98.29167j  ,\n",
       "          177.70834    -4.291666j , ..., -102.375    -438.58334j  ,\n",
       "         -155.45834  +148.04167j  ,  188.37502   -71.458336j ],\n",
       "        [-279.20834  +203.875j    , -695.4167    -19.25j     ,\n",
       "         -148.125    +284.2917j   , ...,   22.875    -364.1667j   ,\n",
       "         -132.41667  +113.083336j ,   30.041656 -288.375j    ]],\n",
       "\n",
       "       [[-809.8334   +137.91667j  ,  -22.249992 +145.58334j  ,\n",
       "         -163.04167  -220.75j     , ...,  327.79166  -113.125j    ,\n",
       "           72.04167   -14.j       ,  -74.749985 +431.83337j  ],\n",
       "        [-293.91666  -183.20834j  ,  254.79167   -96.00001j  ,\n",
       "          209.29166  -253.83333j  , ...,  154.79167   -38.583336j ,\n",
       "          505.625    +273.83334j  , -196.33334   +45.833336j ],\n",
       "        [-472.25003  -118.95831j  ,  281.16666  -451.j       ,\n",
       "         -117.41667   -88.75001j  , ..., -288.95834  -145.16667j  ,\n",
       "          -50.833336 +195.125j    ,   14.083351 +380.375j    ],\n",
       "        ...,\n",
       "        [ 159.20834  +155.125j    , -306.625    -163.45834j  ,\n",
       "         -290.75003   -46.916664j , ...,   76.91667  -605.9584j   ,\n",
       "         -391.75003  +125.29166j  ,   10.458336  -50.66667j  ],\n",
       "        [ 279.5833    -75.458336j ,  411.16666    +3.125j    ,\n",
       "         -232.95834  -107.91667j  , ..., -168.58334  -165.625j    ,\n",
       "           20.250004 -345.0417j   , -311.6667    -23.875j    ],\n",
       "        [ 139.91667  +241.87502j  ,   59.999992 -517.j       ,\n",
       "          350.33334   -31.916656j , ...,  231.91667  +293.125j    ,\n",
       "          -23.333344 -167.04169j  ,  217.79167  -534.125j    ]],\n",
       "\n",
       "       ...,\n",
       "\n",
       "       [[ 140.54167  -161.83333j  , -142.375    -844.4584j   ,\n",
       "          347.50003   -16.041672j , ...,    7.125    -178.70834j  ,\n",
       "         -124.708336 +190.45834j  , -178.00002  +121.375015j ],\n",
       "        [   2.4583435 +77.04166j  , -337.7083   +476.5417j   ,\n",
       "         -538.25006  -325.79166j  , ...,  166.91669  +204.25j     ,\n",
       "         -220.54169  -412.125j    ,  294.7917   +625.875j    ],\n",
       "        [ 481.1667   -339.58337j  ,  283.625    +386.45834j  ,\n",
       "          898.37506  +605.5834j   , ...,   54.708336 +759.0833j   ,\n",
       "         -279.5      +632.7084j   , -634.2084   -286.08334j  ],\n",
       "        ...,\n",
       "        [ 448.00003   +64.j       ,  425.83334  +272.83334j  ,\n",
       "         -253.45834  +276.50003j  , ..., -137.91666   +19.125006j ,\n",
       "         -288.9583   +497.25j     ,  162.45834  -740.6667j   ],\n",
       "        [-314.2917    -25.250004j , -172.875    +372.5417j   ,\n",
       "           17.250015  -82.04167j  , ..., -238.91666   +85.833336j ,\n",
       "         -121.958336  +47.541668j ,  233.79169  +329.0417j   ],\n",
       "        [-398.       +166.75j     , -148.70834   +38.916664j ,\n",
       "           27.75001  +105.83333j  , ..., -179.        +10.291672j ,\n",
       "         -169.58334  +467.08337j  ,  259.9167   -264.1667j   ]],\n",
       "\n",
       "       [[ 345.70834  +364.4167j   ,  317.125    -526.25j     ,\n",
       "          -12.791672 +385.95837j  , ...,  413.75     +300.4167j   ,\n",
       "          614.5834   -323.1667j   , -182.66669  +119.45834j  ],\n",
       "        [-598.375    -140.41667j  ,  201.08334  +616.5j      ,\n",
       "          -62.58334  -618.j       , ...,   90.16668  +419.25j     ,\n",
       "         -150.875     +84.708336j ,  204.83334  +187.91669j  ],\n",
       "        [   6.583332 -323.5j      , -281.75     -190.83334j  ,\n",
       "         -306.9583    +70.5j      , ...,  298.375    +361.33337j  ,\n",
       "         -424.08334   -19.95834j  , -433.625    -255.75j     ],\n",
       "        ...,\n",
       "        [ 150.58336  +230.125j    , -540.0417    -59.70833j  ,\n",
       "           44.45833  +401.58334j  , ..., -312.1667    +37.16666j  ,\n",
       "           69.458336 -549.0834j   ,  639.2083   -198.16667j  ],\n",
       "        [ 252.87503  -106.916664j ,   57.41667  -370.50003j  ,\n",
       "          240.41666   -53.291668j , ...,   75.33334  -133.75j     ,\n",
       "           26.666668 +176.16666j  ,  273.5      -297.375j    ],\n",
       "        [  88.58334  -248.95834j  ,  224.79169   -85.208336j ,\n",
       "          173.12502  +513.7917j   , ..., -521.5417    +46.625j    ,\n",
       "         -105.79167  +479.49997j  ,  308.1667     +3.7916641j]],\n",
       "\n",
       "       [[ 201.70834  -198.875j    ,  -48.33333  +532.2083j   ,\n",
       "          -22.833344 +227.j       , ...,   75.125    +410.70834j  ,\n",
       "         -178.41667  -308.9167j   , -329.5      -212.04167j  ],\n",
       "        [ 168.70834  +358.875j    ,  458.       -491.75j     ,\n",
       "          133.95834  -349.375j    , ..., -549.625     +34.75j     ,\n",
       "         -138.375    -400.70834j  , -116.37503  -146.08334j  ],\n",
       "        [ 127.625    -351.75j     , -290.2917   +429.20837j  ,\n",
       "          791.25     -566.5833j   , ...,  269.70834  -479.25j     ,\n",
       "           67.833336 +216.29169j  , -212.625    +147.58333j  ],\n",
       "        ...,\n",
       "        [  40.375    +297.20834j  , -261.       +573.75j     ,\n",
       "          211.75     -226.16667j  , ...,  393.125    -329.25003j  ,\n",
       "          199.70834  -114.91666j  ,  239.08336  -155.70834j  ],\n",
       "        [-415.83334  -503.54166j  , -270.58334    -5.4999847j,\n",
       "          -24.374992   -5.625j    , ...,  -70.375015   -6.083336j ,\n",
       "          154.45834  -228.83334j  ,   28.416672  +38.95833j  ],\n",
       "        [-462.20834   -62.58333j  ,  155.08334  -216.50002j  ,\n",
       "           61.91667  -192.58334j  , ..., -259.625    -117.66667j  ,\n",
       "          334.5417    +37.458344j ,  412.1667   -265.375j    ]]],\n",
       "      dtype=complex64)"
      ]
     },
     "execution_count": 33,
     "metadata": {},
     "output_type": "execute_result"
    }
   ],
   "source": [
    "input_block.data"
   ]
  },
  {
   "cell_type": "code",
   "execution_count": 34,
   "id": "7589e5c9",
   "metadata": {},
   "outputs": [
    {
     "data": {
      "text/plain": [
       "<memory at 0x7ff29ac625e8>"
      ]
     },
     "execution_count": 34,
     "metadata": {},
     "output_type": "execute_result"
    }
   ],
   "source": [
    "output_buf.data"
   ]
  },
  {
   "cell_type": "code",
   "execution_count": 16,
   "id": "0e897f60",
   "metadata": {},
   "outputs": [
    {
     "data": {
      "text/plain": [
       "(325, 288, 8)"
      ]
     },
     "execution_count": 16,
     "metadata": {},
     "output_type": "execute_result"
    }
   ],
   "source": [
    "output_buf.shape"
   ]
  },
  {
   "cell_type": "code",
   "execution_count": 110,
   "id": "f430d435",
   "metadata": {},
   "outputs": [],
   "source": [
    "ds = d.squeeze()"
   ]
  },
  {
   "cell_type": "code",
   "execution_count": null,
   "id": "4a00cf98",
   "metadata": {},
   "outputs": [],
   "source": []
  },
  {
   "cell_type": "code",
   "execution_count": null,
   "id": "49921696",
   "metadata": {},
   "outputs": [],
   "source": []
  },
  {
   "cell_type": "code",
   "execution_count": null,
   "id": "bdb15792",
   "metadata": {},
   "outputs": [],
   "source": []
  },
  {
   "cell_type": "code",
   "execution_count": null,
   "id": "537aa3ba",
   "metadata": {},
   "outputs": [],
   "source": []
  },
  {
   "cell_type": "code",
   "execution_count": null,
   "id": "2658d594",
   "metadata": {},
   "outputs": [],
   "source": []
  },
  {
   "cell_type": "code",
   "execution_count": null,
   "id": "4741767c",
   "metadata": {},
   "outputs": [],
   "source": []
  },
  {
   "cell_type": "code",
   "execution_count": null,
   "id": "cc53b11c",
   "metadata": {},
   "outputs": [],
   "source": []
  },
  {
   "cell_type": "code",
   "execution_count": 6,
   "id": "3d83e762",
   "metadata": {},
   "outputs": [
    {
     "name": "stdout",
     "output_type": "stream",
     "text": [
      "/data/craco/gup037/DATA/SB057841\n"
     ]
    }
   ],
   "source": [
    "cd /data/craco/gup037/DATA/SB057841/"
   ]
  },
  {
   "cell_type": "code",
   "execution_count": 105,
   "id": "f0dd7d52",
   "metadata": {},
   "outputs": [],
   "source": [
    "def read_and_make_plans_etc():\n",
    "     \n",
    "     fname = \"DATA/DATA_01/craco/SB057841/scans/00/20240121205332/b00.uvfits\"\n",
    "     meta_name = \"SB057841/SB57841.json.gz\"\n",
    "     calname = \"SB057841/cal/00/b00.aver.4pol.smooth.npy\"\n",
    "     import numpy as np\n",
    "     from craft import uvfits, craco_plan\n",
    "     from craco import uvfits_meta, calibration, search_pipeline, preprocess\n",
    "     f = uvfits_meta.open(fname, metadata_file = meta_name)\n",
    "     values = craco_plan.get_parser().parse_args([\"--flag-ants\", \"12,15,20,30\", \"--calibration\", calname])\n",
    "     plan = craco_plan.PipelinePlan(f, values)\n",
    "     calsoln = calibration.CalibrationSolution(plan)\n",
    "     sp_values = search_pipeline.get_parser().parse_args([\"--flag-ants\", \"12,15,20,30\", \"--calibration\", calname])\n",
    "     sp_values.dflag_tblk = 256\n",
    "     sp_values.dflag_cas_threshold = 5\n",
    "     sp_values.target_input_rms = 512\n",
    "     sp_values.dflag_fradius = 128\n",
    "     fp = preprocess.FastPreprocess((plan.nbl, plan.nf, plan.nt), calsoln.solarray, sp_values, np.ones(plan.nf), sky_sub = True, single_norm = True)\n",
    "     return f, values, plan, calsoln, sp_values, fp"
   ]
  },
  {
   "cell_type": "code",
   "execution_count": 106,
   "id": "f4dc59ad",
   "metadata": {},
   "outputs": [
    {
     "name": "stderr",
     "output_type": "stream",
     "text": [
      "INFO:root:Opening file DATA/DATA_01/craco/SB057841/scans/00/20240121205332/b00.uvfits\n",
      "INFO:craft.craco_plan:making Plan values=Namespace(boxcar_weight='sum', calibration='SB057841/cal/00/b00.aver.4pol.smooth.npy', fdmt_scale=1.0, fft_scale=10.0, flag_ants=[12, 15, 20, 30], fov='1.1d', max_nbl=630.0, max_ndm=1024, nbox=8, ncin=32, ndm=2, ndout=186, npix=256, nt=256, nuvmax=8192, nuvwide=8, os='2.1', pickle_fname='pipeline.pickle', save=False, show=False, show_fdmt=False, show_image=False, target_input_rms=512, uv='uv_data', verbose=False) prev plan:None\n",
      "INFO:craft.craco_plan:Nbl=325 Fch1=799990740.740741 foff=1000000.000000 nchan=288 lambdamin=0.275991 uvmax=(6975.68510561184, 7096.86524929667)lambda max baseline=(1.9252284801041244, 1.95867314687348)km wcs=WCS Keywords\n",
      "\n",
      "Number of WCS axes: 2\n",
      "CTYPE : 'RA---SIN'  'DEC--SIN'  \n",
      "CRVAL : 204.5206215161232  -52.998028516202936  \n",
      "CRPIX : 129.0  129.0  \n",
      "PC1_1 PC1_2  : 1.0  0.0  \n",
      "PC2_1 PC2_2  : 0.0  1.0  \n",
      "CDELT : -0.00391125805092461  0.0038444726751354244  \n",
      "NAXIS : 0  0 image_params=ImageParams2d lparams=ImageParms1D fov=1.00(1.10)deg os=2.10(2.10) imgpix=14.1 arcsec synth beam=29.6 arcsec uvcell=57.2 lambda mparams=ImageParms1D fov=0.98(1.10)deg os=2.10(2.10) imgpix=13.8 arcsec synth beam=29.1 arcsec uvcell=58.2 lambda\n",
      "/home/gup037/Codes/craft/src/craft/craco_plan.py:237: UserWarning: Cannot grid things on U=0 or V=0 blid=258.0 1-2 uvpix=(1, 0)\n",
      "  warnings.warn(f'Cannot grid things on U=0 or V=0 blid={blid} {a1}-{a2} uvpix={uvpix}')\n",
      "/home/gup037/Codes/craft/src/craft/craco_plan.py:237: UserWarning: Cannot grid things on U=0 or V=0 blid=258.0 1-2 uvpix=(2, 0)\n",
      "  warnings.warn(f'Cannot grid things on U=0 or V=0 blid={blid} {a1}-{a2} uvpix={uvpix}')\n",
      "/home/gup037/Codes/craft/src/craft/craco_plan.py:237: UserWarning: Cannot grid things on U=0 or V=0 blid=515.0 2-3 uvpix=(0, 255)\n",
      "  warnings.warn(f'Cannot grid things on U=0 or V=0 blid={blid} {a1}-{a2} uvpix={uvpix}')\n",
      "/home/gup037/Codes/craft/src/craft/craco_plan.py:237: UserWarning: Cannot grid things on U=0 or V=0 blid=526.0 2-14 uvpix=(0, 19)\n",
      "  warnings.warn(f'Cannot grid things on U=0 or V=0 blid={blid} {a1}-{a2} uvpix={uvpix}')\n",
      "/home/gup037/Codes/craft/src/craft/craco_plan.py:237: UserWarning: Cannot grid things on U=0 or V=0 blid=526.0 2-14 uvpix=(0, 20)\n",
      "  warnings.warn(f'Cannot grid things on U=0 or V=0 blid={blid} {a1}-{a2} uvpix={uvpix}')\n",
      "/home/gup037/Codes/craft/src/craft/craco_plan.py:237: UserWarning: Cannot grid things on U=0 or V=0 blid=526.0 2-14 uvpix=(0, 21)\n",
      "  warnings.warn(f'Cannot grid things on U=0 or V=0 blid={blid} {a1}-{a2} uvpix={uvpix}')\n",
      "/home/gup037/Codes/craft/src/craft/craco_plan.py:237: UserWarning: Cannot grid things on U=0 or V=0 blid=526.0 2-14 uvpix=(0, 22)\n",
      "  warnings.warn(f'Cannot grid things on U=0 or V=0 blid={blid} {a1}-{a2} uvpix={uvpix}')\n",
      "/home/gup037/Codes/craft/src/craft/craco_plan.py:237: UserWarning: Cannot grid things on U=0 or V=0 blid=526.0 2-14 uvpix=(0, 23)\n",
      "  warnings.warn(f'Cannot grid things on U=0 or V=0 blid={blid} {a1}-{a2} uvpix={uvpix}')\n",
      "/home/gup037/Codes/craft/src/craft/craco_plan.py:237: UserWarning: Cannot grid things on U=0 or V=0 blid=526.0 2-14 uvpix=(0, 24)\n",
      "  warnings.warn(f'Cannot grid things on U=0 or V=0 blid={blid} {a1}-{a2} uvpix={uvpix}')\n",
      "/home/gup037/Codes/craft/src/craft/craco_plan.py:237: UserWarning: Cannot grid things on U=0 or V=0 blid=526.0 2-14 uvpix=(0, 25)\n",
      "  warnings.warn(f'Cannot grid things on U=0 or V=0 blid={blid} {a1}-{a2} uvpix={uvpix}')\n",
      "/home/gup037/Codes/craft/src/craft/craco_plan.py:237: UserWarning: Cannot grid things on U=0 or V=0 blid=773.0 3-5 uvpix=(251, 0)\n",
      "  warnings.warn(f'Cannot grid things on U=0 or V=0 blid={blid} {a1}-{a2} uvpix={uvpix}')\n",
      "/home/gup037/Codes/craft/src/craft/craco_plan.py:237: UserWarning: Cannot grid things on U=0 or V=0 blid=773.0 3-5 uvpix=(250, 0)\n",
      "  warnings.warn(f'Cannot grid things on U=0 or V=0 blid={blid} {a1}-{a2} uvpix={uvpix}')\n",
      "/home/gup037/Codes/craft/src/craft/craco_plan.py:237: UserWarning: Cannot grid things on U=0 or V=0 blid=773.0 3-5 uvpix=(249, 0)\n",
      "  warnings.warn(f'Cannot grid things on U=0 or V=0 blid={blid} {a1}-{a2} uvpix={uvpix}')\n",
      "/home/gup037/Codes/craft/src/craft/craco_plan.py:237: UserWarning: Cannot grid things on U=0 or V=0 blid=782.0 3-14 uvpix=(0, 19)\n",
      "  warnings.warn(f'Cannot grid things on U=0 or V=0 blid={blid} {a1}-{a2} uvpix={uvpix}')\n",
      "/home/gup037/Codes/craft/src/craft/craco_plan.py:237: UserWarning: Cannot grid things on U=0 or V=0 blid=782.0 3-14 uvpix=(0, 20)\n",
      "  warnings.warn(f'Cannot grid things on U=0 or V=0 blid={blid} {a1}-{a2} uvpix={uvpix}')\n",
      "/home/gup037/Codes/craft/src/craft/craco_plan.py:237: UserWarning: Cannot grid things on U=0 or V=0 blid=1032.0 4-8 uvpix=(0, 11)\n",
      "  warnings.warn(f'Cannot grid things on U=0 or V=0 blid={blid} {a1}-{a2} uvpix={uvpix}')\n",
      "/home/gup037/Codes/craft/src/craft/craco_plan.py:237: UserWarning: Cannot grid things on U=0 or V=0 blid=1032.0 4-8 uvpix=(0, 12)\n",
      "  warnings.warn(f'Cannot grid things on U=0 or V=0 blid={blid} {a1}-{a2} uvpix={uvpix}')\n",
      "/home/gup037/Codes/craft/src/craft/craco_plan.py:237: UserWarning: Cannot grid things on U=0 or V=0 blid=1032.0 4-8 uvpix=(0, 13)\n",
      "  warnings.warn(f'Cannot grid things on U=0 or V=0 blid={blid} {a1}-{a2} uvpix={uvpix}')\n",
      "/home/gup037/Codes/craft/src/craft/craco_plan.py:237: UserWarning: Cannot grid things on U=0 or V=0 blid=1032.0 4-8 uvpix=(0, 14)\n",
      "  warnings.warn(f'Cannot grid things on U=0 or V=0 blid={blid} {a1}-{a2} uvpix={uvpix}')\n",
      "/home/gup037/Codes/craft/src/craft/craco_plan.py:237: UserWarning: Cannot grid things on U=0 or V=0 blid=1032.0 4-8 uvpix=(0, 15)\n",
      "  warnings.warn(f'Cannot grid things on U=0 or V=0 blid={blid} {a1}-{a2} uvpix={uvpix}')\n",
      "/home/gup037/Codes/craft/src/craft/craco_plan.py:237: UserWarning: Cannot grid things on U=0 or V=0 blid=1564.0 6-28 uvpix=(0, 211)\n",
      "  warnings.warn(f'Cannot grid things on U=0 or V=0 blid={blid} {a1}-{a2} uvpix={uvpix}')\n",
      "/home/gup037/Codes/craft/src/craft/craco_plan.py:237: UserWarning: Cannot grid things on U=0 or V=0 blid=1564.0 6-28 uvpix=(0, 210)\n",
      "  warnings.warn(f'Cannot grid things on U=0 or V=0 blid={blid} {a1}-{a2} uvpix={uvpix}')\n",
      "/home/gup037/Codes/craft/src/craft/craco_plan.py:237: UserWarning: Cannot grid things on U=0 or V=0 blid=1564.0 6-28 uvpix=(0, 209)\n",
      "  warnings.warn(f'Cannot grid things on U=0 or V=0 blid={blid} {a1}-{a2} uvpix={uvpix}')\n",
      "/home/gup037/Codes/craft/src/craft/craco_plan.py:237: UserWarning: Cannot grid things on U=0 or V=0 blid=1564.0 6-28 uvpix=(0, 208)\n",
      "  warnings.warn(f'Cannot grid things on U=0 or V=0 blid={blid} {a1}-{a2} uvpix={uvpix}')\n",
      "/home/gup037/Codes/craft/src/craft/craco_plan.py:237: UserWarning: Cannot grid things on U=0 or V=0 blid=1564.0 6-28 uvpix=(0, 207)\n",
      "  warnings.warn(f'Cannot grid things on U=0 or V=0 blid={blid} {a1}-{a2} uvpix={uvpix}')\n",
      "/home/gup037/Codes/craft/src/craft/craco_plan.py:237: UserWarning: Cannot grid things on U=0 or V=0 blid=1564.0 6-28 uvpix=(0, 206)\n",
      "  warnings.warn(f'Cannot grid things on U=0 or V=0 blid={blid} {a1}-{a2} uvpix={uvpix}')\n",
      "/home/gup037/Codes/craft/src/craft/craco_plan.py:237: UserWarning: Cannot grid things on U=0 or V=0 blid=1564.0 6-28 uvpix=(0, 205)\n",
      "  warnings.warn(f'Cannot grid things on U=0 or V=0 blid={blid} {a1}-{a2} uvpix={uvpix}')\n",
      "/home/gup037/Codes/craft/src/craft/craco_plan.py:237: UserWarning: Cannot grid things on U=0 or V=0 blid=1564.0 6-28 uvpix=(0, 204)\n",
      "  warnings.warn(f'Cannot grid things on U=0 or V=0 blid={blid} {a1}-{a2} uvpix={uvpix}')\n",
      "/home/gup037/Codes/craft/src/craft/craco_plan.py:237: UserWarning: Cannot grid things on U=0 or V=0 blid=1564.0 6-28 uvpix=(0, 203)\n",
      "  warnings.warn(f'Cannot grid things on U=0 or V=0 blid={blid} {a1}-{a2} uvpix={uvpix}')\n",
      "/home/gup037/Codes/craft/src/craft/craco_plan.py:237: UserWarning: Cannot grid things on U=0 or V=0 blid=1564.0 6-28 uvpix=(0, 202)\n",
      "  warnings.warn(f'Cannot grid things on U=0 or V=0 blid={blid} {a1}-{a2} uvpix={uvpix}')\n",
      "/home/gup037/Codes/craft/src/craft/craco_plan.py:237: UserWarning: Cannot grid things on U=0 or V=0 blid=1564.0 6-28 uvpix=(0, 201)\n",
      "  warnings.warn(f'Cannot grid things on U=0 or V=0 blid={blid} {a1}-{a2} uvpix={uvpix}')\n",
      "/home/gup037/Codes/craft/src/craft/craco_plan.py:237: UserWarning: Cannot grid things on U=0 or V=0 blid=1564.0 6-28 uvpix=(0, 200)\n",
      "  warnings.warn(f'Cannot grid things on U=0 or V=0 blid={blid} {a1}-{a2} uvpix={uvpix}')\n",
      "/home/gup037/Codes/craft/src/craft/craco_plan.py:237: UserWarning: Cannot grid things on U=0 or V=0 blid=1564.0 6-28 uvpix=(0, 199)\n",
      "  warnings.warn(f'Cannot grid things on U=0 or V=0 blid={blid} {a1}-{a2} uvpix={uvpix}')\n",
      "/home/gup037/Codes/craft/src/craft/craco_plan.py:237: UserWarning: Cannot grid things on U=0 or V=0 blid=1564.0 6-28 uvpix=(0, 198)\n",
      "  warnings.warn(f'Cannot grid things on U=0 or V=0 blid={blid} {a1}-{a2} uvpix={uvpix}')\n",
      "/home/gup037/Codes/craft/src/craft/craco_plan.py:237: UserWarning: Cannot grid things on U=0 or V=0 blid=1564.0 6-28 uvpix=(0, 197)\n",
      "  warnings.warn(f'Cannot grid things on U=0 or V=0 blid={blid} {a1}-{a2} uvpix={uvpix}')\n",
      "/home/gup037/Codes/craft/src/craft/craco_plan.py:237: UserWarning: Cannot grid things on U=0 or V=0 blid=1564.0 6-28 uvpix=(0, 196)\n",
      "  warnings.warn(f'Cannot grid things on U=0 or V=0 blid={blid} {a1}-{a2} uvpix={uvpix}')\n",
      "/home/gup037/Codes/craft/src/craft/craco_plan.py:237: UserWarning: Cannot grid things on U=0 or V=0 blid=1564.0 6-28 uvpix=(0, 195)\n",
      "  warnings.warn(f'Cannot grid things on U=0 or V=0 blid={blid} {a1}-{a2} uvpix={uvpix}')\n",
      "/home/gup037/Codes/craft/src/craft/craco_plan.py:237: UserWarning: Cannot grid things on U=0 or V=0 blid=3357.0 13-29 uvpix=(0, 210)\n",
      "  warnings.warn(f'Cannot grid things on U=0 or V=0 blid={blid} {a1}-{a2} uvpix={uvpix}')\n"
     ]
    },
    {
     "name": "stderr",
     "output_type": "stream",
     "text": [
      "/home/gup037/Codes/craft/src/craft/craco_plan.py:237: UserWarning: Cannot grid things on U=0 or V=0 blid=3357.0 13-29 uvpix=(0, 209)\n",
      "  warnings.warn(f'Cannot grid things on U=0 or V=0 blid={blid} {a1}-{a2} uvpix={uvpix}')\n",
      "/home/gup037/Codes/craft/src/craft/craco_plan.py:237: UserWarning: Cannot grid things on U=0 or V=0 blid=3357.0 13-29 uvpix=(0, 208)\n",
      "  warnings.warn(f'Cannot grid things on U=0 or V=0 blid={blid} {a1}-{a2} uvpix={uvpix}')\n",
      "/home/gup037/Codes/craft/src/craft/craco_plan.py:237: UserWarning: Cannot grid things on U=0 or V=0 blid=3357.0 13-29 uvpix=(0, 207)\n",
      "  warnings.warn(f'Cannot grid things on U=0 or V=0 blid={blid} {a1}-{a2} uvpix={uvpix}')\n",
      "/home/gup037/Codes/craft/src/craft/craco_plan.py:237: UserWarning: Cannot grid things on U=0 or V=0 blid=3357.0 13-29 uvpix=(0, 206)\n",
      "  warnings.warn(f'Cannot grid things on U=0 or V=0 blid={blid} {a1}-{a2} uvpix={uvpix}')\n",
      "/home/gup037/Codes/craft/src/craft/craco_plan.py:237: UserWarning: Cannot grid things on U=0 or V=0 blid=3357.0 13-29 uvpix=(0, 205)\n",
      "  warnings.warn(f'Cannot grid things on U=0 or V=0 blid={blid} {a1}-{a2} uvpix={uvpix}')\n",
      "/home/gup037/Codes/craft/src/craft/craco_plan.py:237: UserWarning: Cannot grid things on U=0 or V=0 blid=3357.0 13-29 uvpix=(0, 204)\n",
      "  warnings.warn(f'Cannot grid things on U=0 or V=0 blid={blid} {a1}-{a2} uvpix={uvpix}')\n",
      "/home/gup037/Codes/craft/src/craft/craco_plan.py:237: UserWarning: Cannot grid things on U=0 or V=0 blid=3357.0 13-29 uvpix=(0, 203)\n",
      "  warnings.warn(f'Cannot grid things on U=0 or V=0 blid={blid} {a1}-{a2} uvpix={uvpix}')\n",
      "/home/gup037/Codes/craft/src/craft/craco_plan.py:237: UserWarning: Cannot grid things on U=0 or V=0 blid=3357.0 13-29 uvpix=(0, 202)\n",
      "  warnings.warn(f'Cannot grid things on U=0 or V=0 blid={blid} {a1}-{a2} uvpix={uvpix}')\n",
      "/home/gup037/Codes/craft/src/craft/craco_plan.py:237: UserWarning: Cannot grid things on U=0 or V=0 blid=3357.0 13-29 uvpix=(0, 201)\n",
      "  warnings.warn(f'Cannot grid things on U=0 or V=0 blid={blid} {a1}-{a2} uvpix={uvpix}')\n",
      "/home/gup037/Codes/craft/src/craft/craco_plan.py:237: UserWarning: Cannot grid things on U=0 or V=0 blid=3357.0 13-29 uvpix=(0, 200)\n",
      "  warnings.warn(f'Cannot grid things on U=0 or V=0 blid={blid} {a1}-{a2} uvpix={uvpix}')\n",
      "/home/gup037/Codes/craft/src/craft/craco_plan.py:237: UserWarning: Cannot grid things on U=0 or V=0 blid=3357.0 13-29 uvpix=(0, 199)\n",
      "  warnings.warn(f'Cannot grid things on U=0 or V=0 blid={blid} {a1}-{a2} uvpix={uvpix}')\n",
      "/home/gup037/Codes/craft/src/craft/craco_plan.py:237: UserWarning: Cannot grid things on U=0 or V=0 blid=3357.0 13-29 uvpix=(0, 198)\n",
      "  warnings.warn(f'Cannot grid things on U=0 or V=0 blid={blid} {a1}-{a2} uvpix={uvpix}')\n",
      "/home/gup037/Codes/craft/src/craft/craco_plan.py:237: UserWarning: Cannot grid things on U=0 or V=0 blid=3357.0 13-29 uvpix=(0, 197)\n",
      "  warnings.warn(f'Cannot grid things on U=0 or V=0 blid={blid} {a1}-{a2} uvpix={uvpix}')\n",
      "/home/gup037/Codes/craft/src/craft/craco_plan.py:237: UserWarning: Cannot grid things on U=0 or V=0 blid=4121.0 16-25 uvpix=(0, 244)\n",
      "  warnings.warn(f'Cannot grid things on U=0 or V=0 blid={blid} {a1}-{a2} uvpix={uvpix}')\n",
      "/home/gup037/Codes/craft/src/craft/craco_plan.py:237: UserWarning: Cannot grid things on U=0 or V=0 blid=4121.0 16-25 uvpix=(0, 243)\n",
      "  warnings.warn(f'Cannot grid things on U=0 or V=0 blid={blid} {a1}-{a2} uvpix={uvpix}')\n",
      "/home/gup037/Codes/craft/src/craft/craco_plan.py:237: UserWarning: Cannot grid things on U=0 or V=0 blid=4121.0 16-25 uvpix=(0, 242)\n",
      "  warnings.warn(f'Cannot grid things on U=0 or V=0 blid={blid} {a1}-{a2} uvpix={uvpix}')\n",
      "/home/gup037/Codes/craft/src/craft/craco_plan.py:237: UserWarning: Cannot grid things on U=0 or V=0 blid=4121.0 16-25 uvpix=(0, 241)\n",
      "  warnings.warn(f'Cannot grid things on U=0 or V=0 blid={blid} {a1}-{a2} uvpix={uvpix}')\n",
      "/home/gup037/Codes/craft/src/craft/craco_plan.py:237: UserWarning: Cannot grid things on U=0 or V=0 blid=4886.0 19-22 uvpix=(29, 0)\n",
      "  warnings.warn(f'Cannot grid things on U=0 or V=0 blid={blid} {a1}-{a2} uvpix={uvpix}')\n",
      "/home/gup037/Codes/craft/src/craft/craco_plan.py:237: UserWarning: Cannot grid things on U=0 or V=0 blid=4886.0 19-22 uvpix=(30, 0)\n",
      "  warnings.warn(f'Cannot grid things on U=0 or V=0 blid={blid} {a1}-{a2} uvpix={uvpix}')\n",
      "/home/gup037/Codes/craft/src/craft/craco_plan.py:237: UserWarning: Cannot grid things on U=0 or V=0 blid=4886.0 19-22 uvpix=(31, 0)\n",
      "  warnings.warn(f'Cannot grid things on U=0 or V=0 blid={blid} {a1}-{a2} uvpix={uvpix}')\n",
      "/home/gup037/Codes/craft/src/craft/craco_plan.py:237: UserWarning: Cannot grid things on U=0 or V=0 blid=4886.0 19-22 uvpix=(32, 0)\n",
      "  warnings.warn(f'Cannot grid things on U=0 or V=0 blid={blid} {a1}-{a2} uvpix={uvpix}')\n",
      "/home/gup037/Codes/craft/src/craft/craco_plan.py:237: UserWarning: Cannot grid things on U=0 or V=0 blid=4889.0 19-25 uvpix=(218, 0)\n",
      "  warnings.warn(f'Cannot grid things on U=0 or V=0 blid={blid} {a1}-{a2} uvpix={uvpix}')\n",
      "/home/gup037/Codes/craft/src/craft/craco_plan.py:237: UserWarning: Cannot grid things on U=0 or V=0 blid=4889.0 19-25 uvpix=(217, 0)\n",
      "  warnings.warn(f'Cannot grid things on U=0 or V=0 blid={blid} {a1}-{a2} uvpix={uvpix}')\n",
      "/home/gup037/Codes/craft/src/craft/craco_plan.py:237: UserWarning: Cannot grid things on U=0 or V=0 blid=4889.0 19-25 uvpix=(216, 0)\n",
      "  warnings.warn(f'Cannot grid things on U=0 or V=0 blid={blid} {a1}-{a2} uvpix={uvpix}')\n",
      "/home/gup037/Codes/craft/src/craft/craco_plan.py:237: UserWarning: Cannot grid things on U=0 or V=0 blid=4889.0 19-25 uvpix=(215, 0)\n",
      "  warnings.warn(f'Cannot grid things on U=0 or V=0 blid={blid} {a1}-{a2} uvpix={uvpix}')\n",
      "/home/gup037/Codes/craft/src/craft/craco_plan.py:237: UserWarning: Cannot grid things on U=0 or V=0 blid=4889.0 19-25 uvpix=(214, 0)\n",
      "  warnings.warn(f'Cannot grid things on U=0 or V=0 blid={blid} {a1}-{a2} uvpix={uvpix}')\n",
      "/home/gup037/Codes/craft/src/craft/craco_plan.py:237: UserWarning: Cannot grid things on U=0 or V=0 blid=4889.0 19-25 uvpix=(213, 0)\n",
      "  warnings.warn(f'Cannot grid things on U=0 or V=0 blid={blid} {a1}-{a2} uvpix={uvpix}')\n",
      "/home/gup037/Codes/craft/src/craft/craco_plan.py:237: UserWarning: Cannot grid things on U=0 or V=0 blid=4889.0 19-25 uvpix=(212, 0)\n",
      "  warnings.warn(f'Cannot grid things on U=0 or V=0 blid={blid} {a1}-{a2} uvpix={uvpix}')\n",
      "/home/gup037/Codes/craft/src/craft/craco_plan.py:237: UserWarning: Cannot grid things on U=0 or V=0 blid=4889.0 19-25 uvpix=(211, 0)\n",
      "  warnings.warn(f'Cannot grid things on U=0 or V=0 blid={blid} {a1}-{a2} uvpix={uvpix}')\n",
      "/home/gup037/Codes/craft/src/craft/craco_plan.py:237: UserWarning: Cannot grid things on U=0 or V=0 blid=4889.0 19-25 uvpix=(210, 0)\n",
      "  warnings.warn(f'Cannot grid things on U=0 or V=0 blid={blid} {a1}-{a2} uvpix={uvpix}')\n",
      "/home/gup037/Codes/craft/src/craft/craco_plan.py:237: UserWarning: Cannot grid things on U=0 or V=0 blid=4889.0 19-25 uvpix=(209, 0)\n",
      "  warnings.warn(f'Cannot grid things on U=0 or V=0 blid={blid} {a1}-{a2} uvpix={uvpix}')\n",
      "/home/gup037/Codes/craft/src/craft/craco_plan.py:237: UserWarning: Cannot grid things on U=0 or V=0 blid=4889.0 19-25 uvpix=(208, 0)\n",
      "  warnings.warn(f'Cannot grid things on U=0 or V=0 blid={blid} {a1}-{a2} uvpix={uvpix}')\n",
      "/home/gup037/Codes/craft/src/craft/craco_plan.py:237: UserWarning: Cannot grid things on U=0 or V=0 blid=4889.0 19-25 uvpix=(207, 0)\n",
      "  warnings.warn(f'Cannot grid things on U=0 or V=0 blid={blid} {a1}-{a2} uvpix={uvpix}')\n",
      "/home/gup037/Codes/craft/src/craft/craco_plan.py:237: UserWarning: Cannot grid things on U=0 or V=0 blid=4889.0 19-25 uvpix=(206, 0)\n",
      "  warnings.warn(f'Cannot grid things on U=0 or V=0 blid={blid} {a1}-{a2} uvpix={uvpix}')\n",
      "/home/gup037/Codes/craft/src/craft/craco_plan.py:237: UserWarning: Cannot grid things on U=0 or V=0 blid=4889.0 19-25 uvpix=(205, 0)\n",
      "  warnings.warn(f'Cannot grid things on U=0 or V=0 blid={blid} {a1}-{a2} uvpix={uvpix}')\n",
      "/home/gup037/Codes/craft/src/craft/craco_plan.py:237: UserWarning: Cannot grid things on U=0 or V=0 blid=4889.0 19-25 uvpix=(204, 0)\n",
      "  warnings.warn(f'Cannot grid things on U=0 or V=0 blid={blid} {a1}-{a2} uvpix={uvpix}')\n",
      "/home/gup037/Codes/craft/src/craft/craco_plan.py:237: UserWarning: Cannot grid things on U=0 or V=0 blid=5657.0 22-25 uvpix=(188, 0)\n",
      "  warnings.warn(f'Cannot grid things on U=0 or V=0 blid={blid} {a1}-{a2} uvpix={uvpix}')\n"
     ]
    },
    {
     "name": "stderr",
     "output_type": "stream",
     "text": [
      "/home/gup037/Codes/craft/src/craft/craco_plan.py:237: UserWarning: Cannot grid things on U=0 or V=0 blid=5657.0 22-25 uvpix=(187, 0)\n",
      "  warnings.warn(f'Cannot grid things on U=0 or V=0 blid={blid} {a1}-{a2} uvpix={uvpix}')\n",
      "/home/gup037/Codes/craft/src/craft/craco_plan.py:237: UserWarning: Cannot grid things on U=0 or V=0 blid=5657.0 22-25 uvpix=(186, 0)\n",
      "  warnings.warn(f'Cannot grid things on U=0 or V=0 blid={blid} {a1}-{a2} uvpix={uvpix}')\n",
      "/home/gup037/Codes/craft/src/craft/craco_plan.py:237: UserWarning: Cannot grid things on U=0 or V=0 blid=5657.0 22-25 uvpix=(185, 0)\n",
      "  warnings.warn(f'Cannot grid things on U=0 or V=0 blid={blid} {a1}-{a2} uvpix={uvpix}')\n",
      "/home/gup037/Codes/craft/src/craft/craco_plan.py:237: UserWarning: Cannot grid things on U=0 or V=0 blid=5657.0 22-25 uvpix=(184, 0)\n",
      "  warnings.warn(f'Cannot grid things on U=0 or V=0 blid={blid} {a1}-{a2} uvpix={uvpix}')\n",
      "/home/gup037/Codes/craft/src/craft/craco_plan.py:237: UserWarning: Cannot grid things on U=0 or V=0 blid=5657.0 22-25 uvpix=(183, 0)\n",
      "  warnings.warn(f'Cannot grid things on U=0 or V=0 blid={blid} {a1}-{a2} uvpix={uvpix}')\n",
      "/home/gup037/Codes/craft/src/craft/craco_plan.py:237: UserWarning: Cannot grid things on U=0 or V=0 blid=5657.0 22-25 uvpix=(182, 0)\n",
      "  warnings.warn(f'Cannot grid things on U=0 or V=0 blid={blid} {a1}-{a2} uvpix={uvpix}')\n",
      "/home/gup037/Codes/craft/src/craft/craco_plan.py:237: UserWarning: Cannot grid things on U=0 or V=0 blid=5657.0 22-25 uvpix=(181, 0)\n",
      "  warnings.warn(f'Cannot grid things on U=0 or V=0 blid={blid} {a1}-{a2} uvpix={uvpix}')\n",
      "/home/gup037/Codes/craft/src/craft/craco_plan.py:237: UserWarning: Cannot grid things on U=0 or V=0 blid=5657.0 22-25 uvpix=(180, 0)\n",
      "  warnings.warn(f'Cannot grid things on U=0 or V=0 blid={blid} {a1}-{a2} uvpix={uvpix}')\n",
      "/home/gup037/Codes/craft/src/craft/craco_plan.py:237: UserWarning: Cannot grid things on U=0 or V=0 blid=5657.0 22-25 uvpix=(179, 0)\n",
      "  warnings.warn(f'Cannot grid things on U=0 or V=0 blid={blid} {a1}-{a2} uvpix={uvpix}')\n",
      "/home/gup037/Codes/craft/src/craft/craco_plan.py:237: UserWarning: Cannot grid things on U=0 or V=0 blid=5657.0 22-25 uvpix=(178, 0)\n",
      "  warnings.warn(f'Cannot grid things on U=0 or V=0 blid={blid} {a1}-{a2} uvpix={uvpix}')\n",
      "/home/gup037/Codes/craft/src/craft/craco_plan.py:237: UserWarning: Cannot grid things on U=0 or V=0 blid=5657.0 22-25 uvpix=(177, 0)\n",
      "  warnings.warn(f'Cannot grid things on U=0 or V=0 blid={blid} {a1}-{a2} uvpix={uvpix}')\n",
      "/home/gup037/Codes/craft/src/craft/craco_plan.py:237: UserWarning: Cannot grid things on U=0 or V=0 blid=5657.0 22-25 uvpix=(176, 0)\n",
      "  warnings.warn(f'Cannot grid things on U=0 or V=0 blid={blid} {a1}-{a2} uvpix={uvpix}')\n",
      "/home/gup037/Codes/craft/src/craft/craco_plan.py:237: UserWarning: Cannot grid things on U=0 or V=0 blid=5657.0 22-25 uvpix=(175, 0)\n",
      "  warnings.warn(f'Cannot grid things on U=0 or V=0 blid={blid} {a1}-{a2} uvpix={uvpix}')\n",
      "/home/gup037/Codes/craft/src/craft/craco_plan.py:237: UserWarning: Cannot grid things on U=0 or V=0 blid=5657.0 22-25 uvpix=(174, 0)\n",
      "  warnings.warn(f'Cannot grid things on U=0 or V=0 blid={blid} {a1}-{a2} uvpix={uvpix}')\n",
      "/home/gup037/Codes/craft/src/craft/craco_plan.py:237: UserWarning: Cannot grid things on U=0 or V=0 blid=5657.0 22-25 uvpix=(173, 0)\n",
      "  warnings.warn(f'Cannot grid things on U=0 or V=0 blid={blid} {a1}-{a2} uvpix={uvpix}')\n",
      "/home/gup037/Codes/craft/src/craft/craco_plan.py:237: UserWarning: Cannot grid things on U=0 or V=0 blid=5657.0 22-25 uvpix=(172, 0)\n",
      "  warnings.warn(f'Cannot grid things on U=0 or V=0 blid={blid} {a1}-{a2} uvpix={uvpix}')\n",
      "/home/gup037/Codes/craft/src/craft/craco_plan.py:237: UserWarning: Cannot grid things on U=0 or V=0 blid=5657.0 22-25 uvpix=(171, 0)\n",
      "  warnings.warn(f'Cannot grid things on U=0 or V=0 blid={blid} {a1}-{a2} uvpix={uvpix}')\n",
      "/home/gup037/Codes/craft/src/craft/craco_plan.py:237: UserWarning: Cannot grid things on U=0 or V=0 blid=5657.0 22-25 uvpix=(170, 0)\n",
      "  warnings.warn(f'Cannot grid things on U=0 or V=0 blid={blid} {a1}-{a2} uvpix={uvpix}')\n",
      "/home/gup037/Codes/craft/src/craft/craco_plan.py:237: UserWarning: Cannot grid things on U=0 or V=0 blid=5657.0 22-25 uvpix=(169, 0)\n",
      "  warnings.warn(f'Cannot grid things on U=0 or V=0 blid={blid} {a1}-{a2} uvpix={uvpix}')\n",
      "/home/gup037/Codes/craft/src/craft/craco_plan.py:237: UserWarning: Cannot grid things on U=0 or V=0 blid=5657.0 22-25 uvpix=(168, 0)\n",
      "  warnings.warn(f'Cannot grid things on U=0 or V=0 blid={blid} {a1}-{a2} uvpix={uvpix}')\n",
      "/home/gup037/Codes/craft/src/craft/craco_plan.py:237: UserWarning: Cannot grid things on U=0 or V=0 blid=5657.0 22-25 uvpix=(167, 0)\n",
      "  warnings.warn(f'Cannot grid things on U=0 or V=0 blid={blid} {a1}-{a2} uvpix={uvpix}')\n",
      "/home/gup037/Codes/craft/src/craft/craco_plan.py:237: UserWarning: Cannot grid things on U=0 or V=0 blid=5657.0 22-25 uvpix=(166, 0)\n",
      "  warnings.warn(f'Cannot grid things on U=0 or V=0 blid={blid} {a1}-{a2} uvpix={uvpix}')\n",
      "/home/gup037/Codes/craft/src/craft/craco_plan.py:237: UserWarning: Cannot grid things on U=0 or V=0 blid=5657.0 22-25 uvpix=(165, 0)\n",
      "  warnings.warn(f'Cannot grid things on U=0 or V=0 blid={blid} {a1}-{a2} uvpix={uvpix}')\n",
      "/home/gup037/Codes/craft/src/craft/craco_plan.py:237: UserWarning: Cannot grid things on U=0 or V=0 blid=5657.0 22-25 uvpix=(164, 0)\n",
      "  warnings.warn(f'Cannot grid things on U=0 or V=0 blid={blid} {a1}-{a2} uvpix={uvpix}')\n",
      "INFO:craft.craco_plan:Got Ncells=5194 uvcells\n",
      "INFO:craco.calibration:Removing cross pols from solution SB057841/cal/00/b00.aver.4pol.smooth.npy\n",
      "INFO:craco.calibration:loaded CALIBRATION bandpass solutions from SB057841/cal/00/b00.aver.4pol.smooth.npy\n",
      "INFO:craco.calibration:Loaded calibration gains (36, 288, 2) from calfile SB057841/cal/00/b00.aver.4pol.smooth.npy\n",
      "INFO:craco.calibration:Calibration file: fch1=799990740.7407407, foff=1000000.0 nchan=288 plan: fch1=799990740.7407407 foff=1000000.0 nchan=288 chan_bw_ratio=1 gains.shape=(36, 288, 2) masktype=<class 'numpy.ndarray'>\n",
      "INFO:craco.calibration:Loaded calibration with 93600/93600 valid input cells=0.0% flagged. S/N increase is 305.9411708155671\n"
     ]
    }
   ],
   "source": [
    "f, values, plan, calsoln, sp_values, fp = read_and_make_plans_etc()"
   ]
  },
  {
   "cell_type": "code",
   "execution_count": 115,
   "id": "5c5b9dec",
   "metadata": {},
   "outputs": [],
   "source": [
    "d, _ = next(f.fast_time_blocks(nt=256))\n",
    "bl_weights = np.ones(d.shape[0], dtype=np.bool)\n",
    "input_tf_weights = np.ones(d.shape[1:], dtype=np.bool)"
   ]
  },
  {
   "cell_type": "code",
   "execution_count": 116,
   "id": "62f223a9",
   "metadata": {},
   "outputs": [],
   "source": [
    "fp(d.squeeze(), bl_weights, input_tf_weights)"
   ]
  },
  {
   "cell_type": "code",
   "execution_count": 109,
   "id": "e91ae1c8",
   "metadata": {},
   "outputs": [
    {
     "name": "stdout",
     "output_type": "stream",
     "text": [
      "892 ms ± 15.2 ms per loop (mean ± std. dev. of 7 runs, 1 loop each)\n"
     ]
    }
   ],
   "source": [
    "%timeit fp(d.squeeze())"
   ]
  },
  {
   "cell_type": "code",
   "execution_count": 111,
   "id": "f4563948",
   "metadata": {},
   "outputs": [],
   "source": [
    "ds = d.squeeze()"
   ]
  },
  {
   "cell_type": "code",
   "execution_count": 117,
   "id": "5bd36172",
   "metadata": {},
   "outputs": [
    {
     "data": {
      "text/plain": [
       "array([ True,  True,  True,  True,  True,  True,  True,  True,  True,\n",
       "        True,  True,  True,  True,  True,  True,  True,  True,  True,\n",
       "        True,  True,  True,  True,  True,  True,  True,  True,  True,\n",
       "        True,  True,  True,  True,  True,  True,  True,  True,  True,\n",
       "        True,  True,  True,  True,  True,  True,  True,  True,  True,\n",
       "        True,  True,  True,  True,  True,  True,  True,  True,  True,\n",
       "        True,  True,  True,  True,  True,  True,  True,  True,  True,\n",
       "        True,  True,  True,  True,  True,  True,  True,  True,  True,\n",
       "        True,  True,  True,  True,  True,  True,  True,  True,  True,\n",
       "        True,  True,  True,  True,  True,  True,  True,  True,  True,\n",
       "        True,  True,  True,  True,  True,  True,  True,  True,  True,\n",
       "        True,  True,  True,  True,  True,  True,  True,  True,  True,\n",
       "        True,  True,  True,  True,  True,  True,  True,  True,  True,\n",
       "        True,  True,  True,  True,  True,  True,  True,  True,  True,\n",
       "        True,  True,  True,  True,  True,  True,  True,  True,  True,\n",
       "        True,  True,  True,  True,  True,  True,  True,  True,  True,\n",
       "        True,  True,  True,  True,  True,  True,  True,  True,  True,\n",
       "        True,  True,  True,  True,  True,  True,  True,  True,  True,\n",
       "        True,  True,  True,  True,  True,  True,  True,  True,  True,\n",
       "        True,  True,  True,  True,  True,  True,  True,  True,  True,\n",
       "        True,  True,  True,  True,  True,  True,  True,  True,  True,\n",
       "        True,  True,  True,  True,  True,  True,  True,  True,  True,\n",
       "        True,  True,  True,  True,  True,  True,  True,  True,  True,\n",
       "        True,  True,  True,  True,  True,  True,  True,  True,  True,\n",
       "        True,  True,  True,  True,  True,  True,  True,  True,  True,\n",
       "        True,  True,  True,  True,  True,  True,  True,  True,  True,\n",
       "        True,  True,  True,  True,  True,  True,  True,  True,  True,\n",
       "        True,  True,  True,  True,  True,  True,  True,  True,  True,\n",
       "        True,  True,  True,  True,  True,  True,  True,  True,  True,\n",
       "        True,  True,  True,  True,  True,  True,  True,  True,  True,\n",
       "        True,  True,  True,  True,  True,  True,  True,  True,  True,\n",
       "        True,  True,  True,  True,  True,  True,  True,  True,  True,\n",
       "        True,  True,  True,  True,  True,  True,  True,  True,  True,\n",
       "        True,  True,  True,  True,  True,  True,  True,  True,  True,\n",
       "        True,  True,  True,  True,  True,  True,  True,  True,  True,\n",
       "        True,  True,  True,  True,  True,  True,  True,  True,  True,\n",
       "        True])"
      ]
     },
     "execution_count": 117,
     "metadata": {},
     "output_type": "execute_result"
    }
   ],
   "source": [
    "bl_weights"
   ]
  },
  {
   "cell_type": "code",
   "execution_count": 118,
   "id": "3f68df03",
   "metadata": {},
   "outputs": [
    {
     "data": {
      "text/plain": [
       "True"
      ]
     },
     "execution_count": 118,
     "metadata": {},
     "output_type": "execute_result"
    }
   ],
   "source": [
    "np.all(input_tf_weights == ~ds.sum(axis=0).mask)"
   ]
  },
  {
   "cell_type": "code",
   "execution_count": 121,
   "id": "81b3492b",
   "metadata": {},
   "outputs": [
    {
     "data": {
      "text/plain": [
       "(True, True)"
      ]
     },
     "execution_count": 121,
     "metadata": {},
     "output_type": "execute_result"
    }
   ],
   "source": [
    "np.all(input_tf_weights), np.all(~ds.mask)"
   ]
  },
  {
   "cell_type": "code",
   "execution_count": 112,
   "id": "80fadebb",
   "metadata": {},
   "outputs": [
    {
     "data": {
      "text/plain": [
       "array([-0.54436445-0.557336j], dtype=complex64)"
      ]
     },
     "execution_count": 112,
     "metadata": {},
     "output_type": "execute_result"
    }
   ],
   "source": [
    "fp.Ai"
   ]
  },
  {
   "cell_type": "code",
   "execution_count": 113,
   "id": "a70be33b",
   "metadata": {},
   "outputs": [
    {
     "data": {
      "text/plain": [
       "(-1.9323170405982906-0.19930712055956196j)"
      ]
     },
     "execution_count": 113,
     "metadata": {},
     "output_type": "execute_result"
    }
   ],
   "source": [
    "ds.mean()"
   ]
  },
  {
   "cell_type": "code",
   "execution_count": 114,
   "id": "0a7280f9",
   "metadata": {},
   "outputs": [
    {
     "data": {
      "text/plain": [
       "array([1., 1., 1., 1., 1., 1., 1., 1., 1., 1., 1., 1., 1., 1., 1., 1., 1.,\n",
       "       1., 1., 1., 1., 1., 1., 1., 1., 1., 1., 1., 1., 1., 1., 1., 1., 1.,\n",
       "       1., 1., 1., 1., 1., 1., 1., 1., 1., 1., 1., 1., 1., 1., 1., 1., 1.,\n",
       "       1., 1., 1., 1., 1., 1., 1., 1., 1., 1., 1., 1., 1., 1., 1., 1., 1.,\n",
       "       1., 1., 1., 1., 1., 1., 1., 1., 1., 1., 1., 1., 1., 1., 1., 1., 1.,\n",
       "       1., 1., 1., 1., 1., 1., 1., 1., 1., 1., 1., 1., 1., 1., 1., 1., 1.,\n",
       "       1., 1., 1., 1., 1., 1., 1., 1., 1., 1., 1., 1., 1., 1., 1., 1., 1.,\n",
       "       1., 1., 1., 1., 1., 1., 1., 1., 1., 1., 1., 1., 1., 1., 1., 1., 1.,\n",
       "       1., 1., 1., 1., 1., 1., 1., 1., 1., 1., 1., 1., 1., 1., 1., 1., 1.,\n",
       "       1., 1., 1., 1., 1., 1., 1., 1., 1., 1., 1., 1., 1., 1., 1., 1., 1.,\n",
       "       1., 1., 1., 1., 1., 1., 1., 1., 1., 1., 1., 1., 1., 1., 1., 1., 1.,\n",
       "       1., 1., 1., 1., 1., 1., 1., 1., 1., 1., 1., 1., 1., 1., 1., 1., 1.,\n",
       "       1., 1., 1., 1., 1., 1., 1., 1., 1., 1., 1., 1., 1., 1., 1., 1., 1.,\n",
       "       1., 1., 1., 1., 1., 1., 1., 1., 1., 1., 1., 1., 1., 1., 1., 1., 1.,\n",
       "       1., 1., 1., 1., 1., 1., 1., 1., 1., 1., 1., 1., 1., 1., 1., 1., 1.,\n",
       "       1., 1., 1., 1., 1., 1., 1., 1., 1., 1., 1., 1., 1., 1., 1., 1., 1.,\n",
       "       1., 1., 1., 1., 1., 1., 1., 1., 1., 1., 1., 1., 1., 1., 1., 1.])"
      ]
     },
     "execution_count": 114,
     "metadata": {},
     "output_type": "execute_result"
    }
   ],
   "source": [
    "fp.fixed_freq_weights"
   ]
  },
  {
   "cell_type": "code",
   "execution_count": null,
   "id": "2b37617d",
   "metadata": {},
   "outputs": [],
   "source": []
  },
  {
   "cell_type": "code",
   "execution_count": null,
   "id": "00697e44",
   "metadata": {},
   "outputs": [],
   "source": []
  },
  {
   "cell_type": "code",
   "execution_count": null,
   "id": "4d814bf2",
   "metadata": {},
   "outputs": [],
   "source": []
  },
  {
   "cell_type": "code",
   "execution_count": null,
   "id": "b955c8c7",
   "metadata": {},
   "outputs": [],
   "source": []
  },
  {
   "cell_type": "code",
   "execution_count": null,
   "id": "bdd2acdf",
   "metadata": {},
   "outputs": [],
   "source": []
  },
  {
   "cell_type": "code",
   "execution_count": 58,
   "id": "19eb5b73",
   "metadata": {},
   "outputs": [],
   "source": [
    "from numba import njit\n",
    "@njit\n",
    "def test_numba_complx_to_real(ta, tN, tx, tavg):\n",
    "    \n",
    "    ta[0] += (tN[0] - 1)/tN[0] * (tx.real - tavg[0].real)**2\n",
    "    ta[1] += (tN[0] - 1)/tN[0] * (tx.imag - tavg[0].imag)**2"
   ]
  },
  {
   "cell_type": "code",
   "execution_count": 59,
   "id": "7b3011fb",
   "metadata": {
    "scrolled": true
   },
   "outputs": [],
   "source": [
    "ta = np.zeros(2, dtype=np.float32)\n",
    "tN = np.array([2])\n",
    "tx = 2 + 3j\n",
    "tavg = np.array([0.1-0.03j], dtype=np.complex64)\n",
    "test_numba_complx_to_real(ta, tN, tx, tavg)\n",
    "#test_numba_complx_to_real2(ta, tN, tx, tavg)"
   ]
  },
  {
   "cell_type": "code",
   "execution_count": 36,
   "id": "7ae7c9dd",
   "metadata": {},
   "outputs": [
    {
     "data": {
      "text/plain": [
       "array([1.805  , 4.59045], dtype=float32)"
      ]
     },
     "execution_count": 36,
     "metadata": {},
     "output_type": "execute_result"
    }
   ],
   "source": [
    "ta"
   ]
  },
  {
   "cell_type": "code",
   "execution_count": 27,
   "id": "288a4b4d",
   "metadata": {},
   "outputs": [
    {
     "data": {
      "text/plain": [
       "(325, 288, 256)"
      ]
     },
     "execution_count": 27,
     "metadata": {},
     "output_type": "execute_result"
    }
   ],
   "source": [
    "d.squeeze().shape"
   ]
  },
  {
   "cell_type": "code",
   "execution_count": 67,
   "id": "71aec672",
   "metadata": {},
   "outputs": [],
   "source": [
    "from numba import njit\n",
    "@njit\n",
    "def add_samps(d, od, Qi, Ai, N, cal):\n",
    "    for ibl in range(325):\n",
    "        for i_f in range(288):\n",
    "            for i_t in range(256):\n",
    "                isamp = d[ibl, i_f, i_t]\n",
    "                Qi[0] += (N[0] - 1)/N[0] * (isamp.real - Ai[0].real)**2\n",
    "                Qi[1] += (N[0] - 1)/N[0] * (isamp.imag - Ai[0].imag)**2\n",
    "                Ai[0] += (isamp - Ai[0]) / N[0]\n",
    "                N[0] += 1\n",
    "                od[ibl, i_f, i_t] = isamp * cal\n",
    "                #od[0] += d[ibl, i_f, i_t].real\n",
    "                #od[1] += d[ibl, i_f, i_t].imag"
   ]
  },
  {
   "cell_type": "code",
   "execution_count": 68,
   "id": "99488e96",
   "metadata": {},
   "outputs": [],
   "source": [
    "od = np.zeros(d.squeeze().shape, np.complex64)\n",
    "Ai = np.zeros(1, dtype=np.complex64)\n",
    "Qi = np.zeros(2, dtype=np.float32)\n",
    "N = np.ones(1, dtype=np.int32)\n",
    "cal = 0.2 + 0.j\n",
    "add_samps(d.squeeze(), od, Qi, Ai, N, cal)"
   ]
  },
  {
   "cell_type": "code",
   "execution_count": 69,
   "id": "8ee6b61f",
   "metadata": {},
   "outputs": [
    {
     "name": "stdout",
     "output_type": "stream",
     "text": [
      "594 ms ± 6.07 ms per loop (mean ± std. dev. of 7 runs, 1 loop each)\n"
     ]
    }
   ],
   "source": [
    "%timeit add_samps(d.squeeze(), od, Qi, Ai, N, cal)"
   ]
  },
  {
   "cell_type": "code",
   "execution_count": null,
   "id": "e7e88927",
   "metadata": {},
   "outputs": [],
   "source": []
  },
  {
   "cell_type": "code",
   "execution_count": null,
   "id": "d0cef52d",
   "metadata": {},
   "outputs": [],
   "source": []
  },
  {
   "cell_type": "code",
   "execution_count": null,
   "id": "7da755ff",
   "metadata": {},
   "outputs": [],
   "source": []
  },
  {
   "cell_type": "code",
   "execution_count": null,
   "id": "b4b1faec",
   "metadata": {},
   "outputs": [],
   "source": []
  },
  {
   "cell_type": "code",
   "execution_count": 81,
   "id": "84cce5f4",
   "metadata": {},
   "outputs": [],
   "source": [
    "old_block0 = np.load(\"/data/craco/gup037/DATA/SB057841/DATA/DATA_01/craco/SB057841/scans/00/20240121205332/results_test_realtime_preprocess/old_version/input_iblk1.npy\", allow_pickle=True)\n",
    "new_block0 = np.load(\"/data/craco/gup037/DATA/SB057841/DATA/DATA_01/craco/SB057841/scans/00/20240121205332/results_test_realtime_preprocess/input_iblk1.npy\", allow_pickle=True)\n"
   ]
  },
  {
   "cell_type": "code",
   "execution_count": 82,
   "id": "9a65a221",
   "metadata": {},
   "outputs": [
    {
     "data": {
      "text/plain": [
       "(210, 288, 256)"
      ]
     },
     "execution_count": 82,
     "metadata": {},
     "output_type": "execute_result"
    }
   ],
   "source": [
    "old_block0.shape"
   ]
  },
  {
   "cell_type": "code",
   "execution_count": 83,
   "id": "e9c65349",
   "metadata": {},
   "outputs": [
    {
     "data": {
      "text/plain": [
       "(210, 288, 256)"
      ]
     },
     "execution_count": 83,
     "metadata": {},
     "output_type": "execute_result"
    }
   ],
   "source": [
    "new_block0.shape"
   ]
  },
  {
   "cell_type": "code",
   "execution_count": 84,
   "id": "71a9988d",
   "metadata": {},
   "outputs": [
    {
     "data": {
      "text/plain": [
       "(-0.6204285217241434-0.0006103143127546463j)"
      ]
     },
     "execution_count": 84,
     "metadata": {},
     "output_type": "execute_result"
    }
   ],
   "source": [
    "((new_block0 - old_block0)/old_block0).ravel().mean()*100"
   ]
  },
  {
   "cell_type": "code",
   "execution_count": 177,
   "id": "a96fcc18",
   "metadata": {},
   "outputs": [
    {
     "name": "stdout",
     "output_type": "stream",
     "text": [
      "0\n",
      "1\n",
      "2\n",
      "3\n",
      "4\n"
     ]
    }
   ],
   "source": [
    "ans = []\n",
    "for iblk in range(5):\n",
    "    old_block = np.load(f\"/data/craco/gup037/DATA/SB057841/DATA/DATA_01/craco/SB057841/scans/00/20240121205332/results_test_realtime_preprocess/old_version/input_iblk{iblk}.npy\", allow_pickle=True)\n",
    "    new_block = np.load(f\"/data/craco/gup037/DATA/SB057841/DATA/DATA_01/craco/SB057841/scans/00/20240121205332/results_test_realtime_preprocess/input_iblk{iblk}.npy\", allow_pickle=True)\n",
    "\n",
    "    old_block.fill_value = 0\n",
    "    mask = ~old_block.mask\n",
    "    old_block = old_block.filled()\n",
    "    diff = (old_block[mask] - new_block[mask]).ravel()\n",
    "    perc_diff = diff /(old_block[mask]).ravel() * 100\n",
    "    ans.append(perc_diff.mean())\n",
    "    print(iblk)"
   ]
  },
  {
   "cell_type": "code",
   "execution_count": 178,
   "id": "69e36278",
   "metadata": {},
   "outputs": [],
   "source": [
    "ans = np.array(ans)"
   ]
  },
  {
   "cell_type": "code",
   "execution_count": 179,
   "id": "c6c5e386",
   "metadata": {},
   "outputs": [
    {
     "data": {
      "text/plain": [
       "((1185.419636977798+103.65663884452785j), (1347.6421+95.13318j))"
      ]
     },
     "execution_count": 179,
     "metadata": {},
     "output_type": "execute_result"
    }
   ],
   "source": [
    "old_block[10][20][30], new_block[10][20][30]"
   ]
  },
  {
   "cell_type": "code",
   "execution_count": 180,
   "id": "bc0435e2",
   "metadata": {},
   "outputs": [
    {
     "data": {
      "application/javascript": [
       "/* Put everything inside the global mpl namespace */\n",
       "/* global mpl */\n",
       "window.mpl = {};\n",
       "\n",
       "mpl.get_websocket_type = function () {\n",
       "    if (typeof WebSocket !== 'undefined') {\n",
       "        return WebSocket;\n",
       "    } else if (typeof MozWebSocket !== 'undefined') {\n",
       "        return MozWebSocket;\n",
       "    } else {\n",
       "        alert(\n",
       "            'Your browser does not have WebSocket support. ' +\n",
       "                'Please try Chrome, Safari or Firefox ≥ 6. ' +\n",
       "                'Firefox 4 and 5 are also supported but you ' +\n",
       "                'have to enable WebSockets in about:config.'\n",
       "        );\n",
       "    }\n",
       "};\n",
       "\n",
       "mpl.figure = function (figure_id, websocket, ondownload, parent_element) {\n",
       "    this.id = figure_id;\n",
       "\n",
       "    this.ws = websocket;\n",
       "\n",
       "    this.supports_binary = this.ws.binaryType !== undefined;\n",
       "\n",
       "    if (!this.supports_binary) {\n",
       "        var warnings = document.getElementById('mpl-warnings');\n",
       "        if (warnings) {\n",
       "            warnings.style.display = 'block';\n",
       "            warnings.textContent =\n",
       "                'This browser does not support binary websocket messages. ' +\n",
       "                'Performance may be slow.';\n",
       "        }\n",
       "    }\n",
       "\n",
       "    this.imageObj = new Image();\n",
       "\n",
       "    this.context = undefined;\n",
       "    this.message = undefined;\n",
       "    this.canvas = undefined;\n",
       "    this.rubberband_canvas = undefined;\n",
       "    this.rubberband_context = undefined;\n",
       "    this.format_dropdown = undefined;\n",
       "\n",
       "    this.image_mode = 'full';\n",
       "\n",
       "    this.root = document.createElement('div');\n",
       "    this.root.setAttribute('style', 'display: inline-block');\n",
       "    this._root_extra_style(this.root);\n",
       "\n",
       "    parent_element.appendChild(this.root);\n",
       "\n",
       "    this._init_header(this);\n",
       "    this._init_canvas(this);\n",
       "    this._init_toolbar(this);\n",
       "\n",
       "    var fig = this;\n",
       "\n",
       "    this.waiting = false;\n",
       "\n",
       "    this.ws.onopen = function () {\n",
       "        fig.send_message('supports_binary', { value: fig.supports_binary });\n",
       "        fig.send_message('send_image_mode', {});\n",
       "        if (fig.ratio !== 1) {\n",
       "            fig.send_message('set_dpi_ratio', { dpi_ratio: fig.ratio });\n",
       "        }\n",
       "        fig.send_message('refresh', {});\n",
       "    };\n",
       "\n",
       "    this.imageObj.onload = function () {\n",
       "        if (fig.image_mode === 'full') {\n",
       "            // Full images could contain transparency (where diff images\n",
       "            // almost always do), so we need to clear the canvas so that\n",
       "            // there is no ghosting.\n",
       "            fig.context.clearRect(0, 0, fig.canvas.width, fig.canvas.height);\n",
       "        }\n",
       "        fig.context.drawImage(fig.imageObj, 0, 0);\n",
       "    };\n",
       "\n",
       "    this.imageObj.onunload = function () {\n",
       "        fig.ws.close();\n",
       "    };\n",
       "\n",
       "    this.ws.onmessage = this._make_on_message_function(this);\n",
       "\n",
       "    this.ondownload = ondownload;\n",
       "};\n",
       "\n",
       "mpl.figure.prototype._init_header = function () {\n",
       "    var titlebar = document.createElement('div');\n",
       "    titlebar.classList =\n",
       "        'ui-dialog-titlebar ui-widget-header ui-corner-all ui-helper-clearfix';\n",
       "    var titletext = document.createElement('div');\n",
       "    titletext.classList = 'ui-dialog-title';\n",
       "    titletext.setAttribute(\n",
       "        'style',\n",
       "        'width: 100%; text-align: center; padding: 3px;'\n",
       "    );\n",
       "    titlebar.appendChild(titletext);\n",
       "    this.root.appendChild(titlebar);\n",
       "    this.header = titletext;\n",
       "};\n",
       "\n",
       "mpl.figure.prototype._canvas_extra_style = function (_canvas_div) {};\n",
       "\n",
       "mpl.figure.prototype._root_extra_style = function (_canvas_div) {};\n",
       "\n",
       "mpl.figure.prototype._init_canvas = function () {\n",
       "    var fig = this;\n",
       "\n",
       "    var canvas_div = (this.canvas_div = document.createElement('div'));\n",
       "    canvas_div.setAttribute(\n",
       "        'style',\n",
       "        'border: 1px solid #ddd;' +\n",
       "            'box-sizing: content-box;' +\n",
       "            'clear: both;' +\n",
       "            'min-height: 1px;' +\n",
       "            'min-width: 1px;' +\n",
       "            'outline: 0;' +\n",
       "            'overflow: hidden;' +\n",
       "            'position: relative;' +\n",
       "            'resize: both;'\n",
       "    );\n",
       "\n",
       "    function on_keyboard_event_closure(name) {\n",
       "        return function (event) {\n",
       "            return fig.key_event(event, name);\n",
       "        };\n",
       "    }\n",
       "\n",
       "    canvas_div.addEventListener(\n",
       "        'keydown',\n",
       "        on_keyboard_event_closure('key_press')\n",
       "    );\n",
       "    canvas_div.addEventListener(\n",
       "        'keyup',\n",
       "        on_keyboard_event_closure('key_release')\n",
       "    );\n",
       "\n",
       "    this._canvas_extra_style(canvas_div);\n",
       "    this.root.appendChild(canvas_div);\n",
       "\n",
       "    var canvas = (this.canvas = document.createElement('canvas'));\n",
       "    canvas.classList.add('mpl-canvas');\n",
       "    canvas.setAttribute('style', 'box-sizing: content-box;');\n",
       "\n",
       "    this.context = canvas.getContext('2d');\n",
       "\n",
       "    var backingStore =\n",
       "        this.context.backingStorePixelRatio ||\n",
       "        this.context.webkitBackingStorePixelRatio ||\n",
       "        this.context.mozBackingStorePixelRatio ||\n",
       "        this.context.msBackingStorePixelRatio ||\n",
       "        this.context.oBackingStorePixelRatio ||\n",
       "        this.context.backingStorePixelRatio ||\n",
       "        1;\n",
       "\n",
       "    this.ratio = (window.devicePixelRatio || 1) / backingStore;\n",
       "\n",
       "    var rubberband_canvas = (this.rubberband_canvas = document.createElement(\n",
       "        'canvas'\n",
       "    ));\n",
       "    rubberband_canvas.setAttribute(\n",
       "        'style',\n",
       "        'box-sizing: content-box; position: absolute; left: 0; top: 0; z-index: 1;'\n",
       "    );\n",
       "\n",
       "    // Apply a ponyfill if ResizeObserver is not implemented by browser.\n",
       "    if (this.ResizeObserver === undefined) {\n",
       "        if (window.ResizeObserver !== undefined) {\n",
       "            this.ResizeObserver = window.ResizeObserver;\n",
       "        } else {\n",
       "            var obs = _JSXTOOLS_RESIZE_OBSERVER({});\n",
       "            this.ResizeObserver = obs.ResizeObserver;\n",
       "        }\n",
       "    }\n",
       "\n",
       "    this.resizeObserverInstance = new this.ResizeObserver(function (entries) {\n",
       "        var nentries = entries.length;\n",
       "        for (var i = 0; i < nentries; i++) {\n",
       "            var entry = entries[i];\n",
       "            var width, height;\n",
       "            if (entry.contentBoxSize) {\n",
       "                if (entry.contentBoxSize instanceof Array) {\n",
       "                    // Chrome 84 implements new version of spec.\n",
       "                    width = entry.contentBoxSize[0].inlineSize;\n",
       "                    height = entry.contentBoxSize[0].blockSize;\n",
       "                } else {\n",
       "                    // Firefox implements old version of spec.\n",
       "                    width = entry.contentBoxSize.inlineSize;\n",
       "                    height = entry.contentBoxSize.blockSize;\n",
       "                }\n",
       "            } else {\n",
       "                // Chrome <84 implements even older version of spec.\n",
       "                width = entry.contentRect.width;\n",
       "                height = entry.contentRect.height;\n",
       "            }\n",
       "\n",
       "            // Keep the size of the canvas and rubber band canvas in sync with\n",
       "            // the canvas container.\n",
       "            if (entry.devicePixelContentBoxSize) {\n",
       "                // Chrome 84 implements new version of spec.\n",
       "                canvas.setAttribute(\n",
       "                    'width',\n",
       "                    entry.devicePixelContentBoxSize[0].inlineSize\n",
       "                );\n",
       "                canvas.setAttribute(\n",
       "                    'height',\n",
       "                    entry.devicePixelContentBoxSize[0].blockSize\n",
       "                );\n",
       "            } else {\n",
       "                canvas.setAttribute('width', width * fig.ratio);\n",
       "                canvas.setAttribute('height', height * fig.ratio);\n",
       "            }\n",
       "            canvas.setAttribute(\n",
       "                'style',\n",
       "                'width: ' + width + 'px; height: ' + height + 'px;'\n",
       "            );\n",
       "\n",
       "            rubberband_canvas.setAttribute('width', width);\n",
       "            rubberband_canvas.setAttribute('height', height);\n",
       "\n",
       "            // And update the size in Python. We ignore the initial 0/0 size\n",
       "            // that occurs as the element is placed into the DOM, which should\n",
       "            // otherwise not happen due to the minimum size styling.\n",
       "            if (fig.ws.readyState == 1 && width != 0 && height != 0) {\n",
       "                fig.request_resize(width, height);\n",
       "            }\n",
       "        }\n",
       "    });\n",
       "    this.resizeObserverInstance.observe(canvas_div);\n",
       "\n",
       "    function on_mouse_event_closure(name) {\n",
       "        return function (event) {\n",
       "            return fig.mouse_event(event, name);\n",
       "        };\n",
       "    }\n",
       "\n",
       "    rubberband_canvas.addEventListener(\n",
       "        'mousedown',\n",
       "        on_mouse_event_closure('button_press')\n",
       "    );\n",
       "    rubberband_canvas.addEventListener(\n",
       "        'mouseup',\n",
       "        on_mouse_event_closure('button_release')\n",
       "    );\n",
       "    // Throttle sequential mouse events to 1 every 20ms.\n",
       "    rubberband_canvas.addEventListener(\n",
       "        'mousemove',\n",
       "        on_mouse_event_closure('motion_notify')\n",
       "    );\n",
       "\n",
       "    rubberband_canvas.addEventListener(\n",
       "        'mouseenter',\n",
       "        on_mouse_event_closure('figure_enter')\n",
       "    );\n",
       "    rubberband_canvas.addEventListener(\n",
       "        'mouseleave',\n",
       "        on_mouse_event_closure('figure_leave')\n",
       "    );\n",
       "\n",
       "    canvas_div.addEventListener('wheel', function (event) {\n",
       "        if (event.deltaY < 0) {\n",
       "            event.step = 1;\n",
       "        } else {\n",
       "            event.step = -1;\n",
       "        }\n",
       "        on_mouse_event_closure('scroll')(event);\n",
       "    });\n",
       "\n",
       "    canvas_div.appendChild(canvas);\n",
       "    canvas_div.appendChild(rubberband_canvas);\n",
       "\n",
       "    this.rubberband_context = rubberband_canvas.getContext('2d');\n",
       "    this.rubberband_context.strokeStyle = '#000000';\n",
       "\n",
       "    this._resize_canvas = function (width, height, forward) {\n",
       "        if (forward) {\n",
       "            canvas_div.style.width = width + 'px';\n",
       "            canvas_div.style.height = height + 'px';\n",
       "        }\n",
       "    };\n",
       "\n",
       "    // Disable right mouse context menu.\n",
       "    this.rubberband_canvas.addEventListener('contextmenu', function (_e) {\n",
       "        event.preventDefault();\n",
       "        return false;\n",
       "    });\n",
       "\n",
       "    function set_focus() {\n",
       "        canvas.focus();\n",
       "        canvas_div.focus();\n",
       "    }\n",
       "\n",
       "    window.setTimeout(set_focus, 100);\n",
       "};\n",
       "\n",
       "mpl.figure.prototype._init_toolbar = function () {\n",
       "    var fig = this;\n",
       "\n",
       "    var toolbar = document.createElement('div');\n",
       "    toolbar.classList = 'mpl-toolbar';\n",
       "    this.root.appendChild(toolbar);\n",
       "\n",
       "    function on_click_closure(name) {\n",
       "        return function (_event) {\n",
       "            return fig.toolbar_button_onclick(name);\n",
       "        };\n",
       "    }\n",
       "\n",
       "    function on_mouseover_closure(tooltip) {\n",
       "        return function (event) {\n",
       "            if (!event.currentTarget.disabled) {\n",
       "                return fig.toolbar_button_onmouseover(tooltip);\n",
       "            }\n",
       "        };\n",
       "    }\n",
       "\n",
       "    fig.buttons = {};\n",
       "    var buttonGroup = document.createElement('div');\n",
       "    buttonGroup.classList = 'mpl-button-group';\n",
       "    for (var toolbar_ind in mpl.toolbar_items) {\n",
       "        var name = mpl.toolbar_items[toolbar_ind][0];\n",
       "        var tooltip = mpl.toolbar_items[toolbar_ind][1];\n",
       "        var image = mpl.toolbar_items[toolbar_ind][2];\n",
       "        var method_name = mpl.toolbar_items[toolbar_ind][3];\n",
       "\n",
       "        if (!name) {\n",
       "            /* Instead of a spacer, we start a new button group. */\n",
       "            if (buttonGroup.hasChildNodes()) {\n",
       "                toolbar.appendChild(buttonGroup);\n",
       "            }\n",
       "            buttonGroup = document.createElement('div');\n",
       "            buttonGroup.classList = 'mpl-button-group';\n",
       "            continue;\n",
       "        }\n",
       "\n",
       "        var button = (fig.buttons[name] = document.createElement('button'));\n",
       "        button.classList = 'mpl-widget';\n",
       "        button.setAttribute('role', 'button');\n",
       "        button.setAttribute('aria-disabled', 'false');\n",
       "        button.addEventListener('click', on_click_closure(method_name));\n",
       "        button.addEventListener('mouseover', on_mouseover_closure(tooltip));\n",
       "\n",
       "        var icon_img = document.createElement('img');\n",
       "        icon_img.src = '_images/' + image + '.png';\n",
       "        icon_img.srcset = '_images/' + image + '_large.png 2x';\n",
       "        icon_img.alt = tooltip;\n",
       "        button.appendChild(icon_img);\n",
       "\n",
       "        buttonGroup.appendChild(button);\n",
       "    }\n",
       "\n",
       "    if (buttonGroup.hasChildNodes()) {\n",
       "        toolbar.appendChild(buttonGroup);\n",
       "    }\n",
       "\n",
       "    var fmt_picker = document.createElement('select');\n",
       "    fmt_picker.classList = 'mpl-widget';\n",
       "    toolbar.appendChild(fmt_picker);\n",
       "    this.format_dropdown = fmt_picker;\n",
       "\n",
       "    for (var ind in mpl.extensions) {\n",
       "        var fmt = mpl.extensions[ind];\n",
       "        var option = document.createElement('option');\n",
       "        option.selected = fmt === mpl.default_extension;\n",
       "        option.innerHTML = fmt;\n",
       "        fmt_picker.appendChild(option);\n",
       "    }\n",
       "\n",
       "    var status_bar = document.createElement('span');\n",
       "    status_bar.classList = 'mpl-message';\n",
       "    toolbar.appendChild(status_bar);\n",
       "    this.message = status_bar;\n",
       "};\n",
       "\n",
       "mpl.figure.prototype.request_resize = function (x_pixels, y_pixels) {\n",
       "    // Request matplotlib to resize the figure. Matplotlib will then trigger a resize in the client,\n",
       "    // which will in turn request a refresh of the image.\n",
       "    this.send_message('resize', { width: x_pixels, height: y_pixels });\n",
       "};\n",
       "\n",
       "mpl.figure.prototype.send_message = function (type, properties) {\n",
       "    properties['type'] = type;\n",
       "    properties['figure_id'] = this.id;\n",
       "    this.ws.send(JSON.stringify(properties));\n",
       "};\n",
       "\n",
       "mpl.figure.prototype.send_draw_message = function () {\n",
       "    if (!this.waiting) {\n",
       "        this.waiting = true;\n",
       "        this.ws.send(JSON.stringify({ type: 'draw', figure_id: this.id }));\n",
       "    }\n",
       "};\n",
       "\n",
       "mpl.figure.prototype.handle_save = function (fig, _msg) {\n",
       "    var format_dropdown = fig.format_dropdown;\n",
       "    var format = format_dropdown.options[format_dropdown.selectedIndex].value;\n",
       "    fig.ondownload(fig, format);\n",
       "};\n",
       "\n",
       "mpl.figure.prototype.handle_resize = function (fig, msg) {\n",
       "    var size = msg['size'];\n",
       "    if (size[0] !== fig.canvas.width || size[1] !== fig.canvas.height) {\n",
       "        fig._resize_canvas(size[0], size[1], msg['forward']);\n",
       "        fig.send_message('refresh', {});\n",
       "    }\n",
       "};\n",
       "\n",
       "mpl.figure.prototype.handle_rubberband = function (fig, msg) {\n",
       "    var x0 = msg['x0'] / fig.ratio;\n",
       "    var y0 = (fig.canvas.height - msg['y0']) / fig.ratio;\n",
       "    var x1 = msg['x1'] / fig.ratio;\n",
       "    var y1 = (fig.canvas.height - msg['y1']) / fig.ratio;\n",
       "    x0 = Math.floor(x0) + 0.5;\n",
       "    y0 = Math.floor(y0) + 0.5;\n",
       "    x1 = Math.floor(x1) + 0.5;\n",
       "    y1 = Math.floor(y1) + 0.5;\n",
       "    var min_x = Math.min(x0, x1);\n",
       "    var min_y = Math.min(y0, y1);\n",
       "    var width = Math.abs(x1 - x0);\n",
       "    var height = Math.abs(y1 - y0);\n",
       "\n",
       "    fig.rubberband_context.clearRect(\n",
       "        0,\n",
       "        0,\n",
       "        fig.canvas.width / fig.ratio,\n",
       "        fig.canvas.height / fig.ratio\n",
       "    );\n",
       "\n",
       "    fig.rubberband_context.strokeRect(min_x, min_y, width, height);\n",
       "};\n",
       "\n",
       "mpl.figure.prototype.handle_figure_label = function (fig, msg) {\n",
       "    // Updates the figure title.\n",
       "    fig.header.textContent = msg['label'];\n",
       "};\n",
       "\n",
       "mpl.figure.prototype.handle_cursor = function (fig, msg) {\n",
       "    var cursor = msg['cursor'];\n",
       "    switch (cursor) {\n",
       "        case 0:\n",
       "            cursor = 'pointer';\n",
       "            break;\n",
       "        case 1:\n",
       "            cursor = 'default';\n",
       "            break;\n",
       "        case 2:\n",
       "            cursor = 'crosshair';\n",
       "            break;\n",
       "        case 3:\n",
       "            cursor = 'move';\n",
       "            break;\n",
       "    }\n",
       "    fig.rubberband_canvas.style.cursor = cursor;\n",
       "};\n",
       "\n",
       "mpl.figure.prototype.handle_message = function (fig, msg) {\n",
       "    fig.message.textContent = msg['message'];\n",
       "};\n",
       "\n",
       "mpl.figure.prototype.handle_draw = function (fig, _msg) {\n",
       "    // Request the server to send over a new figure.\n",
       "    fig.send_draw_message();\n",
       "};\n",
       "\n",
       "mpl.figure.prototype.handle_image_mode = function (fig, msg) {\n",
       "    fig.image_mode = msg['mode'];\n",
       "};\n",
       "\n",
       "mpl.figure.prototype.handle_history_buttons = function (fig, msg) {\n",
       "    for (var key in msg) {\n",
       "        if (!(key in fig.buttons)) {\n",
       "            continue;\n",
       "        }\n",
       "        fig.buttons[key].disabled = !msg[key];\n",
       "        fig.buttons[key].setAttribute('aria-disabled', !msg[key]);\n",
       "    }\n",
       "};\n",
       "\n",
       "mpl.figure.prototype.handle_navigate_mode = function (fig, msg) {\n",
       "    if (msg['mode'] === 'PAN') {\n",
       "        fig.buttons['Pan'].classList.add('active');\n",
       "        fig.buttons['Zoom'].classList.remove('active');\n",
       "    } else if (msg['mode'] === 'ZOOM') {\n",
       "        fig.buttons['Pan'].classList.remove('active');\n",
       "        fig.buttons['Zoom'].classList.add('active');\n",
       "    } else {\n",
       "        fig.buttons['Pan'].classList.remove('active');\n",
       "        fig.buttons['Zoom'].classList.remove('active');\n",
       "    }\n",
       "};\n",
       "\n",
       "mpl.figure.prototype.updated_canvas_event = function () {\n",
       "    // Called whenever the canvas gets updated.\n",
       "    this.send_message('ack', {});\n",
       "};\n",
       "\n",
       "// A function to construct a web socket function for onmessage handling.\n",
       "// Called in the figure constructor.\n",
       "mpl.figure.prototype._make_on_message_function = function (fig) {\n",
       "    return function socket_on_message(evt) {\n",
       "        if (evt.data instanceof Blob) {\n",
       "            /* FIXME: We get \"Resource interpreted as Image but\n",
       "             * transferred with MIME type text/plain:\" errors on\n",
       "             * Chrome.  But how to set the MIME type?  It doesn't seem\n",
       "             * to be part of the websocket stream */\n",
       "            evt.data.type = 'image/png';\n",
       "\n",
       "            /* Free the memory for the previous frames */\n",
       "            if (fig.imageObj.src) {\n",
       "                (window.URL || window.webkitURL).revokeObjectURL(\n",
       "                    fig.imageObj.src\n",
       "                );\n",
       "            }\n",
       "\n",
       "            fig.imageObj.src = (window.URL || window.webkitURL).createObjectURL(\n",
       "                evt.data\n",
       "            );\n",
       "            fig.updated_canvas_event();\n",
       "            fig.waiting = false;\n",
       "            return;\n",
       "        } else if (\n",
       "            typeof evt.data === 'string' &&\n",
       "            evt.data.slice(0, 21) === 'data:image/png;base64'\n",
       "        ) {\n",
       "            fig.imageObj.src = evt.data;\n",
       "            fig.updated_canvas_event();\n",
       "            fig.waiting = false;\n",
       "            return;\n",
       "        }\n",
       "\n",
       "        var msg = JSON.parse(evt.data);\n",
       "        var msg_type = msg['type'];\n",
       "\n",
       "        // Call the  \"handle_{type}\" callback, which takes\n",
       "        // the figure and JSON message as its only arguments.\n",
       "        try {\n",
       "            var callback = fig['handle_' + msg_type];\n",
       "        } catch (e) {\n",
       "            console.log(\n",
       "                \"No handler for the '\" + msg_type + \"' message type: \",\n",
       "                msg\n",
       "            );\n",
       "            return;\n",
       "        }\n",
       "\n",
       "        if (callback) {\n",
       "            try {\n",
       "                // console.log(\"Handling '\" + msg_type + \"' message: \", msg);\n",
       "                callback(fig, msg);\n",
       "            } catch (e) {\n",
       "                console.log(\n",
       "                    \"Exception inside the 'handler_\" + msg_type + \"' callback:\",\n",
       "                    e,\n",
       "                    e.stack,\n",
       "                    msg\n",
       "                );\n",
       "            }\n",
       "        }\n",
       "    };\n",
       "};\n",
       "\n",
       "// from http://stackoverflow.com/questions/1114465/getting-mouse-location-in-canvas\n",
       "mpl.findpos = function (e) {\n",
       "    //this section is from http://www.quirksmode.org/js/events_properties.html\n",
       "    var targ;\n",
       "    if (!e) {\n",
       "        e = window.event;\n",
       "    }\n",
       "    if (e.target) {\n",
       "        targ = e.target;\n",
       "    } else if (e.srcElement) {\n",
       "        targ = e.srcElement;\n",
       "    }\n",
       "    if (targ.nodeType === 3) {\n",
       "        // defeat Safari bug\n",
       "        targ = targ.parentNode;\n",
       "    }\n",
       "\n",
       "    // pageX,Y are the mouse positions relative to the document\n",
       "    var boundingRect = targ.getBoundingClientRect();\n",
       "    var x = e.pageX - (boundingRect.left + document.body.scrollLeft);\n",
       "    var y = e.pageY - (boundingRect.top + document.body.scrollTop);\n",
       "\n",
       "    return { x: x, y: y };\n",
       "};\n",
       "\n",
       "/*\n",
       " * return a copy of an object with only non-object keys\n",
       " * we need this to avoid circular references\n",
       " * http://stackoverflow.com/a/24161582/3208463\n",
       " */\n",
       "function simpleKeys(original) {\n",
       "    return Object.keys(original).reduce(function (obj, key) {\n",
       "        if (typeof original[key] !== 'object') {\n",
       "            obj[key] = original[key];\n",
       "        }\n",
       "        return obj;\n",
       "    }, {});\n",
       "}\n",
       "\n",
       "mpl.figure.prototype.mouse_event = function (event, name) {\n",
       "    var canvas_pos = mpl.findpos(event);\n",
       "\n",
       "    if (name === 'button_press') {\n",
       "        this.canvas.focus();\n",
       "        this.canvas_div.focus();\n",
       "    }\n",
       "\n",
       "    var x = canvas_pos.x * this.ratio;\n",
       "    var y = canvas_pos.y * this.ratio;\n",
       "\n",
       "    this.send_message(name, {\n",
       "        x: x,\n",
       "        y: y,\n",
       "        button: event.button,\n",
       "        step: event.step,\n",
       "        guiEvent: simpleKeys(event),\n",
       "    });\n",
       "\n",
       "    /* This prevents the web browser from automatically changing to\n",
       "     * the text insertion cursor when the button is pressed.  We want\n",
       "     * to control all of the cursor setting manually through the\n",
       "     * 'cursor' event from matplotlib */\n",
       "    event.preventDefault();\n",
       "    return false;\n",
       "};\n",
       "\n",
       "mpl.figure.prototype._key_event_extra = function (_event, _name) {\n",
       "    // Handle any extra behaviour associated with a key event\n",
       "};\n",
       "\n",
       "mpl.figure.prototype.key_event = function (event, name) {\n",
       "    // Prevent repeat events\n",
       "    if (name === 'key_press') {\n",
       "        if (event.which === this._key) {\n",
       "            return;\n",
       "        } else {\n",
       "            this._key = event.which;\n",
       "        }\n",
       "    }\n",
       "    if (name === 'key_release') {\n",
       "        this._key = null;\n",
       "    }\n",
       "\n",
       "    var value = '';\n",
       "    if (event.ctrlKey && event.which !== 17) {\n",
       "        value += 'ctrl+';\n",
       "    }\n",
       "    if (event.altKey && event.which !== 18) {\n",
       "        value += 'alt+';\n",
       "    }\n",
       "    if (event.shiftKey && event.which !== 16) {\n",
       "        value += 'shift+';\n",
       "    }\n",
       "\n",
       "    value += 'k';\n",
       "    value += event.which.toString();\n",
       "\n",
       "    this._key_event_extra(event, name);\n",
       "\n",
       "    this.send_message(name, { key: value, guiEvent: simpleKeys(event) });\n",
       "    return false;\n",
       "};\n",
       "\n",
       "mpl.figure.prototype.toolbar_button_onclick = function (name) {\n",
       "    if (name === 'download') {\n",
       "        this.handle_save(this, null);\n",
       "    } else {\n",
       "        this.send_message('toolbar_button', { name: name });\n",
       "    }\n",
       "};\n",
       "\n",
       "mpl.figure.prototype.toolbar_button_onmouseover = function (tooltip) {\n",
       "    this.message.textContent = tooltip;\n",
       "};\n",
       "\n",
       "///////////////// REMAINING CONTENT GENERATED BY embed_js.py /////////////////\n",
       "// prettier-ignore\n",
       "var _JSXTOOLS_RESIZE_OBSERVER=function(A){var t,i=new WeakMap,n=new WeakMap,a=new WeakMap,r=new WeakMap,o=new Set;function s(e){if(!(this instanceof s))throw new TypeError(\"Constructor requires 'new' operator\");i.set(this,e)}function h(){throw new TypeError(\"Function is not a constructor\")}function c(e,t,i,n){e=0 in arguments?Number(arguments[0]):0,t=1 in arguments?Number(arguments[1]):0,i=2 in arguments?Number(arguments[2]):0,n=3 in arguments?Number(arguments[3]):0,this.right=(this.x=this.left=e)+(this.width=i),this.bottom=(this.y=this.top=t)+(this.height=n),Object.freeze(this)}function d(){t=requestAnimationFrame(d);var s=new WeakMap,p=new Set;o.forEach((function(t){r.get(t).forEach((function(i){var r=t instanceof window.SVGElement,o=a.get(t),d=r?0:parseFloat(o.paddingTop),f=r?0:parseFloat(o.paddingRight),l=r?0:parseFloat(o.paddingBottom),u=r?0:parseFloat(o.paddingLeft),g=r?0:parseFloat(o.borderTopWidth),m=r?0:parseFloat(o.borderRightWidth),w=r?0:parseFloat(o.borderBottomWidth),b=u+f,F=d+l,v=(r?0:parseFloat(o.borderLeftWidth))+m,W=g+w,y=r?0:t.offsetHeight-W-t.clientHeight,E=r?0:t.offsetWidth-v-t.clientWidth,R=b+v,z=F+W,M=r?t.width:parseFloat(o.width)-R-E,O=r?t.height:parseFloat(o.height)-z-y;if(n.has(t)){var k=n.get(t);if(k[0]===M&&k[1]===O)return}n.set(t,[M,O]);var S=Object.create(h.prototype);S.target=t,S.contentRect=new c(u,d,M,O),s.has(i)||(s.set(i,[]),p.add(i)),s.get(i).push(S)}))})),p.forEach((function(e){i.get(e).call(e,s.get(e),e)}))}return s.prototype.observe=function(i){if(i instanceof window.Element){r.has(i)||(r.set(i,new Set),o.add(i),a.set(i,window.getComputedStyle(i)));var n=r.get(i);n.has(this)||n.add(this),cancelAnimationFrame(t),t=requestAnimationFrame(d)}},s.prototype.unobserve=function(i){if(i instanceof window.Element&&r.has(i)){var n=r.get(i);n.has(this)&&(n.delete(this),n.size||(r.delete(i),o.delete(i))),n.size||r.delete(i),o.size||cancelAnimationFrame(t)}},A.DOMRectReadOnly=c,A.ResizeObserver=s,A.ResizeObserverEntry=h,A}; // eslint-disable-line\n",
       "mpl.toolbar_items = [[\"Home\", \"Reset original view\", \"fa fa-home icon-home\", \"home\"], [\"Back\", \"Back to previous view\", \"fa fa-arrow-left icon-arrow-left\", \"back\"], [\"Forward\", \"Forward to next view\", \"fa fa-arrow-right icon-arrow-right\", \"forward\"], [\"\", \"\", \"\", \"\"], [\"Pan\", \"Left button pans, Right button zooms\\nx/y fixes axis, CTRL fixes aspect\", \"fa fa-arrows icon-move\", \"pan\"], [\"Zoom\", \"Zoom to rectangle\\nx/y fixes axis, CTRL fixes aspect\", \"fa fa-square-o icon-check-empty\", \"zoom\"], [\"\", \"\", \"\", \"\"], [\"Download\", \"Download plot\", \"fa fa-floppy-o icon-save\", \"download\"]];\n",
       "\n",
       "mpl.extensions = [\"eps\", \"jpeg\", \"pdf\", \"png\", \"ps\", \"raw\", \"svg\", \"tif\"];\n",
       "\n",
       "mpl.default_extension = \"png\";/* global mpl */\n",
       "\n",
       "var comm_websocket_adapter = function (comm) {\n",
       "    // Create a \"websocket\"-like object which calls the given IPython comm\n",
       "    // object with the appropriate methods. Currently this is a non binary\n",
       "    // socket, so there is still some room for performance tuning.\n",
       "    var ws = {};\n",
       "\n",
       "    ws.close = function () {\n",
       "        comm.close();\n",
       "    };\n",
       "    ws.send = function (m) {\n",
       "        //console.log('sending', m);\n",
       "        comm.send(m);\n",
       "    };\n",
       "    // Register the callback with on_msg.\n",
       "    comm.on_msg(function (msg) {\n",
       "        //console.log('receiving', msg['content']['data'], msg);\n",
       "        // Pass the mpl event to the overridden (by mpl) onmessage function.\n",
       "        ws.onmessage(msg['content']['data']);\n",
       "    });\n",
       "    return ws;\n",
       "};\n",
       "\n",
       "mpl.mpl_figure_comm = function (comm, msg) {\n",
       "    // This is the function which gets called when the mpl process\n",
       "    // starts-up an IPython Comm through the \"matplotlib\" channel.\n",
       "\n",
       "    var id = msg.content.data.id;\n",
       "    // Get hold of the div created by the display call when the Comm\n",
       "    // socket was opened in Python.\n",
       "    var element = document.getElementById(id);\n",
       "    var ws_proxy = comm_websocket_adapter(comm);\n",
       "\n",
       "    function ondownload(figure, _format) {\n",
       "        window.open(figure.canvas.toDataURL());\n",
       "    }\n",
       "\n",
       "    var fig = new mpl.figure(id, ws_proxy, ondownload, element);\n",
       "\n",
       "    // Call onopen now - mpl needs it, as it is assuming we've passed it a real\n",
       "    // web socket which is closed, not our websocket->open comm proxy.\n",
       "    ws_proxy.onopen();\n",
       "\n",
       "    fig.parent_element = element;\n",
       "    fig.cell_info = mpl.find_output_cell(\"<div id='\" + id + \"'></div>\");\n",
       "    if (!fig.cell_info) {\n",
       "        console.error('Failed to find cell for figure', id, fig);\n",
       "        return;\n",
       "    }\n",
       "    fig.cell_info[0].output_area.element.on(\n",
       "        'cleared',\n",
       "        { fig: fig },\n",
       "        fig._remove_fig_handler\n",
       "    );\n",
       "};\n",
       "\n",
       "mpl.figure.prototype.handle_close = function (fig, msg) {\n",
       "    var width = fig.canvas.width / fig.ratio;\n",
       "    fig.cell_info[0].output_area.element.off(\n",
       "        'cleared',\n",
       "        fig._remove_fig_handler\n",
       "    );\n",
       "    fig.resizeObserverInstance.unobserve(fig.canvas_div);\n",
       "\n",
       "    // Update the output cell to use the data from the current canvas.\n",
       "    fig.push_to_output();\n",
       "    var dataURL = fig.canvas.toDataURL();\n",
       "    // Re-enable the keyboard manager in IPython - without this line, in FF,\n",
       "    // the notebook keyboard shortcuts fail.\n",
       "    IPython.keyboard_manager.enable();\n",
       "    fig.parent_element.innerHTML =\n",
       "        '<img src=\"' + dataURL + '\" width=\"' + width + '\">';\n",
       "    fig.close_ws(fig, msg);\n",
       "};\n",
       "\n",
       "mpl.figure.prototype.close_ws = function (fig, msg) {\n",
       "    fig.send_message('closing', msg);\n",
       "    // fig.ws.close()\n",
       "};\n",
       "\n",
       "mpl.figure.prototype.push_to_output = function (_remove_interactive) {\n",
       "    // Turn the data on the canvas into data in the output cell.\n",
       "    var width = this.canvas.width / this.ratio;\n",
       "    var dataURL = this.canvas.toDataURL();\n",
       "    this.cell_info[1]['text/html'] =\n",
       "        '<img src=\"' + dataURL + '\" width=\"' + width + '\">';\n",
       "};\n",
       "\n",
       "mpl.figure.prototype.updated_canvas_event = function () {\n",
       "    // Tell IPython that the notebook contents must change.\n",
       "    IPython.notebook.set_dirty(true);\n",
       "    this.send_message('ack', {});\n",
       "    var fig = this;\n",
       "    // Wait a second, then push the new image to the DOM so\n",
       "    // that it is saved nicely (might be nice to debounce this).\n",
       "    setTimeout(function () {\n",
       "        fig.push_to_output();\n",
       "    }, 1000);\n",
       "};\n",
       "\n",
       "mpl.figure.prototype._init_toolbar = function () {\n",
       "    var fig = this;\n",
       "\n",
       "    var toolbar = document.createElement('div');\n",
       "    toolbar.classList = 'btn-toolbar';\n",
       "    this.root.appendChild(toolbar);\n",
       "\n",
       "    function on_click_closure(name) {\n",
       "        return function (_event) {\n",
       "            return fig.toolbar_button_onclick(name);\n",
       "        };\n",
       "    }\n",
       "\n",
       "    function on_mouseover_closure(tooltip) {\n",
       "        return function (event) {\n",
       "            if (!event.currentTarget.disabled) {\n",
       "                return fig.toolbar_button_onmouseover(tooltip);\n",
       "            }\n",
       "        };\n",
       "    }\n",
       "\n",
       "    fig.buttons = {};\n",
       "    var buttonGroup = document.createElement('div');\n",
       "    buttonGroup.classList = 'btn-group';\n",
       "    var button;\n",
       "    for (var toolbar_ind in mpl.toolbar_items) {\n",
       "        var name = mpl.toolbar_items[toolbar_ind][0];\n",
       "        var tooltip = mpl.toolbar_items[toolbar_ind][1];\n",
       "        var image = mpl.toolbar_items[toolbar_ind][2];\n",
       "        var method_name = mpl.toolbar_items[toolbar_ind][3];\n",
       "\n",
       "        if (!name) {\n",
       "            /* Instead of a spacer, we start a new button group. */\n",
       "            if (buttonGroup.hasChildNodes()) {\n",
       "                toolbar.appendChild(buttonGroup);\n",
       "            }\n",
       "            buttonGroup = document.createElement('div');\n",
       "            buttonGroup.classList = 'btn-group';\n",
       "            continue;\n",
       "        }\n",
       "\n",
       "        button = fig.buttons[name] = document.createElement('button');\n",
       "        button.classList = 'btn btn-default';\n",
       "        button.href = '#';\n",
       "        button.title = name;\n",
       "        button.innerHTML = '<i class=\"fa ' + image + ' fa-lg\"></i>';\n",
       "        button.addEventListener('click', on_click_closure(method_name));\n",
       "        button.addEventListener('mouseover', on_mouseover_closure(tooltip));\n",
       "        buttonGroup.appendChild(button);\n",
       "    }\n",
       "\n",
       "    if (buttonGroup.hasChildNodes()) {\n",
       "        toolbar.appendChild(buttonGroup);\n",
       "    }\n",
       "\n",
       "    // Add the status bar.\n",
       "    var status_bar = document.createElement('span');\n",
       "    status_bar.classList = 'mpl-message pull-right';\n",
       "    toolbar.appendChild(status_bar);\n",
       "    this.message = status_bar;\n",
       "\n",
       "    // Add the close button to the window.\n",
       "    var buttongrp = document.createElement('div');\n",
       "    buttongrp.classList = 'btn-group inline pull-right';\n",
       "    button = document.createElement('button');\n",
       "    button.classList = 'btn btn-mini btn-primary';\n",
       "    button.href = '#';\n",
       "    button.title = 'Stop Interaction';\n",
       "    button.innerHTML = '<i class=\"fa fa-power-off icon-remove icon-large\"></i>';\n",
       "    button.addEventListener('click', function (_evt) {\n",
       "        fig.handle_close(fig, {});\n",
       "    });\n",
       "    button.addEventListener(\n",
       "        'mouseover',\n",
       "        on_mouseover_closure('Stop Interaction')\n",
       "    );\n",
       "    buttongrp.appendChild(button);\n",
       "    var titlebar = this.root.querySelector('.ui-dialog-titlebar');\n",
       "    titlebar.insertBefore(buttongrp, titlebar.firstChild);\n",
       "};\n",
       "\n",
       "mpl.figure.prototype._remove_fig_handler = function (event) {\n",
       "    var fig = event.data.fig;\n",
       "    if (event.target !== this) {\n",
       "        // Ignore bubbled events from children.\n",
       "        return;\n",
       "    }\n",
       "    fig.close_ws(fig, {});\n",
       "};\n",
       "\n",
       "mpl.figure.prototype._root_extra_style = function (el) {\n",
       "    el.style.boxSizing = 'content-box'; // override notebook setting of border-box.\n",
       "};\n",
       "\n",
       "mpl.figure.prototype._canvas_extra_style = function (el) {\n",
       "    // this is important to make the div 'focusable\n",
       "    el.setAttribute('tabindex', 0);\n",
       "    // reach out to IPython and tell the keyboard manager to turn it's self\n",
       "    // off when our div gets focus\n",
       "\n",
       "    // location in version 3\n",
       "    if (IPython.notebook.keyboard_manager) {\n",
       "        IPython.notebook.keyboard_manager.register_events(el);\n",
       "    } else {\n",
       "        // location in version 2\n",
       "        IPython.keyboard_manager.register_events(el);\n",
       "    }\n",
       "};\n",
       "\n",
       "mpl.figure.prototype._key_event_extra = function (event, _name) {\n",
       "    var manager = IPython.notebook.keyboard_manager;\n",
       "    if (!manager) {\n",
       "        manager = IPython.keyboard_manager;\n",
       "    }\n",
       "\n",
       "    // Check for shift+enter\n",
       "    if (event.shiftKey && event.which === 13) {\n",
       "        this.canvas_div.blur();\n",
       "        // select the cell after this one\n",
       "        var index = IPython.notebook.find_cell_index(this.cell_info[0]);\n",
       "        IPython.notebook.select(index + 1);\n",
       "    }\n",
       "};\n",
       "\n",
       "mpl.figure.prototype.handle_save = function (fig, _msg) {\n",
       "    fig.ondownload(fig, null);\n",
       "};\n",
       "\n",
       "mpl.find_output_cell = function (html_output) {\n",
       "    // Return the cell and output element which can be found *uniquely* in the notebook.\n",
       "    // Note - this is a bit hacky, but it is done because the \"notebook_saving.Notebook\"\n",
       "    // IPython event is triggered only after the cells have been serialised, which for\n",
       "    // our purposes (turning an active figure into a static one), is too late.\n",
       "    var cells = IPython.notebook.get_cells();\n",
       "    var ncells = cells.length;\n",
       "    for (var i = 0; i < ncells; i++) {\n",
       "        var cell = cells[i];\n",
       "        if (cell.cell_type === 'code') {\n",
       "            for (var j = 0; j < cell.output_area.outputs.length; j++) {\n",
       "                var data = cell.output_area.outputs[j];\n",
       "                if (data.data) {\n",
       "                    // IPython >= 3 moved mimebundle to data attribute of output\n",
       "                    data = data.data;\n",
       "                }\n",
       "                if (data['text/html'] === html_output) {\n",
       "                    return [cell, data, j];\n",
       "                }\n",
       "            }\n",
       "        }\n",
       "    }\n",
       "};\n",
       "\n",
       "// Register the function which deals with the matplotlib target/channel.\n",
       "// The kernel may be null if the page has been refreshed.\n",
       "if (IPython.notebook.kernel !== null) {\n",
       "    IPython.notebook.kernel.comm_manager.register_target(\n",
       "        'matplotlib',\n",
       "        mpl.mpl_figure_comm\n",
       "    );\n",
       "}\n"
      ],
      "text/plain": [
       "<IPython.core.display.Javascript object>"
      ]
     },
     "metadata": {},
     "output_type": "display_data"
    },
    {
     "data": {
      "text/html": [
       "<img src=\"data:image/png;base64,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\" width=\"640\">"
      ],
      "text/plain": [
       "<IPython.core.display.HTML object>"
      ]
     },
     "metadata": {},
     "output_type": "display_data"
    },
    {
     "data": {
      "text/plain": [
       "[<matplotlib.lines.Line2D at 0x7f0a53539780>]"
      ]
     },
     "execution_count": 180,
     "metadata": {},
     "output_type": "execute_result"
    }
   ],
   "source": [
    "plt.figure()\n",
    "plt.plot(ans.real)\n",
    "plt.plot(ans.imag)"
   ]
  },
  {
   "cell_type": "code",
   "execution_count": 181,
   "id": "2e94d055",
   "metadata": {},
   "outputs": [],
   "source": [
    "from craco import preprocess"
   ]
  },
  {
   "cell_type": "code",
   "execution_count": 182,
   "id": "f38e7241",
   "metadata": {},
   "outputs": [],
   "source": [
    "input_data = np.random.normal(10, 20, 10*20*30) + 1j*np.random.normal(10, 20, 10*20*30) \n",
    "input_data = input_data.astype(np.complex64).reshape(10, 20, 30)\n",
    "output_data = np.zeros_like(input_data)\n",
    "Ai = np.zeros(1, dtype=np.complex64)\n",
    "Qi = np.zeros(2, dtype=np.float32)\n",
    "N = np.ones(1, dtype=np.int32)\n",
    "bl_weights = np.ones(10, dtype=np.bool)\n",
    "input_tf_weights = np.ones((20,30), dtype=np.bool)\n",
    "fixed_freq_weights = np.ones(20, dtype=np.bool)\n",
    "cal = np.ones((10, 20), dtype=np.complex64)"
   ]
  },
  {
   "cell_type": "code",
   "execution_count": 183,
   "id": "e278759e",
   "metadata": {},
   "outputs": [],
   "source": [
    "preprocess.fast_preprpocess_single_norm(input_data, bl_weights, fixed_freq_weights, input_tf_weights, output_data, 0, Ai, Qi, N, cal, 512, True)"
   ]
  },
  {
   "cell_type": "code",
   "execution_count": 184,
   "id": "1c2ca42f",
   "metadata": {},
   "outputs": [
    {
     "data": {
      "text/plain": [
       "511.99990492074744"
      ]
     },
     "execution_count": 184,
     "metadata": {},
     "output_type": "execute_result"
    }
   ],
   "source": [
    "output_data.std() / np.sqrt(2)"
   ]
  },
  {
   "cell_type": "code",
   "execution_count": 185,
   "id": "949b5f84",
   "metadata": {},
   "outputs": [
    {
     "data": {
      "text/plain": [
       "array([10.157501+10.088203j], dtype=complex64)"
      ]
     },
     "execution_count": 185,
     "metadata": {},
     "output_type": "execute_result"
    }
   ],
   "source": [
    "Ai"
   ]
  },
  {
   "cell_type": "code",
   "execution_count": 186,
   "id": "28f83511",
   "metadata": {},
   "outputs": [
    {
     "data": {
      "text/plain": [
       "array([2406027.2, 2370482.8], dtype=float32)"
      ]
     },
     "execution_count": 186,
     "metadata": {},
     "output_type": "execute_result"
    }
   ],
   "source": [
    "Qi"
   ]
  },
  {
   "cell_type": "code",
   "execution_count": 187,
   "id": "cea7b2d9",
   "metadata": {},
   "outputs": [
    {
     "data": {
      "text/plain": [
       "array([6001], dtype=int32)"
      ]
     },
     "execution_count": 187,
     "metadata": {},
     "output_type": "execute_result"
    }
   ],
   "source": [
    "N"
   ]
  },
  {
   "cell_type": "code",
   "execution_count": 188,
   "id": "10fbda50",
   "metadata": {},
   "outputs": [
    {
     "data": {
      "text/plain": [
       "array([20.02342924])"
      ]
     },
     "execution_count": 188,
     "metadata": {},
     "output_type": "execute_result"
    }
   ],
   "source": [
    "np.sqrt(Qi[0] / N)"
   ]
  },
  {
   "cell_type": "code",
   "execution_count": 189,
   "id": "baf133e7",
   "metadata": {},
   "outputs": [],
   "source": [
    "def numpy_calibrate_input(raw_data, cal_data):\n",
    "    input_data = raw_data * cal_data[:, :, None]\n",
    "    mean = input_data.mean()\n",
    "    std = input_data.std() / np.sqrt(2)\n",
    "    return (input_data - mean) * 512 / std, mean, std, input_data\n",
    "\n"
   ]
  },
  {
   "cell_type": "code",
   "execution_count": 190,
   "id": "204c16e8",
   "metadata": {},
   "outputs": [],
   "source": [
    "exp_out, mean, std, cal_out = numpy_calibrate_input(input_data, cal)"
   ]
  },
  {
   "cell_type": "code",
   "execution_count": 191,
   "id": "561a6555",
   "metadata": {},
   "outputs": [
    {
     "data": {
      "text/plain": [
       "(158.5245-24.701193j)"
      ]
     },
     "execution_count": 191,
     "metadata": {},
     "output_type": "execute_result"
    }
   ],
   "source": [
    "exp_out[0][0][0]"
   ]
  },
  {
   "cell_type": "code",
   "execution_count": 192,
   "id": "f74b0f10",
   "metadata": {},
   "outputs": [
    {
     "data": {
      "text/plain": [
       "((16.334686+9.125688j),\n",
       " (10.157495+10.088214j),\n",
       " 19.950997708587085,\n",
       " (16.334686+9.125688j))"
      ]
     },
     "execution_count": 192,
     "metadata": {},
     "output_type": "execute_result"
    }
   ],
   "source": [
    "input_data[0][0][0], mean, std, cal_out[0][0][0]"
   ]
  },
  {
   "cell_type": "code",
   "execution_count": 193,
   "id": "fc9cf988",
   "metadata": {},
   "outputs": [
    {
     "data": {
      "text/plain": [
       "(10, 20, 30)"
      ]
     },
     "execution_count": 193,
     "metadata": {},
     "output_type": "execute_result"
    }
   ],
   "source": [
    "exp_out.shape"
   ]
  },
  {
   "cell_type": "code",
   "execution_count": 194,
   "id": "8beabe46",
   "metadata": {},
   "outputs": [
    {
     "data": {
      "text/plain": [
       "(1+0j)"
      ]
     },
     "execution_count": 194,
     "metadata": {},
     "output_type": "execute_result"
    }
   ],
   "source": [
    "cal[0][0]"
   ]
  },
  {
   "cell_type": "code",
   "execution_count": null,
   "id": "47fb870d",
   "metadata": {},
   "outputs": [],
   "source": []
  },
  {
   "cell_type": "code",
   "execution_count": null,
   "id": "f74985a0",
   "metadata": {},
   "outputs": [],
   "source": []
  }
 ],
 "metadata": {
  "kernelspec": {
   "display_name": "Python 3",
   "language": "python",
   "name": "python3"
  },
  "language_info": {
   "codemirror_mode": {
    "name": "ipython",
    "version": 3
   },
   "file_extension": ".py",
   "mimetype": "text/x-python",
   "name": "python",
   "nbconvert_exporter": "python",
   "pygments_lexer": "ipython3",
   "version": "3.6.13"
  }
 },
 "nbformat": 4,
 "nbformat_minor": 5
}
