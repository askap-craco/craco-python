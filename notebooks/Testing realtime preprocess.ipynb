{
 "cells": [
  {
   "cell_type": "code",
   "execution_count": 1,
   "id": "21439b72",
   "metadata": {},
   "outputs": [],
   "source": [
    "%load_ext autoreload\n",
    "%autoreload 2"
   ]
  },
  {
   "cell_type": "code",
   "execution_count": 2,
   "id": "974eaf7e",
   "metadata": {},
   "outputs": [],
   "source": [
    "%matplotlib notebook\n",
    "\n",
    "import numpy as np\n",
    "import matplotlib.pyplot as plt"
   ]
  },
  {
   "cell_type": "code",
   "execution_count": 120,
   "id": "82868111",
   "metadata": {},
   "outputs": [],
   "source": [
    "from craco.preprocess import fast_preprpocess"
   ]
  },
  {
   "cell_type": "code",
   "execution_count": 121,
   "id": "a5ea3c7c",
   "metadata": {},
   "outputs": [],
   "source": [
    "from craft import uvfits, craco_plan\n",
    "from craco import uvfits_meta, calibration"
   ]
  },
  {
   "cell_type": "code",
   "execution_count": 122,
   "id": "987853cd",
   "metadata": {},
   "outputs": [],
   "source": [
    "fname = \"/data/craco/gup037/DATA/SB057841/DATA/DATA_01/craco/SB057841/scans/00/20240121205332/b00.uvfits\"\n",
    "meta_name = \"/data/craco/gup037/DATA/SB057841/SB057841/SB57841.json.gz\"\n",
    "calname = \"/data/craco/gup037/DATA/SB057841/SB057841/cal/00/b00.aver.4pol.smooth.npy\""
   ]
  },
  {
   "cell_type": "code",
   "execution_count": 123,
   "id": "888f2306",
   "metadata": {},
   "outputs": [],
   "source": [
    "values = craco_plan.get_parser().parse_args([\"--flag-ants\", \"12,15,20,30\", \"--calibration\", calname])"
   ]
  },
  {
   "cell_type": "code",
   "execution_count": 124,
   "id": "53465333",
   "metadata": {},
   "outputs": [
    {
     "data": {
      "text/plain": [
       "(325, 1, 1, 1, 288, 1, 256)"
      ]
     },
     "execution_count": 124,
     "metadata": {},
     "output_type": "execute_result"
    }
   ],
   "source": [
    "f = uvfits_meta.open(fname, metadata_file = meta_name)\n",
    "f.set_flagants(values.flag_ants)\n",
    "block0, uvws0 = next(f.fast_time_blocks(nt = 256))\n",
    "block0.shape"
   ]
  },
  {
   "cell_type": "code",
   "execution_count": 125,
   "id": "cfda2b18",
   "metadata": {},
   "outputs": [
    {
     "name": "stderr",
     "output_type": "stream",
     "text": [
      "/home/gup037/Codes/craft/src/craft/craco_plan.py:237: UserWarning: Cannot grid things on U=0 or V=0 blid=258.0 1-2 uvpix=(1, 0)\n",
      "  warnings.warn(f'Cannot grid things on U=0 or V=0 blid={blid} {a1}-{a2} uvpix={uvpix}')\n",
      "/home/gup037/Codes/craft/src/craft/craco_plan.py:237: UserWarning: Cannot grid things on U=0 or V=0 blid=258.0 1-2 uvpix=(2, 0)\n",
      "  warnings.warn(f'Cannot grid things on U=0 or V=0 blid={blid} {a1}-{a2} uvpix={uvpix}')\n",
      "/home/gup037/Codes/craft/src/craft/craco_plan.py:237: UserWarning: Cannot grid things on U=0 or V=0 blid=515.0 2-3 uvpix=(0, 255)\n",
      "  warnings.warn(f'Cannot grid things on U=0 or V=0 blid={blid} {a1}-{a2} uvpix={uvpix}')\n",
      "/home/gup037/Codes/craft/src/craft/craco_plan.py:237: UserWarning: Cannot grid things on U=0 or V=0 blid=526.0 2-14 uvpix=(0, 19)\n",
      "  warnings.warn(f'Cannot grid things on U=0 or V=0 blid={blid} {a1}-{a2} uvpix={uvpix}')\n",
      "/home/gup037/Codes/craft/src/craft/craco_plan.py:237: UserWarning: Cannot grid things on U=0 or V=0 blid=526.0 2-14 uvpix=(0, 20)\n",
      "  warnings.warn(f'Cannot grid things on U=0 or V=0 blid={blid} {a1}-{a2} uvpix={uvpix}')\n",
      "/home/gup037/Codes/craft/src/craft/craco_plan.py:237: UserWarning: Cannot grid things on U=0 or V=0 blid=526.0 2-14 uvpix=(0, 21)\n",
      "  warnings.warn(f'Cannot grid things on U=0 or V=0 blid={blid} {a1}-{a2} uvpix={uvpix}')\n",
      "/home/gup037/Codes/craft/src/craft/craco_plan.py:237: UserWarning: Cannot grid things on U=0 or V=0 blid=526.0 2-14 uvpix=(0, 22)\n",
      "  warnings.warn(f'Cannot grid things on U=0 or V=0 blid={blid} {a1}-{a2} uvpix={uvpix}')\n",
      "/home/gup037/Codes/craft/src/craft/craco_plan.py:237: UserWarning: Cannot grid things on U=0 or V=0 blid=526.0 2-14 uvpix=(0, 23)\n",
      "  warnings.warn(f'Cannot grid things on U=0 or V=0 blid={blid} {a1}-{a2} uvpix={uvpix}')\n",
      "/home/gup037/Codes/craft/src/craft/craco_plan.py:237: UserWarning: Cannot grid things on U=0 or V=0 blid=526.0 2-14 uvpix=(0, 24)\n",
      "  warnings.warn(f'Cannot grid things on U=0 or V=0 blid={blid} {a1}-{a2} uvpix={uvpix}')\n",
      "/home/gup037/Codes/craft/src/craft/craco_plan.py:237: UserWarning: Cannot grid things on U=0 or V=0 blid=526.0 2-14 uvpix=(0, 25)\n",
      "  warnings.warn(f'Cannot grid things on U=0 or V=0 blid={blid} {a1}-{a2} uvpix={uvpix}')\n",
      "/home/gup037/Codes/craft/src/craft/craco_plan.py:237: UserWarning: Cannot grid things on U=0 or V=0 blid=773.0 3-5 uvpix=(251, 0)\n",
      "  warnings.warn(f'Cannot grid things on U=0 or V=0 blid={blid} {a1}-{a2} uvpix={uvpix}')\n",
      "/home/gup037/Codes/craft/src/craft/craco_plan.py:237: UserWarning: Cannot grid things on U=0 or V=0 blid=773.0 3-5 uvpix=(250, 0)\n",
      "  warnings.warn(f'Cannot grid things on U=0 or V=0 blid={blid} {a1}-{a2} uvpix={uvpix}')\n",
      "/home/gup037/Codes/craft/src/craft/craco_plan.py:237: UserWarning: Cannot grid things on U=0 or V=0 blid=773.0 3-5 uvpix=(249, 0)\n",
      "  warnings.warn(f'Cannot grid things on U=0 or V=0 blid={blid} {a1}-{a2} uvpix={uvpix}')\n",
      "/home/gup037/Codes/craft/src/craft/craco_plan.py:237: UserWarning: Cannot grid things on U=0 or V=0 blid=782.0 3-14 uvpix=(0, 19)\n",
      "  warnings.warn(f'Cannot grid things on U=0 or V=0 blid={blid} {a1}-{a2} uvpix={uvpix}')\n",
      "/home/gup037/Codes/craft/src/craft/craco_plan.py:237: UserWarning: Cannot grid things on U=0 or V=0 blid=782.0 3-14 uvpix=(0, 20)\n",
      "  warnings.warn(f'Cannot grid things on U=0 or V=0 blid={blid} {a1}-{a2} uvpix={uvpix}')\n",
      "/home/gup037/Codes/craft/src/craft/craco_plan.py:237: UserWarning: Cannot grid things on U=0 or V=0 blid=1032.0 4-8 uvpix=(0, 11)\n",
      "  warnings.warn(f'Cannot grid things on U=0 or V=0 blid={blid} {a1}-{a2} uvpix={uvpix}')\n",
      "/home/gup037/Codes/craft/src/craft/craco_plan.py:237: UserWarning: Cannot grid things on U=0 or V=0 blid=1032.0 4-8 uvpix=(0, 12)\n",
      "  warnings.warn(f'Cannot grid things on U=0 or V=0 blid={blid} {a1}-{a2} uvpix={uvpix}')\n",
      "/home/gup037/Codes/craft/src/craft/craco_plan.py:237: UserWarning: Cannot grid things on U=0 or V=0 blid=1032.0 4-8 uvpix=(0, 13)\n",
      "  warnings.warn(f'Cannot grid things on U=0 or V=0 blid={blid} {a1}-{a2} uvpix={uvpix}')\n",
      "/home/gup037/Codes/craft/src/craft/craco_plan.py:237: UserWarning: Cannot grid things on U=0 or V=0 blid=1032.0 4-8 uvpix=(0, 14)\n",
      "  warnings.warn(f'Cannot grid things on U=0 or V=0 blid={blid} {a1}-{a2} uvpix={uvpix}')\n",
      "/home/gup037/Codes/craft/src/craft/craco_plan.py:237: UserWarning: Cannot grid things on U=0 or V=0 blid=1032.0 4-8 uvpix=(0, 15)\n",
      "  warnings.warn(f'Cannot grid things on U=0 or V=0 blid={blid} {a1}-{a2} uvpix={uvpix}')\n",
      "/home/gup037/Codes/craft/src/craft/craco_plan.py:237: UserWarning: Cannot grid things on U=0 or V=0 blid=1564.0 6-28 uvpix=(0, 211)\n",
      "  warnings.warn(f'Cannot grid things on U=0 or V=0 blid={blid} {a1}-{a2} uvpix={uvpix}')\n",
      "/home/gup037/Codes/craft/src/craft/craco_plan.py:237: UserWarning: Cannot grid things on U=0 or V=0 blid=1564.0 6-28 uvpix=(0, 210)\n",
      "  warnings.warn(f'Cannot grid things on U=0 or V=0 blid={blid} {a1}-{a2} uvpix={uvpix}')\n",
      "/home/gup037/Codes/craft/src/craft/craco_plan.py:237: UserWarning: Cannot grid things on U=0 or V=0 blid=1564.0 6-28 uvpix=(0, 209)\n",
      "  warnings.warn(f'Cannot grid things on U=0 or V=0 blid={blid} {a1}-{a2} uvpix={uvpix}')\n",
      "/home/gup037/Codes/craft/src/craft/craco_plan.py:237: UserWarning: Cannot grid things on U=0 or V=0 blid=1564.0 6-28 uvpix=(0, 208)\n",
      "  warnings.warn(f'Cannot grid things on U=0 or V=0 blid={blid} {a1}-{a2} uvpix={uvpix}')\n",
      "/home/gup037/Codes/craft/src/craft/craco_plan.py:237: UserWarning: Cannot grid things on U=0 or V=0 blid=1564.0 6-28 uvpix=(0, 207)\n",
      "  warnings.warn(f'Cannot grid things on U=0 or V=0 blid={blid} {a1}-{a2} uvpix={uvpix}')\n",
      "/home/gup037/Codes/craft/src/craft/craco_plan.py:237: UserWarning: Cannot grid things on U=0 or V=0 blid=1564.0 6-28 uvpix=(0, 206)\n",
      "  warnings.warn(f'Cannot grid things on U=0 or V=0 blid={blid} {a1}-{a2} uvpix={uvpix}')\n",
      "/home/gup037/Codes/craft/src/craft/craco_plan.py:237: UserWarning: Cannot grid things on U=0 or V=0 blid=1564.0 6-28 uvpix=(0, 205)\n",
      "  warnings.warn(f'Cannot grid things on U=0 or V=0 blid={blid} {a1}-{a2} uvpix={uvpix}')\n",
      "/home/gup037/Codes/craft/src/craft/craco_plan.py:237: UserWarning: Cannot grid things on U=0 or V=0 blid=1564.0 6-28 uvpix=(0, 204)\n",
      "  warnings.warn(f'Cannot grid things on U=0 or V=0 blid={blid} {a1}-{a2} uvpix={uvpix}')\n",
      "/home/gup037/Codes/craft/src/craft/craco_plan.py:237: UserWarning: Cannot grid things on U=0 or V=0 blid=1564.0 6-28 uvpix=(0, 203)\n",
      "  warnings.warn(f'Cannot grid things on U=0 or V=0 blid={blid} {a1}-{a2} uvpix={uvpix}')\n",
      "/home/gup037/Codes/craft/src/craft/craco_plan.py:237: UserWarning: Cannot grid things on U=0 or V=0 blid=1564.0 6-28 uvpix=(0, 202)\n",
      "  warnings.warn(f'Cannot grid things on U=0 or V=0 blid={blid} {a1}-{a2} uvpix={uvpix}')\n",
      "/home/gup037/Codes/craft/src/craft/craco_plan.py:237: UserWarning: Cannot grid things on U=0 or V=0 blid=1564.0 6-28 uvpix=(0, 201)\n",
      "  warnings.warn(f'Cannot grid things on U=0 or V=0 blid={blid} {a1}-{a2} uvpix={uvpix}')\n",
      "/home/gup037/Codes/craft/src/craft/craco_plan.py:237: UserWarning: Cannot grid things on U=0 or V=0 blid=1564.0 6-28 uvpix=(0, 200)\n",
      "  warnings.warn(f'Cannot grid things on U=0 or V=0 blid={blid} {a1}-{a2} uvpix={uvpix}')\n",
      "/home/gup037/Codes/craft/src/craft/craco_plan.py:237: UserWarning: Cannot grid things on U=0 or V=0 blid=1564.0 6-28 uvpix=(0, 199)\n",
      "  warnings.warn(f'Cannot grid things on U=0 or V=0 blid={blid} {a1}-{a2} uvpix={uvpix}')\n",
      "/home/gup037/Codes/craft/src/craft/craco_plan.py:237: UserWarning: Cannot grid things on U=0 or V=0 blid=1564.0 6-28 uvpix=(0, 198)\n",
      "  warnings.warn(f'Cannot grid things on U=0 or V=0 blid={blid} {a1}-{a2} uvpix={uvpix}')\n",
      "/home/gup037/Codes/craft/src/craft/craco_plan.py:237: UserWarning: Cannot grid things on U=0 or V=0 blid=1564.0 6-28 uvpix=(0, 197)\n",
      "  warnings.warn(f'Cannot grid things on U=0 or V=0 blid={blid} {a1}-{a2} uvpix={uvpix}')\n",
      "/home/gup037/Codes/craft/src/craft/craco_plan.py:237: UserWarning: Cannot grid things on U=0 or V=0 blid=1564.0 6-28 uvpix=(0, 196)\n",
      "  warnings.warn(f'Cannot grid things on U=0 or V=0 blid={blid} {a1}-{a2} uvpix={uvpix}')\n",
      "/home/gup037/Codes/craft/src/craft/craco_plan.py:237: UserWarning: Cannot grid things on U=0 or V=0 blid=1564.0 6-28 uvpix=(0, 195)\n",
      "  warnings.warn(f'Cannot grid things on U=0 or V=0 blid={blid} {a1}-{a2} uvpix={uvpix}')\n",
      "/home/gup037/Codes/craft/src/craft/craco_plan.py:237: UserWarning: Cannot grid things on U=0 or V=0 blid=3357.0 13-29 uvpix=(0, 210)\n",
      "  warnings.warn(f'Cannot grid things on U=0 or V=0 blid={blid} {a1}-{a2} uvpix={uvpix}')\n",
      "/home/gup037/Codes/craft/src/craft/craco_plan.py:237: UserWarning: Cannot grid things on U=0 or V=0 blid=3357.0 13-29 uvpix=(0, 209)\n",
      "  warnings.warn(f'Cannot grid things on U=0 or V=0 blid={blid} {a1}-{a2} uvpix={uvpix}')\n",
      "/home/gup037/Codes/craft/src/craft/craco_plan.py:237: UserWarning: Cannot grid things on U=0 or V=0 blid=3357.0 13-29 uvpix=(0, 208)\n",
      "  warnings.warn(f'Cannot grid things on U=0 or V=0 blid={blid} {a1}-{a2} uvpix={uvpix}')\n",
      "/home/gup037/Codes/craft/src/craft/craco_plan.py:237: UserWarning: Cannot grid things on U=0 or V=0 blid=3357.0 13-29 uvpix=(0, 207)\n",
      "  warnings.warn(f'Cannot grid things on U=0 or V=0 blid={blid} {a1}-{a2} uvpix={uvpix}')\n",
      "/home/gup037/Codes/craft/src/craft/craco_plan.py:237: UserWarning: Cannot grid things on U=0 or V=0 blid=3357.0 13-29 uvpix=(0, 206)\n",
      "  warnings.warn(f'Cannot grid things on U=0 or V=0 blid={blid} {a1}-{a2} uvpix={uvpix}')\n",
      "/home/gup037/Codes/craft/src/craft/craco_plan.py:237: UserWarning: Cannot grid things on U=0 or V=0 blid=3357.0 13-29 uvpix=(0, 205)\n",
      "  warnings.warn(f'Cannot grid things on U=0 or V=0 blid={blid} {a1}-{a2} uvpix={uvpix}')\n",
      "/home/gup037/Codes/craft/src/craft/craco_plan.py:237: UserWarning: Cannot grid things on U=0 or V=0 blid=3357.0 13-29 uvpix=(0, 204)\n",
      "  warnings.warn(f'Cannot grid things on U=0 or V=0 blid={blid} {a1}-{a2} uvpix={uvpix}')\n",
      "/home/gup037/Codes/craft/src/craft/craco_plan.py:237: UserWarning: Cannot grid things on U=0 or V=0 blid=3357.0 13-29 uvpix=(0, 203)\n",
      "  warnings.warn(f'Cannot grid things on U=0 or V=0 blid={blid} {a1}-{a2} uvpix={uvpix}')\n",
      "/home/gup037/Codes/craft/src/craft/craco_plan.py:237: UserWarning: Cannot grid things on U=0 or V=0 blid=3357.0 13-29 uvpix=(0, 202)\n",
      "  warnings.warn(f'Cannot grid things on U=0 or V=0 blid={blid} {a1}-{a2} uvpix={uvpix}')\n",
      "/home/gup037/Codes/craft/src/craft/craco_plan.py:237: UserWarning: Cannot grid things on U=0 or V=0 blid=3357.0 13-29 uvpix=(0, 201)\n",
      "  warnings.warn(f'Cannot grid things on U=0 or V=0 blid={blid} {a1}-{a2} uvpix={uvpix}')\n",
      "/home/gup037/Codes/craft/src/craft/craco_plan.py:237: UserWarning: Cannot grid things on U=0 or V=0 blid=3357.0 13-29 uvpix=(0, 200)\n",
      "  warnings.warn(f'Cannot grid things on U=0 or V=0 blid={blid} {a1}-{a2} uvpix={uvpix}')\n",
      "/home/gup037/Codes/craft/src/craft/craco_plan.py:237: UserWarning: Cannot grid things on U=0 or V=0 blid=3357.0 13-29 uvpix=(0, 199)\n",
      "  warnings.warn(f'Cannot grid things on U=0 or V=0 blid={blid} {a1}-{a2} uvpix={uvpix}')\n",
      "/home/gup037/Codes/craft/src/craft/craco_plan.py:237: UserWarning: Cannot grid things on U=0 or V=0 blid=3357.0 13-29 uvpix=(0, 198)\n",
      "  warnings.warn(f'Cannot grid things on U=0 or V=0 blid={blid} {a1}-{a2} uvpix={uvpix}')\n",
      "/home/gup037/Codes/craft/src/craft/craco_plan.py:237: UserWarning: Cannot grid things on U=0 or V=0 blid=3357.0 13-29 uvpix=(0, 197)\n",
      "  warnings.warn(f'Cannot grid things on U=0 or V=0 blid={blid} {a1}-{a2} uvpix={uvpix}')\n",
      "/home/gup037/Codes/craft/src/craft/craco_plan.py:237: UserWarning: Cannot grid things on U=0 or V=0 blid=4121.0 16-25 uvpix=(0, 244)\n",
      "  warnings.warn(f'Cannot grid things on U=0 or V=0 blid={blid} {a1}-{a2} uvpix={uvpix}')\n",
      "/home/gup037/Codes/craft/src/craft/craco_plan.py:237: UserWarning: Cannot grid things on U=0 or V=0 blid=4121.0 16-25 uvpix=(0, 243)\n",
      "  warnings.warn(f'Cannot grid things on U=0 or V=0 blid={blid} {a1}-{a2} uvpix={uvpix}')\n",
      "/home/gup037/Codes/craft/src/craft/craco_plan.py:237: UserWarning: Cannot grid things on U=0 or V=0 blid=4121.0 16-25 uvpix=(0, 242)\n",
      "  warnings.warn(f'Cannot grid things on U=0 or V=0 blid={blid} {a1}-{a2} uvpix={uvpix}')\n",
      "/home/gup037/Codes/craft/src/craft/craco_plan.py:237: UserWarning: Cannot grid things on U=0 or V=0 blid=4121.0 16-25 uvpix=(0, 241)\n",
      "  warnings.warn(f'Cannot grid things on U=0 or V=0 blid={blid} {a1}-{a2} uvpix={uvpix}')\n",
      "/home/gup037/Codes/craft/src/craft/craco_plan.py:237: UserWarning: Cannot grid things on U=0 or V=0 blid=4886.0 19-22 uvpix=(29, 0)\n",
      "  warnings.warn(f'Cannot grid things on U=0 or V=0 blid={blid} {a1}-{a2} uvpix={uvpix}')\n",
      "/home/gup037/Codes/craft/src/craft/craco_plan.py:237: UserWarning: Cannot grid things on U=0 or V=0 blid=4886.0 19-22 uvpix=(30, 0)\n",
      "  warnings.warn(f'Cannot grid things on U=0 or V=0 blid={blid} {a1}-{a2} uvpix={uvpix}')\n",
      "/home/gup037/Codes/craft/src/craft/craco_plan.py:237: UserWarning: Cannot grid things on U=0 or V=0 blid=4886.0 19-22 uvpix=(31, 0)\n",
      "  warnings.warn(f'Cannot grid things on U=0 or V=0 blid={blid} {a1}-{a2} uvpix={uvpix}')\n",
      "/home/gup037/Codes/craft/src/craft/craco_plan.py:237: UserWarning: Cannot grid things on U=0 or V=0 blid=4886.0 19-22 uvpix=(32, 0)\n",
      "  warnings.warn(f'Cannot grid things on U=0 or V=0 blid={blid} {a1}-{a2} uvpix={uvpix}')\n",
      "/home/gup037/Codes/craft/src/craft/craco_plan.py:237: UserWarning: Cannot grid things on U=0 or V=0 blid=4889.0 19-25 uvpix=(218, 0)\n",
      "  warnings.warn(f'Cannot grid things on U=0 or V=0 blid={blid} {a1}-{a2} uvpix={uvpix}')\n",
      "/home/gup037/Codes/craft/src/craft/craco_plan.py:237: UserWarning: Cannot grid things on U=0 or V=0 blid=4889.0 19-25 uvpix=(217, 0)\n",
      "  warnings.warn(f'Cannot grid things on U=0 or V=0 blid={blid} {a1}-{a2} uvpix={uvpix}')\n",
      "/home/gup037/Codes/craft/src/craft/craco_plan.py:237: UserWarning: Cannot grid things on U=0 or V=0 blid=4889.0 19-25 uvpix=(216, 0)\n",
      "  warnings.warn(f'Cannot grid things on U=0 or V=0 blid={blid} {a1}-{a2} uvpix={uvpix}')\n",
      "/home/gup037/Codes/craft/src/craft/craco_plan.py:237: UserWarning: Cannot grid things on U=0 or V=0 blid=4889.0 19-25 uvpix=(215, 0)\n",
      "  warnings.warn(f'Cannot grid things on U=0 or V=0 blid={blid} {a1}-{a2} uvpix={uvpix}')\n",
      "/home/gup037/Codes/craft/src/craft/craco_plan.py:237: UserWarning: Cannot grid things on U=0 or V=0 blid=4889.0 19-25 uvpix=(214, 0)\n",
      "  warnings.warn(f'Cannot grid things on U=0 or V=0 blid={blid} {a1}-{a2} uvpix={uvpix}')\n",
      "/home/gup037/Codes/craft/src/craft/craco_plan.py:237: UserWarning: Cannot grid things on U=0 or V=0 blid=4889.0 19-25 uvpix=(213, 0)\n",
      "  warnings.warn(f'Cannot grid things on U=0 or V=0 blid={blid} {a1}-{a2} uvpix={uvpix}')\n",
      "/home/gup037/Codes/craft/src/craft/craco_plan.py:237: UserWarning: Cannot grid things on U=0 or V=0 blid=4889.0 19-25 uvpix=(212, 0)\n",
      "  warnings.warn(f'Cannot grid things on U=0 or V=0 blid={blid} {a1}-{a2} uvpix={uvpix}')\n",
      "/home/gup037/Codes/craft/src/craft/craco_plan.py:237: UserWarning: Cannot grid things on U=0 or V=0 blid=4889.0 19-25 uvpix=(211, 0)\n",
      "  warnings.warn(f'Cannot grid things on U=0 or V=0 blid={blid} {a1}-{a2} uvpix={uvpix}')\n",
      "/home/gup037/Codes/craft/src/craft/craco_plan.py:237: UserWarning: Cannot grid things on U=0 or V=0 blid=4889.0 19-25 uvpix=(210, 0)\n",
      "  warnings.warn(f'Cannot grid things on U=0 or V=0 blid={blid} {a1}-{a2} uvpix={uvpix}')\n",
      "/home/gup037/Codes/craft/src/craft/craco_plan.py:237: UserWarning: Cannot grid things on U=0 or V=0 blid=4889.0 19-25 uvpix=(209, 0)\n",
      "  warnings.warn(f'Cannot grid things on U=0 or V=0 blid={blid} {a1}-{a2} uvpix={uvpix}')\n",
      "/home/gup037/Codes/craft/src/craft/craco_plan.py:237: UserWarning: Cannot grid things on U=0 or V=0 blid=4889.0 19-25 uvpix=(208, 0)\n",
      "  warnings.warn(f'Cannot grid things on U=0 or V=0 blid={blid} {a1}-{a2} uvpix={uvpix}')\n",
      "/home/gup037/Codes/craft/src/craft/craco_plan.py:237: UserWarning: Cannot grid things on U=0 or V=0 blid=4889.0 19-25 uvpix=(207, 0)\n",
      "  warnings.warn(f'Cannot grid things on U=0 or V=0 blid={blid} {a1}-{a2} uvpix={uvpix}')\n",
      "/home/gup037/Codes/craft/src/craft/craco_plan.py:237: UserWarning: Cannot grid things on U=0 or V=0 blid=4889.0 19-25 uvpix=(206, 0)\n",
      "  warnings.warn(f'Cannot grid things on U=0 or V=0 blid={blid} {a1}-{a2} uvpix={uvpix}')\n",
      "/home/gup037/Codes/craft/src/craft/craco_plan.py:237: UserWarning: Cannot grid things on U=0 or V=0 blid=4889.0 19-25 uvpix=(205, 0)\n",
      "  warnings.warn(f'Cannot grid things on U=0 or V=0 blid={blid} {a1}-{a2} uvpix={uvpix}')\n",
      "/home/gup037/Codes/craft/src/craft/craco_plan.py:237: UserWarning: Cannot grid things on U=0 or V=0 blid=4889.0 19-25 uvpix=(204, 0)\n",
      "  warnings.warn(f'Cannot grid things on U=0 or V=0 blid={blid} {a1}-{a2} uvpix={uvpix}')\n",
      "/home/gup037/Codes/craft/src/craft/craco_plan.py:237: UserWarning: Cannot grid things on U=0 or V=0 blid=5657.0 22-25 uvpix=(188, 0)\n",
      "  warnings.warn(f'Cannot grid things on U=0 or V=0 blid={blid} {a1}-{a2} uvpix={uvpix}')\n",
      "/home/gup037/Codes/craft/src/craft/craco_plan.py:237: UserWarning: Cannot grid things on U=0 or V=0 blid=5657.0 22-25 uvpix=(187, 0)\n",
      "  warnings.warn(f'Cannot grid things on U=0 or V=0 blid={blid} {a1}-{a2} uvpix={uvpix}')\n",
      "/home/gup037/Codes/craft/src/craft/craco_plan.py:237: UserWarning: Cannot grid things on U=0 or V=0 blid=5657.0 22-25 uvpix=(186, 0)\n",
      "  warnings.warn(f'Cannot grid things on U=0 or V=0 blid={blid} {a1}-{a2} uvpix={uvpix}')\n",
      "/home/gup037/Codes/craft/src/craft/craco_plan.py:237: UserWarning: Cannot grid things on U=0 or V=0 blid=5657.0 22-25 uvpix=(185, 0)\n",
      "  warnings.warn(f'Cannot grid things on U=0 or V=0 blid={blid} {a1}-{a2} uvpix={uvpix}')\n",
      "/home/gup037/Codes/craft/src/craft/craco_plan.py:237: UserWarning: Cannot grid things on U=0 or V=0 blid=5657.0 22-25 uvpix=(184, 0)\n",
      "  warnings.warn(f'Cannot grid things on U=0 or V=0 blid={blid} {a1}-{a2} uvpix={uvpix}')\n",
      "/home/gup037/Codes/craft/src/craft/craco_plan.py:237: UserWarning: Cannot grid things on U=0 or V=0 blid=5657.0 22-25 uvpix=(183, 0)\n",
      "  warnings.warn(f'Cannot grid things on U=0 or V=0 blid={blid} {a1}-{a2} uvpix={uvpix}')\n",
      "/home/gup037/Codes/craft/src/craft/craco_plan.py:237: UserWarning: Cannot grid things on U=0 or V=0 blid=5657.0 22-25 uvpix=(182, 0)\n",
      "  warnings.warn(f'Cannot grid things on U=0 or V=0 blid={blid} {a1}-{a2} uvpix={uvpix}')\n",
      "/home/gup037/Codes/craft/src/craft/craco_plan.py:237: UserWarning: Cannot grid things on U=0 or V=0 blid=5657.0 22-25 uvpix=(181, 0)\n",
      "  warnings.warn(f'Cannot grid things on U=0 or V=0 blid={blid} {a1}-{a2} uvpix={uvpix}')\n",
      "/home/gup037/Codes/craft/src/craft/craco_plan.py:237: UserWarning: Cannot grid things on U=0 or V=0 blid=5657.0 22-25 uvpix=(180, 0)\n",
      "  warnings.warn(f'Cannot grid things on U=0 or V=0 blid={blid} {a1}-{a2} uvpix={uvpix}')\n",
      "/home/gup037/Codes/craft/src/craft/craco_plan.py:237: UserWarning: Cannot grid things on U=0 or V=0 blid=5657.0 22-25 uvpix=(179, 0)\n",
      "  warnings.warn(f'Cannot grid things on U=0 or V=0 blid={blid} {a1}-{a2} uvpix={uvpix}')\n",
      "/home/gup037/Codes/craft/src/craft/craco_plan.py:237: UserWarning: Cannot grid things on U=0 or V=0 blid=5657.0 22-25 uvpix=(178, 0)\n",
      "  warnings.warn(f'Cannot grid things on U=0 or V=0 blid={blid} {a1}-{a2} uvpix={uvpix}')\n",
      "/home/gup037/Codes/craft/src/craft/craco_plan.py:237: UserWarning: Cannot grid things on U=0 or V=0 blid=5657.0 22-25 uvpix=(177, 0)\n",
      "  warnings.warn(f'Cannot grid things on U=0 or V=0 blid={blid} {a1}-{a2} uvpix={uvpix}')\n",
      "/home/gup037/Codes/craft/src/craft/craco_plan.py:237: UserWarning: Cannot grid things on U=0 or V=0 blid=5657.0 22-25 uvpix=(176, 0)\n",
      "  warnings.warn(f'Cannot grid things on U=0 or V=0 blid={blid} {a1}-{a2} uvpix={uvpix}')\n",
      "/home/gup037/Codes/craft/src/craft/craco_plan.py:237: UserWarning: Cannot grid things on U=0 or V=0 blid=5657.0 22-25 uvpix=(175, 0)\n",
      "  warnings.warn(f'Cannot grid things on U=0 or V=0 blid={blid} {a1}-{a2} uvpix={uvpix}')\n",
      "/home/gup037/Codes/craft/src/craft/craco_plan.py:237: UserWarning: Cannot grid things on U=0 or V=0 blid=5657.0 22-25 uvpix=(174, 0)\n",
      "  warnings.warn(f'Cannot grid things on U=0 or V=0 blid={blid} {a1}-{a2} uvpix={uvpix}')\n",
      "/home/gup037/Codes/craft/src/craft/craco_plan.py:237: UserWarning: Cannot grid things on U=0 or V=0 blid=5657.0 22-25 uvpix=(173, 0)\n",
      "  warnings.warn(f'Cannot grid things on U=0 or V=0 blid={blid} {a1}-{a2} uvpix={uvpix}')\n",
      "/home/gup037/Codes/craft/src/craft/craco_plan.py:237: UserWarning: Cannot grid things on U=0 or V=0 blid=5657.0 22-25 uvpix=(172, 0)\n",
      "  warnings.warn(f'Cannot grid things on U=0 or V=0 blid={blid} {a1}-{a2} uvpix={uvpix}')\n",
      "/home/gup037/Codes/craft/src/craft/craco_plan.py:237: UserWarning: Cannot grid things on U=0 or V=0 blid=5657.0 22-25 uvpix=(171, 0)\n",
      "  warnings.warn(f'Cannot grid things on U=0 or V=0 blid={blid} {a1}-{a2} uvpix={uvpix}')\n",
      "/home/gup037/Codes/craft/src/craft/craco_plan.py:237: UserWarning: Cannot grid things on U=0 or V=0 blid=5657.0 22-25 uvpix=(170, 0)\n",
      "  warnings.warn(f'Cannot grid things on U=0 or V=0 blid={blid} {a1}-{a2} uvpix={uvpix}')\n",
      "/home/gup037/Codes/craft/src/craft/craco_plan.py:237: UserWarning: Cannot grid things on U=0 or V=0 blid=5657.0 22-25 uvpix=(169, 0)\n",
      "  warnings.warn(f'Cannot grid things on U=0 or V=0 blid={blid} {a1}-{a2} uvpix={uvpix}')\n",
      "/home/gup037/Codes/craft/src/craft/craco_plan.py:237: UserWarning: Cannot grid things on U=0 or V=0 blid=5657.0 22-25 uvpix=(168, 0)\n",
      "  warnings.warn(f'Cannot grid things on U=0 or V=0 blid={blid} {a1}-{a2} uvpix={uvpix}')\n",
      "/home/gup037/Codes/craft/src/craft/craco_plan.py:237: UserWarning: Cannot grid things on U=0 or V=0 blid=5657.0 22-25 uvpix=(167, 0)\n",
      "  warnings.warn(f'Cannot grid things on U=0 or V=0 blid={blid} {a1}-{a2} uvpix={uvpix}')\n",
      "/home/gup037/Codes/craft/src/craft/craco_plan.py:237: UserWarning: Cannot grid things on U=0 or V=0 blid=5657.0 22-25 uvpix=(166, 0)\n",
      "  warnings.warn(f'Cannot grid things on U=0 or V=0 blid={blid} {a1}-{a2} uvpix={uvpix}')\n",
      "/home/gup037/Codes/craft/src/craft/craco_plan.py:237: UserWarning: Cannot grid things on U=0 or V=0 blid=5657.0 22-25 uvpix=(165, 0)\n",
      "  warnings.warn(f'Cannot grid things on U=0 or V=0 blid={blid} {a1}-{a2} uvpix={uvpix}')\n",
      "/home/gup037/Codes/craft/src/craft/craco_plan.py:237: UserWarning: Cannot grid things on U=0 or V=0 blid=5657.0 22-25 uvpix=(164, 0)\n",
      "  warnings.warn(f'Cannot grid things on U=0 or V=0 blid={blid} {a1}-{a2} uvpix={uvpix}')\n"
     ]
    }
   ],
   "source": [
    "plan = craco_plan.PipelinePlan(f, values)\n",
    "calsoln = calibration.CalibrationSolution(plan)"
   ]
  },
  {
   "cell_type": "code",
   "execution_count": 126,
   "id": "1213f5a6",
   "metadata": {},
   "outputs": [],
   "source": [
    "input_block = block0.squeeze()[:, :, :block0.shape[-1]//1]\n",
    "input_data = input_block.data\n",
    "input_mask = input_block.mask\n",
    "\n",
    "nbl, nf, nt = input_block.shape\n",
    "isubblock = 0\n",
    "output_buf = np.zeros_like(input_data)\n",
    "#output_mask = np.zeros_like(input_mask)\n",
    "\n",
    "Ai = np.zeros((nbl, nf), dtype=np.complex64)\n",
    "Qi = np.zeros((nbl, nf), dtype=np.complex64)\n",
    "N = np.ones((nbl, nf), dtype=np.int16)\n",
    "\n",
    "cas = np.zeros((nf, nt), dtype=np.float64)\n",
    "crs = np.zeros((nf, nt), dtype=np.float64)\n",
    "cas_N = np.zeros((nf, nt), dtype=np.int16)\n",
    "\n",
    "cal= calsoln.solarray.mean(axis=2).squeeze()\n",
    "calsoln_data = cal.data\n",
    "calsoln_mask = cal.mask\n",
    "\n",
    "target_input_rms = None\n"
   ]
  },
  {
   "cell_type": "code",
   "execution_count": 127,
   "id": "4c6822dc",
   "metadata": {},
   "outputs": [],
   "source": [
    "#Computing cas and crs add 150ms of processing time per block (256 samples).\n",
    "#Computing just the crs(aka pcb) adds 50ms\n",
    "#Computing crs and cas adds 70ms (so 20ms extra from just crs/pcb)"
   ]
  },
  {
   "cell_type": "code",
   "execution_count": 128,
   "id": "67dab78d",
   "metadata": {},
   "outputs": [
    {
     "data": {
      "text/plain": [
       "(325, 288)"
      ]
     },
     "execution_count": 128,
     "metadata": {},
     "output_type": "execute_result"
    }
   ],
   "source": [
    "cal.shape"
   ]
  },
  {
   "cell_type": "code",
   "execution_count": 129,
   "id": "39906b15",
   "metadata": {},
   "outputs": [],
   "source": [
    "fast_preprpocess(input_block, input_mask, output_buf, isubblock, Ai, Qi, N, calsoln_data, calsoln_mask, cas, crs, cas_N, target_input_rms, reset_scales=True)"
   ]
  },
  {
   "cell_type": "code",
   "execution_count": 132,
   "id": "6a59518e",
   "metadata": {},
   "outputs": [
    {
     "name": "stdout",
     "output_type": "stream",
     "text": [
      "448 ms ± 2.77 ms per loop (mean ± std. dev. of 7 runs, 1 loop each)\n"
     ]
    }
   ],
   "source": [
    "%timeit fast_preprpocess(input_block, input_mask, output_buf, isubblock, Ai, Qi, N, calsoln_data, calsoln_mask, cas, crs, cas_N, target_input_rms, reset_scales=True)"
   ]
  },
  {
   "cell_type": "code",
   "execution_count": 92,
   "id": "f26ff208",
   "metadata": {},
   "outputs": [],
   "source": [
    "Qi_old = Qi.copy()"
   ]
  },
  {
   "cell_type": "code",
   "execution_count": 93,
   "id": "2d6cf4f7",
   "metadata": {},
   "outputs": [
    {
     "data": {
      "text/plain": [
       "array([[258, 258, 258, ..., 258, 258, 258],\n",
       "       [258, 258, 258, ..., 258, 258, 258],\n",
       "       [258, 258, 258, ..., 258, 258, 258],\n",
       "       ...,\n",
       "       [258, 258, 258, ..., 258, 258, 258],\n",
       "       [258, 258, 258, ..., 258, 258, 258],\n",
       "       [258, 258, 258, ..., 258, 258, 258]], dtype=int16)"
      ]
     },
     "execution_count": 93,
     "metadata": {},
     "output_type": "execute_result"
    }
   ],
   "source": [
    "N"
   ]
  },
  {
   "cell_type": "code",
   "execution_count": 32,
   "id": "0d6c6fb2",
   "metadata": {},
   "outputs": [
    {
     "data": {
      "text/plain": [
       "numpy.ma.core.MaskedArray"
      ]
     },
     "execution_count": 32,
     "metadata": {},
     "output_type": "execute_result"
    }
   ],
   "source": [
    "type(input_block)"
   ]
  },
  {
   "cell_type": "code",
   "execution_count": 33,
   "id": "ce4907ec",
   "metadata": {},
   "outputs": [
    {
     "data": {
      "text/plain": [
       "array([[[ 368.0417    -10.458313j ,  153.04167  -157.08333j  ,\n",
       "          -30.125    +161.41669j  , ..., -119.166664  -19.833336j ,\n",
       "         -163.875    -352.45834j  ,  353.6667    +29.916687j ],\n",
       "        [-132.375    +196.95834j  , -359.83334  -156.79167j  ,\n",
       "          182.66667  +226.625j    , ...,  606.5      +128.41667j  ,\n",
       "          262.5      -247.62502j  ,   98.79167  +180.04167j  ],\n",
       "        [  32.66667  +200.91667j  , -601.625    +303.5j      ,\n",
       "         -386.62503  -228.75003j  , ..., -183.58333  -718.3334j   ,\n",
       "         -383.        +68.04167j  ,  696.5      -393.83334j  ],\n",
       "        ...,\n",
       "        [-309.83334  -122.25j     , -326.83334  +355.83334j  ,\n",
       "           60.791668 +174.95834j  , ..., -140.41669  -131.41667j  ,\n",
       "         -231.58334   +35.875j    ,  215.25     -174.74998j  ],\n",
       "        [-393.58334  +507.66666j  ,  607.0833   -110.33333j  ,\n",
       "          -93.33334  -168.375j    , ...,    4.833336 +311.5417j   ,\n",
       "           99.04167  +392.7917j   , -247.33336   -43.583332j ],\n",
       "        [  79.04166  +317.08334j  , -224.37497  -159.79166j  ,\n",
       "          381.25     +204.625j    , ..., -493.70834  +234.00002j  ,\n",
       "          342.08334  +100.41667j  ,  105.54167  +120.375j    ]],\n",
       "\n",
       "       [[ -70.708374  +79.375j    ,  -41.958332 -280.125j    ,\n",
       "          348.6667   -227.79169j  , ...,  424.9167   +181.45834j  ,\n",
       "          133.75     -222.41666j  ,   45.04167  -127.708336j ],\n",
       "        [ 556.125    +337.5j      , -308.58334  -128.j       ,\n",
       "           22.166668  +90.04168j  , ...,   12.916672 -117.37503j  ,\n",
       "         -162.45833  -587.25j     ,  248.375    -287.58334j  ],\n",
       "        [ -83.00001   +73.499985j ,  460.0417   +420.1667j   ,\n",
       "         -311.20834  +470.j       , ..., -239.70834  -300.4583j   ,\n",
       "          362.125    -271.75j     ,   61.25     +179.5j      ],\n",
       "        ...,\n",
       "        [  63.791656 +245.37502j  ,  155.33334  -140.41666j  ,\n",
       "          389.25      +84.125j    , ..., -316.83334  +269.20834j  ,\n",
       "           -5.9166718+349.12503j  ,  -71.75001  +645.6667j   ],\n",
       "        [ 267.9167   -216.45834j  ,  108.041664  -98.29167j  ,\n",
       "          177.70834    -4.291666j , ..., -102.375    -438.58334j  ,\n",
       "         -155.45834  +148.04167j  ,  188.37502   -71.458336j ],\n",
       "        [-279.20834  +203.875j    , -695.4167    -19.25j     ,\n",
       "         -148.125    +284.2917j   , ...,   22.875    -364.1667j   ,\n",
       "         -132.41667  +113.083336j ,   30.041656 -288.375j    ]],\n",
       "\n",
       "       [[-809.8334   +137.91667j  ,  -22.249992 +145.58334j  ,\n",
       "         -163.04167  -220.75j     , ...,  327.79166  -113.125j    ,\n",
       "           72.04167   -14.j       ,  -74.749985 +431.83337j  ],\n",
       "        [-293.91666  -183.20834j  ,  254.79167   -96.00001j  ,\n",
       "          209.29166  -253.83333j  , ...,  154.79167   -38.583336j ,\n",
       "          505.625    +273.83334j  , -196.33334   +45.833336j ],\n",
       "        [-472.25003  -118.95831j  ,  281.16666  -451.j       ,\n",
       "         -117.41667   -88.75001j  , ..., -288.95834  -145.16667j  ,\n",
       "          -50.833336 +195.125j    ,   14.083351 +380.375j    ],\n",
       "        ...,\n",
       "        [ 159.20834  +155.125j    , -306.625    -163.45834j  ,\n",
       "         -290.75003   -46.916664j , ...,   76.91667  -605.9584j   ,\n",
       "         -391.75003  +125.29166j  ,   10.458336  -50.66667j  ],\n",
       "        [ 279.5833    -75.458336j ,  411.16666    +3.125j    ,\n",
       "         -232.95834  -107.91667j  , ..., -168.58334  -165.625j    ,\n",
       "           20.250004 -345.0417j   , -311.6667    -23.875j    ],\n",
       "        [ 139.91667  +241.87502j  ,   59.999992 -517.j       ,\n",
       "          350.33334   -31.916656j , ...,  231.91667  +293.125j    ,\n",
       "          -23.333344 -167.04169j  ,  217.79167  -534.125j    ]],\n",
       "\n",
       "       ...,\n",
       "\n",
       "       [[ 140.54167  -161.83333j  , -142.375    -844.4584j   ,\n",
       "          347.50003   -16.041672j , ...,    7.125    -178.70834j  ,\n",
       "         -124.708336 +190.45834j  , -178.00002  +121.375015j ],\n",
       "        [   2.4583435 +77.04166j  , -337.7083   +476.5417j   ,\n",
       "         -538.25006  -325.79166j  , ...,  166.91669  +204.25j     ,\n",
       "         -220.54169  -412.125j    ,  294.7917   +625.875j    ],\n",
       "        [ 481.1667   -339.58337j  ,  283.625    +386.45834j  ,\n",
       "          898.37506  +605.5834j   , ...,   54.708336 +759.0833j   ,\n",
       "         -279.5      +632.7084j   , -634.2084   -286.08334j  ],\n",
       "        ...,\n",
       "        [ 448.00003   +64.j       ,  425.83334  +272.83334j  ,\n",
       "         -253.45834  +276.50003j  , ..., -137.91666   +19.125006j ,\n",
       "         -288.9583   +497.25j     ,  162.45834  -740.6667j   ],\n",
       "        [-314.2917    -25.250004j , -172.875    +372.5417j   ,\n",
       "           17.250015  -82.04167j  , ..., -238.91666   +85.833336j ,\n",
       "         -121.958336  +47.541668j ,  233.79169  +329.0417j   ],\n",
       "        [-398.       +166.75j     , -148.70834   +38.916664j ,\n",
       "           27.75001  +105.83333j  , ..., -179.        +10.291672j ,\n",
       "         -169.58334  +467.08337j  ,  259.9167   -264.1667j   ]],\n",
       "\n",
       "       [[ 345.70834  +364.4167j   ,  317.125    -526.25j     ,\n",
       "          -12.791672 +385.95837j  , ...,  413.75     +300.4167j   ,\n",
       "          614.5834   -323.1667j   , -182.66669  +119.45834j  ],\n",
       "        [-598.375    -140.41667j  ,  201.08334  +616.5j      ,\n",
       "          -62.58334  -618.j       , ...,   90.16668  +419.25j     ,\n",
       "         -150.875     +84.708336j ,  204.83334  +187.91669j  ],\n",
       "        [   6.583332 -323.5j      , -281.75     -190.83334j  ,\n",
       "         -306.9583    +70.5j      , ...,  298.375    +361.33337j  ,\n",
       "         -424.08334   -19.95834j  , -433.625    -255.75j     ],\n",
       "        ...,\n",
       "        [ 150.58336  +230.125j    , -540.0417    -59.70833j  ,\n",
       "           44.45833  +401.58334j  , ..., -312.1667    +37.16666j  ,\n",
       "           69.458336 -549.0834j   ,  639.2083   -198.16667j  ],\n",
       "        [ 252.87503  -106.916664j ,   57.41667  -370.50003j  ,\n",
       "          240.41666   -53.291668j , ...,   75.33334  -133.75j     ,\n",
       "           26.666668 +176.16666j  ,  273.5      -297.375j    ],\n",
       "        [  88.58334  -248.95834j  ,  224.79169   -85.208336j ,\n",
       "          173.12502  +513.7917j   , ..., -521.5417    +46.625j    ,\n",
       "         -105.79167  +479.49997j  ,  308.1667     +3.7916641j]],\n",
       "\n",
       "       [[ 201.70834  -198.875j    ,  -48.33333  +532.2083j   ,\n",
       "          -22.833344 +227.j       , ...,   75.125    +410.70834j  ,\n",
       "         -178.41667  -308.9167j   , -329.5      -212.04167j  ],\n",
       "        [ 168.70834  +358.875j    ,  458.       -491.75j     ,\n",
       "          133.95834  -349.375j    , ..., -549.625     +34.75j     ,\n",
       "         -138.375    -400.70834j  , -116.37503  -146.08334j  ],\n",
       "        [ 127.625    -351.75j     , -290.2917   +429.20837j  ,\n",
       "          791.25     -566.5833j   , ...,  269.70834  -479.25j     ,\n",
       "           67.833336 +216.29169j  , -212.625    +147.58333j  ],\n",
       "        ...,\n",
       "        [  40.375    +297.20834j  , -261.       +573.75j     ,\n",
       "          211.75     -226.16667j  , ...,  393.125    -329.25003j  ,\n",
       "          199.70834  -114.91666j  ,  239.08336  -155.70834j  ],\n",
       "        [-415.83334  -503.54166j  , -270.58334    -5.4999847j,\n",
       "          -24.374992   -5.625j    , ...,  -70.375015   -6.083336j ,\n",
       "          154.45834  -228.83334j  ,   28.416672  +38.95833j  ],\n",
       "        [-462.20834   -62.58333j  ,  155.08334  -216.50002j  ,\n",
       "           61.91667  -192.58334j  , ..., -259.625    -117.66667j  ,\n",
       "          334.5417    +37.458344j ,  412.1667   -265.375j    ]]],\n",
       "      dtype=complex64)"
      ]
     },
     "execution_count": 33,
     "metadata": {},
     "output_type": "execute_result"
    }
   ],
   "source": [
    "input_block.data"
   ]
  },
  {
   "cell_type": "code",
   "execution_count": 34,
   "id": "7589e5c9",
   "metadata": {},
   "outputs": [
    {
     "data": {
      "text/plain": [
       "<memory at 0x7ff29ac625e8>"
      ]
     },
     "execution_count": 34,
     "metadata": {},
     "output_type": "execute_result"
    }
   ],
   "source": [
    "output_buf.data"
   ]
  },
  {
   "cell_type": "code",
   "execution_count": 16,
   "id": "0e897f60",
   "metadata": {},
   "outputs": [
    {
     "data": {
      "text/plain": [
       "(325, 288, 8)"
      ]
     },
     "execution_count": 16,
     "metadata": {},
     "output_type": "execute_result"
    }
   ],
   "source": [
    "output_buf.shape"
   ]
  },
  {
   "cell_type": "code",
   "execution_count": null,
   "id": "3d83e762",
   "metadata": {},
   "outputs": [],
   "source": []
  },
  {
   "cell_type": "code",
   "execution_count": null,
   "id": "f0dd7d52",
   "metadata": {},
   "outputs": [],
   "source": []
  },
  {
   "cell_type": "code",
   "execution_count": null,
   "id": "f4dc59ad",
   "metadata": {},
   "outputs": [],
   "source": []
  },
  {
   "cell_type": "code",
   "execution_count": null,
   "id": "5c5b9dec",
   "metadata": {},
   "outputs": [],
   "source": []
  }
 ],
 "metadata": {
  "kernelspec": {
   "display_name": "Python 3",
   "language": "python",
   "name": "python3"
  },
  "language_info": {
   "codemirror_mode": {
    "name": "ipython",
    "version": 3
   },
   "file_extension": ".py",
   "mimetype": "text/x-python",
   "name": "python",
   "nbconvert_exporter": "python",
   "pygments_lexer": "ipython3",
   "version": "3.6.13"
  }
 },
 "nbformat": 4,
 "nbformat_minor": 5
}
