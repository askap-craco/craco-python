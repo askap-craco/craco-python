{
 "cells": [
  {
   "cell_type": "markdown",
   "id": "fe28623d",
   "metadata": {},
   "source": [
    "\n",
    "Setup the lowest 36 prime numbers as the cross correlator inputs"
   ]
  },
  {
   "cell_type": "code",
   "execution_count": 1,
   "id": "621d84ac",
   "metadata": {},
   "outputs": [],
   "source": [
    "import glob\n",
    "from craco.cardcap import CardcapFile\n",
    "import numpy as np\n",
    "from astropy.io import fits\n",
    "from pylab import *\n",
    "import glob\n",
    "%matplotlib notebook\n",
    "\n"
   ]
  },
  {
   "cell_type": "code",
   "execution_count": 2,
   "id": "9c4df5ac",
   "metadata": {},
   "outputs": [
    {
     "name": "stdout",
     "output_type": "stream",
     "text": [
      "data/testdata-primes/old/test-debughdr-lsb0.fits\r\n",
      "data/testdata-primes/old/test-debughdr-lsb10.fits\r\n",
      "data/testdata-primes/old/test-debughdr-lsb11-card2.fits\r\n",
      "data/testdata-primes/old/test-debughdr-lsb11.fits\r\n",
      "data/testdata-primes/old/test-debughdr-lsb1.fits\r\n",
      "data/testdata-primes/old/test-debughdr-lsb2.fits\r\n",
      "data/testdata-primes/old/test-debughdr-lsb3.fits\r\n",
      "data/testdata-primes/old/test-debughdr-lsb4.fits\r\n",
      "data/testdata-primes/old/test-debughdr-lsb5.fits\r\n",
      "data/testdata-primes/old/test-debughdr-lsb6.fits\r\n",
      "data/testdata-primes/old/test-debughdr-lsb7.fits\r\n",
      "data/testdata-primes/old/test-debughdr-lsb8.fits\r\n",
      "data/testdata-primes/old/test-debughdr-lsb9.fits\r\n"
     ]
    }
   ],
   "source": [
    "!ls data/testdata-primes/old/*.fits"
   ]
  },
  {
   "cell_type": "code",
   "execution_count": 3,
   "id": "e6296fad",
   "metadata": {},
   "outputs": [
    {
     "name": "stdout",
     "output_type": "stream",
     "text": [
      "data/testdata-primes/old/test-debughdr-lsb0.fits\n",
      "[[0. 0. 0. 0.]\n",
      " [0. 0. 0. 0.]\n",
      " [0. 0. 0. 0.]\n",
      " [0. 0. 0. 0.]\n",
      " [0. 0. 0. 0.]\n",
      " [0. 0. 0. 0.]]\n",
      "data/testdata-primes/old/test-debughdr-lsb1.fits\n",
      "[[0. 0. 0. 0.]\n",
      " [0. 0. 0. 0.]\n",
      " [0. 0. 0. 0.]\n",
      " [0. 0. 0. 0.]\n",
      " [0. 0. 0. 0.]\n",
      " [0. 0. 0. 0.]]\n",
      "data/testdata-primes/old/test-debughdr-lsb2.fits\n",
      "[[0. 0. 0. 0.]\n",
      " [0. 0. 0. 0.]\n",
      " [0. 0. 0. 0.]\n",
      " [0. 0. 0. 0.]\n",
      " [0. 0. 0. 0.]\n",
      " [0. 0. 0. 0.]]\n",
      "data/testdata-primes/old/test-debughdr-lsb3.fits\n",
      "[[0. 0. 0. 0.]\n",
      " [0. 0. 0. 0.]\n",
      " [0. 0. 0. 0.]\n",
      " [0. 0. 0. 0.]\n",
      " [0. 0. 0. 0.]\n",
      " [0. 0. 0. 0.]]\n",
      "data/testdata-primes/old/test-debughdr-lsb4.fits\n",
      "[[0. 0. 0. 0.]\n",
      " [0. 0. 0. 0.]\n",
      " [0. 0. 0. 0.]\n",
      " [0. 0. 0. 0.]\n",
      " [0. 0. 0. 0.]\n",
      " [0. 0. 0. 0.]]\n",
      "data/testdata-primes/old/test-debughdr-lsb5.fits\n",
      "[[0. 0. 0. 0.]\n",
      " [0. 0. 0. 0.]\n",
      " [0. 0. 0. 0.]\n",
      " [0. 0. 0. 0.]\n",
      " [0. 0. 0. 0.]\n",
      " [0. 0. 0. 0.]]\n",
      "data/testdata-primes/old/test-debughdr-lsb6.fits\n",
      "[[0. 0. 0. 0.]\n",
      " [0. 0. 0. 0.]\n",
      " [0. 0. 0. 0.]\n",
      " [0. 0. 0. 0.]\n",
      " [0. 0. 0. 0.]\n",
      " [0. 0. 0. 0.]]\n",
      "data/testdata-primes/old/test-debughdr-lsb7.fits\n",
      "[[0. 0. 0. 0.]\n",
      " [0. 0. 0. 0.]\n",
      " [0. 0. 0. 0.]\n",
      " [0. 0. 0. 0.]\n",
      " [0. 0. 0. 0.]\n",
      " [0. 0. 0. 0.]]\n",
      "data/testdata-primes/old/test-debughdr-lsb8.fits\n",
      "[[0. 0. 0. 0.]\n",
      " [0. 0. 0. 0.]\n",
      " [0. 0. 0. 0.]\n",
      " [0. 0. 0. 0.]\n",
      " [0. 0. 0. 0.]\n",
      " [0. 0. 0. 0.]]\n",
      "data/testdata-primes/old/test-debughdr-lsb9.fits\n",
      "[[0. 0. 0. 0.]\n",
      " [0. 0. 0. 0.]\n",
      " [0. 0. 0. 0.]\n",
      " [0. 0. 0. 0.]\n",
      " [0. 0. 0. 0.]\n",
      " [0. 0. 0. 0.]]\n",
      "data/testdata-primes/old/test-debughdr-lsb10.fits\n",
      "[[0. 0. 0. 0.]\n",
      " [0. 0. 0. 0.]\n",
      " [0. 0. 0. 0.]\n",
      " [0. 0. 0. 0.]\n",
      " [0. 0. 0. 0.]\n",
      " [0. 0. 0. 0.]]\n",
      "data/testdata-primes/old/test-debughdr-lsb11.fits\n",
      "[[0. 0. 0. 0.]\n",
      " [0. 0. 0. 0.]\n",
      " [0. 0. 0. 0.]\n",
      " [0. 0. 0. 0.]\n",
      " [0. 0. 0. 0.]\n",
      " [0. 0. 0. 0.]]\n"
     ]
    }
   ],
   "source": [
    "d = []\n",
    "\n",
    "for lsb in range(12):\n",
    "    fname = f'data/testdata-primes/old/test-debughdr-lsb{lsb}.fits'\n",
    "    ccap = CardcapFile(fname)\n",
    "    print(fname)\n",
    "    print(ccap.frequencies)\n",
    "\n"
   ]
  },
  {
   "cell_type": "code",
   "execution_count": null,
   "id": "ad9eb817",
   "metadata": {},
   "outputs": [],
   "source": []
  }
 ],
 "metadata": {
  "kernelspec": {
   "display_name": "venv",
   "language": "python",
   "name": "venv"
  },
  "language_info": {
   "codemirror_mode": {
    "name": "ipython",
    "version": 3
   },
   "file_extension": ".py",
   "mimetype": "text/x-python",
   "name": "python",
   "nbconvert_exporter": "python",
   "pygments_lexer": "ipython3",
   "version": "3.6.9"
  }
 },
 "nbformat": 4,
 "nbformat_minor": 5
}
