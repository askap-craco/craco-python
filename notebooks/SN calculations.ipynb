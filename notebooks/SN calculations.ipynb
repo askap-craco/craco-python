{
 "cells": [
  {
   "cell_type": "code",
   "execution_count": 1,
   "id": "8d166adf-42cd-4b03-8d67-6b442872c0d7",
   "metadata": {},
   "outputs": [],
   "source": [
    "import numpy as np"
   ]
  },
  {
   "cell_type": "code",
   "execution_count": 2,
   "id": "3326f3ff-8a39-4316-945a-ddc991c450bd",
   "metadata": {},
   "outputs": [],
   "source": [
    "N = 1024*8\n",
    "sig = np.random.randn(N)"
   ]
  },
  {
   "cell_type": "code",
   "execution_count": 3,
   "id": "ad912a6a-2287-4d4b-b8bd-ac3ad6f6cff0",
   "metadata": {},
   "outputs": [
    {
     "data": {
      "text/plain": [
       "1.0061557546494757"
      ]
     },
     "execution_count": 3,
     "metadata": {},
     "output_type": "execute_result"
    }
   ],
   "source": [
    "sig.std()"
   ]
  },
  {
   "cell_type": "code",
   "execution_count": 4,
   "id": "9cbcd5a8-e38f-4f63-9725-f86e9d570390",
   "metadata": {},
   "outputs": [
    {
     "data": {
      "text/plain": [
       "1.012349402614256"
      ]
     },
     "execution_count": 4,
     "metadata": {},
     "output_type": "execute_result"
    }
   ],
   "source": [
    "sig.var()"
   ]
  },
  {
   "cell_type": "code",
   "execution_count": 5,
   "id": "d610af87-029b-4822-8616-1743a8a11abf",
   "metadata": {},
   "outputs": [],
   "source": [
    "krnl =np.array([1,2,1])"
   ]
  },
  {
   "cell_type": "code",
   "execution_count": 6,
   "id": "7f0ee4ec-a214-43c9-a6ca-f294ec5768fb",
   "metadata": {},
   "outputs": [],
   "source": [
    "xout = np.convolve(sig,krnl)"
   ]
  },
  {
   "cell_type": "code",
   "execution_count": 7,
   "id": "6ba94b67-c75a-48cc-9e51-a7011048d4fa",
   "metadata": {},
   "outputs": [
    {
     "data": {
      "text/plain": [
       "2.4816308792799333"
      ]
     },
     "execution_count": 7,
     "metadata": {},
     "output_type": "execute_result"
    }
   ],
   "source": [
    "xout.std()"
   ]
  },
  {
   "cell_type": "code",
   "execution_count": 8,
   "id": "d45328c3-974f-462d-8eb5-b0a5c3f0bd6c",
   "metadata": {},
   "outputs": [
    {
     "data": {
      "text/plain": [
       "6.158491820995695"
      ]
     },
     "execution_count": 8,
     "metadata": {},
     "output_type": "execute_result"
    }
   ],
   "source": [
    "xout.var()"
   ]
  },
  {
   "cell_type": "code",
   "execution_count": 9,
   "id": "b343bf4f-2d33-4f4b-97ab-60db3c927bac",
   "metadata": {},
   "outputs": [
    {
     "data": {
      "text/plain": [
       "6"
      ]
     },
     "execution_count": 9,
     "metadata": {},
     "output_type": "execute_result"
    }
   ],
   "source": [
    "sum(krnl**2)"
   ]
  },
  {
   "cell_type": "code",
   "execution_count": 20,
   "id": "5c4eb6de-43c9-459f-b1d9-1568a3daf371",
   "metadata": {},
   "outputs": [
    {
     "data": {
      "text/plain": [
       "1.013121564028366"
      ]
     },
     "execution_count": 20,
     "metadata": {},
     "output_type": "execute_result"
    }
   ],
   "source": [
    "np.std(xout/np.sqrt(sum(krnl**2)))"
   ]
  },
  {
   "cell_type": "code",
   "execution_count": 21,
   "id": "1f6fe906-6a0e-4cf3-8b9b-6326853c06bd",
   "metadata": {},
   "outputs": [],
   "source": [
    "sig2 = sig[:3]+ krnl"
   ]
  },
  {
   "cell_type": "code",
   "execution_count": 22,
   "id": "abf4e5cb-e232-4cc2-bcdb-acc005d292f0",
   "metadata": {},
   "outputs": [],
   "source": [
    "xout2 = np.convolve(sig2, krnl)"
   ]
  },
  {
   "cell_type": "code",
   "execution_count": 23,
   "id": "23147d96-9c7f-4044-a131-417d1c51034f",
   "metadata": {},
   "outputs": [
    {
     "data": {
      "text/plain": [
       "(8194,)"
      ]
     },
     "execution_count": 23,
     "metadata": {},
     "output_type": "execute_result"
    }
   ],
   "source": [
    "xout.shape"
   ]
  },
  {
   "cell_type": "code",
   "execution_count": 24,
   "id": "2c0edd41-6e38-481c-9c2a-9cfc942c914a",
   "metadata": {},
   "outputs": [
    {
     "data": {
      "text/plain": [
       "3.8867299853096036"
      ]
     },
     "execution_count": 24,
     "metadata": {},
     "output_type": "execute_result"
    }
   ],
   "source": [
    "xout2.max()"
   ]
  },
  {
   "cell_type": "code",
   "execution_count": 25,
   "id": "e77491fc-a088-48f0-bad3-608632bea302",
   "metadata": {},
   "outputs": [],
   "source": [
    "sn2 = xout2/np.sqrt(sum(krnl**2))"
   ]
  },
  {
   "cell_type": "code",
   "execution_count": 26,
   "id": "ebfb923b-faae-4f0f-b843-87abba13c6c8",
   "metadata": {},
   "outputs": [
    {
     "data": {
      "text/plain": [
       "1.5867508719972812"
      ]
     },
     "execution_count": 26,
     "metadata": {},
     "output_type": "execute_result"
    }
   ],
   "source": [
    "sn2.max()"
   ]
  },
  {
   "cell_type": "raw",
   "id": "7889ce40-51ae-4c4e-8d71-f152ebfe2434",
   "metadata": {},
   "source": [
    "krnl"
   ]
  },
  {
   "cell_type": "code",
   "execution_count": 27,
   "id": "1758cccf-94ef-4850-a2a9-d8a869649011",
   "metadata": {},
   "outputs": [
    {
     "data": {
      "text/plain": [
       "2.449489742783178"
      ]
     },
     "execution_count": 27,
     "metadata": {},
     "output_type": "execute_result"
    }
   ],
   "source": [
    "np.sqrt(sum(krnl**2))\n"
   ]
  },
  {
   "cell_type": "code",
   "execution_count": 30,
   "id": "33f1213b-8702-4d06-a915-7e84a82f26bc",
   "metadata": {},
   "outputs": [
    {
     "data": {
      "text/plain": [
       "1.6329931618554523"
      ]
     },
     "execution_count": 30,
     "metadata": {},
     "output_type": "execute_result"
    }
   ],
   "source": [
    "sum(krnl)/np.sqrt(sum(krnl**2))"
   ]
  },
  {
   "cell_type": "code",
   "execution_count": null,
   "id": "f2ea5444-7a6a-47e0-9b8b-ed41249787a0",
   "metadata": {},
   "outputs": [],
   "source": [
    "\n",
    "for i in range(1024):\n",
    "    "
   ]
  },
  {
   "cell_type": "code",
   "execution_count": 13,
   "id": "212cc416-872a-4cfe-a19f-dbc4ace67a71",
   "metadata": {},
   "outputs": [
    {
     "name": "stdout",
     "output_type": "stream",
     "text": [
      "Loop 0 Rx 4 -> beam 4\n",
      "Loop 1 Rx 4 -> beam 5\n",
      "Loop 2 Rx 4 -> beam 6\n",
      "Loop 3 Rx 4 -> beam 7\n",
      "Loop 4 Rx 4 -> beam 8\n",
      "Loop 5 Rx 4 -> beam 9\n",
      "Loop 6 Rx 4 -> beam 10\n",
      "Loop 7 Rx 4 -> beam 11\n",
      "Loop 8 Rx 4 -> beam 12\n",
      "Loop 9 Rx 4 -> beam 13\n",
      "Loop 10 Rx 4 -> beam 14\n",
      "Loop 11 Rx 4 -> beam 15\n",
      "Loop 12 Rx 4 -> beam 16\n",
      "Loop 13 Rx 4 -> beam 17\n",
      "Loop 14 Rx 4 -> beam 18\n",
      "Loop 15 Rx 4 -> beam 19\n",
      "Loop 16 Rx 4 -> beam 20\n",
      "Loop 17 Rx 4 -> beam 21\n",
      "Loop 18 Rx 4 -> beam 22\n",
      "Loop 19 Rx 4 -> beam 23\n",
      "Loop 20 Rx 4 -> beam 24\n",
      "Loop 21 Rx 4 -> beam 25\n",
      "Loop 22 Rx 4 -> beam 26\n",
      "Loop 23 Rx 4 -> beam 27\n",
      "Loop 24 Rx 4 -> beam 28\n",
      "Loop 25 Rx 4 -> beam 29\n",
      "Loop 26 Rx 4 -> beam 30\n",
      "Loop 27 Rx 4 -> beam 31\n",
      "Loop 28 Rx 4 -> beam 32\n",
      "Loop 29 Rx 4 -> beam 33\n",
      "Loop 30 Rx 4 -> beam 34\n",
      "Loop 31 Rx 4 -> beam 35\n",
      "Loop 32 Rx 4 -> beam 0\n",
      "Loop 33 Rx 4 -> beam 1\n",
      "Loop 34 Rx 4 -> beam 2\n",
      "Loop 35 Rx 4 -> beam 3\n"
     ]
    }
   ],
   "source": [
    "nrx = 144\n",
    "nbeam = 36\n",
    "mybeam = 0\n",
    "myrx = 4\n",
    "for irx in range(nrx):\n",
    "    for ibeam in range(nbeam):\n",
    "        destbeam = (ibeam + irx) % nbeam\n",
    "        if myrx == irx:\n",
    "            print(f'Loop {ibeam} Rx {irx} -> beam {destbeam}')"
   ]
  },
  {
   "cell_type": "code",
   "execution_count": 22,
   "id": "c4291286-1c4d-4e2b-8858-6984e289e36b",
   "metadata": {},
   "outputs": [
    {
     "name": "stdout",
     "output_type": "stream",
     "text": [
      "Loop 0 Rx 0 -> beam 0\n",
      "Loop 0 Rx 36 -> beam 0\n",
      "Loop 0 Rx 72 -> beam 0\n",
      "Loop 0 Rx 108 -> beam 0\n",
      "Loop 1 Rx 1 -> beam 0\n",
      "Loop 1 Rx 37 -> beam 0\n",
      "Loop 1 Rx 73 -> beam 0\n",
      "Loop 1 Rx 109 -> beam 0\n",
      "Loop 2 Rx 2 -> beam 0\n",
      "Loop 2 Rx 38 -> beam 0\n",
      "Loop 2 Rx 74 -> beam 0\n",
      "Loop 2 Rx 110 -> beam 0\n",
      "Loop 3 Rx 3 -> beam 0\n",
      "Loop 3 Rx 39 -> beam 0\n",
      "Loop 3 Rx 75 -> beam 0\n",
      "Loop 3 Rx 111 -> beam 0\n",
      "Loop 4 Rx 4 -> beam 0\n",
      "Loop 4 Rx 40 -> beam 0\n",
      "Loop 4 Rx 76 -> beam 0\n",
      "Loop 4 Rx 112 -> beam 0\n",
      "Loop 5 Rx 5 -> beam 0\n",
      "Loop 5 Rx 41 -> beam 0\n",
      "Loop 5 Rx 77 -> beam 0\n",
      "Loop 5 Rx 113 -> beam 0\n",
      "Loop 6 Rx 6 -> beam 0\n",
      "Loop 6 Rx 42 -> beam 0\n",
      "Loop 6 Rx 78 -> beam 0\n",
      "Loop 6 Rx 114 -> beam 0\n",
      "Loop 7 Rx 7 -> beam 0\n",
      "Loop 7 Rx 43 -> beam 0\n",
      "Loop 7 Rx 79 -> beam 0\n",
      "Loop 7 Rx 115 -> beam 0\n",
      "Loop 8 Rx 8 -> beam 0\n",
      "Loop 8 Rx 44 -> beam 0\n",
      "Loop 8 Rx 80 -> beam 0\n",
      "Loop 8 Rx 116 -> beam 0\n",
      "Loop 9 Rx 9 -> beam 0\n",
      "Loop 9 Rx 45 -> beam 0\n",
      "Loop 9 Rx 81 -> beam 0\n",
      "Loop 9 Rx 117 -> beam 0\n",
      "Loop 10 Rx 10 -> beam 0\n",
      "Loop 10 Rx 46 -> beam 0\n",
      "Loop 10 Rx 82 -> beam 0\n",
      "Loop 10 Rx 118 -> beam 0\n",
      "Loop 11 Rx 11 -> beam 0\n",
      "Loop 11 Rx 47 -> beam 0\n",
      "Loop 11 Rx 83 -> beam 0\n",
      "Loop 11 Rx 119 -> beam 0\n",
      "Loop 12 Rx 12 -> beam 0\n",
      "Loop 12 Rx 48 -> beam 0\n",
      "Loop 12 Rx 84 -> beam 0\n",
      "Loop 12 Rx 120 -> beam 0\n",
      "Loop 13 Rx 13 -> beam 0\n",
      "Loop 13 Rx 49 -> beam 0\n",
      "Loop 13 Rx 85 -> beam 0\n",
      "Loop 13 Rx 121 -> beam 0\n",
      "Loop 14 Rx 14 -> beam 0\n",
      "Loop 14 Rx 50 -> beam 0\n",
      "Loop 14 Rx 86 -> beam 0\n",
      "Loop 14 Rx 122 -> beam 0\n",
      "Loop 15 Rx 15 -> beam 0\n",
      "Loop 15 Rx 51 -> beam 0\n",
      "Loop 15 Rx 87 -> beam 0\n",
      "Loop 15 Rx 123 -> beam 0\n",
      "Loop 16 Rx 16 -> beam 0\n",
      "Loop 16 Rx 52 -> beam 0\n",
      "Loop 16 Rx 88 -> beam 0\n",
      "Loop 16 Rx 124 -> beam 0\n",
      "Loop 17 Rx 17 -> beam 0\n",
      "Loop 17 Rx 53 -> beam 0\n",
      "Loop 17 Rx 89 -> beam 0\n",
      "Loop 17 Rx 125 -> beam 0\n",
      "Loop 18 Rx 18 -> beam 0\n",
      "Loop 18 Rx 54 -> beam 0\n",
      "Loop 18 Rx 90 -> beam 0\n",
      "Loop 18 Rx 126 -> beam 0\n",
      "Loop 19 Rx 19 -> beam 0\n",
      "Loop 19 Rx 55 -> beam 0\n",
      "Loop 19 Rx 91 -> beam 0\n",
      "Loop 19 Rx 127 -> beam 0\n",
      "Loop 20 Rx 20 -> beam 0\n",
      "Loop 20 Rx 56 -> beam 0\n",
      "Loop 20 Rx 92 -> beam 0\n",
      "Loop 20 Rx 128 -> beam 0\n",
      "Loop 21 Rx 21 -> beam 0\n",
      "Loop 21 Rx 57 -> beam 0\n",
      "Loop 21 Rx 93 -> beam 0\n",
      "Loop 21 Rx 129 -> beam 0\n",
      "Loop 22 Rx 22 -> beam 0\n",
      "Loop 22 Rx 58 -> beam 0\n",
      "Loop 22 Rx 94 -> beam 0\n",
      "Loop 22 Rx 130 -> beam 0\n",
      "Loop 23 Rx 23 -> beam 0\n",
      "Loop 23 Rx 59 -> beam 0\n",
      "Loop 23 Rx 95 -> beam 0\n",
      "Loop 23 Rx 131 -> beam 0\n",
      "Loop 24 Rx 24 -> beam 0\n",
      "Loop 24 Rx 60 -> beam 0\n",
      "Loop 24 Rx 96 -> beam 0\n",
      "Loop 24 Rx 132 -> beam 0\n",
      "Loop 25 Rx 25 -> beam 0\n",
      "Loop 25 Rx 61 -> beam 0\n",
      "Loop 25 Rx 97 -> beam 0\n",
      "Loop 25 Rx 133 -> beam 0\n",
      "Loop 26 Rx 26 -> beam 0\n",
      "Loop 26 Rx 62 -> beam 0\n",
      "Loop 26 Rx 98 -> beam 0\n",
      "Loop 26 Rx 134 -> beam 0\n",
      "Loop 27 Rx 27 -> beam 0\n",
      "Loop 27 Rx 63 -> beam 0\n",
      "Loop 27 Rx 99 -> beam 0\n",
      "Loop 27 Rx 135 -> beam 0\n",
      "Loop 28 Rx 28 -> beam 0\n",
      "Loop 28 Rx 64 -> beam 0\n",
      "Loop 28 Rx 100 -> beam 0\n",
      "Loop 28 Rx 136 -> beam 0\n",
      "Loop 29 Rx 29 -> beam 0\n",
      "Loop 29 Rx 65 -> beam 0\n",
      "Loop 29 Rx 101 -> beam 0\n",
      "Loop 29 Rx 137 -> beam 0\n",
      "Loop 30 Rx 30 -> beam 0\n",
      "Loop 30 Rx 66 -> beam 0\n",
      "Loop 30 Rx 102 -> beam 0\n",
      "Loop 30 Rx 138 -> beam 0\n",
      "Loop 31 Rx 31 -> beam 0\n",
      "Loop 31 Rx 67 -> beam 0\n",
      "Loop 31 Rx 103 -> beam 0\n",
      "Loop 31 Rx 139 -> beam 0\n",
      "Loop 32 Rx 32 -> beam 0\n",
      "Loop 32 Rx 68 -> beam 0\n",
      "Loop 32 Rx 104 -> beam 0\n",
      "Loop 32 Rx 140 -> beam 0\n",
      "Loop 33 Rx 33 -> beam 0\n",
      "Loop 33 Rx 69 -> beam 0\n",
      "Loop 33 Rx 105 -> beam 0\n",
      "Loop 33 Rx 141 -> beam 0\n",
      "Loop 34 Rx 34 -> beam 0\n",
      "Loop 34 Rx 70 -> beam 0\n",
      "Loop 34 Rx 106 -> beam 0\n",
      "Loop 34 Rx 142 -> beam 0\n",
      "Loop 35 Rx 35 -> beam 0\n",
      "Loop 35 Rx 71 -> beam 0\n",
      "Loop 35 Rx 107 -> beam 0\n",
      "Loop 35 Rx 143 -> beam 0\n",
      "144\n"
     ]
    }
   ],
   "source": [
    "lut = []\n",
    "for t in range(nbeam): # A given beam needs to recieve from NRX places\n",
    "    \n",
    "    # loop through all the NRX and find which ones will be sending me data\n",
    "    for irx in range(nrx):\n",
    "        destbeam = (irx -t) % nbeam\n",
    "        if mybeam == destbeam:\n",
    "            print(f'Loop {t} Rx {irx} -> beam {destbeam}')\n",
    "            lut.append(irx)\n",
    "print(len(lut))            "
   ]
  },
  {
   "cell_type": "code",
   "execution_count": 23,
   "id": "12228f2d-7d22-48a8-b0c9-fe99ec7d1ae8",
   "metadata": {},
   "outputs": [
    {
     "name": "stdout",
     "output_type": "stream",
     "text": [
      "144\n"
     ]
    }
   ],
   "source": [
    "print(len(lut))"
   ]
  },
  {
   "cell_type": "code",
   "execution_count": null,
   "id": "53cf7bd0-86fa-4998-a399-6382167b8dd5",
   "metadata": {},
   "outputs": [],
   "source": []
  }
 ],
 "metadata": {
  "kernelspec": {
   "display_name": "Python 3 (ipykernel)",
   "language": "python",
   "name": "python3"
  },
  "language_info": {
   "codemirror_mode": {
    "name": "ipython",
    "version": 3
   },
   "file_extension": ".py",
   "mimetype": "text/x-python",
   "name": "python",
   "nbconvert_exporter": "python",
   "pygments_lexer": "ipython3",
   "version": "3.10.13"
  }
 },
 "nbformat": 4,
 "nbformat_minor": 5
}
