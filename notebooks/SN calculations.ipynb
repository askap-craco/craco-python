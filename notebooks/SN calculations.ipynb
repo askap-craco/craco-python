{
 "cells": [
  {
   "cell_type": "code",
   "execution_count": 1,
   "id": "8d166adf-42cd-4b03-8d67-6b442872c0d7",
   "metadata": {},
   "outputs": [],
   "source": [
    "import numpy as np"
   ]
  },
  {
   "cell_type": "code",
   "execution_count": 2,
   "id": "3326f3ff-8a39-4316-945a-ddc991c450bd",
   "metadata": {},
   "outputs": [],
   "source": [
    "N = 1024*8\n",
    "sig = np.random.randn(N)"
   ]
  },
  {
   "cell_type": "code",
   "execution_count": 3,
   "id": "ad912a6a-2287-4d4b-b8bd-ac3ad6f6cff0",
   "metadata": {},
   "outputs": [
    {
     "data": {
      "text/plain": [
       "1.0061557546494757"
      ]
     },
     "execution_count": 3,
     "metadata": {},
     "output_type": "execute_result"
    }
   ],
   "source": [
    "sig.std()"
   ]
  },
  {
   "cell_type": "code",
   "execution_count": 4,
   "id": "9cbcd5a8-e38f-4f63-9725-f86e9d570390",
   "metadata": {},
   "outputs": [
    {
     "data": {
      "text/plain": [
       "1.012349402614256"
      ]
     },
     "execution_count": 4,
     "metadata": {},
     "output_type": "execute_result"
    }
   ],
   "source": [
    "sig.var()"
   ]
  },
  {
   "cell_type": "code",
   "execution_count": 5,
   "id": "d610af87-029b-4822-8616-1743a8a11abf",
   "metadata": {},
   "outputs": [],
   "source": [
    "krnl =np.array([1,2,1])"
   ]
  },
  {
   "cell_type": "code",
   "execution_count": 6,
   "id": "7f0ee4ec-a214-43c9-a6ca-f294ec5768fb",
   "metadata": {},
   "outputs": [],
   "source": [
    "xout = np.convolve(sig,krnl)"
   ]
  },
  {
   "cell_type": "code",
   "execution_count": 7,
   "id": "6ba94b67-c75a-48cc-9e51-a7011048d4fa",
   "metadata": {},
   "outputs": [
    {
     "data": {
      "text/plain": [
       "2.4816308792799333"
      ]
     },
     "execution_count": 7,
     "metadata": {},
     "output_type": "execute_result"
    }
   ],
   "source": [
    "xout.std()"
   ]
  },
  {
   "cell_type": "code",
   "execution_count": 8,
   "id": "d45328c3-974f-462d-8eb5-b0a5c3f0bd6c",
   "metadata": {},
   "outputs": [
    {
     "data": {
      "text/plain": [
       "6.158491820995695"
      ]
     },
     "execution_count": 8,
     "metadata": {},
     "output_type": "execute_result"
    }
   ],
   "source": [
    "xout.var()"
   ]
  },
  {
   "cell_type": "code",
   "execution_count": 9,
   "id": "b343bf4f-2d33-4f4b-97ab-60db3c927bac",
   "metadata": {},
   "outputs": [
    {
     "data": {
      "text/plain": [
       "6"
      ]
     },
     "execution_count": 9,
     "metadata": {},
     "output_type": "execute_result"
    }
   ],
   "source": [
    "sum(krnl**2)"
   ]
  },
  {
   "cell_type": "code",
   "execution_count": 20,
   "id": "5c4eb6de-43c9-459f-b1d9-1568a3daf371",
   "metadata": {},
   "outputs": [
    {
     "data": {
      "text/plain": [
       "1.013121564028366"
      ]
     },
     "execution_count": 20,
     "metadata": {},
     "output_type": "execute_result"
    }
   ],
   "source": [
    "np.std(xout/np.sqrt(sum(krnl**2)))"
   ]
  },
  {
   "cell_type": "code",
   "execution_count": 21,
   "id": "1f6fe906-6a0e-4cf3-8b9b-6326853c06bd",
   "metadata": {},
   "outputs": [],
   "source": [
    "sig2 = sig[:3]+ krnl"
   ]
  },
  {
   "cell_type": "code",
   "execution_count": 22,
   "id": "abf4e5cb-e232-4cc2-bcdb-acc005d292f0",
   "metadata": {},
   "outputs": [],
   "source": [
    "xout2 = np.convolve(sig2, krnl)"
   ]
  },
  {
   "cell_type": "code",
   "execution_count": 23,
   "id": "23147d96-9c7f-4044-a131-417d1c51034f",
   "metadata": {},
   "outputs": [
    {
     "data": {
      "text/plain": [
       "(8194,)"
      ]
     },
     "execution_count": 23,
     "metadata": {},
     "output_type": "execute_result"
    }
   ],
   "source": [
    "xout.shape"
   ]
  },
  {
   "cell_type": "code",
   "execution_count": 24,
   "id": "2c0edd41-6e38-481c-9c2a-9cfc942c914a",
   "metadata": {},
   "outputs": [
    {
     "data": {
      "text/plain": [
       "3.8867299853096036"
      ]
     },
     "execution_count": 24,
     "metadata": {},
     "output_type": "execute_result"
    }
   ],
   "source": [
    "xout2.max()"
   ]
  },
  {
   "cell_type": "code",
   "execution_count": 25,
   "id": "e77491fc-a088-48f0-bad3-608632bea302",
   "metadata": {},
   "outputs": [],
   "source": [
    "sn2 = xout2/np.sqrt(sum(krnl**2))"
   ]
  },
  {
   "cell_type": "code",
   "execution_count": 26,
   "id": "ebfb923b-faae-4f0f-b843-87abba13c6c8",
   "metadata": {},
   "outputs": [
    {
     "data": {
      "text/plain": [
       "1.5867508719972812"
      ]
     },
     "execution_count": 26,
     "metadata": {},
     "output_type": "execute_result"
    }
   ],
   "source": [
    "sn2.max()"
   ]
  },
  {
   "cell_type": "raw",
   "id": "7889ce40-51ae-4c4e-8d71-f152ebfe2434",
   "metadata": {},
   "source": [
    "krnl"
   ]
  },
  {
   "cell_type": "code",
   "execution_count": 27,
   "id": "1758cccf-94ef-4850-a2a9-d8a869649011",
   "metadata": {},
   "outputs": [
    {
     "data": {
      "text/plain": [
       "2.449489742783178"
      ]
     },
     "execution_count": 27,
     "metadata": {},
     "output_type": "execute_result"
    }
   ],
   "source": [
    "np.sqrt(sum(krnl**2))\n"
   ]
  },
  {
   "cell_type": "code",
   "execution_count": 30,
   "id": "33f1213b-8702-4d06-a915-7e84a82f26bc",
   "metadata": {},
   "outputs": [
    {
     "data": {
      "text/plain": [
       "1.6329931618554523"
      ]
     },
     "execution_count": 30,
     "metadata": {},
     "output_type": "execute_result"
    }
   ],
   "source": [
    "sum(krnl)/np.sqrt(sum(krnl**2))"
   ]
  },
  {
   "cell_type": "code",
   "execution_count": null,
   "id": "f2ea5444-7a6a-47e0-9b8b-ed41249787a0",
   "metadata": {},
   "outputs": [],
   "source": [
    "\n",
    "for i in range(1024):\n",
    "    "
   ]
  },
  {
   "cell_type": "code",
   "execution_count": null,
   "id": "212cc416-872a-4cfe-a19f-dbc4ace67a71",
   "metadata": {},
   "outputs": [],
   "source": []
  }
 ],
 "metadata": {
  "kernelspec": {
   "display_name": "Python 3 (ipykernel)",
   "language": "python",
   "name": "python3"
  },
  "language_info": {
   "codemirror_mode": {
    "name": "ipython",
    "version": 3
   },
   "file_extension": ".py",
   "mimetype": "text/x-python",
   "name": "python",
   "nbconvert_exporter": "python",
   "pygments_lexer": "ipython3",
   "version": "3.10.13"
  }
 },
 "nbformat": 4,
 "nbformat_minor": 5
}
