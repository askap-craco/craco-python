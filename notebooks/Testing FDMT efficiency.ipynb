{
 "cells": [
  {
   "cell_type": "markdown",
   "metadata": {},
   "source": [
    "# FDMT efficiency\n",
    "The current FDMT seems to be a bit inefficient - i.e. we do the FDMT of a pulse and the peak in the FDMT should be the sum of the pulse - and it's not. Worrying."
   ]
  },
  {
   "cell_type": "code",
   "execution_count": 1,
   "metadata": {},
   "outputs": [
    {
     "ename": "ModuleNotFoundError",
     "evalue": "No module named 'simfrb'",
     "output_type": "error",
     "traceback": [
      "\u001b[0;31m---------------------------------------------------------------------------\u001b[0m",
      "\u001b[0;31mModuleNotFoundError\u001b[0m                       Traceback (most recent call last)",
      "\u001b[0;32m<ipython-input-1-af74bd08ff32>\u001b[0m in \u001b[0;36m<module>\u001b[0;34m\u001b[0m\n\u001b[1;32m      4\u001b[0m \u001b[0;32mimport\u001b[0m \u001b[0mnumpy\u001b[0m \u001b[0;32mas\u001b[0m \u001b[0mnp\u001b[0m\u001b[0;34m\u001b[0m\u001b[0;34m\u001b[0m\u001b[0m\n\u001b[1;32m      5\u001b[0m \u001b[0;32mfrom\u001b[0m \u001b[0mcraft\u001b[0m \u001b[0;32mimport\u001b[0m \u001b[0mfdmt\u001b[0m \u001b[0;31m# you'll need to have ../python in  you PYTHONPATH\u001b[0m\u001b[0;34m\u001b[0m\u001b[0;34m\u001b[0m\u001b[0m\n\u001b[0;32m----> 6\u001b[0;31m \u001b[0;32mimport\u001b[0m \u001b[0msimfrb\u001b[0m \u001b[0;31m# in same directory as fdmt\u001b[0m\u001b[0;34m\u001b[0m\u001b[0;34m\u001b[0m\u001b[0m\n\u001b[0m\u001b[1;32m      7\u001b[0m \u001b[0;32mfrom\u001b[0m \u001b[0mpylab\u001b[0m \u001b[0;32mimport\u001b[0m \u001b[0;34m*\u001b[0m\u001b[0;34m\u001b[0m\u001b[0;34m\u001b[0m\u001b[0m\n",
      "\u001b[0;31mModuleNotFoundError\u001b[0m: No module named 'simfrb'"
     ]
    }
   ],
   "source": [
    "%matplotlib notebook\n",
    "%load_ext autoreload\n",
    "%autoreload 2\n",
    "import numpy as np\n",
    "from craft import fdmt # you'll need to have ../python in  you PYTHONPATH\n",
    "import simfrb # in same directory as fdmt\n",
    "from pylab import *"
   ]
  },
  {
   "cell_type": "code",
   "execution_count": null,
   "metadata": {},
   "outputs": [],
   "source": [
    "nf = 256 # number of channels - non-power-of-2 - naughty naughty!\n",
    "fmax = 1440. #  Freuency of the top of the band in MHz\n",
    "df = 1.0 # Channel bandwidth in MHz\n",
    "fmin = fmax - nf*df # Frequency of the bottom of the band in MHz\n",
    "nd = 512*2 # Number of DM trials to do\n",
    "nt = 256 # Number of samples per block\n",
    "tsamp = 1.0 # milliseconds"
   ]
  },
  {
   "cell_type": "code",
   "execution_count": null,
   "metadata": {},
   "outputs": [],
   "source": [
    "def mysimfrb(fmin, df, nf, tsamp, idt, nt, offset, width=0):\n",
    "    assert df > 0\n",
    "    assert nf > 0\n",
    "    assert fmin > 0\n",
    "    d = np.zeros((nf, nt))\n",
    "    fmax = fmin + nf*df\n",
    "    fmin /= 1e3\n",
    "    fmax /= 1e3\n",
    "    df /= 1e3\n",
    "    dm1 = 4.15*(fmin**-2 - fmax**-2)\n",
    "    dm = idt*tsamp/dm1\n",
    "    \n",
    "    assert dm1> 0\n",
    "    \n",
    "    for c in range(nf):\n",
    "        f2 = fmin + c*df       \n",
    "        offset_ms = -4.15*dm*(fmax**-2 - f2**-2) + offset\n",
    "        offset_samp = int(np.round(offset_ms/tsamp)) \n",
    "        #print c, f2, fmax, offset_ms, offset_samp\n",
    "        d[c, offset_samp] = 1\n",
    "    return d"
   ]
  },
  {
   "cell_type": "code",
   "execution_count": null,
   "metadata": {},
   "outputs": [],
   "source": [
    "def checkhit(thefdmt, dm, offset=0):\n",
    "    # I haven't had time to tidy this up - the untis are funny and the FRB is updside down and transposed\n",
    "    # With respect to what the FDMT wants to see - just trust me OK.\n",
    "    # Caution: The DM units here are in pc/cm3 and the DM units the FDMT uses are in samples. at about 1 GHz and 1 ms these are almost identical.\n",
    "    #frb = simfrb.mkfrb(fmax/1e3, -df/1e3, nf, tsamp=tsamp, dm=dm, ntimes=nt, offset=10).T\n",
    "    #frb = np.flipud(frb)\n",
    "    frb = mysimfrb(fmin, df, nf, tsamp, dm, nt, offset=offset)\n",
    "    fout = thefdmt(frb)\n",
    "    hitting_efficiency = fout.max()/frb.sum() # should be close to 1. Ideally 1.\n",
    "    maxidx = fout.argmax()\n",
    "    idtmax, tmax = np.unravel_index(maxidx, fout.shape)\n",
    "    dm_of_idt = idtmax*tsamp/(4.15*((fmin/1e3)**-2 - (fmax/1e3)**-2)) # convert idt to pc/cm3\n",
    "    #print 'Hitting efficiency', hitting_efficiency, 'Maximum at t=', tmax, 'idt=', idtmax, '=', dm_of_idt, 'pc/cm3'\n",
    "    \n",
    "    return (hitting_efficiency, idtmax, tmax)"
   ]
  },
  {
   "cell_type": "code",
   "execution_count": null,
   "metadata": {},
   "outputs": [],
   "source": [
    "thefdmt = fdmt.Fdmt( fmin, df, nf, nd, nt) # make FDMT\n",
    "dmrange = np.arange(0, 10, 10)\n",
    "hitdata = []\n",
    "for dm in dmrange:\n",
    "    hitdata.append(checkhit(thefdmt, dm, offset=10))\n",
    "    \n",
    "hitdata = np.array(hitdata)    "
   ]
  },
  {
   "cell_type": "code",
   "execution_count": null,
   "metadata": {},
   "outputs": [],
   "source": [
    "idt = 200\n",
    "\n",
    "\n",
    "\n",
    "frb1 = mysimfrb(fmin, df, nf, tsamp, idt, nt, offset=0)\n",
    "frb2 = mysimfrb(fmin, df, nf, tsamp, idt, nt, offset=0.5)\n",
    "frbfdmt = np.zeros((nf, nt))\n",
    "frbfdmt = thefdmt.add_frb_track(idt,frbfdmt)\n",
    "\n",
    "\n",
    "fig, ax = subplots(1,4, sharex=True, sharey=True)\n",
    "ax[0].imshow(frb1, aspect='auto', origin='lower', interpolation='nearest')\n",
    "ax[0].set_title(f'mysimfrb offset=0 idt={idt}')\n",
    "\n",
    "ax[1].imshow(frb2, aspect='auto', origin='lower', interpolation='nearest')\n",
    "ax[1].set_title(f'mysimfrb offset=0.5 idt={idt}')\n",
    "\n",
    "ax[2].imshow(frbfdmt, aspect='auto', origin='lower', interpolation='nearest')\n",
    "ax[2].set_title(f'FDMT idt={idt}')\n",
    "\n",
    "ax[3].imshow(frbfdmt+frb2, aspect='auto', origin='lower', interpolation='nearest')\n",
    "ax[3].set_title(f'FDMT+frb0.5 idt={idt}')\n",
    "\n",
    "\n",
    "\n",
    "\n",
    "xlabel('Sample')\n",
    "ylabel('channel')"
   ]
  },
  {
   "cell_type": "code",
   "execution_count": null,
   "metadata": {},
   "outputs": [],
   "source": []
  },
  {
   "cell_type": "code",
   "execution_count": null,
   "metadata": {},
   "outputs": [],
   "source": [
    "    "
   ]
  },
  {
   "cell_type": "code",
   "execution_count": null,
   "metadata": {},
   "outputs": [],
   "source": [
    "hitdata.shape"
   ]
  },
  {
   "cell_type": "code",
   "execution_count": null,
   "metadata": {},
   "outputs": [],
   "source": [
    "fig, ax = subplots(1,3, sharex=True)\n",
    "ax[0].plot(dmrange, hitdata[:, 0], 'o')\n",
    "ax[0].set_ylabel('Hitting efficiency ')\n",
    "ax[1].plot(dmrange, hitdata[:, 1], 'o')\n",
    "ax[1].set_ylabel('IDT max')\n",
    "ax[2].plot(dmrange, hitdata[:, 2] - hitdata[:, 1], 'o')\n",
    "ax[2].set_ylabel('tmax')"
   ]
  },
  {
   "cell_type": "code",
   "execution_count": null,
   "metadata": {},
   "outputs": [],
   "source": [
    "dm = 7\n",
    "frb = mysimfrb(fmin, df, nf, tsamp, dm, nt, offset=10)\n",
    "fout = thefdmt(frb)"
   ]
  },
  {
   "cell_type": "code",
   "execution_count": null,
   "metadata": {},
   "outputs": [],
   "source": [
    "%timeit thefdmt(frb)"
   ]
  },
  {
   "cell_type": "code",
   "execution_count": null,
   "metadata": {},
   "outputs": [],
   "source": [
    "figure()\n",
    "imshow(fout, aspect='auto', origin='lower')"
   ]
  },
  {
   "cell_type": "code",
   "execution_count": null,
   "metadata": {},
   "outputs": [],
   "source": [
    "figure()\n",
    "plot(fout.max(axis=1)/frb.sum())\n",
    "xlabel('IDT')\n",
    "ylabel('Sum as a function of IDT')"
   ]
  },
  {
   "cell_type": "code",
   "execution_count": null,
   "metadata": {},
   "outputs": [],
   "source": [
    "frb.sum()"
   ]
  },
  {
   "cell_type": "code",
   "execution_count": null,
   "metadata": {},
   "outputs": [],
   "source": [
    "number_of_sums = thefdmt(np.ones((nf,nt)))"
   ]
  },
  {
   "cell_type": "code",
   "execution_count": null,
   "metadata": {},
   "outputs": [],
   "source": [
    "figure()\n",
    "imshow(number_of_sums, aspect='auto', origin='lower')\n",
    "xlabel('Sample')\n",
    "ylabel('IDT')"
   ]
  },
  {
   "cell_type": "code",
   "execution_count": null,
   "metadata": {},
   "outputs": [],
   "source": [
    "figure()\n",
    "plot(number_of_sums[:,nt-1])\n",
    "xlabel('IDT')\n",
    "ylabel('Number of cells added')"
   ]
  },
  {
   "cell_type": "code",
   "execution_count": null,
   "metadata": {},
   "outputs": [],
   "source": [
    "frblong = mysimfrb(fmin, df, nf, tsamp, 900, 1024, offset=0)\n"
   ]
  },
  {
   "cell_type": "code",
   "execution_count": null,
   "metadata": {},
   "outputs": [],
   "source": [
    "figure()\n",
    "imshow(frblong, aspect='auto', origin='lower')"
   ]
  },
  {
   "cell_type": "code",
   "execution_count": null,
   "metadata": {},
   "outputs": [],
   "source": [
    "frblong.shape\n",
    "def overlapandsum(fdmt_output, sums, nt):\n",
    "    ndm, ntall = sums.shape\n",
    "    for idm in range(ndm):\n",
    "        for t in range(ntall):            \n",
    "            if t + nt < ntall:\n",
    "                sums[idm, t] = fdmt_output[idm, t] + sums[idm, t+nt]\n",
    "            else:\n",
    "                sums[idm,t] = fdmt_output[idm,t]\n",
    "   \n",
    "    return sums"
   ]
  },
  {
   "cell_type": "code",
   "execution_count": null,
   "metadata": {},
   "outputs": [],
   "source": [
    "nt"
   ]
  },
  {
   "cell_type": "code",
   "execution_count": null,
   "metadata": {},
   "outputs": [],
   "source": [
    "fig, axs = subplots(3,4)\n",
    "fig.set_size_inches([10,5])\n",
    "sums = np.zeros((nd, nd+nt))\n",
    "#frblong[:] = 1\n",
    "for iax in range(4):\n",
    "    frbblk = frblong[:, iax*256:(iax+1)*256]\n",
    "    dout = thefdmt(frbblk)  \n",
    "    overlapandsum(dout, sums, nt)\n",
    "    axs[0,iax].set_title(f'Block {iax}')\n",
    "    axs[0,iax].imshow(frbblk, aspect='auto', origin='lower')    \n",
    "    axs[1,iax].imshow(dout, aspect='auto', origin='lower')\n",
    "    axs[2,iax].imshow(sums.copy(), aspect='auto', origin='lower')\n",
    "    \n",
    "    \n",
    "\n",
    "axs[0,0].set_ylabel('channel')\n",
    "axs[1,0].set_ylabel('iDM')\n",
    "axs[1,0].set_xlabel('sample')"
   ]
  },
  {
   "cell_type": "code",
   "execution_count": null,
   "metadata": {
    "scrolled": false
   },
   "outputs": [],
   "source": [
    "thefdmt_long = fdmt.Fdmt( fmin, df, nf, nd, nt*4) # make FDMT\n",
    "\n",
    "longout = thefdmt_long(frblong)\n",
    "fig,ax = subplots(1,3, sharex=True,sharey=True)\n",
    "ax[0].imshow(longout[:,3*256:4*256], aspect='auto', origin='lower')\n",
    "ax[1].imshow(sums[:,0:256], aspect='auto', origin='lower')\n",
    "ax[2].imshow(sums[:,0:256]-longout[:,3*256:4*256], aspect='auto', origin='lower')\n"
   ]
  },
  {
   "cell_type": "code",
   "execution_count": null,
   "metadata": {},
   "outputs": [],
   "source": [
    "%timeit thefdmt(frbblk)  "
   ]
  },
  {
   "cell_type": "code",
   "execution_count": null,
   "metadata": {},
   "outputs": [],
   "source": [
    "from numba import njit\n",
    "\n",
    "#@njit\n",
    "def boxcar_and_threshold(d, nt, boxcar_history, threshold):\n",
    "    candidates = [] # candidate list\n",
    "    ndm, _ = d.shape\n",
    "    ndm, nbox = boxcar_history.shape\n",
    "    \n",
    "    for idm in range(ndm): # loop over DM\n",
    "        for t in range(nt): # loop over time\n",
    "            bcsum = np.float32(0) # initialise running sum over up to nbox previous times\n",
    "            best_cand = None\n",
    "            best_sn = None\n",
    "            for ibox in range(nbox): # for each value in the past\n",
    "                if t >= ibox: # if the previous value is in the current block\n",
    "                    inv = d[idm, t - ibox]\n",
    "                else: # we need to go back into the boxcar history\n",
    "                    inv = boxcar_history[idm, -ibox]\n",
    "                    \n",
    "                bcsum += inv # add the previous value\n",
    "                sn = bcsum / np.sqrt(ibox+1) # scale by sqrt width\n",
    "                # before outputting a candidate that was the best over the boxcars & times\n",
    "                if sn >= threshold: # output candidate if it exceeds the threshold\n",
    "                    if best_sn is not None and sn > best_sn:\n",
    "                        best_cand = (idm,t,ibox,sn)\n",
    "                        best_sn = sn\n",
    "                else:\n",
    "                    if best_cand is not None:\n",
    "                        # We've gone back below the threshold\n",
    "                        candidates.append(best_cand)\n",
    "                        best_cand = None\n",
    "                        best_sn = None\n",
    "                    \n",
    "    boxcar_history[:,:] = d[:,-nbox:]\n",
    "                \n",
    "\n",
    "    return candidates"
   ]
  },
  {
   "cell_type": "code",
   "execution_count": null,
   "metadata": {},
   "outputs": [],
   "source": [
    "\n",
    "boxcar_history = np.zeros((nd,32), dtype=np.float32)\n",
    "boxcar_and_threshold(sums.astype(float32)/sums.max()*10+np.random.randn(sums.size).reshape(sums.shape)*1, nt,boxcar_history, 10)"
   ]
  },
  {
   "cell_type": "code",
   "execution_count": null,
   "metadata": {},
   "outputs": [],
   "source": [
    "%timeit boxcar_and_threshold(sums.astype(float32), nt,boxcar_history, 20)"
   ]
  },
  {
   "cell_type": "code",
   "execution_count": null,
   "metadata": {},
   "outputs": [],
   "source": [
    "sums.max()"
   ]
  },
  {
   "cell_type": "code",
   "execution_count": null,
   "metadata": {},
   "outputs": [],
   "source": []
  }
 ],
 "metadata": {
  "kernelspec": {
   "display_name": "Python 3",
   "language": "python",
   "name": "python3"
  },
  "language_info": {
   "codemirror_mode": {
    "name": "ipython",
    "version": 3
   },
   "file_extension": ".py",
   "mimetype": "text/x-python",
   "name": "python",
   "nbconvert_exporter": "python",
   "pygments_lexer": "ipython3",
   "version": "3.6.13"
  }
 },
 "nbformat": 4,
 "nbformat_minor": 2
}
