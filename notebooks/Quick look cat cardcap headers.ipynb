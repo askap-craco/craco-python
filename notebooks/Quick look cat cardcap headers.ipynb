{
 "cells": [
  {
   "cell_type": "code",
   "execution_count": 1,
   "id": "7f82d1da",
   "metadata": {},
   "outputs": [],
   "source": [
    "import numpy as np\n",
    "from astropy.io import fits\n",
    "from pylab import *"
   ]
  },
  {
   "cell_type": "code",
   "execution_count": 2,
   "id": "6e3618f9",
   "metadata": {},
   "outputs": [
    {
     "name": "stdout",
     "output_type": "stream",
     "text": [
      "Requirement already satisfied: dpkt in /data/craco/ban115/craco-python/venv/lib/python3.6/site-packages (1.9.7.2)\r\n",
      "Requirement already satisfied: scapy in /data/craco/ban115/craco-python/venv/lib/python3.6/site-packages (2.4.5)\r\n"
     ]
    }
   ],
   "source": [
    "!pip install dpkt scapy"
   ]
  },
  {
   "cell_type": "code",
   "execution_count": 3,
   "id": "7ffb0bc8",
   "metadata": {},
   "outputs": [],
   "source": [
    "import dpkt\n",
    "import scapy"
   ]
  },
  {
   "cell_type": "code",
   "execution_count": 4,
   "id": "798d02c3",
   "metadata": {},
   "outputs": [],
   "source": [
    "from scapy.all import *\n"
   ]
  },
  {
   "cell_type": "code",
   "execution_count": 5,
   "id": "7754d94e",
   "metadata": {},
   "outputs": [
    {
     "data": {
      "text/plain": [
       "dtype([('frame_id', '<u8'), ('bat', '<u8'), ('beam_number', 'u1'), ('sample_number', 'u1'), ('channel_number', 'u1'), ('fpga_id', 'u1'), ('nprod', '<u2'), ('flags', 'u1'), ('zero1', 'u1'), ('version', '<u4'), ('zero3', '<u4'), ('data', '<i2', (930, 2))])"
      ]
     },
     "execution_count": 5,
     "metadata": {},
     "output_type": "execute_result"
    }
   ],
   "source": [
    "from craco.cardcap import get_single_packet_dtype\n",
    "nant = 30\n",
    "npol = 2\n",
    "samp_per_int = 64 # samples per integration = \n",
    "samp_per_frame = 2048\n",
    "int_per_frame = samp_per_frame // samp_per_int\n",
    "nprod = nant*(nant+1)//2*npol # bug in nprod off by 1\n",
    "dtype = get_single_packet_dtype(nprod, True)\n",
    "packets_per_frame = int_per_frame * 36 * 4\n",
    "dtype"
   ]
  },
  {
   "cell_type": "code",
   "execution_count": 14,
   "id": "75815060",
   "metadata": {},
   "outputs": [],
   "source": [
    "last_ts = None\n",
    "diffs = []\n",
    "fout = open('packets.bin', 'wb')\n",
    "fname = '/tmp/traces/tuesday_fixmeta_2.pcap'\n",
    "\n",
    "fname = '/tmp/traces/tuesday_fixmeta_polsum_moreint.pcap'\n",
    "fname = '/tmp/traces/tuesday_fixmeta_polsum_moreint.pcap'\n",
    "fname = '/tmp/traces/tuesday_mettermeta.pcap'\n",
    "fname = '/tmp/traces/wed_debug_2.pcap'\n",
    "fname = '/tmp/traces/mp_thurs_2.pcap'\n",
    "\n",
    "f = open(fname, 'rb')\n",
    "pcap = dpkt.pcap.Reader(f)\n",
    "\n",
    "send_first_packet_number_in_wireshark = 462\n",
    "for ipkt, (ts, buf) in enumerate(pcap):\n",
    "    \n",
    "    if last_ts is not None:\n",
    "        diff = ts - last_ts\n",
    "    else:\n",
    "        diff = 0\n",
    "        \n",
    "    last_ts = ts\n",
    "        \n",
    "    #print(ipkt, str(datetime.datetime.utcfromtimestamp(ts)), len(buf), diff*1e6, buf[66:74])              \n",
    "    eth = dpkt.ethernet.Ethernet(buf)\n",
    "    diffs.append(diff)\n",
    "    \n",
    "    if len(buf) == 4166: # full size packet\n",
    "        payload = buf[66:-4] # remove CRC\n",
    "    else:\n",
    "        payload = buf[66+4:-4] # With immediate adn remove CRC\n",
    "        \n",
    "    if ipkt >= send_first_packet_number_in_wireshark - 1: # first SEND_FIRST packet\n",
    "        fout.write(payload)\n",
    "                \n",
    "    if ipkt == 50000:\n",
    "        break\n",
    "        \n",
    "fout.close()\n",
    "        \n",
    "   \n"
   ]
  },
  {
   "cell_type": "code",
   "execution_count": 15,
   "id": "a15c561e",
   "metadata": {},
   "outputs": [
    {
     "name": "stdout",
     "output_type": "stream",
     "text": [
      "npackets_per_frame=4608\n",
      "23.87152777777778\n"
     ]
    },
    {
     "data": {
      "text/plain": [
       "<matplotlib.lines.Line2D at 0x7f7db85d1e10>"
      ]
     },
     "execution_count": 15,
     "metadata": {},
     "output_type": "execute_result"
    },
    {
     "data": {
      "image/png": "[encoded data removed]",
      "text/plain": [
       "<Figure size 432x288 with 1 Axes>"
      ]
     },
     "metadata": {
      "needs_background": "light"
     },
     "output_type": "display_data"
    }
   ],
   "source": [
    "plot(np.array(diffs[:50000])*1e6)\n",
    "xlabel('Packet number')\n",
    "ylabel('Interval between packets (us)')\n",
    "nint_per_frame = 2048//32 // 2\n",
    "npackets_per_frame = 36*4*nint_per_frame\n",
    "print(f'npackets_per_frame={npackets_per_frame}')\n",
    "expected_interval = 110e-3/npackets_per_frame\n",
    "print(expected_interval*1e6)\n",
    "axhline(expected_interval*1e6, c='r')\n",
    "#ylim(0,100)"
   ]
  },
  {
   "cell_type": "code",
   "execution_count": 16,
   "id": "bbbd8291",
   "metadata": {},
   "outputs": [],
   "source": [
    "packets = np.fromfile('packets.bin', dtype=dtype)"
   ]
  },
  {
   "cell_type": "code",
   "execution_count": 17,
   "id": "c3443472",
   "metadata": {},
   "outputs": [
    {
     "data": {
      "text/plain": [
       "array([3278848, 3278880, 3278912, 3278944, 3278976, 3279008, 3279040,\n",
       "       3279072, 3279104, 3279136, 3279168, 3279200, 3279232, 3279264,\n",
       "       3279296, 3279328], dtype=uint64)"
      ]
     },
     "execution_count": 17,
     "metadata": {},
     "output_type": "execute_result"
    }
   ],
   "source": [
    "packets[:16]['frame_id']"
   ]
  },
  {
   "cell_type": "code",
   "execution_count": 18,
   "id": "f6fd5a6b",
   "metadata": {},
   "outputs": [
    {
     "data": {
      "text/plain": [
       "array([                  32,                   32,                   32,\n",
       "       ...,                   32,                   32,\n",
       "       18446744073709549600], dtype=uint64)"
      ]
     },
     "execution_count": 18,
     "metadata": {},
     "output_type": "execute_result"
    }
   ],
   "source": [
    "(packets['frame_id'][1:] - packets['frame_id'][:-1])[:1024]"
   ]
  },
  {
   "cell_type": "code",
   "execution_count": 19,
   "id": "c10ec5cc",
   "metadata": {},
   "outputs": [
    {
     "data": {
      "text/plain": [
       "Text(0, 0.5, 'frame_id')"
      ]
     },
     "execution_count": 19,
     "metadata": {},
     "output_type": "execute_result"
    },
    {
     "data": {
      "image/png": "[encoded data removed]",
      "text/plain": [
       "<Figure size 432x288 with 1 Axes>"
      ]
     },
     "metadata": {
      "needs_background": "light"
     },
     "output_type": "display_data"
    }
   ],
   "source": [
    "plot(packets['frame_id'][:32])\n",
    "xlabel('packet')\n",
    "ylabel('frame_id')\n"
   ]
  },
  {
   "cell_type": "code",
   "execution_count": 20,
   "id": "8e8eec1b",
   "metadata": {},
   "outputs": [
    {
     "name": "stdout",
     "output_type": "stream",
     "text": [
      "[33 31 32 32 32 32 32 32 32 32 32 32 32 32 32 32 32 32 32 32 32 32 32 32\n",
      " 32 32 32 32 32 32 32]\n",
      "[3279872 3279905 3279936 3279968 3280000 3280032 3280064 3280096 3280128\n",
      " 3280160 3280192 3280224 3280256 3280288 3280320 3280352 3280384 3280416\n",
      " 3280448 3280480 3280512 3280544 3280576 3280608 3280640 3280672 3280704\n",
      " 3280736 3280768 3280800 3280832 3280864]\n"
     ]
    },
    {
     "data": {
      "text/plain": [
       "Text(0, 0.5, 'FrameID increment')"
      ]
     },
     "execution_count": 20,
     "metadata": {},
     "output_type": "execute_result"
    },
    {
     "data": {
      "image/png": "[encoded data removed]",
      "text/plain": [
       "<Figure size 432x288 with 1 Axes>"
      ]
     },
     "metadata": {
      "needs_background": "light"
     },
     "output_type": "display_data"
    }
   ],
   "source": [
    "fid = packets['frame_id']\n",
    "fdiff = fid[1:] - fid[0:-1]\n",
    "off = 32*93\n",
    "plot(fdiff[off:31+off])\n",
    "print(fdiff[off:31+off])\n",
    "print(fid[off:32+off])\n",
    "xlabel('packet')\n",
    "ylabel('FrameID increment')\n"
   ]
  },
  {
   "cell_type": "code",
   "execution_count": 24,
   "id": "b0a5a4c5",
   "metadata": {
    "scrolled": true
   },
   "outputs": [
    {
     "data": {
      "text/plain": [
       "Text(0, 0.5, 'Message')"
      ]
     },
     "execution_count": 24,
     "metadata": {},
     "output_type": "execute_result"
    },
    {
     "data": {
      "image/png": "[encoded data removed]",
      "text/plain": [
       "<Figure size 432x288 with 1 Axes>"
      ]
     },
     "metadata": {
      "needs_background": "light"
     },
     "output_type": "display_data"
    }
   ],
   "source": [
    "fdiff = fid[1:] - fid[0:-1]\n",
    "off = 32*30\n",
    "fr = fdiff[:32*128].reshape(-1,32)\n",
    "imshow(fr[:,:-1], aspect='auto', origin='lower', interpolation='none')\n",
    "xlabel('Frame ID increment')\n",
    "ylabel('Message')\n",
    "#gcf().set_size_inches((12,10))"
   ]
  },
  {
   "cell_type": "code",
   "execution_count": 25,
   "id": "566f59fa",
   "metadata": {},
   "outputs": [
    {
     "data": {
      "text/plain": [
       "Text(0, 0.5, 'bat')"
      ]
     },
     "execution_count": 25,
     "metadata": {},
     "output_type": "execute_result"
    },
    {
     "data": {
      "image/png": "[encoded data removed]",
      "text/plain": [
       "<Figure size 432x288 with 1 Axes>"
      ]
     },
     "metadata": {
      "needs_background": "light"
     },
     "output_type": "display_data"
    }
   ],
   "source": [
    "plot(packets['bat'])\n",
    "xlabel('packet')\n",
    "ylabel('bat')"
   ]
  },
  {
   "cell_type": "code",
   "execution_count": 26,
   "id": "d964f52b",
   "metadata": {},
   "outputs": [
    {
     "data": {
      "text/plain": [
       "Text(0, 0.5, 'BAT increment')"
      ]
     },
     "execution_count": 26,
     "metadata": {},
     "output_type": "execute_result"
    },
    {
     "data": {
      "image/png": "[encoded data removed]",
      "text/plain": [
       "<Figure size 432x288 with 1 Axes>"
      ]
     },
     "metadata": {
      "needs_background": "light"
     },
     "output_type": "display_data"
    }
   ],
   "source": [
    "bat = packets['bat']\n",
    "batdiff = bat[1:] - bat[:-1]\n",
    "plot(batdiff[:])\n",
    "xlabel('packet')\n",
    "ylabel('BAT increment')"
   ]
  },
  {
   "cell_type": "code",
   "execution_count": 27,
   "id": "678d3c38",
   "metadata": {},
   "outputs": [
    {
     "data": {
      "text/plain": [
       "[<matplotlib.lines.Line2D at 0x7f7db81c4390>]"
      ]
     },
     "execution_count": 27,
     "metadata": {},
     "output_type": "execute_result"
    },
    {
     "data": {
      "image/png": "[encoded data removed]",
      "text/plain": [
       "<Figure size 432x288 with 1 Axes>"
      ]
     },
     "metadata": {
      "needs_background": "light"
     },
     "output_type": "display_data"
    }
   ],
   "source": [
    "plot(packets['flags'][:npackets_per_frame])\n"
   ]
  },
  {
   "cell_type": "code",
   "execution_count": 28,
   "id": "9b4f9a98",
   "metadata": {},
   "outputs": [
    {
     "data": {
      "text/plain": [
       "3752"
      ]
     },
     "execution_count": 28,
     "metadata": {},
     "output_type": "execute_result"
    }
   ],
   "source": [
    "dtype.itemsize"
   ]
  },
  {
   "cell_type": "code",
   "execution_count": 29,
   "id": "8ab94655",
   "metadata": {},
   "outputs": [
    {
     "data": {
      "text/plain": [
       "3748"
      ]
     },
     "execution_count": 29,
     "metadata": {},
     "output_type": "execute_result"
    }
   ],
   "source": [
    "32+929*4"
   ]
  },
  {
   "cell_type": "code",
   "execution_count": 30,
   "id": "a422d6e0",
   "metadata": {},
   "outputs": [
    {
     "data": {
      "text/plain": [
       "dtype([('frame_id', '<u8'), ('bat', '<u8'), ('beam_number', 'u1'), ('sample_number', 'u1'), ('channel_number', 'u1'), ('fpga_id', 'u1'), ('nprod', '<u2'), ('flags', 'u1'), ('zero1', 'u1'), ('version', '<u4'), ('zero3', '<u4'), ('data', '<i2', (930, 2))])"
      ]
     },
     "execution_count": 30,
     "metadata": {},
     "output_type": "execute_result"
    }
   ],
   "source": [
    "dtype"
   ]
  },
  {
   "cell_type": "code",
   "execution_count": 31,
   "id": "3088590d",
   "metadata": {},
   "outputs": [
    {
     "data": {
      "text/plain": [
       "Text(0, 0.5, 'beam_number')"
      ]
     },
     "execution_count": 31,
     "metadata": {},
     "output_type": "execute_result"
    },
    {
     "data": {
      "image/png": "[encoded data removed]",
      "text/plain": [
       "<Figure size 432x288 with 1 Axes>"
      ]
     },
     "metadata": {
      "needs_background": "light"
     },
     "output_type": "display_data"
    }
   ],
   "source": [
    "plot(packets['beam_number'][:npackets_per_frame])\n",
    "xlabel('packet')\n",
    "ylabel('beam_number')"
   ]
  },
  {
   "cell_type": "code",
   "execution_count": 32,
   "id": "98e668d9",
   "metadata": {},
   "outputs": [
    {
     "name": "stdout",
     "output_type": "stream",
     "text": [
      "[ 0  1  2  3  4  5  6  7  8  9 10 11 12 13 14 15]\n",
      "[16 17 18 19 20 21 22 23 24 25 26 27 28 29 30 31]\n",
      "[32 33 34 35 36 37 38 39 40 41 42 43 44 45 46 47]\n"
     ]
    },
    {
     "data": {
      "image/png": "[encoded data removed]",
      "text/plain": [
       "<Figure size 432x288 with 1 Axes>"
      ]
     },
     "metadata": {
      "needs_background": "light"
     },
     "output_type": "display_data"
    }
   ],
   "source": [
    "plot(packets['sample_number'][:npackets_per_frame//16],'x')\n",
    "xlabel('Packet')\n",
    "ylabel('Sample number')\n",
    "print(packets['sample_number'][:16])\n",
    "print(packets['sample_number'][16:32])\n",
    "print(packets['sample_number'][32:48])"
   ]
  },
  {
   "cell_type": "code",
   "execution_count": 33,
   "id": "40ae8d4e",
   "metadata": {},
   "outputs": [
    {
     "data": {
      "text/plain": [
       "Text(0, 0.5, 'channel_number')"
      ]
     },
     "execution_count": 33,
     "metadata": {},
     "output_type": "execute_result"
    },
    {
     "data": {
      "image/png": "[encoded data removed]",
      "text/plain": [
       "<Figure size 432x288 with 1 Axes>"
      ]
     },
     "metadata": {
      "needs_background": "light"
     },
     "output_type": "display_data"
    }
   ],
   "source": [
    "plot(packets['channel_number'])\n",
    "xlabel('packet')\n",
    "ylabel('channel_number')"
   ]
  },
  {
   "cell_type": "code",
   "execution_count": 34,
   "id": "9e02c125",
   "metadata": {},
   "outputs": [
    {
     "data": {
      "text/plain": [
       "[<matplotlib.lines.Line2D at 0x7f7db7ffb780>]"
      ]
     },
     "execution_count": 34,
     "metadata": {},
     "output_type": "execute_result"
    },
    {
     "data": {
      "image/png": "[encoded data removed]",
      "text/plain": [
       "<Figure size 432x288 with 1 Axes>"
      ]
     },
     "metadata": {
      "needs_background": "light"
     },
     "output_type": "display_data"
    }
   ],
   "source": [
    "plot(packets['nprod'])"
   ]
  },
  {
   "cell_type": "code",
   "execution_count": 35,
   "id": "8f749905",
   "metadata": {},
   "outputs": [
    {
     "data": {
      "text/plain": [
       "(10413, 930, 2)"
      ]
     },
     "execution_count": 35,
     "metadata": {},
     "output_type": "execute_result"
    }
   ],
   "source": [
    "packets['data'].shape"
   ]
  },
  {
   "cell_type": "code",
   "execution_count": 36,
   "id": "790f1120",
   "metadata": {},
   "outputs": [
    {
     "data": {
      "text/plain": [
       "Text(0, 0.5, 'sample (beam/channel/time)')"
      ]
     },
     "execution_count": 36,
     "metadata": {},
     "output_type": "execute_result"
    },
    {
     "data": {
      "image/png": "[encoded data removed]",
      "text/plain": [
       "<Figure size 864x720 with 1 Axes>"
      ]
     },
     "metadata": {
      "needs_background": "light"
     },
     "output_type": "display_data"
    }
   ],
   "source": [
    "imshow(packets['data'][:256,:256,0], origin='lower', aspect='auto')\n",
    "gcf().set_size_inches([12,10])\n",
    "xlabel('product')\n",
    "ylabel('sample (beam/channel/time)')\n"
   ]
  },
  {
   "cell_type": "code",
   "execution_count": 37,
   "id": "771e92bd",
   "metadata": {
    "scrolled": true
   },
   "outputs": [
    {
     "name": "stdout",
     "output_type": "stream",
     "text": [
      "Things with nonzero real part 926\n",
      "Things with nonzero imaginary part 0\n"
     ]
    },
    {
     "data": {
      "image/png": "[encoded data removed]",
      "text/plain": [
       "<Figure size 432x288 with 1 Axes>"
      ]
     },
     "metadata": {
      "needs_background": "light"
     },
     "output_type": "display_data"
    }
   ],
   "source": [
    "plot(packets['data'][0,:,0],'x')\n",
    "print('Things with nonzero real part', np.sum(packets['data'][0,:,0]!=0))\n",
    "print('Things with nonzero imaginary part', np.sum(packets['data'][0,:,1]!=0))\n",
    "# antennas 4,5,6\n",
    "# 1-1, 1-2, 1-3"
   ]
  },
  {
   "cell_type": "code",
   "execution_count": null,
   "id": "c5c3861c",
   "metadata": {},
   "outputs": [],
   "source": [
    "dtype"
   ]
  },
  {
   "cell_type": "code",
   "execution_count": null,
   "id": "bf6623bc",
   "metadata": {},
   "outputs": [],
   "source": [
    "np.where(packets['data'][0,:,0]!=0)[0]"
   ]
  },
  {
   "cell_type": "code",
   "execution_count": null,
   "id": "015c106a",
   "metadata": {},
   "outputs": [],
   "source": [
    "imag_idxs = np.where(packets['data'][0,:,1]!=0)[0]\n",
    "print(imag_idxs)"
   ]
  },
  {
   "cell_type": "code",
   "execution_count": 13,
   "id": "bb79e08b",
   "metadata": {},
   "outputs": [
    {
     "name": "stdout",
     "output_type": "stream",
     "text": [
      "0 (1, 1)\n",
      "1 (1, 2)\n",
      "2 (1, 3)\n",
      "34 (1, 35)\n",
      "35 (1, 36)\n",
      "36 (2, 2)\n",
      "37 (2, 3)\n",
      "38 (2, 4)\n",
      "69 (2, 35)\n",
      "70 (2, 36)\n",
      "71 (3, 3)\n",
      "72 (3, 4)\n",
      "103 (3, 35)\n",
      "104 (3, 36)\n",
      "665 (36, 36)\n"
     ]
    }
   ],
   "source": [
    "nant = 36\n",
    "addr = 0\n",
    "addrmap = {}\n",
    "for a1 in range(nant):\n",
    "    for a2 in range(a1, nant):\n",
    "        addrmap[addr] = (a1+1, a2+1)\n",
    "        addr += 1\n",
    "        \n",
    "    \n",
    "check_addr = [0,1,2,34,35,36,37,38,69,70,71,72,103,104,665]\n",
    "for addr in check_addr:\n",
    "    print(addr, addrmap[addr])\n",
    "\n"
   ]
  },
  {
   "cell_type": "code",
   "execution_count": 9,
   "id": "bc9bfa6d",
   "metadata": {},
   "outputs": [
    {
     "name": "stdout",
     "output_type": "stream",
     "text": [
      "0 (1, 1)\n",
      "1 (1, 2)\n",
      "2 (1, 3)\n",
      "3 (1, 4)\n",
      "4 (1, 5)\n",
      "5 (1, 6)\n",
      "6 (1, 7)\n",
      "7 (1, 8)\n",
      "8 (1, 9)\n",
      "9 (1, 10)\n",
      "10 (1, 11)\n",
      "11 (1, 12)\n",
      "12 (1, 13)\n",
      "13 (1, 14)\n",
      "14 (1, 15)\n",
      "15 (1, 16)\n",
      "16 (1, 17)\n",
      "17 (1, 18)\n",
      "18 (1, 19)\n",
      "19 (1, 20)\n",
      "20 (1, 21)\n",
      "21 (1, 22)\n",
      "22 (1, 23)\n",
      "23 (1, 24)\n",
      "24 (1, 25)\n",
      "25 (1, 26)\n",
      "26 (1, 27)\n",
      "27 (1, 28)\n",
      "28 (1, 29)\n",
      "29 (1, 30)\n",
      "30 (2, 2)\n",
      "31 (2, 3)\n",
      "32 (2, 4)\n",
      "33 (2, 5)\n",
      "34 (2, 6)\n",
      "35 (2, 7)\n",
      "36 (2, 8)\n",
      "37 (2, 9)\n",
      "38 (2, 10)\n",
      "39 (2, 11)\n",
      "40 (2, 12)\n",
      "41 (2, 13)\n",
      "42 (2, 14)\n",
      "43 (2, 15)\n",
      "44 (2, 16)\n",
      "45 (2, 17)\n",
      "46 (2, 18)\n",
      "47 (2, 19)\n",
      "48 (2, 20)\n",
      "49 (2, 21)\n",
      "50 (2, 22)\n",
      "51 (2, 23)\n",
      "52 (2, 24)\n",
      "53 (2, 25)\n",
      "54 (2, 26)\n",
      "55 (2, 27)\n",
      "56 (2, 28)\n",
      "57 (2, 29)\n",
      "58 (2, 30)\n",
      "59 (3, 3)\n",
      "60 (3, 4)\n",
      "61 (3, 5)\n",
      "62 (3, 6)\n",
      "63 (3, 7)\n",
      "64 (3, 8)\n",
      "65 (3, 9)\n",
      "66 (3, 10)\n",
      "67 (3, 11)\n",
      "68 (3, 12)\n",
      "69 (3, 13)\n",
      "70 (3, 14)\n",
      "71 (3, 15)\n",
      "72 (3, 16)\n",
      "73 (3, 17)\n",
      "74 (3, 18)\n",
      "75 (3, 19)\n",
      "76 (3, 20)\n",
      "77 (3, 21)\n",
      "78 (3, 22)\n",
      "79 (3, 23)\n",
      "80 (3, 24)\n",
      "81 (3, 25)\n",
      "82 (3, 26)\n",
      "83 (3, 27)\n",
      "84 (3, 28)\n",
      "85 (3, 29)\n",
      "86 (3, 30)\n",
      "87 (4, 4)\n",
      "88 (4, 5)\n",
      "89 (4, 6)\n",
      "90 (4, 7)\n",
      "91 (4, 8)\n",
      "92 (4, 9)\n",
      "93 (4, 10)\n",
      "94 (4, 11)\n",
      "95 (4, 12)\n",
      "96 (4, 13)\n",
      "97 (4, 14)\n",
      "98 (4, 15)\n",
      "99 (4, 16)\n",
      "100 (4, 17)\n",
      "101 (4, 18)\n",
      "102 (4, 19)\n",
      "103 (4, 20)\n",
      "104 (4, 21)\n",
      "105 (4, 22)\n",
      "106 (4, 23)\n",
      "107 (4, 24)\n",
      "108 (4, 25)\n",
      "109 (4, 26)\n",
      "110 (4, 27)\n",
      "111 (4, 28)\n",
      "112 (4, 29)\n",
      "113 (4, 30)\n",
      "114 (5, 5)\n",
      "115 (5, 6)\n",
      "116 (5, 7)\n",
      "117 (5, 8)\n",
      "118 (5, 9)\n",
      "119 (5, 10)\n",
      "120 (5, 11)\n",
      "121 (5, 12)\n",
      "122 (5, 13)\n",
      "123 (5, 14)\n",
      "124 (5, 15)\n",
      "125 (5, 16)\n",
      "126 (5, 17)\n",
      "127 (5, 18)\n",
      "128 (5, 19)\n",
      "129 (5, 20)\n",
      "130 (5, 21)\n",
      "131 (5, 22)\n",
      "132 (5, 23)\n",
      "133 (5, 24)\n",
      "134 (5, 25)\n",
      "135 (5, 26)\n",
      "136 (5, 27)\n",
      "137 (5, 28)\n",
      "138 (5, 29)\n",
      "139 (5, 30)\n",
      "140 (6, 6)\n",
      "141 (6, 7)\n",
      "142 (6, 8)\n",
      "143 (6, 9)\n",
      "144 (6, 10)\n",
      "145 (6, 11)\n",
      "146 (6, 12)\n",
      "147 (6, 13)\n",
      "148 (6, 14)\n",
      "149 (6, 15)\n",
      "150 (6, 16)\n",
      "151 (6, 17)\n",
      "152 (6, 18)\n",
      "153 (6, 19)\n",
      "154 (6, 20)\n",
      "155 (6, 21)\n",
      "156 (6, 22)\n",
      "157 (6, 23)\n",
      "158 (6, 24)\n",
      "159 (6, 25)\n",
      "160 (6, 26)\n",
      "161 (6, 27)\n",
      "162 (6, 28)\n",
      "163 (6, 29)\n",
      "164 (6, 30)\n",
      "165 (7, 7)\n",
      "166 (7, 8)\n",
      "167 (7, 9)\n",
      "168 (7, 10)\n",
      "169 (7, 11)\n",
      "170 (7, 12)\n",
      "171 (7, 13)\n",
      "172 (7, 14)\n",
      "173 (7, 15)\n",
      "174 (7, 16)\n",
      "175 (7, 17)\n",
      "176 (7, 18)\n",
      "177 (7, 19)\n",
      "178 (7, 20)\n",
      "179 (7, 21)\n",
      "180 (7, 22)\n",
      "181 (7, 23)\n",
      "182 (7, 24)\n",
      "183 (7, 25)\n",
      "184 (7, 26)\n",
      "185 (7, 27)\n",
      "186 (7, 28)\n",
      "187 (7, 29)\n",
      "188 (7, 30)\n",
      "189 (8, 8)\n",
      "190 (8, 9)\n",
      "191 (8, 10)\n",
      "192 (8, 11)\n",
      "193 (8, 12)\n",
      "194 (8, 13)\n",
      "195 (8, 14)\n",
      "196 (8, 15)\n",
      "197 (8, 16)\n",
      "198 (8, 17)\n",
      "199 (8, 18)\n",
      "200 (8, 19)\n",
      "201 (8, 20)\n",
      "202 (8, 21)\n",
      "203 (8, 22)\n",
      "204 (8, 23)\n",
      "205 (8, 24)\n",
      "206 (8, 25)\n",
      "207 (8, 26)\n",
      "208 (8, 27)\n",
      "209 (8, 28)\n",
      "210 (8, 29)\n",
      "211 (8, 30)\n",
      "212 (9, 9)\n",
      "213 (9, 10)\n",
      "214 (9, 11)\n",
      "215 (9, 12)\n",
      "216 (9, 13)\n",
      "217 (9, 14)\n",
      "218 (9, 15)\n",
      "219 (9, 16)\n",
      "220 (9, 17)\n",
      "221 (9, 18)\n",
      "222 (9, 19)\n",
      "223 (9, 20)\n",
      "224 (9, 21)\n",
      "225 (9, 22)\n",
      "226 (9, 23)\n",
      "227 (9, 24)\n",
      "228 (9, 25)\n",
      "229 (9, 26)\n",
      "230 (9, 27)\n",
      "231 (9, 28)\n",
      "232 (9, 29)\n",
      "233 (9, 30)\n",
      "234 (10, 10)\n",
      "235 (10, 11)\n",
      "236 (10, 12)\n",
      "237 (10, 13)\n",
      "238 (10, 14)\n",
      "239 (10, 15)\n",
      "240 (10, 16)\n",
      "241 (10, 17)\n",
      "242 (10, 18)\n",
      "243 (10, 19)\n",
      "244 (10, 20)\n",
      "245 (10, 21)\n",
      "246 (10, 22)\n",
      "247 (10, 23)\n",
      "248 (10, 24)\n",
      "249 (10, 25)\n",
      "250 (10, 26)\n",
      "251 (10, 27)\n",
      "252 (10, 28)\n",
      "253 (10, 29)\n",
      "254 (10, 30)\n",
      "255 (11, 11)\n",
      "256 (11, 12)\n",
      "257 (11, 13)\n",
      "258 (11, 14)\n",
      "259 (11, 15)\n",
      "260 (11, 16)\n",
      "261 (11, 17)\n",
      "262 (11, 18)\n",
      "263 (11, 19)\n",
      "264 (11, 20)\n",
      "265 (11, 21)\n",
      "266 (11, 22)\n",
      "267 (11, 23)\n",
      "268 (11, 24)\n",
      "269 (11, 25)\n",
      "270 (11, 26)\n",
      "271 (11, 27)\n",
      "272 (11, 28)\n",
      "273 (11, 29)\n",
      "274 (11, 30)\n",
      "275 (12, 12)\n",
      "276 (12, 13)\n",
      "277 (12, 14)\n",
      "278 (12, 15)\n",
      "279 (12, 16)\n",
      "280 (12, 17)\n",
      "281 (12, 18)\n",
      "282 (12, 19)\n",
      "283 (12, 20)\n",
      "284 (12, 21)\n",
      "285 (12, 22)\n",
      "286 (12, 23)\n",
      "287 (12, 24)\n",
      "288 (12, 25)\n",
      "289 (12, 26)\n",
      "290 (12, 27)\n",
      "291 (12, 28)\n",
      "292 (12, 29)\n",
      "293 (12, 30)\n",
      "294 (13, 13)\n",
      "295 (13, 14)\n",
      "296 (13, 15)\n",
      "297 (13, 16)\n",
      "298 (13, 17)\n",
      "299 (13, 18)\n",
      "300 (13, 19)\n",
      "301 (13, 20)\n",
      "302 (13, 21)\n",
      "303 (13, 22)\n",
      "304 (13, 23)\n",
      "305 (13, 24)\n",
      "306 (13, 25)\n",
      "307 (13, 26)\n",
      "308 (13, 27)\n",
      "309 (13, 28)\n",
      "310 (13, 29)\n",
      "311 (13, 30)\n",
      "312 (14, 14)\n",
      "313 (14, 15)\n",
      "314 (14, 16)\n",
      "315 (14, 17)\n",
      "316 (14, 18)\n",
      "317 (14, 19)\n",
      "318 (14, 20)\n",
      "319 (14, 21)\n",
      "320 (14, 22)\n",
      "321 (14, 23)\n",
      "322 (14, 24)\n",
      "323 (14, 25)\n",
      "324 (14, 26)\n",
      "325 (14, 27)\n",
      "326 (14, 28)\n",
      "327 (14, 29)\n",
      "328 (14, 30)\n",
      "329 (15, 15)\n",
      "330 (15, 16)\n",
      "331 (15, 17)\n",
      "332 (15, 18)\n",
      "333 (15, 19)\n",
      "334 (15, 20)\n",
      "335 (15, 21)\n",
      "336 (15, 22)\n",
      "337 (15, 23)\n",
      "338 (15, 24)\n",
      "339 (15, 25)\n",
      "340 (15, 26)\n",
      "341 (15, 27)\n",
      "342 (15, 28)\n",
      "343 (15, 29)\n",
      "344 (15, 30)\n",
      "345 (16, 16)\n",
      "346 (16, 17)\n",
      "347 (16, 18)\n",
      "348 (16, 19)\n",
      "349 (16, 20)\n",
      "350 (16, 21)\n",
      "351 (16, 22)\n",
      "352 (16, 23)\n",
      "353 (16, 24)\n",
      "354 (16, 25)\n",
      "355 (16, 26)\n",
      "356 (16, 27)\n",
      "357 (16, 28)\n",
      "358 (16, 29)\n",
      "359 (16, 30)\n",
      "360 (17, 17)\n",
      "361 (17, 18)\n",
      "362 (17, 19)\n",
      "363 (17, 20)\n",
      "364 (17, 21)\n",
      "365 (17, 22)\n",
      "366 (17, 23)\n",
      "367 (17, 24)\n",
      "368 (17, 25)\n",
      "369 (17, 26)\n",
      "370 (17, 27)\n",
      "371 (17, 28)\n",
      "372 (17, 29)\n",
      "373 (17, 30)\n",
      "374 (18, 18)\n",
      "375 (18, 19)\n",
      "376 (18, 20)\n",
      "377 (18, 21)\n",
      "378 (18, 22)\n",
      "379 (18, 23)\n",
      "380 (18, 24)\n",
      "381 (18, 25)\n",
      "382 (18, 26)\n",
      "383 (18, 27)\n",
      "384 (18, 28)\n",
      "385 (18, 29)\n",
      "386 (18, 30)\n",
      "387 (19, 19)\n",
      "388 (19, 20)\n",
      "389 (19, 21)\n",
      "390 (19, 22)\n",
      "391 (19, 23)\n",
      "392 (19, 24)\n",
      "393 (19, 25)\n",
      "394 (19, 26)\n",
      "395 (19, 27)\n",
      "396 (19, 28)\n",
      "397 (19, 29)\n",
      "398 (19, 30)\n",
      "399 (20, 20)\n",
      "400 (20, 21)\n",
      "401 (20, 22)\n",
      "402 (20, 23)\n",
      "403 (20, 24)\n",
      "404 (20, 25)\n",
      "405 (20, 26)\n",
      "406 (20, 27)\n",
      "407 (20, 28)\n",
      "408 (20, 29)\n",
      "409 (20, 30)\n",
      "410 (21, 21)\n",
      "411 (21, 22)\n",
      "412 (21, 23)\n",
      "413 (21, 24)\n",
      "414 (21, 25)\n",
      "415 (21, 26)\n",
      "416 (21, 27)\n",
      "417 (21, 28)\n",
      "418 (21, 29)\n",
      "419 (21, 30)\n",
      "420 (22, 22)\n",
      "421 (22, 23)\n",
      "422 (22, 24)\n",
      "423 (22, 25)\n",
      "424 (22, 26)\n",
      "425 (22, 27)\n",
      "426 (22, 28)\n",
      "427 (22, 29)\n",
      "428 (22, 30)\n",
      "429 (23, 23)\n",
      "430 (23, 24)\n",
      "431 (23, 25)\n",
      "432 (23, 26)\n",
      "433 (23, 27)\n",
      "434 (23, 28)\n",
      "435 (23, 29)\n",
      "436 (23, 30)\n",
      "437 (24, 24)\n",
      "438 (24, 25)\n",
      "439 (24, 26)\n",
      "440 (24, 27)\n",
      "441 (24, 28)\n",
      "442 (24, 29)\n",
      "443 (24, 30)\n",
      "444 (25, 25)\n",
      "445 (25, 26)\n",
      "446 (25, 27)\n",
      "447 (25, 28)\n",
      "448 (25, 29)\n",
      "449 (25, 30)\n",
      "450 (26, 26)\n",
      "451 (26, 27)\n",
      "452 (26, 28)\n",
      "453 (26, 29)\n",
      "454 (26, 30)\n",
      "455 (27, 27)\n",
      "456 (27, 28)\n",
      "457 (27, 29)\n",
      "458 (27, 30)\n",
      "459 (28, 28)\n",
      "460 (28, 29)\n",
      "461 (28, 30)\n",
      "462 (29, 29)\n",
      "463 (29, 30)\n",
      "464 (30, 30)\n",
      "465\n"
     ]
    },
    {
     "ename": "NameError",
     "evalue": "name 'preal' is not defined",
     "output_type": "error",
     "traceback": [
      "\u001b[0;31m---------------------------------------------------------------------------\u001b[0m",
      "\u001b[0;31mNameError\u001b[0m                                 Traceback (most recent call last)",
      "\u001b[0;32m<ipython-input-9-85506b930d34>\u001b[0m in \u001b[0;36m<module>\u001b[0;34m\u001b[0m\n\u001b[1;32m     13\u001b[0m \u001b[0mprint\u001b[0m\u001b[0;34m(\u001b[0m\u001b[0mlen\u001b[0m\u001b[0;34m(\u001b[0m\u001b[0maddrmap\u001b[0m\u001b[0;34m)\u001b[0m\u001b[0;34m)\u001b[0m\u001b[0;34m\u001b[0m\u001b[0;34m\u001b[0m\u001b[0m\n\u001b[1;32m     14\u001b[0m \u001b[0;34m\u001b[0m\u001b[0m\n\u001b[0;32m---> 15\u001b[0;31m \u001b[0mprint\u001b[0m\u001b[0;34m(\u001b[0m\u001b[0mnp\u001b[0m\u001b[0;34m.\u001b[0m\u001b[0munique\u001b[0m\u001b[0;34m(\u001b[0m\u001b[0mpreal\u001b[0m\u001b[0;34m)\u001b[0m\u001b[0;34m)\u001b[0m\u001b[0;34m\u001b[0m\u001b[0;34m\u001b[0m\u001b[0m\n\u001b[0m\u001b[1;32m     16\u001b[0m \u001b[0;34m\u001b[0m\u001b[0m\n\u001b[1;32m     17\u001b[0m \"\"\"\n",
      "\u001b[0;31mNameError\u001b[0m: name 'preal' is not defined"
     ]
    }
   ],
   "source": [
    "preal = packets['data'][0,:,0]\n",
    "pimag = packets['data'][0,:,1]\n",
    "\n",
    "\n",
    "print(np.unique(preal))\n",
    "        \n",
    "\"\"\"\n",
    "-23702 1\n",
    "-20092 2\n",
    "-19736 1\n",
    "-16912 1\n",
    "-15480 1\n",
    "-13932 1\n",
    "-13722 2\n",
    "\"\"\"\n",
    "for addr in np.where(preal!=0)[0]:\n",
    "    if addr > len(addrmap):\n",
    "        pol = \"pol 2\"\n",
    "        bladdr = addr - len(addrmap)\n",
    "    else: \n",
    "        pol = \"pol 1\"\n",
    "        bladdr = addr\n",
    "        \n",
    "    print(f'RAM address={addr} pol={pol} baseline={addrmap[bladdr]} real={preal[addr]} imag={pimag[addr]}')"
   ]
  },
  {
   "cell_type": "code",
   "execution_count": null,
   "id": "00cdfbd6",
   "metadata": {},
   "outputs": [],
   "source": [
    "preal.shape"
   ]
  },
  {
   "cell_type": "code",
   "execution_count": null,
   "id": "ed4544b9",
   "metadata": {},
   "outputs": [],
   "source": [
    "addrmap[7]"
   ]
  },
  {
   "cell_type": "code",
   "execution_count": null,
   "id": "cb239b4a",
   "metadata": {},
   "outputs": [],
   "source": [
    "plot(packets['data'][:36*4*2,7,0])\n",
    "gcf().set_size_inches((12,10))"
   ]
  },
  {
   "cell_type": "code",
   "execution_count": null,
   "id": "3b93a449",
   "metadata": {},
   "outputs": [],
   "source": [
    "v = packets['data'][:64*36*4,7,0].reshape(-1,32)"
   ]
  },
  {
   "cell_type": "code",
   "execution_count": null,
   "id": "488c2360",
   "metadata": {},
   "outputs": [],
   "source": [
    "imshow(v, aspect='auto', origin='lower', interpolation='none')\n",
    "gcf().set_size_inches((10,12))\n",
    "xlabel('Integration number')\n",
    "ylabel('Channel / beam / frame')"
   ]
  },
  {
   "cell_type": "code",
   "execution_count": null,
   "id": "2b37ce1c",
   "metadata": {},
   "outputs": [],
   "source": [
    "np.all(packets['zero2'] == 2004071455)"
   ]
  },
  {
   "cell_type": "code",
   "execution_count": null,
   "id": "6a40c81c",
   "metadata": {},
   "outputs": [],
   "source": [
    "\n",
    "hist(preal[preal!=0], bins=1000)\n",
    "print(len(np.unique(preal)))\n",
    "print(np.unique(preal))\n",
    "sum(preal!=0)\n"
   ]
  },
  {
   "cell_type": "code",
   "execution_count": null,
   "id": "a0537a76",
   "metadata": {},
   "outputs": [],
   "source": [
    "for v in np.unique(preal):\n",
    "    print(v, sum(preal==v))\n",
    "    \n"
   ]
  },
  {
   "cell_type": "code",
   "execution_count": null,
   "id": "7ae1c8b1",
   "metadata": {},
   "outputs": [],
   "source": []
  }
 ],
 "metadata": {
  "kernelspec": {
   "display_name": "venv",
   "language": "python",
   "name": "venv"
  },
  "language_info": {
   "codemirror_mode": {
    "name": "ipython",
    "version": 3
   },
   "file_extension": ".py",
   "mimetype": "text/x-python",
   "name": "python",
   "nbconvert_exporter": "python",
   "pygments_lexer": "ipython3",
   "version": "3.6.9"
  }
 },
 "nbformat": 4,
 "nbformat_minor": 5
}
